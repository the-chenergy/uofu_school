{
 "cells": [
  {
   "cell_type": "markdown",
   "metadata": {
    "id": "VSua_251cL-w"
   },
   "source": [
    "# Please look for your MT-2 questions below\n",
    "\n",
    "## Points below add up to 100% that will be scaled to 75%\n",
    "\n",
    "# Q1: On Regular Languages and a PL proof\n",
    "## * Part 1.1 and 1.2 (15% each)\n",
    "\n",
    "# Q2: Dynamic-programming based DFA Minimization\n",
    "## * Parts 2.1 and 2.2 (15% and 10% respectively)\n",
    "\n",
    "# Q3: A problem concerning CFG\n",
    "## * Parts 3.1 and 3.2 (15% each)\n",
    "\n",
    "# Q4: Develop a CFG for language L2 of Q1\n",
    "## * Only one part (15%)\n",
    "\n",
    "\n",
    "## Your answers are expected in the space following/around the arrows ==> .. <== below"
   ]
  },
  {
   "cell_type": "code",
   "execution_count": null,
   "metadata": {
    "colab": {
     "base_uri": "https://localhost:8080/"
    },
    "id": "xX3C-9HycL-y",
    "outputId": "9f0ff10e-01bb-4a68-9d33-ba4674d345e1",
    "run_control": {
     "frozen": false,
     "read_only": false
    },
    "scrolled": true
   },
   "outputs": [
    {
     "name": "stdout",
     "output_type": "stream",
     "text": [
      "Cloning into 'Jove'...\n",
      "remote: Enumerating objects: 88, done.\u001b[K\n",
      "remote: Counting objects: 100% (88/88), done.\u001b[K\n",
      "remote: Compressing objects: 100% (72/72), done.\u001b[K\n",
      "remote: Total 4417 (delta 40), reused 59 (delta 14), pack-reused 4329\u001b[K\n",
      "Receiving objects: 100% (4417/4417), 7.36 MiB | 9.58 MiB/s, done.\n",
      "Resolving deltas: 100% (2854/2854), done.\n",
      "You may use any of these help commands:\n",
      "help(ResetStNum)\n",
      "help(NxtStateStr)\n",
      "\n",
      "You may use any of these help commands:\n",
      "help(md2mc)\n",
      ".. and if you want to dig more, then ..\n",
      "help(default_line_attr)\n",
      "help(length_ok_input_items)\n",
      "help(union_line_attr_list_fld)\n",
      "help(extend_rsltdict)\n",
      "help(form_delta)\n",
      "help(get_machine_components)\n",
      "\n",
      "You may use any of these help commands:\n",
      "help(mkp_dfa)\n",
      "help(mk_dfa)\n",
      "help(totalize_dfa)\n",
      "help(addtosigma_delta)\n",
      "help(step_dfa)\n",
      "help(run_dfa)\n",
      "help(accepts_dfa)\n",
      "help(comp_dfa)\n",
      "help(union_dfa)\n",
      "help(intersect_dfa)\n",
      "help(pruneUnreach)\n",
      "help(iso_dfa)\n",
      "help(langeq_dfa)\n",
      "help(same_status)\n",
      "help(h_langeq_dfa)\n",
      "help(fixptDist)\n",
      "help(min_dfa)\n",
      "help(pairFR)\n",
      "help(state_combos)\n",
      "help(sepFinNonFin)\n",
      "help(bash_eql_classes)\n",
      "help(listminus)\n",
      "help(bash_1)\n",
      "help(mk_rep_eqc)\n",
      "help(F_of)\n",
      "help(rep_of_s)\n",
      "help(q0_of)\n",
      "help(Delta_of)\n",
      "help(mk_state_eqc_name)\n",
      "\n",
      "You may use any of these help commands:\n",
      "help(mk_nfa)\n",
      "help(totalize_nfa)\n",
      "help(step_nfa)\n",
      "help(run_nfa)\n",
      "help(ec_step_nfa)\n",
      "help(Eclosure)\n",
      "help(Echelp)\n",
      "help(accepts_nfa)\n",
      "help(nfa2dfa)\n",
      "help(n2d)\n",
      "help(inSets)\n",
      "help(rev_dfa)\n",
      "help(min_dfa_brz)\n",
      "\n",
      "You may use any of these help commands:\n",
      "help(lphi)\n",
      "help(lunit)\n",
      "help(lcat)\n",
      "help(lexp)\n",
      "help(lunion)\n",
      "help(lstar)\n",
      "help(srev)\n",
      "help(lrev)\n",
      "help(shomo)\n",
      "help(lhomo)\n",
      "help(powset)\n",
      "help(lint)\n",
      "help(lsymdiff)\n",
      "help(lminus)\n",
      "help(lissubset)\n",
      "help(lissuperset)\n",
      "help(lcomplem)\n",
      "help(product)\n",
      "help(nthnumeric)\n",
      "\n",
      "You may use any of these help commands:\n",
      "help(re2nfa)\n",
      "\n",
      "You may use any of these help commands:\n",
      "help(explore_pda)\n",
      "help(run_pda)\n",
      "help(classify_l_id_path)\n",
      "help(h_run_pda)\n",
      "help(interpret_w_eps)\n",
      "help(step_pda)\n",
      "help(suvivor_id)\n",
      "help(term_id)\n",
      "help(final_id)\n",
      "help(cvt_str_to_sym)\n",
      "help(is_surv_id)\n",
      "help(subsumed)\n",
      "help(is_term_id)\n",
      "help(is_final_id)\n",
      "\n"
     ]
    }
   ],
   "source": [
    "#~~~~~~~~~~~~~~~~~~~~~~~~~~~~~~~~~~~~~~~~~~~~~~~~~~~~~~~\n",
    "import sys\n",
    "\n",
    "# -- Detect if in Own Install or in Colab\n",
    "try:\n",
    "    import google.colab\n",
    "    OWN_INSTALL = False\n",
    "except:\n",
    "    OWN_INSTALL = True\n",
    "\n",
    "if OWN_INSTALL:\n",
    "    sys.path[0:0] = ['../../../../..',  '../../../../../3rdparty',  \n",
    "                     '../../../..',  '../../../../3rdparty',  \n",
    "                     '../../..',     '../../../3rdparty', \n",
    "                     '../..',        '../../3rdparty',\n",
    "                     '..',           '../3rdparty' ]\n",
    "\n",
    "else: # In colab\n",
    "    ! if [ ! -d Jove ]; then git clone https://github.com/ganeshutah/Jove Jove; fi\n",
    "    sys.path.append('./Jove')\n",
    "    sys.path.append('./Jove/jove')\n",
    "\n",
    "# -- common imports --\n",
    "from jove.DotBashers import *\n",
    "from jove.Def_md2mc  import *\n",
    "from jove.Def_DFA    import *\n",
    "from jove.Def_NFA    import *\n",
    "from jove.LangDef    import *  # for testing DFA actions\n",
    "from jove.Def_RE2NFA import *\n",
    "from jove.Def_PDA    import *\n",
    "#~~~~~~~~~~~~~~~~~~~~~~~~~~~~~~~~~~~~~~~~~~~~~~~~~~~~~~~"
   ]
  },
  {
   "cell_type": "markdown",
   "metadata": {
    "id": "G2zbBofEcL-4"
   },
   "source": [
    "============================================================================================================"
   ]
  },
  {
   "cell_type": "markdown",
   "metadata": {
    "id": "jpHXo0OTcL-5"
   },
   "source": [
    "#  Q1. Regular Languages (RL) and RL Pumping Lemma\n",
    "\n",
    "## You are given two language definitions below.\n",
    "\n",
    "## L1 : $\\{ a^n b^k \\;:\\; odd(n)\\vee even(k),\\; n,k \\ge 0 \\}$\n",
    "\n",
    "## L2 : $\\{ a^n b^k \\;:\\; n > k+2,\\; n,k \\ge 0 \\}$\n",
    "\n",
    "### Which of these languages is regular and why, and provide a Regular Expression (answer under Q1.1 below). Then please produce a minimal DFA from this regular expression that allows quicker grading.\n",
    "\n",
    "### For the non-regular language, write a clear RL Pumping Lemma proof (answer under Q1.2 below).  "
   ]
  },
  {
   "cell_type": "markdown",
   "metadata": {
    "id": "1SOLq_B4cL-6"
   },
   "source": [
    "===================================="
   ]
  },
  {
   "cell_type": "markdown",
   "metadata": {
    "id": "norPGE0lcL-7"
   },
   "source": [
    "### Answer for Q1.1: Below, provide a sentence intuitively saying which language (L1 or L2) you think is regular, and why. Provide the RE in the code cell below.\n",
    "\n",
    "# Plz provide your answer on which language is regular between the arrows.\n",
    "\n",
    "### ANSWER: ==> Language $L_1$ is regular. <!--Please also provide intuitive reasons as to why.--> This is because it is possible to check using a DFA, or to describe using a regular expression, the parity of number of occurence of some symbol. <==\n",
    "\n",
    "# Below in the code cell, please type the RE and produce a minimal DFA.\n",
    "\n",
    "### Replace  \"MY RE WILL BE TYPED HERE\""
   ]
  },
  {
   "cell_type": "code",
   "execution_count": null,
   "metadata": {
    "colab": {
     "base_uri": "https://localhost:8080/",
     "height": 269
    },
    "id": "ra4BZCvVcL-8",
    "outputId": "5e8480dd-038f-47dd-d2ea-b8d568b2dc9b"
   },
   "outputs": [
    {
     "data": {
      "image/svg+xml": [
       "<?xml version=\"1.0\" encoding=\"UTF-8\" standalone=\"no\"?>\n",
       "<!DOCTYPE svg PUBLIC \"-//W3C//DTD SVG 1.1//EN\"\n",
       " \"http://www.w3.org/Graphics/SVG/1.1/DTD/svg11.dtd\">\n",
       "<!-- Generated by graphviz version 2.40.1 (20161225.0304)\n",
       " -->\n",
       "<!-- Title: %3 Pages: 1 -->\n",
       "<svg width=\"760pt\" height=\"186pt\"\n",
       " viewBox=\"0.00 0.00 759.87 186.37\" xmlns=\"http://www.w3.org/2000/svg\" xmlns:xlink=\"http://www.w3.org/1999/xlink\">\n",
       "<g id=\"graph0\" class=\"graph\" transform=\"scale(1 1) rotate(0) translate(4 182.3709)\">\n",
       "<title>%3</title>\n",
       "<polygon fill=\"#ffffff\" stroke=\"transparent\" points=\"-4,4 -4,-182.3709 755.8708,-182.3709 755.8708,4 -4,4\"/>\n",
       "<!-- EMPTY -->\n",
       "<g id=\"node1\" class=\"node\">\n",
       "<title>EMPTY</title>\n",
       "</g>\n",
       "<!-- St1 -->\n",
       "<g id=\"node6\" class=\"node\">\n",
       "<title>St1</title>\n",
       "<ellipse fill=\"none\" stroke=\"#000000\" cx=\"118.3979\" cy=\"-124.323\" rx=\"23.3111\" ry=\"23.3111\"/>\n",
       "<ellipse fill=\"none\" stroke=\"#000000\" cx=\"118.3979\" cy=\"-124.323\" rx=\"27.2962\" ry=\"27.2962\"/>\n",
       "<text text-anchor=\"middle\" x=\"118.3979\" y=\"-120.623\" font-family=\"Times,serif\" font-size=\"14.00\" fill=\"#000000\">St1</text>\n",
       "</g>\n",
       "<!-- EMPTY&#45;&gt;St1 -->\n",
       "<g id=\"edge1\" class=\"edge\">\n",
       "<title>EMPTY&#45;&gt;St1</title>\n",
       "<path fill=\"none\" stroke=\"#000000\" d=\"M54.4224,-124.323C62.7369,-124.323 72.0177,-124.323 80.875,-124.323\"/>\n",
       "<polygon fill=\"#000000\" stroke=\"#000000\" points=\"80.9949,-127.8231 90.9949,-124.323 80.9949,-120.8231 80.9949,-127.8231\"/>\n",
       "</g>\n",
       "<!-- BH -->\n",
       "<g id=\"node2\" class=\"node\">\n",
       "<title>BH</title>\n",
       "<ellipse fill=\"none\" stroke=\"#000000\" cx=\"727.823\" cy=\"-106.323\" rx=\"24.0958\" ry=\"24.0958\"/>\n",
       "<text text-anchor=\"middle\" x=\"727.823\" y=\"-102.623\" font-family=\"Times,serif\" font-size=\"14.00\" fill=\"#000000\">BH</text>\n",
       "</g>\n",
       "<!-- BH&#45;&gt;BH -->\n",
       "<g id=\"edge10\" class=\"edge\">\n",
       "<title>BH&#45;&gt;BH</title>\n",
       "<path fill=\"none\" stroke=\"#000000\" d=\"M719.3327,-129.2461C718.5241,-139.5014 721.3542,-148.3709 727.823,-148.3709 731.967,-148.3709 734.6177,-144.7309 735.7751,-139.4183\"/>\n",
       "<polygon fill=\"#000000\" stroke=\"#000000\" points=\"739.28,-139.417 736.3132,-129.2461 732.2898,-139.0472 739.28,-139.417\"/>\n",
       "<text text-anchor=\"middle\" x=\"727.823\" y=\"-167.1709\" font-family=\"Times,serif\" font-size=\"14.00\" fill=\"#000000\">b </text>\n",
       "<text text-anchor=\"middle\" x=\"727.823\" y=\"-152.1709\" font-family=\"Times,serif\" font-size=\"14.00\" fill=\"#000000\"> a </text>\n",
       "</g>\n",
       "<!-- St8 -->\n",
       "<g id=\"node3\" class=\"node\">\n",
       "<title>St8</title>\n",
       "<ellipse fill=\"none\" stroke=\"#000000\" cx=\"424.7855\" cy=\"-141.323\" rx=\"23.2963\" ry=\"23.2963\"/>\n",
       "<text text-anchor=\"middle\" x=\"424.7855\" y=\"-137.623\" font-family=\"Times,serif\" font-size=\"14.00\" fill=\"#000000\">St8</text>\n",
       "</g>\n",
       "<!-- St8&#45;&gt;BH -->\n",
       "<g id=\"edge5\" class=\"edge\">\n",
       "<title>St8&#45;&gt;BH</title>\n",
       "<path fill=\"none\" stroke=\"#000000\" d=\"M447.7847,-145.6367C462.6672,-148.1903 482.4961,-151.1491 500.1834,-152.323 583.5558,-157.8567 606.9274,-149.975 685.7751,-122.323 689.0434,-121.1768 692.4411,-119.9476 695.8253,-118.6986\"/>\n",
       "<polygon fill=\"#000000\" stroke=\"#000000\" points=\"697.0749,-121.968 705.2083,-115.1784 694.6161,-115.4141 697.0749,-121.968\"/>\n",
       "<text text-anchor=\"middle\" x=\"578.9792\" y=\"-156.123\" font-family=\"Times,serif\" font-size=\"14.00\" fill=\"#000000\">a </text>\n",
       "</g>\n",
       "<!-- St7 -->\n",
       "<g id=\"node10\" class=\"node\">\n",
       "<title>St7</title>\n",
       "<ellipse fill=\"none\" stroke=\"#000000\" cx=\"527.5813\" cy=\"-116.323\" rx=\"23.3111\" ry=\"23.3111\"/>\n",
       "<ellipse fill=\"none\" stroke=\"#000000\" cx=\"527.5813\" cy=\"-116.323\" rx=\"27.2962\" ry=\"27.2962\"/>\n",
       "<text text-anchor=\"middle\" x=\"527.5813\" y=\"-112.623\" font-family=\"Times,serif\" font-size=\"14.00\" fill=\"#000000\">St7</text>\n",
       "</g>\n",
       "<!-- St8&#45;&gt;St7 -->\n",
       "<g id=\"edge4\" class=\"edge\">\n",
       "<title>St8&#45;&gt;St7</title>\n",
       "<path fill=\"none\" stroke=\"#000000\" d=\"M447.5992,-135.7747C460.2599,-132.6956 476.3136,-128.7914 490.7105,-125.29\"/>\n",
       "<polygon fill=\"#000000\" stroke=\"#000000\" points=\"491.939,-128.5934 500.8287,-122.8293 490.2848,-121.7916 491.939,-128.5934\"/>\n",
       "<text text-anchor=\"middle\" x=\"476.1834\" y=\"-133.123\" font-family=\"Times,serif\" font-size=\"14.00\" fill=\"#000000\">b </text>\n",
       "</g>\n",
       "<!-- St3 -->\n",
       "<g id=\"node4\" class=\"node\">\n",
       "<title>St3</title>\n",
       "<ellipse fill=\"none\" stroke=\"#000000\" cx=\"424.7855\" cy=\"-69.323\" rx=\"23.3111\" ry=\"23.3111\"/>\n",
       "<ellipse fill=\"none\" stroke=\"#000000\" cx=\"424.7855\" cy=\"-69.323\" rx=\"27.2962\" ry=\"27.2962\"/>\n",
       "<text text-anchor=\"middle\" x=\"424.7855\" y=\"-65.623\" font-family=\"Times,serif\" font-size=\"14.00\" fill=\"#000000\">St3</text>\n",
       "</g>\n",
       "<!-- St6 -->\n",
       "<g id=\"node7\" class=\"node\">\n",
       "<title>St6</title>\n",
       "<ellipse fill=\"none\" stroke=\"#000000\" cx=\"321.9896\" cy=\"-90.323\" rx=\"23.3111\" ry=\"23.3111\"/>\n",
       "<ellipse fill=\"none\" stroke=\"#000000\" cx=\"321.9896\" cy=\"-90.323\" rx=\"27.2962\" ry=\"27.2962\"/>\n",
       "<text text-anchor=\"middle\" x=\"321.9896\" y=\"-86.623\" font-family=\"Times,serif\" font-size=\"14.00\" fill=\"#000000\">St6</text>\n",
       "</g>\n",
       "<!-- St3&#45;&gt;St6 -->\n",
       "<g id=\"edge18\" class=\"edge\">\n",
       "<title>St3&#45;&gt;St6</title>\n",
       "<path fill=\"none\" stroke=\"#000000\" d=\"M398.7345,-60.3788C388.7903,-58.2227 377.4337,-57.3035 367.3875,-60.323 362.0723,-61.9206 356.8057,-64.3649 351.8454,-67.1832\"/>\n",
       "<polygon fill=\"#000000\" stroke=\"#000000\" points=\"349.9033,-64.2699 343.3032,-72.5578 353.6312,-70.1947 349.9033,-64.2699\"/>\n",
       "<text text-anchor=\"middle\" x=\"373.3875\" y=\"-64.123\" font-family=\"Times,serif\" font-size=\"14.00\" fill=\"#000000\">a </text>\n",
       "</g>\n",
       "<!-- St5 -->\n",
       "<g id=\"node9\" class=\"node\">\n",
       "<title>St5</title>\n",
       "<ellipse fill=\"none\" stroke=\"#000000\" cx=\"527.5813\" cy=\"-32.323\" rx=\"23.3111\" ry=\"23.3111\"/>\n",
       "<ellipse fill=\"none\" stroke=\"#000000\" cx=\"527.5813\" cy=\"-32.323\" rx=\"27.2962\" ry=\"27.2962\"/>\n",
       "<text text-anchor=\"middle\" x=\"527.5813\" y=\"-28.623\" font-family=\"Times,serif\" font-size=\"14.00\" fill=\"#000000\">St5</text>\n",
       "</g>\n",
       "<!-- St3&#45;&gt;St5 -->\n",
       "<g id=\"edge17\" class=\"edge\">\n",
       "<title>St3&#45;&gt;St5</title>\n",
       "<path fill=\"none\" stroke=\"#000000\" d=\"M450.7252,-59.9864C463.2647,-55.4729 478.5089,-49.986 492.1041,-45.0926\"/>\n",
       "<polygon fill=\"#000000\" stroke=\"#000000\" points=\"493.4262,-48.3366 501.6499,-41.6567 491.0555,-41.7503 493.4262,-48.3366\"/>\n",
       "<text text-anchor=\"middle\" x=\"476.1834\" y=\"-56.123\" font-family=\"Times,serif\" font-size=\"14.00\" fill=\"#000000\">b </text>\n",
       "</g>\n",
       "<!-- St2 -->\n",
       "<g id=\"node5\" class=\"node\">\n",
       "<title>St2</title>\n",
       "<ellipse fill=\"none\" stroke=\"#000000\" cx=\"219.1938\" cy=\"-90.323\" rx=\"23.3111\" ry=\"23.3111\"/>\n",
       "<ellipse fill=\"none\" stroke=\"#000000\" cx=\"219.1938\" cy=\"-90.323\" rx=\"27.2962\" ry=\"27.2962\"/>\n",
       "<text text-anchor=\"middle\" x=\"219.1938\" y=\"-86.623\" font-family=\"Times,serif\" font-size=\"14.00\" fill=\"#000000\">St2</text>\n",
       "</g>\n",
       "<!-- St2&#45;&gt;St6 -->\n",
       "<g id=\"edge7\" class=\"edge\">\n",
       "<title>St2&#45;&gt;St6</title>\n",
       "<path fill=\"none\" stroke=\"#000000\" d=\"M246.7412,-90.323C258.2638,-90.323 271.8412,-90.323 284.2683,-90.323\"/>\n",
       "<polygon fill=\"#000000\" stroke=\"#000000\" points=\"284.3662,-93.8231 294.3662,-90.323 284.3661,-86.8231 284.3662,-93.8231\"/>\n",
       "<text text-anchor=\"middle\" x=\"270.5917\" y=\"-94.123\" font-family=\"Times,serif\" font-size=\"14.00\" fill=\"#000000\">a </text>\n",
       "</g>\n",
       "<!-- St2&#45;&gt;St5 -->\n",
       "<g id=\"edge6\" class=\"edge\">\n",
       "<title>St2&#45;&gt;St5</title>\n",
       "<path fill=\"none\" stroke=\"#000000\" d=\"M243.3519,-76.9256C257.8436,-69.3658 276.8502,-60.2711 294.5917,-54.323 338.8037,-39.5003 351.0118,-38.1916 397.3875,-33.323 428.4076,-30.0665 463.8134,-30.0301 489.8644,-30.6885\"/>\n",
       "<polygon fill=\"#000000\" stroke=\"#000000\" points=\"489.9632,-34.193 500.0634,-30.9937 490.1726,-27.1961 489.9632,-34.193\"/>\n",
       "<text text-anchor=\"middle\" x=\"373.3875\" y=\"-41.123\" font-family=\"Times,serif\" font-size=\"14.00\" fill=\"#000000\">b </text>\n",
       "</g>\n",
       "<!-- St1&#45;&gt;St8 -->\n",
       "<g id=\"edge2\" class=\"edge\">\n",
       "<title>St1&#45;&gt;St8</title>\n",
       "<path fill=\"none\" stroke=\"#000000\" d=\"M145.7618,-126.1864C151.7064,-126.5758 157.9612,-126.9738 163.7958,-127.323 245.4498,-132.2108 341.5243,-137.1571 391.219,-139.6557\"/>\n",
       "<polygon fill=\"#000000\" stroke=\"#000000\" points=\"391.2222,-143.1602 401.3849,-140.1652 391.5727,-136.169 391.2222,-143.1602\"/>\n",
       "<text text-anchor=\"middle\" x=\"270.5917\" y=\"-137.123\" font-family=\"Times,serif\" font-size=\"14.00\" fill=\"#000000\">b </text>\n",
       "</g>\n",
       "<!-- St1&#45;&gt;St2 -->\n",
       "<g id=\"edge3\" class=\"edge\">\n",
       "<title>St1&#45;&gt;St2</title>\n",
       "<path fill=\"none\" stroke=\"#000000\" d=\"M144.6177,-115.4787C156.5172,-111.4648 170.7734,-106.656 183.6193,-102.3229\"/>\n",
       "<polygon fill=\"#000000\" stroke=\"#000000\" points=\"184.7485,-105.6358 193.1053,-99.1231 182.5111,-99.003 184.7485,-105.6358\"/>\n",
       "<text text-anchor=\"middle\" x=\"168.7958\" y=\"-112.123\" font-family=\"Times,serif\" font-size=\"14.00\" fill=\"#000000\">a </text>\n",
       "</g>\n",
       "<!-- St6&#45;&gt;St8 -->\n",
       "<g id=\"edge13\" class=\"edge\">\n",
       "<title>St6&#45;&gt;St8</title>\n",
       "<path fill=\"none\" stroke=\"#000000\" d=\"M346.6118,-102.5388C360.9747,-109.6647 379.208,-118.7107 394.4519,-126.2737\"/>\n",
       "<polygon fill=\"#000000\" stroke=\"#000000\" points=\"392.9822,-129.4515 403.4958,-130.7606 396.0933,-123.1809 392.9822,-129.4515\"/>\n",
       "<text text-anchor=\"middle\" x=\"373.3875\" y=\"-121.123\" font-family=\"Times,serif\" font-size=\"14.00\" fill=\"#000000\">b </text>\n",
       "</g>\n",
       "<!-- St6&#45;&gt;St3 -->\n",
       "<g id=\"edge14\" class=\"edge\">\n",
       "<title>St6&#45;&gt;St3</title>\n",
       "<path fill=\"none\" stroke=\"#000000\" d=\"M348.998,-84.8055C360.8264,-82.3891 374.8982,-79.5144 387.6868,-76.9019\"/>\n",
       "<polygon fill=\"#000000\" stroke=\"#000000\" points=\"388.5035,-80.3074 397.6005,-74.8766 387.1023,-73.449 388.5035,-80.3074\"/>\n",
       "<text text-anchor=\"middle\" x=\"373.3875\" y=\"-85.123\" font-family=\"Times,serif\" font-size=\"14.00\" fill=\"#000000\">a </text>\n",
       "</g>\n",
       "<!-- St4 -->\n",
       "<g id=\"node8\" class=\"node\">\n",
       "<title>St4</title>\n",
       "<ellipse fill=\"none\" stroke=\"#000000\" cx=\"630.3772\" cy=\"-59.323\" rx=\"23.3111\" ry=\"23.3111\"/>\n",
       "<ellipse fill=\"none\" stroke=\"#000000\" cx=\"630.3772\" cy=\"-59.323\" rx=\"27.2962\" ry=\"27.2962\"/>\n",
       "<text text-anchor=\"middle\" x=\"630.3772\" y=\"-55.623\" font-family=\"Times,serif\" font-size=\"14.00\" fill=\"#000000\">St4</text>\n",
       "</g>\n",
       "<!-- St4&#45;&gt;BH -->\n",
       "<g id=\"edge16\" class=\"edge\">\n",
       "<title>St4&#45;&gt;BH</title>\n",
       "<path fill=\"none\" stroke=\"#000000\" d=\"M655.219,-71.3047C667.8332,-77.3888 683.2846,-84.8413 696.686,-91.3051\"/>\n",
       "<polygon fill=\"#000000\" stroke=\"#000000\" points=\"695.4845,-94.6114 706.012,-95.8032 698.5255,-88.3064 695.4845,-94.6114\"/>\n",
       "<text text-anchor=\"middle\" x=\"680.7751\" y=\"-90.123\" font-family=\"Times,serif\" font-size=\"14.00\" fill=\"#000000\">a </text>\n",
       "</g>\n",
       "<!-- St4&#45;&gt;St5 -->\n",
       "<g id=\"edge15\" class=\"edge\">\n",
       "<title>St4&#45;&gt;St5</title>\n",
       "<path fill=\"none\" stroke=\"#000000\" d=\"M609.0636,-41.5578C601.8634,-36.6029 593.4836,-31.8791 584.9792,-29.323 578.6453,-27.4193 571.7435,-26.7024 564.9925,-26.6855\"/>\n",
       "<polygon fill=\"#000000\" stroke=\"#000000\" points=\"564.4391,-23.2073 554.6113,-27.1651 564.7622,-30.1998 564.4391,-23.2073\"/>\n",
       "<text text-anchor=\"middle\" x=\"578.9792\" y=\"-33.123\" font-family=\"Times,serif\" font-size=\"14.00\" fill=\"#000000\">b </text>\n",
       "</g>\n",
       "<!-- St5&#45;&gt;BH -->\n",
       "<g id=\"edge12\" class=\"edge\">\n",
       "<title>St5&#45;&gt;BH</title>\n",
       "<path fill=\"none\" stroke=\"#000000\" d=\"M551.9614,-19.0385C579.1771,-6.1429 623.8476,9.1297 657.7751,-8.323 684.5808,-22.1123 703.4076,-51.4419 714.7423,-74.4403\"/>\n",
       "<polygon fill=\"#000000\" stroke=\"#000000\" points=\"711.5888,-75.9592 719.002,-83.5286 717.9272,-72.9884 711.5888,-75.9592\"/>\n",
       "<text text-anchor=\"middle\" x=\"630.3772\" y=\"-12.123\" font-family=\"Times,serif\" font-size=\"14.00\" fill=\"#000000\">a </text>\n",
       "</g>\n",
       "<!-- St5&#45;&gt;St4 -->\n",
       "<g id=\"edge11\" class=\"edge\">\n",
       "<title>St5&#45;&gt;St4</title>\n",
       "<path fill=\"none\" stroke=\"#000000\" d=\"M553.2989,-42.1375C559.6721,-44.361 566.5256,-46.5779 572.9792,-48.323 579.4069,-50.0612 586.3109,-51.631 593.0248,-53.0046\"/>\n",
       "<polygon fill=\"#000000\" stroke=\"#000000\" points=\"592.8399,-56.5337 603.3227,-54.9977 594.17,-49.6612 592.8399,-56.5337\"/>\n",
       "<text text-anchor=\"middle\" x=\"578.9792\" y=\"-55.123\" font-family=\"Times,serif\" font-size=\"14.00\" fill=\"#000000\">b </text>\n",
       "</g>\n",
       "<!-- St7&#45;&gt;BH -->\n",
       "<g id=\"edge9\" class=\"edge\">\n",
       "<title>St7&#45;&gt;BH</title>\n",
       "<path fill=\"none\" stroke=\"#000000\" d=\"M555.0042,-114.9535C591.0127,-113.1553 654.2407,-109.9977 693.4196,-108.0411\"/>\n",
       "<polygon fill=\"#000000\" stroke=\"#000000\" points=\"693.737,-111.5297 703.55,-107.5352 693.3878,-104.5384 693.737,-111.5297\"/>\n",
       "<text text-anchor=\"middle\" x=\"630.3772\" y=\"-116.123\" font-family=\"Times,serif\" font-size=\"14.00\" fill=\"#000000\">a </text>\n",
       "</g>\n",
       "<!-- St7&#45;&gt;St8 -->\n",
       "<g id=\"edge8\" class=\"edge\">\n",
       "<title>St7&#45;&gt;St8</title>\n",
       "<path fill=\"none\" stroke=\"#000000\" d=\"M501.4299,-107.7902C491.4733,-105.8022 480.1346,-105.0884 470.1834,-108.323 463.0481,-110.6424 456.098,-114.552 449.8673,-118.8854\"/>\n",
       "<polygon fill=\"#000000\" stroke=\"#000000\" points=\"447.7233,-116.1186 441.8668,-124.9477 451.9509,-121.6978 447.7233,-116.1186\"/>\n",
       "<text text-anchor=\"middle\" x=\"476.1834\" y=\"-112.123\" font-family=\"Times,serif\" font-size=\"14.00\" fill=\"#000000\">b </text>\n",
       "</g>\n",
       "</g>\n",
       "</svg>\n"
      ],
      "text/plain": [
       "<graphviz.dot.Digraph at 0x7f59eb2463c8>"
      ]
     },
     "execution_count": 3,
     "metadata": {
      "tags": []
     },
     "output_type": "execute_result"
    }
   ],
   "source": [
    "# YOUR RE below\n",
    "\n",
    "# RE_Q1 = \"...type a Jove-syntax RE here...\"\n",
    "\n",
    "#  ==> ANSWER <==\n",
    "\n",
    "RE_Q1 = \"a(aa)*b* + a*(bb)*\"\n",
    "\n",
    "dotObj_dfa_w_bh(nfa2dfa(re2nfa(RE_Q1)), FuseEdges=True)\n"
   ]
  },
  {
   "cell_type": "markdown",
   "metadata": {
    "id": "mwFb2syrcL_K"
   },
   "source": [
    "===================================="
   ]
  },
  {
   "cell_type": "markdown",
   "metadata": {
    "id": "afCMfqabcL_L"
   },
   "source": [
    "### Q1.2: Provide a sentence intuitively saying which language is non-regular, and then write a PL proof\n",
    "\n",
    "# Please mention the non-regular language between the arrows\n",
    "\n",
    "# ==> Language $L_2$ is non-regular <==\n",
    "\n",
    "# ==> RL PL PROOF: Please type your PL proof below <== \n",
    "\n",
    "## $-$ Choice of $w$\n",
    "  - Let the pumping length $p > 0$ be given.\n",
    "  - Let $w = a^{(p+3)}\\ b^p$.\n",
    "    - We know that $|w| \\ge p$ because $|w| = p+3+p > p$.\n",
    "    - We know that $w \\in L_2$ because $w = a^nb^k$ for $n = p+3$ and $k = p+2$, and $p+3 > p+2$.\n",
    "  - Let some split $w = xyz$ be given, where $|xy| \\le p$ and $|y| > 0$.\n",
    "    - This implies that $y = a^j$ for some $j > 0$ because $w$ starts with $(p+3)$ \"$a$\"s.\n",
    "   \n",
    "## $-$ Choice of pump direction \n",
    "  - Consider the string $w' = xy^iz$ for $i = 0$, or $w' = xz$.\n",
    "    - Since $y = a^j$ where $j > 0$, the string $w'$ definitely has fewer \"$a$\"s than $w$ does.\n",
    "    - However, $w$ has $(p+3)$ \"$a$\"s, meaning that $w'$ has at most $(p+2)$ \"$a$\"s.\n",
    "    - In other words, $w'$ = $a^nb^k$ for $n \\le k+2$, meaning that $w' \\notin L_2$.\n",
    "    \n",
    "## $-$ Showing the final step of the RL PL proof\n",
    "  - The Pumping Lemma has now failed because if a split $w = xyz$ meets the first two conditions ($|xy| \\le p$ and $|y| > 0$), then it fails to meet the third ($xy^iz \\in L_2$ for all $i \\ge 0$).\n",
    "  - This shows that the language $L_2$ is not regular.\n",
    "    \n",
    " "
   ]
  },
  {
   "cell_type": "markdown",
   "metadata": {
    "id": "fuM0fpnFcL_M"
   },
   "source": [
    "============================================================================================================"
   ]
  },
  {
   "cell_type": "markdown",
   "metadata": {
    "id": "ZT3WYZuZcL_N"
   },
   "source": [
    "#  Q2. Dynamic Programming-based DFA minimization\n",
    "\n",
    "## This question has two parts, Q 2.1 and Q 2.2\n",
    "\n",
    "## Q 2.1\n",
    "\n",
    "### Consider Figure 6.7. Explain why (IS1,S4) ended up having a \"2\" entry (2-distinguishable) against it in the last table.  QUESTION FOR YOU: Find out those state pairs that were deemed 1-distinguishable and 0-distinguishable, in order to mark (IS1, S4) as 2-distinguishable. In other words, you are retracing the logic of arriving at 2-distinguishability via 1-distinguishability and 0-distinguishability.\n",
    "\n",
    "## Answer this under \"Answer of Q 2.1\" below where more guidance is given.\n",
    "\n",
    "## Additional requirements while answering:\n",
    "\n",
    "### * If you have a choice of arriving at these distinguishable pairs via an `a` move or a `b` move, please go by the `b` moves to arrive at those pairs. _This is so that I obtain identical answers to grade._\n",
    "\n",
    "### * When you list these state pairs, sort them. That is, if you have the option to answer as ```(p,q)``` or as ```(q,p)```, you must go by the former."
   ]
  },
  {
   "cell_type": "markdown",
   "metadata": {
    "id": "ThhycCo4cL_O"
   },
   "source": [
    "# ==> Answer of Q2.1: <==\n",
    "\n",
    "## *  (IS1,S4) is 2-distinguishable.\n",
    "<!--\n",
    "## * In your answer below, replace x1, y1, x0, and y0 below with actual state names:\n",
    "-->\n",
    "### * ANSWER: This is because the state pair (FS3, FS6) was deemed 1-distinguishable already, and b-moves from FS3 and FS6 helped establish that (IS1, S4) are 2-distinguishable. \n",
    "\n",
    "### * ANSWER: This is because the state pair (FS6, S4) was deemed 0-distinguishable already, and b-moves from FS6 and S4 helped establish that (FS3, FS6) is 1-distinguishable\n"
   ]
  },
  {
   "cell_type": "markdown",
   "metadata": {
    "id": "bO0NzcNRcL_Q"
   },
   "source": [
    "===================================="
   ]
  },
  {
   "cell_type": "markdown",
   "metadata": {
    "id": "uUi9898fcL_S"
   },
   "source": [
    "## Q 2.2 : This is a general question about DFA minimization that tests your understanding of going from equivalence-classes to merged state names.\n",
    "\n",
    "### Suppose at the end of state minimization, we have the following state equivalence classes\n",
    "### $Class1 = \\{ (a,b), (b,c) \\}$\n",
    "### $Class2 = \\{ (d,e), (f,d) \\}$\n",
    "### $Class3 = \\{ (a,g) \\}$\n",
    "\n",
    "### In Q2.2 below, write down what the final merged state-names will be. Use the ```_``` (underscore) separated state names as in Figure 6.7. Sort the state names.\n",
    "\n",
    "### For example, for an equivalence class $\\{p,q,r\\}$, write the merged state name as ```p_q_r``` and not as ```r_q_p``` for instance."
   ]
  },
  {
   "cell_type": "markdown",
   "metadata": {
    "id": "tBBWehXzcL_T"
   },
   "source": [
    "## ==> Q2.2: Write down the merged state names below <== \n",
    "<!--\n",
    "## Use as many bullets as needed, from the list below. Add/delete bullets as you need.\n",
    "-->\n",
    "### Merged state name 1 by considering all equivalence-classes is: `a_b_c_g`\n",
    "\n",
    "### Merged state name 2 by considering all equivalence-classes is: `d_e_f`"
   ]
  },
  {
   "cell_type": "markdown",
   "metadata": {
    "id": "Uig0OBqYcL_U"
   },
   "source": [
    "============================================================================================================"
   ]
  },
  {
   "cell_type": "markdown",
   "metadata": {
    "id": "dF81PQcocL_V"
   },
   "source": [
    "#  Q3. CFG problem\n",
    "\n",
    "## Consider the CFG (Question 7 of Page 159) -- but there is a typo noted in the erratum at bit.ly/Automata_Jove . _The corrected version reads: there are strings in $L_{abcd}$ that are not in $L_{CFG}$._ \n",
    "\n",
    "## Apply this correction and answer Q3.1 and Q3.2. Next, answer the questions below.\n",
    "\n",
    "## Q3.1:  Answer in the space below where I put ==> <== arrows.\n",
    "\n",
    "### Find out one string of length four --- called $w$ --- starting with $a$ that cannot be generated by $L_{CFG}$, but is within $L_{abcd}$.\n",
    "<!--\n",
    "### Here is how you must present the proof:\n",
    "-->\n"
   ]
  },
  {
   "cell_type": "markdown",
   "metadata": {
    "id": "jAbZWzhfcL_X"
   },
   "source": [
    "## Q3.1:  ==> Why $w$ cannot be in $L_{CFG}$. <==\n",
    "\n",
    "\n",
    "### $-$ My chosen word $w$ is $acbd$.\n",
    "\n",
    "### $-$ The first \"$a$\" in $w$ requires the derivation $S \\rightarrow aSbS$ to be used.\n",
    "\n",
    "### $-$ This then requires $SbS$ to account for the rest of the characters in $w$ (\"$cbd$\"). More specifically, we now want the first $S$ in $SbS$ to account for the \"$c$\" and the second $S$ to account for the \"$d$\".\n",
    "\n",
    "### $-$ However, $S$ can be translated into $T$ by the production rule $S \\rightarrow T$, but each production of $T$ either introduces more than one symbol ($T \\rightarrow cTdT\\ |\\ dTcT$) or nothing ($T \\rightarrow \\varepsilon$). In other words, it's not possible for a single $S$ to generate either \"$c$\" or \"$d$\", which is required for $SbS$ to generate \"$cbd$\".\n",
    "\n",
    "### $-$ Therefore, $w \\notin L_\\text{CFG}$."
   ]
  },
  {
   "cell_type": "markdown",
   "metadata": {
    "id": "EDhRdQr8cL_Z"
   },
   "source": [
    "## Q3.2: Implement a PDA for this CFG, showing (through explore_pda with enough stack depth) that the $w$ you chose is not in this CFG's language. \n",
    "\n",
    "## Answer beginning at the the arrows below.\n",
    "\n",
    "## Next, come up with four strings of length $4$ starting with $a$ that are in $L_{CFG}$. Run these strings under this PDA and show that they _are_ accepted.\n",
    "\n",
    "## Again, answer after where the arrows appear, below."
   ]
  },
  {
   "cell_type": "markdown",
   "metadata": {
    "id": "4oeVhPAAcL_b"
   },
   "source": [
    "### Q3.2: PDA implementation\n",
    "\n",
    " "
   ]
  },
  {
   "cell_type": "markdown",
   "metadata": {
    "id": "vgpS0r4ZcL_c"
   },
   "source": [
    "# ==>  My CFG is in the space below, between the triple-quotes <=="
   ]
  },
  {
   "cell_type": "code",
   "execution_count": null,
   "metadata": {
    "id": "1ZPz4icTcL_d"
   },
   "outputs": [],
   "source": [
    "'''\n",
    "\n",
    "S -> aSbS | bSaS | '' | T\n",
    "T -> cSdS | dScS | '' | S\n",
    "\n",
    "'''"
   ]
  },
  {
   "cell_type": "markdown",
   "metadata": {
    "id": "owyzvyqEcL_j"
   },
   "source": [
    "===================================="
   ]
  },
  {
   "cell_type": "markdown",
   "metadata": {
    "id": "wJ2n78jqcL_m"
   },
   "source": [
    "# ==>  My PDA is below <=="
   ]
  },
  {
   "cell_type": "code",
   "execution_count": null,
   "metadata": {
    "colab": {
     "base_uri": "https://localhost:8080/"
    },
    "id": "scDiimrJcL_n",
    "outputId": "0ef3a41b-3e32-43c1-d2b2-1840296ffe6a"
   },
   "outputs": [
    {
     "name": "stderr",
     "output_type": "stream",
     "text": [
      "Generating LALR tables\n"
     ]
    }
   ],
   "source": [
    "Q32_PDA = md2mc('''\n",
    "\n",
    "PDA\n",
    "\n",
    "I: '', #; S# -> M\n",
    "M: '', #; # -> F\n",
    "\n",
    "M: a, a; '' -> M\n",
    "M: b, b; '' -> M\n",
    "M: c, c; '' -> M\n",
    "M: d, d; '' -> M\n",
    "\n",
    "M: '', S; aSbS -> M\n",
    "M: '', S; bSaS -> M\n",
    "M: '', S; '' -> M\n",
    "M: '', S; T -> M\n",
    "\n",
    "M: '', T; cSdS -> M\n",
    "M: '', T; dScS -> M\n",
    "M: '', T; '' -> M\n",
    "M: '', T; S -> M\n",
    "\n",
    "''')"
   ]
  },
  {
   "cell_type": "markdown",
   "metadata": {
    "id": "3sB2b31DcL_r"
   },
   "source": [
    "## ==> Showing that ```w``` does not get accepted via explore_pda <=="
   ]
  },
  {
   "cell_type": "code",
   "execution_count": null,
   "metadata": {
    "colab": {
     "base_uri": "https://localhost:8080/"
    },
    "id": "j-tQb2KGcL_s",
    "outputId": "70874290-cc08-4553-9ea7-6938cc41786a"
   },
   "outputs": [
    {
     "name": "stdout",
     "output_type": "stream",
     "text": [
      "String acbd rejected by your PDA :-(\n",
      "Visited states are:\n",
      "{('M', 'd', 'aSbSaSdSbS#'), ('M', 'acbd', 'dScS#'), ('M', 'd', 'aSdSbS#'), ('M', 'acbd', '#'), ('M', 'd', 'TaSdSbS#'), ('M', '', 'dScScSaSdSbS#'), ('M', '', 'TcSaSdSbS#'), ('M', '', 'aSbScSaSdSbS#'), ('M', 'cbd', 'aSbSbS#'), ('M', 'acbd', 'aSbS#'), ('M', 'acbd', 'bSaS#'), ('I', 'acbd', '#'), ('M', '', 'cSaSdSbS#'), ('F', 'acbd', '#'), ('M', 'bd', 'aSbSdSbS#'), ('M', '', 'bSaScSaSdSbS#'), ('M', 'bd', 'SdSbS#'), ('M', '', 'ScSaSdSbS#'), ('M', 'd', 'cSdSaSdSbS#'), ('M', 'd', 'bSaSaSdSbS#'), ('M', 'cbd', 'cSdSbS#'), ('M', 'bd', 'dSbS#'), ('M', 'cbd', 'SbS#'), ('M', 'cbd', 'bS#'), ('M', 'cbd', 'bSaSbS#'), ('M', 'bd', 'cSdSdSbS#'), ('M', 'cbd', 'TbS#'), ('M', 'bd', 'dScSdSbS#'), ('M', 'd', 'SaSdSbS#'), ('M', 'bd', 'bSaSdSbS#'), ('M', 'd', 'dScSaSdSbS#'), ('M', 'acbd', 'cSdS#'), ('M', '', 'cSdScSaSdSbS#'), ('M', 'acbd', 'T#'), ('M', 'acbd', 'S#'), ('M', 'bd', 'TdSbS#'), ('M', 'cbd', 'dScSbS#')}\n"
     ]
    }
   ],
   "source": [
    "explore_pda(\"acbd\", Q32_PDA, STKMAX=1e9)"
   ]
  },
  {
   "cell_type": "markdown",
   "metadata": {
    "id": "R0aa9uUocL_y"
   },
   "source": [
    "## ==> Showing the four strings starting with ```a``` that do get accepted <=="
   ]
  },
  {
   "cell_type": "code",
   "execution_count": null,
   "metadata": {
    "colab": {
     "base_uri": "https://localhost:8080/"
    },
    "id": "3AtSGrwbcL_1",
    "outputId": "ef1b40dd-0bd8-4cfc-c7b2-223dd13c88f4"
   },
   "outputs": [
    {
     "name": "stdout",
     "output_type": "stream",
     "text": [
      "String acdb accepted by your PDA in 4 ways :-) \n",
      "Here are the ways: \n",
      "Final state  ('F', '', '#')\n",
      "Reached as follows:\n",
      "->  ('I', 'acdb', '#')\n",
      "->  ('M', 'acdb', 'S#')\n",
      "->  ('M', 'acdb', 'aSbS#')\n",
      "->  ('M', 'cdb', 'SbS#')\n",
      "->  ('M', 'cdb', 'TbS#')\n",
      "->  ('M', 'cdb', 'cSdSbS#')\n",
      "->  ('M', 'db', 'SdSbS#')\n",
      "->  ('M', 'db', 'dSbS#')\n",
      "->  ('M', 'b', 'SbS#')\n",
      "->  ('M', 'b', 'bS#')\n",
      "->  ('M', '', 'S#')\n",
      "->  ('M', '', '#')\n",
      "->  ('F', '', '#') .\n",
      "Final state  ('F', '', '#')\n",
      "Reached as follows:\n",
      "->  ('I', 'acdb', '#')\n",
      "->  ('M', 'acdb', 'S#')\n",
      "->  ('M', 'acdb', 'aSbS#')\n",
      "->  ('M', 'cdb', 'SbS#')\n",
      "->  ('M', 'cdb', 'TbS#')\n",
      "->  ('M', 'cdb', 'cSdSbS#')\n",
      "->  ('M', 'db', 'SdSbS#')\n",
      "->  ('M', 'db', 'TdSbS#')\n",
      "->  ('M', 'db', 'dSbS#')\n",
      "->  ('M', 'b', 'SbS#')\n",
      "->  ('M', 'b', 'bS#')\n",
      "->  ('M', '', 'S#')\n",
      "->  ('M', '', '#')\n",
      "->  ('F', '', '#') .\n",
      "Final state  ('F', '', '#')\n",
      "Reached as follows:\n",
      "->  ('I', 'acdb', '#')\n",
      "->  ('M', 'acdb', 'S#')\n",
      "->  ('M', 'acdb', 'aSbS#')\n",
      "->  ('M', 'cdb', 'SbS#')\n",
      "->  ('M', 'cdb', 'TbS#')\n",
      "->  ('M', 'cdb', 'cSdSbS#')\n",
      "->  ('M', 'db', 'SdSbS#')\n",
      "->  ('M', 'db', 'dSbS#')\n",
      "->  ('M', 'b', 'SbS#')\n",
      "->  ('M', 'b', 'TbS#')\n",
      "->  ('M', 'b', 'bS#')\n",
      "->  ('M', '', 'S#')\n",
      "->  ('M', '', '#')\n",
      "->  ('F', '', '#') .\n",
      "Final state  ('F', '', '#')\n",
      "Reached as follows:\n",
      "->  ('I', 'acdb', '#')\n",
      "->  ('M', 'acdb', 'S#')\n",
      "->  ('M', 'acdb', 'aSbS#')\n",
      "->  ('M', 'cdb', 'SbS#')\n",
      "->  ('M', 'cdb', 'TbS#')\n",
      "->  ('M', 'cdb', 'cSdSbS#')\n",
      "->  ('M', 'db', 'SdSbS#')\n",
      "->  ('M', 'db', 'dSbS#')\n",
      "->  ('M', 'b', 'SbS#')\n",
      "->  ('M', 'b', 'bS#')\n",
      "->  ('M', '', 'S#')\n",
      "->  ('M', '', 'T#')\n",
      "->  ('M', '', '#')\n",
      "->  ('F', '', '#') .\n"
     ]
    }
   ],
   "source": [
    "# a c d b\n",
    "explore_pda(\"acdb\",Q32_PDA)"
   ]
  },
  {
   "cell_type": "code",
   "execution_count": null,
   "metadata": {
    "colab": {
     "base_uri": "https://localhost:8080/"
    },
    "id": "em0IXqphcL_7",
    "outputId": "a0b62f39-9ce1-4fd3-b951-fcc9e0ae14f7"
   },
   "outputs": [
    {
     "name": "stdout",
     "output_type": "stream",
     "text": [
      "String adcb accepted by your PDA in 4 ways :-) \n",
      "Here are the ways: \n",
      "Final state  ('F', '', '#')\n",
      "Reached as follows:\n",
      "->  ('I', 'adcb', '#')\n",
      "->  ('M', 'adcb', 'S#')\n",
      "->  ('M', 'adcb', 'aSbS#')\n",
      "->  ('M', 'dcb', 'SbS#')\n",
      "->  ('M', 'dcb', 'TbS#')\n",
      "->  ('M', 'dcb', 'dScSbS#')\n",
      "->  ('M', 'cb', 'ScSbS#')\n",
      "->  ('M', 'cb', 'cSbS#')\n",
      "->  ('M', 'b', 'SbS#')\n",
      "->  ('M', 'b', 'bS#')\n",
      "->  ('M', '', 'S#')\n",
      "->  ('M', '', '#')\n",
      "->  ('F', '', '#') .\n",
      "Final state  ('F', '', '#')\n",
      "Reached as follows:\n",
      "->  ('I', 'adcb', '#')\n",
      "->  ('M', 'adcb', 'S#')\n",
      "->  ('M', 'adcb', 'aSbS#')\n",
      "->  ('M', 'dcb', 'SbS#')\n",
      "->  ('M', 'dcb', 'TbS#')\n",
      "->  ('M', 'dcb', 'dScSbS#')\n",
      "->  ('M', 'cb', 'ScSbS#')\n",
      "->  ('M', 'cb', 'TcSbS#')\n",
      "->  ('M', 'cb', 'cSbS#')\n",
      "->  ('M', 'b', 'SbS#')\n",
      "->  ('M', 'b', 'bS#')\n",
      "->  ('M', '', 'S#')\n",
      "->  ('M', '', '#')\n",
      "->  ('F', '', '#') .\n",
      "Final state  ('F', '', '#')\n",
      "Reached as follows:\n",
      "->  ('I', 'adcb', '#')\n",
      "->  ('M', 'adcb', 'S#')\n",
      "->  ('M', 'adcb', 'aSbS#')\n",
      "->  ('M', 'dcb', 'SbS#')\n",
      "->  ('M', 'dcb', 'TbS#')\n",
      "->  ('M', 'dcb', 'dScSbS#')\n",
      "->  ('M', 'cb', 'ScSbS#')\n",
      "->  ('M', 'cb', 'cSbS#')\n",
      "->  ('M', 'b', 'SbS#')\n",
      "->  ('M', 'b', 'TbS#')\n",
      "->  ('M', 'b', 'bS#')\n",
      "->  ('M', '', 'S#')\n",
      "->  ('M', '', '#')\n",
      "->  ('F', '', '#') .\n",
      "Final state  ('F', '', '#')\n",
      "Reached as follows:\n",
      "->  ('I', 'adcb', '#')\n",
      "->  ('M', 'adcb', 'S#')\n",
      "->  ('M', 'adcb', 'aSbS#')\n",
      "->  ('M', 'dcb', 'SbS#')\n",
      "->  ('M', 'dcb', 'TbS#')\n",
      "->  ('M', 'dcb', 'dScSbS#')\n",
      "->  ('M', 'cb', 'ScSbS#')\n",
      "->  ('M', 'cb', 'cSbS#')\n",
      "->  ('M', 'b', 'SbS#')\n",
      "->  ('M', 'b', 'bS#')\n",
      "->  ('M', '', 'S#')\n",
      "->  ('M', '', 'T#')\n",
      "->  ('M', '', '#')\n",
      "->  ('F', '', '#') .\n"
     ]
    }
   ],
   "source": [
    "# a d c b\n",
    "explore_pda(\"adcb\",Q32_PDA)"
   ]
  },
  {
   "cell_type": "code",
   "execution_count": null,
   "metadata": {
    "colab": {
     "base_uri": "https://localhost:8080/"
    },
    "id": "-bVa-ymjcMAB",
    "outputId": "7a37409f-2409-4686-ec73-cd6579947ad8"
   },
   "outputs": [
    {
     "name": "stdout",
     "output_type": "stream",
     "text": [
      "String abcd accepted by your PDA in 4 ways :-) \n",
      "Here are the ways: \n",
      "Final state  ('F', '', '#')\n",
      "Reached as follows:\n",
      "->  ('I', 'abcd', '#')\n",
      "->  ('M', 'abcd', 'S#')\n",
      "->  ('M', 'abcd', 'aSbS#')\n",
      "->  ('M', 'bcd', 'SbS#')\n",
      "->  ('M', 'bcd', 'bS#')\n",
      "->  ('M', 'cd', 'S#')\n",
      "->  ('M', 'cd', 'T#')\n",
      "->  ('M', 'cd', 'cSdS#')\n",
      "->  ('M', 'd', 'SdS#')\n",
      "->  ('M', 'd', 'dS#')\n",
      "->  ('M', '', 'S#')\n",
      "->  ('M', '', '#')\n",
      "->  ('F', '', '#') .\n",
      "Final state  ('F', '', '#')\n",
      "Reached as follows:\n",
      "->  ('I', 'abcd', '#')\n",
      "->  ('M', 'abcd', 'S#')\n",
      "->  ('M', 'abcd', 'aSbS#')\n",
      "->  ('M', 'bcd', 'SbS#')\n",
      "->  ('M', 'bcd', 'TbS#')\n",
      "->  ('M', 'bcd', 'bS#')\n",
      "->  ('M', 'cd', 'S#')\n",
      "->  ('M', 'cd', 'T#')\n",
      "->  ('M', 'cd', 'cSdS#')\n",
      "->  ('M', 'd', 'SdS#')\n",
      "->  ('M', 'd', 'dS#')\n",
      "->  ('M', '', 'S#')\n",
      "->  ('M', '', '#')\n",
      "->  ('F', '', '#') .\n",
      "Final state  ('F', '', '#')\n",
      "Reached as follows:\n",
      "->  ('I', 'abcd', '#')\n",
      "->  ('M', 'abcd', 'S#')\n",
      "->  ('M', 'abcd', 'aSbS#')\n",
      "->  ('M', 'bcd', 'SbS#')\n",
      "->  ('M', 'bcd', 'bS#')\n",
      "->  ('M', 'cd', 'S#')\n",
      "->  ('M', 'cd', 'T#')\n",
      "->  ('M', 'cd', 'cSdS#')\n",
      "->  ('M', 'd', 'SdS#')\n",
      "->  ('M', 'd', 'TdS#')\n",
      "->  ('M', 'd', 'dS#')\n",
      "->  ('M', '', 'S#')\n",
      "->  ('M', '', '#')\n",
      "->  ('F', '', '#') .\n",
      "Final state  ('F', '', '#')\n",
      "Reached as follows:\n",
      "->  ('I', 'abcd', '#')\n",
      "->  ('M', 'abcd', 'S#')\n",
      "->  ('M', 'abcd', 'aSbS#')\n",
      "->  ('M', 'bcd', 'SbS#')\n",
      "->  ('M', 'bcd', 'bS#')\n",
      "->  ('M', 'cd', 'S#')\n",
      "->  ('M', 'cd', 'T#')\n",
      "->  ('M', 'cd', 'cSdS#')\n",
      "->  ('M', 'd', 'SdS#')\n",
      "->  ('M', 'd', 'dS#')\n",
      "->  ('M', '', 'S#')\n",
      "->  ('M', '', 'T#')\n",
      "->  ('M', '', '#')\n",
      "->  ('F', '', '#') .\n"
     ]
    }
   ],
   "source": [
    "# a b c d\n",
    "explore_pda(\"abcd\",Q32_PDA)"
   ]
  },
  {
   "cell_type": "code",
   "execution_count": null,
   "metadata": {
    "colab": {
     "base_uri": "https://localhost:8080/"
    },
    "id": "oqOXC6gdcMAG",
    "outputId": "2ca9cba7-93e7-4fad-81ed-243f5ae7d463"
   },
   "outputs": [
    {
     "name": "stdout",
     "output_type": "stream",
     "text": [
      "String abdc accepted by your PDA in 4 ways :-) \n",
      "Here are the ways: \n",
      "Final state  ('F', '', '#')\n",
      "Reached as follows:\n",
      "->  ('I', 'abdc', '#')\n",
      "->  ('M', 'abdc', 'S#')\n",
      "->  ('M', 'abdc', 'aSbS#')\n",
      "->  ('M', 'bdc', 'SbS#')\n",
      "->  ('M', 'bdc', 'bS#')\n",
      "->  ('M', 'dc', 'S#')\n",
      "->  ('M', 'dc', 'T#')\n",
      "->  ('M', 'dc', 'dScS#')\n",
      "->  ('M', 'c', 'ScS#')\n",
      "->  ('M', 'c', 'cS#')\n",
      "->  ('M', '', 'S#')\n",
      "->  ('M', '', '#')\n",
      "->  ('F', '', '#') .\n",
      "Final state  ('F', '', '#')\n",
      "Reached as follows:\n",
      "->  ('I', 'abdc', '#')\n",
      "->  ('M', 'abdc', 'S#')\n",
      "->  ('M', 'abdc', 'aSbS#')\n",
      "->  ('M', 'bdc', 'SbS#')\n",
      "->  ('M', 'bdc', 'TbS#')\n",
      "->  ('M', 'bdc', 'bS#')\n",
      "->  ('M', 'dc', 'S#')\n",
      "->  ('M', 'dc', 'T#')\n",
      "->  ('M', 'dc', 'dScS#')\n",
      "->  ('M', 'c', 'ScS#')\n",
      "->  ('M', 'c', 'cS#')\n",
      "->  ('M', '', 'S#')\n",
      "->  ('M', '', '#')\n",
      "->  ('F', '', '#') .\n",
      "Final state  ('F', '', '#')\n",
      "Reached as follows:\n",
      "->  ('I', 'abdc', '#')\n",
      "->  ('M', 'abdc', 'S#')\n",
      "->  ('M', 'abdc', 'aSbS#')\n",
      "->  ('M', 'bdc', 'SbS#')\n",
      "->  ('M', 'bdc', 'bS#')\n",
      "->  ('M', 'dc', 'S#')\n",
      "->  ('M', 'dc', 'T#')\n",
      "->  ('M', 'dc', 'dScS#')\n",
      "->  ('M', 'c', 'ScS#')\n",
      "->  ('M', 'c', 'TcS#')\n",
      "->  ('M', 'c', 'cS#')\n",
      "->  ('M', '', 'S#')\n",
      "->  ('M', '', '#')\n",
      "->  ('F', '', '#') .\n",
      "Final state  ('F', '', '#')\n",
      "Reached as follows:\n",
      "->  ('I', 'abdc', '#')\n",
      "->  ('M', 'abdc', 'S#')\n",
      "->  ('M', 'abdc', 'aSbS#')\n",
      "->  ('M', 'bdc', 'SbS#')\n",
      "->  ('M', 'bdc', 'bS#')\n",
      "->  ('M', 'dc', 'S#')\n",
      "->  ('M', 'dc', 'T#')\n",
      "->  ('M', 'dc', 'dScS#')\n",
      "->  ('M', 'c', 'ScS#')\n",
      "->  ('M', 'c', 'cS#')\n",
      "->  ('M', '', 'S#')\n",
      "->  ('M', '', 'T#')\n",
      "->  ('M', '', '#')\n",
      "->  ('F', '', '#') .\n"
     ]
    }
   ],
   "source": [
    "# a b d c\n",
    "explore_pda(\"abdc\",Q32_PDA)"
   ]
  },
  {
   "cell_type": "markdown",
   "metadata": {
    "id": "vduLIac_cMAN"
   },
   "source": [
    "============================================================================================================"
   ]
  },
  {
   "cell_type": "markdown",
   "metadata": {
    "id": "tXzhHJ1HcMAN"
   },
   "source": [
    "#  Q4. Develop a CFG for L2 of Q1, and for grading, convert it to a PDA and run it on the given test strings. Answer after where the arrows appear.\n",
    "\n"
   ]
  },
  {
   "cell_type": "markdown",
   "metadata": {
    "id": "SwijpjhdcMAO"
   },
   "source": [
    "## Q 4.2: CFG for L2 : $\\{ a^n b^k \\;:\\; n > k+2,\\; n,k \\ge 0 \\}$"
   ]
  },
  {
   "cell_type": "markdown",
   "metadata": {
    "id": "_hqpzun9cMAP"
   },
   "source": [
    "## ==> My CFG is presented in the cell below <=="
   ]
  },
  {
   "cell_type": "code",
   "execution_count": null,
   "metadata": {
    "id": "H7yS1ubPcMAQ"
   },
   "outputs": [],
   "source": [
    "'''\n",
    "\n",
    "S -> aaAT\n",
    "A -> aA | ''\n",
    "T -> aTb | ''\n",
    " \n",
    "'''\n"
   ]
  },
  {
   "cell_type": "markdown",
   "metadata": {
    "id": "uMrEruuYcMAX"
   },
   "source": [
    "# ==> The PDA for testing my CFG is below <=="
   ]
  },
  {
   "cell_type": "code",
   "execution_count": null,
   "metadata": {
    "colab": {
     "base_uri": "https://localhost:8080/"
    },
    "id": "1q1ismD8cMAY",
    "outputId": "c11cbd1b-5a57-4d7f-ec64-a8bb7dd5c766"
   },
   "outputs": [
    {
     "name": "stderr",
     "output_type": "stream",
     "text": [
      "Generating LALR tables\n"
     ]
    }
   ],
   "source": [
    "pda_q42 = md2mc(\n",
    "'''PDA\n",
    "\n",
    "I: '', #; S# -> M\n",
    "M: '', #; # -> F\n",
    "\n",
    "M: a, a; '' -> M\n",
    "M: b, b; '' -> M\n",
    "\n",
    "M: '', S; aaAT -> M\n",
    "\n",
    "M: '', A; aA -> M\n",
    "M: '', A; '' -> M\n",
    "\n",
    "M: '', T; aTb -> M\n",
    "M: '', T; '' -> M\n",
    "\n",
    "''')\n"
   ]
  },
  {
   "cell_type": "markdown",
   "metadata": {
    "id": "Pu9OOFbocMAd"
   },
   "source": [
    "# ==> The tests on this PDA that must be run, for grading <=="
   ]
  },
  {
   "cell_type": "code",
   "execution_count": null,
   "metadata": {
    "colab": {
     "base_uri": "https://localhost:8080/"
    },
    "id": "3Ln3H2DZcMAe",
    "outputId": "4a564bdf-aa23-4f29-8ccc-f089e1416347"
   },
   "outputs": [
    {
     "name": "stdout",
     "output_type": "stream",
     "text": [
      "String ab rejected by your PDA :-(\n",
      "Visited states are:\n",
      "{('M', 'b', 'aAT#'), ('I', 'ab', '#'), ('M', 'ab', 'aaAT#'), ('M', 'ab', 'S#')}\n"
     ]
    }
   ],
   "source": [
    "explore_pda(\"ab\", pda_q42)"
   ]
  },
  {
   "cell_type": "code",
   "execution_count": null,
   "metadata": {
    "colab": {
     "base_uri": "https://localhost:8080/"
    },
    "id": "6uPezH38cMAl",
    "outputId": "34801505-34d4-4a19-ce9b-703eb90652d0"
   },
   "outputs": [
    {
     "name": "stdout",
     "output_type": "stream",
     "text": [
      "String aaab accepted by your PDA in 1 ways :-) \n",
      "Here are the ways: \n",
      "Final state  ('F', '', '#')\n",
      "Reached as follows:\n",
      "->  ('I', 'aaab', '#')\n",
      "->  ('M', 'aaab', 'S#')\n",
      "->  ('M', 'aaab', 'aaAT#')\n",
      "->  ('M', 'aab', 'aAT#')\n",
      "->  ('M', 'ab', 'AT#')\n",
      "->  ('M', 'ab', 'T#')\n",
      "->  ('M', 'ab', 'aTb#')\n",
      "->  ('M', 'b', 'Tb#')\n",
      "->  ('M', 'b', 'b#')\n",
      "->  ('M', '', '#')\n",
      "->  ('F', '', '#') .\n"
     ]
    }
   ],
   "source": [
    "explore_pda(\"aaab\", pda_q42)"
   ]
  },
  {
   "cell_type": "code",
   "execution_count": null,
   "metadata": {
    "colab": {
     "base_uri": "https://localhost:8080/"
    },
    "id": "RE_rZSaDcMAp",
    "outputId": "436276b1-b2e0-4137-92d0-24529b122d37"
   },
   "outputs": [
    {
     "name": "stdout",
     "output_type": "stream",
     "text": [
      "String aaaab accepted by your PDA in 1 ways :-) \n",
      "Here are the ways: \n",
      "Final state  ('F', '', '#')\n",
      "Reached as follows:\n",
      "->  ('I', 'aaaab', '#')\n",
      "->  ('M', 'aaaab', 'S#')\n",
      "->  ('M', 'aaaab', 'aaAT#')\n",
      "->  ('M', 'aaab', 'aAT#')\n",
      "->  ('M', 'aab', 'AT#')\n",
      "->  ('M', 'aab', 'aAT#')\n",
      "->  ('M', 'ab', 'AT#')\n",
      "->  ('M', 'ab', 'T#')\n",
      "->  ('M', 'ab', 'aTb#')\n",
      "->  ('M', 'b', 'Tb#')\n",
      "->  ('M', 'b', 'b#')\n",
      "->  ('M', '', '#')\n",
      "->  ('F', '', '#') .\n"
     ]
    }
   ],
   "source": [
    "explore_pda(\"aaaab\", pda_q42)"
   ]
  },
  {
   "cell_type": "code",
   "execution_count": null,
   "metadata": {
    "colab": {
     "base_uri": "https://localhost:8080/"
    },
    "id": "iEDBrPM8cMAt",
    "outputId": "c51a299f-b789-47c7-ade5-3c17fe4b4590"
   },
   "outputs": [
    {
     "name": "stdout",
     "output_type": "stream",
     "text": [
      "String aaaaaabbb accepted by your PDA in 1 ways :-) \n",
      "Here are the ways: \n",
      "Final state  ('F', '', '#')\n",
      "Reached as follows:\n",
      "->  ('I', 'aaaaaabbb', '#')\n",
      "->  ('M', 'aaaaaabbb', 'S#')\n",
      "->  ('M', 'aaaaaabbb', 'aaAT#')\n",
      "->  ('M', 'aaaaabbb', 'aAT#')\n",
      "->  ('M', 'aaaabbb', 'AT#')\n",
      "->  ('M', 'aaaabbb', 'aAT#')\n",
      "->  ('M', 'aaabbb', 'AT#')\n",
      "->  ('M', 'aaabbb', 'T#')\n",
      "->  ('M', 'aaabbb', 'aTb#')\n",
      "->  ('M', 'aabbb', 'Tb#')\n",
      "->  ('M', 'aabbb', 'aTbb#')\n",
      "->  ('M', 'abbb', 'Tbb#')\n",
      "->  ('M', 'abbb', 'aTbbb#')\n",
      "->  ('M', 'bbb', 'Tbbb#')\n",
      "->  ('M', 'bbb', 'bbb#')\n",
      "->  ('M', 'bb', 'bb#')\n",
      "->  ('M', 'b', 'b#')\n",
      "->  ('M', '', '#')\n",
      "->  ('F', '', '#') .\n"
     ]
    }
   ],
   "source": [
    "explore_pda(\"aaaaaabbb\", pda_q42)"
   ]
  },
  {
   "cell_type": "code",
   "execution_count": null,
   "metadata": {
    "colab": {
     "base_uri": "https://localhost:8080/"
    },
    "id": "dFSt54GKcMAy",
    "outputId": "fc29d349-51e6-476e-b8a0-bc36c71c5736"
   },
   "outputs": [
    {
     "name": "stdout",
     "output_type": "stream",
     "text": [
      "String aaaaaabbbb accepted by your PDA in 1 ways :-) \n",
      "Here are the ways: \n",
      "Final state  ('F', '', '#')\n",
      "Reached as follows:\n",
      "->  ('I', 'aaaaaabbbb', '#')\n",
      "->  ('M', 'aaaaaabbbb', 'S#')\n",
      "->  ('M', 'aaaaaabbbb', 'aaAT#')\n",
      "->  ('M', 'aaaaabbbb', 'aAT#')\n",
      "->  ('M', 'aaaabbbb', 'AT#')\n",
      "->  ('M', 'aaaabbbb', 'T#')\n",
      "->  ('M', 'aaaabbbb', 'aTb#')\n",
      "->  ('M', 'aaabbbb', 'Tb#')\n",
      "->  ('M', 'aaabbbb', 'aTbb#')\n",
      "->  ('M', 'aabbbb', 'Tbb#')\n",
      "->  ('M', 'aabbbb', 'aTbbb#')\n",
      "->  ('M', 'abbbb', 'Tbbb#')\n",
      "->  ('M', 'abbbb', 'aTbbbb#')\n",
      "->  ('M', 'bbbb', 'Tbbbb#')\n",
      "->  ('M', 'bbbb', 'bbbb#')\n",
      "->  ('M', 'bbb', 'bbb#')\n",
      "->  ('M', 'bb', 'bb#')\n",
      "->  ('M', 'b', 'b#')\n",
      "->  ('M', '', '#')\n",
      "->  ('F', '', '#') .\n"
     ]
    }
   ],
   "source": [
    "explore_pda(\"aaaaaabbbb\", pda_q42)"
   ]
  },
  {
   "cell_type": "markdown",
   "metadata": {
    "id": "IrbU9XRccMA5"
   },
   "source": [
    "# =======================  END ============================="
   ]
  }
 ],
 "metadata": {
  "colab": {
   "name": "u1172983_MT2_Notebook.ipynb",
   "provenance": []
  },
  "kernelspec": {
   "display_name": "Python 3",
   "language": "python",
   "name": "python3"
  },
  "language_info": {
   "codemirror_mode": {
    "name": "ipython",
    "version": 3
   },
   "file_extension": ".py",
   "mimetype": "text/x-python",
   "name": "python",
   "nbconvert_exporter": "python",
   "pygments_lexer": "ipython3",
   "version": "3.7.4"
  },
  "toc": {
   "base_numbering": 1,
   "nav_menu": {
    "height": "318px",
    "width": "252px"
   },
   "number_sections": false,
   "sideBar": true,
   "skip_h1_title": false,
   "title_cell": "Table of Contents",
   "title_sidebar": "Contents",
   "toc_cell": false,
   "toc_position": {},
   "toc_section_display": "block",
   "toc_window_display": false
  }
 },
 "nbformat": 4,
 "nbformat_minor": 4
}
