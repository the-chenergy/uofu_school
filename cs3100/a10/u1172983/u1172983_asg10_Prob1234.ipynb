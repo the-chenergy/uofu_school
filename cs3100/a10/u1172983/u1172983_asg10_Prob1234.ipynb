{
 "cells": [
  {
   "cell_type": "markdown",
   "metadata": {},
   "source": [
    "# Asg-10 focuses on questions graded by the mentioned TAs\n",
    "\n",
    " "
   ]
  },
  {
   "cell_type": "code",
   "execution_count": 41,
   "metadata": {},
   "outputs": [
    {
     "output_type": "stream",
     "name": "stdout",
     "text": [
      "Own install\n"
     ]
    }
   ],
   "source": [
    "#~~~~~~~~~~~~~~~~~~~~~~~~~~~~~~~~~~~~~~~~~~~~~~~~~~~~~~~\n",
    "import sys\n",
    "\n",
    "# -- Detect if in Own Install or in Colab\n",
    "try:\n",
    "    import google.colab\n",
    "    OWN_INSTALL = False\n",
    "except:\n",
    "    OWN_INSTALL = True\n",
    "    \n",
    "if OWN_INSTALL:\n",
    "    print(\"Own install\")\n",
    "    sys.path[0:0] = ['../../../../..',  '../../../../../3rdparty',\n",
    "                     '../../../..',  '../../../../3rdparty',\n",
    "                     '../../..',     '../../../3rdparty',\n",
    "                     '../..',        '../../3rdparty',\n",
    "                     '..',           '../3rdparty' ]\n",
    "    \n",
    "else: # In colab\n",
    "    ! if [ ! -d Jove ]; then git clone https://github.com/ganeshutah/Jove Jove; fi\n",
    "    sys.path.append('./Jove')\n",
    "    sys.path.append('./Jove/jove')\n",
    "\n",
    "# -- common imports --\n",
    "from jove.PcpJupyterNew import *\n",
    "#~~~~~~~~~~~~~~~~~~~~~~~~~~~~~~~~~~~~~~~~~~~~~~~~~~~~~~~"
   ]
  },
  {
   "cell_type": "markdown",
   "metadata": {},
   "source": [
    "# ============="
   ]
  },
  {
   "cell_type": "code",
   "execution_count": 42,
   "metadata": {},
   "outputs": [
    {
     "output_type": "stream",
     "name": "stdout",
     "text": [
      "Help on function pcp_solve in module jove.PcpJupyterNew:\n\npcp_solve(pcp_pairs, OWN_INSTALL=False, run=None, ni=False, di=None, depth=None, tiles_per_row=15)\n    Forward user input to a file, which we then use Ling Zhao's pcp solver to solve.\n    :param OWN_INSTALL: if True, running on one's own machine; default is Colab (so false)\n    :param pcp_pairs: List of tuple pairs representing pcp 'tiles'\n    :param run: Number of runs to perform.\n    :param ni: No iterative search.\n    :param di: Depth increment.\n    :param depth: Search depth.\n    :param tiles_per_row: Number of tiles to show in single row together (useful for creating more meaningful output)\n\n"
     ]
    }
   ],
   "source": [
    "help(pcp_solve)"
   ]
  },
  {
   "cell_type": "markdown",
   "metadata": {},
   "source": [
    "# (1) LT, 25%:\n",
    " "
   ]
  },
  {
   "cell_type": "markdown",
   "metadata": {},
   "source": [
    "## 1(a): "
   ]
  },
  {
   "cell_type": "code",
   "execution_count": 43,
   "metadata": {},
   "outputs": [
    {
     "output_type": "stream",
     "name": "stdout",
     "text": [
      "Detected platform windows; PLEASE be running with Admin Privileges!\n",
      " Running the command ... :  ['pcp.exe', '-i', 'temp.txt']\n",
      "Solution(s) to PCP instance are below. Note: the tiles may be reversed,\n",
      "  as the solver may sometimes present the solution in reverse.:\n",
      "\n",
      "Solution 1\n",
      "[3, 2, 2, 3, 3, 1, 3, 2, 2, 2, 1, 3, 3, 3, 2, 1, 3, 2, 2, 1, 3, 2, 1, 3, 3, 2, 1, 3, 2, 3, 2, 2, 1, 3, 2, 1, 3, 3, 2, 2, 3, 3, 2, 1, 3, 2, 1, 1, 3, 3, 1, 1, 3, 2, 1, 1, 1, 1, 2, 2, 1, 1, 2, 2, 3, 1, 3, 3, 1, 2, 1, 1, 2, 1, 1]\n",
      "0   1   1   0   0   011 0   1   1   1   011 0   0   0   1   \n",
      "011 0   0   011 011 1   011 0   0   0   1   011 011 011 0   \n",
      "\n",
      "011 0   1   1   011 0   1   011 0   0   1   011 0   1   0   \n",
      "1   011 0   0   1   011 0   1   011 011 0   1   011 0   011 \n",
      "\n",
      "1   1   011 0   1   011 0   0   1   1   0   0   1   011 0   \n",
      "0   0   1   011 0   1   011 011 0   0   011 011 0   1   011 \n",
      "\n",
      "1   011 011 0   0   011 011 0   1   011 011 011 011 1   1   \n",
      "0   1   1   011 011 1   1   011 0   1   1   1   1   0   0   \n",
      "\n",
      "011 011 1   1   0   011 0   0   011 1   011 011 1   011 011 \n",
      "1   1   0   0   011 1   011 011 1   0   1   1   0   1   1   \n",
      "\n",
      "\n",
      "\n",
      "\n",
      "\n",
      "Solution 2\n",
      "[3, 2, 2, 3, 3, 1, 3, 2, 2, 2, 1, 3, 3, 3, 2, 3, 2, 2, 1, 1, 3, 1, 3, 1, 1, 2, 3, 2, 2, 2, 2, 3, 1, 3, 3, 3, 3, 1, 2, 1, 3, 2, 2, 1, 1, 2, 3, 2, 1, 3, 1, 3, 3, 2, 2, 3, 2, 1, 2, 1, 1, 3, 3, 1, 3, 2, 1, 1, 1, 2, 1, 1, 2, 1, 1]\n",
      "0   1   1   0   0   011 0   1   1   1   011 0   0   0   1   \n",
      "011 0   0   011 011 1   011 0   0   0   1   011 011 011 0   \n",
      "\n",
      "0   1   1   011 011 0   011 0   011 011 1   0   1   1   1   \n",
      "011 0   0   1   1   011 1   011 1   1   0   011 0   0   0   \n",
      "\n",
      "1   0   011 0   0   0   0   011 1   011 0   1   1   011 011 \n",
      "0   011 1   011 011 011 011 1   0   1   011 0   0   1   1   \n",
      "\n",
      "1   0   1   011 0   011 0   0   1   1   0   1   011 1   011 \n",
      "0   011 0   1   011 1   011 011 0   0   011 0   1   0   1   \n",
      "\n",
      "011 0   0   011 0   1   011 011 011 1   011 011 1   011 011 \n",
      "1   011 011 1   011 0   1   1   1   0   1   1   0   1   1   \n",
      "\n",
      "\n",
      "\n",
      "\n",
      "\n"
     ]
    }
   ],
   "source": [
    "# Tool Solution\n",
    "pcp_solve([('110', '1'), ('1', '0'), ('0', '110')], OWN_INSTALL)"
   ]
  },
  {
   "source": [
    "Solution length: 75 for both solutions"
   ],
   "cell_type": "markdown",
   "metadata": {}
  },
  {
   "cell_type": "markdown",
   "metadata": {},
   "source": [
    "## 1(b): "
   ]
  },
  {
   "cell_type": "code",
   "execution_count": 44,
   "metadata": {},
   "outputs": [
    {
     "output_type": "stream",
     "name": "stdout",
     "text": [
      "Detected platform windows; PLEASE be running with Admin Privileges!\n",
      " Running the command ... :  ['pcp.exe', '-i', 'temp.txt']\n",
      "Solution(s) to PCP instance are below. Note: the tiles may be reversed,\n",
      "  as the solver may sometimes present the solution in reverse.:\n",
      "\n",
      "Solution 1\n",
      "[3, 2, 2, 4, 1]\n",
      "0   1   1   0   011 \n",
      "011 0   0   1   1   \n",
      "\n",
      "\n"
     ]
    }
   ],
   "source": [
    "# Tool solution\n",
    "pcp_solve([('110', '1'), ('1', '0'), ('0', '110'), ('0', '1')],\n",
    "          OWN_INSTALL)"
   ]
  },
  {
   "source": [
    "Solution length: 5"
   ],
   "cell_type": "markdown",
   "metadata": {}
  },
  {
   "cell_type": "markdown",
   "metadata": {},
   "source": [
    "## 1(c, hand): "
   ]
  },
  {
   "source": [
    "<!-- Solution by hand is 2, 1, 3 -->\n",
    "\n",
    "We have the following tiles:\n",
    "\n",
    "  * Tile 1: `(1, 0)`\n",
    "\n",
    "  * Tile 2: `(101, 1)`\n",
    "\n",
    "  * Tile 3: `(0, 110)`\n",
    "\n",
    "Solution construction:\n",
    "\n",
    "  * Tile 2 is the only tile where both the top and the bottom start with the same character (\"1\"), therefore it must go first:\n",
    "    * Solution so far: `(101, 1)`\n",
    "\n",
    "  * The top now has an extra zero following, so tile 1 must go next since it's the only one having the bottom starting with a zero.\n",
    "    * Solution so far: `(101, 1) (1, 0)`\n",
    "\n",
    "  * The top now has an two extra ones following, so it's best for tile 3 to go next since it starts with two ones on the bottom.\n",
    "    * Solution so far: `(101, 1) (1, 0) (0, 110)`\n",
    "\n",
    "  * Now, the top and the bottom match up. The final solution is `(101, 1) (1, 0) (0, 110)` or tiles 2, 1, 3."
   ],
   "cell_type": "markdown",
   "metadata": {}
  },
  {
   "cell_type": "markdown",
   "metadata": {},
   "source": [
    "## 1(c, tool check): "
   ]
  },
  {
   "cell_type": "code",
   "execution_count": 45,
   "metadata": {},
   "outputs": [
    {
     "output_type": "stream",
     "name": "stdout",
     "text": [
      "Detected platform windows; PLEASE be running with Admin Privileges!\n Running the command ... :  ['pcp.exe', '-i', 'temp.txt']\nSolution(s) to PCP instance are below. Note: the tiles may be reversed,\n  as the solver may sometimes present the solution in reverse.:\n\nSolution 1\n[3, 1, 2]\n0   1   101 \n011 0   1   \n\n\n"
     ]
    }
   ],
   "source": [
    "# Solution by tool for the same\n",
    "pcp_solve([('1', '0'), ('101', '1'), ('0', '110')], OWN_INSTALL)"
   ]
  },
  {
   "source": [
    "The tool presented the solution in reverse, but we can see that it's the same solution."
   ],
   "cell_type": "markdown",
   "metadata": {}
  },
  {
   "cell_type": "markdown",
   "metadata": {},
   "source": [
    "## 1(d): "
   ]
  },
  {
   "cell_type": "code",
   "execution_count": 57,
   "metadata": {},
   "outputs": [
    {
     "output_type": "stream",
     "name": "stdout",
     "text": [
      "Detected platform windows; PLEASE be running with Admin Privileges!\n Running the command ... :  ['pcp.exe', '-i', 'temp.txt']\nSolution(s) to PCP instance are below. Note: the tiles may be reversed,\n  as the solver may sometimes present the solution in reverse.:\n\nSolution 1\n[1, 2, 2, 2, 2, 2, 3, 3, 3, 3, 3, 3, 3, 3, 3, 3, 3, 3, 3, 3, 3, 3, 3, 3, 3, 3, 3, 3, 3, 3, 3, 3, 3, 3, 3, 3]\n101010101010 010101010101 010101010101 010101010101 010101010101 010101010101 01           01           01           01           01           01           01           01           01           \n10           10           10           10           10           10           0101         0101         0101         0101         0101         0101         0101         0101         0101         \n\n01           01           01           01           01           01           01           01           01           01           01           01           01           01           01           \n0101         0101         0101         0101         0101         0101         0101         0101         0101         0101         0101         0101         0101         0101         0101         \n\n01           01           01           01           01           01           \n0101         0101         0101         0101         0101         0101         \n\n\nSolution 2\n[3, 3, 3, 3, 3, 3, 2, 1, 2, 2, 2, 2, 3, 3, 3, 3, 3, 3, 3, 3, 3, 3, 3, 3, 3, 3, 3, 3, 3, 3, 3, 3, 3, 3, 3, 3]\n01           01           01           01           01           01           010101010101 101010101010 010101010101 010101010101 010101010101 010101010101 01           01           01           \n0101         0101         0101         0101         0101         0101         10           10           10           10           10           10           0101         0101         0101         \n\n01           01           01           01           01           01           01           01           01           01           01           01           01           01           01           \n0101         0101         0101         0101         0101         0101         0101         0101         0101         0101         0101         0101         0101         0101         0101         \n\n01           01           01           01           01           01           \n0101         0101         0101         0101         0101         0101         \n\n\nSolution 3\n[3, 3, 3, 3, 3, 3, 3, 3, 3, 3, 3, 3, 2, 2, 1, 2, 2, 2, 3, 3, 3, 3, 3, 3, 3, 3, 3, 3, 3, 3, 3, 3, 3, 3, 3, 3]\n01           01           01           01           01           01           01           01           01           01           01           01           010101010101 010101010101 101010101010 \n0101         0101         0101         0101         0101         0101         0101         0101         0101         0101         0101         0101         10           10           10           \n\n010101010101 010101010101 010101010101 01           01           01           01           01           01           01           01           01           01           01           01           \n10           10           10           0101         0101         0101         0101         0101         0101         0101         0101         0101         0101         0101         0101         \n\n01           01           01           01           01           01           \n0101         0101         0101         0101         0101         0101         \n\n\nSolution 4\n[3, 3, 3, 3, 3, 3, 3, 3, 3, 3, 3, 3, 3, 3, 3, 3, 3, 3, 2, 2, 2, 1, 2, 2, 3, 3, 3, 3, 3, 3, 3, 3, 3, 3, 3, 3]\n01           01           01           01           01           01           01           01           01           01           01           01           01           01           01           \n0101         0101         0101         0101         0101         0101         0101         0101         0101         0101         0101         0101         0101         0101         0101         \n\n01           01           01           010101010101 010101010101 010101010101 101010101010 010101010101 010101010101 01           01           01           01           01           01           \n0101         0101         0101         10           10           10           10           10           10           0101         0101         0101         0101         0101         0101         \n\n01           01           01           01           01           01           \n0101         0101         0101         0101         0101         0101         \n\n\nSolution 5\n[3, 3, 3, 3, 3, 3, 3, 3, 3, 3, 3, 3, 3, 3, 3, 3, 3, 3, 3, 3, 3, 3, 3, 3, 2, 2, 2, 2, 1, 2, 3, 3, 3, 3, 3, 3]\n01           01           01           01           01           01           01           01           01           01           01           01           01           01           01           \n0101         0101         0101         0101         0101         0101         0101         0101         0101         0101         0101         0101         0101         0101         0101         \n\n01           01           01           01           01           01           01           01           01           010101010101 010101010101 010101010101 010101010101 101010101010 010101010101 \n0101         0101         0101         0101         0101         0101         0101         0101         0101         10           10           10           10           10           10           \n\n01           01           01           01           01           01           \n0101         0101         0101         0101         0101         0101         \n\n\nSolution 6\n[3, 3, 3, 3, 3, 3, 3, 3, 3, 3, 3, 3, 3, 3, 3, 3, 3, 3, 3, 3, 3, 3, 3, 3, 3, 3, 3, 3, 3, 3, 2, 2, 2, 2, 2, 1]\n01           01           01           01           01           01           01           01           01           01           01           01           01           01           01           \n0101         0101         0101         0101         0101         0101         0101         0101         0101         0101         0101         0101         0101         0101         0101         \n\n01           01           01           01           01           01           01           01           01           01           01           01           01           01           01           \n0101         0101         0101         0101         0101         0101         0101         0101         0101         0101         0101         0101         0101         0101         0101         \n\n010101010101 010101010101 010101010101 010101010101 010101010101 101010101010 \n10           10           10           10           10           10           \n\n\n"
     ]
    }
   ],
   "source": [
    "# Create the tiles separately; easier to change and run that way\n",
    "# Found it hard to create own instances that explode\n",
    "\n",
    "TILES = [('101010101010', '10'), ('010101010101', '10'), ('01', '0101')]\n",
    "pcp_solve(TILES, OWN_INSTALL)"
   ]
  },
  {
   "source": [
    "Solution length: 36 for all six solutions"
   ],
   "cell_type": "markdown",
   "metadata": {}
  },
  {
   "cell_type": "markdown",
   "metadata": {},
   "source": [
    "# ============="
   ]
  },
  {
   "cell_type": "markdown",
   "metadata": {},
   "source": [
    "# (2a) AR, 15%:\n",
    "\n",
    "* Suppose there exists a decider $H$ for $\\textit{Halt}_\\text{TM}$.\n",
    "\n",
    "  * Since $H$ is a decider, $H$ will always halt, and $H$ will accept $\\left<M, w\\right>$ if and only if $\\left<M, w\\right> \\in \\textit{Halt}_\\text{TM}$, or in other words, $M$ halts on $w$.\n",
    "\n",
    "* Create a program $D$ that takes input of a Turing machine $T$. Let $D$ halt and accept if $H(\\left<T, T\\right>)$ rejects, and let $D$ loop otherwise.\n",
    "\n",
    "  * This means that $D$ halts if the Turing machine $T$ loops on input $T$ and loops if $T$ halts on $T$.\n",
    "\n",
    "* Run the program $D$ with input of the $D$ itself. There are two possibilities of what $D$ would do:\n",
    "\n",
    "  * $D$ halts and accepts, meaning that $H(\\left<D, D\\right>)$ rejected, but this rejection would mean that $D$ should not halt on input $D$, which creates a contradiction.\n",
    "\n",
    "  * $D$ loops, meaning that $H(\\left<D, D\\right>)$ accepted, but this acceptance would mean that $D$ should halt and accept on input $D$, which creates a contradiction.\n",
    "\n",
    "* Therefore, we obtain a contradiction under all cases.\n",
    "  \n",
    "* Thus, $\\textit{Halt}_\\text{TM}$ is undecidable. $\\square$\n"
   ]
  },
  {
   "cell_type": "markdown",
   "metadata": {},
   "source": [
    "# (2b) AR, 10%:\n",
    "\n",
    "* The mapping reduction from $A_\\text{TM}$ to $\\textit{CFL}_\\text{TM}$ is to emit this machine $M'$:\n",
    "\n",
    "  * $M'$ takes input of a string $x$.\n",
    "\n",
    "  * If $x$ is in the form of $0^n1^n2^n$, then $M'$ rejects $x$ immediately.\n",
    "\n",
    "  * Otherwise, $M'$ runs $M$ on $w$:\n",
    "\n",
    "    * If $M$ accepts $w$, then $M'$ accepts $x$.\n",
    "\n",
    "    * If $M$ rejects $w$, then $M'$ rejects $x$.\n",
    "\n",
    "* Assume that there exists a decider $D$ that decides whether $M'$ would accept some input $x$ or not:\n",
    "\n",
    "  * If $D$ accepts, then $M'$ has a CFL, and $M$ must've accepted $w$.\n",
    "\n",
    "  * If $D$ rejects, then $M'$ does not have a CFL, and $M$ must've rejected $w$.\n",
    "  \n",
    "* Thus, we have achieved our mapping reduction.\n",
    "\n",
    "  * That is, $M'$ has a CFL if and only if $M$ accepts $w$."
   ]
  },
  {
   "cell_type": "markdown",
   "metadata": {},
   "source": [
    "# ============="
   ]
  },
  {
   "cell_type": "markdown",
   "metadata": {},
   "source": [
    "# (3, XL, SV) 50%:  \n",
    "\n",
    "\n",
    "## 3.a.i - describe $A, B, f$\n",
    "\n",
    "* What is A in this problem ? Describe clearly.\n",
    "\n",
    "* What is B in this problem ? Describe clearly.\n",
    "\n",
    "* What is f in this problem ? Describe clearly.\n",
    "\n",
    "## 3.a.ii - Proof for the $x \\in A  \\Rightarrow  f(x) \\in B$ part\n",
    "\n",
    "* Proof steps - be thorough; it is worth 25 points!\n",
    "\n",
    "* \n",
    "\n",
    "*\n",
    " \n",
    "\n",
    "## 3.b\n",
    " \n",
    "* Proof steps - be thorough; it is worth 25 points!\n",
    "\n",
    "*\n",
    "\n",
    "*\n",
    "\n"
   ]
  },
  {
   "cell_type": "markdown",
   "metadata": {},
   "source": [
    "# END\n"
   ]
  }
 ],
 "metadata": {
  "kernelspec": {
   "display_name": "Python 3",
   "language": "python",
   "name": "python3"
  },
  "language_info": {
   "codemirror_mode": {
    "name": "ipython",
    "version": 3
   },
   "file_extension": ".py",
   "mimetype": "text/x-python",
   "name": "python",
   "nbconvert_exporter": "python",
   "pygments_lexer": "ipython3",
   "version": "3.7.4-final"
  },
  "toc": {
   "colors": {
    "hover_highlight": "#DAA520",
    "running_highlight": "#FF0000",
    "selected_highlight": "#FFD700"
   },
   "moveMenuLeft": true,
   "nav_menu": {
    "height": "121px",
    "width": "252px"
   },
   "navigate_menu": true,
   "number_sections": true,
   "sideBar": true,
   "threshold": 4,
   "toc_cell": false,
   "toc_section_display": "block",
   "toc_window_display": false,
   "widenNotebook": false
  },
  "widgets": {
   "state": {
    "430c92ee02b34ec1912bf03c8de1e6dc": {
     "views": [
      {
       "cell_index": 20
      }
     ]
    }
   },
   "version": "1.2.0"
  }
 },
 "nbformat": 4,
 "nbformat_minor": 2
}