{
 "cells": [
  {
   "cell_type": "markdown",
   "metadata": {},
   "source": [
    "# Resources on PLY\n",
    " \n",
    "## Documentation of PLY is here: https://www.dabeaz.com/ply/ply.html\n",
    " "
   ]
  },
  {
   "cell_type": "markdown",
   "metadata": {},
   "source": [
    "## This Youtube video is a talk by David Beazley, the author of PLY"
   ]
  },
  {
   "cell_type": "code",
   "execution_count": null,
   "metadata": {},
   "outputs": [],
   "source": [
    "from IPython.display import YouTubeVideo\n",
    "# Direct path is https://youtu.be/zJ9z6Ge-vXs\n",
    "YouTubeVideo('zJ9z6Ge-vXs')"
   ]
  },
  {
   "cell_type": "markdown",
   "metadata": {},
   "source": [
    "## This Youtube video sequence (total 5 segments) talks about designing a calculator"
   ]
  },
  {
   "cell_type": "code",
   "execution_count": null,
   "metadata": {},
   "outputs": [],
   "source": [
    "from IPython.display import YouTubeVideo\n",
    "# Direct path is  https://youtu.be/Hh49BXmHxX8\n",
    "YouTubeVideo('Hh49BXmHxX8')"
   ]
  },
  {
   "cell_type": "markdown",
   "metadata": {},
   "source": [
    "#  THIS NOTEBOOK is referenced in ASG-6\n",
    "\n",
    "##  It Creates an Arithmetic Expression Parser, and Discover Differences with Real Parsers in the Field"
   ]
  },
  {
   "cell_type": "markdown",
   "metadata": {
    "run_control": {
     "frozen": false,
     "read_only": false
    }
   },
   "source": [
    "\n",
    "## You will be provided answer hints in the cells below\n",
    " "
   ]
  },
  {
   "cell_type": "markdown",
   "metadata": {
    "run_control": {
     "frozen": false,
     "read_only": false
    }
   },
   "source": [
    "## Background information for you\n",
    "\n",
    "\n",
    "Someone was asked to build a calculator following these CFG rules.\n",
    "\n",
    "\n",
    "```\n",
    "RULES\n",
    "\n",
    "Rule 0     S -> expression\n",
    "Rule 1     expression -> expression PLUS term\n",
    "Rule 2     expression -> expression MINUS term\n",
    "Rule 3     expression -> term\n",
    "Rule 4     term -> term TIMES factor\n",
    "Rule 5     term -> term DIVIDE factor\n",
    "Rule 6     term -> factor\n",
    "Rule 7     factor -> innerfactor EXP factor\n",
    "Rule 8     factor -> innerfactor\n",
    "Rule 9     innerfactor -> UMINUS innerfactor\n",
    "Rule 10    innerfactor -> LPAREN expression RPAREN\n",
    "Rule 11    innerfactor -> NUMBER\n",
    "```\n",
    "\n",
    "They implemented these CFGs in a parser that we shall present in Section 2 below."
   ]
  },
  {
   "cell_type": "markdown",
   "metadata": {
    "run_control": {
     "frozen": false,
     "read_only": false
    }
   },
   "source": [
    "## THINGS TO NOTE\n",
    "\n",
    "### We will use \"~\" (tilde) for unary minus, and \"-\" (regular minus) for binary infix minus\n",
    "\n",
    "### we will use \"^\" for exponentiation"
   ]
  },
  {
   "cell_type": "markdown",
   "metadata": {
    "run_control": {
     "frozen": false,
     "read_only": false
    }
   },
   "source": [
    "# The Parser\n",
    "\n",
    "You may be interested in roughly how abstract CFG rules such as listed above turn into CFG rules as supported by a tool such as PLY."
   ]
  },
  {
   "cell_type": "code",
   "execution_count": 1,
   "metadata": {
    "run_control": {
     "frozen": false,
     "read_only": false
    }
   },
   "outputs": [
    {
     "name": "stdout",
     "output_type": "stream",
     "text": [
      "You may use any of these help commands:\n",
      "help(ResetStNum)\n",
      "help(NxtStateStr)\n",
      "\n"
     ]
    }
   ],
   "source": [
    "#~~~~~~~~~~~~~~~~~~~~~~~~~~~~~~~~~~~~~~~~~~~~~~~~~~~~~~~\n",
    "import sys\n",
    "\n",
    "# -- Detect if in Own Install or in Colab\n",
    "try:\n",
    "    import google.colab\n",
    "    OWN_INSTALL = False\n",
    "except:\n",
    "    OWN_INSTALL = True\n",
    "    \n",
    "if OWN_INSTALL:\n",
    "    \n",
    "  #---- Leave these definitions ON if running on laptop\n",
    "  #---- Else turn OFF by putting them between ''' ... '''\n",
    "\n",
    "  sys.path[0:0] = ['../../../../..',  '../../../../../3rdparty',  \n",
    "                   '../../../..',  '../../../../3rdparty',  \n",
    "                   '../../..',     '../../../3rdparty', \n",
    "                   '../..',        '../../3rdparty',\n",
    "                   '..',           '../3rdparty' ]\n",
    "\n",
    "else: # In colab\n",
    "  ! if [ ! -d Jove ]; then git clone https://github.com/ganeshutah/Jove Jove; fi\n",
    "  sys.path.append('./Jove')\n",
    "  sys.path.append('./Jove/jove')\n",
    "\n",
    "# -- common imports --\n",
    "from jove.lex import lex\n",
    "from jove.yacc import yacc\n",
    "\n",
    "from jove.StateNameSanitizers import ResetStNum, NxtStateStr\n",
    "from jove.SystemImports       import *\n",
    "#~~~~~~~~~~~~~~~~~~~~~~~~~~~~~~~~~~~~~~~~~~~~~~~~~~~~~~~"
   ]
  },
  {
   "cell_type": "code",
   "execution_count": 2,
   "metadata": {
    "run_control": {
     "frozen": false,
     "read_only": false
    }
   },
   "outputs": [],
   "source": [
    "# Following ideas from http://www.dabeaz.com/ply/example.html heavily\n",
    "tokens = ('NUMBER','LPAREN','RPAREN','PLUS', 'MINUS', 'TIMES','DIVIDE', 'UMINUS', 'EXP') \n",
    "\n",
    "# Tokens\n",
    "t_PLUS    = r'\\+'\n",
    "t_MINUS   = r'\\-'\n",
    "t_TIMES   = r'\\*'\n",
    "t_DIVIDE  = r'\\/'\n",
    "t_LPAREN  = r'\\('\n",
    "t_RPAREN  = r'\\)' \n",
    "t_UMINUS  = r'\\~' \n",
    "t_EXP     = r'\\^'\n",
    "\n",
    "# parsing + semantic actions in one place!\n",
    "def t_NUMBER(t):\n",
    "    r'\\d+'\n",
    "    try:\n",
    "        t.value = int(t.value)\n",
    "    except ValueError:\n",
    "        print(\"Integer value too large %d\", t.value)\n",
    "        t.value = 0\n",
    "    return t\n",
    "\n",
    "# Ignored characters\n",
    "t_ignore = \" \\t\"\n",
    "\n",
    "def t_newline(t):\n",
    "    r'\\n+'\n",
    "    t.lexer.lineno += t.value.count(\"\\n\")\n",
    "    \n",
    "def t_error(t):\n",
    "    print(\"Illegal character '%s'\" % t.value[0])\n",
    "    t.lexer.skip(1)\n",
    "    "
   ]
  },
  {
   "cell_type": "code",
   "execution_count": 3,
   "metadata": {
    "run_control": {
     "frozen": false,
     "read_only": false
    }
   },
   "outputs": [],
   "source": [
    "\n",
    "def p_expression_1(t):\n",
    "    'expression : expression PLUS term'\n",
    "    #\n",
    "    t[0] = (t[1][0] + t[3][0],\n",
    "            attrDyadicInfix(\"+\", t[1][1], t[3][1]))   \n",
    "    \n",
    "def p_expression_2(t):\n",
    "    'expression : expression MINUS term'\n",
    "    #\n",
    "    t[0] = (t[1][0] - t[3][0],\n",
    "            attrDyadicInfix(\"-\", t[1][1], t[3][1]))   \n",
    "    \n",
    "def p_expression_3(t):\n",
    "    'expression : term'\n",
    "    #\n",
    "    t[0] = t[1]  \n",
    "    \n",
    "# Consult this excellent reference for info on precedences\n",
    "# https://www.cs.utah.edu/~zachary/isp/worksheets/operprec/operprec.html\n",
    "    \n",
    "    \n",
    "def p_term_1(t):\n",
    "    'term :  term TIMES factor'\n",
    "    #\n",
    "    t[0] = (t[1][0] * t[3][0],\n",
    "            attrDyadicInfix(\"*\", t[1][1], t[3][1])) \n",
    "\n",
    "    \n",
    "def p_term_2(t):\n",
    "    'term :  term DIVIDE factor'\n",
    "    #\n",
    "    if (t[3][0] == 0):\n",
    "        print(\"Error, divide by zero!\")\n",
    "        t[3][0] = 1 # fix it\n",
    "    t[0] = (t[1][0] / t[3][0],\n",
    "            attrDyadicInfix(\"/\", t[1][1], t[3][1]))\n",
    "\n",
    "\n",
    "def p_term_3(t):\n",
    "    'term :  factor'\n",
    "    #\n",
    "    t[0] = t[1]  \n",
    "\n",
    "def p_factor_1(t):\n",
    "    'factor : innerfactor EXP factor'\n",
    "    #\n",
    "    t[0] = (t[1][0] ** t[3][0],\n",
    "            attrDyadicInfix(\"^\", t[1][1], t[3][1])) \n",
    "\n",
    "def p_factor_2(t):\n",
    "    'factor : innerfactor'\n",
    "    #\n",
    "    t[0] = t[1]\n",
    "    \n",
    "def p_innerfactor_1(t):\n",
    "    'innerfactor : UMINUS innerfactor'\n",
    "    #\n",
    "    ast  = ('~', t[2][1]['ast'])\n",
    "    \n",
    "    nlin = t[2][1]['dig']['nl']\n",
    "    elin = t[2][1]['dig']['el']\n",
    "    \n",
    "    rootin = nlin[0]\n",
    "\n",
    "    root = NxtStateStr(\"~E_\") \n",
    "    left = NxtStateStr(\"~_\")\n",
    "\n",
    "    t[0] =(-t[2][0], \n",
    "           {'ast' : ast,\n",
    "            'dig' : {'nl' : [ root, left ] + nlin, # this order important for proper layout!\n",
    "                     'el' : elin + [ (root, left),\n",
    "                                     (root, rootin) ]\n",
    "                    }})\n",
    "\n",
    "    \n",
    "def p_innerfactor_2(t):\n",
    "    'innerfactor : LPAREN expression RPAREN'\n",
    "    #\n",
    "    ast  = t[2][1]['ast']\n",
    "    \n",
    "    nlin = t[2][1]['dig']['nl']\n",
    "    elin = t[2][1]['dig']['el']\n",
    "    \n",
    "    rootin = nlin[0]\n",
    "    \n",
    "    root = NxtStateStr(\"(E)_\")\n",
    "    left = NxtStateStr(\"(_\")\n",
    "    right= NxtStateStr(\")_\")\n",
    "    \n",
    "    t[0] =(t[2][0],\n",
    "           {'ast' : ast,\n",
    "            'dig' : {'nl' : [root, left] + nlin + [right], #order important f. proper layout!\n",
    "                     'el' : elin + [ (root, left),\n",
    "                                     (root, rootin),\n",
    "                                     (root, right) ]\n",
    "                    }})\n",
    "\n",
    "def p_innerfactor_3(t):\n",
    "    'innerfactor : NUMBER'\n",
    "    #\n",
    "    strn = str(t[1])\n",
    "    ast  = ('NUMBER', strn)           \n",
    "    t[0] =(t[1],\n",
    "           { 'ast' : ast,\n",
    "             'dig' : {'nl' : [ strn + NxtStateStr(\"_\") ],\n",
    "                      'el' : []\n",
    "                     }})\n",
    "\n",
    "\n",
    "def p_error(t):\n",
    "    print(\"Syntax error at '%s'\" % t.value)\n",
    "\n",
    "#--\n",
    "    \n",
    "def attrDyadicInfix(op, attr1, attr3):\n",
    "    ast  = (op, (attr1['ast'], attr3['ast']))\n",
    "    \n",
    "    nlin1 = attr1['dig']['nl']\n",
    "    nlin3 = attr3['dig']['nl']\n",
    "    nlin  = nlin1 + nlin3\n",
    "    \n",
    "    elin1 = attr1['dig']['el']\n",
    "    elin3 = attr3['dig']['el']\n",
    "    elin  = elin1 + elin3\n",
    "    \n",
    "    rootin1 = nlin1[0]\n",
    "    rootin3 = nlin3[0]    \n",
    "    \n",
    "    root   = NxtStateStr(\"E1\"+op+\"E2\"+\"_\") # NxtStateStr(\"$_\")\n",
    "    left   = rootin1\n",
    "    middle = NxtStateStr(op+\"_\")\n",
    "    right  = rootin3\n",
    "    \n",
    "    return {'ast' : ast,\n",
    "            'dig' : {'nl' : [ root, left, middle, right ] + nlin,\n",
    "                     'el' : elin + [ (root, left),\n",
    "                                     (root, middle),\n",
    "                                     (root, right) ]\n",
    "                     }}\n",
    "\n",
    "#===\n",
    "# This is the main function in this Jove file.  \n",
    "#===\n",
    "\n",
    "def parseExp(s):\n",
    "    \"\"\"In: a string s containing a regular expression.\n",
    "       Out: An attribute triple consisting of\n",
    "            1) An abstract syntax tree suitable for processing in the derivative-based scanner\n",
    "            2) A node-list for the parse-tree digraph generated. Good for drawing a parse tree \n",
    "               using the drawPT function below\n",
    "            3) An edge list for the parse-tree generated (again good for drawing using the\n",
    "               drawPT function below)\n",
    "    \"\"\"\n",
    "    mylexer  = lex()\n",
    "    myparser = yacc()\n",
    "    pt = myparser.parse(s, lexer = mylexer)\n",
    "    \n",
    "    # print('parsed result  is ', pt)\n",
    "    # (result, ast, nodes, edges)\n",
    "    return (pt[0], pt[1]['ast'], pt[1]['dig']['nl'], pt[1]['dig']['el'])\n",
    "\n",
    "def drawPT(ast_rslt_nl_el, comment=\"PT\"):\n",
    "    \"\"\"Given an (ast, nl, el) triple where nl is the node and el the edge-list,\n",
    "       draw the Parse Tree by returning a dot object.\n",
    "    \"\"\"\n",
    "    (rslt, ast, nl, el) = ast_rslt_nl_el\n",
    "    \n",
    "    print(\"Result calculated = \", rslt)\n",
    "    print(\"Drawing AST for \", ast)\n",
    "    \n",
    "    dotObj_pt = Digraph(comment)\n",
    "    dotObj_pt.graph_attr['rankdir'] = 'TB'\n",
    "    for n in nl:\n",
    "        prNam = n.split('_')[0]\n",
    "        dotObj_pt.node(n, prNam, shape=\"oval\", peripheries=\"1\")\n",
    "    for e in el:\n",
    "        dotObj_pt.edge(e[0], e[1])\n",
    "    return dotObj_pt"
   ]
  },
  {
   "cell_type": "markdown",
   "metadata": {
    "run_control": {
     "frozen": false,
     "read_only": false
    }
   },
   "source": [
    "# Now answer these questions"
   ]
  },
  {
   "cell_type": "markdown",
   "metadata": {
    "run_control": {
     "frozen": false,
     "read_only": false
    }
   },
   "source": [
    "## How does the calculator above parse \"~2^2\" ?"
   ]
  },
  {
   "cell_type": "code",
   "execution_count": 4,
   "metadata": {
    "run_control": {
     "frozen": false,
     "read_only": false
    }
   },
   "outputs": [
    {
     "name": "stdout",
     "output_type": "stream",
     "text": [
      "Result calculated =  4\n",
      "Drawing AST for  ('^', (('~', ('NUMBER', '2')), ('NUMBER', '2')))\n"
     ]
    },
    {
     "data": {
      "image/svg+xml": [
       "<?xml version=\"1.0\" encoding=\"UTF-8\" standalone=\"no\"?>\r\n",
       "<!DOCTYPE svg PUBLIC \"-//W3C//DTD SVG 1.1//EN\"\r\n",
       " \"http://www.w3.org/Graphics/SVG/1.1/DTD/svg11.dtd\">\r\n",
       "<!-- Generated by graphviz version 2.44.1 (20200629.0846)\r\n",
       " -->\r\n",
       "<!-- Title: PT Pages: 1 -->\r\n",
       "<svg width=\"242pt\" height=\"188pt\"\r\n",
       " viewBox=\"0.00 0.00 242.00 188.00\" xmlns=\"http://www.w3.org/2000/svg\" xmlns:xlink=\"http://www.w3.org/1999/xlink\">\r\n",
       "<g id=\"graph0\" class=\"graph\" transform=\"scale(1 1) rotate(0) translate(4 184)\">\r\n",
       "<title>PT</title>\r\n",
       "<polygon fill=\"white\" stroke=\"transparent\" points=\"-4,4 -4,-184 238,-184 238,4 -4,4\"/>\r\n",
       "<!-- E1^E2_5 -->\r\n",
       "<g id=\"node1\" class=\"node\">\r\n",
       "<title>E1^E2_5</title>\r\n",
       "<ellipse fill=\"none\" stroke=\"black\" cx=\"135\" cy=\"-162\" rx=\"34.39\" ry=\"18\"/>\r\n",
       "<text text-anchor=\"middle\" x=\"135\" y=\"-158.3\" font-family=\"Times New Roman,serif\" font-size=\"14.00\">E1^E2</text>\r\n",
       "</g>\r\n",
       "<!-- ~E_2 -->\r\n",
       "<g id=\"node2\" class=\"node\">\r\n",
       "<title>~E_2</title>\r\n",
       "<ellipse fill=\"none\" stroke=\"black\" cx=\"63\" cy=\"-90\" rx=\"27\" ry=\"18\"/>\r\n",
       "<text text-anchor=\"middle\" x=\"63\" y=\"-86.3\" font-family=\"Times New Roman,serif\" font-size=\"14.00\">~E</text>\r\n",
       "</g>\r\n",
       "<!-- E1^E2_5&#45;&gt;~E_2 -->\r\n",
       "<g id=\"edge3\" class=\"edge\">\r\n",
       "<title>E1^E2_5&#45;&gt;~E_2</title>\r\n",
       "<path fill=\"none\" stroke=\"black\" d=\"M119.38,-145.81C109.3,-136.01 96.04,-123.12 84.91,-112.3\"/>\r\n",
       "<polygon fill=\"black\" stroke=\"black\" points=\"87.22,-109.67 77.61,-105.21 82.34,-114.69 87.22,-109.67\"/>\r\n",
       "</g>\r\n",
       "<!-- ^_6 -->\r\n",
       "<g id=\"node3\" class=\"node\">\r\n",
       "<title>^_6</title>\r\n",
       "<ellipse fill=\"none\" stroke=\"black\" cx=\"135\" cy=\"-90\" rx=\"27\" ry=\"18\"/>\r\n",
       "<text text-anchor=\"middle\" x=\"135\" y=\"-86.3\" font-family=\"Times New Roman,serif\" font-size=\"14.00\">^</text>\r\n",
       "</g>\r\n",
       "<!-- E1^E2_5&#45;&gt;^_6 -->\r\n",
       "<g id=\"edge4\" class=\"edge\">\r\n",
       "<title>E1^E2_5&#45;&gt;^_6</title>\r\n",
       "<path fill=\"none\" stroke=\"black\" d=\"M135,-143.7C135,-135.98 135,-126.71 135,-118.11\"/>\r\n",
       "<polygon fill=\"black\" stroke=\"black\" points=\"138.5,-118.1 135,-108.1 131.5,-118.1 138.5,-118.1\"/>\r\n",
       "</g>\r\n",
       "<!-- 2_4 -->\r\n",
       "<g id=\"node4\" class=\"node\">\r\n",
       "<title>2_4</title>\r\n",
       "<ellipse fill=\"none\" stroke=\"black\" cx=\"207\" cy=\"-90\" rx=\"27\" ry=\"18\"/>\r\n",
       "<text text-anchor=\"middle\" x=\"207\" y=\"-86.3\" font-family=\"Times New Roman,serif\" font-size=\"14.00\">2</text>\r\n",
       "</g>\r\n",
       "<!-- E1^E2_5&#45;&gt;2_4 -->\r\n",
       "<g id=\"edge5\" class=\"edge\">\r\n",
       "<title>E1^E2_5&#45;&gt;2_4</title>\r\n",
       "<path fill=\"none\" stroke=\"black\" d=\"M150.62,-145.81C160.7,-136.01 173.96,-123.12 185.09,-112.3\"/>\r\n",
       "<polygon fill=\"black\" stroke=\"black\" points=\"187.66,-114.69 192.39,-105.21 182.78,-109.67 187.66,-114.69\"/>\r\n",
       "</g>\r\n",
       "<!-- ~_3 -->\r\n",
       "<g id=\"node5\" class=\"node\">\r\n",
       "<title>~_3</title>\r\n",
       "<ellipse fill=\"none\" stroke=\"black\" cx=\"27\" cy=\"-18\" rx=\"27\" ry=\"18\"/>\r\n",
       "<text text-anchor=\"middle\" x=\"27\" y=\"-14.3\" font-family=\"Times New Roman,serif\" font-size=\"14.00\">~</text>\r\n",
       "</g>\r\n",
       "<!-- ~E_2&#45;&gt;~_3 -->\r\n",
       "<g id=\"edge1\" class=\"edge\">\r\n",
       "<title>~E_2&#45;&gt;~_3</title>\r\n",
       "<path fill=\"none\" stroke=\"black\" d=\"M54.65,-72.76C50.29,-64.28 44.85,-53.71 39.96,-44.2\"/>\r\n",
       "<polygon fill=\"black\" stroke=\"black\" points=\"42.99,-42.44 35.3,-35.15 36.77,-45.64 42.99,-42.44\"/>\r\n",
       "</g>\r\n",
       "<!-- 2_1 -->\r\n",
       "<g id=\"node6\" class=\"node\">\r\n",
       "<title>2_1</title>\r\n",
       "<ellipse fill=\"none\" stroke=\"black\" cx=\"99\" cy=\"-18\" rx=\"27\" ry=\"18\"/>\r\n",
       "<text text-anchor=\"middle\" x=\"99\" y=\"-14.3\" font-family=\"Times New Roman,serif\" font-size=\"14.00\">2</text>\r\n",
       "</g>\r\n",
       "<!-- ~E_2&#45;&gt;2_1 -->\r\n",
       "<g id=\"edge2\" class=\"edge\">\r\n",
       "<title>~E_2&#45;&gt;2_1</title>\r\n",
       "<path fill=\"none\" stroke=\"black\" d=\"M71.35,-72.76C75.71,-64.28 81.15,-53.71 86.04,-44.2\"/>\r\n",
       "<polygon fill=\"black\" stroke=\"black\" points=\"89.23,-45.64 90.7,-35.15 83.01,-42.44 89.23,-45.64\"/>\r\n",
       "</g>\r\n",
       "</g>\r\n",
       "</svg>\r\n"
      ],
      "text/plain": [
       "<graphviz.dot.Digraph at 0x5d62b20>"
      ]
     },
     "execution_count": 4,
     "metadata": {},
     "output_type": "execute_result"
    }
   ],
   "source": [
    "drawPT(parseExp(\"~2^2\"))"
   ]
  },
  {
   "cell_type": "markdown",
   "metadata": {
    "run_control": {
     "frozen": false,
     "read_only": false
    }
   },
   "source": [
    "## Check answer produced by Python for the same expression"
   ]
  },
  {
   "cell_type": "code",
   "execution_count": 5,
   "metadata": {
    "run_control": {
     "frozen": false,
     "read_only": false
    }
   },
   "outputs": [
    {
     "name": "stdout",
     "output_type": "stream",
     "text": [
      "-4\n",
      "-4\n",
      "4\n"
     ]
    }
   ],
   "source": [
    "# Python evaluation\n",
    "\n",
    "print(-2 ** 2)\n",
    "print(-(2 ** 2))\n",
    "print((-2) ** 2)"
   ]
  },
  {
   "cell_type": "markdown",
   "metadata": {
    "run_control": {
     "frozen": false,
     "read_only": false
    }
   },
   "source": [
    "# Q1: Are the answers the same? If not, what is the most likely reason? \n",
    "## Discover how Python handled this expression by fully parenthesizing how Python parses -2**2. Express your answer by putting back-quotes (else, Markdown's parser takes over \"**\" :-)"
   ]
  },
  {
   "cell_type": "markdown",
   "metadata": {},
   "source": [
    "# A1:\n",
    "No, the answers are not the same. This is very likely because Python does not give a higher priority to an unary operation (the subtraction, in this case) than to a binary operator (the exponentiation, in this case). In other words, Python intrepreted the expression `-2^2` as `-(2^2)` instead of `(-2)^2` like the calculator did."
   ]
  },
  {
   "cell_type": "markdown",
   "metadata": {
    "run_control": {
     "frozen": false,
     "read_only": false
    }
   },
   "source": [
    "## In parsing ```2^~3^~4```, the following parse tree was produced.\n"
   ]
  },
  {
   "cell_type": "code",
   "execution_count": 6,
   "metadata": {
    "run_control": {
     "frozen": false,
     "read_only": false
    }
   },
   "outputs": [
    {
     "name": "stdout",
     "output_type": "stream",
     "text": [
      "Result calculated =  1.008594091576999\n",
      "Drawing AST for  ('^', (('NUMBER', '2'), ('^', (('~', ('NUMBER', '3')), ('~', ('NUMBER', '4'))))))\n"
     ]
    },
    {
     "data": {
      "image/svg+xml": [
       "<?xml version=\"1.0\" encoding=\"UTF-8\" standalone=\"no\"?>\r\n",
       "<!DOCTYPE svg PUBLIC \"-//W3C//DTD SVG 1.1//EN\"\r\n",
       " \"http://www.w3.org/Graphics/SVG/1.1/DTD/svg11.dtd\">\r\n",
       "<!-- Generated by graphviz version 2.44.1 (20200629.0846)\r\n",
       " -->\r\n",
       "<!-- Title: PT Pages: 1 -->\r\n",
       "<svg width=\"339pt\" height=\"260pt\"\r\n",
       " viewBox=\"0.00 0.00 339.00 260.00\" xmlns=\"http://www.w3.org/2000/svg\" xmlns:xlink=\"http://www.w3.org/1999/xlink\">\r\n",
       "<g id=\"graph0\" class=\"graph\" transform=\"scale(1 1) rotate(0) translate(4 256)\">\r\n",
       "<title>PT</title>\r\n",
       "<polygon fill=\"white\" stroke=\"transparent\" points=\"-4,4 -4,-256 335,-256 335,4 -4,4\"/>\r\n",
       "<!-- E1^E2_16 -->\r\n",
       "<g id=\"node1\" class=\"node\">\r\n",
       "<title>E1^E2_16</title>\r\n",
       "<ellipse fill=\"none\" stroke=\"black\" cx=\"99\" cy=\"-234\" rx=\"34.39\" ry=\"18\"/>\r\n",
       "<text text-anchor=\"middle\" x=\"99\" y=\"-230.3\" font-family=\"Times New Roman,serif\" font-size=\"14.00\">E1^E2</text>\r\n",
       "</g>\r\n",
       "<!-- 2_7 -->\r\n",
       "<g id=\"node2\" class=\"node\">\r\n",
       "<title>2_7</title>\r\n",
       "<ellipse fill=\"none\" stroke=\"black\" cx=\"27\" cy=\"-162\" rx=\"27\" ry=\"18\"/>\r\n",
       "<text text-anchor=\"middle\" x=\"27\" y=\"-158.3\" font-family=\"Times New Roman,serif\" font-size=\"14.00\">2</text>\r\n",
       "</g>\r\n",
       "<!-- E1^E2_16&#45;&gt;2_7 -->\r\n",
       "<g id=\"edge8\" class=\"edge\">\r\n",
       "<title>E1^E2_16&#45;&gt;2_7</title>\r\n",
       "<path fill=\"none\" stroke=\"black\" d=\"M83.38,-217.81C73.3,-208.01 60.04,-195.12 48.91,-184.3\"/>\r\n",
       "<polygon fill=\"black\" stroke=\"black\" points=\"51.22,-181.67 41.61,-177.21 46.34,-186.69 51.22,-181.67\"/>\r\n",
       "</g>\r\n",
       "<!-- ^_17 -->\r\n",
       "<g id=\"node3\" class=\"node\">\r\n",
       "<title>^_17</title>\r\n",
       "<ellipse fill=\"none\" stroke=\"black\" cx=\"99\" cy=\"-162\" rx=\"27\" ry=\"18\"/>\r\n",
       "<text text-anchor=\"middle\" x=\"99\" y=\"-158.3\" font-family=\"Times New Roman,serif\" font-size=\"14.00\">^</text>\r\n",
       "</g>\r\n",
       "<!-- E1^E2_16&#45;&gt;^_17 -->\r\n",
       "<g id=\"edge9\" class=\"edge\">\r\n",
       "<title>E1^E2_16&#45;&gt;^_17</title>\r\n",
       "<path fill=\"none\" stroke=\"black\" d=\"M99,-215.7C99,-207.98 99,-198.71 99,-190.11\"/>\r\n",
       "<polygon fill=\"black\" stroke=\"black\" points=\"102.5,-190.1 99,-180.1 95.5,-190.1 102.5,-190.1\"/>\r\n",
       "</g>\r\n",
       "<!-- E1^E2_14 -->\r\n",
       "<g id=\"node4\" class=\"node\">\r\n",
       "<title>E1^E2_14</title>\r\n",
       "<ellipse fill=\"none\" stroke=\"black\" cx=\"178\" cy=\"-162\" rx=\"34.39\" ry=\"18\"/>\r\n",
       "<text text-anchor=\"middle\" x=\"178\" y=\"-158.3\" font-family=\"Times New Roman,serif\" font-size=\"14.00\">E1^E2</text>\r\n",
       "</g>\r\n",
       "<!-- E1^E2_16&#45;&gt;E1^E2_14 -->\r\n",
       "<g id=\"edge10\" class=\"edge\">\r\n",
       "<title>E1^E2_16&#45;&gt;E1^E2_14</title>\r\n",
       "<path fill=\"none\" stroke=\"black\" d=\"M115.75,-218.15C126.75,-208.41 141.32,-195.5 153.59,-184.63\"/>\r\n",
       "<polygon fill=\"black\" stroke=\"black\" points=\"156.11,-187.08 161.27,-177.82 151.46,-181.84 156.11,-187.08\"/>\r\n",
       "</g>\r\n",
       "<!-- ~E_9 -->\r\n",
       "<g id=\"node5\" class=\"node\">\r\n",
       "<title>~E_9</title>\r\n",
       "<ellipse fill=\"none\" stroke=\"black\" cx=\"106\" cy=\"-90\" rx=\"27\" ry=\"18\"/>\r\n",
       "<text text-anchor=\"middle\" x=\"106\" y=\"-86.3\" font-family=\"Times New Roman,serif\" font-size=\"14.00\">~E</text>\r\n",
       "</g>\r\n",
       "<!-- E1^E2_14&#45;&gt;~E_9 -->\r\n",
       "<g id=\"edge5\" class=\"edge\">\r\n",
       "<title>E1^E2_14&#45;&gt;~E_9</title>\r\n",
       "<path fill=\"none\" stroke=\"black\" d=\"M162.38,-145.81C152.3,-136.01 139.04,-123.12 127.91,-112.3\"/>\r\n",
       "<polygon fill=\"black\" stroke=\"black\" points=\"130.22,-109.67 120.61,-105.21 125.34,-114.69 130.22,-109.67\"/>\r\n",
       "</g>\r\n",
       "<!-- ^_15 -->\r\n",
       "<g id=\"node6\" class=\"node\">\r\n",
       "<title>^_15</title>\r\n",
       "<ellipse fill=\"none\" stroke=\"black\" cx=\"178\" cy=\"-90\" rx=\"27\" ry=\"18\"/>\r\n",
       "<text text-anchor=\"middle\" x=\"178\" y=\"-86.3\" font-family=\"Times New Roman,serif\" font-size=\"14.00\">^</text>\r\n",
       "</g>\r\n",
       "<!-- E1^E2_14&#45;&gt;^_15 -->\r\n",
       "<g id=\"edge6\" class=\"edge\">\r\n",
       "<title>E1^E2_14&#45;&gt;^_15</title>\r\n",
       "<path fill=\"none\" stroke=\"black\" d=\"M178,-143.7C178,-135.98 178,-126.71 178,-118.11\"/>\r\n",
       "<polygon fill=\"black\" stroke=\"black\" points=\"181.5,-118.1 178,-108.1 174.5,-118.1 181.5,-118.1\"/>\r\n",
       "</g>\r\n",
       "<!-- ~E_12 -->\r\n",
       "<g id=\"node7\" class=\"node\">\r\n",
       "<title>~E_12</title>\r\n",
       "<ellipse fill=\"none\" stroke=\"black\" cx=\"250\" cy=\"-90\" rx=\"27\" ry=\"18\"/>\r\n",
       "<text text-anchor=\"middle\" x=\"250\" y=\"-86.3\" font-family=\"Times New Roman,serif\" font-size=\"14.00\">~E</text>\r\n",
       "</g>\r\n",
       "<!-- E1^E2_14&#45;&gt;~E_12 -->\r\n",
       "<g id=\"edge7\" class=\"edge\">\r\n",
       "<title>E1^E2_14&#45;&gt;~E_12</title>\r\n",
       "<path fill=\"none\" stroke=\"black\" d=\"M193.62,-145.81C203.7,-136.01 216.96,-123.12 228.09,-112.3\"/>\r\n",
       "<polygon fill=\"black\" stroke=\"black\" points=\"230.66,-114.69 235.39,-105.21 225.78,-109.67 230.66,-114.69\"/>\r\n",
       "</g>\r\n",
       "<!-- ~_10 -->\r\n",
       "<g id=\"node8\" class=\"node\">\r\n",
       "<title>~_10</title>\r\n",
       "<ellipse fill=\"none\" stroke=\"black\" cx=\"70\" cy=\"-18\" rx=\"27\" ry=\"18\"/>\r\n",
       "<text text-anchor=\"middle\" x=\"70\" y=\"-14.3\" font-family=\"Times New Roman,serif\" font-size=\"14.00\">~</text>\r\n",
       "</g>\r\n",
       "<!-- ~E_9&#45;&gt;~_10 -->\r\n",
       "<g id=\"edge1\" class=\"edge\">\r\n",
       "<title>~E_9&#45;&gt;~_10</title>\r\n",
       "<path fill=\"none\" stroke=\"black\" d=\"M97.65,-72.76C93.29,-64.28 87.85,-53.71 82.96,-44.2\"/>\r\n",
       "<polygon fill=\"black\" stroke=\"black\" points=\"85.99,-42.44 78.3,-35.15 79.77,-45.64 85.99,-42.44\"/>\r\n",
       "</g>\r\n",
       "<!-- 3_8 -->\r\n",
       "<g id=\"node9\" class=\"node\">\r\n",
       "<title>3_8</title>\r\n",
       "<ellipse fill=\"none\" stroke=\"black\" cx=\"142\" cy=\"-18\" rx=\"27\" ry=\"18\"/>\r\n",
       "<text text-anchor=\"middle\" x=\"142\" y=\"-14.3\" font-family=\"Times New Roman,serif\" font-size=\"14.00\">3</text>\r\n",
       "</g>\r\n",
       "<!-- ~E_9&#45;&gt;3_8 -->\r\n",
       "<g id=\"edge2\" class=\"edge\">\r\n",
       "<title>~E_9&#45;&gt;3_8</title>\r\n",
       "<path fill=\"none\" stroke=\"black\" d=\"M114.35,-72.76C118.71,-64.28 124.15,-53.71 129.04,-44.2\"/>\r\n",
       "<polygon fill=\"black\" stroke=\"black\" points=\"132.23,-45.64 133.7,-35.15 126.01,-42.44 132.23,-45.64\"/>\r\n",
       "</g>\r\n",
       "<!-- ~_13 -->\r\n",
       "<g id=\"node10\" class=\"node\">\r\n",
       "<title>~_13</title>\r\n",
       "<ellipse fill=\"none\" stroke=\"black\" cx=\"232\" cy=\"-18\" rx=\"27\" ry=\"18\"/>\r\n",
       "<text text-anchor=\"middle\" x=\"232\" y=\"-14.3\" font-family=\"Times New Roman,serif\" font-size=\"14.00\">~</text>\r\n",
       "</g>\r\n",
       "<!-- ~E_12&#45;&gt;~_13 -->\r\n",
       "<g id=\"edge3\" class=\"edge\">\r\n",
       "<title>~E_12&#45;&gt;~_13</title>\r\n",
       "<path fill=\"none\" stroke=\"black\" d=\"M245.64,-72.05C243.61,-64.14 241.14,-54.54 238.86,-45.69\"/>\r\n",
       "<polygon fill=\"black\" stroke=\"black\" points=\"242.2,-44.6 236.32,-35.79 235.42,-46.35 242.2,-44.6\"/>\r\n",
       "</g>\r\n",
       "<!-- 4_11 -->\r\n",
       "<g id=\"node11\" class=\"node\">\r\n",
       "<title>4_11</title>\r\n",
       "<ellipse fill=\"none\" stroke=\"black\" cx=\"304\" cy=\"-18\" rx=\"27\" ry=\"18\"/>\r\n",
       "<text text-anchor=\"middle\" x=\"304\" y=\"-14.3\" font-family=\"Times New Roman,serif\" font-size=\"14.00\">4</text>\r\n",
       "</g>\r\n",
       "<!-- ~E_12&#45;&gt;4_11 -->\r\n",
       "<g id=\"edge4\" class=\"edge\">\r\n",
       "<title>~E_12&#45;&gt;4_11</title>\r\n",
       "<path fill=\"none\" stroke=\"black\" d=\"M261.98,-73.46C268.98,-64.4 277.94,-52.79 285.79,-42.61\"/>\r\n",
       "<polygon fill=\"black\" stroke=\"black\" points=\"288.71,-44.55 292.05,-34.49 283.17,-40.27 288.71,-44.55\"/>\r\n",
       "</g>\r\n",
       "</g>\r\n",
       "</svg>\r\n"
      ],
      "text/plain": [
       "<graphviz.dot.Digraph at 0x5d629e8>"
      ]
     },
     "execution_count": 6,
     "metadata": {},
     "output_type": "execute_result"
    }
   ],
   "source": [
    "drawPT(parseExp(\"2^~3^~4\"))"
   ]
  },
  {
   "cell_type": "markdown",
   "metadata": {
    "run_control": {
     "frozen": false,
     "read_only": false
    }
   },
   "source": [
    "## What does ```2**-3**-4``` produce in Python? Is it the same answer?"
   ]
  },
  {
   "cell_type": "code",
   "execution_count": 7,
   "metadata": {
    "run_control": {
     "frozen": false,
     "read_only": false
    }
   },
   "outputs": [
    {
     "name": "stdout",
     "output_type": "stream",
     "text": [
      "0.9914791374956781\n",
      "0.9914791374956781\n",
      "1.008594091576999\n"
     ]
    }
   ],
   "source": [
    "# The above expression typed into Python in Python's syntax is below, and see what it produces!\n",
    "\n",
    "print(2**-3**-4)\n",
    "print(2**-(3**(-4)))\n",
    "print(2**((-3)**(-4)))"
   ]
  },
  {
   "cell_type": "markdown",
   "metadata": {
    "run_control": {
     "frozen": false,
     "read_only": false
    }
   },
   "source": [
    "# Q2: Are the answers the same? Discover how Python handled this expression by fully parenthesizing how Python parses 2**-3**-4\n",
    "\n",
    "## I.e. your answer is a fully parenthesized version of 2**-3**-4\n",
    "### Also check that the fully parenthesized version matches the Jove answer"
   ]
  },
  {
   "cell_type": "markdown",
   "metadata": {
    "run_control": {
     "frozen": false,
     "read_only": false
    }
   },
   "source": [
    "# A2:\n",
    "No, the answers are not the same. Python intrepreted `2^-3^-4` as `2^-[3^(-4)]` whereas the calculator intrepreted it as `2^[(-3)^(-4)]`."
   ]
  },
  {
   "cell_type": "code",
   "execution_count": 8,
   "metadata": {},
   "outputs": [
    {
     "name": "stdout",
     "output_type": "stream",
     "text": [
      "0.9914791374956781\n",
      "0.9914791374956781\n",
      "1.008594091576999\n"
     ]
    }
   ],
   "source": [
    "# *** YOUR CHECK THAT THE FULLY PARENTHESIZED EXPRESSION MATCHES ANSWERS ***\n",
    "\n",
    "print(2**-3**-4)\n",
    "print(2**-(3**(-4)))\n",
    "print(2**((-3)**(-4)))"
   ]
  },
  {
   "cell_type": "markdown",
   "metadata": {
    "run_control": {
     "frozen": false,
     "read_only": false
    }
   },
   "source": [
    "# Q3: Does ```6*3/4*~5/(2+3-4-5-6/7*~8)-~9``` produce the same answer as a similarly parenthesized expression in Python?\n",
    "## Does it tend to confirm that for cases without unary minus and exp, the parsers are in agreement? Is this a full proof of this fact?\n",
    "\n"
   ]
  },
  {
   "cell_type": "code",
   "execution_count": 9,
   "metadata": {
    "run_control": {
     "frozen": false,
     "read_only": false
    }
   },
   "outputs": [
    {
     "name": "stdout",
     "output_type": "stream",
     "text": [
      "Result calculated =  1.1249999999999991\n",
      "Drawing AST for  ('-', (('/', (('*', (('/', (('*', (('NUMBER', '6'), ('NUMBER', '3'))), ('NUMBER', '4'))), ('~', ('NUMBER', '5')))), ('-', (('-', (('-', (('+', (('NUMBER', '2'), ('NUMBER', '3'))), ('NUMBER', '4'))), ('NUMBER', '5'))), ('*', (('/', (('NUMBER', '6'), ('NUMBER', '7'))), ('~', ('NUMBER', '8')))))))), ('~', ('NUMBER', '9'))))\n"
     ]
    },
    {
     "data": {
      "image/svg+xml": [
       "<?xml version=\"1.0\" encoding=\"UTF-8\" standalone=\"no\"?>\r\n",
       "<!DOCTYPE svg PUBLIC \"-//W3C//DTD SVG 1.1//EN\"\r\n",
       " \"http://www.w3.org/Graphics/SVG/1.1/DTD/svg11.dtd\">\r\n",
       "<!-- Generated by graphviz version 2.44.1 (20200629.0846)\r\n",
       " -->\r\n",
       "<!-- Title: PT Pages: 1 -->\r\n",
       "<svg width=\"856pt\" height=\"548pt\"\r\n",
       " viewBox=\"0.00 0.00 856.00 548.00\" xmlns=\"http://www.w3.org/2000/svg\" xmlns:xlink=\"http://www.w3.org/1999/xlink\">\r\n",
       "<g id=\"graph0\" class=\"graph\" transform=\"scale(1 1) rotate(0) translate(4 544)\">\r\n",
       "<title>PT</title>\r\n",
       "<polygon fill=\"white\" stroke=\"transparent\" points=\"-4,4 -4,-544 852,-544 852,4 -4,4\"/>\r\n",
       "<!-- E1&#45;E2_59 -->\r\n",
       "<g id=\"node1\" class=\"node\">\r\n",
       "<title>E1&#45;E2_59</title>\r\n",
       "<ellipse fill=\"none\" stroke=\"black\" cx=\"510\" cy=\"-522\" rx=\"33.29\" ry=\"18\"/>\r\n",
       "<text text-anchor=\"middle\" x=\"510\" y=\"-518.3\" font-family=\"Times New Roman,serif\" font-size=\"14.00\">E1&#45;E2</text>\r\n",
       "</g>\r\n",
       "<!-- E1/E2_54 -->\r\n",
       "<g id=\"node2\" class=\"node\">\r\n",
       "<title>E1/E2_54</title>\r\n",
       "<ellipse fill=\"none\" stroke=\"black\" cx=\"433\" cy=\"-450\" rx=\"32.49\" ry=\"18\"/>\r\n",
       "<text text-anchor=\"middle\" x=\"433\" y=\"-446.3\" font-family=\"Times New Roman,serif\" font-size=\"14.00\">E1/E2</text>\r\n",
       "</g>\r\n",
       "<!-- E1&#45;E2_59&#45;&gt;E1/E2_54 -->\r\n",
       "<g id=\"edge40\" class=\"edge\">\r\n",
       "<title>E1&#45;E2_59&#45;&gt;E1/E2_54</title>\r\n",
       "<path fill=\"none\" stroke=\"black\" d=\"M493.67,-506.15C482.95,-496.41 468.75,-483.5 456.79,-472.63\"/>\r\n",
       "<polygon fill=\"black\" stroke=\"black\" points=\"459.06,-469.96 449.31,-465.82 454.35,-475.14 459.06,-469.96\"/>\r\n",
       "</g>\r\n",
       "<!-- &#45;_60 -->\r\n",
       "<g id=\"node3\" class=\"node\">\r\n",
       "<title>&#45;_60</title>\r\n",
       "<ellipse fill=\"none\" stroke=\"black\" cx=\"510\" cy=\"-450\" rx=\"27\" ry=\"18\"/>\r\n",
       "<text text-anchor=\"middle\" x=\"510\" y=\"-446.3\" font-family=\"Times New Roman,serif\" font-size=\"14.00\">&#45;</text>\r\n",
       "</g>\r\n",
       "<!-- E1&#45;E2_59&#45;&gt;&#45;_60 -->\r\n",
       "<g id=\"edge41\" class=\"edge\">\r\n",
       "<title>E1&#45;E2_59&#45;&gt;&#45;_60</title>\r\n",
       "<path fill=\"none\" stroke=\"black\" d=\"M510,-503.7C510,-495.98 510,-486.71 510,-478.11\"/>\r\n",
       "<polygon fill=\"black\" stroke=\"black\" points=\"513.5,-478.1 510,-468.1 506.5,-478.1 513.5,-478.1\"/>\r\n",
       "</g>\r\n",
       "<!-- ~E_57 -->\r\n",
       "<g id=\"node4\" class=\"node\">\r\n",
       "<title>~E_57</title>\r\n",
       "<ellipse fill=\"none\" stroke=\"black\" cx=\"582\" cy=\"-450\" rx=\"27\" ry=\"18\"/>\r\n",
       "<text text-anchor=\"middle\" x=\"582\" y=\"-446.3\" font-family=\"Times New Roman,serif\" font-size=\"14.00\">~E</text>\r\n",
       "</g>\r\n",
       "<!-- E1&#45;E2_59&#45;&gt;~E_57 -->\r\n",
       "<g id=\"edge42\" class=\"edge\">\r\n",
       "<title>E1&#45;E2_59&#45;&gt;~E_57</title>\r\n",
       "<path fill=\"none\" stroke=\"black\" d=\"M525.62,-505.81C535.7,-496.01 548.96,-483.12 560.09,-472.3\"/>\r\n",
       "<polygon fill=\"black\" stroke=\"black\" points=\"562.66,-474.69 567.39,-465.21 557.78,-469.67 562.66,-474.69\"/>\r\n",
       "</g>\r\n",
       "<!-- E1*E2_28 -->\r\n",
       "<g id=\"node5\" class=\"node\">\r\n",
       "<title>E1*E2_28</title>\r\n",
       "<ellipse fill=\"none\" stroke=\"black\" cx=\"338\" cy=\"-378\" rx=\"34.39\" ry=\"18\"/>\r\n",
       "<text text-anchor=\"middle\" x=\"338\" y=\"-374.3\" font-family=\"Times New Roman,serif\" font-size=\"14.00\">E1*E2</text>\r\n",
       "</g>\r\n",
       "<!-- E1/E2_54&#45;&gt;E1*E2_28 -->\r\n",
       "<g id=\"edge35\" class=\"edge\">\r\n",
       "<title>E1/E2_54&#45;&gt;E1*E2_28</title>\r\n",
       "<path fill=\"none\" stroke=\"black\" d=\"M414.23,-435.17C400.27,-424.88 381,-410.69 365.33,-399.14\"/>\r\n",
       "<polygon fill=\"black\" stroke=\"black\" points=\"367.18,-396.15 357.06,-393.04 363.03,-401.79 367.18,-396.15\"/>\r\n",
       "</g>\r\n",
       "<!-- /_55 -->\r\n",
       "<g id=\"node6\" class=\"node\">\r\n",
       "<title>/_55</title>\r\n",
       "<ellipse fill=\"none\" stroke=\"black\" cx=\"433\" cy=\"-378\" rx=\"27\" ry=\"18\"/>\r\n",
       "<text text-anchor=\"middle\" x=\"433\" y=\"-374.3\" font-family=\"Times New Roman,serif\" font-size=\"14.00\">/</text>\r\n",
       "</g>\r\n",
       "<!-- E1/E2_54&#45;&gt;/_55 -->\r\n",
       "<g id=\"edge36\" class=\"edge\">\r\n",
       "<title>E1/E2_54&#45;&gt;/_55</title>\r\n",
       "<path fill=\"none\" stroke=\"black\" d=\"M433,-431.7C433,-423.98 433,-414.71 433,-406.11\"/>\r\n",
       "<polygon fill=\"black\" stroke=\"black\" points=\"436.5,-406.1 433,-396.1 429.5,-406.1 436.5,-406.1\"/>\r\n",
       "</g>\r\n",
       "<!-- (E)_51 -->\r\n",
       "<g id=\"node7\" class=\"node\">\r\n",
       "<title>(E)_51</title>\r\n",
       "<ellipse fill=\"none\" stroke=\"black\" cx=\"507\" cy=\"-378\" rx=\"27\" ry=\"18\"/>\r\n",
       "<text text-anchor=\"middle\" x=\"507\" y=\"-374.3\" font-family=\"Times New Roman,serif\" font-size=\"14.00\">(E)</text>\r\n",
       "</g>\r\n",
       "<!-- E1/E2_54&#45;&gt;(E)_51 -->\r\n",
       "<g id=\"edge37\" class=\"edge\">\r\n",
       "<title>E1/E2_54&#45;&gt;(E)_51</title>\r\n",
       "<path fill=\"none\" stroke=\"black\" d=\"M448.69,-434.15C459.1,-424.31 472.93,-411.23 484.5,-400.28\"/>\r\n",
       "<polygon fill=\"black\" stroke=\"black\" points=\"487.23,-402.52 492.09,-393.11 482.42,-397.44 487.23,-402.52\"/>\r\n",
       "</g>\r\n",
       "<!-- ~_58 -->\r\n",
       "<g id=\"node42\" class=\"node\">\r\n",
       "<title>~_58</title>\r\n",
       "<ellipse fill=\"none\" stroke=\"black\" cx=\"581\" cy=\"-378\" rx=\"27\" ry=\"18\"/>\r\n",
       "<text text-anchor=\"middle\" x=\"581\" y=\"-374.3\" font-family=\"Times New Roman,serif\" font-size=\"14.00\">~</text>\r\n",
       "</g>\r\n",
       "<!-- ~E_57&#45;&gt;~_58 -->\r\n",
       "<g id=\"edge38\" class=\"edge\">\r\n",
       "<title>~E_57&#45;&gt;~_58</title>\r\n",
       "<path fill=\"none\" stroke=\"black\" d=\"M581.75,-431.7C581.64,-423.98 581.51,-414.71 581.39,-406.11\"/>\r\n",
       "<polygon fill=\"black\" stroke=\"black\" points=\"584.89,-406.05 581.24,-396.1 577.89,-406.15 584.89,-406.05\"/>\r\n",
       "</g>\r\n",
       "<!-- 9_56 -->\r\n",
       "<g id=\"node43\" class=\"node\">\r\n",
       "<title>9_56</title>\r\n",
       "<ellipse fill=\"none\" stroke=\"black\" cx=\"653\" cy=\"-378\" rx=\"27\" ry=\"18\"/>\r\n",
       "<text text-anchor=\"middle\" x=\"653\" y=\"-374.3\" font-family=\"Times New Roman,serif\" font-size=\"14.00\">9</text>\r\n",
       "</g>\r\n",
       "<!-- ~E_57&#45;&gt;9_56 -->\r\n",
       "<g id=\"edge39\" class=\"edge\">\r\n",
       "<title>~E_57&#45;&gt;9_56</title>\r\n",
       "<path fill=\"none\" stroke=\"black\" d=\"M596.71,-434.5C606.61,-424.73 619.84,-411.69 630.99,-400.7\"/>\r\n",
       "<polygon fill=\"black\" stroke=\"black\" points=\"633.64,-403 638.31,-393.49 628.73,-398.01 633.64,-403\"/>\r\n",
       "</g>\r\n",
       "<!-- E1/E2_23 -->\r\n",
       "<g id=\"node8\" class=\"node\">\r\n",
       "<title>E1/E2_23</title>\r\n",
       "<ellipse fill=\"none\" stroke=\"black\" cx=\"211\" cy=\"-306\" rx=\"32.49\" ry=\"18\"/>\r\n",
       "<text text-anchor=\"middle\" x=\"211\" y=\"-302.3\" font-family=\"Times New Roman,serif\" font-size=\"14.00\">E1/E2</text>\r\n",
       "</g>\r\n",
       "<!-- E1*E2_28&#45;&gt;E1/E2_23 -->\r\n",
       "<g id=\"edge9\" class=\"edge\">\r\n",
       "<title>E1*E2_28&#45;&gt;E1/E2_23</title>\r\n",
       "<path fill=\"none\" stroke=\"black\" d=\"M315,-364.32C294.65,-353.1 264.76,-336.63 242.24,-324.22\"/>\r\n",
       "<polygon fill=\"black\" stroke=\"black\" points=\"243.85,-321.11 233.4,-319.35 240.47,-327.24 243.85,-321.11\"/>\r\n",
       "</g>\r\n",
       "<!-- *_29 -->\r\n",
       "<g id=\"node9\" class=\"node\">\r\n",
       "<title>*_29</title>\r\n",
       "<ellipse fill=\"none\" stroke=\"black\" cx=\"305\" cy=\"-306\" rx=\"27\" ry=\"18\"/>\r\n",
       "<text text-anchor=\"middle\" x=\"305\" y=\"-302.3\" font-family=\"Times New Roman,serif\" font-size=\"14.00\">*</text>\r\n",
       "</g>\r\n",
       "<!-- E1*E2_28&#45;&gt;*_29 -->\r\n",
       "<g id=\"edge10\" class=\"edge\">\r\n",
       "<title>E1*E2_28&#45;&gt;*_29</title>\r\n",
       "<path fill=\"none\" stroke=\"black\" d=\"M330.18,-360.41C326.28,-352.13 321.46,-341.92 317.1,-332.66\"/>\r\n",
       "<polygon fill=\"black\" stroke=\"black\" points=\"320.19,-331.02 312.76,-323.47 313.86,-334.01 320.19,-331.02\"/>\r\n",
       "</g>\r\n",
       "<!-- ~E_26 -->\r\n",
       "<g id=\"node10\" class=\"node\">\r\n",
       "<title>~E_26</title>\r\n",
       "<ellipse fill=\"none\" stroke=\"black\" cx=\"377\" cy=\"-306\" rx=\"27\" ry=\"18\"/>\r\n",
       "<text text-anchor=\"middle\" x=\"377\" y=\"-302.3\" font-family=\"Times New Roman,serif\" font-size=\"14.00\">~E</text>\r\n",
       "</g>\r\n",
       "<!-- E1*E2_28&#45;&gt;~E_26 -->\r\n",
       "<g id=\"edge11\" class=\"edge\">\r\n",
       "<title>E1*E2_28&#45;&gt;~E_26</title>\r\n",
       "<path fill=\"none\" stroke=\"black\" d=\"M347.24,-360.41C351.91,-352.04 357.66,-341.71 362.87,-332.37\"/>\r\n",
       "<polygon fill=\"black\" stroke=\"black\" points=\"366.01,-333.91 367.82,-323.47 359.9,-330.5 366.01,-333.91\"/>\r\n",
       "</g>\r\n",
       "<!-- (_52 -->\r\n",
       "<g id=\"node19\" class=\"node\">\r\n",
       "<title>(_52</title>\r\n",
       "<ellipse fill=\"none\" stroke=\"black\" cx=\"460\" cy=\"-306\" rx=\"27\" ry=\"18\"/>\r\n",
       "<text text-anchor=\"middle\" x=\"460\" y=\"-302.3\" font-family=\"Times New Roman,serif\" font-size=\"14.00\">(</text>\r\n",
       "</g>\r\n",
       "<!-- (E)_51&#45;&gt;(_52 -->\r\n",
       "<g id=\"edge32\" class=\"edge\">\r\n",
       "<title>(E)_51&#45;&gt;(_52</title>\r\n",
       "<path fill=\"none\" stroke=\"black\" d=\"M496.33,-361.12C490.45,-352.34 483.01,-341.26 476.39,-331.42\"/>\r\n",
       "<polygon fill=\"black\" stroke=\"black\" points=\"479.1,-329.17 470.62,-322.82 473.29,-333.07 479.1,-329.17\"/>\r\n",
       "</g>\r\n",
       "<!-- E1&#45;E2_49 -->\r\n",
       "<g id=\"node20\" class=\"node\">\r\n",
       "<title>E1&#45;E2_49</title>\r\n",
       "<ellipse fill=\"none\" stroke=\"black\" cx=\"538\" cy=\"-306\" rx=\"33.29\" ry=\"18\"/>\r\n",
       "<text text-anchor=\"middle\" x=\"538\" y=\"-302.3\" font-family=\"Times New Roman,serif\" font-size=\"14.00\">E1&#45;E2</text>\r\n",
       "</g>\r\n",
       "<!-- (E)_51&#45;&gt;E1&#45;E2_49 -->\r\n",
       "<g id=\"edge33\" class=\"edge\">\r\n",
       "<title>(E)_51&#45;&gt;E1&#45;E2_49</title>\r\n",
       "<path fill=\"none\" stroke=\"black\" d=\"M514.35,-360.41C517.92,-352.34 522.31,-342.43 526.33,-333.35\"/>\r\n",
       "<polygon fill=\"black\" stroke=\"black\" points=\"529.64,-334.52 530.49,-323.96 523.24,-331.68 529.64,-334.52\"/>\r\n",
       "</g>\r\n",
       "<!-- )_53 -->\r\n",
       "<g id=\"node41\" class=\"node\">\r\n",
       "<title>)_53</title>\r\n",
       "<ellipse fill=\"none\" stroke=\"black\" cx=\"616\" cy=\"-306\" rx=\"27\" ry=\"18\"/>\r\n",
       "<text text-anchor=\"middle\" x=\"616\" y=\"-302.3\" font-family=\"Times New Roman,serif\" font-size=\"14.00\">)</text>\r\n",
       "</g>\r\n",
       "<!-- (E)_51&#45;&gt;)_53 -->\r\n",
       "<g id=\"edge34\" class=\"edge\">\r\n",
       "<title>(E)_51&#45;&gt;)_53</title>\r\n",
       "<path fill=\"none\" stroke=\"black\" d=\"M525.99,-364.81C543.34,-353.67 569.19,-337.06 588.74,-324.5\"/>\r\n",
       "<polygon fill=\"black\" stroke=\"black\" points=\"590.71,-327.4 597.23,-319.05 586.93,-321.51 590.71,-327.4\"/>\r\n",
       "</g>\r\n",
       "<!-- E1*E2_20 -->\r\n",
       "<g id=\"node11\" class=\"node\">\r\n",
       "<title>E1*E2_20</title>\r\n",
       "<ellipse fill=\"none\" stroke=\"black\" cx=\"99\" cy=\"-234\" rx=\"34.39\" ry=\"18\"/>\r\n",
       "<text text-anchor=\"middle\" x=\"99\" y=\"-230.3\" font-family=\"Times New Roman,serif\" font-size=\"14.00\">E1*E2</text>\r\n",
       "</g>\r\n",
       "<!-- E1/E2_23&#45;&gt;E1*E2_20 -->\r\n",
       "<g id=\"edge4\" class=\"edge\">\r\n",
       "<title>E1/E2_23&#45;&gt;E1*E2_20</title>\r\n",
       "<path fill=\"none\" stroke=\"black\" d=\"M190.2,-292C173.05,-281.28 148.5,-265.93 129.18,-253.87\"/>\r\n",
       "<polygon fill=\"black\" stroke=\"black\" points=\"130.79,-250.74 120.45,-248.41 127.08,-256.68 130.79,-250.74\"/>\r\n",
       "</g>\r\n",
       "<!-- /_24 -->\r\n",
       "<g id=\"node12\" class=\"node\">\r\n",
       "<title>/_24</title>\r\n",
       "<ellipse fill=\"none\" stroke=\"black\" cx=\"178\" cy=\"-234\" rx=\"27\" ry=\"18\"/>\r\n",
       "<text text-anchor=\"middle\" x=\"178\" y=\"-230.3\" font-family=\"Times New Roman,serif\" font-size=\"14.00\">/</text>\r\n",
       "</g>\r\n",
       "<!-- E1/E2_23&#45;&gt;/_24 -->\r\n",
       "<g id=\"edge5\" class=\"edge\">\r\n",
       "<title>E1/E2_23&#45;&gt;/_24</title>\r\n",
       "<path fill=\"none\" stroke=\"black\" d=\"M203.18,-288.41C199.28,-280.13 194.46,-269.92 190.1,-260.66\"/>\r\n",
       "<polygon fill=\"black\" stroke=\"black\" points=\"193.19,-259.02 185.76,-251.47 186.86,-262.01 193.19,-259.02\"/>\r\n",
       "</g>\r\n",
       "<!-- 4_22 -->\r\n",
       "<g id=\"node13\" class=\"node\">\r\n",
       "<title>4_22</title>\r\n",
       "<ellipse fill=\"none\" stroke=\"black\" cx=\"250\" cy=\"-234\" rx=\"27\" ry=\"18\"/>\r\n",
       "<text text-anchor=\"middle\" x=\"250\" y=\"-230.3\" font-family=\"Times New Roman,serif\" font-size=\"14.00\">4</text>\r\n",
       "</g>\r\n",
       "<!-- E1/E2_23&#45;&gt;4_22 -->\r\n",
       "<g id=\"edge6\" class=\"edge\">\r\n",
       "<title>E1/E2_23&#45;&gt;4_22</title>\r\n",
       "<path fill=\"none\" stroke=\"black\" d=\"M220.24,-288.41C224.91,-280.04 230.66,-269.71 235.87,-260.37\"/>\r\n",
       "<polygon fill=\"black\" stroke=\"black\" points=\"239.01,-261.91 240.82,-251.47 232.9,-258.5 239.01,-261.91\"/>\r\n",
       "</g>\r\n",
       "<!-- ~_27 -->\r\n",
       "<g id=\"node17\" class=\"node\">\r\n",
       "<title>~_27</title>\r\n",
       "<ellipse fill=\"none\" stroke=\"black\" cx=\"322\" cy=\"-234\" rx=\"27\" ry=\"18\"/>\r\n",
       "<text text-anchor=\"middle\" x=\"322\" y=\"-230.3\" font-family=\"Times New Roman,serif\" font-size=\"14.00\">~</text>\r\n",
       "</g>\r\n",
       "<!-- ~E_26&#45;&gt;~_27 -->\r\n",
       "<g id=\"edge7\" class=\"edge\">\r\n",
       "<title>~E_26&#45;&gt;~_27</title>\r\n",
       "<path fill=\"none\" stroke=\"black\" d=\"M365.07,-289.81C357.79,-280.55 348.34,-268.52 340.15,-258.09\"/>\r\n",
       "<polygon fill=\"black\" stroke=\"black\" points=\"342.84,-255.86 333.91,-250.16 337.34,-260.18 342.84,-255.86\"/>\r\n",
       "</g>\r\n",
       "<!-- 5_25 -->\r\n",
       "<g id=\"node18\" class=\"node\">\r\n",
       "<title>5_25</title>\r\n",
       "<ellipse fill=\"none\" stroke=\"black\" cx=\"394\" cy=\"-234\" rx=\"27\" ry=\"18\"/>\r\n",
       "<text text-anchor=\"middle\" x=\"394\" y=\"-230.3\" font-family=\"Times New Roman,serif\" font-size=\"14.00\">5</text>\r\n",
       "</g>\r\n",
       "<!-- ~E_26&#45;&gt;5_25 -->\r\n",
       "<g id=\"edge8\" class=\"edge\">\r\n",
       "<title>~E_26&#45;&gt;5_25</title>\r\n",
       "<path fill=\"none\" stroke=\"black\" d=\"M381.12,-288.05C383.01,-280.26 385.3,-270.82 387.42,-262.08\"/>\r\n",
       "<polygon fill=\"black\" stroke=\"black\" points=\"390.85,-262.82 389.8,-252.28 384.04,-261.17 390.85,-262.82\"/>\r\n",
       "</g>\r\n",
       "<!-- 6_18 -->\r\n",
       "<g id=\"node14\" class=\"node\">\r\n",
       "<title>6_18</title>\r\n",
       "<ellipse fill=\"none\" stroke=\"black\" cx=\"27\" cy=\"-162\" rx=\"27\" ry=\"18\"/>\r\n",
       "<text text-anchor=\"middle\" x=\"27\" y=\"-158.3\" font-family=\"Times New Roman,serif\" font-size=\"14.00\">6</text>\r\n",
       "</g>\r\n",
       "<!-- E1*E2_20&#45;&gt;6_18 -->\r\n",
       "<g id=\"edge1\" class=\"edge\">\r\n",
       "<title>E1*E2_20&#45;&gt;6_18</title>\r\n",
       "<path fill=\"none\" stroke=\"black\" d=\"M83.38,-217.81C73.3,-208.01 60.04,-195.12 48.91,-184.3\"/>\r\n",
       "<polygon fill=\"black\" stroke=\"black\" points=\"51.22,-181.67 41.61,-177.21 46.34,-186.69 51.22,-181.67\"/>\r\n",
       "</g>\r\n",
       "<!-- *_21 -->\r\n",
       "<g id=\"node15\" class=\"node\">\r\n",
       "<title>*_21</title>\r\n",
       "<ellipse fill=\"none\" stroke=\"black\" cx=\"99\" cy=\"-162\" rx=\"27\" ry=\"18\"/>\r\n",
       "<text text-anchor=\"middle\" x=\"99\" y=\"-158.3\" font-family=\"Times New Roman,serif\" font-size=\"14.00\">*</text>\r\n",
       "</g>\r\n",
       "<!-- E1*E2_20&#45;&gt;*_21 -->\r\n",
       "<g id=\"edge2\" class=\"edge\">\r\n",
       "<title>E1*E2_20&#45;&gt;*_21</title>\r\n",
       "<path fill=\"none\" stroke=\"black\" d=\"M99,-215.7C99,-207.98 99,-198.71 99,-190.11\"/>\r\n",
       "<polygon fill=\"black\" stroke=\"black\" points=\"102.5,-190.1 99,-180.1 95.5,-190.1 102.5,-190.1\"/>\r\n",
       "</g>\r\n",
       "<!-- 3_19 -->\r\n",
       "<g id=\"node16\" class=\"node\">\r\n",
       "<title>3_19</title>\r\n",
       "<ellipse fill=\"none\" stroke=\"black\" cx=\"171\" cy=\"-162\" rx=\"27\" ry=\"18\"/>\r\n",
       "<text text-anchor=\"middle\" x=\"171\" y=\"-158.3\" font-family=\"Times New Roman,serif\" font-size=\"14.00\">3</text>\r\n",
       "</g>\r\n",
       "<!-- E1*E2_20&#45;&gt;3_19 -->\r\n",
       "<g id=\"edge3\" class=\"edge\">\r\n",
       "<title>E1*E2_20&#45;&gt;3_19</title>\r\n",
       "<path fill=\"none\" stroke=\"black\" d=\"M114.62,-217.81C124.7,-208.01 137.96,-195.12 149.09,-184.3\"/>\r\n",
       "<polygon fill=\"black\" stroke=\"black\" points=\"151.66,-186.69 156.39,-177.21 146.78,-181.67 151.66,-186.69\"/>\r\n",
       "</g>\r\n",
       "<!-- E1&#45;E2_38 -->\r\n",
       "<g id=\"node21\" class=\"node\">\r\n",
       "<title>E1&#45;E2_38</title>\r\n",
       "<ellipse fill=\"none\" stroke=\"black\" cx=\"472\" cy=\"-234\" rx=\"33.29\" ry=\"18\"/>\r\n",
       "<text text-anchor=\"middle\" x=\"472\" y=\"-230.3\" font-family=\"Times New Roman,serif\" font-size=\"14.00\">E1&#45;E2</text>\r\n",
       "</g>\r\n",
       "<!-- E1&#45;E2_49&#45;&gt;E1&#45;E2_38 -->\r\n",
       "<g id=\"edge29\" class=\"edge\">\r\n",
       "<title>E1&#45;E2_49&#45;&gt;E1&#45;E2_38</title>\r\n",
       "<path fill=\"none\" stroke=\"black\" d=\"M523.35,-289.46C514.64,-280.22 503.42,-268.32 493.69,-258\"/>\r\n",
       "<polygon fill=\"black\" stroke=\"black\" points=\"496.01,-255.37 486.61,-250.49 490.92,-260.17 496.01,-255.37\"/>\r\n",
       "</g>\r\n",
       "<!-- &#45;_50 -->\r\n",
       "<g id=\"node22\" class=\"node\">\r\n",
       "<title>&#45;_50</title>\r\n",
       "<ellipse fill=\"none\" stroke=\"black\" cx=\"550\" cy=\"-234\" rx=\"27\" ry=\"18\"/>\r\n",
       "<text text-anchor=\"middle\" x=\"550\" y=\"-230.3\" font-family=\"Times New Roman,serif\" font-size=\"14.00\">&#45;</text>\r\n",
       "</g>\r\n",
       "<!-- E1&#45;E2_49&#45;&gt;&#45;_50 -->\r\n",
       "<g id=\"edge30\" class=\"edge\">\r\n",
       "<title>E1&#45;E2_49&#45;&gt;&#45;_50</title>\r\n",
       "<path fill=\"none\" stroke=\"black\" d=\"M540.9,-288.05C542.23,-280.35 543.82,-271.03 545.31,-262.36\"/>\r\n",
       "<polygon fill=\"black\" stroke=\"black\" points=\"548.8,-262.72 547.04,-252.28 541.9,-261.54 548.8,-262.72\"/>\r\n",
       "</g>\r\n",
       "<!-- E1*E2_47 -->\r\n",
       "<g id=\"node23\" class=\"node\">\r\n",
       "<title>E1*E2_47</title>\r\n",
       "<ellipse fill=\"none\" stroke=\"black\" cx=\"663\" cy=\"-234\" rx=\"34.39\" ry=\"18\"/>\r\n",
       "<text text-anchor=\"middle\" x=\"663\" y=\"-230.3\" font-family=\"Times New Roman,serif\" font-size=\"14.00\">E1*E2</text>\r\n",
       "</g>\r\n",
       "<!-- E1&#45;E2_49&#45;&gt;E1*E2_47 -->\r\n",
       "<g id=\"edge31\" class=\"edge\">\r\n",
       "<title>E1&#45;E2_49&#45;&gt;E1*E2_47</title>\r\n",
       "<path fill=\"none\" stroke=\"black\" d=\"M560.35,-292.49C580.22,-281.36 609.49,-264.97 631.69,-252.53\"/>\r\n",
       "<polygon fill=\"black\" stroke=\"black\" points=\"633.41,-255.58 640.42,-247.64 629.99,-249.47 633.41,-255.58\"/>\r\n",
       "</g>\r\n",
       "<!-- E1&#45;E2_35 -->\r\n",
       "<g id=\"node24\" class=\"node\">\r\n",
       "<title>E1&#45;E2_35</title>\r\n",
       "<ellipse fill=\"none\" stroke=\"black\" cx=\"376\" cy=\"-162\" rx=\"33.29\" ry=\"18\"/>\r\n",
       "<text text-anchor=\"middle\" x=\"376\" y=\"-158.3\" font-family=\"Times New Roman,serif\" font-size=\"14.00\">E1&#45;E2</text>\r\n",
       "</g>\r\n",
       "<!-- E1&#45;E2_38&#45;&gt;E1&#45;E2_35 -->\r\n",
       "<g id=\"edge18\" class=\"edge\">\r\n",
       "<title>E1&#45;E2_38&#45;&gt;E1&#45;E2_35</title>\r\n",
       "<path fill=\"none\" stroke=\"black\" d=\"M453.03,-219.17C438.83,-208.82 419.2,-194.5 403.31,-182.91\"/>\r\n",
       "<polygon fill=\"black\" stroke=\"black\" points=\"405.07,-179.86 394.93,-176.8 400.95,-185.52 405.07,-179.86\"/>\r\n",
       "</g>\r\n",
       "<!-- &#45;_39 -->\r\n",
       "<g id=\"node25\" class=\"node\">\r\n",
       "<title>&#45;_39</title>\r\n",
       "<ellipse fill=\"none\" stroke=\"black\" cx=\"454\" cy=\"-162\" rx=\"27\" ry=\"18\"/>\r\n",
       "<text text-anchor=\"middle\" x=\"454\" y=\"-158.3\" font-family=\"Times New Roman,serif\" font-size=\"14.00\">&#45;</text>\r\n",
       "</g>\r\n",
       "<!-- E1&#45;E2_38&#45;&gt;&#45;_39 -->\r\n",
       "<g id=\"edge19\" class=\"edge\">\r\n",
       "<title>E1&#45;E2_38&#45;&gt;&#45;_39</title>\r\n",
       "<path fill=\"none\" stroke=\"black\" d=\"M467.64,-216.05C465.61,-208.14 463.14,-198.54 460.86,-189.69\"/>\r\n",
       "<polygon fill=\"black\" stroke=\"black\" points=\"464.2,-188.6 458.32,-179.79 457.42,-190.35 464.2,-188.6\"/>\r\n",
       "</g>\r\n",
       "<!-- 5_37 -->\r\n",
       "<g id=\"node26\" class=\"node\">\r\n",
       "<title>5_37</title>\r\n",
       "<ellipse fill=\"none\" stroke=\"black\" cx=\"526\" cy=\"-162\" rx=\"27\" ry=\"18\"/>\r\n",
       "<text text-anchor=\"middle\" x=\"526\" y=\"-158.3\" font-family=\"Times New Roman,serif\" font-size=\"14.00\">5</text>\r\n",
       "</g>\r\n",
       "<!-- E1&#45;E2_38&#45;&gt;5_37 -->\r\n",
       "<g id=\"edge20\" class=\"edge\">\r\n",
       "<title>E1&#45;E2_38&#45;&gt;5_37</title>\r\n",
       "<path fill=\"none\" stroke=\"black\" d=\"M484.25,-217.12C491.25,-208.04 500.16,-196.49 507.95,-186.39\"/>\r\n",
       "<polygon fill=\"black\" stroke=\"black\" points=\"510.83,-188.4 514.17,-178.34 505.29,-184.12 510.83,-188.4\"/>\r\n",
       "</g>\r\n",
       "<!-- E1/E2_42 -->\r\n",
       "<g id=\"node33\" class=\"node\">\r\n",
       "<title>E1/E2_42</title>\r\n",
       "<ellipse fill=\"none\" stroke=\"black\" cx=\"603\" cy=\"-162\" rx=\"32.49\" ry=\"18\"/>\r\n",
       "<text text-anchor=\"middle\" x=\"603\" y=\"-158.3\" font-family=\"Times New Roman,serif\" font-size=\"14.00\">E1/E2</text>\r\n",
       "</g>\r\n",
       "<!-- E1*E2_47&#45;&gt;E1/E2_42 -->\r\n",
       "<g id=\"edge26\" class=\"edge\">\r\n",
       "<title>E1*E2_47&#45;&gt;E1/E2_42</title>\r\n",
       "<path fill=\"none\" stroke=\"black\" d=\"M649.39,-217.12C641.64,-208.08 631.79,-196.58 623.16,-186.52\"/>\r\n",
       "<polygon fill=\"black\" stroke=\"black\" points=\"625.73,-184.14 616.56,-178.82 620.41,-188.69 625.73,-184.14\"/>\r\n",
       "</g>\r\n",
       "<!-- *_48 -->\r\n",
       "<g id=\"node34\" class=\"node\">\r\n",
       "<title>*_48</title>\r\n",
       "<ellipse fill=\"none\" stroke=\"black\" cx=\"680\" cy=\"-162\" rx=\"27\" ry=\"18\"/>\r\n",
       "<text text-anchor=\"middle\" x=\"680\" y=\"-158.3\" font-family=\"Times New Roman,serif\" font-size=\"14.00\">*</text>\r\n",
       "</g>\r\n",
       "<!-- E1*E2_47&#45;&gt;*_48 -->\r\n",
       "<g id=\"edge27\" class=\"edge\">\r\n",
       "<title>E1*E2_47&#45;&gt;*_48</title>\r\n",
       "<path fill=\"none\" stroke=\"black\" d=\"M667.12,-216.05C669.01,-208.26 671.3,-198.82 673.42,-190.08\"/>\r\n",
       "<polygon fill=\"black\" stroke=\"black\" points=\"676.85,-190.82 675.8,-180.28 670.04,-189.17 676.85,-190.82\"/>\r\n",
       "</g>\r\n",
       "<!-- ~E_45 -->\r\n",
       "<g id=\"node35\" class=\"node\">\r\n",
       "<title>~E_45</title>\r\n",
       "<ellipse fill=\"none\" stroke=\"black\" cx=\"752\" cy=\"-162\" rx=\"27\" ry=\"18\"/>\r\n",
       "<text text-anchor=\"middle\" x=\"752\" y=\"-158.3\" font-family=\"Times New Roman,serif\" font-size=\"14.00\">~E</text>\r\n",
       "</g>\r\n",
       "<!-- E1*E2_47&#45;&gt;~E_45 -->\r\n",
       "<g id=\"edge28\" class=\"edge\">\r\n",
       "<title>E1*E2_47&#45;&gt;~E_45</title>\r\n",
       "<path fill=\"none\" stroke=\"black\" d=\"M681.44,-218.5C694.64,-208.12 712.55,-194.03 727.02,-182.64\"/>\r\n",
       "<polygon fill=\"black\" stroke=\"black\" points=\"729.39,-185.23 735.09,-176.3 725.06,-179.73 729.39,-185.23\"/>\r\n",
       "</g>\r\n",
       "<!-- E1+E2_32 -->\r\n",
       "<g id=\"node27\" class=\"node\">\r\n",
       "<title>E1+E2_32</title>\r\n",
       "<ellipse fill=\"none\" stroke=\"black\" cx=\"295\" cy=\"-90\" rx=\"36\" ry=\"18\"/>\r\n",
       "<text text-anchor=\"middle\" x=\"295\" y=\"-86.3\" font-family=\"Times New Roman,serif\" font-size=\"14.00\">E1+E2</text>\r\n",
       "</g>\r\n",
       "<!-- E1&#45;E2_35&#45;&gt;E1+E2_32 -->\r\n",
       "<g id=\"edge15\" class=\"edge\">\r\n",
       "<title>E1&#45;E2_35&#45;&gt;E1+E2_32</title>\r\n",
       "<path fill=\"none\" stroke=\"black\" d=\"M358.82,-146.15C347.55,-136.41 332.61,-123.5 320.02,-112.63\"/>\r\n",
       "<polygon fill=\"black\" stroke=\"black\" points=\"322.01,-109.71 312.15,-105.82 317.43,-115.01 322.01,-109.71\"/>\r\n",
       "</g>\r\n",
       "<!-- &#45;_36 -->\r\n",
       "<g id=\"node28\" class=\"node\">\r\n",
       "<title>&#45;_36</title>\r\n",
       "<ellipse fill=\"none\" stroke=\"black\" cx=\"376\" cy=\"-90\" rx=\"27\" ry=\"18\"/>\r\n",
       "<text text-anchor=\"middle\" x=\"376\" y=\"-86.3\" font-family=\"Times New Roman,serif\" font-size=\"14.00\">&#45;</text>\r\n",
       "</g>\r\n",
       "<!-- E1&#45;E2_35&#45;&gt;&#45;_36 -->\r\n",
       "<g id=\"edge16\" class=\"edge\">\r\n",
       "<title>E1&#45;E2_35&#45;&gt;&#45;_36</title>\r\n",
       "<path fill=\"none\" stroke=\"black\" d=\"M376,-143.7C376,-135.98 376,-126.71 376,-118.11\"/>\r\n",
       "<polygon fill=\"black\" stroke=\"black\" points=\"379.5,-118.1 376,-108.1 372.5,-118.1 379.5,-118.1\"/>\r\n",
       "</g>\r\n",
       "<!-- 4_34 -->\r\n",
       "<g id=\"node29\" class=\"node\">\r\n",
       "<title>4_34</title>\r\n",
       "<ellipse fill=\"none\" stroke=\"black\" cx=\"448\" cy=\"-90\" rx=\"27\" ry=\"18\"/>\r\n",
       "<text text-anchor=\"middle\" x=\"448\" y=\"-86.3\" font-family=\"Times New Roman,serif\" font-size=\"14.00\">4</text>\r\n",
       "</g>\r\n",
       "<!-- E1&#45;E2_35&#45;&gt;4_34 -->\r\n",
       "<g id=\"edge17\" class=\"edge\">\r\n",
       "<title>E1&#45;E2_35&#45;&gt;4_34</title>\r\n",
       "<path fill=\"none\" stroke=\"black\" d=\"M391.62,-145.81C401.7,-136.01 414.96,-123.12 426.09,-112.3\"/>\r\n",
       "<polygon fill=\"black\" stroke=\"black\" points=\"428.66,-114.69 433.39,-105.21 423.78,-109.67 428.66,-114.69\"/>\r\n",
       "</g>\r\n",
       "<!-- 2_30 -->\r\n",
       "<g id=\"node30\" class=\"node\">\r\n",
       "<title>2_30</title>\r\n",
       "<ellipse fill=\"none\" stroke=\"black\" cx=\"223\" cy=\"-18\" rx=\"27\" ry=\"18\"/>\r\n",
       "<text text-anchor=\"middle\" x=\"223\" y=\"-14.3\" font-family=\"Times New Roman,serif\" font-size=\"14.00\">2</text>\r\n",
       "</g>\r\n",
       "<!-- E1+E2_32&#45;&gt;2_30 -->\r\n",
       "<g id=\"edge12\" class=\"edge\">\r\n",
       "<title>E1+E2_32&#45;&gt;2_30</title>\r\n",
       "<path fill=\"none\" stroke=\"black\" d=\"M279.02,-73.46C269.06,-63.78 256.09,-51.17 245.15,-40.53\"/>\r\n",
       "<polygon fill=\"black\" stroke=\"black\" points=\"247.56,-38 237.95,-33.54 242.68,-43.02 247.56,-38\"/>\r\n",
       "</g>\r\n",
       "<!-- +_33 -->\r\n",
       "<g id=\"node31\" class=\"node\">\r\n",
       "<title>+_33</title>\r\n",
       "<ellipse fill=\"none\" stroke=\"black\" cx=\"295\" cy=\"-18\" rx=\"27\" ry=\"18\"/>\r\n",
       "<text text-anchor=\"middle\" x=\"295\" y=\"-14.3\" font-family=\"Times New Roman,serif\" font-size=\"14.00\">+</text>\r\n",
       "</g>\r\n",
       "<!-- E1+E2_32&#45;&gt;+_33 -->\r\n",
       "<g id=\"edge13\" class=\"edge\">\r\n",
       "<title>E1+E2_32&#45;&gt;+_33</title>\r\n",
       "<path fill=\"none\" stroke=\"black\" d=\"M295,-71.7C295,-63.98 295,-54.71 295,-46.11\"/>\r\n",
       "<polygon fill=\"black\" stroke=\"black\" points=\"298.5,-46.1 295,-36.1 291.5,-46.1 298.5,-46.1\"/>\r\n",
       "</g>\r\n",
       "<!-- 3_31 -->\r\n",
       "<g id=\"node32\" class=\"node\">\r\n",
       "<title>3_31</title>\r\n",
       "<ellipse fill=\"none\" stroke=\"black\" cx=\"367\" cy=\"-18\" rx=\"27\" ry=\"18\"/>\r\n",
       "<text text-anchor=\"middle\" x=\"367\" y=\"-14.3\" font-family=\"Times New Roman,serif\" font-size=\"14.00\">3</text>\r\n",
       "</g>\r\n",
       "<!-- E1+E2_32&#45;&gt;3_31 -->\r\n",
       "<g id=\"edge14\" class=\"edge\">\r\n",
       "<title>E1+E2_32&#45;&gt;3_31</title>\r\n",
       "<path fill=\"none\" stroke=\"black\" d=\"M310.98,-73.46C320.94,-63.78 333.91,-51.17 344.85,-40.53\"/>\r\n",
       "<polygon fill=\"black\" stroke=\"black\" points=\"347.32,-43.02 352.05,-33.54 342.44,-38 347.32,-43.02\"/>\r\n",
       "</g>\r\n",
       "<!-- 6_40 -->\r\n",
       "<g id=\"node36\" class=\"node\">\r\n",
       "<title>6_40</title>\r\n",
       "<ellipse fill=\"none\" stroke=\"black\" cx=\"531\" cy=\"-90\" rx=\"27\" ry=\"18\"/>\r\n",
       "<text text-anchor=\"middle\" x=\"531\" y=\"-86.3\" font-family=\"Times New Roman,serif\" font-size=\"14.00\">6</text>\r\n",
       "</g>\r\n",
       "<!-- E1/E2_42&#45;&gt;6_40 -->\r\n",
       "<g id=\"edge21\" class=\"edge\">\r\n",
       "<title>E1/E2_42&#45;&gt;6_40</title>\r\n",
       "<path fill=\"none\" stroke=\"black\" d=\"M587.38,-145.81C577.3,-136.01 564.04,-123.12 552.91,-112.3\"/>\r\n",
       "<polygon fill=\"black\" stroke=\"black\" points=\"555.22,-109.67 545.61,-105.21 550.34,-114.69 555.22,-109.67\"/>\r\n",
       "</g>\r\n",
       "<!-- /_43 -->\r\n",
       "<g id=\"node37\" class=\"node\">\r\n",
       "<title>/_43</title>\r\n",
       "<ellipse fill=\"none\" stroke=\"black\" cx=\"603\" cy=\"-90\" rx=\"27\" ry=\"18\"/>\r\n",
       "<text text-anchor=\"middle\" x=\"603\" y=\"-86.3\" font-family=\"Times New Roman,serif\" font-size=\"14.00\">/</text>\r\n",
       "</g>\r\n",
       "<!-- E1/E2_42&#45;&gt;/_43 -->\r\n",
       "<g id=\"edge22\" class=\"edge\">\r\n",
       "<title>E1/E2_42&#45;&gt;/_43</title>\r\n",
       "<path fill=\"none\" stroke=\"black\" d=\"M603,-143.7C603,-135.98 603,-126.71 603,-118.11\"/>\r\n",
       "<polygon fill=\"black\" stroke=\"black\" points=\"606.5,-118.1 603,-108.1 599.5,-118.1 606.5,-118.1\"/>\r\n",
       "</g>\r\n",
       "<!-- 7_41 -->\r\n",
       "<g id=\"node38\" class=\"node\">\r\n",
       "<title>7_41</title>\r\n",
       "<ellipse fill=\"none\" stroke=\"black\" cx=\"675\" cy=\"-90\" rx=\"27\" ry=\"18\"/>\r\n",
       "<text text-anchor=\"middle\" x=\"675\" y=\"-86.3\" font-family=\"Times New Roman,serif\" font-size=\"14.00\">7</text>\r\n",
       "</g>\r\n",
       "<!-- E1/E2_42&#45;&gt;7_41 -->\r\n",
       "<g id=\"edge23\" class=\"edge\">\r\n",
       "<title>E1/E2_42&#45;&gt;7_41</title>\r\n",
       "<path fill=\"none\" stroke=\"black\" d=\"M618.62,-145.81C628.7,-136.01 641.96,-123.12 653.09,-112.3\"/>\r\n",
       "<polygon fill=\"black\" stroke=\"black\" points=\"655.66,-114.69 660.39,-105.21 650.78,-109.67 655.66,-114.69\"/>\r\n",
       "</g>\r\n",
       "<!-- ~_46 -->\r\n",
       "<g id=\"node39\" class=\"node\">\r\n",
       "<title>~_46</title>\r\n",
       "<ellipse fill=\"none\" stroke=\"black\" cx=\"749\" cy=\"-90\" rx=\"27\" ry=\"18\"/>\r\n",
       "<text text-anchor=\"middle\" x=\"749\" y=\"-86.3\" font-family=\"Times New Roman,serif\" font-size=\"14.00\">~</text>\r\n",
       "</g>\r\n",
       "<!-- ~E_45&#45;&gt;~_46 -->\r\n",
       "<g id=\"edge24\" class=\"edge\">\r\n",
       "<title>~E_45&#45;&gt;~_46</title>\r\n",
       "<path fill=\"none\" stroke=\"black\" d=\"M751.26,-143.7C750.93,-135.98 750.53,-126.71 750.16,-118.11\"/>\r\n",
       "<polygon fill=\"black\" stroke=\"black\" points=\"753.66,-117.95 749.73,-108.1 746.66,-118.25 753.66,-117.95\"/>\r\n",
       "</g>\r\n",
       "<!-- 8_44 -->\r\n",
       "<g id=\"node40\" class=\"node\">\r\n",
       "<title>8_44</title>\r\n",
       "<ellipse fill=\"none\" stroke=\"black\" cx=\"821\" cy=\"-90\" rx=\"27\" ry=\"18\"/>\r\n",
       "<text text-anchor=\"middle\" x=\"821\" y=\"-86.3\" font-family=\"Times New Roman,serif\" font-size=\"14.00\">8</text>\r\n",
       "</g>\r\n",
       "<!-- ~E_45&#45;&gt;8_44 -->\r\n",
       "<g id=\"edge25\" class=\"edge\">\r\n",
       "<title>~E_45&#45;&gt;8_44</title>\r\n",
       "<path fill=\"none\" stroke=\"black\" d=\"M766.3,-146.5C775.92,-136.73 788.78,-123.69 799.61,-112.7\"/>\r\n",
       "<polygon fill=\"black\" stroke=\"black\" points=\"802.19,-115.06 806.72,-105.49 797.21,-110.15 802.19,-115.06\"/>\r\n",
       "</g>\r\n",
       "</g>\r\n",
       "</svg>\r\n"
      ],
      "text/plain": [
       "<graphviz.dot.Digraph at 0x5822ad8>"
      ]
     },
     "execution_count": 9,
     "metadata": {},
     "output_type": "execute_result"
    }
   ],
   "source": [
    "drawPT(parseExp(\"6*3/4*~5/(2+3-4-5-6/7*~8)-~9\"))"
   ]
  },
  {
   "cell_type": "code",
   "execution_count": 10,
   "metadata": {
    "run_control": {
     "frozen": false,
     "read_only": false
    }
   },
   "outputs": [
    {
     "name": "stdout",
     "output_type": "stream",
     "text": [
      "1.1249999999999991\n",
      "1.1249999999999991\n",
      "1.1249999999999991\n"
     ]
    }
   ],
   "source": [
    "# Check against Python!\n",
    "\n",
    "print(6*3/4*-5/(2+3-4-5-6/7*-8)--9)\n",
    "print(6*3/4*-(5/(2+3-4-5-6/7*-8))-(-9))\n",
    "print(6*3/4*(-5)/(2+3-4-5-6/7*-8)-(-9))"
   ]
  },
  {
   "cell_type": "markdown",
   "metadata": {
    "run_control": {
     "frozen": false,
     "read_only": false
    }
   },
   "source": [
    "# A3:\n",
    "Yes, the answers are the same, meaning that Python intrepretation of the expression is at least equivalent to the way done by the calculator: `6*3/4*(-5)/(2+3-4-5-6/7*-8))-(-9)` or `6*3/4*-(5/(2+3-4-5-6/7*-8))-(-9)`, both are read from left to right. I suspect that Python really intrepreted it as the latter since Python seems to give a higher priority to binary operations. Though they still produce the same result because negating the numerator has the same effects as negating the whole fraction."
   ]
  },
  {
   "cell_type": "markdown",
   "metadata": {
    "run_control": {
     "frozen": false,
     "read_only": false
    }
   },
   "source": [
    "# Q4: How does Python differ from Google Sheets?"
   ]
  },
  {
   "cell_type": "markdown",
   "metadata": {
    "run_control": {
     "frozen": false,
     "read_only": false
    }
   },
   "source": [
    "With respect to Ref-2,\n",
    "Point out the similarities and differences between C++, Python, and \n",
    "Google Sheets when it comes to handling. Just a few sentences talking about similarities and a few sentences about the differences.\n",
    "    \n",
    "- Associativity of exponentiation\n",
    "- Whether negation or exponentiation is handled first"
   ]
  },
  {
   "cell_type": "markdown",
   "metadata": {
    "run_control": {
     "frozen": false,
     "read_only": false
    }
   },
   "source": [
    "# A4:  Finding this out from Google Search, we have this:\n",
    " \n",
    "In `python` and `google-sheets`, the associativity of exponentiation is **right-associative** and in `c++` its **left-associative** (choose one)\n",
    " \n",
    "\n",
    "**negation** is handled first by `c++` and `google-sheets` and **exponentiation** is handled first in `python`. (choose one)\n",
    "\n",
    "<!--\n",
    "### Search ```exponentiation and unary minus in c++ versus python``` etc.\n",
    "-->\n",
    " "
   ]
  }
 ],
 "metadata": {
  "kernelspec": {
   "display_name": "Python 3",
   "language": "python",
   "name": "python3"
  },
  "language_info": {
   "codemirror_mode": {
    "name": "ipython",
    "version": 3
   },
   "file_extension": ".py",
   "mimetype": "text/x-python",
   "name": "python",
   "nbconvert_exporter": "python",
   "pygments_lexer": "ipython3",
   "version": "3.8.5"
  },
  "toc": {
   "colors": {
    "hover_highlight": "#DAA520",
    "running_highlight": "#FF0000",
    "selected_highlight": "#FFD700"
   },
   "moveMenuLeft": true,
   "nav_menu": {
    "height": "12px",
    "width": "252px"
   },
   "navigate_menu": true,
   "number_sections": true,
   "sideBar": true,
   "threshold": 4,
   "toc_cell": false,
   "toc_section_display": "block",
   "toc_window_display": false,
   "widenNotebook": false
  }
 },
 "nbformat": 4,
 "nbformat_minor": 2
}
