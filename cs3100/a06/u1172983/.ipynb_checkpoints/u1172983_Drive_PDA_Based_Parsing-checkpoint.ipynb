{
 "cells": [
  {
   "cell_type": "markdown",
   "metadata": {
    "run_control": {
     "frozen": false,
     "read_only": false
    }
   },
   "source": [
    " # This notebook discussed Context-Free Grammars\n",
    " \n",
    " ## and also how to \"run\" CFGs by directly converting them to PDA and running those PDA\n",
    " \n",
    " ## Some Youtube Videos from the past can help follow this notebook\n",
    " \n",
    " ## They are presented \"in context\" below"
   ]
  },
  {
   "cell_type": "code",
   "execution_count": 1,
   "metadata": {
    "run_control": {
     "frozen": false,
     "read_only": false
    },
    "scrolled": true
   },
   "outputs": [
    {
     "name": "stdout",
     "output_type": "stream",
     "text": [
      "You may use any of these help commands:\n",
      "help(ResetStNum)\n",
      "help(NxtStateStr)\n",
      "\n",
      "You may use any of these help commands:\n",
      "help(md2mc)\n",
      ".. and if you want to dig more, then ..\n",
      "help(default_line_attr)\n",
      "help(length_ok_input_items)\n",
      "help(union_line_attr_list_fld)\n",
      "help(extend_rsltdict)\n",
      "help(form_delta)\n",
      "help(get_machine_components)\n",
      "\n",
      "You may use any of these help commands:\n",
      "help(explore_pda)\n",
      "help(run_pda)\n",
      "help(classify_l_id_path)\n",
      "help(h_run_pda)\n",
      "help(interpret_w_eps)\n",
      "help(step_pda)\n",
      "help(suvivor_id)\n",
      "help(term_id)\n",
      "help(final_id)\n",
      "help(cvt_str_to_sym)\n",
      "help(is_surv_id)\n",
      "help(subsumed)\n",
      "help(is_term_id)\n",
      "help(is_final_id)\n",
      "\n"
     ]
    }
   ],
   "source": [
    "#~~~~~~~~~~~~~~~~~~~~~~~~~~~~~~~~~~~~~~~~~~~~~~~~~~~~~~~\n",
    "import sys\n",
    "\n",
    "# -- Detect if in Own Install or in Colab\n",
    "try:\n",
    "    import google.colab\n",
    "    OWN_INSTALL = False\n",
    "except:\n",
    "    OWN_INSTALL = True\n",
    "    \n",
    "if OWN_INSTALL:\n",
    "    \n",
    "  #---- Leave these definitions ON if running on laptop\n",
    "  #---- Else turn OFF by putting them between ''' ... '''\n",
    "\n",
    "  sys.path[0:0] = ['../../../../..',  '../../../../../3rdparty',  \n",
    "                   '../../../..',  '../../../../3rdparty',  \n",
    "                   '../../..',     '../../../3rdparty', \n",
    "                   '../..',        '../../3rdparty',\n",
    "                   '..',           '../3rdparty' ]\n",
    "\n",
    "else: # In colab\n",
    "  ! if [ ! -d Jove ]; then git clone https://github.com/ganeshutah/Jove Jove; fi\n",
    "  sys.path.append('./Jove')\n",
    "  sys.path.append('./Jove/jove')\n",
    "\n",
    "# -- common imports --\n",
    "from jove.SystemImports import *\n",
    "from jove.DotBashers    import *\n",
    "from jove.Def_md2mc     import *\n",
    "from jove.Def_PDA       import * \n",
    "from jove.Def_md2mc     import *\n",
    "#~~~~~~~~~~~~~~~~~~~~~~~~~~~~~~~~~~~~~~~~~~~~~~~~~~~~~~~"
   ]
  },
  {
   "cell_type": "markdown",
   "metadata": {},
   "source": [
    "# YOUTUBE Video of CFG Basics and how to directly parse using PDA\n",
    "\n",
    "## Direct path: https://youtu.be/bymg3MDe6Y4 (31 min mark)\n",
    "\n",
    "## From about the 30th-minute mark, the video below discusses the grammar\n",
    "\n",
    "## S -> aSa | bSb | epsilon,  for $\\{w w^R \\;:\\; w\\in\\{a,b\\}^ \\}$"
   ]
  },
  {
   "cell_type": "code",
   "execution_count": null,
   "metadata": {
    "scrolled": true
   },
   "outputs": [],
   "source": [
    "from IPython.display import YouTubeVideo\n",
    "YouTubeVideo('bymg3MDe6Y4')"
   ]
  },
  {
   "cell_type": "markdown",
   "metadata": {},
   "source": [
    " # This video (direct path https://youtu.be/N5wQovKIZGM) discusses\n",
    " \n",
    " ## Consistency/Completeness\n",
    " ## Linearity\n",
    " ## Ambiguity"
   ]
  },
  {
   "cell_type": "code",
   "execution_count": null,
   "metadata": {},
   "outputs": [],
   "source": [
    "from IPython.display import YouTubeVideo\n",
    "YouTubeVideo('N5wQovKIZGM')"
   ]
  },
  {
   "cell_type": "markdown",
   "metadata": {},
   "source": [
    "## Let us run the \"direct simulation of CFG from PDA\" below for the above grammar\n",
    "\n",
    "### Notice how we encode each grammar rule DIRECTLY as a PDA transition\n",
    "\n",
    "### These PDA always have the *SAME* I to W and W to F moves ... \n",
    "\n",
    "### Only the W to W moves vary; and here, they have transitions that go by the CFG\n",
    "\n",
    "### There are always $a\\in\\Sigma$ transitions that drain every $a\\in\\Sigma$, matching it with an incoming $a$"
   ]
  },
  {
   "cell_type": "code",
   "execution_count": null,
   "metadata": {},
   "outputs": [],
   "source": [
    "wwR = md2mc('''\n",
    "PDA\n",
    "!!-- The CFG to be simulated\n",
    "!!-- S -> aSa | bSb | ''\n",
    "\n",
    "!!-- This move is the same for any CFG\n",
    "I : '',#; S# -> W\n",
    "\n",
    "!!-- These moves imitate the CFG productions directly\n",
    "W : '',S; aSa -> W\n",
    "W : '',S; bSb -> W\n",
    "W : '',S; ''  -> W\n",
    "\n",
    "!!-- Transitions for every member of Sigma\n",
    "W : a,a; '' -> W\n",
    "W : b,b; '' -> W\n",
    "\n",
    "!!-- This transition is also there for every CFG\n",
    "W : '',#; ''   -> F\n",
    "''')\n",
    "dotObj_pda(wwR, FuseEdges=True)"
   ]
  },
  {
   "cell_type": "code",
   "execution_count": null,
   "metadata": {},
   "outputs": [],
   "source": [
    "explore_pda('aabaabaa', wwR)"
   ]
  },
  {
   "cell_type": "code",
   "execution_count": null,
   "metadata": {},
   "outputs": [],
   "source": []
  },
  {
   "cell_type": "markdown",
   "metadata": {},
   "source": [
    "# Animation of PDA"
   ]
  },
  {
   "cell_type": "code",
   "execution_count": null,
   "metadata": {},
   "outputs": [],
   "source": [
    "from jove.AnimatePDA import *\n",
    "AnimatePDA(wwR, FuseEdges=True)\n",
    "display(HTML('<link rel=\"stylesheet\" href=\"//stackpath.bootstrapcdn.com/font-awesome/4.7.0/css/font-awesome.min.css\"/>'))"
   ]
  },
  {
   "cell_type": "markdown",
   "metadata": {},
   "source": [
    "# Animation Panel for all Machines (access PDA)\n",
    "## You may do the above animation here\n",
    "#### Access the PDA panel and key-in the definition of wwR in there"
   ]
  },
  {
   "cell_type": "code",
   "execution_count": null,
   "metadata": {},
   "outputs": [],
   "source": [
    "from jove.JoveEditor import *\n",
    "JoveEditor(examples=True)\n",
    "display(HTML('<link rel=\"stylesheet\" href=\"//stackpath.bootstrapcdn.com/font-awesome/4.7.0/css/font-awesome.min.css\"/>'))"
   ]
  },
  {
   "cell_type": "markdown",
   "metadata": {},
   "source": [
    "## The explore_pda call below fails because the string is not of the form $ww^R$ \n",
    "### Here you must use explore_pda, not animation to further investigate"
   ]
  },
  {
   "cell_type": "code",
   "execution_count": null,
   "metadata": {},
   "outputs": [],
   "source": [
    "\n",
    "explore_pda('aabaaaba', wwR)"
   ]
  },
  {
   "cell_type": "markdown",
   "metadata": {
    "run_control": {
     "frozen": false,
     "read_only": false
    }
   },
   "source": [
    "# An RE grammar and its PDA encoding\n",
    "\n",
    "## Observe the number of parses possible\n",
    "## This is a highly ambiguous grammar because\n",
    "## there are many parses for the same input"
   ]
  },
  {
   "cell_type": "code",
   "execution_count": null,
   "metadata": {
    "run_control": {
     "frozen": false,
     "read_only": false
    }
   },
   "outputs": [],
   "source": [
    "repda = md2mc('''PDA\n",
    "!!R -> R R | R + R | R* | ( R ) | 0 | 1 | e\n",
    "I : '', #  ; R#  -> M\n",
    "M : '', R  ; RR  -> M\n",
    "M : '', R  ; R+R -> M\n",
    "M : '', R  ; R*  -> M\n",
    "M : '', R  ; (R) -> M\n",
    "M : '', R  ; 0   -> M\n",
    "M : '', R  ; 1   -> M\n",
    "M : '', R  ; e   -> M\n",
    "M : 0,  0  ; ''  -> M\n",
    "M : 1,  1  ; ''  -> M\n",
    "M : (,  (  ; ''  -> M\n",
    "M : ),  )  ; ''  -> M\n",
    "M : +,  +  ; ''  -> M\n",
    "M : e,  e  ; ''  -> M\n",
    "M : '', #  ; #   -> F\n",
    "'''\n",
    ")\n"
   ]
  },
  {
   "cell_type": "code",
   "execution_count": null,
   "metadata": {
    "run_control": {
     "frozen": false,
     "read_only": false
    }
   },
   "outputs": [],
   "source": [
    "repda"
   ]
  },
  {
   "cell_type": "code",
   "execution_count": null,
   "metadata": {
    "run_control": {
     "frozen": false,
     "read_only": false
    }
   },
   "outputs": [],
   "source": [
    "DO_repda = dotObj_pda(repda, FuseEdges=True)"
   ]
  },
  {
   "cell_type": "code",
   "execution_count": null,
   "metadata": {
    "run_control": {
     "frozen": false,
     "read_only": false
    }
   },
   "outputs": [],
   "source": [
    "DO_repda"
   ]
  },
  {
   "cell_type": "code",
   "execution_count": null,
   "metadata": {
    "run_control": {
     "frozen": false,
     "read_only": false
    }
   },
   "outputs": [],
   "source": [
    "explore_pda(\"0\", repda, STKMAX=4)"
   ]
  },
  {
   "cell_type": "code",
   "execution_count": null,
   "metadata": {
    "run_control": {
     "frozen": false,
     "read_only": false
    }
   },
   "outputs": [],
   "source": [
    "explore_pda(\"00\", repda)"
   ]
  },
  {
   "cell_type": "code",
   "execution_count": null,
   "metadata": {
    "run_control": {
     "frozen": false,
     "read_only": false
    }
   },
   "outputs": [],
   "source": [
    "explore_pda(\"(0)\", repda)"
   ]
  },
  {
   "cell_type": "code",
   "execution_count": null,
   "metadata": {
    "run_control": {
     "frozen": false,
     "read_only": false
    }
   },
   "outputs": [],
   "source": [
    "explore_pda(\"(00)\", repda)"
   ]
  },
  {
   "cell_type": "code",
   "execution_count": null,
   "metadata": {
    "run_control": {
     "frozen": false,
     "read_only": false
    },
    "scrolled": true
   },
   "outputs": [],
   "source": [
    "explore_pda(\"(0)(0)\", repda)"
   ]
  },
  {
   "cell_type": "code",
   "execution_count": null,
   "metadata": {
    "run_control": {
     "frozen": false,
     "read_only": false
    },
    "scrolled": false
   },
   "outputs": [],
   "source": [
    "explore_pda(\"0+0\", repda, STKMAX=3)"
   ]
  },
  {
   "cell_type": "code",
   "execution_count": null,
   "metadata": {
    "run_control": {
     "frozen": false,
     "read_only": false
    },
    "scrolled": true
   },
   "outputs": [],
   "source": [
    "explore_pda(\"(0)+(0)\", repda)"
   ]
  },
  {
   "cell_type": "code",
   "execution_count": null,
   "metadata": {
    "run_control": {
     "frozen": false,
     "read_only": false
    },
    "scrolled": true
   },
   "outputs": [],
   "source": [
    "explore_pda(\"00+0\", repda)"
   ]
  },
  {
   "cell_type": "code",
   "execution_count": null,
   "metadata": {
    "run_control": {
     "frozen": false,
     "read_only": false
    },
    "scrolled": true
   },
   "outputs": [],
   "source": [
    "explore_pda(\"000\", repda, STKMAX=3)"
   ]
  },
  {
   "cell_type": "code",
   "execution_count": null,
   "metadata": {
    "run_control": {
     "frozen": false,
     "read_only": false
    }
   },
   "outputs": [],
   "source": [
    "explore_pda(\"00+00\", repda, STKMAX=4)"
   ]
  },
  {
   "cell_type": "code",
   "execution_count": null,
   "metadata": {
    "run_control": {
     "frozen": false,
     "read_only": false
    },
    "scrolled": true
   },
   "outputs": [],
   "source": [
    "explore_pda(\"00+00\", repda, STKMAX=5)"
   ]
  },
  {
   "cell_type": "markdown",
   "metadata": {},
   "source": [
    "# PDA for well-balanced parentheses"
   ]
  },
  {
   "cell_type": "code",
   "execution_count": null,
   "metadata": {
    "run_control": {
     "frozen": false,
     "read_only": false
    }
   },
   "outputs": [],
   "source": [
    "brpda1 = md2mc('''PDA\n",
    "\n",
    "!!-- The CFG simulated is\n",
    "!!-- S -> (S)|SS|''\n",
    "\n",
    "!!-- Initial move to state M (was W above)\n",
    " I : '', '' ; S     -> M\n",
    " \n",
    " M : '', S  ; (S) -> M\n",
    " M : '', S  ; SS   -> M\n",
    " M : '', S  ; ''    -> M\n",
    " \n",
    " M : (,  (  ; ''    -> M\n",
    " M : ),  )  ; ''    -> M\n",
    " \n",
    " M : '',  ''  ; ''  -> M\n",
    " \n",
    " M : '', #  ; ''    -> F''')\n",
    "\n",
    "dotObj_pda(brpda1, FuseEdges=True)"
   ]
  },
  {
   "cell_type": "code",
   "execution_count": null,
   "metadata": {
    "run_control": {
     "frozen": false,
     "read_only": false
    }
   },
   "outputs": [],
   "source": [
    "explore_pda(\"()(())\", brpda1, STKMAX=5)\n",
    "#explore_pda(\"()(())\", brpda1, STKMAX=4)"
   ]
  },
  {
   "cell_type": "markdown",
   "metadata": {
    "run_control": {
     "frozen": false,
     "read_only": false
    }
   },
   "source": [
    "# Ambiguous parsing of arithmetic expressions"
   ]
  },
  {
   "cell_type": "code",
   "execution_count": 2,
   "metadata": {
    "run_control": {
     "frozen": false,
     "read_only": false
    }
   },
   "outputs": [],
   "source": [
    "# Parsing an arithmetic expression\n",
    "pdaEamb = md2mc('''PDA\n",
    "!!E -> E * E | E + E | ~E | ( E ) | 2 | 3\n",
    "I : '', #  ; E#  -> M\n",
    "M : '', E  ; ~E  -> M\n",
    "M : '', E  ; E+E -> M\n",
    "M : '', E  ; E*E -> M\n",
    "M : '', E  ; (E) -> M\n",
    "M : '', E  ; 2   -> M\n",
    "M : '', E  ; 3   -> M\n",
    "M : ~,  ~  ; ''  -> M\n",
    "M : 2,  2  ; ''  -> M\n",
    "M : 3,  3  ; ''  -> M\n",
    "M : (,  (  ; ''  -> M\n",
    "M : ),  )  ; ''  -> M\n",
    "M : +,  +  ; ''  -> M\n",
    "M : *,  *  ; ''  -> M\n",
    "M : '', #  ; #   -> F\n",
    "'''\n",
    ")"
   ]
  },
  {
   "cell_type": "code",
   "execution_count": 3,
   "metadata": {
    "run_control": {
     "frozen": false,
     "read_only": false
    }
   },
   "outputs": [
    {
     "data": {
      "image/svg+xml": [
       "<?xml version=\"1.0\" encoding=\"UTF-8\" standalone=\"no\"?>\r\n",
       "<!DOCTYPE svg PUBLIC \"-//W3C//DTD SVG 1.1//EN\"\r\n",
       " \"http://www.w3.org/Graphics/SVG/1.1/DTD/svg11.dtd\">\r\n",
       "<!-- Generated by graphviz version 2.44.1 (20200629.0846)\r\n",
       " -->\r\n",
       "<!-- Pages: 1 -->\r\n",
       "<svg width=\"535pt\" height=\"262pt\"\r\n",
       " viewBox=\"0.00 0.00 535.00 261.85\" xmlns=\"http://www.w3.org/2000/svg\" xmlns:xlink=\"http://www.w3.org/1999/xlink\">\r\n",
       "<g id=\"graph0\" class=\"graph\" transform=\"scale(1 1) rotate(0) translate(4 257.85)\">\r\n",
       "<polygon fill=\"white\" stroke=\"transparent\" points=\"-4,4 -4,-257.85 531,-257.85 531,4 -4,4\"/>\r\n",
       "<!-- EMPTY -->\r\n",
       "<g id=\"node1\" class=\"node\">\r\n",
       "<title>EMPTY</title>\r\n",
       "</g>\r\n",
       "<!-- I -->\r\n",
       "<g id=\"node3\" class=\"node\">\r\n",
       "<title>I</title>\r\n",
       "<ellipse fill=\"none\" stroke=\"black\" cx=\"109\" cy=\"-22\" rx=\"18\" ry=\"18\"/>\r\n",
       "<text text-anchor=\"middle\" x=\"109\" y=\"-18.3\" font-family=\"Times New Roman,serif\" font-size=\"14.00\">I</text>\r\n",
       "</g>\r\n",
       "<!-- EMPTY&#45;&gt;I -->\r\n",
       "<g id=\"edge1\" class=\"edge\">\r\n",
       "<title>EMPTY&#45;&gt;I</title>\r\n",
       "<path fill=\"none\" stroke=\"black\" d=\"M54.19,-22C62.65,-22 72.05,-22 80.6,-22\"/>\r\n",
       "<polygon fill=\"black\" stroke=\"black\" points=\"80.83,-25.5 90.83,-22 80.83,-18.5 80.83,-25.5\"/>\r\n",
       "</g>\r\n",
       "<!-- M -->\r\n",
       "<g id=\"node2\" class=\"node\">\r\n",
       "<title>M</title>\r\n",
       "<ellipse fill=\"none\" stroke=\"black\" cx=\"309.5\" cy=\"-22\" rx=\"18.7\" ry=\"18.7\"/>\r\n",
       "<text text-anchor=\"middle\" x=\"309.5\" y=\"-18.3\" font-family=\"Times New Roman,serif\" font-size=\"14.00\">M</text>\r\n",
       "</g>\r\n",
       "<!-- M&#45;&gt;M -->\r\n",
       "<g id=\"edge3\" class=\"edge\">\r\n",
       "<title>M&#45;&gt;M</title>\r\n",
       "<path fill=\"none\" stroke=\"black\" d=\"M292.77,-31.07C277.49,-43.55 283.07,-58.85 309.5,-58.85 330.56,-58.85 338.38,-49.14 332.96,-38.87\"/>\r\n",
       "<polygon fill=\"black\" stroke=\"black\" points=\"335.41,-36.35 326.23,-31.07 330.11,-40.93 335.41,-36.35\"/>\r\n",
       "<text text-anchor=\"middle\" x=\"309.5\" y=\"-242.65\" font-family=\"Times New Roman,serif\" font-size=\"14.00\">), ) ; &#39;&#39; </text>\r\n",
       "<text text-anchor=\"middle\" x=\"309.5\" y=\"-227.65\" font-family=\"Times New Roman,serif\" font-size=\"14.00\"> 2, 2 ; &#39;&#39; </text>\r\n",
       "<text text-anchor=\"middle\" x=\"309.5\" y=\"-212.65\" font-family=\"Times New Roman,serif\" font-size=\"14.00\"> (, ( ; &#39;&#39; </text>\r\n",
       "<text text-anchor=\"middle\" x=\"309.5\" y=\"-197.65\" font-family=\"Times New Roman,serif\" font-size=\"14.00\"> 3, 3 ; &#39;&#39; </text>\r\n",
       "<text text-anchor=\"middle\" x=\"309.5\" y=\"-182.65\" font-family=\"Times New Roman,serif\" font-size=\"14.00\"> &#39;&#39;, E ; ~E </text>\r\n",
       "<text text-anchor=\"middle\" x=\"309.5\" y=\"-167.65\" font-family=\"Times New Roman,serif\" font-size=\"14.00\"> &#39;&#39;, E ; 2 </text>\r\n",
       "<text text-anchor=\"middle\" x=\"309.5\" y=\"-152.65\" font-family=\"Times New Roman,serif\" font-size=\"14.00\"> &#39;&#39;, E ; E*E </text>\r\n",
       "<text text-anchor=\"middle\" x=\"309.5\" y=\"-137.65\" font-family=\"Times New Roman,serif\" font-size=\"14.00\"> +, + ; &#39;&#39; </text>\r\n",
       "<text text-anchor=\"middle\" x=\"309.5\" y=\"-122.65\" font-family=\"Times New Roman,serif\" font-size=\"14.00\"> &#39;&#39;, E ; 3 </text>\r\n",
       "<text text-anchor=\"middle\" x=\"309.5\" y=\"-107.65\" font-family=\"Times New Roman,serif\" font-size=\"14.00\"> ~, ~ ; &#39;&#39; </text>\r\n",
       "<text text-anchor=\"middle\" x=\"309.5\" y=\"-92.65\" font-family=\"Times New Roman,serif\" font-size=\"14.00\"> *, * ; &#39;&#39; </text>\r\n",
       "<text text-anchor=\"middle\" x=\"309.5\" y=\"-77.65\" font-family=\"Times New Roman,serif\" font-size=\"14.00\"> &#39;&#39;, E ; (E) </text>\r\n",
       "<text text-anchor=\"middle\" x=\"309.5\" y=\"-62.65\" font-family=\"Times New Roman,serif\" font-size=\"14.00\"> &#39;&#39;, E ; E+E</text>\r\n",
       "</g>\r\n",
       "<!-- F -->\r\n",
       "<g id=\"node4\" class=\"node\">\r\n",
       "<title>F</title>\r\n",
       "<ellipse fill=\"none\" stroke=\"black\" cx=\"505\" cy=\"-22\" rx=\"18\" ry=\"18\"/>\r\n",
       "<ellipse fill=\"none\" stroke=\"black\" cx=\"505\" cy=\"-22\" rx=\"22\" ry=\"22\"/>\r\n",
       "<text text-anchor=\"middle\" x=\"505\" y=\"-18.3\" font-family=\"Times New Roman,serif\" font-size=\"14.00\">F</text>\r\n",
       "</g>\r\n",
       "<!-- M&#45;&gt;F -->\r\n",
       "<g id=\"edge4\" class=\"edge\">\r\n",
       "<title>M&#45;&gt;F</title>\r\n",
       "<path fill=\"none\" stroke=\"black\" d=\"M328.36,-22C361.25,-22 431.79,-22 472.76,-22\"/>\r\n",
       "<polygon fill=\"black\" stroke=\"black\" points=\"472.99,-25.5 482.99,-22 472.99,-18.5 472.99,-25.5\"/>\r\n",
       "<text text-anchor=\"middle\" x=\"445\" y=\"-25.8\" font-family=\"Times New Roman,serif\" font-size=\"14.00\">&#39;&#39;, # ; #</text>\r\n",
       "</g>\r\n",
       "<!-- I&#45;&gt;M -->\r\n",
       "<g id=\"edge2\" class=\"edge\">\r\n",
       "<title>I&#45;&gt;M</title>\r\n",
       "<path fill=\"none\" stroke=\"black\" d=\"M127.27,-22C161.63,-22 238.84,-22 280.53,-22\"/>\r\n",
       "<polygon fill=\"black\" stroke=\"black\" points=\"280.56,-25.5 290.56,-22 280.56,-18.5 280.56,-25.5\"/>\r\n",
       "<text text-anchor=\"middle\" x=\"169.5\" y=\"-25.8\" font-family=\"Times New Roman,serif\" font-size=\"14.00\">&#39;&#39;, # ; E#</text>\r\n",
       "</g>\r\n",
       "</g>\r\n",
       "</svg>\r\n"
      ],
      "text/plain": [
       "<graphviz.dot.Digraph at 0x5775b68>"
      ]
     },
     "execution_count": 3,
     "metadata": {},
     "output_type": "execute_result"
    }
   ],
   "source": [
    "DOpdaEamb = dotObj_pda(pdaEamb, FuseEdges=True)\n",
    "DOpdaEamb"
   ]
  },
  {
   "cell_type": "code",
   "execution_count": null,
   "metadata": {
    "run_control": {
     "frozen": false,
     "read_only": false
    }
   },
   "outputs": [],
   "source": [
    "explore_pda(\"3+2*3\", pdaEamb, STKMAX=5)"
   ]
  },
  {
   "cell_type": "code",
   "execution_count": null,
   "metadata": {
    "run_control": {
     "frozen": false,
     "read_only": false
    }
   },
   "outputs": [],
   "source": [
    "explore_pda(\"3+2*3+2*3\", pdaEamb, STKMAX=7)"
   ]
  },
  {
   "cell_type": "markdown",
   "metadata": {},
   "source": [
    "# Disambiguated Arithmetic Expression Grammar"
   ]
  },
  {
   "cell_type": "code",
   "execution_count": 6,
   "metadata": {
    "run_control": {
     "frozen": false,
     "read_only": false
    }
   },
   "outputs": [],
   "source": [
    "# Parsing an arithmetic expression\n",
    "pdaE = md2mc('''PDA\n",
    "!!E -> E+T | T\n",
    "!!T -> T*F | F\n",
    "!!F -> 2 | 3 | ~F | (E)\n",
    "I : '', #  ; E#  -> M\n",
    "M : '', E  ; E+T -> M\n",
    "M : '', E  ; T   -> M\n",
    "M : '', T  ; T*F -> M\n",
    "M : '', T  ; F   -> M\n",
    "M : '', F  ; 2   -> M\n",
    "M : '', F  ; 3   -> M\n",
    "M : '', F  ; ~F  -> M\n",
    "M : '', F  ; (E) -> M\n",
    "M : ~,  ~  ; ''  -> M\n",
    "M : 2,  2  ; ''  -> M\n",
    "M : 3,  3  ; ''  -> M\n",
    "M : (,  (  ; ''  -> M\n",
    "M : ),  )  ; ''  -> M\n",
    "M : +,  +  ; ''  -> M\n",
    "M : *,  *  ; ''  -> M\n",
    "M : '', #  ; #   -> F\n",
    "'''\n",
    ")"
   ]
  },
  {
   "cell_type": "code",
   "execution_count": 7,
   "metadata": {
    "run_control": {
     "frozen": false,
     "read_only": false
    }
   },
   "outputs": [
    {
     "data": {
      "image/svg+xml": [
       "<?xml version=\"1.0\" encoding=\"UTF-8\" standalone=\"no\"?>\r\n",
       "<!DOCTYPE svg PUBLIC \"-//W3C//DTD SVG 1.1//EN\"\r\n",
       " \"http://www.w3.org/Graphics/SVG/1.1/DTD/svg11.dtd\">\r\n",
       "<!-- Generated by graphviz version 2.44.1 (20200629.0846)\r\n",
       " -->\r\n",
       "<!-- Pages: 1 -->\r\n",
       "<svg width=\"565pt\" height=\"292pt\"\r\n",
       " viewBox=\"0.00 0.00 565.00 291.85\" xmlns=\"http://www.w3.org/2000/svg\" xmlns:xlink=\"http://www.w3.org/1999/xlink\">\r\n",
       "<g id=\"graph0\" class=\"graph\" transform=\"scale(1 1) rotate(0) translate(4 287.85)\">\r\n",
       "<polygon fill=\"white\" stroke=\"transparent\" points=\"-4,4 -4,-287.85 561,-287.85 561,4 -4,4\"/>\r\n",
       "<!-- EMPTY -->\r\n",
       "<g id=\"node1\" class=\"node\">\r\n",
       "<title>EMPTY</title>\r\n",
       "</g>\r\n",
       "<!-- I -->\r\n",
       "<g id=\"node3\" class=\"node\">\r\n",
       "<title>I</title>\r\n",
       "<ellipse fill=\"none\" stroke=\"black\" cx=\"109\" cy=\"-22\" rx=\"18\" ry=\"18\"/>\r\n",
       "<text text-anchor=\"middle\" x=\"109\" y=\"-18.3\" font-family=\"Times New Roman,serif\" font-size=\"14.00\">I</text>\r\n",
       "</g>\r\n",
       "<!-- EMPTY&#45;&gt;I -->\r\n",
       "<g id=\"edge1\" class=\"edge\">\r\n",
       "<title>EMPTY&#45;&gt;I</title>\r\n",
       "<path fill=\"none\" stroke=\"black\" d=\"M54.19,-22C62.65,-22 72.05,-22 80.6,-22\"/>\r\n",
       "<polygon fill=\"black\" stroke=\"black\" points=\"80.83,-25.5 90.83,-22 80.83,-18.5 80.83,-25.5\"/>\r\n",
       "</g>\r\n",
       "<!-- M -->\r\n",
       "<g id=\"node2\" class=\"node\">\r\n",
       "<title>M</title>\r\n",
       "<ellipse fill=\"none\" stroke=\"black\" cx=\"324.5\" cy=\"-22\" rx=\"18.7\" ry=\"18.7\"/>\r\n",
       "<text text-anchor=\"middle\" x=\"324.5\" y=\"-18.3\" font-family=\"Times New Roman,serif\" font-size=\"14.00\">M</text>\r\n",
       "</g>\r\n",
       "<!-- M&#45;&gt;M -->\r\n",
       "<g id=\"edge3\" class=\"edge\">\r\n",
       "<title>M&#45;&gt;M</title>\r\n",
       "<path fill=\"none\" stroke=\"black\" d=\"M307.36,-29.96C288.32,-42.63 294.03,-58.85 324.5,-58.85 349.73,-58.85 357.99,-47.73 349.26,-36.71\"/>\r\n",
       "<polygon fill=\"black\" stroke=\"black\" points=\"351.45,-33.97 341.64,-29.96 346.81,-39.21 351.45,-33.97\"/>\r\n",
       "<text text-anchor=\"middle\" x=\"324.5\" y=\"-272.65\" font-family=\"Times New Roman,serif\" font-size=\"14.00\">), ) ; &#39;&#39; </text>\r\n",
       "<text text-anchor=\"middle\" x=\"324.5\" y=\"-257.65\" font-family=\"Times New Roman,serif\" font-size=\"14.00\"> (, ( ; &#39;&#39; </text>\r\n",
       "<text text-anchor=\"middle\" x=\"324.5\" y=\"-242.65\" font-family=\"Times New Roman,serif\" font-size=\"14.00\"> &#39;&#39;, F ; 2 </text>\r\n",
       "<text text-anchor=\"middle\" x=\"324.5\" y=\"-227.65\" font-family=\"Times New Roman,serif\" font-size=\"14.00\"> &#39;&#39;, F ; 3 </text>\r\n",
       "<text text-anchor=\"middle\" x=\"324.5\" y=\"-212.65\" font-family=\"Times New Roman,serif\" font-size=\"14.00\"> 3, 3 ; &#39;&#39; </text>\r\n",
       "<text text-anchor=\"middle\" x=\"324.5\" y=\"-197.65\" font-family=\"Times New Roman,serif\" font-size=\"14.00\"> &#39;&#39;, F ; ~F </text>\r\n",
       "<text text-anchor=\"middle\" x=\"324.5\" y=\"-182.65\" font-family=\"Times New Roman,serif\" font-size=\"14.00\"> +, + ; &#39;&#39; </text>\r\n",
       "<text text-anchor=\"middle\" x=\"324.5\" y=\"-167.65\" font-family=\"Times New Roman,serif\" font-size=\"14.00\"> &#39;&#39;, E ; T </text>\r\n",
       "<text text-anchor=\"middle\" x=\"324.5\" y=\"-152.65\" font-family=\"Times New Roman,serif\" font-size=\"14.00\"> &#39;&#39;, T ; F </text>\r\n",
       "<text text-anchor=\"middle\" x=\"324.5\" y=\"-137.65\" font-family=\"Times New Roman,serif\" font-size=\"14.00\"> &#39;&#39;, T ; T*F </text>\r\n",
       "<text text-anchor=\"middle\" x=\"324.5\" y=\"-122.65\" font-family=\"Times New Roman,serif\" font-size=\"14.00\"> ~, ~ ; &#39;&#39; </text>\r\n",
       "<text text-anchor=\"middle\" x=\"324.5\" y=\"-107.65\" font-family=\"Times New Roman,serif\" font-size=\"14.00\"> *, * ; &#39;&#39; </text>\r\n",
       "<text text-anchor=\"middle\" x=\"324.5\" y=\"-92.65\" font-family=\"Times New Roman,serif\" font-size=\"14.00\"> &#39;&#39;, F ; (E) </text>\r\n",
       "<text text-anchor=\"middle\" x=\"324.5\" y=\"-77.65\" font-family=\"Times New Roman,serif\" font-size=\"14.00\"> &#39;&#39;, E ; E+T </text>\r\n",
       "<text text-anchor=\"middle\" x=\"324.5\" y=\"-62.65\" font-family=\"Times New Roman,serif\" font-size=\"14.00\"> 2, 2 ; &#39;&#39;</text>\r\n",
       "</g>\r\n",
       "<!-- F -->\r\n",
       "<g id=\"node4\" class=\"node\">\r\n",
       "<title>F</title>\r\n",
       "<ellipse fill=\"none\" stroke=\"black\" cx=\"535\" cy=\"-22\" rx=\"18\" ry=\"18\"/>\r\n",
       "<ellipse fill=\"none\" stroke=\"black\" cx=\"535\" cy=\"-22\" rx=\"22\" ry=\"22\"/>\r\n",
       "<text text-anchor=\"middle\" x=\"535\" y=\"-18.3\" font-family=\"Times New Roman,serif\" font-size=\"14.00\">F</text>\r\n",
       "</g>\r\n",
       "<!-- M&#45;&gt;F -->\r\n",
       "<g id=\"edge4\" class=\"edge\">\r\n",
       "<title>M&#45;&gt;F</title>\r\n",
       "<path fill=\"none\" stroke=\"black\" d=\"M343.64,-22C379.24,-22 458.65,-22 502.83,-22\"/>\r\n",
       "<polygon fill=\"black\" stroke=\"black\" points=\"502.99,-25.5 512.99,-22 502.99,-18.5 502.99,-25.5\"/>\r\n",
       "<text text-anchor=\"middle\" x=\"475\" y=\"-25.8\" font-family=\"Times New Roman,serif\" font-size=\"14.00\">&#39;&#39;, # ; #</text>\r\n",
       "</g>\r\n",
       "<!-- I&#45;&gt;M -->\r\n",
       "<g id=\"edge2\" class=\"edge\">\r\n",
       "<title>I&#45;&gt;M</title>\r\n",
       "<path fill=\"none\" stroke=\"black\" d=\"M127.11,-22C163.77,-22 250.19,-22 295.18,-22\"/>\r\n",
       "<polygon fill=\"black\" stroke=\"black\" points=\"295.41,-25.5 305.41,-22 295.41,-18.5 295.41,-25.5\"/>\r\n",
       "<text text-anchor=\"middle\" x=\"169.5\" y=\"-25.8\" font-family=\"Times New Roman,serif\" font-size=\"14.00\">&#39;&#39;, # ; E#</text>\r\n",
       "</g>\r\n",
       "</g>\r\n",
       "</svg>\r\n"
      ],
      "text/plain": [
       "<graphviz.dot.Digraph at 0x5cb0da8>"
      ]
     },
     "execution_count": 7,
     "metadata": {},
     "output_type": "execute_result"
    }
   ],
   "source": [
    "DOpdaE = dotObj_pda(pdaE, FuseEdges=True)\n",
    "DOpdaE"
   ]
  },
  {
   "cell_type": "code",
   "execution_count": null,
   "metadata": {
    "run_control": {
     "frozen": false,
     "read_only": false
    }
   },
   "outputs": [],
   "source": [
    "explore_pda(\"3+2*3\", pdaE, STKMAX=7)"
   ]
  },
  {
   "cell_type": "code",
   "execution_count": null,
   "metadata": {
    "run_control": {
     "frozen": false,
     "read_only": false
    }
   },
   "outputs": [],
   "source": [
    "explore_pda(\"3+2*3+2*3\", pdaE, STKMAX=7)"
   ]
  },
  {
   "cell_type": "code",
   "execution_count": null,
   "metadata": {
    "run_control": {
     "frozen": false,
     "read_only": false
    }
   },
   "outputs": [],
   "source": [
    "explore_pda(\"3*2*~3+~~3*~3\", pdaE, STKMAX=10)"
   ]
  },
  {
   "cell_type": "code",
   "execution_count": null,
   "metadata": {
    "run_control": {
     "frozen": false,
     "read_only": false
    }
   },
   "outputs": [],
   "source": [
    "explore_pda(\"3*2*~3+~~3*~3\", pdaEamb, STKMAX=8)"
   ]
  },
  {
   "cell_type": "code",
   "execution_count": null,
   "metadata": {},
   "outputs": [],
   "source": []
  },
  {
   "cell_type": "code",
   "execution_count": null,
   "metadata": {},
   "outputs": [],
   "source": []
  },
  {
   "cell_type": "code",
   "execution_count": null,
   "metadata": {},
   "outputs": [],
   "source": []
  },
  {
   "cell_type": "code",
   "execution_count": 9,
   "metadata": {},
   "outputs": [
    {
     "name": "stdout",
     "output_type": "stream",
     "text": [
      "String 2+3*2 accepted by your PDA in 1 ways :-) \n",
      "Here are the ways: \n",
      "Final state  ('F', '', '#')\n",
      "Reached as follows:\n",
      "->  ('I', '2+3*2', '#')\n",
      "->  ('M', '2+3*2', 'E#')\n",
      "->  ('M', '2+3*2', 'E+T#')\n",
      "->  ('M', '2+3*2', 'T+T#')\n",
      "->  ('M', '2+3*2', 'F+T#')\n",
      "->  ('M', '2+3*2', '2+T#')\n",
      "->  ('M', '+3*2', '+T#')\n",
      "->  ('M', '3*2', 'T#')\n",
      "->  ('M', '3*2', 'T*F#')\n",
      "->  ('M', '3*2', 'F*F#')\n",
      "->  ('M', '3*2', '3*F#')\n",
      "->  ('M', '*2', '*F#')\n",
      "->  ('M', '2', 'F#')\n",
      "->  ('M', '2', '2#')\n",
      "->  ('M', '', '#')\n",
      "->  ('F', '', '#') .\n"
     ]
    }
   ],
   "source": [
    "explore_pda(\"2+3*2\", pdaE, STKMAX=12)"
   ]
  },
  {
   "cell_type": "code",
   "execution_count": 11,
   "metadata": {},
   "outputs": [
    {
     "name": "stdout",
     "output_type": "stream",
     "text": [
      "String 2+3*2 accepted by your PDA in 2 ways :-) \n",
      "Here are the ways: \n",
      "Final state  ('F', '', '#')\n",
      "Reached as follows:\n",
      "->  ('I', '2+3*2', '#')\n",
      "->  ('M', '2+3*2', 'E#')\n",
      "->  ('M', '2+3*2', 'E+E#')\n",
      "->  ('M', '2+3*2', '2+E#')\n",
      "->  ('M', '+3*2', '+E#')\n",
      "->  ('M', '3*2', 'E#')\n",
      "->  ('M', '3*2', 'E*E#')\n",
      "->  ('M', '3*2', '3*E#')\n",
      "->  ('M', '*2', '*E#')\n",
      "->  ('M', '2', 'E#')\n",
      "->  ('M', '2', '2#')\n",
      "->  ('M', '', '#')\n",
      "->  ('F', '', '#') .\n",
      "Final state  ('F', '', '#')\n",
      "Reached as follows:\n",
      "->  ('I', '2+3*2', '#')\n",
      "->  ('M', '2+3*2', 'E#')\n",
      "->  ('M', '2+3*2', 'E*E#')\n",
      "->  ('M', '2+3*2', 'E+E*E#')\n",
      "->  ('M', '2+3*2', '2+E*E#')\n",
      "->  ('M', '+3*2', '+E*E#')\n",
      "->  ('M', '3*2', 'E*E#')\n",
      "->  ('M', '3*2', '3*E#')\n",
      "->  ('M', '*2', '*E#')\n",
      "->  ('M', '2', 'E#')\n",
      "->  ('M', '2', '2#')\n",
      "->  ('M', '', '#')\n",
      "->  ('F', '', '#') .\n"
     ]
    }
   ],
   "source": [
    "explore_pda(\"2+3*2\", pdaEamb, STKMAX=12)"
   ]
  }
 ],
 "metadata": {
  "kernelspec": {
   "display_name": "Python 3",
   "language": "python",
   "name": "python3"
  },
  "language_info": {
   "codemirror_mode": {
    "name": "ipython",
    "version": 3
   },
   "file_extension": ".py",
   "mimetype": "text/x-python",
   "name": "python",
   "nbconvert_exporter": "python",
   "pygments_lexer": "ipython3",
   "version": "3.8.5"
  },
  "toc": {
   "colors": {
    "hover_highlight": "#DAA520",
    "running_highlight": "#FF0000",
    "selected_highlight": "#FFD700"
   },
   "moveMenuLeft": true,
   "nav_menu": {
    "height": "318px",
    "width": "252px"
   },
   "navigate_menu": true,
   "number_sections": true,
   "sideBar": true,
   "threshold": 4,
   "toc_cell": false,
   "toc_section_display": "block",
   "toc_window_display": false,
   "widenNotebook": false
  }
 },
 "nbformat": 4,
 "nbformat_minor": 1
}
