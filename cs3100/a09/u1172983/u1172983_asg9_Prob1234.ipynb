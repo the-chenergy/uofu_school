{
 "cells": [
  {
   "cell_type": "markdown",
   "metadata": {},
   "source": [
    "# Asg-9 focuses on questions graded by the mentioned TAs\n",
    "\n",
    "# Full details are in the PDF file of Asg-9\n",
    "\n",
    "# This notebook only has space for your answers\n",
    "\n",
    " "
   ]
  },
  {
   "cell_type": "markdown",
   "metadata": {},
   "source": [
    "# ============="
   ]
  },
  {
   "cell_type": "markdown",
   "metadata": {},
   "source": [
    "# (1) XL, 25%:\n",
    "### Problem 6, Page 159, the \"OR\" case. \n",
    "### Show that the \"OR\" case results in a CFG.\n",
    "### Provide the CFG below between the triple quotes.\n",
    "### Show the running of the CFG within u123456_Asg9.ipynb \n",
    "\n",
    "'''\n",
    "\n",
    "S $\\rightarrow$ TD | AU\n",
    "\n",
    "A $\\rightarrow$ aA | ''\n",
    "\n",
    "B $\\rightarrow$ bB | ''\n",
    "\n",
    "C $\\rightarrow$ cC | ''\n",
    "\n",
    "D $\\rightarrow$ dD | ''\n",
    "\n",
    "T $\\rightarrow$ aTb | C\n",
    "\n",
    "U $\\rightarrow$ cUd | B\n",
    "\n",
    "'''\n",
    " \n",
    " "
   ]
  },
  {
   "cell_type": "markdown",
   "metadata": {},
   "source": [
    "# ============="
   ]
  },
  {
   "cell_type": "markdown",
   "metadata": {},
   "source": [
    "# (2) SV, 25%:\n",
    "\n",
    "### Problem 6, Page 159, the \"AND\" case. \n",
    "### Show via the CFG PL that the language with the \"AND\" case is not a CFL. \n",
    "### Use neat bulleted steps below.\n",
    "\n",
    "* Let $L = \\{a^ic^kb^jd^l : i,j,k,l \\ge 0, i=j\\text{ and }k=l\\}$.\n",
    "\n",
    "* Suppose that $L$ is context-free, meaning that it has some pumping length $p > 0$.\n",
    "\n",
    "* Let the string $s = a^pb^pc^pd^p$ be given.\n",
    "  * We know that $|s| \\ge p$ because $|s| = p+p+p+p > p$.\n",
    "  * We also know that $s \\in L$ because $s = a^ic^kb^jd^l$ for $i=j=p$ and $k=l=p$.\n",
    "\n",
    "* Let some split $s = uvxyz$ be given, where $|vy| > 0$ and $|vxy| \\le p$.\n",
    "  * This means that at least one of $v$ and $y$ must be non-empty since $|vy| > 0$.\n",
    "\n",
    "* Consider the string $s' = uv^ixy^iz$ for $i = 2$, or $s' = uvvxyyz$. Since $|vxy| \\le p$, one of the following cases about the split must be true:\n",
    "  * **Case 1,** either $v$ or $y$ contains more than one type of symbols.\n",
    "    * Then, either $vv$ or $yy$ will have the types of symbols mixed up; that is, it's impossible to have one type of symbols coming before another.\n",
    "    * This means that $s'$ does not have the \"$a$\"s, \"$c$\"s, \"$b$\"s, and \"$d$\"s coming exactly in this order, which means that $s' \\notin L$.\n",
    "  \n",
    "  * **Case 2,** one of $v$ and $y$ is empty, and the other contains one type of symbols.\n",
    "    * Then, only one type of symbols gets to repeat in $vv$ or $yy$, while the counts of all other symbols stay the same.\n",
    "    * This means that $s' = a^ic^kb^jd^l$ where either $i \\ne j$ or $k \\ne l$, which means that $s' \\notin L$.\n",
    "  \n",
    "  * **Case 3,** both $v$ and $y$ contain one type of symbols (but not necessarily the same type).\n",
    "    * If $v$ contains \"$a$\"s, then $y$ cannot contain \"$b$\"s, because the \"$a$\"s and \"$b$\"s in $s$ are separated by $p$ \"$c$\"s, and $|vxy| \\le p$.\n",
    "    * Similarly, if $v$ contains \"$c$\"s, then $y$ cannot contain \"$d$\"s, because the \"$c$\"s and \"$d$\"s in $s$ are separated by $p$ \"$b$\"s.\n",
    "    * Therefore, $s' = a^ic^kb^jd^l$ where either $i \\ne j$ or $k \\ne l$ (or both), because the symbols repeated are of \"just not the right types,\" so $s' \\notin L$.\n",
    "\n",
    "* Since $s' \\notin L$ in all cases, the pumping lemma has failed, because if the split $s = uvxyz$ meets the first two necessary conditions ($|vy| > 0$ and $|vxy| \\le p$) then it won't meet the third ($uv^ixy^iz \\in L$ for all $i \\ge 0$). This means that $L$ is not context-free. $\\square$"
   ]
  },
  {
   "cell_type": "markdown",
   "metadata": {},
   "source": [
    "# ============="
   ]
  },
  {
   "cell_type": "markdown",
   "metadata": {},
   "source": [
    "# (3) AR, 25%: The solution entirely within u123456_Asg9.ipynb \n",
    "\n",
    "### The DTM for w#x where w is a substring of x. (See the definition of substring and subsequence at https://en.wikipedia.org/wiki/Substring)"
   ]
  },
  {
   "cell_type": "markdown",
   "metadata": {},
   "source": [
    "# ============="
   ]
  },
  {
   "cell_type": "markdown",
   "metadata": {},
   "source": [
    "# (4) LT, 25%: The solution entirely within u123456_Asg9.ipynb \n",
    "\n",
    "### The NDTM for w#x where w is a substring of x.\n",
    "\n",
    "\n"
   ]
  },
  {
   "cell_type": "markdown",
   "metadata": {},
   "source": [
    "# END\n"
   ]
  }
 ],
 "metadata": {
  "kernelspec": {
   "display_name": "Python 3",
   "language": "python",
   "name": "python3"
  },
  "language_info": {
   "codemirror_mode": {
    "name": "ipython",
    "version": 3
   },
   "file_extension": ".py",
   "mimetype": "text/x-python",
   "name": "python",
   "nbconvert_exporter": "python",
   "pygments_lexer": "ipython3",
   "version": "3.7.4"
  },
  "toc": {
   "colors": {
    "hover_highlight": "#DAA520",
    "running_highlight": "#FF0000",
    "selected_highlight": "#FFD700"
   },
   "moveMenuLeft": true,
   "nav_menu": {
    "height": "121px",
    "width": "252px"
   },
   "navigate_menu": true,
   "number_sections": true,
   "sideBar": true,
   "threshold": 4,
   "toc_cell": false,
   "toc_section_display": "block",
   "toc_window_display": false,
   "widenNotebook": false
  },
  "widgets": {
   "state": {
    "430c92ee02b34ec1912bf03c8de1e6dc": {
     "views": [
      {
       "cell_index": 20
      }
     ]
    }
   },
   "version": "1.2.0"
  }
 },
 "nbformat": 4,
 "nbformat_minor": 4
}