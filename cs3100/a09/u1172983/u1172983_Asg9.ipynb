{
 "cells": [
  {
   "cell_type": "markdown",
   "metadata": {
    "run_control": {
     "frozen": false,
     "read_only": false
    }
   },
   "source": [
    "# Asg-9 template"
   ]
  },
  {
   "cell_type": "code",
   "execution_count": 1,
   "metadata": {
    "run_control": {
     "frozen": false,
     "read_only": false
    }
   },
   "outputs": [
    {
     "output_type": "stream",
     "name": "stdout",
     "text": [
      "You may use any of these help commands:\nhelp(step_tm)\nhelp(run_tm)\nhelp(explore_tm)\n\nYou may use any of these help commands:\nhelp(md2mc)\n.. and if you want to dig more, then ..\nhelp(default_line_attr)\nhelp(length_ok_input_items)\nhelp(union_line_attr_list_fld)\nhelp(extend_rsltdict)\nhelp(form_delta)\nhelp(get_machine_components)\n\nYou may use any of these help commands:\nhelp(ResetStNum)\nhelp(NxtStateStr)\n\n \"help(JoveEditor)\" gives you info on the generic animation panel that animates all machines. \n"
     ]
    }
   ],
   "source": [
    "#~~~~~~~~~~~~~~~~~~~~~~~~~~~~~~~~~~~~~~~~~~~~~~~~~~~~~~~\n",
    "import sys\n",
    "\n",
    "# -- Detect if in Own Install or in Colab\n",
    "try:\n",
    "    import google.colab\n",
    "    OWN_INSTALL = False\n",
    "except:\n",
    "    OWN_INSTALL = True\n",
    "    \n",
    "if OWN_INSTALL:\n",
    "    \n",
    "  #---- Leave these definitions ON if running on laptop\n",
    "  #---- Else turn OFF by putting them between ''' ... '''\n",
    "\n",
    "  sys.path[0:0] = ['../../../../..',  '../../../../../3rdparty',  \n",
    "                   '../../../..',  '../../../../3rdparty',  \n",
    "                   '../../..',     '../../../3rdparty', \n",
    "                   '../..',        '../../3rdparty',\n",
    "                   '..',           '../3rdparty' ]\n",
    "\n",
    "else: # In colab\n",
    "  ! if [ ! -d Jove ]; then git clone https://github.com/ganeshutah/Jove Jove; fi\n",
    "  sys.path.append('./Jove')\n",
    "  sys.path.append('./Jove/jove')\n",
    "\n",
    "# -- common imports --\n",
    "from jove.Def_TM     import *\n",
    "from jove.Def_md2mc  import *\n",
    "from jove.DotBashers import *\n",
    "from jove.JoveEditor import *\n",
    "from jove.Def_PDA    import *\n",
    "from jove.AnimateTM import * #-- usage: AnimateTM(whas101DTM, FuseEdges=True)\n",
    "#~~~~~~~~~~~~~~~~~~~~~~~~~~~~~~~~~~~~~~~~~~~~~~~~~~~~~~~"
   ]
  },
  {
   "cell_type": "markdown",
   "metadata": {},
   "source": [
    "# Problem 6, Page 159, the \"OR\" case.\n",
    "## Test your CFG below for \n",
    "\n",
    "$ \\{ a^i c^k b^j d^l \\;:\\; (i==j)\\; OR\\; (k==l)\\}$\n",
    "\n",
    "## Note that for the CFG that is to be simulated using Jove's PDA, the nonterminals must be only a single letter (i.e. if you used a nonterminals \"As\" for one or more a, and you pushed As on the stack, it will be interpreted as \"A\" followed by \"s\")."
   ]
  },
  {
   "cell_type": "code",
   "execution_count": 2,
   "metadata": {},
   "outputs": [],
   "source": [
    "# Type the CFG in the comments of the PDA\n",
    "# Then convert to PDA and run the tests below\n",
    "\n",
    "pda_acbd = md2mc(\n",
    "'''\n",
    "PDA\n",
    "\n",
    "!!---Initially I'll write using multi-letter nonterminals...\n",
    "!!   Then I'll turn them into single-letter nonterminals.\n",
    "!!\n",
    "!! S -> Ai_Cs_Bi Ds | As Ci_Bs_Di\n",
    "!! As -> a As | ''\n",
    "!! Bs -> b Bs | ''\n",
    "!! Cs -> c Cs | ''\n",
    "!! Ds -> d Ds | ''\n",
    "!! Ai_Cs_Bi -> a Ai_Cs_Bi b | Cs\n",
    "!! Ci_Bs_Di -> c Ci_Bs_Di d | Bs\n",
    "\n",
    "\n",
    "!!---Now turning into single-letter non-terminals\n",
    "!!---To avoid the dual-use of \"S\", the second use is \"Z\"\n",
    "!!\n",
    "!! S -> TD | AU\n",
    "!! A -> aA | ''\n",
    "!! B -> bB | ''\n",
    "!! C -> cC | ''\n",
    "!! D -> dD | ''\n",
    "!! T -> aTb | C\n",
    "!! U -> cUd | B\n",
    "\n",
    "\n",
    "!!-- PDA below\n",
    "\n",
    "I: '', ''; S -> M\n",
    "M: '', #; # -> F\n",
    "\n",
    "M: a, a; '' -> M\n",
    "M: b, b; '' -> M\n",
    "M: c, c; '' -> M\n",
    "M: d, d; '' -> M\n",
    "\n",
    "M: '', S; TD -> M\n",
    "M: '', S; AU -> M\n",
    "\n",
    "M: '', T; aTb -> M\n",
    "M: '', T; C -> M\n",
    "\n",
    "M: '', U; cUd -> M\n",
    "M: '', U; B -> M\n",
    "\n",
    "M: '', A; aA -> M\n",
    "M: '', A; '' -> M\n",
    "\n",
    "M: '', B; bB -> M\n",
    "M: '', B; '' -> M\n",
    "\n",
    "M: '', C; cC -> M\n",
    "M: '', C; '' -> M\n",
    "\n",
    "M: '', D; dD -> M\n",
    "M: '', D; '' -> M\n",
    "''')"
   ]
  },
  {
   "cell_type": "code",
   "execution_count": 3,
   "metadata": {},
   "outputs": [
    {
     "output_type": "execute_result",
     "data": {
      "text/plain": [
       "<graphviz.dot.Digraph at 0x1334a66cf48>"
      ],
      "image/svg+xml": "<?xml version=\"1.0\" encoding=\"UTF-8\" standalone=\"no\"?>\r\n<!DOCTYPE svg PUBLIC \"-//W3C//DTD SVG 1.1//EN\"\r\n \"http://www.w3.org/Graphics/SVG/1.1/DTD/svg11.dtd\">\r\n<!-- Generated by graphviz version 2.38.0 (20140413.2041)\r\n -->\r\n<!-- Title: %3 Pages: 1 -->\r\n<svg width=\"601pt\" height=\"337pt\"\r\n viewBox=\"0.00 0.00 601.00 336.85\" xmlns=\"http://www.w3.org/2000/svg\" xmlns:xlink=\"http://www.w3.org/1999/xlink\">\r\n<g id=\"graph0\" class=\"graph\" transform=\"scale(1 1) rotate(0) translate(4 332.848)\">\r\n<title>%3</title>\r\n<polygon fill=\"white\" stroke=\"none\" points=\"-4,4 -4,-332.848 597,-332.848 597,4 -4,4\"/>\r\n<!-- EMPTY -->\r\n<g id=\"node1\" class=\"node\"><title>EMPTY</title>\r\n</g>\r\n<!-- I -->\r\n<g id=\"node3\" class=\"node\"><title>I</title>\r\n<ellipse fill=\"none\" stroke=\"black\" cx=\"109\" cy=\"-22\" rx=\"18\" ry=\"18\"/>\r\n<text text-anchor=\"middle\" x=\"109\" y=\"-18.3\" font-family=\"Times New Roman,serif\" font-size=\"14.00\">I</text>\r\n</g>\r\n<!-- EMPTY&#45;&gt;I -->\r\n<g id=\"edge1\" class=\"edge\"><title>EMPTY&#45;&gt;I</title>\r\n<path fill=\"none\" stroke=\"black\" d=\"M54.195,-22C62.6538,-22 72.0513,-22 80.5951,-22\"/>\r\n<polygon fill=\"black\" stroke=\"black\" points=\"80.8257,-25.5001 90.8257,-22 80.8257,-18.5001 80.8257,-25.5001\"/>\r\n</g>\r\n<!-- M -->\r\n<g id=\"node2\" class=\"node\"><title>M</title>\r\n<ellipse fill=\"none\" stroke=\"black\" cx=\"338\" cy=\"-22\" rx=\"18.6979\" ry=\"18.6979\"/>\r\n<text text-anchor=\"middle\" x=\"338\" y=\"-18.3\" font-family=\"Times New Roman,serif\" font-size=\"14.00\">M</text>\r\n</g>\r\n<!-- M&#45;&gt;M -->\r\n<g id=\"edge4\" class=\"edge\"><title>M&#45;&gt;M</title>\r\n<path fill=\"none\" stroke=\"black\" d=\"M320.308,-28.8745C296.157,-41.6821 302.055,-58.8483 338,-58.8483 368.891,-58.8483 377.59,-46.1707 364.098,-34.4765\"/>\r\n<polygon fill=\"black\" stroke=\"black\" points=\"365.954,-31.5077 355.692,-28.8745 362.072,-37.3327 365.954,-31.5077\"/>\r\n<text text-anchor=\"middle\" x=\"338\" y=\"-317.648\" font-family=\"Times New Roman,serif\" font-size=\"14.00\">&#39;&#39;, S ; TD </text>\r\n<text text-anchor=\"middle\" x=\"338\" y=\"-302.648\" font-family=\"Times New Roman,serif\" font-size=\"14.00\"> &#39;&#39;, D ; &#39;&#39; </text>\r\n<text text-anchor=\"middle\" x=\"338\" y=\"-287.648\" font-family=\"Times New Roman,serif\" font-size=\"14.00\"> c, c ; &#39;&#39; </text>\r\n<text text-anchor=\"middle\" x=\"338\" y=\"-272.648\" font-family=\"Times New Roman,serif\" font-size=\"14.00\"> a, a ; &#39;&#39; </text>\r\n<text text-anchor=\"middle\" x=\"338\" y=\"-257.648\" font-family=\"Times New Roman,serif\" font-size=\"14.00\"> &#39;&#39;, B ; &#39;&#39; </text>\r\n<text text-anchor=\"middle\" x=\"338\" y=\"-242.648\" font-family=\"Times New Roman,serif\" font-size=\"14.00\"> &#39;&#39;, D ; dD </text>\r\n<text text-anchor=\"middle\" x=\"338\" y=\"-227.648\" font-family=\"Times New Roman,serif\" font-size=\"14.00\"> &#39;&#39;, T ; C </text>\r\n<text text-anchor=\"middle\" x=\"338\" y=\"-212.648\" font-family=\"Times New Roman,serif\" font-size=\"14.00\"> &#39;&#39;, C ; &#39;&#39; </text>\r\n<text text-anchor=\"middle\" x=\"338\" y=\"-197.648\" font-family=\"Times New Roman,serif\" font-size=\"14.00\"> &#39;&#39;, T ; aTb </text>\r\n<text text-anchor=\"middle\" x=\"338\" y=\"-182.648\" font-family=\"Times New Roman,serif\" font-size=\"14.00\"> &#39;&#39;, C ; cC </text>\r\n<text text-anchor=\"middle\" x=\"338\" y=\"-167.648\" font-family=\"Times New Roman,serif\" font-size=\"14.00\"> &#39;&#39;, U ; B </text>\r\n<text text-anchor=\"middle\" x=\"338\" y=\"-152.648\" font-family=\"Times New Roman,serif\" font-size=\"14.00\"> d, d ; &#39;&#39; </text>\r\n<text text-anchor=\"middle\" x=\"338\" y=\"-137.648\" font-family=\"Times New Roman,serif\" font-size=\"14.00\"> &#39;&#39;, A ; &#39;&#39; </text>\r\n<text text-anchor=\"middle\" x=\"338\" y=\"-122.648\" font-family=\"Times New Roman,serif\" font-size=\"14.00\"> &#39;&#39;, U ; cUd </text>\r\n<text text-anchor=\"middle\" x=\"338\" y=\"-107.648\" font-family=\"Times New Roman,serif\" font-size=\"14.00\"> b, b ; &#39;&#39; </text>\r\n<text text-anchor=\"middle\" x=\"338\" y=\"-92.6483\" font-family=\"Times New Roman,serif\" font-size=\"14.00\"> &#39;&#39;, S ; AU </text>\r\n<text text-anchor=\"middle\" x=\"338\" y=\"-77.6483\" font-family=\"Times New Roman,serif\" font-size=\"14.00\"> &#39;&#39;, B ; bB </text>\r\n<text text-anchor=\"middle\" x=\"338\" y=\"-62.6483\" font-family=\"Times New Roman,serif\" font-size=\"14.00\"> &#39;&#39;, A ; aA</text>\r\n</g>\r\n<!-- F -->\r\n<g id=\"node4\" class=\"node\"><title>F</title>\r\n<ellipse fill=\"none\" stroke=\"black\" cx=\"571\" cy=\"-22\" rx=\"18\" ry=\"18\"/>\r\n<ellipse fill=\"none\" stroke=\"black\" cx=\"571\" cy=\"-22\" rx=\"22\" ry=\"22\"/>\r\n<text text-anchor=\"middle\" x=\"571\" y=\"-18.3\" font-family=\"Times New Roman,serif\" font-size=\"14.00\">F</text>\r\n</g>\r\n<!-- M&#45;&gt;F -->\r\n<g id=\"edge3\" class=\"edge\"><title>M&#45;&gt;F</title>\r\n<path fill=\"none\" stroke=\"black\" d=\"M357.126,-22C396.464,-22 490.054,-22 538.986,-22\"/>\r\n<polygon fill=\"black\" stroke=\"black\" points=\"538.997,-25.5001 548.997,-22 538.997,-18.5001 538.997,-25.5001\"/>\r\n<text text-anchor=\"middle\" x=\"511\" y=\"-25.8\" font-family=\"Times New Roman,serif\" font-size=\"14.00\">&#39;&#39;, # ; #</text>\r\n</g>\r\n<!-- I&#45;&gt;M -->\r\n<g id=\"edge2\" class=\"edge\"><title>I&#45;&gt;M</title>\r\n<path fill=\"none\" stroke=\"black\" d=\"M127.062,-22C165.899,-22 261.213,-22 308.889,-22\"/>\r\n<polygon fill=\"black\" stroke=\"black\" points=\"309.114,-25.5001 319.114,-22 309.114,-18.5001 309.114,-25.5001\"/>\r\n<text text-anchor=\"middle\" x=\"165\" y=\"-25.8\" font-family=\"Times New Roman,serif\" font-size=\"14.00\">&#39;&#39;, &#39;&#39; ; S</text>\r\n</g>\r\n</g>\r\n</svg>\r\n"
     },
     "metadata": {},
     "execution_count": 3
    }
   ],
   "source": [
    "dotObj_pda(pda_acbd, FuseEdges=True)"
   ]
  },
  {
   "cell_type": "code",
   "execution_count": 4,
   "metadata": {},
   "outputs": [
    {
     "output_type": "stream",
     "name": "stdout",
     "text": [
      "String acbd accepted by your PDA in 2 ways :-) \nHere are the ways: \nFinal state  ('F', '', '#')\nReached as follows:\n->  ('I', 'acbd', '#')\n->  ('M', 'acbd', 'S#')\n->  ('M', 'acbd', 'TD#')\n->  ('M', 'acbd', 'aTbD#')\n->  ('M', 'cbd', 'TbD#')\n->  ('M', 'cbd', 'CbD#')\n->  ('M', 'cbd', 'cCbD#')\n->  ('M', 'bd', 'CbD#')\n->  ('M', 'bd', 'bD#')\n->  ('M', 'd', 'D#')\n->  ('M', 'd', 'dD#')\n->  ('M', '', 'D#')\n->  ('M', '', '#')\n->  ('F', '', '#') .\nFinal state  ('F', '', '#')\nReached as follows:\n->  ('I', 'acbd', '#')\n->  ('M', 'acbd', 'S#')\n->  ('M', 'acbd', 'AU#')\n->  ('M', 'acbd', 'aAU#')\n->  ('M', 'cbd', 'AU#')\n->  ('M', 'cbd', 'U#')\n->  ('M', 'cbd', 'cUd#')\n->  ('M', 'bd', 'Ud#')\n->  ('M', 'bd', 'Bd#')\n->  ('M', 'bd', 'bBd#')\n->  ('M', 'd', 'Bd#')\n->  ('M', 'd', 'd#')\n->  ('M', '', '#')\n->  ('F', '', '#') .\n"
     ]
    }
   ],
   "source": [
    "explore_pda(\"acbd\", pda_acbd)"
   ]
  },
  {
   "cell_type": "code",
   "execution_count": 5,
   "metadata": {},
   "outputs": [
    {
     "output_type": "stream",
     "name": "stdout",
     "text": [
      "String aacbbd accepted by your PDA in 1 ways :-) \nHere are the ways: \nFinal state  ('F', '', '#')\nReached as follows:\n->  ('I', 'aacbbd', '#')\n->  ('M', 'aacbbd', 'S#')\n->  ('M', 'aacbbd', 'TD#')\n->  ('M', 'aacbbd', 'aTbD#')\n->  ('M', 'acbbd', 'TbD#')\n->  ('M', 'acbbd', 'aTbbD#')\n->  ('M', 'cbbd', 'TbbD#')\n->  ('M', 'cbbd', 'CbbD#')\n->  ('M', 'cbbd', 'cCbbD#')\n->  ('M', 'bbd', 'CbbD#')\n->  ('M', 'bbd', 'bbD#')\n->  ('M', 'bd', 'bD#')\n->  ('M', 'd', 'D#')\n->  ('M', 'd', 'dD#')\n->  ('M', '', 'D#')\n->  ('M', '', '#')\n->  ('F', '', '#') .\n"
     ]
    }
   ],
   "source": [
    "explore_pda(\"aacbbd\", pda_acbd)"
   ]
  },
  {
   "cell_type": "code",
   "execution_count": 6,
   "metadata": {},
   "outputs": [
    {
     "output_type": "stream",
     "name": "stdout",
     "text": [
      "String aaaccbbbddd accepted by your PDA in 1 ways :-) \n",
      "Here are the ways: \n",
      "Final state  ('F', '', '#')\n",
      "Reached as follows:\n",
      "->  ('I', 'aaaccbbbddd', '#')\n",
      "->  ('M', 'aaaccbbbddd', 'S#')\n",
      "->  ('M', 'aaaccbbbddd', 'TD#')\n",
      "->  ('M', 'aaaccbbbddd', 'aTbD#')\n",
      "->  ('M', 'aaccbbbddd', 'TbD#')\n",
      "->  ('M', 'aaccbbbddd', 'aTbbD#')\n",
      "->  ('M', 'accbbbddd', 'TbbD#')\n",
      "->  ('M', 'accbbbddd', 'aTbbbD#')\n",
      "->  ('M', 'ccbbbddd', 'TbbbD#')\n",
      "->  ('M', 'ccbbbddd', 'CbbbD#')\n",
      "->  ('M', 'ccbbbddd', 'cCbbbD#')\n",
      "->  ('M', 'cbbbddd', 'CbbbD#')\n",
      "->  ('M', 'cbbbddd', 'cCbbbD#')\n",
      "->  ('M', 'bbbddd', 'CbbbD#')\n",
      "->  ('M', 'bbbddd', 'bbbD#')\n",
      "->  ('M', 'bbddd', 'bbD#')\n",
      "->  ('M', 'bddd', 'bD#')\n",
      "->  ('M', 'ddd', 'D#')\n",
      "->  ('M', 'ddd', 'dD#')\n",
      "->  ('M', 'dd', 'D#')\n",
      "->  ('M', 'dd', 'dD#')\n",
      "->  ('M', 'd', 'D#')\n",
      "->  ('M', 'd', 'dD#')\n",
      "->  ('M', '', 'D#')\n",
      "->  ('M', '', '#')\n",
      "->  ('F', '', '#') .\n"
     ]
    }
   ],
   "source": [
    "explore_pda(\"aaaccbbbddd\", pda_acbd)"
   ]
  },
  {
   "cell_type": "code",
   "execution_count": 7,
   "metadata": {},
   "outputs": [
    {
     "output_type": "stream",
     "name": "stdout",
     "text": [
      "String aaaacccbbbddd accepted by your PDA in 1 ways :-) \nHere are the ways: \nFinal state  ('F', '', '#')\nReached as follows:\n->  ('I', 'aaaacccbbbddd', '#')\n->  ('M', 'aaaacccbbbddd', 'S#')\n->  ('M', 'aaaacccbbbddd', 'AU#')\n->  ('M', 'aaaacccbbbddd', 'aAU#')\n->  ('M', 'aaacccbbbddd', 'AU#')\n->  ('M', 'aaacccbbbddd', 'aAU#')\n->  ('M', 'aacccbbbddd', 'AU#')\n->  ('M', 'aacccbbbddd', 'aAU#')\n->  ('M', 'acccbbbddd', 'AU#')\n->  ('M', 'acccbbbddd', 'aAU#')\n->  ('M', 'cccbbbddd', 'AU#')\n->  ('M', 'cccbbbddd', 'U#')\n->  ('M', 'cccbbbddd', 'cUd#')\n->  ('M', 'ccbbbddd', 'Ud#')\n->  ('M', 'ccbbbddd', 'cUdd#')\n->  ('M', 'cbbbddd', 'Udd#')\n->  ('M', 'cbbbddd', 'cUddd#')\n->  ('M', 'bbbddd', 'Uddd#')\n->  ('M', 'bbbddd', 'Bddd#')\n->  ('M', 'bbbddd', 'bBddd#')\n->  ('M', 'bbddd', 'Bddd#')\n->  ('M', 'bbddd', 'bBddd#')\n->  ('M', 'bddd', 'Bddd#')\n->  ('M', 'bddd', 'bBddd#')\n->  ('M', 'ddd', 'Bddd#')\n->  ('M', 'ddd', 'ddd#')\n->  ('M', 'dd', 'dd#')\n->  ('M', 'd', 'd#')\n->  ('M', '', '#')\n->  ('F', '', '#') .\n"
     ]
    }
   ],
   "source": [
    "explore_pda(\"aaaacccbbbddd\", pda_acbd)"
   ]
  },
  {
   "cell_type": "code",
   "execution_count": 8,
   "metadata": {},
   "outputs": [
    {
     "output_type": "stream",
     "name": "stdout",
     "text": [
      "String aaaacccbbbdddd rejected by your PDA :-(\n",
      "Visited states are:\n",
      "{('M', 'cccbbbdddd', '#'), ('M', 'aaaacccbbbdddd', 'TD#'), ('M', 'aacccbbbdddd', 'U#'), ('M', 'acccbbbdddd', 'U#'), ('M', 'aaaacccbbbdddd', 'S#'), ('M', 'cccbbbdddd', 'CbbbbD#'), ('M', 'acccbbbdddd', 'bbbD#'), ('M', 'acccbbbdddd', 'CbbbD#'), ('M', 'bdddd', 'bBddd#'), ('M', 'aaaacccbbbdddd', 'cUd#'), ('M', 'aaacccbbbdddd', 'U#'), ('M', 'aaaacccbbbdddd', 'bB#'), ('M', 'ccbbbdddd', 'cUdd#'), ('M', 'acccbbbdddd', 'bB#'), ('M', 'aaaacccbbbdddd', 'dD#'), ('M', 'bbbdddd', 'Uddd#'), ('M', 'bbdddd', 'Bddd#'), ('M', 'aaaacccbbbdddd', 'cCD#'), ('M', 'acccbbbdddd', 'aAU#'), ('M', 'aaaacccbbbdddd', 'D#'), ('M', 'cccbbbdddd', 'TbbbbD#'), ('M', 'bbbdddd', 'bBddd#'), ('M', 'acccbbbdddd', 'AU#'), ('M', 'bdddd', 'Bddd#'), ('M', 'cbbbdddd', 'bbbbD#'), ('M', 'ccbbbdddd', 'bBd#'), ('M', 'ccbbbdddd', 'cCbbbbD#'), ('M', 'ccbbbdddd', 'Bd#'), ('M', 'aaaacccbbbdddd', 'aTbD#'), ('M', 'cccbbbdddd', 'cCbbbbD#'), ('M', 'dddd', 'bBddd#'), ('M', 'aaacccbbbdddd', 'CbD#'), ('M', 'ccbbbdddd', 'bbbbD#'), ('M', 'aaaacccbbbdddd', 'CD#'), ('F', 'aacccbbbdddd', '#'), ('M', 'bbbdddd', 'Bddd#'), ('M', 'bbbdddd', 'CbbbbD#'), ('M', 'dd', 'd#'), ('M', 'aaacccbbbdddd', 'TbD#'), ('M', 'bbdddd', 'bBddd#'), ('M', 'dddd', 'ddd#'), ('M', 'aaacccbbbdddd', 'aTbbD#'), ('I', 'aaaacccbbbdddd', '#'), ('M', 'dddd', 'bD#'), ('M', 'bbbdddd', 'cUdddd#'), ('M', 'bdddd', 'bbD#'), ('M', 'acccbbbdddd', 'B#'), ('M', 'acccbbbdddd', 'aTbbbbD#'), ('M', 'cccbbbdddd', 'cUd#'), ('M', 'aaaacccbbbdddd', 'B#'), ('M', 'aaacccbbbdddd', '#'), ('M', 'bbdddd', 'bbbD#'), ('M', 'cccbbbdddd', 'U#'), ('M', 'aacccbbbdddd', 'TbbD#'), ('M', 'aacccbbbdddd', 'cCbbD#'), ('M', 'ccbbbdddd', 'CbbbbD#'), ('M', 'acccbbbdddd', '#'), ('M', 'aacccbbbdddd', '#'), ('M', 'aaaacccbbbdddd', '#'), ('M', 'acccbbbdddd', 'TbbbD#'), ('F', 'd', '#'), ('M', 'cccbbbdddd', 'bB#'), ('M', 'bbdddd', 'ddd#'), ('M', 'bbbdddd', 'bbbbD#'), ('M', 'ddd', 'dd#'), ('M', 'aacccbbbdddd', 'bbD#'), ('M', 'cbbbdddd', 'cCbbbbD#'), ('M', 'aacccbbbdddd', 'B#'), ('M', 'd', '#'), ('M', 'cbbbdddd', 'CbbbbD#'), ('M', 'cccbbbdddd', 'aAU#'), ('M', 'cbbbdddd', 'cUddd#'), ('F', 'cccbbbdddd', '#'), ('M', 'aacccbbbdddd', 'CbbD#'), ('M', 'aaacccbbbdddd', 'B#'), ('M', 'bdddd', 'ddd#'), ('M', 'cccbbbdddd', 'AU#'), ('M', 'cccbbbdddd', 'aTbbbbbD#'), ('M', 'aaaacccbbbdddd', 'AU#'), ('M', 'aacccbbbdddd', 'aTbbbD#'), ('M', 'aacccbbbdddd', 'AU#'), ('M', 'aaacccbbbdddd', 'AU#'), ('M', 'aaaacccbbbdddd', 'aAU#'), ('M', 'aacccbbbdddd', 'aAU#'), ('M', 'acccbbbdddd', 'cCbbbD#'), ('M', 'cbbbdddd', 'Udd#'), ('M', 'ccbbbdddd', 'Ud#'), ('F', 'aaacccbbbdddd', '#'), ('M', 'aacccbbbdddd', 'bB#'), ('M', 'aaacccbbbdddd', 'aAU#'), ('M', 'cbbbdddd', 'dd#'), ('F', 'acccbbbdddd', '#'), ('M', 'aaacccbbbdddd', 'cCbD#'), ('M', 'bbbdddd', 'cCbbbbD#'), ('M', 'ccbbbdddd', 'd#'), ('M', 'cbbbdddd', 'bBdd#'), ('M', 'aaacccbbbdddd', 'cUd#'), ('M', 'aaacccbbbdddd', 'bB#'), ('F', 'aaaacccbbbdddd', '#'), ('M', 'aaaacccbbbdddd', 'U#'), ('M', 'cbbbdddd', 'Bdd#'), ('M', 'aaacccbbbdddd', 'bD#'), ('M', 'cccbbbdddd', 'B#'), ('M', 'cccbbbdddd', 'bbbbD#'), ('M', 'acccbbbdddd', 'cUd#'), ('M', 'aacccbbbdddd', 'cUd#'), ('M', 'bbbdddd', 'ddd#'), ('M', 'dddd', 'Bddd#')}\n"
     ]
    }
   ],
   "source": [
    "explore_pda(\"aaaacccbbbdddd\", pda_acbd)"
   ]
  },
  {
   "cell_type": "code",
   "execution_count": 9,
   "metadata": {},
   "outputs": [
    {
     "output_type": "stream",
     "name": "stdout",
     "text": [
      "String aaaabbbb accepted by your PDA in 1 ways :-) \nHere are the ways: \nFinal state  ('F', '', '#')\nReached as follows:\n->  ('I', 'aaaabbbb', '#')\n->  ('M', 'aaaabbbb', 'S#')\n->  ('M', 'aaaabbbb', 'TD#')\n->  ('M', 'aaaabbbb', 'aTbD#')\n->  ('M', 'aaabbbb', 'TbD#')\n->  ('M', 'aaabbbb', 'aTbbD#')\n->  ('M', 'aabbbb', 'TbbD#')\n->  ('M', 'aabbbb', 'aTbbbD#')\n->  ('M', 'abbbb', 'TbbbD#')\n->  ('M', 'abbbb', 'aTbbbbD#')\n->  ('M', 'bbbb', 'TbbbbD#')\n->  ('M', 'bbbb', 'CbbbbD#')\n->  ('M', 'bbbb', 'bbbbD#')\n->  ('M', 'bbb', 'bbbD#')\n->  ('M', 'bb', 'bbD#')\n->  ('M', 'b', 'bD#')\n->  ('M', '', 'D#')\n->  ('M', '', '#')\n->  ('F', '', '#') .\n"
     ]
    }
   ],
   "source": [
    "explore_pda(\"aaaabbbb\", pda_acbd)"
   ]
  },
  {
   "cell_type": "code",
   "execution_count": 10,
   "metadata": {},
   "outputs": [
    {
     "output_type": "stream",
     "name": "stdout",
     "text": [
      "String aaaabbb accepted by your PDA in 1 ways :-) \nHere are the ways: \nFinal state  ('F', '', '#')\nReached as follows:\n->  ('I', 'aaaabbb', '#')\n->  ('M', 'aaaabbb', 'S#')\n->  ('M', 'aaaabbb', 'AU#')\n->  ('M', 'aaaabbb', 'aAU#')\n->  ('M', 'aaabbb', 'AU#')\n->  ('M', 'aaabbb', 'aAU#')\n->  ('M', 'aabbb', 'AU#')\n->  ('M', 'aabbb', 'aAU#')\n->  ('M', 'abbb', 'AU#')\n->  ('M', 'abbb', 'aAU#')\n->  ('M', 'bbb', 'AU#')\n->  ('M', 'bbb', 'U#')\n->  ('M', 'bbb', 'B#')\n->  ('M', 'bbb', 'bB#')\n->  ('M', 'bb', 'B#')\n->  ('M', 'bb', 'bB#')\n->  ('M', 'b', 'B#')\n->  ('M', 'b', 'bB#')\n->  ('M', '', 'B#')\n->  ('M', '', '#')\n->  ('F', '', '#') .\n"
     ]
    }
   ],
   "source": [
    "explore_pda(\"aaaabbb\", pda_acbd)"
   ]
  },
  {
   "cell_type": "code",
   "execution_count": 11,
   "metadata": {},
   "outputs": [
    {
     "output_type": "stream",
     "name": "stdout",
     "text": [
      "String aaaabbbd rejected by your PDA :-(\nVisited states are:\n{('M', 'bbbd', 'B#'), ('M', 'bbbd', 'bbbbD#'), ('M', 'bd', 'B#'), ('F', 'bd', '#'), ('M', 'aaaabbbd', '#'), ('M', 'aaaabbbd', 'aTbD#'), ('M', 'aaabbbd', 'U#'), ('M', 'bbd', '#'), ('F', 'abbbd', '#'), ('M', 'aaaabbbd', 'AU#'), ('M', 'd', 'bD#'), ('F', 'bbd', '#'), ('M', 'bd', 'bbD#'), ('M', 'aabbbd', 'aAU#'), ('M', 'abbbd', 'bbbD#'), ('M', 'abbbd', 'CbbbD#'), ('M', 'aaabbbd', 'TbD#'), ('M', 'aaabbbd', 'B#'), ('M', 'abbbd', '#'), ('M', 'abbbd', 'bB#'), ('M', 'bbbd', 'TbbbbD#'), ('M', 'aabbbd', 'aTbbbD#'), ('M', 'aaabbbd', 'cCbD#'), ('M', 'abbbd', 'B#'), ('M', 'aaaabbbd', 'B#'), ('M', 'aaaabbbd', 'bB#'), ('M', 'aaabbbd', 'bB#'), ('M', 'aabbbd', 'AU#'), ('M', 'aaaabbbd', 'U#'), ('M', 'bbbd', 'cCbbbbD#'), ('M', 'aaabbbd', '#'), ('M', 'aabbbd', 'CbbD#'), ('M', 'aabbbd', 'bbD#'), ('M', 'abbbd', 'TbbbD#'), ('M', 'bbbd', 'cUd#'), ('M', 'abbbd', 'U#'), ('M', 'aaaabbbd', 'CD#'), ('M', 'bd', 'bB#'), ('M', 'aaabbbd', 'AU#'), ('M', 'bbbd', 'bB#'), ('F', 'aaabbbd', '#'), ('M', 'abbbd', 'cCbbbD#'), ('M', 'bbd', 'bB#'), ('M', 'aabbbd', 'U#'), ('M', 'aabbbd', 'cUd#'), ('M', 'bbd', 'bbbD#'), ('I', 'aaaabbbd', '#'), ('M', 'aaaabbbd', 'aAU#'), ('F', 'aabbbd', '#'), ('M', 'abbbd', 'aTbbbbD#'), ('F', 'd', '#'), ('M', 'abbbd', 'AU#'), ('M', 'abbbd', 'cUd#'), ('M', 'aaaabbbd', 'dD#'), ('M', 'bbbd', 'U#'), ('M', 'd', '#'), ('M', 'aaaabbbd', 'cUd#'), ('M', 'aaabbbd', 'bD#'), ('M', 'aabbbd', 'bB#'), ('M', 'aaaabbbd', 'D#'), ('M', 'd', 'B#'), ('M', 'bbbd', 'aAU#'), ('F', 'aaaabbbd', '#'), ('M', 'bbbd', 'aTbbbbbD#'), ('M', 'd', 'bB#'), ('M', 'bbbd', 'AU#'), ('M', 'aaaabbbd', 'S#'), ('M', 'aaabbbd', 'CbD#'), ('M', 'aabbbd', 'B#'), ('M', 'aaaabbbd', 'TD#'), ('M', 'bbbd', 'CbbbbD#'), ('M', 'aaabbbd', 'cUd#'), ('M', 'aabbbd', '#'), ('F', 'bbbd', '#'), ('M', 'aaabbbd', 'aTbbD#'), ('M', 'bbd', 'B#'), ('M', 'aabbbd', 'cCbbD#'), ('M', 'abbbd', 'aAU#'), ('M', 'aabbbd', 'TbbD#'), ('M', 'bbbd', '#'), ('M', 'aaaabbbd', 'cCD#'), ('M', 'bd', '#'), ('M', 'aaabbbd', 'aAU#')}\n"
     ]
    }
   ],
   "source": [
    "explore_pda(\"aaaabbbd\", pda_acbd)"
   ]
  },
  {
   "cell_type": "code",
   "execution_count": 12,
   "metadata": {},
   "outputs": [
    {
     "output_type": "stream",
     "name": "stdout",
     "text": [
      "String aaaacbbb rejected by your PDA :-(\nVisited states are:\n{('M', '', 'bD#'), ('M', 'cbbb', 'TbbbbD#'), ('M', 'cbbb', 'aAU#'), ('M', 'cbbb', '#'), ('M', 'aaacbbb', 'CbD#'), ('M', 'bb', 'Bd#'), ('M', 'acbbb', '#'), ('M', 'aacbbb', 'bbD#'), ('M', 'aaacbbb', 'aAU#'), ('M', 'aaaacbbb', 'U#'), ('M', 'bb', 'd#'), ('M', 'aacbbb', 'B#'), ('M', 'cbbb', 'cCbbbbD#'), ('M', 'bbb', 'Ud#'), ('M', 'aacbbb', 'cCbbD#'), ('M', 'aaaacbbb', 'CD#'), ('M', 'aacbbb', 'TbbD#'), ('M', 'aaaacbbb', 'B#'), ('M', 'aacbbb', '#'), ('M', 'bbb', 'd#'), ('M', 'cbbb', 'B#'), ('M', 'cbbb', 'bbbbD#'), ('M', '', 'd#'), ('M', 'aaacbbb', 'AU#'), ('M', 'aacbbb', 'U#'), ('M', 'aaaacbbb', 'bB#'), ('M', 'cbbb', 'bB#'), ('M', 'bbb', 'CbbbbD#'), ('M', 'aaaacbbb', '#'), ('M', 'cbbb', 'U#'), ('M', 'acbbb', 'cCbbbD#'), ('M', 'b', 'Bd#'), ('M', 'aaaacbbb', 'AU#'), ('M', 'b', 'bBd#'), ('F', 'aaaacbbb', '#'), ('M', 'aaacbbb', 'cUd#'), ('M', 'aacbbb', 'bB#'), ('M', 'aaaacbbb', 'cCD#'), ('M', 'acbbb', 'U#'), ('M', 'aaaacbbb', 'aTbD#'), ('M', 'acbbb', 'bbbD#'), ('M', 'acbbb', 'CbbbD#'), ('M', 'acbbb', 'bB#'), ('M', 'acbbb', 'cUd#'), ('M', 'bb', 'bBd#'), ('M', 'bbb', 'bbbbD#'), ('F', 'aacbbb', '#'), ('M', 'aaacbbb', 'U#'), ('M', '', 'Bd#'), ('M', 'acbbb', 'aAU#'), ('M', 'aacbbb', 'AU#'), ('M', '', 'bBd#'), ('M', 'aaacbbb', 'bB#'), ('M', 'bbb', 'bBd#'), ('M', 'cbbb', 'cUd#'), ('F', 'aaacbbb', '#'), ('M', 'aacbbb', 'CbbD#'), ('M', 'aaacbbb', 'cCbD#'), ('M', 'acbbb', 'AU#'), ('M', 'cbbb', 'CbbbbD#'), ('M', 'aaacbbb', 'bD#'), ('M', 'cbbb', 'AU#'), ('F', 'cbbb', '#'), ('M', 'b', 'bbD#'), ('M', 'aaaacbbb', 'TD#'), ('M', 'bbb', 'Bd#'), ('M', 'aacbbb', 'cUd#'), ('M', 'aaaacbbb', 'S#'), ('M', 'b', 'd#'), ('M', 'bb', 'bbbD#'), ('M', 'aaaacbbb', 'dD#'), ('M', 'bbb', 'cCbbbbD#'), ('M', 'aaaacbbb', 'D#'), ('M', 'acbbb', 'B#'), ('M', 'aaaacbbb', 'cUd#'), ('I', 'aaaacbbb', '#'), ('M', 'aaacbbb', 'B#'), ('M', 'aaacbbb', 'TbD#'), ('M', 'aacbbb', 'aAU#'), ('M', 'acbbb', 'aTbbbbD#'), ('M', 'aacbbb', 'aTbbbD#'), ('M', 'aaacbbb', 'aTbbD#'), ('M', 'aaacbbb', '#'), ('F', 'acbbb', '#'), ('M', 'bbb', 'cUdd#'), ('M', 'aaaacbbb', 'aAU#'), ('M', 'acbbb', 'TbbbD#'), ('M', 'cbbb', 'aTbbbbbD#')}\n"
     ]
    }
   ],
   "source": [
    "explore_pda(\"aaaacbbb\", pda_acbd)"
   ]
  },
  {
   "cell_type": "markdown",
   "metadata": {},
   "source": [
    "## Now, provide five of your own tests and run them; cover more interesting cases that are likely not covered by the above tests (or if covered, try to find new variations with respect to the numbers of various symbols."
   ]
  },
  {
   "cell_type": "code",
   "execution_count": 13,
   "metadata": {},
   "outputs": [
    {
     "output_type": "stream",
     "name": "stdout",
     "text": [
      "String  accepted by your PDA in 2 ways :-) \nHere are the ways: \nFinal state  ('F', '', '#')\nReached as follows:\n->  ('I', '', '#')\n->  ('M', '', 'S#')\n->  ('M', '', 'TD#')\n->  ('M', '', 'CD#')\n->  ('M', '', 'D#')\n->  ('M', '', '#')\n->  ('F', '', '#') .\nFinal state  ('F', '', '#')\nReached as follows:\n->  ('I', '', '#')\n->  ('M', '', 'S#')\n->  ('M', '', 'AU#')\n->  ('M', '', 'U#')\n->  ('M', '', 'B#')\n->  ('M', '', '#')\n->  ('F', '', '#') .\n"
     ]
    }
   ],
   "source": [
    "# T1 : aim of the test is i=j=k=l=0; should accept\n",
    "explore_pda(\"\", pda_acbd)"
   ]
  },
  {
   "cell_type": "code",
   "execution_count": 14,
   "metadata": {},
   "outputs": [
    {
     "output_type": "stream",
     "name": "stdout",
     "text": [
      "String cdd accepted by your PDA in 1 ways :-) \n",
      "Here are the ways: \n",
      "Final state  ('F', '', '#')\n",
      "Reached as follows:\n",
      "->  ('I', 'cdd', '#')\n",
      "->  ('M', 'cdd', 'S#')\n",
      "->  ('M', 'cdd', 'TD#')\n",
      "->  ('M', 'cdd', 'CD#')\n",
      "->  ('M', 'cdd', 'cCD#')\n",
      "->  ('M', 'dd', 'CD#')\n",
      "->  ('M', 'dd', 'D#')\n",
      "->  ('M', 'dd', 'dD#')\n",
      "->  ('M', 'd', 'D#')\n",
      "->  ('M', 'd', 'dD#')\n",
      "->  ('M', '', 'D#')\n",
      "->  ('M', '', '#')\n",
      "->  ('F', '', '#') .\n"
     ]
    }
   ],
   "source": [
    "# T2 : aim of the test is i=j=0; should accept\n",
    "explore_pda(\"cdd\", pda_acbd)"
   ]
  },
  {
   "cell_type": "code",
   "execution_count": 15,
   "metadata": {},
   "outputs": [
    {
     "output_type": "stream",
     "name": "stdout",
     "text": [
      "String aaaacbbbbd accepted by your PDA in 1 ways :-) \nHere are the ways: \nFinal state  ('F', '', '#')\nReached as follows:\n->  ('I', 'aaaacbbbbd', '#')\n->  ('M', 'aaaacbbbbd', 'S#')\n->  ('M', 'aaaacbbbbd', 'TD#')\n->  ('M', 'aaaacbbbbd', 'aTbD#')\n->  ('M', 'aaacbbbbd', 'TbD#')\n->  ('M', 'aaacbbbbd', 'aTbbD#')\n->  ('M', 'aacbbbbd', 'TbbD#')\n->  ('M', 'aacbbbbd', 'aTbbbD#')\n->  ('M', 'acbbbbd', 'TbbbD#')\n->  ('M', 'acbbbbd', 'aTbbbbD#')\n->  ('M', 'cbbbbd', 'TbbbbD#')\n->  ('M', 'cbbbbd', 'CbbbbD#')\n->  ('M', 'cbbbbd', 'cCbbbbD#')\n->  ('M', 'bbbbd', 'CbbbbD#')\n->  ('M', 'bbbbd', 'bbbbD#')\n->  ('M', 'bbbd', 'bbbD#')\n->  ('M', 'bbd', 'bbD#')\n->  ('M', 'bd', 'bD#')\n->  ('M', 'd', 'D#')\n->  ('M', 'd', 'dD#')\n->  ('M', '', 'D#')\n->  ('M', '', '#')\n->  ('F', '', '#') .\n"
     ]
    }
   ],
   "source": [
    "# T3 : aim of the test is i=j and k=l; should accept\n",
    "explore_pda(\"aaaacbbbbd\", pda_acbd)"
   ]
  },
  {
   "cell_type": "code",
   "execution_count": 16,
   "metadata": {},
   "outputs": [
    {
     "output_type": "stream",
     "name": "stdout",
     "text": [
      "String aabbc rejected by your PDA :-(\n",
      "Visited states are:\n",
      "{('M', 'aabbc', 'D#'), ('M', 'bbc', 'TbbD#'), ('M', 'aabbc', '#'), ('M', 'abbc', 'cUd#'), ('M', 'aabbc', 'U#'), ('M', 'abbc', 'TbD#'), ('M', 'c', 'dD#'), ('M', 'bbc', '#'), ('M', 'bbc', 'U#'), ('M', 'abbc', 'aTbbD#'), ('M', 'abbc', 'B#'), ('F', 'bc', '#'), ('F', 'abbc', '#'), ('M', 'c', 'bB#'), ('M', 'aabbc', 'bB#'), ('M', 'bbc', 'bB#'), ('M', 'bc', 'bD#'), ('M', 'aabbc', 'aAU#'), ('M', 'c', 'D#'), ('M', 'bbc', 'aAU#'), ('F', 'aabbc', '#'), ('M', 'aabbc', 'cCD#'), ('M', 'bbc', 'aTbbbD#'), ('M', 'bc', 'bB#'), ('M', 'aabbc', 'AU#'), ('M', 'bc', '#'), ('M', 'bbc', 'AU#'), ('M', 'c', '#'), ('M', 'abbc', 'AU#'), ('M', 'abbc', 'bD#'), ('M', 'aabbc', 'dD#'), ('M', 'abbc', 'CbD#'), ('M', 'bbc', 'bbD#'), ('F', 'c', '#'), ('M', 'c', 'B#'), ('M', 'abbc', 'aAU#'), ('M', 'bbc', 'cCbbD#'), ('M', 'abbc', 'cCbD#'), ('F', 'bbc', '#'), ('M', 'bc', 'B#'), ('M', 'aabbc', 'S#'), ('M', 'aabbc', 'aTbD#'), ('M', 'aabbc', 'cUd#'), ('M', 'aabbc', 'TD#'), ('M', 'bbc', 'B#'), ('M', 'abbc', 'bB#'), ('M', 'bbc', 'CbbD#'), ('M', 'aabbc', 'B#'), ('M', 'bbc', 'cUd#'), ('M', 'aabbc', 'CD#'), ('I', 'aabbc', '#'), ('M', 'abbc', 'U#'), ('M', 'abbc', '#')}\n"
     ]
    }
   ],
   "source": [
    "# T4 : aim of the test is out of order; should reject\n",
    "explore_pda(\"aabbc\", pda_acbd)"
   ]
  },
  {
   "cell_type": "code",
   "execution_count": 17,
   "metadata": {},
   "outputs": [
    {
     "output_type": "stream",
     "name": "stdout",
     "text": [
      "String aadbb rejected by your PDA :-(\nVisited states are:\n{('M', 'adbb', 'aAU#'), ('M', 'dbb', 'AU#'), ('M', 'dbb', 'aTbbbD#'), ('M', 'aadbb', '#'), ('M', 'aadbb', 'D#'), ('M', 'aadbb', 'CD#'), ('M', 'aadbb', 'cUd#'), ('M', 'adbb', 'aTbbD#'), ('I', 'aadbb', '#'), ('M', 'dbb', 'CbbD#'), ('M', 'adbb', 'AU#'), ('M', 'adbb', 'cUd#'), ('M', 'aadbb', 'bB#'), ('M', 'dbb', 'B#'), ('M', 'aadbb', 'cCD#'), ('M', 'adbb', '#'), ('M', 'dbb', 'bbD#'), ('M', 'aadbb', 'dD#'), ('M', 'adbb', 'CbD#'), ('M', 'aadbb', 'aAU#'), ('M', 'dbb', '#'), ('M', 'dbb', 'U#'), ('M', 'adbb', 'bB#'), ('M', 'dbb', 'cCbbD#'), ('M', 'dbb', 'TbbD#'), ('M', 'aadbb', 'AU#'), ('M', 'adbb', 'cCbD#'), ('M', 'dbb', 'cUd#'), ('F', 'adbb', '#'), ('M', 'adbb', 'B#'), ('M', 'adbb', 'bD#'), ('M', 'adbb', 'TbD#'), ('F', 'dbb', '#'), ('M', 'aadbb', 'B#'), ('M', 'aadbb', 'aTbD#'), ('M', 'aadbb', 'TD#'), ('M', 'dbb', 'bB#'), ('M', 'adbb', 'U#'), ('M', 'aadbb', 'S#'), ('M', 'aadbb', 'U#'), ('M', 'dbb', 'aAU#'), ('F', 'aadbb', '#')}\n"
     ]
    }
   ],
   "source": [
    "# T5 : aim of the test is out of order; should reject\n",
    "explore_pda(\"aadbb\", pda_acbd)"
   ]
  },
  {
   "cell_type": "markdown",
   "metadata": {
    "run_control": {
     "frozen": false,
     "read_only": false
    }
   },
   "source": [
    "# Asg9 DTM for w#x where w is a substring of x"
   ]
  },
  {
   "cell_type": "code",
   "execution_count": 81,
   "metadata": {},
   "outputs": [],
   "source": [
    "Asg9DTM = md2mc('''\n",
    "TM     \n",
    "\n",
    "I_check_empty_w: #; #, S -> F_accept\n",
    "I_check_empty_w: a; a, S -> S_unmark_w\n",
    "I_check_empty_w: b; b, S -> S_unmark_w\n",
    "\n",
    "S_unmark_w: c; a, R -> S_unmark_w\n",
    "S_unmark_w: d; b, R -> S_unmark_w\n",
    "S_unmark_w: a; a, R -> S_unmark_w\n",
    "S_unmark_w: b; b, R -> S_unmark_w\n",
    "S_unmark_w: #; #, R -> S_unmark_x\n",
    "\n",
    "S_unmark_x: #; #, R -> S_unmark_x\n",
    "S_unmark_x: c; a, R -> S_unmark_x\n",
    "S_unmark_x: d; b, R -> S_unmark_x\n",
    "S_unmark_x: a; a, L -> S_go_to_start_of_x\n",
    "S_unmark_x: b; b, L -> S_go_to_start_of_x\n",
    "S_unmark_x: .; ., L -> S_go_to_start_of_x\n",
    "\n",
    "S_go_to_start_of_x: a; a, L -> S_go_to_start_of_x\n",
    "S_go_to_start_of_x: b; b, L -> S_go_to_start_of_x\n",
    "S_go_to_start_of_x: #; #, R -> S_next_in_x\n",
    "\n",
    "S_next_in_x: a; #, L -> S_go_to_compare_a\n",
    "S_next_in_x: b; #, L -> S_go_to_compare_b\n",
    "\n",
    "S_go_to_compare_a: #; #, L -> S_go_to_compare_a\n",
    "S_go_to_compare_a: a; a, L -> S_go_to_compare_a\n",
    "S_go_to_compare_a: b; b, L -> S_go_to_compare_a\n",
    "S_go_to_compare_a: c; c, R -> S_compare_a\n",
    "S_go_to_compare_a: d; d, R -> S_compare_a\n",
    "S_go_to_compare_a: .; ., R -> S_compare_a\n",
    "\n",
    "S_go_to_compare_b: #; #, L -> S_go_to_compare_b\n",
    "S_go_to_compare_b: a; a, L -> S_go_to_compare_b\n",
    "S_go_to_compare_b: b; b, L -> S_go_to_compare_b\n",
    "S_go_to_compare_b: c; c, R -> S_compare_b\n",
    "S_go_to_compare_b: d; d, R -> S_compare_b\n",
    "S_go_to_compare_b: .; ., R -> S_compare_b\n",
    "\n",
    "S_compare_a: b; b, L -> S_go_to_start_of_w\n",
    "S_compare_a: a; c, R -> S_check_if_finished\n",
    "\n",
    "S_compare_b: a; a, L -> S_go_to_start_of_w\n",
    "S_compare_b: b; d, R -> S_check_if_finished\n",
    "\n",
    "S_go_to_start_of_w: c; c, L -> S_go_to_start_of_w\n",
    "S_go_to_start_of_w: d; d, L -> S_go_to_start_of_w\n",
    "S_go_to_start_of_w: .; ., R -> S_unmark_w\n",
    "\n",
    "S_check_if_finished: #; #, S -> F_accept\n",
    "S_check_if_finished: a; a, R -> S_go_to_end_of_w\n",
    "S_check_if_finished: b; b, R -> S_go_to_end_of_w\n",
    "\n",
    "S_go_to_end_of_w: a; a, R -> S_go_to_end_of_w\n",
    "S_go_to_end_of_w: b; b, R -> S_go_to_end_of_w\n",
    "S_go_to_end_of_w: #; #, R -> S_find_first_unmarked_in_x\n",
    "\n",
    "S_find_first_unmarked_in_x: #; #, R -> S_find_first_unmarked_in_x\n",
    "S_find_first_unmarked_in_x: c; c, R -> S_find_first_unmarked_in_x\n",
    "S_find_first_unmarked_in_x: d; d, R -> S_find_first_unmarked_in_x\n",
    "S_find_first_unmarked_in_x: a; c, L -> S_go_to_compare_a_exit_first\n",
    "S_find_first_unmarked_in_x: b; d, L -> S_go_to_compare_b_exit_first\n",
    "\n",
    "S_go_to_compare_a_exit_first: c; c, L -> S_go_to_compare_a_exit_first\n",
    "S_go_to_compare_a_exit_first: d; d, L -> S_go_to_compare_a_exit_first\n",
    "S_go_to_compare_a_exit_first: #; #, L -> S_go_to_compare_a\n",
    "\n",
    "S_go_to_compare_b_exit_first: c; c, L -> S_go_to_compare_b_exit_first\n",
    "S_go_to_compare_b_exit_first: d; d, L -> S_go_to_compare_b_exit_first\n",
    "S_go_to_compare_b_exit_first: #; #, L -> S_go_to_compare_b\n",
    "\n",
    "''')\n"
   ]
  },
  {
   "cell_type": "markdown",
   "metadata": {},
   "source": [
    "# Tests for the DTM\n",
    "\n",
    "### (a) aba#aba       – pass -- FUEL CONSUMED = 37\n",
    "### (b) aba#ab           – fail  -- FUEL CONSUMED = 29\n",
    "### (c) aba#baba    – pass  -- FUEL CONSUMED = 57\n",
    "### (d) aba#babba      – fail -- FUEL CONSUMED = 130\n",
    "### (e) bba#bbabba – pass -- FUEL CONSUMED = 37\n",
    "\n",
    "\n",
    "### Please include five more tests of your own, in the space below"
   ]
  },
  {
   "cell_type": "code",
   "execution_count": 82,
   "metadata": {},
   "outputs": [
    {
     "output_type": "stream",
     "name": "stdout",
     "text": [
      "Help on function explore_tm in module jove.Def_TM:\n\nexplore_tm(T, tape, nsteps)\n    A handy routine to print the result of run_tm plus making \n    future extensions to explore run-results.\n\n"
     ]
    }
   ],
   "source": [
    "help(explore_tm)"
   ]
  },
  {
   "cell_type": "code",
   "execution_count": 83,
   "metadata": {},
   "outputs": [
    {
     "output_type": "stream",
     "name": "stdout",
     "text": [
      "Allocating  8  tape cells to the LEFT!\nDetailing the halted configs now.\nAccepted at  ('F_accept', 11, '........cdc##dc', 107)\n via .. \n ->('I_check_empty_w', 0, 'aba#aba', 144)\n ->('S_unmark_w', 0, 'aba#aba', 143)\n ->('S_unmark_w', 1, 'aba#aba', 142)\n ->('S_unmark_w', 2, 'aba#aba', 141)\n ->('S_unmark_w', 3, 'aba#aba', 140)\n ->('S_unmark_x', 4, 'aba#aba', 139)\n ->('S_go_to_start_of_x', 3, 'aba#aba', 138)\n ->('S_next_in_x', 4, 'aba#aba', 137)\n ->('S_go_to_compare_a', 3, 'aba##ba', 136)\n ->('S_go_to_compare_a', 2, 'aba##ba', 135)\n ->('S_go_to_compare_a', 1, 'aba##ba', 134)\n ->('S_go_to_compare_a', 0, 'aba##ba', 133)\n ->('S_go_to_compare_a', 7, '........aba##ba', 132)\n ->('S_compare_a', 8, '........aba##ba', 131)\n ->('S_check_if_finished', 9, '........cba##ba', 130)\n ->('S_go_to_end_of_w', 10, '........cba##ba', 129)\n ->('S_go_to_end_of_w', 11, '........cba##ba', 128)\n ->('S_find_first_unmarked_in_x', 12, '........cba##ba', 127)\n ->('S_find_first_unmarked_in_x', 13, '........cba##ba', 126)\n ->('S_go_to_compare_b_exit_first', 12, '........cba##da', 125)\n ->('S_go_to_compare_b', 11, '........cba##da', 124)\n ->('S_go_to_compare_b', 10, '........cba##da', 123)\n ->('S_go_to_compare_b', 9, '........cba##da', 122)\n ->('S_go_to_compare_b', 8, '........cba##da', 121)\n ->('S_compare_b', 9, '........cba##da', 120)\n ->('S_check_if_finished', 10, '........cda##da', 119)\n ->('S_go_to_end_of_w', 11, '........cda##da', 118)\n ->('S_find_first_unmarked_in_x', 12, '........cda##da', 117)\n ->('S_find_first_unmarked_in_x', 13, '........cda##da', 116)\n ->('S_find_first_unmarked_in_x', 14, '........cda##da', 115)\n ->('S_go_to_compare_a_exit_first', 13, '........cda##dc', 114)\n ->('S_go_to_compare_a_exit_first', 12, '........cda##dc', 113)\n ->('S_go_to_compare_a', 11, '........cda##dc', 112)\n ->('S_go_to_compare_a', 10, '........cda##dc', 111)\n ->('S_go_to_compare_a', 9, '........cda##dc', 110)\n ->('S_compare_a', 10, '........cda##dc', 109)\n ->('S_check_if_finished', 11, '........cdc##dc', 108)\n ->('F_accept', 11, '........cdc##dc', 107)\n"
     ]
    }
   ],
   "source": [
    "explore_tm(Asg9DTM, \"aba#aba\", 144)"
   ]
  },
  {
   "cell_type": "code",
   "execution_count": 84,
   "metadata": {},
   "outputs": [
    {
     "output_type": "stream",
     "name": "stdout",
     "text": [
      "Allocating  8  tape cells to the LEFT!\n",
      "Allocating  8  tape cells to the RIGHT!\n",
      "Detailing the halted configs now.\n",
      "Rejected at  ('S_find_first_unmarked_in_x', 14, '........cda##d', 115)\n",
      " via .. \n",
      " ->('I_check_empty_w', 0, 'aba#ab', 144)\n",
      " ->('S_unmark_w', 0, 'aba#ab', 143)\n",
      " ->('S_unmark_w', 1, 'aba#ab', 142)\n",
      " ->('S_unmark_w', 2, 'aba#ab', 141)\n",
      " ->('S_unmark_w', 3, 'aba#ab', 140)\n",
      " ->('S_unmark_x', 4, 'aba#ab', 139)\n",
      " ->('S_go_to_start_of_x', 3, 'aba#ab', 138)\n",
      " ->('S_next_in_x', 4, 'aba#ab', 137)\n",
      " ->('S_go_to_compare_a', 3, 'aba##b', 136)\n",
      " ->('S_go_to_compare_a', 2, 'aba##b', 135)\n",
      " ->('S_go_to_compare_a', 1, 'aba##b', 134)\n",
      " ->('S_go_to_compare_a', 0, 'aba##b', 133)\n",
      " ->('S_go_to_compare_a', 7, '........aba##b', 132)\n",
      " ->('S_compare_a', 8, '........aba##b', 131)\n",
      " ->('S_check_if_finished', 9, '........cba##b', 130)\n",
      " ->('S_go_to_end_of_w', 10, '........cba##b', 129)\n",
      " ->('S_go_to_end_of_w', 11, '........cba##b', 128)\n",
      " ->('S_find_first_unmarked_in_x', 12, '........cba##b', 127)\n",
      " ->('S_find_first_unmarked_in_x', 13, '........cba##b', 126)\n",
      " ->('S_go_to_compare_b_exit_first', 12, '........cba##d', 125)\n",
      " ->('S_go_to_compare_b', 11, '........cba##d', 124)\n",
      " ->('S_go_to_compare_b', 10, '........cba##d', 123)\n",
      " ->('S_go_to_compare_b', 9, '........cba##d', 122)\n",
      " ->('S_go_to_compare_b', 8, '........cba##d', 121)\n",
      " ->('S_compare_b', 9, '........cba##d', 120)\n",
      " ->('S_check_if_finished', 10, '........cda##d', 119)\n",
      " ->('S_go_to_end_of_w', 11, '........cda##d', 118)\n",
      " ->('S_find_first_unmarked_in_x', 12, '........cda##d', 117)\n",
      " ->('S_find_first_unmarked_in_x', 13, '........cda##d', 116)\n",
      " ->('S_find_first_unmarked_in_x', 14, '........cda##d', 115)\n"
     ]
    }
   ],
   "source": [
    "explore_tm(Asg9DTM, \"aba#ab\", 144)"
   ]
  },
  {
   "cell_type": "code",
   "execution_count": 85,
   "metadata": {
    "tags": []
   },
   "outputs": [
    {
     "output_type": "stream",
     "name": "stdout",
     "text": [
      "Allocating  8  tape cells to the LEFT!\n",
      "Detailing the halted configs now.\n",
      "Accepted at  ('F_accept', 11, '........cdc###dc', 87)\n",
      " via .. \n",
      " ->('I_check_empty_w', 0, 'aba#baba', 144)\n",
      " ->('S_unmark_w', 0, 'aba#baba', 143)\n",
      " ->('S_unmark_w', 1, 'aba#baba', 142)\n",
      " ->('S_unmark_w', 2, 'aba#baba', 141)\n",
      " ->('S_unmark_w', 3, 'aba#baba', 140)\n",
      " ->('S_unmark_x', 4, 'aba#baba', 139)\n",
      " ->('S_go_to_start_of_x', 3, 'aba#baba', 138)\n",
      " ->('S_next_in_x', 4, 'aba#baba', 137)\n",
      " ->('S_go_to_compare_b', 3, 'aba##aba', 136)\n",
      " ->('S_go_to_compare_b', 2, 'aba##aba', 135)\n",
      " ->('S_go_to_compare_b', 1, 'aba##aba', 134)\n",
      " ->('S_go_to_compare_b', 0, 'aba##aba', 133)\n",
      " ->('S_go_to_compare_b', 7, '........aba##aba', 132)\n",
      " ->('S_compare_b', 8, '........aba##aba', 131)\n",
      " ->('S_go_to_start_of_w', 7, '........aba##aba', 130)\n",
      " ->('S_unmark_w', 8, '........aba##aba', 129)\n",
      " ->('S_unmark_w', 9, '........aba##aba', 128)\n",
      " ->('S_unmark_w', 10, '........aba##aba', 127)\n",
      " ->('S_unmark_w', 11, '........aba##aba', 126)\n",
      " ->('S_unmark_x', 12, '........aba##aba', 125)\n",
      " ->('S_unmark_x', 13, '........aba##aba', 124)\n",
      " ->('S_go_to_start_of_x', 12, '........aba##aba', 123)\n",
      " ->('S_next_in_x', 13, '........aba##aba', 122)\n",
      " ->('S_go_to_compare_a', 12, '........aba###ba', 121)\n",
      " ->('S_go_to_compare_a', 11, '........aba###ba', 120)\n",
      " ->('S_go_to_compare_a', 10, '........aba###ba', 119)\n",
      " ->('S_go_to_compare_a', 9, '........aba###ba', 118)\n",
      " ->('S_go_to_compare_a', 8, '........aba###ba', 117)\n",
      " ->('S_go_to_compare_a', 7, '........aba###ba', 116)\n",
      " ->('S_compare_a', 8, '........aba###ba', 115)\n",
      " ->('S_check_if_finished', 9, '........cba###ba', 114)\n",
      " ->('S_go_to_end_of_w', 10, '........cba###ba', 113)\n",
      " ->('S_go_to_end_of_w', 11, '........cba###ba', 112)\n",
      " ->('S_find_first_unmarked_in_x', 12, '........cba###ba', 111)\n",
      " ->('S_find_first_unmarked_in_x', 13, '........cba###ba', 110)\n",
      " ->('S_find_first_unmarked_in_x', 14, '........cba###ba', 109)\n",
      " ->('S_go_to_compare_b_exit_first', 13, '........cba###da', 108)\n",
      " ->('S_go_to_compare_b', 12, '........cba###da', 107)\n",
      " ->('S_go_to_compare_b', 11, '........cba###da', 106)\n",
      " ->('S_go_to_compare_b', 10, '........cba###da', 105)\n",
      " ->('S_go_to_compare_b', 9, '........cba###da', 104)\n",
      " ->('S_go_to_compare_b', 8, '........cba###da', 103)\n",
      " ->('S_compare_b', 9, '........cba###da', 102)\n",
      " ->('S_check_if_finished', 10, '........cda###da', 101)\n",
      " ->('S_go_to_end_of_w', 11, '........cda###da', 100)\n",
      " ->('S_find_first_unmarked_in_x', 12, '........cda###da', 99)\n",
      " ->('S_find_first_unmarked_in_x', 13, '........cda###da', 98)\n",
      " ->('S_find_first_unmarked_in_x', 14, '........cda###da', 97)\n",
      " ->('S_find_first_unmarked_in_x', 15, '........cda###da', 96)\n",
      " ->('S_go_to_compare_a_exit_first', 14, '........cda###dc', 95)\n",
      " ->('S_go_to_compare_a_exit_first', 13, '........cda###dc', 94)\n",
      " ->('S_go_to_compare_a', 12, '........cda###dc', 93)\n",
      " ->('S_go_to_compare_a', 11, '........cda###dc', 92)\n",
      " ->('S_go_to_compare_a', 10, '........cda###dc', 91)\n",
      " ->('S_go_to_compare_a', 9, '........cda###dc', 90)\n",
      " ->('S_compare_a', 10, '........cda###dc', 89)\n",
      " ->('S_check_if_finished', 11, '........cdc###dc', 88)\n",
      " ->('F_accept', 11, '........cdc###dc', 87)\n"
     ]
    }
   ],
   "source": [
    "explore_tm(Asg9DTM, \"aba#baba\", 144)"
   ]
  },
  {
   "cell_type": "code",
   "execution_count": 86,
   "metadata": {},
   "outputs": [
    {
     "output_type": "stream",
     "name": "stdout",
     "text": [
      "Allocating  8  tape cells to the LEFT!\n",
      "Allocating  8  tape cells to the RIGHT!\n",
      "Detailing the halted configs now.\n",
      "Rejected at  ('S_find_first_unmarked_in_x', 17, '........cba######', 14)\n",
      " via .. \n",
      " ->('I_check_empty_w', 0, 'aba#babba', 144)\n",
      " ->('S_unmark_w', 0, 'aba#babba', 143)\n",
      " ->('S_unmark_w', 1, 'aba#babba', 142)\n",
      " ->('S_unmark_w', 2, 'aba#babba', 141)\n",
      " ->('S_unmark_w', 3, 'aba#babba', 140)\n",
      " ->('S_unmark_x', 4, 'aba#babba', 139)\n",
      " ->('S_go_to_start_of_x', 3, 'aba#babba', 138)\n",
      " ->('S_next_in_x', 4, 'aba#babba', 137)\n",
      " ->('S_go_to_compare_b', 3, 'aba##abba', 136)\n",
      " ->('S_go_to_compare_b', 2, 'aba##abba', 135)\n",
      " ->('S_go_to_compare_b', 1, 'aba##abba', 134)\n",
      " ->('S_go_to_compare_b', 0, 'aba##abba', 133)\n",
      " ->('S_go_to_compare_b', 7, '........aba##abba', 132)\n",
      " ->('S_compare_b', 8, '........aba##abba', 131)\n",
      " ->('S_go_to_start_of_w', 7, '........aba##abba', 130)\n",
      " ->('S_unmark_w', 8, '........aba##abba', 129)\n",
      " ->('S_unmark_w', 9, '........aba##abba', 128)\n",
      " ->('S_unmark_w', 10, '........aba##abba', 127)\n",
      " ->('S_unmark_w', 11, '........aba##abba', 126)\n",
      " ->('S_unmark_x', 12, '........aba##abba', 125)\n",
      " ->('S_unmark_x', 13, '........aba##abba', 124)\n",
      " ->('S_go_to_start_of_x', 12, '........aba##abba', 123)\n",
      " ->('S_next_in_x', 13, '........aba##abba', 122)\n",
      " ->('S_go_to_compare_a', 12, '........aba###bba', 121)\n",
      " ->('S_go_to_compare_a', 11, '........aba###bba', 120)\n",
      " ->('S_go_to_compare_a', 10, '........aba###bba', 119)\n",
      " ->('S_go_to_compare_a', 9, '........aba###bba', 118)\n",
      " ->('S_go_to_compare_a', 8, '........aba###bba', 117)\n",
      " ->('S_go_to_compare_a', 7, '........aba###bba', 116)\n",
      " ->('S_compare_a', 8, '........aba###bba', 115)\n",
      " ->('S_check_if_finished', 9, '........cba###bba', 114)\n",
      " ->('S_go_to_end_of_w', 10, '........cba###bba', 113)\n",
      " ->('S_go_to_end_of_w', 11, '........cba###bba', 112)\n",
      " ->('S_find_first_unmarked_in_x', 12, '........cba###bba', 111)\n",
      " ->('S_find_first_unmarked_in_x', 13, '........cba###bba', 110)\n",
      " ->('S_find_first_unmarked_in_x', 14, '........cba###bba', 109)\n",
      " ->('S_go_to_compare_b_exit_first', 13, '........cba###dba', 108)\n",
      " ->('S_go_to_compare_b', 12, '........cba###dba', 107)\n",
      " ->('S_go_to_compare_b', 11, '........cba###dba', 106)\n",
      " ->('S_go_to_compare_b', 10, '........cba###dba', 105)\n",
      " ->('S_go_to_compare_b', 9, '........cba###dba', 104)\n",
      " ->('S_go_to_compare_b', 8, '........cba###dba', 103)\n",
      " ->('S_compare_b', 9, '........cba###dba', 102)\n",
      " ->('S_check_if_finished', 10, '........cda###dba', 101)\n",
      " ->('S_go_to_end_of_w', 11, '........cda###dba', 100)\n",
      " ->('S_find_first_unmarked_in_x', 12, '........cda###dba', 99)\n",
      " ->('S_find_first_unmarked_in_x', 13, '........cda###dba', 98)\n",
      " ->('S_find_first_unmarked_in_x', 14, '........cda###dba', 97)\n",
      " ->('S_find_first_unmarked_in_x', 15, '........cda###dba', 96)\n",
      " ->('S_go_to_compare_b_exit_first', 14, '........cda###dda', 95)\n",
      " ->('S_go_to_compare_b_exit_first', 13, '........cda###dda', 94)\n",
      " ->('S_go_to_compare_b', 12, '........cda###dda', 93)\n",
      " ->('S_go_to_compare_b', 11, '........cda###dda', 92)\n",
      " ->('S_go_to_compare_b', 10, '........cda###dda', 91)\n",
      " ->('S_go_to_compare_b', 9, '........cda###dda', 90)\n",
      " ->('S_compare_b', 10, '........cda###dda', 89)\n",
      " ->('S_go_to_start_of_w', 9, '........cda###dda', 88)\n",
      " ->('S_go_to_start_of_w', 8, '........cda###dda', 87)\n",
      " ->('S_go_to_start_of_w', 7, '........cda###dda', 86)\n",
      " ->('S_unmark_w', 8, '........cda###dda', 85)\n",
      " ->('S_unmark_w', 9, '........ada###dda', 84)\n",
      " ->('S_unmark_w', 10, '........aba###dda', 83)\n",
      " ->('S_unmark_w', 11, '........aba###dda', 82)\n",
      " ->('S_unmark_x', 12, '........aba###dda', 81)\n",
      " ->('S_unmark_x', 13, '........aba###dda', 80)\n",
      " ->('S_unmark_x', 14, '........aba###dda', 79)\n",
      " ->('S_unmark_x', 15, '........aba###bda', 78)\n",
      " ->('S_unmark_x', 16, '........aba###bba', 77)\n",
      " ->('S_go_to_start_of_x', 15, '........aba###bba', 76)\n",
      " ->('S_go_to_start_of_x', 14, '........aba###bba', 75)\n",
      " ->('S_go_to_start_of_x', 13, '........aba###bba', 74)\n",
      " ->('S_next_in_x', 14, '........aba###bba', 73)\n",
      " ->('S_go_to_compare_b', 13, '........aba####ba', 72)\n",
      " ->('S_go_to_compare_b', 12, '........aba####ba', 71)\n",
      " ->('S_go_to_compare_b', 11, '........aba####ba', 70)\n",
      " ->('S_go_to_compare_b', 10, '........aba####ba', 69)\n",
      " ->('S_go_to_compare_b', 9, '........aba####ba', 68)\n",
      " ->('S_go_to_compare_b', 8, '........aba####ba', 67)\n",
      " ->('S_go_to_compare_b', 7, '........aba####ba', 66)\n",
      " ->('S_compare_b', 8, '........aba####ba', 65)\n",
      " ->('S_go_to_start_of_w', 7, '........aba####ba', 64)\n",
      " ->('S_unmark_w', 8, '........aba####ba', 63)\n",
      " ->('S_unmark_w', 9, '........aba####ba', 62)\n",
      " ->('S_unmark_w', 10, '........aba####ba', 61)\n",
      " ->('S_unmark_w', 11, '........aba####ba', 60)\n",
      " ->('S_unmark_x', 12, '........aba####ba', 59)\n",
      " ->('S_unmark_x', 13, '........aba####ba', 58)\n",
      " ->('S_unmark_x', 14, '........aba####ba', 57)\n",
      " ->('S_unmark_x', 15, '........aba####ba', 56)\n",
      " ->('S_go_to_start_of_x', 14, '........aba####ba', 55)\n",
      " ->('S_next_in_x', 15, '........aba####ba', 54)\n",
      " ->('S_go_to_compare_b', 14, '........aba#####a', 53)\n",
      " ->('S_go_to_compare_b', 13, '........aba#####a', 52)\n",
      " ->('S_go_to_compare_b', 12, '........aba#####a', 51)\n",
      " ->('S_go_to_compare_b', 11, '........aba#####a', 50)\n",
      " ->('S_go_to_compare_b', 10, '........aba#####a', 49)\n",
      " ->('S_go_to_compare_b', 9, '........aba#####a', 48)\n",
      " ->('S_go_to_compare_b', 8, '........aba#####a', 47)\n",
      " ->('S_go_to_compare_b', 7, '........aba#####a', 46)\n",
      " ->('S_compare_b', 8, '........aba#####a', 45)\n",
      " ->('S_go_to_start_of_w', 7, '........aba#####a', 44)\n",
      " ->('S_unmark_w', 8, '........aba#####a', 43)\n",
      " ->('S_unmark_w', 9, '........aba#####a', 42)\n",
      " ->('S_unmark_w', 10, '........aba#####a', 41)\n",
      " ->('S_unmark_w', 11, '........aba#####a', 40)\n",
      " ->('S_unmark_x', 12, '........aba#####a', 39)\n",
      " ->('S_unmark_x', 13, '........aba#####a', 38)\n",
      " ->('S_unmark_x', 14, '........aba#####a', 37)\n",
      " ->('S_unmark_x', 15, '........aba#####a', 36)\n",
      " ->('S_unmark_x', 16, '........aba#####a', 35)\n",
      " ->('S_go_to_start_of_x', 15, '........aba#####a', 34)\n",
      " ->('S_next_in_x', 16, '........aba#####a', 33)\n",
      " ->('S_go_to_compare_a', 15, '........aba######', 32)\n",
      " ->('S_go_to_compare_a', 14, '........aba######', 31)\n",
      " ->('S_go_to_compare_a', 13, '........aba######', 30)\n",
      " ->('S_go_to_compare_a', 12, '........aba######', 29)\n",
      " ->('S_go_to_compare_a', 11, '........aba######', 28)\n",
      " ->('S_go_to_compare_a', 10, '........aba######', 27)\n",
      " ->('S_go_to_compare_a', 9, '........aba######', 26)\n",
      " ->('S_go_to_compare_a', 8, '........aba######', 25)\n",
      " ->('S_go_to_compare_a', 7, '........aba######', 24)\n",
      " ->('S_compare_a', 8, '........aba######', 23)\n",
      " ->('S_check_if_finished', 9, '........cba######', 22)\n",
      " ->('S_go_to_end_of_w', 10, '........cba######', 21)\n",
      " ->('S_go_to_end_of_w', 11, '........cba######', 20)\n",
      " ->('S_find_first_unmarked_in_x', 12, '........cba######', 19)\n",
      " ->('S_find_first_unmarked_in_x', 13, '........cba######', 18)\n",
      " ->('S_find_first_unmarked_in_x', 14, '........cba######', 17)\n",
      " ->('S_find_first_unmarked_in_x', 15, '........cba######', 16)\n",
      " ->('S_find_first_unmarked_in_x', 16, '........cba######', 15)\n",
      " ->('S_find_first_unmarked_in_x', 17, '........cba######', 14)\n"
     ]
    }
   ],
   "source": [
    "explore_tm(Asg9DTM, \"aba#babba\", 144)"
   ]
  },
  {
   "cell_type": "code",
   "execution_count": 87,
   "metadata": {},
   "outputs": [
    {
     "output_type": "stream",
     "name": "stdout",
     "text": [
      "Allocating  8  tape cells to the LEFT!\nDetailing the halted configs now.\nAccepted at  ('F_accept', 11, '........ddc##dcbba', 107)\n via .. \n ->('I_check_empty_w', 0, 'bba#bbabba', 144)\n ->('S_unmark_w', 0, 'bba#bbabba', 143)\n ->('S_unmark_w', 1, 'bba#bbabba', 142)\n ->('S_unmark_w', 2, 'bba#bbabba', 141)\n ->('S_unmark_w', 3, 'bba#bbabba', 140)\n ->('S_unmark_x', 4, 'bba#bbabba', 139)\n ->('S_go_to_start_of_x', 3, 'bba#bbabba', 138)\n ->('S_next_in_x', 4, 'bba#bbabba', 137)\n ->('S_go_to_compare_b', 3, 'bba##babba', 136)\n ->('S_go_to_compare_b', 2, 'bba##babba', 135)\n ->('S_go_to_compare_b', 1, 'bba##babba', 134)\n ->('S_go_to_compare_b', 0, 'bba##babba', 133)\n ->('S_go_to_compare_b', 7, '........bba##babba', 132)\n ->('S_compare_b', 8, '........bba##babba', 131)\n ->('S_check_if_finished', 9, '........dba##babba', 130)\n ->('S_go_to_end_of_w', 10, '........dba##babba', 129)\n ->('S_go_to_end_of_w', 11, '........dba##babba', 128)\n ->('S_find_first_unmarked_in_x', 12, '........dba##babba', 127)\n ->('S_find_first_unmarked_in_x', 13, '........dba##babba', 126)\n ->('S_go_to_compare_b_exit_first', 12, '........dba##dabba', 125)\n ->('S_go_to_compare_b', 11, '........dba##dabba', 124)\n ->('S_go_to_compare_b', 10, '........dba##dabba', 123)\n ->('S_go_to_compare_b', 9, '........dba##dabba', 122)\n ->('S_go_to_compare_b', 8, '........dba##dabba', 121)\n ->('S_compare_b', 9, '........dba##dabba', 120)\n ->('S_check_if_finished', 10, '........dda##dabba', 119)\n ->('S_go_to_end_of_w', 11, '........dda##dabba', 118)\n ->('S_find_first_unmarked_in_x', 12, '........dda##dabba', 117)\n ->('S_find_first_unmarked_in_x', 13, '........dda##dabba', 116)\n ->('S_find_first_unmarked_in_x', 14, '........dda##dabba', 115)\n ->('S_go_to_compare_a_exit_first', 13, '........dda##dcbba', 114)\n ->('S_go_to_compare_a_exit_first', 12, '........dda##dcbba', 113)\n ->('S_go_to_compare_a', 11, '........dda##dcbba', 112)\n ->('S_go_to_compare_a', 10, '........dda##dcbba', 111)\n ->('S_go_to_compare_a', 9, '........dda##dcbba', 110)\n ->('S_compare_a', 10, '........dda##dcbba', 109)\n ->('S_check_if_finished', 11, '........ddc##dcbba', 108)\n ->('F_accept', 11, '........ddc##dcbba', 107)\n"
     ]
    }
   ],
   "source": [
    "explore_tm(Asg9DTM, \"bba#bbabba\", 144)"
   ]
  },
  {
   "cell_type": "markdown",
   "metadata": {},
   "source": [
    "## Your tests for the DTM below (no fuel consumption reporting needed)"
   ]
  },
  {
   "cell_type": "code",
   "execution_count": 88,
   "metadata": {},
   "outputs": [
    {
     "output_type": "stream",
     "name": "stdout",
     "text": [
      "Detailing the halted configs now.\n",
      "Accepted at  ('F_accept', 0, '#', 143)\n",
      " via .. \n",
      " ->('I_check_empty_w', 0, '#', 144)\n",
      " ->('F_accept', 0, '#', 143)\n"
     ]
    }
   ],
   "source": [
    "# should accept\n",
    "explore_tm(Asg9DTM, \"#\", 144)"
   ]
  },
  {
   "cell_type": "code",
   "execution_count": 89,
   "metadata": {},
   "outputs": [
    {
     "output_type": "stream",
     "name": "stdout",
     "text": [
      "Detailing the halted configs now.\nAccepted at  ('F_accept', 0, '#a', 143)\n via .. \n ->('I_check_empty_w', 0, '#a', 144)\n ->('F_accept', 0, '#a', 143)\n"
     ]
    }
   ],
   "source": [
    "# should accept\n",
    "explore_tm(Asg9DTM, \"#a\", 144)"
   ]
  },
  {
   "cell_type": "code",
   "execution_count": 90,
   "metadata": {},
   "outputs": [
    {
     "output_type": "stream",
     "name": "stdout",
     "text": [
      "Allocating  8  tape cells to the RIGHT!\n",
      "Detailing the halted configs now.\n",
      "Rejected at  ('S_next_in_x', 2, 'a#........', 139)\n",
      " via .. \n",
      " ->('I_check_empty_w', 0, 'a#', 144)\n",
      " ->('S_unmark_w', 0, 'a#', 143)\n",
      " ->('S_unmark_w', 1, 'a#', 142)\n",
      " ->('S_unmark_x', 2, 'a#', 141)\n",
      " ->('S_go_to_start_of_x', 1, 'a#........', 140)\n",
      " ->('S_next_in_x', 2, 'a#........', 139)\n"
     ]
    }
   ],
   "source": [
    "# should reject\n",
    "explore_tm(Asg9DTM, \"a#\", 144)"
   ]
  },
  {
   "cell_type": "code",
   "execution_count": 91,
   "metadata": {},
   "outputs": [
    {
     "output_type": "stream",
     "name": "stdout",
     "text": [
      "Allocating  8  tape cells to the LEFT!\n",
      "Detailing the halted configs now.\n",
      "Accepted at  ('F_accept', 12, '........cdcc####dcc', 134)\n",
      " via .. \n",
      " ->('I_check_empty_w', 0, 'abaa#ababaa', 288)\n",
      " ->('S_unmark_w', 0, 'abaa#ababaa', 287)\n",
      " ->('S_unmark_w', 1, 'abaa#ababaa', 286)\n",
      " ->('S_unmark_w', 2, 'abaa#ababaa', 285)\n",
      " ->('S_unmark_w', 3, 'abaa#ababaa', 284)\n",
      " ->('S_unmark_w', 4, 'abaa#ababaa', 283)\n",
      " ->('S_unmark_x', 5, 'abaa#ababaa', 282)\n",
      " ->('S_go_to_start_of_x', 4, 'abaa#ababaa', 281)\n",
      " ->('S_next_in_x', 5, 'abaa#ababaa', 280)\n",
      " ->('S_go_to_compare_a', 4, 'abaa##babaa', 279)\n",
      " ->('S_go_to_compare_a', 3, 'abaa##babaa', 278)\n",
      " ->('S_go_to_compare_a', 2, 'abaa##babaa', 277)\n",
      " ->('S_go_to_compare_a', 1, 'abaa##babaa', 276)\n",
      " ->('S_go_to_compare_a', 0, 'abaa##babaa', 275)\n",
      " ->('S_go_to_compare_a', 7, '........abaa##babaa', 274)\n",
      " ->('S_compare_a', 8, '........abaa##babaa', 273)\n",
      " ->('S_check_if_finished', 9, '........cbaa##babaa', 272)\n",
      " ->('S_go_to_end_of_w', 10, '........cbaa##babaa', 271)\n",
      " ->('S_go_to_end_of_w', 11, '........cbaa##babaa', 270)\n",
      " ->('S_go_to_end_of_w', 12, '........cbaa##babaa', 269)\n",
      " ->('S_find_first_unmarked_in_x', 13, '........cbaa##babaa', 268)\n",
      " ->('S_find_first_unmarked_in_x', 14, '........cbaa##babaa', 267)\n",
      " ->('S_go_to_compare_b_exit_first', 13, '........cbaa##dabaa', 266)\n",
      " ->('S_go_to_compare_b', 12, '........cbaa##dabaa', 265)\n",
      " ->('S_go_to_compare_b', 11, '........cbaa##dabaa', 264)\n",
      " ->('S_go_to_compare_b', 10, '........cbaa##dabaa', 263)\n",
      " ->('S_go_to_compare_b', 9, '........cbaa##dabaa', 262)\n",
      " ->('S_go_to_compare_b', 8, '........cbaa##dabaa', 261)\n",
      " ->('S_compare_b', 9, '........cbaa##dabaa', 260)\n",
      " ->('S_check_if_finished', 10, '........cdaa##dabaa', 259)\n",
      " ->('S_go_to_end_of_w', 11, '........cdaa##dabaa', 258)\n",
      " ->('S_go_to_end_of_w', 12, '........cdaa##dabaa', 257)\n",
      " ->('S_find_first_unmarked_in_x', 13, '........cdaa##dabaa', 256)\n",
      " ->('S_find_first_unmarked_in_x', 14, '........cdaa##dabaa', 255)\n",
      " ->('S_find_first_unmarked_in_x', 15, '........cdaa##dabaa', 254)\n",
      " ->('S_go_to_compare_a_exit_first', 14, '........cdaa##dcbaa', 253)\n",
      " ->('S_go_to_compare_a_exit_first', 13, '........cdaa##dcbaa', 252)\n",
      " ->('S_go_to_compare_a', 12, '........cdaa##dcbaa', 251)\n",
      " ->('S_go_to_compare_a', 11, '........cdaa##dcbaa', 250)\n",
      " ->('S_go_to_compare_a', 10, '........cdaa##dcbaa', 249)\n",
      " ->('S_go_to_compare_a', 9, '........cdaa##dcbaa', 248)\n",
      " ->('S_compare_a', 10, '........cdaa##dcbaa', 247)\n",
      " ->('S_check_if_finished', 11, '........cdca##dcbaa', 246)\n",
      " ->('S_go_to_end_of_w', 12, '........cdca##dcbaa', 245)\n",
      " ->('S_find_first_unmarked_in_x', 13, '........cdca##dcbaa', 244)\n",
      " ->('S_find_first_unmarked_in_x', 14, '........cdca##dcbaa', 243)\n",
      " ->('S_find_first_unmarked_in_x', 15, '........cdca##dcbaa', 242)\n",
      " ->('S_find_first_unmarked_in_x', 16, '........cdca##dcbaa', 241)\n",
      " ->('S_go_to_compare_b_exit_first', 15, '........cdca##dcdaa', 240)\n",
      " ->('S_go_to_compare_b_exit_first', 14, '........cdca##dcdaa', 239)\n",
      " ->('S_go_to_compare_b_exit_first', 13, '........cdca##dcdaa', 238)\n",
      " ->('S_go_to_compare_b', 12, '........cdca##dcdaa', 237)\n",
      " ->('S_go_to_compare_b', 11, '........cdca##dcdaa', 236)\n",
      " ->('S_go_to_compare_b', 10, '........cdca##dcdaa', 235)\n",
      " ->('S_compare_b', 11, '........cdca##dcdaa', 234)\n",
      " ->('S_go_to_start_of_w', 10, '........cdca##dcdaa', 233)\n",
      " ->('S_go_to_start_of_w', 9, '........cdca##dcdaa', 232)\n",
      " ->('S_go_to_start_of_w', 8, '........cdca##dcdaa', 231)\n",
      " ->('S_go_to_start_of_w', 7, '........cdca##dcdaa', 230)\n",
      " ->('S_unmark_w', 8, '........cdca##dcdaa', 229)\n",
      " ->('S_unmark_w', 9, '........adca##dcdaa', 228)\n",
      " ->('S_unmark_w', 10, '........abca##dcdaa', 227)\n",
      " ->('S_unmark_w', 11, '........abaa##dcdaa', 226)\n",
      " ->('S_unmark_w', 12, '........abaa##dcdaa', 225)\n",
      " ->('S_unmark_x', 13, '........abaa##dcdaa', 224)\n",
      " ->('S_unmark_x', 14, '........abaa##dcdaa', 223)\n",
      " ->('S_unmark_x', 15, '........abaa##bcdaa', 222)\n",
      " ->('S_unmark_x', 16, '........abaa##badaa', 221)\n",
      " ->('S_unmark_x', 17, '........abaa##babaa', 220)\n",
      " ->('S_go_to_start_of_x', 16, '........abaa##babaa', 219)\n",
      " ->('S_go_to_start_of_x', 15, '........abaa##babaa', 218)\n",
      " ->('S_go_to_start_of_x', 14, '........abaa##babaa', 217)\n",
      " ->('S_go_to_start_of_x', 13, '........abaa##babaa', 216)\n",
      " ->('S_next_in_x', 14, '........abaa##babaa', 215)\n",
      " ->('S_go_to_compare_b', 13, '........abaa###abaa', 214)\n",
      " ->('S_go_to_compare_b', 12, '........abaa###abaa', 213)\n",
      " ->('S_go_to_compare_b', 11, '........abaa###abaa', 212)\n",
      " ->('S_go_to_compare_b', 10, '........abaa###abaa', 211)\n",
      " ->('S_go_to_compare_b', 9, '........abaa###abaa', 210)\n",
      " ->('S_go_to_compare_b', 8, '........abaa###abaa', 209)\n",
      " ->('S_go_to_compare_b', 7, '........abaa###abaa', 208)\n",
      " ->('S_compare_b', 8, '........abaa###abaa', 207)\n",
      " ->('S_go_to_start_of_w', 7, '........abaa###abaa', 206)\n",
      " ->('S_unmark_w', 8, '........abaa###abaa', 205)\n",
      " ->('S_unmark_w', 9, '........abaa###abaa', 204)\n",
      " ->('S_unmark_w', 10, '........abaa###abaa', 203)\n",
      " ->('S_unmark_w', 11, '........abaa###abaa', 202)\n",
      " ->('S_unmark_w', 12, '........abaa###abaa', 201)\n",
      " ->('S_unmark_x', 13, '........abaa###abaa', 200)\n",
      " ->('S_unmark_x', 14, '........abaa###abaa', 199)\n",
      " ->('S_unmark_x', 15, '........abaa###abaa', 198)\n",
      " ->('S_go_to_start_of_x', 14, '........abaa###abaa', 197)\n",
      " ->('S_next_in_x', 15, '........abaa###abaa', 196)\n",
      " ->('S_go_to_compare_a', 14, '........abaa####baa', 195)\n",
      " ->('S_go_to_compare_a', 13, '........abaa####baa', 194)\n",
      " ->('S_go_to_compare_a', 12, '........abaa####baa', 193)\n",
      " ->('S_go_to_compare_a', 11, '........abaa####baa', 192)\n",
      " ->('S_go_to_compare_a', 10, '........abaa####baa', 191)\n",
      " ->('S_go_to_compare_a', 9, '........abaa####baa', 190)\n",
      " ->('S_go_to_compare_a', 8, '........abaa####baa', 189)\n",
      " ->('S_go_to_compare_a', 7, '........abaa####baa', 188)\n",
      " ->('S_compare_a', 8, '........abaa####baa', 187)\n",
      " ->('S_check_if_finished', 9, '........cbaa####baa', 186)\n",
      " ->('S_go_to_end_of_w', 10, '........cbaa####baa', 185)\n",
      " ->('S_go_to_end_of_w', 11, '........cbaa####baa', 184)\n",
      " ->('S_go_to_end_of_w', 12, '........cbaa####baa', 183)\n",
      " ->('S_find_first_unmarked_in_x', 13, '........cbaa####baa', 182)\n",
      " ->('S_find_first_unmarked_in_x', 14, '........cbaa####baa', 181)\n",
      " ->('S_find_first_unmarked_in_x', 15, '........cbaa####baa', 180)\n",
      " ->('S_find_first_unmarked_in_x', 16, '........cbaa####baa', 179)\n",
      " ->('S_go_to_compare_b_exit_first', 15, '........cbaa####daa', 178)\n",
      " ->('S_go_to_compare_b', 14, '........cbaa####daa', 177)\n",
      " ->('S_go_to_compare_b', 13, '........cbaa####daa', 176)\n",
      " ->('S_go_to_compare_b', 12, '........cbaa####daa', 175)\n",
      " ->('S_go_to_compare_b', 11, '........cbaa####daa', 174)\n",
      " ->('S_go_to_compare_b', 10, '........cbaa####daa', 173)\n",
      " ->('S_go_to_compare_b', 9, '........cbaa####daa', 172)\n",
      " ->('S_go_to_compare_b', 8, '........cbaa####daa', 171)\n",
      " ->('S_compare_b', 9, '........cbaa####daa', 170)\n",
      " ->('S_check_if_finished', 10, '........cdaa####daa', 169)\n",
      " ->('S_go_to_end_of_w', 11, '........cdaa####daa', 168)\n",
      " ->('S_go_to_end_of_w', 12, '........cdaa####daa', 167)\n",
      " ->('S_find_first_unmarked_in_x', 13, '........cdaa####daa', 166)\n",
      " ->('S_find_first_unmarked_in_x', 14, '........cdaa####daa', 165)\n",
      " ->('S_find_first_unmarked_in_x', 15, '........cdaa####daa', 164)\n",
      " ->('S_find_first_unmarked_in_x', 16, '........cdaa####daa', 163)\n",
      " ->('S_find_first_unmarked_in_x', 17, '........cdaa####daa', 162)\n",
      " ->('S_go_to_compare_a_exit_first', 16, '........cdaa####dca', 161)\n",
      " ->('S_go_to_compare_a_exit_first', 15, '........cdaa####dca', 160)\n",
      " ->('S_go_to_compare_a', 14, '........cdaa####dca', 159)\n",
      " ->('S_go_to_compare_a', 13, '........cdaa####dca', 158)\n",
      " ->('S_go_to_compare_a', 12, '........cdaa####dca', 157)\n",
      " ->('S_go_to_compare_a', 11, '........cdaa####dca', 156)\n",
      " ->('S_go_to_compare_a', 10, '........cdaa####dca', 155)\n",
      " ->('S_go_to_compare_a', 9, '........cdaa####dca', 154)\n",
      " ->('S_compare_a', 10, '........cdaa####dca', 153)\n",
      " ->('S_check_if_finished', 11, '........cdca####dca', 152)\n",
      " ->('S_go_to_end_of_w', 12, '........cdca####dca', 151)\n",
      " ->('S_find_first_unmarked_in_x', 13, '........cdca####dca', 150)\n",
      " ->('S_find_first_unmarked_in_x', 14, '........cdca####dca', 149)\n",
      " ->('S_find_first_unmarked_in_x', 15, '........cdca####dca', 148)\n",
      " ->('S_find_first_unmarked_in_x', 16, '........cdca####dca', 147)\n",
      " ->('S_find_first_unmarked_in_x', 17, '........cdca####dca', 146)\n",
      " ->('S_find_first_unmarked_in_x', 18, '........cdca####dca', 145)\n",
      " ->('S_go_to_compare_a_exit_first', 17, '........cdca####dcc', 144)\n",
      " ->('S_go_to_compare_a_exit_first', 16, '........cdca####dcc', 143)\n",
      " ->('S_go_to_compare_a_exit_first', 15, '........cdca####dcc', 142)\n",
      " ->('S_go_to_compare_a', 14, '........cdca####dcc', 141)\n",
      " ->('S_go_to_compare_a', 13, '........cdca####dcc', 140)\n",
      " ->('S_go_to_compare_a', 12, '........cdca####dcc', 139)\n",
      " ->('S_go_to_compare_a', 11, '........cdca####dcc', 138)\n",
      " ->('S_go_to_compare_a', 10, '........cdca####dcc', 137)\n",
      " ->('S_compare_a', 11, '........cdca####dcc', 136)\n",
      " ->('S_check_if_finished', 12, '........cdcc####dcc', 135)\n",
      " ->('F_accept', 12, '........cdcc####dcc', 134)\n"
     ]
    }
   ],
   "source": [
    "# should accept\n",
    "explore_tm(Asg9DTM, \"abaa#ababaa\", 288)"
   ]
  },
  {
   "cell_type": "code",
   "execution_count": 92,
   "metadata": {},
   "outputs": [
    {
     "output_type": "stream",
     "name": "stdout",
     "text": [
      "Allocating  8  tape cells to the LEFT!\nDetailing the halted configs now.\nAccepted at  ('F_accept', 11, '........cdd#######dd', 73)\n via .. \n ->('I_check_empty_w', 0, 'abb#bbabaabb', 288)\n ->('S_unmark_w', 0, 'abb#bbabaabb', 287)\n ->('S_unmark_w', 1, 'abb#bbabaabb', 286)\n ->('S_unmark_w', 2, 'abb#bbabaabb', 285)\n ->('S_unmark_w', 3, 'abb#bbabaabb', 284)\n ->('S_unmark_x', 4, 'abb#bbabaabb', 283)\n ->('S_go_to_start_of_x', 3, 'abb#bbabaabb', 282)\n ->('S_next_in_x', 4, 'abb#bbabaabb', 281)\n ->('S_go_to_compare_b', 3, 'abb##babaabb', 280)\n ->('S_go_to_compare_b', 2, 'abb##babaabb', 279)\n ->('S_go_to_compare_b', 1, 'abb##babaabb', 278)\n ->('S_go_to_compare_b', 0, 'abb##babaabb', 277)\n ->('S_go_to_compare_b', 7, '........abb##babaabb', 276)\n ->('S_compare_b', 8, '........abb##babaabb', 275)\n ->('S_go_to_start_of_w', 7, '........abb##babaabb', 274)\n ->('S_unmark_w', 8, '........abb##babaabb', 273)\n ->('S_unmark_w', 9, '........abb##babaabb', 272)\n ->('S_unmark_w', 10, '........abb##babaabb', 271)\n ->('S_unmark_w', 11, '........abb##babaabb', 270)\n ->('S_unmark_x', 12, '........abb##babaabb', 269)\n ->('S_unmark_x', 13, '........abb##babaabb', 268)\n ->('S_go_to_start_of_x', 12, '........abb##babaabb', 267)\n ->('S_next_in_x', 13, '........abb##babaabb', 266)\n ->('S_go_to_compare_b', 12, '........abb###abaabb', 265)\n ->('S_go_to_compare_b', 11, '........abb###abaabb', 264)\n ->('S_go_to_compare_b', 10, '........abb###abaabb', 263)\n ->('S_go_to_compare_b', 9, '........abb###abaabb', 262)\n ->('S_go_to_compare_b', 8, '........abb###abaabb', 261)\n ->('S_go_to_compare_b', 7, '........abb###abaabb', 260)\n ->('S_compare_b', 8, '........abb###abaabb', 259)\n ->('S_go_to_start_of_w', 7, '........abb###abaabb', 258)\n ->('S_unmark_w', 8, '........abb###abaabb', 257)\n ->('S_unmark_w', 9, '........abb###abaabb', 256)\n ->('S_unmark_w', 10, '........abb###abaabb', 255)\n ->('S_unmark_w', 11, '........abb###abaabb', 254)\n ->('S_unmark_x', 12, '........abb###abaabb', 253)\n ->('S_unmark_x', 13, '........abb###abaabb', 252)\n ->('S_unmark_x', 14, '........abb###abaabb', 251)\n ->('S_go_to_start_of_x', 13, '........abb###abaabb', 250)\n ->('S_next_in_x', 14, '........abb###abaabb', 249)\n ->('S_go_to_compare_a', 13, '........abb####baabb', 248)\n ->('S_go_to_compare_a', 12, '........abb####baabb', 247)\n ->('S_go_to_compare_a', 11, '........abb####baabb', 246)\n ->('S_go_to_compare_a', 10, '........abb####baabb', 245)\n ->('S_go_to_compare_a', 9, '........abb####baabb', 244)\n ->('S_go_to_compare_a', 8, '........abb####baabb', 243)\n ->('S_go_to_compare_a', 7, '........abb####baabb', 242)\n ->('S_compare_a', 8, '........abb####baabb', 241)\n ->('S_check_if_finished', 9, '........cbb####baabb', 240)\n ->('S_go_to_end_of_w', 10, '........cbb####baabb', 239)\n ->('S_go_to_end_of_w', 11, '........cbb####baabb', 238)\n ->('S_find_first_unmarked_in_x', 12, '........cbb####baabb', 237)\n ->('S_find_first_unmarked_in_x', 13, '........cbb####baabb', 236)\n ->('S_find_first_unmarked_in_x', 14, '........cbb####baabb', 235)\n ->('S_find_first_unmarked_in_x', 15, '........cbb####baabb', 234)\n ->('S_go_to_compare_b_exit_first', 14, '........cbb####daabb', 233)\n ->('S_go_to_compare_b', 13, '........cbb####daabb', 232)\n ->('S_go_to_compare_b', 12, '........cbb####daabb', 231)\n ->('S_go_to_compare_b', 11, '........cbb####daabb', 230)\n ->('S_go_to_compare_b', 10, '........cbb####daabb', 229)\n ->('S_go_to_compare_b', 9, '........cbb####daabb', 228)\n ->('S_go_to_compare_b', 8, '........cbb####daabb', 227)\n ->('S_compare_b', 9, '........cbb####daabb', 226)\n ->('S_check_if_finished', 10, '........cdb####daabb', 225)\n ->('S_go_to_end_of_w', 11, '........cdb####daabb', 224)\n ->('S_find_first_unmarked_in_x', 12, '........cdb####daabb', 223)\n ->('S_find_first_unmarked_in_x', 13, '........cdb####daabb', 222)\n ->('S_find_first_unmarked_in_x', 14, '........cdb####daabb', 221)\n ->('S_find_first_unmarked_in_x', 15, '........cdb####daabb', 220)\n ->('S_find_first_unmarked_in_x', 16, '........cdb####daabb', 219)\n ->('S_go_to_compare_a_exit_first', 15, '........cdb####dcabb', 218)\n ->('S_go_to_compare_a_exit_first', 14, '........cdb####dcabb', 217)\n ->('S_go_to_compare_a', 13, '........cdb####dcabb', 216)\n ->('S_go_to_compare_a', 12, '........cdb####dcabb', 215)\n ->('S_go_to_compare_a', 11, '........cdb####dcabb', 214)\n ->('S_go_to_compare_a', 10, '........cdb####dcabb', 213)\n ->('S_go_to_compare_a', 9, '........cdb####dcabb', 212)\n ->('S_compare_a', 10, '........cdb####dcabb', 211)\n ->('S_go_to_start_of_w', 9, '........cdb####dcabb', 210)\n ->('S_go_to_start_of_w', 8, '........cdb####dcabb', 209)\n ->('S_go_to_start_of_w', 7, '........cdb####dcabb', 208)\n ->('S_unmark_w', 8, '........cdb####dcabb', 207)\n ->('S_unmark_w', 9, '........adb####dcabb', 206)\n ->('S_unmark_w', 10, '........abb####dcabb', 205)\n ->('S_unmark_w', 11, '........abb####dcabb', 204)\n ->('S_unmark_x', 12, '........abb####dcabb', 203)\n ->('S_unmark_x', 13, '........abb####dcabb', 202)\n ->('S_unmark_x', 14, '........abb####dcabb', 201)\n ->('S_unmark_x', 15, '........abb####dcabb', 200)\n ->('S_unmark_x', 16, '........abb####bcabb', 199)\n ->('S_unmark_x', 17, '........abb####baabb', 198)\n ->('S_go_to_start_of_x', 16, '........abb####baabb', 197)\n ->('S_go_to_start_of_x', 15, '........abb####baabb', 196)\n ->('S_go_to_start_of_x', 14, '........abb####baabb', 195)\n ->('S_next_in_x', 15, '........abb####baabb', 194)\n ->('S_go_to_compare_b', 14, '........abb#####aabb', 193)\n ->('S_go_to_compare_b', 13, '........abb#####aabb', 192)\n ->('S_go_to_compare_b', 12, '........abb#####aabb', 191)\n ->('S_go_to_compare_b', 11, '........abb#####aabb', 190)\n ->('S_go_to_compare_b', 10, '........abb#####aabb', 189)\n ->('S_go_to_compare_b', 9, '........abb#####aabb', 188)\n ->('S_go_to_compare_b', 8, '........abb#####aabb', 187)\n ->('S_go_to_compare_b', 7, '........abb#####aabb', 186)\n ->('S_compare_b', 8, '........abb#####aabb', 185)\n ->('S_go_to_start_of_w', 7, '........abb#####aabb', 184)\n ->('S_unmark_w', 8, '........abb#####aabb', 183)\n ->('S_unmark_w', 9, '........abb#####aabb', 182)\n ->('S_unmark_w', 10, '........abb#####aabb', 181)\n ->('S_unmark_w', 11, '........abb#####aabb', 180)\n ->('S_unmark_x', 12, '........abb#####aabb', 179)\n ->('S_unmark_x', 13, '........abb#####aabb', 178)\n ->('S_unmark_x', 14, '........abb#####aabb', 177)\n ->('S_unmark_x', 15, '........abb#####aabb', 176)\n ->('S_unmark_x', 16, '........abb#####aabb', 175)\n ->('S_go_to_start_of_x', 15, '........abb#####aabb', 174)\n ->('S_next_in_x', 16, '........abb#####aabb', 173)\n ->('S_go_to_compare_a', 15, '........abb######abb', 172)\n ->('S_go_to_compare_a', 14, '........abb######abb', 171)\n ->('S_go_to_compare_a', 13, '........abb######abb', 170)\n ->('S_go_to_compare_a', 12, '........abb######abb', 169)\n ->('S_go_to_compare_a', 11, '........abb######abb', 168)\n ->('S_go_to_compare_a', 10, '........abb######abb', 167)\n ->('S_go_to_compare_a', 9, '........abb######abb', 166)\n ->('S_go_to_compare_a', 8, '........abb######abb', 165)\n ->('S_go_to_compare_a', 7, '........abb######abb', 164)\n ->('S_compare_a', 8, '........abb######abb', 163)\n ->('S_check_if_finished', 9, '........cbb######abb', 162)\n ->('S_go_to_end_of_w', 10, '........cbb######abb', 161)\n ->('S_go_to_end_of_w', 11, '........cbb######abb', 160)\n ->('S_find_first_unmarked_in_x', 12, '........cbb######abb', 159)\n ->('S_find_first_unmarked_in_x', 13, '........cbb######abb', 158)\n ->('S_find_first_unmarked_in_x', 14, '........cbb######abb', 157)\n ->('S_find_first_unmarked_in_x', 15, '........cbb######abb', 156)\n ->('S_find_first_unmarked_in_x', 16, '........cbb######abb', 155)\n ->('S_find_first_unmarked_in_x', 17, '........cbb######abb', 154)\n ->('S_go_to_compare_a_exit_first', 16, '........cbb######cbb', 153)\n ->('S_go_to_compare_a', 15, '........cbb######cbb', 152)\n ->('S_go_to_compare_a', 14, '........cbb######cbb', 151)\n ->('S_go_to_compare_a', 13, '........cbb######cbb', 150)\n ->('S_go_to_compare_a', 12, '........cbb######cbb', 149)\n ->('S_go_to_compare_a', 11, '........cbb######cbb', 148)\n ->('S_go_to_compare_a', 10, '........cbb######cbb', 147)\n ->('S_go_to_compare_a', 9, '........cbb######cbb', 146)\n ->('S_go_to_compare_a', 8, '........cbb######cbb', 145)\n ->('S_compare_a', 9, '........cbb######cbb', 144)\n ->('S_go_to_start_of_w', 8, '........cbb######cbb', 143)\n ->('S_go_to_start_of_w', 7, '........cbb######cbb', 142)\n ->('S_unmark_w', 8, '........cbb######cbb', 141)\n ->('S_unmark_w', 9, '........abb######cbb', 140)\n ->('S_unmark_w', 10, '........abb######cbb', 139)\n ->('S_unmark_w', 11, '........abb######cbb', 138)\n ->('S_unmark_x', 12, '........abb######cbb', 137)\n ->('S_unmark_x', 13, '........abb######cbb', 136)\n ->('S_unmark_x', 14, '........abb######cbb', 135)\n ->('S_unmark_x', 15, '........abb######cbb', 134)\n ->('S_unmark_x', 16, '........abb######cbb', 133)\n ->('S_unmark_x', 17, '........abb######cbb', 132)\n ->('S_unmark_x', 18, '........abb######abb', 131)\n ->('S_go_to_start_of_x', 17, '........abb######abb', 130)\n ->('S_go_to_start_of_x', 16, '........abb######abb', 129)\n ->('S_next_in_x', 17, '........abb######abb', 128)\n ->('S_go_to_compare_a', 16, '........abb#######bb', 127)\n ->('S_go_to_compare_a', 15, '........abb#######bb', 126)\n ->('S_go_to_compare_a', 14, '........abb#######bb', 125)\n ->('S_go_to_compare_a', 13, '........abb#######bb', 124)\n ->('S_go_to_compare_a', 12, '........abb#######bb', 123)\n ->('S_go_to_compare_a', 11, '........abb#######bb', 122)\n ->('S_go_to_compare_a', 10, '........abb#######bb', 121)\n ->('S_go_to_compare_a', 9, '........abb#######bb', 120)\n ->('S_go_to_compare_a', 8, '........abb#######bb', 119)\n ->('S_go_to_compare_a', 7, '........abb#######bb', 118)\n ->('S_compare_a', 8, '........abb#######bb', 117)\n ->('S_check_if_finished', 9, '........cbb#######bb', 116)\n ->('S_go_to_end_of_w', 10, '........cbb#######bb', 115)\n ->('S_go_to_end_of_w', 11, '........cbb#######bb', 114)\n ->('S_find_first_unmarked_in_x', 12, '........cbb#######bb', 113)\n ->('S_find_first_unmarked_in_x', 13, '........cbb#######bb', 112)\n ->('S_find_first_unmarked_in_x', 14, '........cbb#######bb', 111)\n ->('S_find_first_unmarked_in_x', 15, '........cbb#######bb', 110)\n ->('S_find_first_unmarked_in_x', 16, '........cbb#######bb', 109)\n ->('S_find_first_unmarked_in_x', 17, '........cbb#######bb', 108)\n ->('S_find_first_unmarked_in_x', 18, '........cbb#######bb', 107)\n ->('S_go_to_compare_b_exit_first', 17, '........cbb#######db', 106)\n ->('S_go_to_compare_b', 16, '........cbb#######db', 105)\n ->('S_go_to_compare_b', 15, '........cbb#######db', 104)\n ->('S_go_to_compare_b', 14, '........cbb#######db', 103)\n ->('S_go_to_compare_b', 13, '........cbb#######db', 102)\n ->('S_go_to_compare_b', 12, '........cbb#######db', 101)\n ->('S_go_to_compare_b', 11, '........cbb#######db', 100)\n ->('S_go_to_compare_b', 10, '........cbb#######db', 99)\n ->('S_go_to_compare_b', 9, '........cbb#######db', 98)\n ->('S_go_to_compare_b', 8, '........cbb#######db', 97)\n ->('S_compare_b', 9, '........cbb#######db', 96)\n ->('S_check_if_finished', 10, '........cdb#######db', 95)\n ->('S_go_to_end_of_w', 11, '........cdb#######db', 94)\n ->('S_find_first_unmarked_in_x', 12, '........cdb#######db', 93)\n ->('S_find_first_unmarked_in_x', 13, '........cdb#######db', 92)\n ->('S_find_first_unmarked_in_x', 14, '........cdb#######db', 91)\n ->('S_find_first_unmarked_in_x', 15, '........cdb#######db', 90)\n ->('S_find_first_unmarked_in_x', 16, '........cdb#######db', 89)\n ->('S_find_first_unmarked_in_x', 17, '........cdb#######db', 88)\n ->('S_find_first_unmarked_in_x', 18, '........cdb#######db', 87)\n ->('S_find_first_unmarked_in_x', 19, '........cdb#######db', 86)\n ->('S_go_to_compare_b_exit_first', 18, '........cdb#######dd', 85)\n ->('S_go_to_compare_b_exit_first', 17, '........cdb#######dd', 84)\n ->('S_go_to_compare_b', 16, '........cdb#######dd', 83)\n ->('S_go_to_compare_b', 15, '........cdb#######dd', 82)\n ->('S_go_to_compare_b', 14, '........cdb#######dd', 81)\n ->('S_go_to_compare_b', 13, '........cdb#######dd', 80)\n ->('S_go_to_compare_b', 12, '........cdb#######dd', 79)\n ->('S_go_to_compare_b', 11, '........cdb#######dd', 78)\n ->('S_go_to_compare_b', 10, '........cdb#######dd', 77)\n ->('S_go_to_compare_b', 9, '........cdb#######dd', 76)\n ->('S_compare_b', 10, '........cdb#######dd', 75)\n ->('S_check_if_finished', 11, '........cdd#######dd', 74)\n ->('F_accept', 11, '........cdd#######dd', 73)\n"
     ]
    }
   ],
   "source": [
    "# should accept\n",
    "explore_tm(Asg9DTM, \"abb#bbabaabb\", 288)"
   ]
  },
  {
   "cell_type": "markdown",
   "metadata": {},
   "source": [
    "# Asg9 NDTM for w#x where w is a substring of x"
   ]
  },
  {
   "cell_type": "code",
   "execution_count": 127,
   "metadata": {
    "run_control": {
     "frozen": false,
     "read_only": false
    }
   },
   "outputs": [],
   "source": [
    "# w#x NDTM\n",
    " \n",
    "\n",
    "Asg9NDTM = md2mc('''TM\n",
    "\n",
    "I_check_empty_w: #; #, S -> F_accept\n",
    "I_check_empty_w: a; a, S -> S_leave_w\n",
    "I_check_empty_w: b; b, S -> S_leave_w\n",
    "\n",
    "S_leave_w: a; a, R -> S_leave_w\n",
    "S_leave_w: b; b, R -> S_leave_w\n",
    "S_leave_w: #; #, R -> S_next_in_x\n",
    "\n",
    "!! ------ NON-DETERMINISM STARTS -------------------------------------\n",
    "!! Take a guess: always move on to the next character and assume that\n",
    "!!   that's the start of the substring `w` instead.\n",
    "S_next_in_x: a; #, R -> S_next_in_x\n",
    "S_next_in_x: b; #, R -> S_next_in_x\n",
    "!! ------ NON-DETERMINISM ENDS ---------------------------------------\n",
    "S_next_in_x: a; #, L -> S_go_to_compare_a\n",
    "S_next_in_x: b; #, L -> S_go_to_compare_b\n",
    "\n",
    "S_go_to_compare_a: #; #, L -> S_go_to_compare_a\n",
    "S_go_to_compare_a: a; a, L -> S_go_to_compare_a\n",
    "S_go_to_compare_a: b; b, L -> S_go_to_compare_a\n",
    "S_go_to_compare_a: c; c, R -> S_compare_a\n",
    "S_go_to_compare_a: d; d, R -> S_compare_a\n",
    "S_go_to_compare_a: .; ., R -> S_compare_a\n",
    "\n",
    "S_go_to_compare_b: #; #, L -> S_go_to_compare_b\n",
    "S_go_to_compare_b: a; a, L -> S_go_to_compare_b\n",
    "S_go_to_compare_b: b; b, L -> S_go_to_compare_b\n",
    "S_go_to_compare_b: c; c, R -> S_compare_b\n",
    "S_go_to_compare_b: d; d, R -> S_compare_b\n",
    "S_go_to_compare_b: .; ., R -> S_compare_b\n",
    "\n",
    "S_compare_a: a; c, R -> S_check_if_finished\n",
    "\n",
    "S_compare_b: b; d, R -> S_check_if_finished\n",
    "\n",
    "S_check_if_finished: #; #, S -> F_accept\n",
    "S_check_if_finished: a; a, R -> S_go_to_end_of_w\n",
    "S_check_if_finished: b; b, R -> S_go_to_end_of_w\n",
    "\n",
    "S_go_to_end_of_w: a; a, R -> S_go_to_end_of_w\n",
    "S_go_to_end_of_w: b; b, R -> S_go_to_end_of_w\n",
    "S_go_to_end_of_w: #; #, R -> S_find_first_unmarked_in_x\n",
    "\n",
    "S_find_first_unmarked_in_x: #; #, R -> S_find_first_unmarked_in_x\n",
    "S_find_first_unmarked_in_x: c; c, R -> S_find_first_unmarked_in_x\n",
    "S_find_first_unmarked_in_x: d; d, R -> S_find_first_unmarked_in_x\n",
    "S_find_first_unmarked_in_x: a; c, L -> S_go_to_compare_a_exit_first\n",
    "S_find_first_unmarked_in_x: b; d, L -> S_go_to_compare_b_exit_first\n",
    "\n",
    "S_go_to_compare_a_exit_first: c; c, L -> S_go_to_compare_a_exit_first\n",
    "S_go_to_compare_a_exit_first: d; d, L -> S_go_to_compare_a_exit_first\n",
    "S_go_to_compare_a_exit_first: #; #, L -> S_go_to_compare_a\n",
    "\n",
    "S_go_to_compare_b_exit_first: c; c, L -> S_go_to_compare_b_exit_first\n",
    "S_go_to_compare_b_exit_first: d; d, L -> S_go_to_compare_b_exit_first\n",
    "S_go_to_compare_b_exit_first: #; #, L -> S_go_to_compare_b\n",
    "\n",
    "''')\n"
   ]
  },
  {
   "cell_type": "markdown",
   "metadata": {},
   "source": [
    "# Tests for the NDTM\n",
    "\n",
    "## For an NDTM, one takes the max fuel across all accepting computations \n",
    "## (This defines the ND time complexity, leading to definitions such as NP)\n",
    "\n",
    "### (a) aba#aba       – pass -- FUEL CONSUMED = 35 accepted, 22 rejected\n",
    "### (b) aba#ab           – fail  -- FUEL CONSUMED = 27 rejected\n",
    "### (c) aba#baba    – pass  -- FUEL CONSUMED = 41 accepted, 25 rejected\n",
    "### (d) aba#babba      – fail -- FUEL CONSUMED = 39 rejected\n",
    "### (e) bba#bbabba – pass -- FUEL CONSUMED = 53 accepted, 38 rejected\n",
    "\n",
    "\n",
    "### Please include five more tests of your own, in the space below"
   ]
  },
  {
   "cell_type": "code",
   "execution_count": 128,
   "metadata": {
    "tags": []
   },
   "outputs": [
    {
     "output_type": "stream",
     "name": "stdout",
     "text": [
      "Allocating  8  tape cells to the LEFT!\nAllocating  8  tape cells to the LEFT!\nAllocating  8  tape cells to the RIGHT!\nAllocating  8  tape cells to the RIGHT!\nAllocating  8  tape cells to the LEFT!\nDetailing the halted configs now.\nAccepted at  ('F_accept', 11, '........cdc##dc', 109)\n via .. \n ->('I_check_empty_w', 0, 'aba#aba', 144)\n ->('S_leave_w', 0, 'aba#aba', 143)\n ->('S_leave_w', 1, 'aba#aba', 142)\n ->('S_leave_w', 2, 'aba#aba', 141)\n ->('S_leave_w', 3, 'aba#aba', 140)\n ->('S_next_in_x', 4, 'aba#aba', 139)\n ->('S_go_to_compare_a', 3, 'aba##ba', 138)\n ->('S_go_to_compare_a', 2, 'aba##ba', 137)\n ->('S_go_to_compare_a', 1, 'aba##ba', 136)\n ->('S_go_to_compare_a', 0, 'aba##ba', 135)\n ->('S_go_to_compare_a', 7, '........aba##ba', 134)\n ->('S_compare_a', 8, '........aba##ba', 133)\n ->('S_check_if_finished', 9, '........cba##ba', 132)\n ->('S_go_to_end_of_w', 10, '........cba##ba', 131)\n ->('S_go_to_end_of_w', 11, '........cba##ba', 130)\n ->('S_find_first_unmarked_in_x', 12, '........cba##ba', 129)\n ->('S_find_first_unmarked_in_x', 13, '........cba##ba', 128)\n ->('S_go_to_compare_b_exit_first', 12, '........cba##da', 127)\n ->('S_go_to_compare_b', 11, '........cba##da', 126)\n ->('S_go_to_compare_b', 10, '........cba##da', 125)\n ->('S_go_to_compare_b', 9, '........cba##da', 124)\n ->('S_go_to_compare_b', 8, '........cba##da', 123)\n ->('S_compare_b', 9, '........cba##da', 122)\n ->('S_check_if_finished', 10, '........cda##da', 121)\n ->('S_go_to_end_of_w', 11, '........cda##da', 120)\n ->('S_find_first_unmarked_in_x', 12, '........cda##da', 119)\n ->('S_find_first_unmarked_in_x', 13, '........cda##da', 118)\n ->('S_find_first_unmarked_in_x', 14, '........cda##da', 117)\n ->('S_go_to_compare_a_exit_first', 13, '........cda##dc', 116)\n ->('S_go_to_compare_a_exit_first', 12, '........cda##dc', 115)\n ->('S_go_to_compare_a', 11, '........cda##dc', 114)\n ->('S_go_to_compare_a', 10, '........cda##dc', 113)\n ->('S_go_to_compare_a', 9, '........cda##dc', 112)\n ->('S_compare_a', 10, '........cda##dc', 111)\n ->('S_check_if_finished', 11, '........cdc##dc', 110)\n ->('F_accept', 11, '........cdc##dc', 109)\nRejected at  ('S_find_first_unmarked_in_x', 15, '........cba####', 122)\n via .. \n ->('I_check_empty_w', 0, 'aba#aba', 144)\n ->('S_leave_w', 0, 'aba#aba', 143)\n ->('S_leave_w', 1, 'aba#aba', 142)\n ->('S_leave_w', 2, 'aba#aba', 141)\n ->('S_leave_w', 3, 'aba#aba', 140)\n ->('S_next_in_x', 4, 'aba#aba', 139)\n ->('S_next_in_x', 5, 'aba##ba', 138)\n ->('S_next_in_x', 6, 'aba###a', 137)\n ->('S_go_to_compare_a', 5, 'aba####', 136)\n ->('S_go_to_compare_a', 4, 'aba####', 135)\n ->('S_go_to_compare_a', 3, 'aba####', 134)\n ->('S_go_to_compare_a', 2, 'aba####', 133)\n ->('S_go_to_compare_a', 1, 'aba####', 132)\n ->('S_go_to_compare_a', 0, 'aba####', 131)\n ->('S_go_to_compare_a', 7, '........aba####', 130)\n ->('S_compare_a', 8, '........aba####', 129)\n ->('S_check_if_finished', 9, '........cba####', 128)\n ->('S_go_to_end_of_w', 10, '........cba####', 127)\n ->('S_go_to_end_of_w', 11, '........cba####', 126)\n ->('S_find_first_unmarked_in_x', 12, '........cba####', 125)\n ->('S_find_first_unmarked_in_x', 13, '........cba####', 124)\n ->('S_find_first_unmarked_in_x', 14, '........cba####', 123)\n ->('S_find_first_unmarked_in_x', 15, '........cba####', 122)\nRejected at  ('S_next_in_x', 7, 'aba####', 136)\n via .. \n ->('I_check_empty_w', 0, 'aba#aba', 144)\n ->('S_leave_w', 0, 'aba#aba', 143)\n ->('S_leave_w', 1, 'aba#aba', 142)\n ->('S_leave_w', 2, 'aba#aba', 141)\n ->('S_leave_w', 3, 'aba#aba', 140)\n ->('S_next_in_x', 4, 'aba#aba', 139)\n ->('S_next_in_x', 5, 'aba##ba', 138)\n ->('S_next_in_x', 6, 'aba###a', 137)\n ->('S_next_in_x', 7, 'aba####', 136)\nRejected at  ('S_compare_b', 8, '........aba###a', 131)\n via .. \n ->('I_check_empty_w', 0, 'aba#aba', 144)\n ->('S_leave_w', 0, 'aba#aba', 143)\n ->('S_leave_w', 1, 'aba#aba', 142)\n ->('S_leave_w', 2, 'aba#aba', 141)\n ->('S_leave_w', 3, 'aba#aba', 140)\n ->('S_next_in_x', 4, 'aba#aba', 139)\n ->('S_next_in_x', 5, 'aba##ba', 138)\n ->('S_go_to_compare_b', 4, 'aba###a', 137)\n ->('S_go_to_compare_b', 3, 'aba###a', 136)\n ->('S_go_to_compare_b', 2, 'aba###a', 135)\n ->('S_go_to_compare_b', 1, 'aba###a', 134)\n ->('S_go_to_compare_b', 0, 'aba###a', 133)\n ->('S_go_to_compare_b', 7, '........aba###a', 132)\n ->('S_compare_b', 8, '........aba###a', 131)\n"
     ]
    }
   ],
   "source": [
    "explore_tm(Asg9NDTM, \"aba#aba\", 144)"
   ]
  },
  {
   "cell_type": "code",
   "execution_count": 129,
   "metadata": {},
   "outputs": [
    {
     "output_type": "stream",
     "name": "stdout",
     "text": [
      "Allocating  8  tape cells to the LEFT!\nAllocating  8  tape cells to the RIGHT!\nAllocating  8  tape cells to the RIGHT!\nAllocating  8  tape cells to the LEFT!\nDetailing the halted configs now.\nRejected at  ('S_find_first_unmarked_in_x', 14, '........cda##d', 117)\n via .. \n ->('I_check_empty_w', 0, 'aba#ab', 144)\n ->('S_leave_w', 0, 'aba#ab', 143)\n ->('S_leave_w', 1, 'aba#ab', 142)\n ->('S_leave_w', 2, 'aba#ab', 141)\n ->('S_leave_w', 3, 'aba#ab', 140)\n ->('S_next_in_x', 4, 'aba#ab', 139)\n ->('S_go_to_compare_a', 3, 'aba##b', 138)\n ->('S_go_to_compare_a', 2, 'aba##b', 137)\n ->('S_go_to_compare_a', 1, 'aba##b', 136)\n ->('S_go_to_compare_a', 0, 'aba##b', 135)\n ->('S_go_to_compare_a', 7, '........aba##b', 134)\n ->('S_compare_a', 8, '........aba##b', 133)\n ->('S_check_if_finished', 9, '........cba##b', 132)\n ->('S_go_to_end_of_w', 10, '........cba##b', 131)\n ->('S_go_to_end_of_w', 11, '........cba##b', 130)\n ->('S_find_first_unmarked_in_x', 12, '........cba##b', 129)\n ->('S_find_first_unmarked_in_x', 13, '........cba##b', 128)\n ->('S_go_to_compare_b_exit_first', 12, '........cba##d', 127)\n ->('S_go_to_compare_b', 11, '........cba##d', 126)\n ->('S_go_to_compare_b', 10, '........cba##d', 125)\n ->('S_go_to_compare_b', 9, '........cba##d', 124)\n ->('S_go_to_compare_b', 8, '........cba##d', 123)\n ->('S_compare_b', 9, '........cba##d', 122)\n ->('S_check_if_finished', 10, '........cda##d', 121)\n ->('S_go_to_end_of_w', 11, '........cda##d', 120)\n ->('S_find_first_unmarked_in_x', 12, '........cda##d', 119)\n ->('S_find_first_unmarked_in_x', 13, '........cda##d', 118)\n ->('S_find_first_unmarked_in_x', 14, '........cda##d', 117)\nRejected at  ('S_next_in_x', 6, 'aba###', 137)\n via .. \n ->('I_check_empty_w', 0, 'aba#ab', 144)\n ->('S_leave_w', 0, 'aba#ab', 143)\n ->('S_leave_w', 1, 'aba#ab', 142)\n ->('S_leave_w', 2, 'aba#ab', 141)\n ->('S_leave_w', 3, 'aba#ab', 140)\n ->('S_next_in_x', 4, 'aba#ab', 139)\n ->('S_next_in_x', 5, 'aba##b', 138)\n ->('S_next_in_x', 6, 'aba###', 137)\nRejected at  ('S_compare_b', 8, '........aba###', 131)\n via .. \n ->('I_check_empty_w', 0, 'aba#ab', 144)\n ->('S_leave_w', 0, 'aba#ab', 143)\n ->('S_leave_w', 1, 'aba#ab', 142)\n ->('S_leave_w', 2, 'aba#ab', 141)\n ->('S_leave_w', 3, 'aba#ab', 140)\n ->('S_next_in_x', 4, 'aba#ab', 139)\n ->('S_next_in_x', 5, 'aba##b', 138)\n ->('S_go_to_compare_b', 4, 'aba###', 137)\n ->('S_go_to_compare_b', 3, 'aba###', 136)\n ->('S_go_to_compare_b', 2, 'aba###', 135)\n ->('S_go_to_compare_b', 1, 'aba###', 134)\n ->('S_go_to_compare_b', 0, 'aba###', 133)\n ->('S_go_to_compare_b', 7, '........aba###', 132)\n ->('S_compare_b', 8, '........aba###', 131)\n"
     ]
    }
   ],
   "source": [
    "explore_tm(Asg9NDTM, \"aba#ab\", 144)"
   ]
  },
  {
   "cell_type": "code",
   "execution_count": 130,
   "metadata": {},
   "outputs": [
    {
     "output_type": "stream",
     "name": "stdout",
     "text": [
      "Allocating  8  tape cells to the LEFT!\n",
      "Allocating  8  tape cells to the LEFT!\n",
      "Allocating  8  tape cells to the RIGHT!\n",
      "Allocating  8  tape cells to the RIGHT!\n",
      "Allocating  8  tape cells to the LEFT!\n",
      "Allocating  8  tape cells to the LEFT!\n",
      "Detailing the halted configs now.\n",
      "Accepted at  ('F_accept', 11, '........cdc###dc', 103)\n",
      " via .. \n",
      " ->('I_check_empty_w', 0, 'aba#baba', 144)\n",
      " ->('S_leave_w', 0, 'aba#baba', 143)\n",
      " ->('S_leave_w', 1, 'aba#baba', 142)\n",
      " ->('S_leave_w', 2, 'aba#baba', 141)\n",
      " ->('S_leave_w', 3, 'aba#baba', 140)\n",
      " ->('S_next_in_x', 4, 'aba#baba', 139)\n",
      " ->('S_next_in_x', 5, 'aba##aba', 138)\n",
      " ->('S_go_to_compare_a', 4, 'aba###ba', 137)\n",
      " ->('S_go_to_compare_a', 3, 'aba###ba', 136)\n",
      " ->('S_go_to_compare_a', 2, 'aba###ba', 135)\n",
      " ->('S_go_to_compare_a', 1, 'aba###ba', 134)\n",
      " ->('S_go_to_compare_a', 0, 'aba###ba', 133)\n",
      " ->('S_go_to_compare_a', 7, '........aba###ba', 132)\n",
      " ->('S_compare_a', 8, '........aba###ba', 131)\n",
      " ->('S_check_if_finished', 9, '........cba###ba', 130)\n",
      " ->('S_go_to_end_of_w', 10, '........cba###ba', 129)\n",
      " ->('S_go_to_end_of_w', 11, '........cba###ba', 128)\n",
      " ->('S_find_first_unmarked_in_x', 12, '........cba###ba', 127)\n",
      " ->('S_find_first_unmarked_in_x', 13, '........cba###ba', 126)\n",
      " ->('S_find_first_unmarked_in_x', 14, '........cba###ba', 125)\n",
      " ->('S_go_to_compare_b_exit_first', 13, '........cba###da', 124)\n",
      " ->('S_go_to_compare_b', 12, '........cba###da', 123)\n",
      " ->('S_go_to_compare_b', 11, '........cba###da', 122)\n",
      " ->('S_go_to_compare_b', 10, '........cba###da', 121)\n",
      " ->('S_go_to_compare_b', 9, '........cba###da', 120)\n",
      " ->('S_go_to_compare_b', 8, '........cba###da', 119)\n",
      " ->('S_compare_b', 9, '........cba###da', 118)\n",
      " ->('S_check_if_finished', 10, '........cda###da', 117)\n",
      " ->('S_go_to_end_of_w', 11, '........cda###da', 116)\n",
      " ->('S_find_first_unmarked_in_x', 12, '........cda###da', 115)\n",
      " ->('S_find_first_unmarked_in_x', 13, '........cda###da', 114)\n",
      " ->('S_find_first_unmarked_in_x', 14, '........cda###da', 113)\n",
      " ->('S_find_first_unmarked_in_x', 15, '........cda###da', 112)\n",
      " ->('S_go_to_compare_a_exit_first', 14, '........cda###dc', 111)\n",
      " ->('S_go_to_compare_a_exit_first', 13, '........cda###dc', 110)\n",
      " ->('S_go_to_compare_a', 12, '........cda###dc', 109)\n",
      " ->('S_go_to_compare_a', 11, '........cda###dc', 108)\n",
      " ->('S_go_to_compare_a', 10, '........cda###dc', 107)\n",
      " ->('S_go_to_compare_a', 9, '........cda###dc', 106)\n",
      " ->('S_compare_a', 10, '........cda###dc', 105)\n",
      " ->('S_check_if_finished', 11, '........cdc###dc', 104)\n",
      " ->('F_accept', 11, '........cdc###dc', 103)\n",
      "Rejected at  ('S_find_first_unmarked_in_x', 16, '........cba#####', 119)\n",
      " via .. \n",
      " ->('I_check_empty_w', 0, 'aba#baba', 144)\n",
      " ->('S_leave_w', 0, 'aba#baba', 143)\n",
      " ->('S_leave_w', 1, 'aba#baba', 142)\n",
      " ->('S_leave_w', 2, 'aba#baba', 141)\n",
      " ->('S_leave_w', 3, 'aba#baba', 140)\n",
      " ->('S_next_in_x', 4, 'aba#baba', 139)\n",
      " ->('S_next_in_x', 5, 'aba##aba', 138)\n",
      " ->('S_next_in_x', 6, 'aba###ba', 137)\n",
      " ->('S_next_in_x', 7, 'aba####a', 136)\n",
      " ->('S_go_to_compare_a', 6, 'aba#####', 135)\n",
      " ->('S_go_to_compare_a', 5, 'aba#####', 134)\n",
      " ->('S_go_to_compare_a', 4, 'aba#####', 133)\n",
      " ->('S_go_to_compare_a', 3, 'aba#####', 132)\n",
      " ->('S_go_to_compare_a', 2, 'aba#####', 131)\n",
      " ->('S_go_to_compare_a', 1, 'aba#####', 130)\n",
      " ->('S_go_to_compare_a', 0, 'aba#####', 129)\n",
      " ->('S_go_to_compare_a', 7, '........aba#####', 128)\n",
      " ->('S_compare_a', 8, '........aba#####', 127)\n",
      " ->('S_check_if_finished', 9, '........cba#####', 126)\n",
      " ->('S_go_to_end_of_w', 10, '........cba#####', 125)\n",
      " ->('S_go_to_end_of_w', 11, '........cba#####', 124)\n",
      " ->('S_find_first_unmarked_in_x', 12, '........cba#####', 123)\n",
      " ->('S_find_first_unmarked_in_x', 13, '........cba#####', 122)\n",
      " ->('S_find_first_unmarked_in_x', 14, '........cba#####', 121)\n",
      " ->('S_find_first_unmarked_in_x', 15, '........cba#####', 120)\n",
      " ->('S_find_first_unmarked_in_x', 16, '........cba#####', 119)\n",
      "Rejected at  ('S_next_in_x', 8, 'aba#####', 135)\n",
      " via .. \n",
      " ->('I_check_empty_w', 0, 'aba#baba', 144)\n",
      " ->('S_leave_w', 0, 'aba#baba', 143)\n",
      " ->('S_leave_w', 1, 'aba#baba', 142)\n",
      " ->('S_leave_w', 2, 'aba#baba', 141)\n",
      " ->('S_leave_w', 3, 'aba#baba', 140)\n",
      " ->('S_next_in_x', 4, 'aba#baba', 139)\n",
      " ->('S_next_in_x', 5, 'aba##aba', 138)\n",
      " ->('S_next_in_x', 6, 'aba###ba', 137)\n",
      " ->('S_next_in_x', 7, 'aba####a', 136)\n",
      " ->('S_next_in_x', 8, 'aba#####', 135)\n",
      "Rejected at  ('S_compare_b', 8, '........aba####a', 129)\n",
      " via .. \n",
      " ->('I_check_empty_w', 0, 'aba#baba', 144)\n",
      " ->('S_leave_w', 0, 'aba#baba', 143)\n",
      " ->('S_leave_w', 1, 'aba#baba', 142)\n",
      " ->('S_leave_w', 2, 'aba#baba', 141)\n",
      " ->('S_leave_w', 3, 'aba#baba', 140)\n",
      " ->('S_next_in_x', 4, 'aba#baba', 139)\n",
      " ->('S_next_in_x', 5, 'aba##aba', 138)\n",
      " ->('S_next_in_x', 6, 'aba###ba', 137)\n",
      " ->('S_go_to_compare_b', 5, 'aba####a', 136)\n",
      " ->('S_go_to_compare_b', 4, 'aba####a', 135)\n",
      " ->('S_go_to_compare_b', 3, 'aba####a', 134)\n",
      " ->('S_go_to_compare_b', 2, 'aba####a', 133)\n",
      " ->('S_go_to_compare_b', 1, 'aba####a', 132)\n",
      " ->('S_go_to_compare_b', 0, 'aba####a', 131)\n",
      " ->('S_go_to_compare_b', 7, '........aba####a', 130)\n",
      " ->('S_compare_b', 8, '........aba####a', 129)\n",
      "Rejected at  ('S_compare_b', 8, '........aba##aba', 133)\n",
      " via .. \n",
      " ->('I_check_empty_w', 0, 'aba#baba', 144)\n",
      " ->('S_leave_w', 0, 'aba#baba', 143)\n",
      " ->('S_leave_w', 1, 'aba#baba', 142)\n",
      " ->('S_leave_w', 2, 'aba#baba', 141)\n",
      " ->('S_leave_w', 3, 'aba#baba', 140)\n",
      " ->('S_next_in_x', 4, 'aba#baba', 139)\n",
      " ->('S_go_to_compare_b', 3, 'aba##aba', 138)\n",
      " ->('S_go_to_compare_b', 2, 'aba##aba', 137)\n",
      " ->('S_go_to_compare_b', 1, 'aba##aba', 136)\n",
      " ->('S_go_to_compare_b', 0, 'aba##aba', 135)\n",
      " ->('S_go_to_compare_b', 7, '........aba##aba', 134)\n",
      " ->('S_compare_b', 8, '........aba##aba', 133)\n"
     ]
    }
   ],
   "source": [
    "explore_tm(Asg9NDTM, \"aba#baba\", 144)"
   ]
  },
  {
   "cell_type": "code",
   "execution_count": 131,
   "metadata": {},
   "outputs": [
    {
     "output_type": "stream",
     "name": "stdout",
     "text": [
      "Allocating  8  tape cells to the LEFT!\n",
      "Allocating  8  tape cells to the LEFT!\n",
      "Allocating  8  tape cells to the RIGHT!\n",
      "Allocating  8  tape cells to the RIGHT!\n",
      "Allocating  8  tape cells to the LEFT!\n",
      "Allocating  8  tape cells to the LEFT!\n",
      "Allocating  8  tape cells to the LEFT!\n",
      "Detailing the halted configs now.\n",
      "Rejected at  ('S_compare_b', 10, '........cda###dda', 105)\n",
      " via .. \n",
      " ->('I_check_empty_w', 0, 'aba#babba', 144)\n",
      " ->('S_leave_w', 0, 'aba#babba', 143)\n",
      " ->('S_leave_w', 1, 'aba#babba', 142)\n",
      " ->('S_leave_w', 2, 'aba#babba', 141)\n",
      " ->('S_leave_w', 3, 'aba#babba', 140)\n",
      " ->('S_next_in_x', 4, 'aba#babba', 139)\n",
      " ->('S_next_in_x', 5, 'aba##abba', 138)\n",
      " ->('S_go_to_compare_a', 4, 'aba###bba', 137)\n",
      " ->('S_go_to_compare_a', 3, 'aba###bba', 136)\n",
      " ->('S_go_to_compare_a', 2, 'aba###bba', 135)\n",
      " ->('S_go_to_compare_a', 1, 'aba###bba', 134)\n",
      " ->('S_go_to_compare_a', 0, 'aba###bba', 133)\n",
      " ->('S_go_to_compare_a', 7, '........aba###bba', 132)\n",
      " ->('S_compare_a', 8, '........aba###bba', 131)\n",
      " ->('S_check_if_finished', 9, '........cba###bba', 130)\n",
      " ->('S_go_to_end_of_w', 10, '........cba###bba', 129)\n",
      " ->('S_go_to_end_of_w', 11, '........cba###bba', 128)\n",
      " ->('S_find_first_unmarked_in_x', 12, '........cba###bba', 127)\n",
      " ->('S_find_first_unmarked_in_x', 13, '........cba###bba', 126)\n",
      " ->('S_find_first_unmarked_in_x', 14, '........cba###bba', 125)\n",
      " ->('S_go_to_compare_b_exit_first', 13, '........cba###dba', 124)\n",
      " ->('S_go_to_compare_b', 12, '........cba###dba', 123)\n",
      " ->('S_go_to_compare_b', 11, '........cba###dba', 122)\n",
      " ->('S_go_to_compare_b', 10, '........cba###dba', 121)\n",
      " ->('S_go_to_compare_b', 9, '........cba###dba', 120)\n",
      " ->('S_go_to_compare_b', 8, '........cba###dba', 119)\n",
      " ->('S_compare_b', 9, '........cba###dba', 118)\n",
      " ->('S_check_if_finished', 10, '........cda###dba', 117)\n",
      " ->('S_go_to_end_of_w', 11, '........cda###dba', 116)\n",
      " ->('S_find_first_unmarked_in_x', 12, '........cda###dba', 115)\n",
      " ->('S_find_first_unmarked_in_x', 13, '........cda###dba', 114)\n",
      " ->('S_find_first_unmarked_in_x', 14, '........cda###dba', 113)\n",
      " ->('S_find_first_unmarked_in_x', 15, '........cda###dba', 112)\n",
      " ->('S_go_to_compare_b_exit_first', 14, '........cda###dda', 111)\n",
      " ->('S_go_to_compare_b_exit_first', 13, '........cda###dda', 110)\n",
      " ->('S_go_to_compare_b', 12, '........cda###dda', 109)\n",
      " ->('S_go_to_compare_b', 11, '........cda###dda', 108)\n",
      " ->('S_go_to_compare_b', 10, '........cda###dda', 107)\n",
      " ->('S_go_to_compare_b', 9, '........cda###dda', 106)\n",
      " ->('S_compare_b', 10, '........cda###dda', 105)\n",
      "Rejected at  ('S_find_first_unmarked_in_x', 17, '........cba######', 116)\n",
      " via .. \n",
      " ->('I_check_empty_w', 0, 'aba#babba', 144)\n",
      " ->('S_leave_w', 0, 'aba#babba', 143)\n",
      " ->('S_leave_w', 1, 'aba#babba', 142)\n",
      " ->('S_leave_w', 2, 'aba#babba', 141)\n",
      " ->('S_leave_w', 3, 'aba#babba', 140)\n",
      " ->('S_next_in_x', 4, 'aba#babba', 139)\n",
      " ->('S_next_in_x', 5, 'aba##abba', 138)\n",
      " ->('S_next_in_x', 6, 'aba###bba', 137)\n",
      " ->('S_next_in_x', 7, 'aba####ba', 136)\n",
      " ->('S_next_in_x', 8, 'aba#####a', 135)\n",
      " ->('S_go_to_compare_a', 7, 'aba######', 134)\n",
      " ->('S_go_to_compare_a', 6, 'aba######', 133)\n",
      " ->('S_go_to_compare_a', 5, 'aba######', 132)\n",
      " ->('S_go_to_compare_a', 4, 'aba######', 131)\n",
      " ->('S_go_to_compare_a', 3, 'aba######', 130)\n",
      " ->('S_go_to_compare_a', 2, 'aba######', 129)\n",
      " ->('S_go_to_compare_a', 1, 'aba######', 128)\n",
      " ->('S_go_to_compare_a', 0, 'aba######', 127)\n",
      " ->('S_go_to_compare_a', 7, '........aba######', 126)\n",
      " ->('S_compare_a', 8, '........aba######', 125)\n",
      " ->('S_check_if_finished', 9, '........cba######', 124)\n",
      " ->('S_go_to_end_of_w', 10, '........cba######', 123)\n",
      " ->('S_go_to_end_of_w', 11, '........cba######', 122)\n",
      " ->('S_find_first_unmarked_in_x', 12, '........cba######', 121)\n",
      " ->('S_find_first_unmarked_in_x', 13, '........cba######', 120)\n",
      " ->('S_find_first_unmarked_in_x', 14, '........cba######', 119)\n",
      " ->('S_find_first_unmarked_in_x', 15, '........cba######', 118)\n",
      " ->('S_find_first_unmarked_in_x', 16, '........cba######', 117)\n",
      " ->('S_find_first_unmarked_in_x', 17, '........cba######', 116)\n",
      "Rejected at  ('S_next_in_x', 9, 'aba######', 134)\n",
      " via .. \n",
      " ->('I_check_empty_w', 0, 'aba#babba', 144)\n",
      " ->('S_leave_w', 0, 'aba#babba', 143)\n",
      " ->('S_leave_w', 1, 'aba#babba', 142)\n",
      " ->('S_leave_w', 2, 'aba#babba', 141)\n",
      " ->('S_leave_w', 3, 'aba#babba', 140)\n",
      " ->('S_next_in_x', 4, 'aba#babba', 139)\n",
      " ->('S_next_in_x', 5, 'aba##abba', 138)\n",
      " ->('S_next_in_x', 6, 'aba###bba', 137)\n",
      " ->('S_next_in_x', 7, 'aba####ba', 136)\n",
      " ->('S_next_in_x', 8, 'aba#####a', 135)\n",
      " ->('S_next_in_x', 9, 'aba######', 134)\n",
      "Rejected at  ('S_compare_b', 8, '........aba#####a', 127)\n",
      " via .. \n",
      " ->('I_check_empty_w', 0, 'aba#babba', 144)\n",
      " ->('S_leave_w', 0, 'aba#babba', 143)\n",
      " ->('S_leave_w', 1, 'aba#babba', 142)\n",
      " ->('S_leave_w', 2, 'aba#babba', 141)\n",
      " ->('S_leave_w', 3, 'aba#babba', 140)\n",
      " ->('S_next_in_x', 4, 'aba#babba', 139)\n",
      " ->('S_next_in_x', 5, 'aba##abba', 138)\n",
      " ->('S_next_in_x', 6, 'aba###bba', 137)\n",
      " ->('S_next_in_x', 7, 'aba####ba', 136)\n",
      " ->('S_go_to_compare_b', 6, 'aba#####a', 135)\n",
      " ->('S_go_to_compare_b', 5, 'aba#####a', 134)\n",
      " ->('S_go_to_compare_b', 4, 'aba#####a', 133)\n",
      " ->('S_go_to_compare_b', 3, 'aba#####a', 132)\n",
      " ->('S_go_to_compare_b', 2, 'aba#####a', 131)\n",
      " ->('S_go_to_compare_b', 1, 'aba#####a', 130)\n",
      " ->('S_go_to_compare_b', 0, 'aba#####a', 129)\n",
      " ->('S_go_to_compare_b', 7, '........aba#####a', 128)\n",
      " ->('S_compare_b', 8, '........aba#####a', 127)\n",
      "Rejected at  ('S_compare_b', 8, '........aba####ba', 129)\n",
      " via .. \n",
      " ->('I_check_empty_w', 0, 'aba#babba', 144)\n",
      " ->('S_leave_w', 0, 'aba#babba', 143)\n",
      " ->('S_leave_w', 1, 'aba#babba', 142)\n",
      " ->('S_leave_w', 2, 'aba#babba', 141)\n",
      " ->('S_leave_w', 3, 'aba#babba', 140)\n",
      " ->('S_next_in_x', 4, 'aba#babba', 139)\n",
      " ->('S_next_in_x', 5, 'aba##abba', 138)\n",
      " ->('S_next_in_x', 6, 'aba###bba', 137)\n",
      " ->('S_go_to_compare_b', 5, 'aba####ba', 136)\n",
      " ->('S_go_to_compare_b', 4, 'aba####ba', 135)\n",
      " ->('S_go_to_compare_b', 3, 'aba####ba', 134)\n",
      " ->('S_go_to_compare_b', 2, 'aba####ba', 133)\n",
      " ->('S_go_to_compare_b', 1, 'aba####ba', 132)\n",
      " ->('S_go_to_compare_b', 0, 'aba####ba', 131)\n",
      " ->('S_go_to_compare_b', 7, '........aba####ba', 130)\n",
      " ->('S_compare_b', 8, '........aba####ba', 129)\n",
      "Rejected at  ('S_compare_b', 8, '........aba##abba', 133)\n",
      " via .. \n",
      " ->('I_check_empty_w', 0, 'aba#babba', 144)\n",
      " ->('S_leave_w', 0, 'aba#babba', 143)\n",
      " ->('S_leave_w', 1, 'aba#babba', 142)\n",
      " ->('S_leave_w', 2, 'aba#babba', 141)\n",
      " ->('S_leave_w', 3, 'aba#babba', 140)\n",
      " ->('S_next_in_x', 4, 'aba#babba', 139)\n",
      " ->('S_go_to_compare_b', 3, 'aba##abba', 138)\n",
      " ->('S_go_to_compare_b', 2, 'aba##abba', 137)\n",
      " ->('S_go_to_compare_b', 1, 'aba##abba', 136)\n",
      " ->('S_go_to_compare_b', 0, 'aba##abba', 135)\n",
      " ->('S_go_to_compare_b', 7, '........aba##abba', 134)\n",
      " ->('S_compare_b', 8, '........aba##abba', 133)\n"
     ]
    }
   ],
   "source": [
    "explore_tm(Asg9NDTM, \"aba#babba\", 144)"
   ]
  },
  {
   "cell_type": "code",
   "execution_count": 132,
   "metadata": {},
   "outputs": [
    {
     "output_type": "stream",
     "name": "stdout",
     "text": [
      "Allocating  8  tape cells to the LEFT!\n",
      "Allocating  8  tape cells to the LEFT!\n",
      "Allocating  8  tape cells to the RIGHT!\n",
      "Allocating  8  tape cells to the LEFT!\n",
      "Allocating  8  tape cells to the LEFT!\n",
      "Allocating  8  tape cells to the LEFT!\n",
      "Allocating  8  tape cells to the LEFT!\n",
      "Detailing the halted configs now.\n",
      "Rejected at  ('S_compare_a', 8, '........bba####bba', 129)\n",
      " via .. \n",
      " ->('I_check_empty_w', 0, 'bba#bbabba', 144)\n",
      " ->('S_leave_w', 0, 'bba#bbabba', 143)\n",
      " ->('S_leave_w', 1, 'bba#bbabba', 142)\n",
      " ->('S_leave_w', 2, 'bba#bbabba', 141)\n",
      " ->('S_leave_w', 3, 'bba#bbabba', 140)\n",
      " ->('S_next_in_x', 4, 'bba#bbabba', 139)\n",
      " ->('S_next_in_x', 5, 'bba##babba', 138)\n",
      " ->('S_next_in_x', 6, 'bba###abba', 137)\n",
      " ->('S_go_to_compare_a', 5, 'bba####bba', 136)\n",
      " ->('S_go_to_compare_a', 4, 'bba####bba', 135)\n",
      " ->('S_go_to_compare_a', 3, 'bba####bba', 134)\n",
      " ->('S_go_to_compare_a', 2, 'bba####bba', 133)\n",
      " ->('S_go_to_compare_a', 1, 'bba####bba', 132)\n",
      " ->('S_go_to_compare_a', 0, 'bba####bba', 131)\n",
      " ->('S_go_to_compare_a', 7, '........bba####bba', 130)\n",
      " ->('S_compare_a', 8, '........bba####bba', 129)\n",
      "Rejected at  ('S_compare_a', 8, '........bba#######', 123)\n",
      " via .. \n",
      " ->('I_check_empty_w', 0, 'bba#bbabba', 144)\n",
      " ->('S_leave_w', 0, 'bba#bbabba', 143)\n",
      " ->('S_leave_w', 1, 'bba#bbabba', 142)\n",
      " ->('S_leave_w', 2, 'bba#bbabba', 141)\n",
      " ->('S_leave_w', 3, 'bba#bbabba', 140)\n",
      " ->('S_next_in_x', 4, 'bba#bbabba', 139)\n",
      " ->('S_next_in_x', 5, 'bba##babba', 138)\n",
      " ->('S_next_in_x', 6, 'bba###abba', 137)\n",
      " ->('S_next_in_x', 7, 'bba####bba', 136)\n",
      " ->('S_next_in_x', 8, 'bba#####ba', 135)\n",
      " ->('S_next_in_x', 9, 'bba######a', 134)\n",
      " ->('S_go_to_compare_a', 8, 'bba#######', 133)\n",
      " ->('S_go_to_compare_a', 7, 'bba#######', 132)\n",
      " ->('S_go_to_compare_a', 6, 'bba#######', 131)\n",
      " ->('S_go_to_compare_a', 5, 'bba#######', 130)\n",
      " ->('S_go_to_compare_a', 4, 'bba#######', 129)\n",
      " ->('S_go_to_compare_a', 3, 'bba#######', 128)\n",
      " ->('S_go_to_compare_a', 2, 'bba#######', 127)\n",
      " ->('S_go_to_compare_a', 1, 'bba#######', 126)\n",
      " ->('S_go_to_compare_a', 0, 'bba#######', 125)\n",
      " ->('S_go_to_compare_a', 7, '........bba#######', 124)\n",
      " ->('S_compare_a', 8, '........bba#######', 123)\n",
      "Rejected at  ('S_next_in_x', 10, 'bba#######', 133)\n",
      " via .. \n",
      " ->('I_check_empty_w', 0, 'bba#bbabba', 144)\n",
      " ->('S_leave_w', 0, 'bba#bbabba', 143)\n",
      " ->('S_leave_w', 1, 'bba#bbabba', 142)\n",
      " ->('S_leave_w', 2, 'bba#bbabba', 141)\n",
      " ->('S_leave_w', 3, 'bba#bbabba', 140)\n",
      " ->('S_next_in_x', 4, 'bba#bbabba', 139)\n",
      " ->('S_next_in_x', 5, 'bba##babba', 138)\n",
      " ->('S_next_in_x', 6, 'bba###abba', 137)\n",
      " ->('S_next_in_x', 7, 'bba####bba', 136)\n",
      " ->('S_next_in_x', 8, 'bba#####ba', 135)\n",
      " ->('S_next_in_x', 9, 'bba######a', 134)\n",
      " ->('S_next_in_x', 10, 'bba#######', 133)\n",
      "Rejected at  ('S_compare_a', 9, '........dba######c', 106)\n",
      " via .. \n",
      " ->('I_check_empty_w', 0, 'bba#bbabba', 144)\n",
      " ->('S_leave_w', 0, 'bba#bbabba', 143)\n",
      " ->('S_leave_w', 1, 'bba#bbabba', 142)\n",
      " ->('S_leave_w', 2, 'bba#bbabba', 141)\n",
      " ->('S_leave_w', 3, 'bba#bbabba', 140)\n",
      " ->('S_next_in_x', 4, 'bba#bbabba', 139)\n",
      " ->('S_next_in_x', 5, 'bba##babba', 138)\n",
      " ->('S_next_in_x', 6, 'bba###abba', 137)\n",
      " ->('S_next_in_x', 7, 'bba####bba', 136)\n",
      " ->('S_next_in_x', 8, 'bba#####ba', 135)\n",
      " ->('S_go_to_compare_b', 7, 'bba######a', 134)\n",
      " ->('S_go_to_compare_b', 6, 'bba######a', 133)\n",
      " ->('S_go_to_compare_b', 5, 'bba######a', 132)\n",
      " ->('S_go_to_compare_b', 4, 'bba######a', 131)\n",
      " ->('S_go_to_compare_b', 3, 'bba######a', 130)\n",
      " ->('S_go_to_compare_b', 2, 'bba######a', 129)\n",
      " ->('S_go_to_compare_b', 1, 'bba######a', 128)\n",
      " ->('S_go_to_compare_b', 0, 'bba######a', 127)\n",
      " ->('S_go_to_compare_b', 7, '........bba######a', 126)\n",
      " ->('S_compare_b', 8, '........bba######a', 125)\n",
      " ->('S_check_if_finished', 9, '........dba######a', 124)\n",
      " ->('S_go_to_end_of_w', 10, '........dba######a', 123)\n",
      " ->('S_go_to_end_of_w', 11, '........dba######a', 122)\n",
      " ->('S_find_first_unmarked_in_x', 12, '........dba######a', 121)\n",
      " ->('S_find_first_unmarked_in_x', 13, '........dba######a', 120)\n",
      " ->('S_find_first_unmarked_in_x', 14, '........dba######a', 119)\n",
      " ->('S_find_first_unmarked_in_x', 15, '........dba######a', 118)\n",
      " ->('S_find_first_unmarked_in_x', 16, '........dba######a', 117)\n",
      " ->('S_find_first_unmarked_in_x', 17, '........dba######a', 116)\n",
      " ->('S_go_to_compare_a_exit_first', 16, '........dba######c', 115)\n",
      " ->('S_go_to_compare_a', 15, '........dba######c', 114)\n",
      " ->('S_go_to_compare_a', 14, '........dba######c', 113)\n",
      " ->('S_go_to_compare_a', 13, '........dba######c', 112)\n",
      " ->('S_go_to_compare_a', 12, '........dba######c', 111)\n",
      " ->('S_go_to_compare_a', 11, '........dba######c', 110)\n",
      " ->('S_go_to_compare_a', 10, '........dba######c', 109)\n",
      " ->('S_go_to_compare_a', 9, '........dba######c', 108)\n",
      " ->('S_go_to_compare_a', 8, '........dba######c', 107)\n",
      " ->('S_compare_a', 9, '........dba######c', 106)\n",
      "Accepted at  ('F_accept', 11, '........ddc#####dc', 91)\n",
      " via .. \n",
      " ->('I_check_empty_w', 0, 'bba#bbabba', 144)\n",
      " ->('S_leave_w', 0, 'bba#bbabba', 143)\n",
      " ->('S_leave_w', 1, 'bba#bbabba', 142)\n",
      " ->('S_leave_w', 2, 'bba#bbabba', 141)\n",
      " ->('S_leave_w', 3, 'bba#bbabba', 140)\n",
      " ->('S_next_in_x', 4, 'bba#bbabba', 139)\n",
      " ->('S_next_in_x', 5, 'bba##babba', 138)\n",
      " ->('S_next_in_x', 6, 'bba###abba', 137)\n",
      " ->('S_next_in_x', 7, 'bba####bba', 136)\n",
      " ->('S_go_to_compare_b', 6, 'bba#####ba', 135)\n",
      " ->('S_go_to_compare_b', 5, 'bba#####ba', 134)\n",
      " ->('S_go_to_compare_b', 4, 'bba#####ba', 133)\n",
      " ->('S_go_to_compare_b', 3, 'bba#####ba', 132)\n",
      " ->('S_go_to_compare_b', 2, 'bba#####ba', 131)\n",
      " ->('S_go_to_compare_b', 1, 'bba#####ba', 130)\n",
      " ->('S_go_to_compare_b', 0, 'bba#####ba', 129)\n",
      " ->('S_go_to_compare_b', 7, '........bba#####ba', 128)\n",
      " ->('S_compare_b', 8, '........bba#####ba', 127)\n",
      " ->('S_check_if_finished', 9, '........dba#####ba', 126)\n",
      " ->('S_go_to_end_of_w', 10, '........dba#####ba', 125)\n",
      " ->('S_go_to_end_of_w', 11, '........dba#####ba', 124)\n",
      " ->('S_find_first_unmarked_in_x', 12, '........dba#####ba', 123)\n",
      " ->('S_find_first_unmarked_in_x', 13, '........dba#####ba', 122)\n",
      " ->('S_find_first_unmarked_in_x', 14, '........dba#####ba', 121)\n",
      " ->('S_find_first_unmarked_in_x', 15, '........dba#####ba', 120)\n",
      " ->('S_find_first_unmarked_in_x', 16, '........dba#####ba', 119)\n",
      " ->('S_go_to_compare_b_exit_first', 15, '........dba#####da', 118)\n",
      " ->('S_go_to_compare_b', 14, '........dba#####da', 117)\n",
      " ->('S_go_to_compare_b', 13, '........dba#####da', 116)\n",
      " ->('S_go_to_compare_b', 12, '........dba#####da', 115)\n",
      " ->('S_go_to_compare_b', 11, '........dba#####da', 114)\n",
      " ->('S_go_to_compare_b', 10, '........dba#####da', 113)\n",
      " ->('S_go_to_compare_b', 9, '........dba#####da', 112)\n",
      " ->('S_go_to_compare_b', 8, '........dba#####da', 111)\n",
      " ->('S_compare_b', 9, '........dba#####da', 110)\n",
      " ->('S_check_if_finished', 10, '........dda#####da', 109)\n",
      " ->('S_go_to_end_of_w', 11, '........dda#####da', 108)\n",
      " ->('S_find_first_unmarked_in_x', 12, '........dda#####da', 107)\n",
      " ->('S_find_first_unmarked_in_x', 13, '........dda#####da', 106)\n",
      " ->('S_find_first_unmarked_in_x', 14, '........dda#####da', 105)\n",
      " ->('S_find_first_unmarked_in_x', 15, '........dda#####da', 104)\n",
      " ->('S_find_first_unmarked_in_x', 16, '........dda#####da', 103)\n",
      " ->('S_find_first_unmarked_in_x', 17, '........dda#####da', 102)\n",
      " ->('S_go_to_compare_a_exit_first', 16, '........dda#####dc', 101)\n",
      " ->('S_go_to_compare_a_exit_first', 15, '........dda#####dc', 100)\n",
      " ->('S_go_to_compare_a', 14, '........dda#####dc', 99)\n",
      " ->('S_go_to_compare_a', 13, '........dda#####dc', 98)\n",
      " ->('S_go_to_compare_a', 12, '........dda#####dc', 97)\n",
      " ->('S_go_to_compare_a', 11, '........dda#####dc', 96)\n",
      " ->('S_go_to_compare_a', 10, '........dda#####dc', 95)\n",
      " ->('S_go_to_compare_a', 9, '........dda#####dc', 94)\n",
      " ->('S_compare_a', 10, '........dda#####dc', 93)\n",
      " ->('S_check_if_finished', 11, '........ddc#####dc', 92)\n",
      " ->('F_accept', 11, '........ddc#####dc', 91)\n",
      "Rejected at  ('S_compare_a', 9, '........dba###cbba', 118)\n",
      " via .. \n",
      " ->('I_check_empty_w', 0, 'bba#bbabba', 144)\n",
      " ->('S_leave_w', 0, 'bba#bbabba', 143)\n",
      " ->('S_leave_w', 1, 'bba#bbabba', 142)\n",
      " ->('S_leave_w', 2, 'bba#bbabba', 141)\n",
      " ->('S_leave_w', 3, 'bba#bbabba', 140)\n",
      " ->('S_next_in_x', 4, 'bba#bbabba', 139)\n",
      " ->('S_next_in_x', 5, 'bba##babba', 138)\n",
      " ->('S_go_to_compare_b', 4, 'bba###abba', 137)\n",
      " ->('S_go_to_compare_b', 3, 'bba###abba', 136)\n",
      " ->('S_go_to_compare_b', 2, 'bba###abba', 135)\n",
      " ->('S_go_to_compare_b', 1, 'bba###abba', 134)\n",
      " ->('S_go_to_compare_b', 0, 'bba###abba', 133)\n",
      " ->('S_go_to_compare_b', 7, '........bba###abba', 132)\n",
      " ->('S_compare_b', 8, '........bba###abba', 131)\n",
      " ->('S_check_if_finished', 9, '........dba###abba', 130)\n",
      " ->('S_go_to_end_of_w', 10, '........dba###abba', 129)\n",
      " ->('S_go_to_end_of_w', 11, '........dba###abba', 128)\n",
      " ->('S_find_first_unmarked_in_x', 12, '........dba###abba', 127)\n",
      " ->('S_find_first_unmarked_in_x', 13, '........dba###abba', 126)\n",
      " ->('S_find_first_unmarked_in_x', 14, '........dba###abba', 125)\n",
      " ->('S_go_to_compare_a_exit_first', 13, '........dba###cbba', 124)\n",
      " ->('S_go_to_compare_a', 12, '........dba###cbba', 123)\n",
      " ->('S_go_to_compare_a', 11, '........dba###cbba', 122)\n",
      " ->('S_go_to_compare_a', 10, '........dba###cbba', 121)\n",
      " ->('S_go_to_compare_a', 9, '........dba###cbba', 120)\n",
      " ->('S_go_to_compare_a', 8, '........dba###cbba', 119)\n",
      " ->('S_compare_a', 9, '........dba###cbba', 118)\n",
      "Accepted at  ('F_accept', 11, '........ddc##dcbba', 109)\n",
      " via .. \n",
      " ->('I_check_empty_w', 0, 'bba#bbabba', 144)\n",
      " ->('S_leave_w', 0, 'bba#bbabba', 143)\n",
      " ->('S_leave_w', 1, 'bba#bbabba', 142)\n",
      " ->('S_leave_w', 2, 'bba#bbabba', 141)\n",
      " ->('S_leave_w', 3, 'bba#bbabba', 140)\n",
      " ->('S_next_in_x', 4, 'bba#bbabba', 139)\n",
      " ->('S_go_to_compare_b', 3, 'bba##babba', 138)\n",
      " ->('S_go_to_compare_b', 2, 'bba##babba', 137)\n",
      " ->('S_go_to_compare_b', 1, 'bba##babba', 136)\n",
      " ->('S_go_to_compare_b', 0, 'bba##babba', 135)\n",
      " ->('S_go_to_compare_b', 7, '........bba##babba', 134)\n",
      " ->('S_compare_b', 8, '........bba##babba', 133)\n",
      " ->('S_check_if_finished', 9, '........dba##babba', 132)\n",
      " ->('S_go_to_end_of_w', 10, '........dba##babba', 131)\n",
      " ->('S_go_to_end_of_w', 11, '........dba##babba', 130)\n",
      " ->('S_find_first_unmarked_in_x', 12, '........dba##babba', 129)\n",
      " ->('S_find_first_unmarked_in_x', 13, '........dba##babba', 128)\n",
      " ->('S_go_to_compare_b_exit_first', 12, '........dba##dabba', 127)\n",
      " ->('S_go_to_compare_b', 11, '........dba##dabba', 126)\n",
      " ->('S_go_to_compare_b', 10, '........dba##dabba', 125)\n",
      " ->('S_go_to_compare_b', 9, '........dba##dabba', 124)\n",
      " ->('S_go_to_compare_b', 8, '........dba##dabba', 123)\n",
      " ->('S_compare_b', 9, '........dba##dabba', 122)\n",
      " ->('S_check_if_finished', 10, '........dda##dabba', 121)\n",
      " ->('S_go_to_end_of_w', 11, '........dda##dabba', 120)\n",
      " ->('S_find_first_unmarked_in_x', 12, '........dda##dabba', 119)\n",
      " ->('S_find_first_unmarked_in_x', 13, '........dda##dabba', 118)\n",
      " ->('S_find_first_unmarked_in_x', 14, '........dda##dabba', 117)\n",
      " ->('S_go_to_compare_a_exit_first', 13, '........dda##dcbba', 116)\n",
      " ->('S_go_to_compare_a_exit_first', 12, '........dda##dcbba', 115)\n",
      " ->('S_go_to_compare_a', 11, '........dda##dcbba', 114)\n",
      " ->('S_go_to_compare_a', 10, '........dda##dcbba', 113)\n",
      " ->('S_go_to_compare_a', 9, '........dda##dcbba', 112)\n",
      " ->('S_compare_a', 10, '........dda##dcbba', 111)\n",
      " ->('S_check_if_finished', 11, '........ddc##dcbba', 110)\n",
      " ->('F_accept', 11, '........ddc##dcbba', 109)\n"
     ]
    }
   ],
   "source": [
    "explore_tm(Asg9NDTM, \"bba#bbabba\", 144)"
   ]
  },
  {
   "cell_type": "markdown",
   "metadata": {},
   "source": [
    "## Your tests for the NDTM below (no fuel consumption reporting needed)"
   ]
  },
  {
   "cell_type": "code",
   "execution_count": 133,
   "metadata": {},
   "outputs": [
    {
     "output_type": "stream",
     "name": "stdout",
     "text": [
      "Detailing the halted configs now.\nAccepted at  ('F_accept', 0, '#', 143)\n via .. \n ->('I_check_empty_w', 0, '#', 144)\n ->('F_accept', 0, '#', 143)\n"
     ]
    }
   ],
   "source": [
    "# should accept\n",
    "explore_tm(Asg9NDTM, \"#\", 144)"
   ]
  },
  {
   "cell_type": "code",
   "execution_count": 134,
   "metadata": {},
   "outputs": [
    {
     "output_type": "stream",
     "name": "stdout",
     "text": [
      "Detailing the halted configs now.\nAccepted at  ('F_accept', 0, '#a', 143)\n via .. \n ->('I_check_empty_w', 0, '#a', 144)\n ->('F_accept', 0, '#a', 143)\n"
     ]
    }
   ],
   "source": [
    "# should accept\n",
    "explore_tm(Asg9NDTM, \"#a\", 144)"
   ]
  },
  {
   "cell_type": "code",
   "execution_count": 135,
   "metadata": {},
   "outputs": [
    {
     "output_type": "stream",
     "name": "stdout",
     "text": [
      "Allocating  8  tape cells to the RIGHT!\nDetailing the halted configs now.\nRejected at  ('S_next_in_x', 2, 'a#', 141)\n via .. \n ->('I_check_empty_w', 0, 'a#', 144)\n ->('S_leave_w', 0, 'a#', 143)\n ->('S_leave_w', 1, 'a#', 142)\n ->('S_next_in_x', 2, 'a#', 141)\n"
     ]
    }
   ],
   "source": [
    "# should reject\n",
    "explore_tm(Asg9NDTM, \"a#\", 144)"
   ]
  },
  {
   "cell_type": "code",
   "execution_count": 140,
   "metadata": {
    "tags": []
   },
   "outputs": [
    {
     "output_type": "stream",
     "name": "stdout",
     "text": [
      "Allocating  8  tape cells to the LEFT!\nAllocating  8  tape cells to the LEFT!\nAllocating  8  tape cells to the LEFT!\nAllocating  8  tape cells to the LEFT!\nAllocating  8  tape cells to the RIGHT!\nAllocating  8  tape cells to the RIGHT!\nAllocating  8  tape cells to the LEFT!\nAllocating  8  tape cells to the LEFT!\nDetailing the halted configs now.\nRejected at  ('S_compare_b', 11, '........cdca##dcdaa', 92)\n via .. \n ->('I_check_empty_w', 0, 'abaa#ababaa', 144)\n ->('S_leave_w', 0, 'abaa#ababaa', 143)\n ->('S_leave_w', 1, 'abaa#ababaa', 142)\n ->('S_leave_w', 2, 'abaa#ababaa', 141)\n ->('S_leave_w', 3, 'abaa#ababaa', 140)\n ->('S_leave_w', 4, 'abaa#ababaa', 139)\n ->('S_next_in_x', 5, 'abaa#ababaa', 138)\n ->('S_go_to_compare_a', 4, 'abaa##babaa', 137)\n ->('S_go_to_compare_a', 3, 'abaa##babaa', 136)\n ->('S_go_to_compare_a', 2, 'abaa##babaa', 135)\n ->('S_go_to_compare_a', 1, 'abaa##babaa', 134)\n ->('S_go_to_compare_a', 0, 'abaa##babaa', 133)\n ->('S_go_to_compare_a', 7, '........abaa##babaa', 132)\n ->('S_compare_a', 8, '........abaa##babaa', 131)\n ->('S_check_if_finished', 9, '........cbaa##babaa', 130)\n ->('S_go_to_end_of_w', 10, '........cbaa##babaa', 129)\n ->('S_go_to_end_of_w', 11, '........cbaa##babaa', 128)\n ->('S_go_to_end_of_w', 12, '........cbaa##babaa', 127)\n ->('S_find_first_unmarked_in_x', 13, '........cbaa##babaa', 126)\n ->('S_find_first_unmarked_in_x', 14, '........cbaa##babaa', 125)\n ->('S_go_to_compare_b_exit_first', 13, '........cbaa##dabaa', 124)\n ->('S_go_to_compare_b', 12, '........cbaa##dabaa', 123)\n ->('S_go_to_compare_b', 11, '........cbaa##dabaa', 122)\n ->('S_go_to_compare_b', 10, '........cbaa##dabaa', 121)\n ->('S_go_to_compare_b', 9, '........cbaa##dabaa', 120)\n ->('S_go_to_compare_b', 8, '........cbaa##dabaa', 119)\n ->('S_compare_b', 9, '........cbaa##dabaa', 118)\n ->('S_check_if_finished', 10, '........cdaa##dabaa', 117)\n ->('S_go_to_end_of_w', 11, '........cdaa##dabaa', 116)\n ->('S_go_to_end_of_w', 12, '........cdaa##dabaa', 115)\n ->('S_find_first_unmarked_in_x', 13, '........cdaa##dabaa', 114)\n ->('S_find_first_unmarked_in_x', 14, '........cdaa##dabaa', 113)\n ->('S_find_first_unmarked_in_x', 15, '........cdaa##dabaa', 112)\n ->('S_go_to_compare_a_exit_first', 14, '........cdaa##dcbaa', 111)\n ->('S_go_to_compare_a_exit_first', 13, '........cdaa##dcbaa', 110)\n ->('S_go_to_compare_a', 12, '........cdaa##dcbaa', 109)\n ->('S_go_to_compare_a', 11, '........cdaa##dcbaa', 108)\n ->('S_go_to_compare_a', 10, '........cdaa##dcbaa', 107)\n ->('S_go_to_compare_a', 9, '........cdaa##dcbaa', 106)\n ->('S_compare_a', 10, '........cdaa##dcbaa', 105)\n ->('S_check_if_finished', 11, '........cdca##dcbaa', 104)\n ->('S_go_to_end_of_w', 12, '........cdca##dcbaa', 103)\n ->('S_find_first_unmarked_in_x', 13, '........cdca##dcbaa', 102)\n ->('S_find_first_unmarked_in_x', 14, '........cdca##dcbaa', 101)\n ->('S_find_first_unmarked_in_x', 15, '........cdca##dcbaa', 100)\n ->('S_find_first_unmarked_in_x', 16, '........cdca##dcbaa', 99)\n ->('S_go_to_compare_b_exit_first', 15, '........cdca##dcdaa', 98)\n ->('S_go_to_compare_b_exit_first', 14, '........cdca##dcdaa', 97)\n ->('S_go_to_compare_b_exit_first', 13, '........cdca##dcdaa', 96)\n ->('S_go_to_compare_b', 12, '........cdca##dcdaa', 95)\n ->('S_go_to_compare_b', 11, '........cdca##dcdaa', 94)\n ->('S_go_to_compare_b', 10, '........cdca##dcdaa', 93)\n ->('S_compare_b', 11, '........cdca##dcdaa', 92)\nAccepted at  ('F_accept', 12, '........cdcc####dcc', 74)\n via .. \n ->('I_check_empty_w', 0, 'abaa#ababaa', 144)\n ->('S_leave_w', 0, 'abaa#ababaa', 143)\n ->('S_leave_w', 1, 'abaa#ababaa', 142)\n ->('S_leave_w', 2, 'abaa#ababaa', 141)\n ->('S_leave_w', 3, 'abaa#ababaa', 140)\n ->('S_leave_w', 4, 'abaa#ababaa', 139)\n ->('S_next_in_x', 5, 'abaa#ababaa', 138)\n ->('S_next_in_x', 6, 'abaa##babaa', 137)\n ->('S_next_in_x', 7, 'abaa###abaa', 136)\n ->('S_go_to_compare_a', 6, 'abaa####baa', 135)\n ->('S_go_to_compare_a', 5, 'abaa####baa', 134)\n ->('S_go_to_compare_a', 4, 'abaa####baa', 133)\n ->('S_go_to_compare_a', 3, 'abaa####baa', 132)\n ->('S_go_to_compare_a', 2, 'abaa####baa', 131)\n ->('S_go_to_compare_a', 1, 'abaa####baa', 130)\n ->('S_go_to_compare_a', 0, 'abaa####baa', 129)\n ->('S_go_to_compare_a', 7, '........abaa####baa', 128)\n ->('S_compare_a', 8, '........abaa####baa', 127)\n ->('S_check_if_finished', 9, '........cbaa####baa', 126)\n ->('S_go_to_end_of_w', 10, '........cbaa####baa', 125)\n ->('S_go_to_end_of_w', 11, '........cbaa####baa', 124)\n ->('S_go_to_end_of_w', 12, '........cbaa####baa', 123)\n ->('S_find_first_unmarked_in_x', 13, '........cbaa####baa', 122)\n ->('S_find_first_unmarked_in_x', 14, '........cbaa####baa', 121)\n ->('S_find_first_unmarked_in_x', 15, '........cbaa####baa', 120)\n ->('S_find_first_unmarked_in_x', 16, '........cbaa####baa', 119)\n ->('S_go_to_compare_b_exit_first', 15, '........cbaa####daa', 118)\n ->('S_go_to_compare_b', 14, '........cbaa####daa', 117)\n ->('S_go_to_compare_b', 13, '........cbaa####daa', 116)\n ->('S_go_to_compare_b', 12, '........cbaa####daa', 115)\n ->('S_go_to_compare_b', 11, '........cbaa####daa', 114)\n ->('S_go_to_compare_b', 10, '........cbaa####daa', 113)\n ->('S_go_to_compare_b', 9, '........cbaa####daa', 112)\n ->('S_go_to_compare_b', 8, '........cbaa####daa', 111)\n ->('S_compare_b', 9, '........cbaa####daa', 110)\n ->('S_check_if_finished', 10, '........cdaa####daa', 109)\n ->('S_go_to_end_of_w', 11, '........cdaa####daa', 108)\n ->('S_go_to_end_of_w', 12, '........cdaa####daa', 107)\n ->('S_find_first_unmarked_in_x', 13, '........cdaa####daa', 106)\n ->('S_find_first_unmarked_in_x', 14, '........cdaa####daa', 105)\n ->('S_find_first_unmarked_in_x', 15, '........cdaa####daa', 104)\n ->('S_find_first_unmarked_in_x', 16, '........cdaa####daa', 103)\n ->('S_find_first_unmarked_in_x', 17, '........cdaa####daa', 102)\n ->('S_go_to_compare_a_exit_first', 16, '........cdaa####dca', 101)\n ->('S_go_to_compare_a_exit_first', 15, '........cdaa####dca', 100)\n ->('S_go_to_compare_a', 14, '........cdaa####dca', 99)\n ->('S_go_to_compare_a', 13, '........cdaa####dca', 98)\n ->('S_go_to_compare_a', 12, '........cdaa####dca', 97)\n ->('S_go_to_compare_a', 11, '........cdaa####dca', 96)\n ->('S_go_to_compare_a', 10, '........cdaa####dca', 95)\n ->('S_go_to_compare_a', 9, '........cdaa####dca', 94)\n ->('S_compare_a', 10, '........cdaa####dca', 93)\n ->('S_check_if_finished', 11, '........cdca####dca', 92)\n ->('S_go_to_end_of_w', 12, '........cdca####dca', 91)\n ->('S_find_first_unmarked_in_x', 13, '........cdca####dca', 90)\n ->('S_find_first_unmarked_in_x', 14, '........cdca####dca', 89)\n ->('S_find_first_unmarked_in_x', 15, '........cdca####dca', 88)\n ->('S_find_first_unmarked_in_x', 16, '........cdca####dca', 87)\n ->('S_find_first_unmarked_in_x', 17, '........cdca####dca', 86)\n ->('S_find_first_unmarked_in_x', 18, '........cdca####dca', 85)\n ->('S_go_to_compare_a_exit_first', 17, '........cdca####dcc', 84)\n ->('S_go_to_compare_a_exit_first', 16, '........cdca####dcc', 83)\n ->('S_go_to_compare_a_exit_first', 15, '........cdca####dcc', 82)\n ->('S_go_to_compare_a', 14, '........cdca####dcc', 81)\n ->('S_go_to_compare_a', 13, '........cdca####dcc', 80)\n ->('S_go_to_compare_a', 12, '........cdca####dcc', 79)\n ->('S_go_to_compare_a', 11, '........cdca####dcc', 78)\n ->('S_go_to_compare_a', 10, '........cdca####dcc', 77)\n ->('S_compare_a', 11, '........cdca####dcc', 76)\n ->('S_check_if_finished', 12, '........cdcc####dcc', 75)\n ->('F_accept', 12, '........cdcc####dcc', 74)\nRejected at  ('S_compare_a', 9, '........cbaa######c', 102)\n via .. \n ->('I_check_empty_w', 0, 'abaa#ababaa', 144)\n ->('S_leave_w', 0, 'abaa#ababaa', 143)\n ->('S_leave_w', 1, 'abaa#ababaa', 142)\n ->('S_leave_w', 2, 'abaa#ababaa', 141)\n ->('S_leave_w', 3, 'abaa#ababaa', 140)\n ->('S_leave_w', 4, 'abaa#ababaa', 139)\n ->('S_next_in_x', 5, 'abaa#ababaa', 138)\n ->('S_next_in_x', 6, 'abaa##babaa', 137)\n ->('S_next_in_x', 7, 'abaa###abaa', 136)\n ->('S_next_in_x', 8, 'abaa####baa', 135)\n ->('S_next_in_x', 9, 'abaa#####aa', 134)\n ->('S_go_to_compare_a', 8, 'abaa######a', 133)\n ->('S_go_to_compare_a', 7, 'abaa######a', 132)\n ->('S_go_to_compare_a', 6, 'abaa######a', 131)\n ->('S_go_to_compare_a', 5, 'abaa######a', 130)\n ->('S_go_to_compare_a', 4, 'abaa######a', 129)\n ->('S_go_to_compare_a', 3, 'abaa######a', 128)\n ->('S_go_to_compare_a', 2, 'abaa######a', 127)\n ->('S_go_to_compare_a', 1, 'abaa######a', 126)\n ->('S_go_to_compare_a', 0, 'abaa######a', 125)\n ->('S_go_to_compare_a', 7, '........abaa######a', 124)\n ->('S_compare_a', 8, '........abaa######a', 123)\n ->('S_check_if_finished', 9, '........cbaa######a', 122)\n ->('S_go_to_end_of_w', 10, '........cbaa######a', 121)\n ->('S_go_to_end_of_w', 11, '........cbaa######a', 120)\n ->('S_go_to_end_of_w', 12, '........cbaa######a', 119)\n ->('S_find_first_unmarked_in_x', 13, '........cbaa######a', 118)\n ->('S_find_first_unmarked_in_x', 14, '........cbaa######a', 117)\n ->('S_find_first_unmarked_in_x', 15, '........cbaa######a', 116)\n ->('S_find_first_unmarked_in_x', 16, '........cbaa######a', 115)\n ->('S_find_first_unmarked_in_x', 17, '........cbaa######a', 114)\n ->('S_find_first_unmarked_in_x', 18, '........cbaa######a', 113)\n ->('S_go_to_compare_a_exit_first', 17, '........cbaa######c', 112)\n ->('S_go_to_compare_a', 16, '........cbaa######c', 111)\n ->('S_go_to_compare_a', 15, '........cbaa######c', 110)\n ->('S_go_to_compare_a', 14, '........cbaa######c', 109)\n ->('S_go_to_compare_a', 13, '........cbaa######c', 108)\n ->('S_go_to_compare_a', 12, '........cbaa######c', 107)\n ->('S_go_to_compare_a', 11, '........cbaa######c', 106)\n ->('S_go_to_compare_a', 10, '........cbaa######c', 105)\n ->('S_go_to_compare_a', 9, '........cbaa######c', 104)\n ->('S_go_to_compare_a', 8, '........cbaa######c', 103)\n ->('S_compare_a', 9, '........cbaa######c', 102)\nRejected at  ('S_find_first_unmarked_in_x', 19, '........cbaa#######', 110)\n via .. \n ->('I_check_empty_w', 0, 'abaa#ababaa', 144)\n ->('S_leave_w', 0, 'abaa#ababaa', 143)\n ->('S_leave_w', 1, 'abaa#ababaa', 142)\n ->('S_leave_w', 2, 'abaa#ababaa', 141)\n ->('S_leave_w', 3, 'abaa#ababaa', 140)\n ->('S_leave_w', 4, 'abaa#ababaa', 139)\n ->('S_next_in_x', 5, 'abaa#ababaa', 138)\n ->('S_next_in_x', 6, 'abaa##babaa', 137)\n ->('S_next_in_x', 7, 'abaa###abaa', 136)\n ->('S_next_in_x', 8, 'abaa####baa', 135)\n ->('S_next_in_x', 9, 'abaa#####aa', 134)\n ->('S_next_in_x', 10, 'abaa######a', 133)\n ->('S_go_to_compare_a', 9, 'abaa#######', 132)\n ->('S_go_to_compare_a', 8, 'abaa#######', 131)\n ->('S_go_to_compare_a', 7, 'abaa#######', 130)\n ->('S_go_to_compare_a', 6, 'abaa#######', 129)\n ->('S_go_to_compare_a', 5, 'abaa#######', 128)\n ->('S_go_to_compare_a', 4, 'abaa#######', 127)\n ->('S_go_to_compare_a', 3, 'abaa#######', 126)\n ->('S_go_to_compare_a', 2, 'abaa#######', 125)\n ->('S_go_to_compare_a', 1, 'abaa#######', 124)\n ->('S_go_to_compare_a', 0, 'abaa#######', 123)\n ->('S_go_to_compare_a', 7, '........abaa#######', 122)\n ->('S_compare_a', 8, '........abaa#######', 121)\n ->('S_check_if_finished', 9, '........cbaa#######', 120)\n ->('S_go_to_end_of_w', 10, '........cbaa#######', 119)\n ->('S_go_to_end_of_w', 11, '........cbaa#######', 118)\n ->('S_go_to_end_of_w', 12, '........cbaa#######', 117)\n ->('S_find_first_unmarked_in_x', 13, '........cbaa#######', 116)\n ->('S_find_first_unmarked_in_x', 14, '........cbaa#######', 115)\n ->('S_find_first_unmarked_in_x', 15, '........cbaa#######', 114)\n ->('S_find_first_unmarked_in_x', 16, '........cbaa#######', 113)\n ->('S_find_first_unmarked_in_x', 17, '........cbaa#######', 112)\n ->('S_find_first_unmarked_in_x', 18, '........cbaa#######', 111)\n ->('S_find_first_unmarked_in_x', 19, '........cbaa#######', 110)\nRejected at  ('S_next_in_x', 11, 'abaa#######', 132)\n via .. \n ->('I_check_empty_w', 0, 'abaa#ababaa', 144)\n ->('S_leave_w', 0, 'abaa#ababaa', 143)\n ->('S_leave_w', 1, 'abaa#ababaa', 142)\n ->('S_leave_w', 2, 'abaa#ababaa', 141)\n ->('S_leave_w', 3, 'abaa#ababaa', 140)\n ->('S_leave_w', 4, 'abaa#ababaa', 139)\n ->('S_next_in_x', 5, 'abaa#ababaa', 138)\n ->('S_next_in_x', 6, 'abaa##babaa', 137)\n ->('S_next_in_x', 7, 'abaa###abaa', 136)\n ->('S_next_in_x', 8, 'abaa####baa', 135)\n ->('S_next_in_x', 9, 'abaa#####aa', 134)\n ->('S_next_in_x', 10, 'abaa######a', 133)\n ->('S_next_in_x', 11, 'abaa#######', 132)\nRejected at  ('S_compare_b', 8, '........abaa#####aa', 125)\n via .. \n ->('I_check_empty_w', 0, 'abaa#ababaa', 144)\n ->('S_leave_w', 0, 'abaa#ababaa', 143)\n ->('S_leave_w', 1, 'abaa#ababaa', 142)\n ->('S_leave_w', 2, 'abaa#ababaa', 141)\n ->('S_leave_w', 3, 'abaa#ababaa', 140)\n ->('S_leave_w', 4, 'abaa#ababaa', 139)\n ->('S_next_in_x', 5, 'abaa#ababaa', 138)\n ->('S_next_in_x', 6, 'abaa##babaa', 137)\n ->('S_next_in_x', 7, 'abaa###abaa', 136)\n ->('S_next_in_x', 8, 'abaa####baa', 135)\n ->('S_go_to_compare_b', 7, 'abaa#####aa', 134)\n ->('S_go_to_compare_b', 6, 'abaa#####aa', 133)\n ->('S_go_to_compare_b', 5, 'abaa#####aa', 132)\n ->('S_go_to_compare_b', 4, 'abaa#####aa', 131)\n ->('S_go_to_compare_b', 3, 'abaa#####aa', 130)\n ->('S_go_to_compare_b', 2, 'abaa#####aa', 129)\n ->('S_go_to_compare_b', 1, 'abaa#####aa', 128)\n ->('S_go_to_compare_b', 0, 'abaa#####aa', 127)\n ->('S_go_to_compare_b', 7, '........abaa#####aa', 126)\n ->('S_compare_b', 8, '........abaa#####aa', 125)\nRejected at  ('S_compare_b', 8, '........abaa###abaa', 129)\n via .. \n ->('I_check_empty_w', 0, 'abaa#ababaa', 144)\n ->('S_leave_w', 0, 'abaa#ababaa', 143)\n ->('S_leave_w', 1, 'abaa#ababaa', 142)\n ->('S_leave_w', 2, 'abaa#ababaa', 141)\n ->('S_leave_w', 3, 'abaa#ababaa', 140)\n ->('S_leave_w', 4, 'abaa#ababaa', 139)\n ->('S_next_in_x', 5, 'abaa#ababaa', 138)\n ->('S_next_in_x', 6, 'abaa##babaa', 137)\n ->('S_go_to_compare_b', 5, 'abaa###abaa', 136)\n ->('S_go_to_compare_b', 4, 'abaa###abaa', 135)\n ->('S_go_to_compare_b', 3, 'abaa###abaa', 134)\n ->('S_go_to_compare_b', 2, 'abaa###abaa', 133)\n ->('S_go_to_compare_b', 1, 'abaa###abaa', 132)\n ->('S_go_to_compare_b', 0, 'abaa###abaa', 131)\n ->('S_go_to_compare_b', 7, '........abaa###abaa', 130)\n ->('S_compare_b', 8, '........abaa###abaa', 129)\n"
     ]
    }
   ],
   "source": [
    "# should accept\n",
    "explore_tm(Asg9NDTM, \"abaa#ababaa\", 144)"
   ]
  },
  {
   "cell_type": "code",
   "execution_count": 139,
   "metadata": {},
   "outputs": [
    {
     "output_type": "stream",
     "name": "stdout",
     "text": [
      "Allocating  8  tape cells to the LEFT!\nDetailing the halted configs now.\nAccepted at  ('F_accept', 11, '........cdd#######dd', 73)\n via .. \n ->('I_check_empty_w', 0, 'abb#bbabaabb', 288)\n ->('S_unmark_w', 0, 'abb#bbabaabb', 287)\n ->('S_unmark_w', 1, 'abb#bbabaabb', 286)\n ->('S_unmark_w', 2, 'abb#bbabaabb', 285)\n ->('S_unmark_w', 3, 'abb#bbabaabb', 284)\n ->('S_unmark_x', 4, 'abb#bbabaabb', 283)\n ->('S_go_to_start_of_x', 3, 'abb#bbabaabb', 282)\n ->('S_next_in_x', 4, 'abb#bbabaabb', 281)\n ->('S_go_to_compare_b', 3, 'abb##babaabb', 280)\n ->('S_go_to_compare_b', 2, 'abb##babaabb', 279)\n ->('S_go_to_compare_b', 1, 'abb##babaabb', 278)\n ->('S_go_to_compare_b', 0, 'abb##babaabb', 277)\n ->('S_go_to_compare_b', 7, '........abb##babaabb', 276)\n ->('S_compare_b', 8, '........abb##babaabb', 275)\n ->('S_go_to_start_of_w', 7, '........abb##babaabb', 274)\n ->('S_unmark_w', 8, '........abb##babaabb', 273)\n ->('S_unmark_w', 9, '........abb##babaabb', 272)\n ->('S_unmark_w', 10, '........abb##babaabb', 271)\n ->('S_unmark_w', 11, '........abb##babaabb', 270)\n ->('S_unmark_x', 12, '........abb##babaabb', 269)\n ->('S_unmark_x', 13, '........abb##babaabb', 268)\n ->('S_go_to_start_of_x', 12, '........abb##babaabb', 267)\n ->('S_next_in_x', 13, '........abb##babaabb', 266)\n ->('S_go_to_compare_b', 12, '........abb###abaabb', 265)\n ->('S_go_to_compare_b', 11, '........abb###abaabb', 264)\n ->('S_go_to_compare_b', 10, '........abb###abaabb', 263)\n ->('S_go_to_compare_b', 9, '........abb###abaabb', 262)\n ->('S_go_to_compare_b', 8, '........abb###abaabb', 261)\n ->('S_go_to_compare_b', 7, '........abb###abaabb', 260)\n ->('S_compare_b', 8, '........abb###abaabb', 259)\n ->('S_go_to_start_of_w', 7, '........abb###abaabb', 258)\n ->('S_unmark_w', 8, '........abb###abaabb', 257)\n ->('S_unmark_w', 9, '........abb###abaabb', 256)\n ->('S_unmark_w', 10, '........abb###abaabb', 255)\n ->('S_unmark_w', 11, '........abb###abaabb', 254)\n ->('S_unmark_x', 12, '........abb###abaabb', 253)\n ->('S_unmark_x', 13, '........abb###abaabb', 252)\n ->('S_unmark_x', 14, '........abb###abaabb', 251)\n ->('S_go_to_start_of_x', 13, '........abb###abaabb', 250)\n ->('S_next_in_x', 14, '........abb###abaabb', 249)\n ->('S_go_to_compare_a', 13, '........abb####baabb', 248)\n ->('S_go_to_compare_a', 12, '........abb####baabb', 247)\n ->('S_go_to_compare_a', 11, '........abb####baabb', 246)\n ->('S_go_to_compare_a', 10, '........abb####baabb', 245)\n ->('S_go_to_compare_a', 9, '........abb####baabb', 244)\n ->('S_go_to_compare_a', 8, '........abb####baabb', 243)\n ->('S_go_to_compare_a', 7, '........abb####baabb', 242)\n ->('S_compare_a', 8, '........abb####baabb', 241)\n ->('S_check_if_finished', 9, '........cbb####baabb', 240)\n ->('S_go_to_end_of_w', 10, '........cbb####baabb', 239)\n ->('S_go_to_end_of_w', 11, '........cbb####baabb', 238)\n ->('S_find_first_unmarked_in_x', 12, '........cbb####baabb', 237)\n ->('S_find_first_unmarked_in_x', 13, '........cbb####baabb', 236)\n ->('S_find_first_unmarked_in_x', 14, '........cbb####baabb', 235)\n ->('S_find_first_unmarked_in_x', 15, '........cbb####baabb', 234)\n ->('S_go_to_compare_b_exit_first', 14, '........cbb####daabb', 233)\n ->('S_go_to_compare_b', 13, '........cbb####daabb', 232)\n ->('S_go_to_compare_b', 12, '........cbb####daabb', 231)\n ->('S_go_to_compare_b', 11, '........cbb####daabb', 230)\n ->('S_go_to_compare_b', 10, '........cbb####daabb', 229)\n ->('S_go_to_compare_b', 9, '........cbb####daabb', 228)\n ->('S_go_to_compare_b', 8, '........cbb####daabb', 227)\n ->('S_compare_b', 9, '........cbb####daabb', 226)\n ->('S_check_if_finished', 10, '........cdb####daabb', 225)\n ->('S_go_to_end_of_w', 11, '........cdb####daabb', 224)\n ->('S_find_first_unmarked_in_x', 12, '........cdb####daabb', 223)\n ->('S_find_first_unmarked_in_x', 13, '........cdb####daabb', 222)\n ->('S_find_first_unmarked_in_x', 14, '........cdb####daabb', 221)\n ->('S_find_first_unmarked_in_x', 15, '........cdb####daabb', 220)\n ->('S_find_first_unmarked_in_x', 16, '........cdb####daabb', 219)\n ->('S_go_to_compare_a_exit_first', 15, '........cdb####dcabb', 218)\n ->('S_go_to_compare_a_exit_first', 14, '........cdb####dcabb', 217)\n ->('S_go_to_compare_a', 13, '........cdb####dcabb', 216)\n ->('S_go_to_compare_a', 12, '........cdb####dcabb', 215)\n ->('S_go_to_compare_a', 11, '........cdb####dcabb', 214)\n ->('S_go_to_compare_a', 10, '........cdb####dcabb', 213)\n ->('S_go_to_compare_a', 9, '........cdb####dcabb', 212)\n ->('S_compare_a', 10, '........cdb####dcabb', 211)\n ->('S_go_to_start_of_w', 9, '........cdb####dcabb', 210)\n ->('S_go_to_start_of_w', 8, '........cdb####dcabb', 209)\n ->('S_go_to_start_of_w', 7, '........cdb####dcabb', 208)\n ->('S_unmark_w', 8, '........cdb####dcabb', 207)\n ->('S_unmark_w', 9, '........adb####dcabb', 206)\n ->('S_unmark_w', 10, '........abb####dcabb', 205)\n ->('S_unmark_w', 11, '........abb####dcabb', 204)\n ->('S_unmark_x', 12, '........abb####dcabb', 203)\n ->('S_unmark_x', 13, '........abb####dcabb', 202)\n ->('S_unmark_x', 14, '........abb####dcabb', 201)\n ->('S_unmark_x', 15, '........abb####dcabb', 200)\n ->('S_unmark_x', 16, '........abb####bcabb', 199)\n ->('S_unmark_x', 17, '........abb####baabb', 198)\n ->('S_go_to_start_of_x', 16, '........abb####baabb', 197)\n ->('S_go_to_start_of_x', 15, '........abb####baabb', 196)\n ->('S_go_to_start_of_x', 14, '........abb####baabb', 195)\n ->('S_next_in_x', 15, '........abb####baabb', 194)\n ->('S_go_to_compare_b', 14, '........abb#####aabb', 193)\n ->('S_go_to_compare_b', 13, '........abb#####aabb', 192)\n ->('S_go_to_compare_b', 12, '........abb#####aabb', 191)\n ->('S_go_to_compare_b', 11, '........abb#####aabb', 190)\n ->('S_go_to_compare_b', 10, '........abb#####aabb', 189)\n ->('S_go_to_compare_b', 9, '........abb#####aabb', 188)\n ->('S_go_to_compare_b', 8, '........abb#####aabb', 187)\n ->('S_go_to_compare_b', 7, '........abb#####aabb', 186)\n ->('S_compare_b', 8, '........abb#####aabb', 185)\n ->('S_go_to_start_of_w', 7, '........abb#####aabb', 184)\n ->('S_unmark_w', 8, '........abb#####aabb', 183)\n ->('S_unmark_w', 9, '........abb#####aabb', 182)\n ->('S_unmark_w', 10, '........abb#####aabb', 181)\n ->('S_unmark_w', 11, '........abb#####aabb', 180)\n ->('S_unmark_x', 12, '........abb#####aabb', 179)\n ->('S_unmark_x', 13, '........abb#####aabb', 178)\n ->('S_unmark_x', 14, '........abb#####aabb', 177)\n ->('S_unmark_x', 15, '........abb#####aabb', 176)\n ->('S_unmark_x', 16, '........abb#####aabb', 175)\n ->('S_go_to_start_of_x', 15, '........abb#####aabb', 174)\n ->('S_next_in_x', 16, '........abb#####aabb', 173)\n ->('S_go_to_compare_a', 15, '........abb######abb', 172)\n ->('S_go_to_compare_a', 14, '........abb######abb', 171)\n ->('S_go_to_compare_a', 13, '........abb######abb', 170)\n ->('S_go_to_compare_a', 12, '........abb######abb', 169)\n ->('S_go_to_compare_a', 11, '........abb######abb', 168)\n ->('S_go_to_compare_a', 10, '........abb######abb', 167)\n ->('S_go_to_compare_a', 9, '........abb######abb', 166)\n ->('S_go_to_compare_a', 8, '........abb######abb', 165)\n ->('S_go_to_compare_a', 7, '........abb######abb', 164)\n ->('S_compare_a', 8, '........abb######abb', 163)\n ->('S_check_if_finished', 9, '........cbb######abb', 162)\n ->('S_go_to_end_of_w', 10, '........cbb######abb', 161)\n ->('S_go_to_end_of_w', 11, '........cbb######abb', 160)\n ->('S_find_first_unmarked_in_x', 12, '........cbb######abb', 159)\n ->('S_find_first_unmarked_in_x', 13, '........cbb######abb', 158)\n ->('S_find_first_unmarked_in_x', 14, '........cbb######abb', 157)\n ->('S_find_first_unmarked_in_x', 15, '........cbb######abb', 156)\n ->('S_find_first_unmarked_in_x', 16, '........cbb######abb', 155)\n ->('S_find_first_unmarked_in_x', 17, '........cbb######abb', 154)\n ->('S_go_to_compare_a_exit_first', 16, '........cbb######cbb', 153)\n ->('S_go_to_compare_a', 15, '........cbb######cbb', 152)\n ->('S_go_to_compare_a', 14, '........cbb######cbb', 151)\n ->('S_go_to_compare_a', 13, '........cbb######cbb', 150)\n ->('S_go_to_compare_a', 12, '........cbb######cbb', 149)\n ->('S_go_to_compare_a', 11, '........cbb######cbb', 148)\n ->('S_go_to_compare_a', 10, '........cbb######cbb', 147)\n ->('S_go_to_compare_a', 9, '........cbb######cbb', 146)\n ->('S_go_to_compare_a', 8, '........cbb######cbb', 145)\n ->('S_compare_a', 9, '........cbb######cbb', 144)\n ->('S_go_to_start_of_w', 8, '........cbb######cbb', 143)\n ->('S_go_to_start_of_w', 7, '........cbb######cbb', 142)\n ->('S_unmark_w', 8, '........cbb######cbb', 141)\n ->('S_unmark_w', 9, '........abb######cbb', 140)\n ->('S_unmark_w', 10, '........abb######cbb', 139)\n ->('S_unmark_w', 11, '........abb######cbb', 138)\n ->('S_unmark_x', 12, '........abb######cbb', 137)\n ->('S_unmark_x', 13, '........abb######cbb', 136)\n ->('S_unmark_x', 14, '........abb######cbb', 135)\n ->('S_unmark_x', 15, '........abb######cbb', 134)\n ->('S_unmark_x', 16, '........abb######cbb', 133)\n ->('S_unmark_x', 17, '........abb######cbb', 132)\n ->('S_unmark_x', 18, '........abb######abb', 131)\n ->('S_go_to_start_of_x', 17, '........abb######abb', 130)\n ->('S_go_to_start_of_x', 16, '........abb######abb', 129)\n ->('S_next_in_x', 17, '........abb######abb', 128)\n ->('S_go_to_compare_a', 16, '........abb#######bb', 127)\n ->('S_go_to_compare_a', 15, '........abb#######bb', 126)\n ->('S_go_to_compare_a', 14, '........abb#######bb', 125)\n ->('S_go_to_compare_a', 13, '........abb#######bb', 124)\n ->('S_go_to_compare_a', 12, '........abb#######bb', 123)\n ->('S_go_to_compare_a', 11, '........abb#######bb', 122)\n ->('S_go_to_compare_a', 10, '........abb#######bb', 121)\n ->('S_go_to_compare_a', 9, '........abb#######bb', 120)\n ->('S_go_to_compare_a', 8, '........abb#######bb', 119)\n ->('S_go_to_compare_a', 7, '........abb#######bb', 118)\n ->('S_compare_a', 8, '........abb#######bb', 117)\n ->('S_check_if_finished', 9, '........cbb#######bb', 116)\n ->('S_go_to_end_of_w', 10, '........cbb#######bb', 115)\n ->('S_go_to_end_of_w', 11, '........cbb#######bb', 114)\n ->('S_find_first_unmarked_in_x', 12, '........cbb#######bb', 113)\n ->('S_find_first_unmarked_in_x', 13, '........cbb#######bb', 112)\n ->('S_find_first_unmarked_in_x', 14, '........cbb#######bb', 111)\n ->('S_find_first_unmarked_in_x', 15, '........cbb#######bb', 110)\n ->('S_find_first_unmarked_in_x', 16, '........cbb#######bb', 109)\n ->('S_find_first_unmarked_in_x', 17, '........cbb#######bb', 108)\n ->('S_find_first_unmarked_in_x', 18, '........cbb#######bb', 107)\n ->('S_go_to_compare_b_exit_first', 17, '........cbb#######db', 106)\n ->('S_go_to_compare_b', 16, '........cbb#######db', 105)\n ->('S_go_to_compare_b', 15, '........cbb#######db', 104)\n ->('S_go_to_compare_b', 14, '........cbb#######db', 103)\n ->('S_go_to_compare_b', 13, '........cbb#######db', 102)\n ->('S_go_to_compare_b', 12, '........cbb#######db', 101)\n ->('S_go_to_compare_b', 11, '........cbb#######db', 100)\n ->('S_go_to_compare_b', 10, '........cbb#######db', 99)\n ->('S_go_to_compare_b', 9, '........cbb#######db', 98)\n ->('S_go_to_compare_b', 8, '........cbb#######db', 97)\n ->('S_compare_b', 9, '........cbb#######db', 96)\n ->('S_check_if_finished', 10, '........cdb#######db', 95)\n ->('S_go_to_end_of_w', 11, '........cdb#######db', 94)\n ->('S_find_first_unmarked_in_x', 12, '........cdb#######db', 93)\n ->('S_find_first_unmarked_in_x', 13, '........cdb#######db', 92)\n ->('S_find_first_unmarked_in_x', 14, '........cdb#######db', 91)\n ->('S_find_first_unmarked_in_x', 15, '........cdb#######db', 90)\n ->('S_find_first_unmarked_in_x', 16, '........cdb#######db', 89)\n ->('S_find_first_unmarked_in_x', 17, '........cdb#######db', 88)\n ->('S_find_first_unmarked_in_x', 18, '........cdb#######db', 87)\n ->('S_find_first_unmarked_in_x', 19, '........cdb#######db', 86)\n ->('S_go_to_compare_b_exit_first', 18, '........cdb#######dd', 85)\n ->('S_go_to_compare_b_exit_first', 17, '........cdb#######dd', 84)\n ->('S_go_to_compare_b', 16, '........cdb#######dd', 83)\n ->('S_go_to_compare_b', 15, '........cdb#######dd', 82)\n ->('S_go_to_compare_b', 14, '........cdb#######dd', 81)\n ->('S_go_to_compare_b', 13, '........cdb#######dd', 80)\n ->('S_go_to_compare_b', 12, '........cdb#######dd', 79)\n ->('S_go_to_compare_b', 11, '........cdb#######dd', 78)\n ->('S_go_to_compare_b', 10, '........cdb#######dd', 77)\n ->('S_go_to_compare_b', 9, '........cdb#######dd', 76)\n ->('S_compare_b', 10, '........cdb#######dd', 75)\n ->('S_check_if_finished', 11, '........cdd#######dd', 74)\n ->('F_accept', 11, '........cdd#######dd', 73)\n"
     ]
    }
   ],
   "source": [
    "# should accept\n",
    "explore_tm(Asg9DTM, \"abb#bbabaabb\", 288)"
   ]
  },
  {
   "cell_type": "markdown",
   "metadata": {},
   "source": [
    "# END"
   ]
  }
 ],
 "metadata": {
  "kernelspec": {
   "display_name": "Python 3",
   "language": "python",
   "name": "python3"
  },
  "language_info": {
   "codemirror_mode": {
    "name": "ipython",
    "version": 3
   },
   "file_extension": ".py",
   "mimetype": "text/x-python",
   "name": "python",
   "nbconvert_exporter": "python",
   "pygments_lexer": "ipython3",
   "version": "3.7.4-final"
  },
  "toc": {
   "colors": {
    "hover_highlight": "#DAA520",
    "running_highlight": "#FF0000",
    "selected_highlight": "#FFD700"
   },
   "moveMenuLeft": true,
   "nav_menu": {
    "height": "318px",
    "width": "252px"
   },
   "navigate_menu": true,
   "number_sections": true,
   "sideBar": true,
   "threshold": 4,
   "toc_cell": false,
   "toc_section_display": "block",
   "toc_window_display": false,
   "widenNotebook": false
  }
 },
 "nbformat": 4,
 "nbformat_minor": 1
}