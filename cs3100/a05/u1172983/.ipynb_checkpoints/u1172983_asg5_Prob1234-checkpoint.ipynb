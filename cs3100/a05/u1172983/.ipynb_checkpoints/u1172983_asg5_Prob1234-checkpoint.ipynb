{
 "cells": [
  {
   "cell_type": "markdown",
   "metadata": {},
   "source": [
    "# Asg-5 focuses on questions graded by the mentioned TAs:\n",
    "\n",
    "## LT: One PL question\n",
    "\n",
    "## SV: One PL question\n",
    "\n",
    "## AR: One PDA question\n",
    "\n",
    "## XL: One PDA question\n",
    "\n",
    "\n",
    "## You must present your proofs using the outline described on Slide 19 of Lec11.pptx (look around this slide number if the slide has shifted; it comes near the flow-charts)"
   ]
  },
  {
   "cell_type": "markdown",
   "metadata": {},
   "source": [
    "# 1 (LT): Prove that this language is not regular (LT)\n",
    "\n",
    "## $L_{if} = \\{ a^i b^j c^k \\;:\\; i,j,k\\ge 0,\\; {\\rm and}\\; {\\rm if}\\; (i=2)\\; {\\rm then}\\; (j=k)  \\}$\n",
    "\n",
    "#### Hint: Consider the reverse of $L_{if}$ calling it the language $LR_{if}$, and prove that $LR_{if}$ is non-regular, using the PL\n",
    "\n",
    "#### Then write a line justifying why this means that $L_{if}$ is non-regular.\n",
    "\n",
    " "
   ]
  },
  {
   "cell_type": "markdown",
   "metadata": {},
   "source": [
    "# Proof Outline\n",
    "\n",
    "* We can take advantage of the reverse of the language in which all the \"c\"s appear first.\n",
    "\n",
    "* This is helpful because then we can let $i = 2$ and $j = k = \\text{Pumping length}$, and show that the split $xy^2z$ is not in the reverse language because then we'd have $j \\ne k$."
   ]
  },
  {
   "attachments": {},
   "cell_type": "markdown",
   "metadata": {},
   "source": [
    "## So the official proof presentation is this:\n",
    "\n",
    "* Consider the reverse of the language $L_\\text{if}$, called $LR_\\text{if}$. By definition of a language-reverse, we know that $LR_\\text{if} = \\{ c^k b^j a^i : i,j,k \\ge 0,\\text{ and }i=2 \\Rightarrow j=k \\}$.\n",
    "\n",
    "* Suppose that $LR_\\text{if}$ is regular, meaning that $LR_\\text{if}$ has some pumping length $p>0$.\n",
    "\n",
    "* Define a string $s = c^k b^j a^i\\text{ for }j=k=p\\text{ and }i=2$; in other words, $s = c^p b^p a^2$. We know that $s \\in LR_{if}$ because it satisfies both $i,j,k \\ge 0\\text{ and }i=2 \\Rightarrow j=k$. We also know that $|s| \\ge p$ since $|c^p b^p a^2| = 2p+2 > p$.\n",
    "\n",
    "* Let some split of $s$ as $xyz$ be given, where $|xy| \\le p$ and $|y| > 0$. This means that $x = c^l, y = c^m$, and $z = c^n b^p a^2$, and we know that $m > 0, l+m \\le p$, and $l+m+n = p$ because of the conditions above.\n",
    "\n",
    "* Now, consider the string $s' = xy^2z = c^l c^{2m} c^n b^p a^2$. Since $m > 0$ and $l+m+n = p$, it's certain that $l+2m+n > p$, meaning that $s' = c^q b^p a^2$ where $q > p$. This tells us that $s' \\notin LR_\\text{if}$ because now $s' = c^k b^j a^i\\text{ for }i = 2\\text{ and }j \\ne k$. Furthermore, this shows that our assumption in the beginning is wrong: the language $LR_\\text{if}$ is not regular.\n",
    "\n",
    "* Finally, since we've showed that $LR_\\text{if}$ is not regular, it's necessary that $L_\\text{if}$ itself is not regular. This is because, if $L_\\text{if}$ were regular, we could build an NFA for $L_\\text{if}$ and reverse it to get an NFA for $LR_\\text{if}$, which would contradict with the fact that $LR_\\text{if}$ was not regular. Therefore, the language $L_\\text{if}$ is not regular. $\\square$"
   ]
  },
  {
   "cell_type": "markdown",
   "metadata": {},
   "source": [
    "# 2 (SV): Prove that this language called $Add$ is not regular \n",
    "\n",
    "## $Add = \\{ r = p + q \\; :\\;  r, p, q \\in \\{0,1\\}^* \\; {\\rm and}\\; condition(r,p,q)\\; {\\rm holds} \\}$\n",
    "          \n",
    " \n",
    "\n",
    "### Here, $condition(r,p,q)$ means $r$, $p$, and $q$ are strings of the form $101 = 10 + 11$, where result $r$ (a standard positional binary number represented as a bit string), is obtained by adding $p$ and $q$ viewed as standard positional binary numbers\n",
    "\n",
    "### Notice these facts:\n",
    "\n",
    "* The entire string $r=p+q$ comes from the Alphabet $\\Sigma=\\{0,1,+,=\\}$\n",
    "\n",
    "* $r,p$ and $q$ come from the Alphabet $\\Sigma=\\{0,1\\}$\n",
    "\n",
    "## In general, $condition(r,p,q)$ says that the bit patterns represent a correct binary addition.\n",
    "\n",
    " \n",
    "\n",
    "## More examples of strings in the language $Add$ are below where\n",
    "### the LHS is $r$ and the right-hand side is a character $p+q$\n",
    "\n",
    "* $101=10+11$ \n",
    "\n",
    "* $1000 = 100 + 100$\n",
    "\n",
    "* $1011 = 110 + 101$"
   ]
  },
  {
   "cell_type": "markdown",
   "metadata": {},
   "source": [
    "# Proof outline\n",
    "\n",
    "* We can take advantage of the fact that \"it has to be a valid addition expression.\"\n",
    "\n",
    "* If we let $r$ (the left-hand side) be $n$ ones where $n$ is the pumping length (for example, if $n = 7$ then we'd let $r = 1111111$), doing $xy^2 z$ would always repeat some portion of the \"1\"s on the left-hand side. Since the right-hand side is unchanged, this expression has now become invalid."
   ]
  },
  {
   "cell_type": "markdown",
   "metadata": {},
   "source": [
    "## So the official proof presentation is this:\n",
    "\n",
    "* Suppose that the language $\\text{Add}$ is regular, meaning that it has some pumping length $n > 0$.\n",
    "\n",
    "* Define a string $s = r\\texttt{=}p\\texttt{+}q$ for $r = 1^n, p = 1(0^{n-1})$, and $q = 1^{n-1}$. We know that $s \\in \\text{Add}$ because $r,p,q \\in \\{0,1\\}^*$ and the numeric values represented by $r, p$, and $q$ are $2^{n+1}-1, 2^n$, and $2^n-1$, respectively, and they satisfy $2^n + (2^n - 1) = 2 \\cdot 2^n - 1 = 2^{n+1} - 1$, which is $\\text{condition}(r, p, q)$. We also know that $|s| \\ge n$ since $|r\\texttt{=}p\\texttt{+}q| = n+1+n+1+(n-1) = 3n+1 > n$.\n",
    "\n",
    "* Let some split of $s$ as $xyz$ be given, where $|xy| \\le n$ and $|y| > 0$. This means that $x = 1^a, y = 1^b$, and $z = 1^c\\texttt{=}p\\texttt{+}q$, where $b > 0, a+b \\le n$ and $a+b+c = n$, based on the conditions above.\n",
    "\n",
    "* Now, consider the string $s' = xy^2z = 1^a 1^{2b} 1^c\\texttt{=}p\\texttt{+}q$. Since $b > 0$ and $a+b+c = n$, it's certain that $a+2b+c > n$, meaning that $s' = r'\\texttt{=}p\\texttt{+}q$ where $|r'| > n$. This tells us that $s' \\notin \\text{Add}$ because the numeric value of $r'$ does not equal to the numeric value of $r$ but the sum of the numeric values of $p$ and $q$ is $r$ and not $r'$, meaning that the string $s'$ does not meet the $\\text{condition}(r, p, q)$. Furthermore, this shows that our assumption in the beginning is wrong: the language $\\text{Add}$ is not regular. $\\square$"
   ]
  },
  {
   "cell_type": "markdown",
   "metadata": {
    "run_control": {
     "frozen": false,
     "read_only": false
    }
   },
   "source": [
    "# Asg-5 imports \n"
   ]
  },
  {
   "cell_type": "code",
   "execution_count": 1,
   "metadata": {
    "run_control": {
     "frozen": false,
     "read_only": false
    },
    "scrolled": true
   },
   "outputs": [
    {
     "name": "stdout",
     "output_type": "stream",
     "text": [
      "You may use any of these help commands:\n",
      "help(ResetStNum)\n",
      "help(NxtStateStr)\n",
      "\n",
      "You may use any of these help commands:\n",
      "help(md2mc)\n",
      ".. and if you want to dig more, then ..\n",
      "help(default_line_attr)\n",
      "help(length_ok_input_items)\n",
      "help(union_line_attr_list_fld)\n",
      "help(extend_rsltdict)\n",
      "help(form_delta)\n",
      "help(get_machine_components)\n",
      "\n"
     ]
    }
   ],
   "source": [
    "#~~~~~~~~~~~~~~~~~~~~~~~~~~~~~~~~~~~~~~~~~~~~~~~~~~~~~~~\n",
    "import sys\n",
    "\n",
    "# -- Detect if in Own Install or in Colab\n",
    "try:\n",
    "    import google.colab\n",
    "    OWN_INSTALL = False\n",
    "except:\n",
    "    OWN_INSTALL = True\n",
    "    \n",
    "if OWN_INSTALL:\n",
    "    \n",
    "  #---- Leave these definitions ON if running on laptop\n",
    "  #---- Else turn OFF by putting them between ''' ... '''\n",
    "\n",
    "  sys.path[0:0] = ['../../../../..',  '../../../../../3rdparty',  \n",
    "                   '../../../..',  '../../../../3rdparty',  \n",
    "                   '../../..',     '../../../3rdparty', \n",
    "                   '../..',        '../../3rdparty',\n",
    "                   '..',           '../3rdparty' ]\n",
    "\n",
    "else: # In colab\n",
    "  ! if [ ! -d Jove ]; then git clone https://github.com/ganeshutah/Jove Jove; fi\n",
    "  sys.path.append('./Jove')\n",
    "  sys.path.append('./Jove/jove')\n",
    "\n",
    "# -- common imports --\n",
    "from jove.DotBashers import *\n",
    "from jove.Def_md2mc  import *\n",
    "from jove.AnimatePDA import *\n",
    "from jove.Def_PDA    import *\n",
    "#~~~~~~~~~~~~~~~~~~~~~~~~~~~~~~~~~~~~~~~~~~~~~~~~~~~~~~~"
   ]
  },
  {
   "cell_type": "markdown",
   "metadata": {},
   "source": [
    "# 3 (AR): Design a PDA a2b for the language $\\{a^i b^j : i,j\\ge 0, {\\rm and}\\; (j = 2i) \\}$\n",
    "## That is, strings of the form $abb$, $aabbbb$, $aaabbbbbb$, etc.\n",
    "\n",
    "## Put a \"header block\" of comments (before you list the PDA transitions) that describes the overall stacking strategy - e.g.\n",
    "\n",
    "* !! The PDA uses the stack in THIS WAY while a's arrive\n",
    "\n",
    "* !! Then when b's arrive, the PDA does THIS\n",
    "\n",
    "* !! After b's, if $a$'s arrive, the PDA does THIS\n",
    "\n",
    "\n",
    "## After that, fully document your design (line by line)"
   ]
  },
  {
   "cell_type": "code",
   "execution_count": 2,
   "metadata": {},
   "outputs": [],
   "source": [
    "a2b = md2mc('''\n",
    "PDA\n",
    "\n",
    "!! The PDA uses the stack to keep track of how many \"b\"s should be arriving after\n",
    "!!   consuming all the \"a\"s.\n",
    "!! When the first \"a\" arrive, the PDA goes into the \"count-a\" state, where it's not\n",
    "!!   accepting any strings but simply counting the number of \"b\"s there should be after\n",
    "!!   all these \"a\"s.\n",
    "!! When the first \"b\" arrive, the PDA goes into the \"count-b\" state, where it's not\n",
    "!!   accepting any more \"a\"s (doing so would make the PDA go into a non-accepting black-\n",
    "!!   hole), and the PDA will only accept the string when the stack is exactly empty.\n",
    "\n",
    "I: a, ''; bb -> A !! Got the first \"a\"; go into the \"count-a\" state (as described above).\n",
    "I: '', #; # -> F  !! The PDA always actively check if the stack is empty, and since the\n",
    "                  !!   stack is empty by default (we're not counting \"#\" as a stack\n",
    "                  !!   element), it should accept an empty string.\n",
    "                  !! If a \"b\" is received right now, the PDA should go into an (implied)\n",
    "                  !!   black-hole.\n",
    "\n",
    "A: a, ''; bb -> A !! Continue counting \"a\"s and increase the count for expected \"b\"s.\n",
    "A: b, b; '' -> B  !! Got the first \"b\"; go into the \"count-b\" state.\n",
    "\n",
    "B: b, b; '' -> B  !! Countinue counting \"b\"s and decrease the count for expected \"b\"s.\n",
    "B: '', #; # -> F  !! Actively check if the stack is empty.\n",
    "                  !! If an \"a\" is received right now, the PDA should go into an (implied)\n",
    "                  !!   black hole.\n",
    "\n",
    "''')"
   ]
  },
  {
   "cell_type": "code",
   "execution_count": 3,
   "metadata": {},
   "outputs": [
    {
     "data": {
      "image/svg+xml": [
       "<?xml version=\"1.0\" encoding=\"UTF-8\" standalone=\"no\"?>\r\n",
       "<!DOCTYPE svg PUBLIC \"-//W3C//DTD SVG 1.1//EN\"\r\n",
       " \"http://www.w3.org/Graphics/SVG/1.1/DTD/svg11.dtd\">\r\n",
       "<!-- Generated by graphviz version 2.44.1 (20200629.0846)\r\n",
       " -->\r\n",
       "<!-- Pages: 1 -->\r\n",
       "<svg width=\"485pt\" height=\"111pt\"\r\n",
       " viewBox=\"0.00 0.00 485.00 111.00\" xmlns=\"http://www.w3.org/2000/svg\" xmlns:xlink=\"http://www.w3.org/1999/xlink\">\r\n",
       "<g id=\"graph0\" class=\"graph\" transform=\"scale(1 1) rotate(0) translate(4 107)\">\r\n",
       "<polygon fill=\"white\" stroke=\"transparent\" points=\"-4,4 -4,-107 481,-107 481,4 -4,4\"/>\r\n",
       "<!-- EMPTY -->\r\n",
       "<g id=\"node1\" class=\"node\">\r\n",
       "<title>EMPTY</title>\r\n",
       "</g>\r\n",
       "<!-- I -->\r\n",
       "<g id=\"node2\" class=\"node\">\r\n",
       "<title>I</title>\r\n",
       "<ellipse fill=\"none\" stroke=\"black\" cx=\"109\" cy=\"-22\" rx=\"18\" ry=\"18\"/>\r\n",
       "<text text-anchor=\"middle\" x=\"109\" y=\"-18.3\" font-family=\"Times New Roman,serif\" font-size=\"14.00\">I</text>\r\n",
       "</g>\r\n",
       "<!-- EMPTY&#45;&gt;I -->\r\n",
       "<g id=\"edge1\" class=\"edge\">\r\n",
       "<title>EMPTY&#45;&gt;I</title>\r\n",
       "<path fill=\"none\" stroke=\"black\" d=\"M54.19,-22C62.65,-22 72.05,-22 80.6,-22\"/>\r\n",
       "<polygon fill=\"black\" stroke=\"black\" points=\"80.83,-25.5 90.83,-22 80.83,-18.5 80.83,-25.5\"/>\r\n",
       "</g>\r\n",
       "<!-- A -->\r\n",
       "<g id=\"node4\" class=\"node\">\r\n",
       "<title>A</title>\r\n",
       "<ellipse fill=\"none\" stroke=\"black\" cx=\"227\" cy=\"-52\" rx=\"18\" ry=\"18\"/>\r\n",
       "<text text-anchor=\"middle\" x=\"227\" y=\"-48.3\" font-family=\"Times New Roman,serif\" font-size=\"14.00\">A</text>\r\n",
       "</g>\r\n",
       "<!-- I&#45;&gt;A -->\r\n",
       "<g id=\"edge2\" class=\"edge\">\r\n",
       "<title>I&#45;&gt;A</title>\r\n",
       "<path fill=\"none\" stroke=\"black\" d=\"M126.62,-26.3C145.66,-31.22 177.1,-39.35 199.52,-45.15\"/>\r\n",
       "<polygon fill=\"black\" stroke=\"black\" points=\"198.85,-48.59 209.41,-47.71 200.61,-41.82 198.85,-48.59\"/>\r\n",
       "<text text-anchor=\"middle\" x=\"168\" y=\"-45.8\" font-family=\"Times New Roman,serif\" font-size=\"14.00\">a, &#39;&#39; ; bb</text>\r\n",
       "</g>\r\n",
       "<!-- F -->\r\n",
       "<g id=\"node5\" class=\"node\">\r\n",
       "<title>F</title>\r\n",
       "<ellipse fill=\"none\" stroke=\"black\" cx=\"455\" cy=\"-22\" rx=\"18\" ry=\"18\"/>\r\n",
       "<ellipse fill=\"none\" stroke=\"black\" cx=\"455\" cy=\"-22\" rx=\"22\" ry=\"22\"/>\r\n",
       "<text text-anchor=\"middle\" x=\"455\" y=\"-18.3\" font-family=\"Times New Roman,serif\" font-size=\"14.00\">F</text>\r\n",
       "</g>\r\n",
       "<!-- I&#45;&gt;F -->\r\n",
       "<g id=\"edge3\" class=\"edge\">\r\n",
       "<title>I&#45;&gt;F</title>\r\n",
       "<path fill=\"none\" stroke=\"black\" d=\"M127.06,-22C181.61,-22 352.32,-22 422.94,-22\"/>\r\n",
       "<polygon fill=\"black\" stroke=\"black\" points=\"423,-25.5 433,-22 423,-18.5 423,-25.5\"/>\r\n",
       "<text text-anchor=\"middle\" x=\"283\" y=\"-25.8\" font-family=\"Times New Roman,serif\" font-size=\"14.00\">&#39;&#39;, # ; #</text>\r\n",
       "</g>\r\n",
       "<!-- B -->\r\n",
       "<g id=\"node3\" class=\"node\">\r\n",
       "<title>B</title>\r\n",
       "<ellipse fill=\"none\" stroke=\"black\" cx=\"339\" cy=\"-52\" rx=\"18\" ry=\"18\"/>\r\n",
       "<text text-anchor=\"middle\" x=\"339\" y=\"-48.3\" font-family=\"Times New Roman,serif\" font-size=\"14.00\">B</text>\r\n",
       "</g>\r\n",
       "<!-- B&#45;&gt;B -->\r\n",
       "<g id=\"edge6\" class=\"edge\">\r\n",
       "<title>B&#45;&gt;B</title>\r\n",
       "<path fill=\"none\" stroke=\"black\" d=\"M329.43,-67.54C326.73,-77.91 329.92,-88 339,-88 344.96,-88 348.38,-83.65 349.27,-77.74\"/>\r\n",
       "<polygon fill=\"black\" stroke=\"black\" points=\"352.74,-77.28 348.57,-67.54 345.76,-77.76 352.74,-77.28\"/>\r\n",
       "<text text-anchor=\"middle\" x=\"339\" y=\"-91.8\" font-family=\"Times New Roman,serif\" font-size=\"14.00\">b, b ; &#39;&#39;</text>\r\n",
       "</g>\r\n",
       "<!-- B&#45;&gt;F -->\r\n",
       "<g id=\"edge7\" class=\"edge\">\r\n",
       "<title>B&#45;&gt;F</title>\r\n",
       "<path fill=\"none\" stroke=\"black\" d=\"M356.82,-47.57C374.39,-42.95 402.31,-35.6 423.72,-29.97\"/>\r\n",
       "<polygon fill=\"black\" stroke=\"black\" points=\"424.86,-33.29 433.64,-27.36 423.08,-26.52 424.86,-33.29\"/>\r\n",
       "<text text-anchor=\"middle\" x=\"395\" y=\"-45.8\" font-family=\"Times New Roman,serif\" font-size=\"14.00\">&#39;&#39;, # ; #</text>\r\n",
       "</g>\r\n",
       "<!-- A&#45;&gt;B -->\r\n",
       "<g id=\"edge5\" class=\"edge\">\r\n",
       "<title>A&#45;&gt;B</title>\r\n",
       "<path fill=\"none\" stroke=\"black\" d=\"M245.19,-52C262.79,-52 290.39,-52 310.93,-52\"/>\r\n",
       "<polygon fill=\"black\" stroke=\"black\" points=\"310.93,-55.5 320.93,-52 310.93,-48.5 310.93,-55.5\"/>\r\n",
       "<text text-anchor=\"middle\" x=\"283\" y=\"-55.8\" font-family=\"Times New Roman,serif\" font-size=\"14.00\">b, b ; &#39;&#39;</text>\r\n",
       "</g>\r\n",
       "<!-- A&#45;&gt;A -->\r\n",
       "<g id=\"edge4\" class=\"edge\">\r\n",
       "<title>A&#45;&gt;A</title>\r\n",
       "<path fill=\"none\" stroke=\"black\" d=\"M217.43,-67.54C214.73,-77.91 217.92,-88 227,-88 232.96,-88 236.38,-83.65 237.27,-77.74\"/>\r\n",
       "<polygon fill=\"black\" stroke=\"black\" points=\"240.74,-77.28 236.57,-67.54 233.76,-77.76 240.74,-77.28\"/>\r\n",
       "<text text-anchor=\"middle\" x=\"227\" y=\"-91.8\" font-family=\"Times New Roman,serif\" font-size=\"14.00\">a, &#39;&#39; ; bb</text>\r\n",
       "</g>\r\n",
       "</g>\r\n",
       "</svg>\r\n"
      ],
      "text/plain": [
       "<graphviz.dot.Digraph at 0x5305bc8>"
      ]
     },
     "execution_count": 3,
     "metadata": {},
     "output_type": "execute_result"
    }
   ],
   "source": [
    "dotObj_pda(a2b)"
   ]
  },
  {
   "cell_type": "markdown",
   "metadata": {},
   "source": [
    "## Then, test your PDA on these strings\n",
    "\n",
    "1. $\\varepsilon$ (accept)\n",
    "\n",
    "2. $abb$ (accept)\n",
    "\n",
    "3. $aabbbb$ (accept)\n",
    "\n",
    "4. $aaabbbbbb$ (accept)\n",
    "\n",
    "\n",
    "\n",
    "5. $ab$ (reject)\n",
    "\n",
    "6. $b$ (reject)\n",
    "\n",
    "7. $aba$ (reject)\n",
    "\n",
    "8. $abba$ (reject)\n",
    "\n",
    "##  PLUS add two more accepting and two more rejecting tests of your own"
   ]
  },
  {
   "cell_type": "code",
   "execution_count": 4,
   "metadata": {},
   "outputs": [
    {
     "name": "stdout",
     "output_type": "stream",
     "text": [
      "String  accepted by your PDA in 1 ways :-) \n",
      "Here are the ways: \n",
      "Final state  ('F', '', '#')\n",
      "Reached as follows:\n",
      "->  ('I', '', '#')\n",
      "->  ('F', '', '#') .\n"
     ]
    }
   ],
   "source": [
    "explore_pda('', a2b)"
   ]
  },
  {
   "cell_type": "code",
   "execution_count": 5,
   "metadata": {},
   "outputs": [
    {
     "name": "stdout",
     "output_type": "stream",
     "text": [
      "String abb accepted by your PDA in 1 ways :-) \n",
      "Here are the ways: \n",
      "Final state  ('F', '', '#')\n",
      "Reached as follows:\n",
      "->  ('I', 'abb', '#')\n",
      "->  ('A', 'bb', 'bb#')\n",
      "->  ('B', 'b', 'b#')\n",
      "->  ('B', '', '#')\n",
      "->  ('F', '', '#') .\n"
     ]
    }
   ],
   "source": [
    "explore_pda('abb', a2b)"
   ]
  },
  {
   "cell_type": "code",
   "execution_count": 6,
   "metadata": {},
   "outputs": [
    {
     "name": "stdout",
     "output_type": "stream",
     "text": [
      "String aabbbb accepted by your PDA in 1 ways :-) \n",
      "Here are the ways: \n",
      "Final state  ('F', '', '#')\n",
      "Reached as follows:\n",
      "->  ('I', 'aabbbb', '#')\n",
      "->  ('A', 'abbbb', 'bb#')\n",
      "->  ('A', 'bbbb', 'bbbb#')\n",
      "->  ('B', 'bbb', 'bbb#')\n",
      "->  ('B', 'bb', 'bb#')\n",
      "->  ('B', 'b', 'b#')\n",
      "->  ('B', '', '#')\n",
      "->  ('F', '', '#') .\n"
     ]
    }
   ],
   "source": [
    "explore_pda('aabbbb', a2b)"
   ]
  },
  {
   "cell_type": "code",
   "execution_count": 7,
   "metadata": {},
   "outputs": [
    {
     "name": "stdout",
     "output_type": "stream",
     "text": [
      "String aaabbbbbb accepted by your PDA in 1 ways :-) \n",
      "Here are the ways: \n",
      "Final state  ('F', '', '#')\n",
      "Reached as follows:\n",
      "->  ('I', 'aaabbbbbb', '#')\n",
      "->  ('A', 'aabbbbbb', 'bb#')\n",
      "->  ('A', 'abbbbbb', 'bbbb#')\n",
      "->  ('A', 'bbbbbb', 'bbbbbb#')\n",
      "->  ('B', 'bbbbb', 'bbbbb#')\n",
      "->  ('B', 'bbbb', 'bbbb#')\n",
      "->  ('B', 'bbb', 'bbb#')\n",
      "->  ('B', 'bb', 'bb#')\n",
      "->  ('B', 'b', 'b#')\n",
      "->  ('B', '', '#')\n",
      "->  ('F', '', '#') .\n"
     ]
    }
   ],
   "source": [
    "explore_pda('aaabbbbbb', a2b)"
   ]
  },
  {
   "cell_type": "code",
   "execution_count": 8,
   "metadata": {},
   "outputs": [
    {
     "name": "stdout",
     "output_type": "stream",
     "text": [
      "String ab rejected by your PDA :-(\n",
      "Visited states are:\n",
      "{('A', 'b', 'bb#'), ('I', 'ab', '#'), ('F', 'ab', '#'), ('B', '', 'b#')}\n"
     ]
    }
   ],
   "source": [
    "explore_pda('ab', a2b)"
   ]
  },
  {
   "cell_type": "code",
   "execution_count": 9,
   "metadata": {},
   "outputs": [
    {
     "name": "stdout",
     "output_type": "stream",
     "text": [
      "String b rejected by your PDA :-(\n",
      "Visited states are:\n",
      "{('F', 'b', '#'), ('I', 'b', '#')}\n"
     ]
    }
   ],
   "source": [
    "explore_pda('b', a2b)"
   ]
  },
  {
   "cell_type": "code",
   "execution_count": 10,
   "metadata": {},
   "outputs": [
    {
     "name": "stdout",
     "output_type": "stream",
     "text": [
      "String aba rejected by your PDA :-(\n",
      "Visited states are:\n",
      "{('A', 'ba', 'bb#'), ('B', 'a', 'b#'), ('F', 'aba', '#'), ('I', 'aba', '#')}\n"
     ]
    }
   ],
   "source": [
    "explore_pda('aba', a2b)"
   ]
  },
  {
   "cell_type": "code",
   "execution_count": 11,
   "metadata": {},
   "outputs": [
    {
     "name": "stdout",
     "output_type": "stream",
     "text": [
      "String abba rejected by your PDA :-(\n",
      "Visited states are:\n",
      "{('B', 'a', '#'), ('F', 'a', '#'), ('A', 'bba', 'bb#'), ('F', 'abba', '#'), ('B', 'ba', 'b#'), ('I', 'abba', '#')}\n"
     ]
    }
   ],
   "source": [
    "explore_pda('abba', a2b)"
   ]
  },
  {
   "cell_type": "markdown",
   "metadata": {},
   "source": [
    "# Now some more tests of yours below (add more cells as needed)"
   ]
  },
  {
   "cell_type": "code",
   "execution_count": 12,
   "metadata": {},
   "outputs": [
    {
     "name": "stdout",
     "output_type": "stream",
     "text": [
      "should accept:\n",
      "String aaaabbbbbbbb accepted by your PDA in 1 ways :-) \n",
      "Here are the ways: \n",
      "Final state  ('F', '', '#')\n",
      "Reached as follows:\n",
      "->  ('I', 'aaaabbbbbbbb', '#')\n",
      "->  ('A', 'aaabbbbbbbb', 'bb#')\n",
      "->  ('A', 'aabbbbbbbb', 'bbbb#')\n",
      "->  ('A', 'abbbbbbbb', 'bbbbbb#')\n",
      "->  ('A', 'bbbbbbbb', 'bbbbbbbb#')\n",
      "->  ('B', 'bbbbbbb', 'bbbbbbb#')\n",
      "->  ('B', 'bbbbbb', 'bbbbbb#')\n",
      "->  ('B', 'bbbbb', 'bbbbb#')\n",
      "->  ('B', 'bbbb', 'bbbb#')\n",
      "->  ('B', 'bbb', 'bbb#')\n",
      "->  ('B', 'bb', 'bb#')\n",
      "->  ('B', 'b', 'b#')\n",
      "->  ('B', '', '#')\n",
      "->  ('F', '', '#') .\n"
     ]
    }
   ],
   "source": [
    "# PLUS add two more accepting and two more rejecting tests of your own\n",
    "\n",
    "print('should accept:')\n",
    "explore_pda('aaaabbbbbbbb', a2b)"
   ]
  },
  {
   "cell_type": "code",
   "execution_count": 13,
   "metadata": {},
   "outputs": [
    {
     "name": "stdout",
     "output_type": "stream",
     "text": [
      "should accept:\n",
      "String aaaaabbbbbbbbbb accepted by your PDA in 1 ways :-) \n",
      "Here are the ways: \n",
      "Final state  ('F', '', '#')\n",
      "Reached as follows:\n",
      "->  ('I', 'aaaaabbbbbbbbbb', '#')\n",
      "->  ('A', 'aaaabbbbbbbbbb', 'bb#')\n",
      "->  ('A', 'aaabbbbbbbbbb', 'bbbb#')\n",
      "->  ('A', 'aabbbbbbbbbb', 'bbbbbb#')\n",
      "->  ('A', 'abbbbbbbbbb', 'bbbbbbbb#')\n",
      "->  ('A', 'bbbbbbbbbb', 'bbbbbbbbbb#')\n",
      "->  ('B', 'bbbbbbbbb', 'bbbbbbbbb#')\n",
      "->  ('B', 'bbbbbbbb', 'bbbbbbbb#')\n",
      "->  ('B', 'bbbbbbb', 'bbbbbbb#')\n",
      "->  ('B', 'bbbbbb', 'bbbbbb#')\n",
      "->  ('B', 'bbbbb', 'bbbbb#')\n",
      "->  ('B', 'bbbb', 'bbbb#')\n",
      "->  ('B', 'bbb', 'bbb#')\n",
      "->  ('B', 'bb', 'bb#')\n",
      "->  ('B', 'b', 'b#')\n",
      "->  ('B', '', '#')\n",
      "->  ('F', '', '#') .\n"
     ]
    }
   ],
   "source": [
    "print('should accept:')\n",
    "explore_pda('aaaaabbbbbbbbbb', a2b)"
   ]
  },
  {
   "cell_type": "code",
   "execution_count": 14,
   "metadata": {},
   "outputs": [
    {
     "name": "stdout",
     "output_type": "stream",
     "text": [
      "should reject:\n",
      "String ababbb rejected by your PDA :-(\n",
      "Visited states are:\n",
      "{('I', 'ababbb', '#'), ('A', 'babbb', 'bb#'), ('B', 'abbb', 'b#'), ('F', 'ababbb', '#')}\n"
     ]
    }
   ],
   "source": [
    "print('should reject:')\n",
    "explore_pda('ababbb', a2b) # an \"a\" comes after \"b\"s"
   ]
  },
  {
   "cell_type": "code",
   "execution_count": 15,
   "metadata": {},
   "outputs": [
    {
     "name": "stdout",
     "output_type": "stream",
     "text": [
      "should reject:\n",
      "String abbb rejected by your PDA :-(\n",
      "Visited states are:\n",
      "{('B', 'bb', 'b#'), ('A', 'bbb', 'bb#'), ('B', 'b', '#'), ('F', 'b', '#'), ('F', 'abbb', '#'), ('I', 'abbb', '#')}\n"
     ]
    }
   ],
   "source": [
    "print('should reject:')\n",
    "explore_pda('abbb', a2b) # too many \"b\"s for one \"a\""
   ]
  },
  {
   "cell_type": "markdown",
   "metadata": {},
   "source": [
    "# 4 (XL):  Design a PDA for Lif \n",
    "\n",
    "## Hint: when a=2, the PDA matches b's and c's (using the stack for this match)\n",
    "## Else it only checks their order of arrival (and simply ignores the stack)"
   ]
  },
  {
   "cell_type": "code",
   "execution_count": 16,
   "metadata": {},
   "outputs": [],
   "source": [
    "Lif = md2mc('''\n",
    "PDA\n",
    "\n",
    "!! The PDA only makes use of the stack when the number of \"a\"s is exactly two. When it's\n",
    "!!   not, the PDA acts just like an NFA and only checks if the \"a\"s, \"b\"s, and \"c\"s come\n",
    "!!   exactly in this order.\n",
    "!! The PDA enters a \"count-BC\" mode when the second \"a\" is received. If at this point a\n",
    "!!   \"b\" comes, it starts counting the number of expected \"c\"s, and from now on the PDA\n",
    "!!   will only accept the string when the count-stack is empty (it pops the stack for\n",
    "!!   every additional \"c\" coming in).\n",
    "\n",
    "IF: a, ''; '' -> F_1st_a   !! The first \"a\" received; do not enter the \"count-BC\" mode\n",
    "                           !!   yet.\n",
    "IF: '', ''; '' -> F_norm_b !! The PDA should also actively look for \"b\"s.\n",
    "                           !! A \"c\" coming right now will jump to an implied black-hole.\n",
    "                           !! An empty string should be accepted.\n",
    "\n",
    "F_1st_a: a, ''; '' -> F_2nd_a   !! The second \"a\" received; enter the \"count-BC\" mode\n",
    "                                !!   described above.\n",
    "F_1st_a: '', ''; '' -> F_norm_b !! The PDA should also actively look for \"b\"s.\n",
    "\n",
    "F_2nd_a: a, ''; '' -> F_norm_a !! The third \"a\" received; leave the \"count-BC\" mode, and\n",
    "                               !!   every character will be handled normally from this\n",
    "                               !!   point on. (Handle normally simply means to check\n",
    "                               !!   if \"a\"s come before \"b\"s, and \"b\"s come before \"c\"s\n",
    "                               !!   without counting any characters; behave just like a\n",
    "                               !!   regular NFA.)\n",
    "F_2nd_a: b, ''; c -> Count_b   !! The first \"b\" comes in the \"count-BC\" mode; officially\n",
    "                               !!   start counting the number of \"c\" there should be\n",
    "                               !!   after the \"b\"s.\n",
    "                               !! A \"c\" coming right now will jump to an implied\n",
    "                               !!   black-hole.\n",
    "\n",
    "F_norm_a: a, ''; '' -> F_norm_a  !! More \"a\"s received; handle normally.\n",
    "F_norm_a: '', ''; '' -> F_norm_b !! The PDA should also actively look for \"b\"s.\n",
    "\n",
    "F_norm_b: b, ''; '' -> F_norm_b  !! More \"b\"s received; handle normally.\n",
    "F_norm_b: '', ''; '' -> F_norm_c !! The PDA should also actively look for \"c\"s.\n",
    "                                 !! An \"a\" coming right now will jump to an implied\n",
    "                                 !!   black-hole.\n",
    "\n",
    "F_norm_c: c, ''; '' -> F_norm_c !! More \"c\"s received; handle normally.\n",
    "                                !! Anymore \"a\"s or \"b\"s coming right now will jump to an\n",
    "                                !!   implied black-hole.\n",
    "\n",
    "Count_b: b, ''; c -> Count_b !! For each \"b\" that count right now, add a \"c\" to the\n",
    "                             !!   expected-\"c\"-count.\n",
    "Count_b: c, c; '' -> Count_c !! The first \"c\" received; start counting the incoming \"c\"s\n",
    "                             !!   by unwinding the stack.\n",
    "                             !! An \"a\" coming at this point will jump to an implied\n",
    "                             !!   black-hole.\n",
    "\n",
    "Count_c: c, c; '' -> Count_c !! For each \"c\" that count right now, decrease the count.\n",
    "Count_c: '', #; # -> F_count !! Actively check if the stack become empty and accept the\n",
    "                             !!   corresponding strings.\n",
    "                             !! Anymore \"a\"s or \"b\"s coming right now will jump to an\n",
    "                             !!   implied black-hole.\n",
    "\n",
    "''')"
   ]
  },
  {
   "cell_type": "code",
   "execution_count": 17,
   "metadata": {},
   "outputs": [
    {
     "data": {
      "image/svg+xml": [
       "<?xml version=\"1.0\" encoding=\"UTF-8\" standalone=\"no\"?>\r\n",
       "<!DOCTYPE svg PUBLIC \"-//W3C//DTD SVG 1.1//EN\"\r\n",
       " \"http://www.w3.org/Graphics/SVG/1.1/DTD/svg11.dtd\">\r\n",
       "<!-- Generated by graphviz version 2.44.1 (20200629.0846)\r\n",
       " -->\r\n",
       "<!-- Pages: 1 -->\r\n",
       "<svg width=\"1022pt\" height=\"366pt\"\r\n",
       " viewBox=\"0.00 0.00 1021.76 365.94\" xmlns=\"http://www.w3.org/2000/svg\" xmlns:xlink=\"http://www.w3.org/1999/xlink\">\r\n",
       "<g id=\"graph0\" class=\"graph\" transform=\"scale(1 1) rotate(0) translate(4 361.94)\">\r\n",
       "<polygon fill=\"white\" stroke=\"transparent\" points=\"-4,4 -4,-361.94 1017.76,-361.94 1017.76,4 -4,4\"/>\r\n",
       "<!-- EMPTY -->\r\n",
       "<g id=\"node1\" class=\"node\">\r\n",
       "<title>EMPTY</title>\r\n",
       "</g>\r\n",
       "<!-- IF -->\r\n",
       "<g id=\"node9\" class=\"node\">\r\n",
       "<title>IF</title>\r\n",
       "<ellipse fill=\"none\" stroke=\"black\" cx=\"113.85\" cy=\"-27.05\" rx=\"18.72\" ry=\"18.72\"/>\r\n",
       "<ellipse fill=\"none\" stroke=\"black\" cx=\"113.85\" cy=\"-27.05\" rx=\"22.7\" ry=\"22.7\"/>\r\n",
       "<text text-anchor=\"middle\" x=\"113.85\" y=\"-23.35\" font-family=\"Times New Roman,serif\" font-size=\"14.00\">IF</text>\r\n",
       "</g>\r\n",
       "<!-- EMPTY&#45;&gt;IF -->\r\n",
       "<g id=\"edge1\" class=\"edge\">\r\n",
       "<title>EMPTY&#45;&gt;IF</title>\r\n",
       "<path fill=\"none\" stroke=\"black\" d=\"M54.38,-27.05C62.68,-27.05 71.94,-27.05 80.6,-27.05\"/>\r\n",
       "<polygon fill=\"black\" stroke=\"black\" points=\"80.76,-30.55 90.76,-27.05 80.76,-23.55 80.76,-30.55\"/>\r\n",
       "</g>\r\n",
       "<!-- Count_c -->\r\n",
       "<g id=\"node2\" class=\"node\">\r\n",
       "<title>Count_c</title>\r\n",
       "<ellipse fill=\"none\" stroke=\"black\" cx=\"776.92\" cy=\"-282.05\" rx=\"42.49\" ry=\"42.49\"/>\r\n",
       "<text text-anchor=\"middle\" x=\"776.92\" y=\"-278.35\" font-family=\"Times New Roman,serif\" font-size=\"14.00\">Count_c</text>\r\n",
       "</g>\r\n",
       "<!-- Count_c&#45;&gt;Count_c -->\r\n",
       "<g id=\"edge15\" class=\"edge\">\r\n",
       "<title>Count_c&#45;&gt;Count_c</title>\r\n",
       "<path fill=\"none\" stroke=\"black\" d=\"M760.06,-320.87C760.4,-332.87 766.02,-342.29 776.92,-342.29 784.41,-342.29 789.41,-337.84 791.91,-331.15\"/>\r\n",
       "<polygon fill=\"black\" stroke=\"black\" points=\"795.44,-331.33 793.78,-320.87 788.55,-330.08 795.44,-331.33\"/>\r\n",
       "<text text-anchor=\"middle\" x=\"776.92\" y=\"-346.09\" font-family=\"Times New Roman,serif\" font-size=\"14.00\">c, c ; &#39;&#39;</text>\r\n",
       "</g>\r\n",
       "<!-- F_count -->\r\n",
       "<g id=\"node7\" class=\"node\">\r\n",
       "<title>F_count</title>\r\n",
       "<ellipse fill=\"none\" stroke=\"black\" cx=\"960.36\" cy=\"-282.05\" rx=\"41.68\" ry=\"41.68\"/>\r\n",
       "<ellipse fill=\"none\" stroke=\"black\" cx=\"960.36\" cy=\"-282.05\" rx=\"45.69\" ry=\"45.69\"/>\r\n",
       "<text text-anchor=\"middle\" x=\"960.36\" y=\"-278.35\" font-family=\"Times New Roman,serif\" font-size=\"14.00\">F_count</text>\r\n",
       "</g>\r\n",
       "<!-- Count_c&#45;&gt;F_count -->\r\n",
       "<g id=\"edge16\" class=\"edge\">\r\n",
       "<title>Count_c&#45;&gt;F_count</title>\r\n",
       "<path fill=\"none\" stroke=\"black\" d=\"M819.54,-282.05C844.78,-282.05 877.26,-282.05 904.57,-282.05\"/>\r\n",
       "<polygon fill=\"black\" stroke=\"black\" points=\"904.76,-285.55 914.76,-282.05 904.76,-278.55 904.76,-285.55\"/>\r\n",
       "<text text-anchor=\"middle\" x=\"868.96\" y=\"-285.85\" font-family=\"Times New Roman,serif\" font-size=\"14.00\">&#39;&#39;, # ; #</text>\r\n",
       "</g>\r\n",
       "<!-- Count_b -->\r\n",
       "<g id=\"node3\" class=\"node\">\r\n",
       "<title>Count_b</title>\r\n",
       "<ellipse fill=\"none\" stroke=\"black\" cx=\"595.13\" cy=\"-282.05\" rx=\"42.79\" ry=\"42.79\"/>\r\n",
       "<text text-anchor=\"middle\" x=\"595.13\" y=\"-278.35\" font-family=\"Times New Roman,serif\" font-size=\"14.00\">Count_b</text>\r\n",
       "</g>\r\n",
       "<!-- Count_b&#45;&gt;Count_c -->\r\n",
       "<g id=\"edge14\" class=\"edge\">\r\n",
       "<title>Count_b&#45;&gt;Count_c</title>\r\n",
       "<path fill=\"none\" stroke=\"black\" d=\"M638.28,-282.05C664.05,-282.05 697.19,-282.05 724.5,-282.05\"/>\r\n",
       "<polygon fill=\"black\" stroke=\"black\" points=\"724.65,-285.55 734.65,-282.05 724.65,-278.55 724.65,-285.55\"/>\r\n",
       "<text text-anchor=\"middle\" x=\"685.37\" y=\"-285.85\" font-family=\"Times New Roman,serif\" font-size=\"14.00\">c, c ; &#39;&#39;</text>\r\n",
       "</g>\r\n",
       "<!-- Count_b&#45;&gt;Count_b -->\r\n",
       "<g id=\"edge13\" class=\"edge\">\r\n",
       "<title>Count_b&#45;&gt;Count_b</title>\r\n",
       "<path fill=\"none\" stroke=\"black\" d=\"M578.28,-321.58C578.7,-333.57 584.32,-342.94 595.13,-342.94 602.56,-342.94 607.54,-338.51 610.06,-331.85\"/>\r\n",
       "<polygon fill=\"black\" stroke=\"black\" points=\"613.58,-332.05 611.98,-321.58 606.7,-330.77 613.58,-332.05\"/>\r\n",
       "<text text-anchor=\"middle\" x=\"595.13\" y=\"-346.74\" font-family=\"Times New Roman,serif\" font-size=\"14.00\">b, &#39;&#39; ; c</text>\r\n",
       "</g>\r\n",
       "<!-- F_norm_c -->\r\n",
       "<g id=\"node4\" class=\"node\">\r\n",
       "<title>F_norm_c</title>\r\n",
       "<ellipse fill=\"none\" stroke=\"black\" cx=\"960.36\" cy=\"-54.05\" rx=\"49.3\" ry=\"49.3\"/>\r\n",
       "<ellipse fill=\"none\" stroke=\"black\" cx=\"960.36\" cy=\"-54.05\" rx=\"53.29\" ry=\"53.29\"/>\r\n",
       "<text text-anchor=\"middle\" x=\"960.36\" y=\"-50.35\" font-family=\"Times New Roman,serif\" font-size=\"14.00\">F_norm_c</text>\r\n",
       "</g>\r\n",
       "<!-- F_norm_c&#45;&gt;F_norm_c -->\r\n",
       "<g id=\"edge12\" class=\"edge\">\r\n",
       "<title>F_norm_c&#45;&gt;F_norm_c</title>\r\n",
       "<path fill=\"none\" stroke=\"black\" d=\"M943.86,-105.07C945.28,-116.81 950.78,-125.44 960.36,-125.44 966.95,-125.44 971.6,-121.36 974.33,-115\"/>\r\n",
       "<polygon fill=\"black\" stroke=\"black\" points=\"977.79,-115.62 976.86,-105.07 971,-113.89 977.79,-115.62\"/>\r\n",
       "<text text-anchor=\"middle\" x=\"960.36\" y=\"-129.24\" font-family=\"Times New Roman,serif\" font-size=\"14.00\">c, &#39;&#39; ; &#39;&#39;</text>\r\n",
       "</g>\r\n",
       "<!-- F_1st_a -->\r\n",
       "<g id=\"node5\" class=\"node\">\r\n",
       "<title>F_1st_a</title>\r\n",
       "<ellipse fill=\"none\" stroke=\"black\" cx=\"253.99\" cy=\"-83.05\" rx=\"40.11\" ry=\"40.11\"/>\r\n",
       "<ellipse fill=\"none\" stroke=\"black\" cx=\"253.99\" cy=\"-83.05\" rx=\"44.09\" ry=\"44.09\"/>\r\n",
       "<text text-anchor=\"middle\" x=\"253.99\" y=\"-79.35\" font-family=\"Times New Roman,serif\" font-size=\"14.00\">F_1st_a</text>\r\n",
       "</g>\r\n",
       "<!-- F_norm_b -->\r\n",
       "<g id=\"node6\" class=\"node\">\r\n",
       "<title>F_norm_b</title>\r\n",
       "<ellipse fill=\"none\" stroke=\"black\" cx=\"776.92\" cy=\"-54.05\" rx=\"50.09\" ry=\"50.09\"/>\r\n",
       "<ellipse fill=\"none\" stroke=\"black\" cx=\"776.92\" cy=\"-54.05\" rx=\"54.09\" ry=\"54.09\"/>\r\n",
       "<text text-anchor=\"middle\" x=\"776.92\" y=\"-50.35\" font-family=\"Times New Roman,serif\" font-size=\"14.00\">F_norm_b</text>\r\n",
       "</g>\r\n",
       "<!-- F_1st_a&#45;&gt;F_norm_b -->\r\n",
       "<g id=\"edge5\" class=\"edge\">\r\n",
       "<title>F_1st_a&#45;&gt;F_norm_b</title>\r\n",
       "<path fill=\"none\" stroke=\"black\" d=\"M298.51,-80.62C390.54,-75.5 605.23,-63.55 712.53,-57.57\"/>\r\n",
       "<polygon fill=\"black\" stroke=\"black\" points=\"712.78,-61.07 722.57,-57.02 712.39,-54.08 712.78,-61.07\"/>\r\n",
       "<text text-anchor=\"middle\" x=\"504.38\" y=\"-73.85\" font-family=\"Times New Roman,serif\" font-size=\"14.00\">&#39;&#39;, &#39;&#39; ; &#39;&#39;</text>\r\n",
       "</g>\r\n",
       "<!-- F_2nd_a -->\r\n",
       "<g id=\"node10\" class=\"node\">\r\n",
       "<title>F_2nd_a</title>\r\n",
       "<ellipse fill=\"none\" stroke=\"black\" cx=\"418.84\" cy=\"-135.05\" rx=\"43.59\" ry=\"43.59\"/>\r\n",
       "<ellipse fill=\"none\" stroke=\"black\" cx=\"418.84\" cy=\"-135.05\" rx=\"47.59\" ry=\"47.59\"/>\r\n",
       "<text text-anchor=\"middle\" x=\"418.84\" y=\"-131.35\" font-family=\"Times New Roman,serif\" font-size=\"14.00\">F_2nd_a</text>\r\n",
       "</g>\r\n",
       "<!-- F_1st_a&#45;&gt;F_2nd_a -->\r\n",
       "<g id=\"edge4\" class=\"edge\">\r\n",
       "<title>F_1st_a&#45;&gt;F_2nd_a</title>\r\n",
       "<path fill=\"none\" stroke=\"black\" d=\"M296.51,-96.3C316.85,-102.8 341.62,-110.71 363.46,-117.68\"/>\r\n",
       "<polygon fill=\"black\" stroke=\"black\" points=\"362.67,-121.1 373.26,-120.81 364.8,-114.43 362.67,-121.1\"/>\r\n",
       "<text text-anchor=\"middle\" x=\"334.79\" y=\"-116.85\" font-family=\"Times New Roman,serif\" font-size=\"14.00\">a, &#39;&#39; ; &#39;&#39;</text>\r\n",
       "</g>\r\n",
       "<!-- F_norm_b&#45;&gt;F_norm_c -->\r\n",
       "<g id=\"edge11\" class=\"edge\">\r\n",
       "<title>F_norm_b&#45;&gt;F_norm_c</title>\r\n",
       "<path fill=\"none\" stroke=\"black\" d=\"M831.38,-54.05C851.86,-54.05 875.41,-54.05 896.68,-54.05\"/>\r\n",
       "<polygon fill=\"black\" stroke=\"black\" points=\"896.91,-57.55 906.91,-54.05 896.91,-50.55 896.91,-57.55\"/>\r\n",
       "<text text-anchor=\"middle\" x=\"868.96\" y=\"-57.85\" font-family=\"Times New Roman,serif\" font-size=\"14.00\">&#39;&#39;, &#39;&#39; ; &#39;&#39;</text>\r\n",
       "</g>\r\n",
       "<!-- F_norm_b&#45;&gt;F_norm_b -->\r\n",
       "<g id=\"edge10\" class=\"edge\">\r\n",
       "<title>F_norm_b&#45;&gt;F_norm_b</title>\r\n",
       "<path fill=\"none\" stroke=\"black\" d=\"M760.42,-105.53C761.84,-117.38 767.34,-126.09 776.92,-126.09 783.5,-126.09 788.16,-121.98 790.89,-115.55\"/>\r\n",
       "<polygon fill=\"black\" stroke=\"black\" points=\"794.37,-116.08 793.42,-105.53 787.58,-114.37 794.37,-116.08\"/>\r\n",
       "<text text-anchor=\"middle\" x=\"776.92\" y=\"-129.89\" font-family=\"Times New Roman,serif\" font-size=\"14.00\">b, &#39;&#39; ; &#39;&#39;</text>\r\n",
       "</g>\r\n",
       "<!-- F_norm_a -->\r\n",
       "<g id=\"node8\" class=\"node\">\r\n",
       "<title>F_norm_a</title>\r\n",
       "<ellipse fill=\"none\" stroke=\"black\" cx=\"595.13\" cy=\"-135.05\" rx=\"48.97\" ry=\"48.97\"/>\r\n",
       "<ellipse fill=\"none\" stroke=\"black\" cx=\"595.13\" cy=\"-135.05\" rx=\"52.99\" ry=\"52.99\"/>\r\n",
       "<text text-anchor=\"middle\" x=\"595.13\" y=\"-131.35\" font-family=\"Times New Roman,serif\" font-size=\"14.00\">F_norm_a</text>\r\n",
       "</g>\r\n",
       "<!-- F_norm_a&#45;&gt;F_norm_b -->\r\n",
       "<g id=\"edge9\" class=\"edge\">\r\n",
       "<title>F_norm_a&#45;&gt;F_norm_b</title>\r\n",
       "<path fill=\"none\" stroke=\"black\" d=\"M643.84,-113.55C666.61,-103.29 694.06,-90.92 718.02,-80.13\"/>\r\n",
       "<polygon fill=\"black\" stroke=\"black\" points=\"719.68,-83.22 727.36,-75.92 716.81,-76.84 719.68,-83.22\"/>\r\n",
       "<text text-anchor=\"middle\" x=\"685.37\" y=\"-104.85\" font-family=\"Times New Roman,serif\" font-size=\"14.00\">&#39;&#39;, &#39;&#39; ; &#39;&#39;</text>\r\n",
       "</g>\r\n",
       "<!-- F_norm_a&#45;&gt;F_norm_a -->\r\n",
       "<g id=\"edge8\" class=\"edge\">\r\n",
       "<title>F_norm_a&#45;&gt;F_norm_a</title>\r\n",
       "<path fill=\"none\" stroke=\"black\" d=\"M578.59,-185.28C579.95,-197.08 585.46,-205.79 595.13,-205.79 601.77,-205.79 606.46,-201.68 609.18,-195.27\"/>\r\n",
       "<polygon fill=\"black\" stroke=\"black\" points=\"612.64,-195.83 611.67,-185.28 605.85,-194.14 612.64,-195.83\"/>\r\n",
       "<text text-anchor=\"middle\" x=\"595.13\" y=\"-209.59\" font-family=\"Times New Roman,serif\" font-size=\"14.00\">a, &#39;&#39; ; &#39;&#39;</text>\r\n",
       "</g>\r\n",
       "<!-- IF&#45;&gt;F_1st_a -->\r\n",
       "<g id=\"edge2\" class=\"edge\">\r\n",
       "<title>IF&#45;&gt;F_1st_a</title>\r\n",
       "<path fill=\"none\" stroke=\"black\" d=\"M135.23,-35.31C153.11,-42.56 179.84,-53.39 203.31,-62.91\"/>\r\n",
       "<polygon fill=\"black\" stroke=\"black\" points=\"202.22,-66.24 212.8,-66.75 204.85,-59.75 202.22,-66.24\"/>\r\n",
       "<text text-anchor=\"middle\" x=\"173.2\" y=\"-60.85\" font-family=\"Times New Roman,serif\" font-size=\"14.00\">a, &#39;&#39; ; &#39;&#39;</text>\r\n",
       "</g>\r\n",
       "<!-- IF&#45;&gt;F_norm_b -->\r\n",
       "<g id=\"edge3\" class=\"edge\">\r\n",
       "<title>IF&#45;&gt;F_norm_b</title>\r\n",
       "<path fill=\"none\" stroke=\"black\" d=\"M136.77,-22.93C163.94,-18.18 211.71,-11.05 252.99,-11.05 252.99,-11.05 252.99,-11.05 596.13,-11.05 636.88,-11.05 681.43,-21.62 715.99,-32.29\"/>\r\n",
       "<polygon fill=\"black\" stroke=\"black\" points=\"715.33,-35.75 725.92,-35.44 717.45,-29.08 715.33,-35.75\"/>\r\n",
       "<text text-anchor=\"middle\" x=\"418.84\" y=\"-14.85\" font-family=\"Times New Roman,serif\" font-size=\"14.00\">&#39;&#39;, &#39;&#39; ; &#39;&#39;</text>\r\n",
       "</g>\r\n",
       "<!-- F_2nd_a&#45;&gt;Count_b -->\r\n",
       "<g id=\"edge7\" class=\"edge\">\r\n",
       "<title>F_2nd_a&#45;&gt;Count_b</title>\r\n",
       "<path fill=\"none\" stroke=\"black\" d=\"M455.95,-165.5C484.6,-189.67 524.61,-223.41 554.21,-248.38\"/>\r\n",
       "<polygon fill=\"black\" stroke=\"black\" points=\"551.97,-251.07 561.88,-254.84 556.49,-245.72 551.97,-251.07\"/>\r\n",
       "<text text-anchor=\"middle\" x=\"504.38\" y=\"-224.85\" font-family=\"Times New Roman,serif\" font-size=\"14.00\">b, &#39;&#39; ; c</text>\r\n",
       "</g>\r\n",
       "<!-- F_2nd_a&#45;&gt;F_norm_a -->\r\n",
       "<g id=\"edge6\" class=\"edge\">\r\n",
       "<title>F_2nd_a&#45;&gt;F_norm_a</title>\r\n",
       "<path fill=\"none\" stroke=\"black\" d=\"M466.54,-135.05C486.74,-135.05 510.66,-135.05 532.29,-135.05\"/>\r\n",
       "<polygon fill=\"black\" stroke=\"black\" points=\"532.38,-138.55 542.38,-135.05 532.38,-131.55 532.38,-138.55\"/>\r\n",
       "<text text-anchor=\"middle\" x=\"504.38\" y=\"-138.85\" font-family=\"Times New Roman,serif\" font-size=\"14.00\">a, &#39;&#39; ; &#39;&#39;</text>\r\n",
       "</g>\r\n",
       "</g>\r\n",
       "</svg>\r\n"
      ],
      "text/plain": [
       "<graphviz.dot.Digraph at 0x5885370>"
      ]
     },
     "execution_count": 17,
     "metadata": {},
     "output_type": "execute_result"
    }
   ],
   "source": [
    "dotObj_pda(Lif)"
   ]
  },
  {
   "cell_type": "markdown",
   "metadata": {},
   "source": [
    "\n",
    "## Test your PDA on these strings\n",
    "\n",
    "* aa bbb ccc   (accept)\n",
    "\n",
    "* aa bbbb cccc (accept)\n",
    " \n",
    "* aa         (accept)\n",
    "\n",
    "* a bbb cccc (accept)\n",
    "\n",
    "* aaa bb c   (accept)\n",
    "\n",
    "* Epsilon    (accept, as there are zero a's)\n",
    "\n",
    "* a bb cc    (accept, as there is no constraint to not match b's and c's if two a's)\n",
    "\n",
    "\n",
    "* c b        (reject)\n",
    "\n",
    "* aa bb cc a (reject)\n",
    "\n",
    "* a bb a     (reject)\n",
    "\n",
    "* ccac       (reject)\n",
    "\n",
    "* abba       (reject)\n",
    "\n",
    "* baac       (reject)\n",
    "\n",
    "* ac         (accept)\n",
    "\n",
    "\n",
    "# Then add three more accepting cases and three more rejecting cases below\n",
    "\n",
    "## Document the tests saying why they must pass/fail"
   ]
  },
  {
   "cell_type": "markdown",
   "metadata": {},
   "source": [
    "# Now for all our tests"
   ]
  },
  {
   "cell_type": "markdown",
   "metadata": {},
   "source": [
    "* aa bbb ccc   (accept)"
   ]
  },
  {
   "cell_type": "code",
   "execution_count": 18,
   "metadata": {},
   "outputs": [
    {
     "name": "stdout",
     "output_type": "stream",
     "text": [
      "String aabbbccc accepted by your PDA in 1 ways :-) \n",
      "Here are the ways: \n",
      "Final state  ('F_count', '', '#')\n",
      "Reached as follows:\n",
      "->  ('IF', 'aabbbccc', '#')\n",
      "->  ('F_1st_a', 'abbbccc', '#')\n",
      "->  ('F_2nd_a', 'bbbccc', '#')\n",
      "->  ('Count_b', 'bbccc', 'c#')\n",
      "->  ('Count_b', 'bccc', 'cc#')\n",
      "->  ('Count_b', 'ccc', 'ccc#')\n",
      "->  ('Count_c', 'cc', 'cc#')\n",
      "->  ('Count_c', 'c', 'c#')\n",
      "->  ('Count_c', '', '#')\n",
      "->  ('F_count', '', '#') .\n"
     ]
    }
   ],
   "source": [
    "explore_pda('aabbbccc', Lif)"
   ]
  },
  {
   "cell_type": "markdown",
   "metadata": {},
   "source": [
    "* aa bbbb cccc (accept)\n",
    " "
   ]
  },
  {
   "cell_type": "code",
   "execution_count": 19,
   "metadata": {},
   "outputs": [
    {
     "name": "stdout",
     "output_type": "stream",
     "text": [
      "String aabbbbcccc accepted by your PDA in 1 ways :-) \n",
      "Here are the ways: \n",
      "Final state  ('F_count', '', '#')\n",
      "Reached as follows:\n",
      "->  ('IF', 'aabbbbcccc', '#')\n",
      "->  ('F_1st_a', 'abbbbcccc', '#')\n",
      "->  ('F_2nd_a', 'bbbbcccc', '#')\n",
      "->  ('Count_b', 'bbbcccc', 'c#')\n",
      "->  ('Count_b', 'bbcccc', 'cc#')\n",
      "->  ('Count_b', 'bcccc', 'ccc#')\n",
      "->  ('Count_b', 'cccc', 'cccc#')\n",
      "->  ('Count_c', 'ccc', 'ccc#')\n",
      "->  ('Count_c', 'cc', 'cc#')\n",
      "->  ('Count_c', 'c', 'c#')\n",
      "->  ('Count_c', '', '#')\n",
      "->  ('F_count', '', '#') .\n"
     ]
    }
   ],
   "source": [
    "explore_pda('aabbbbcccc', Lif)"
   ]
  },
  {
   "cell_type": "markdown",
   "metadata": {},
   "source": [
    "* aa         (accept)"
   ]
  },
  {
   "cell_type": "code",
   "execution_count": 20,
   "metadata": {},
   "outputs": [
    {
     "name": "stdout",
     "output_type": "stream",
     "text": [
      "String aa accepted by your PDA in 1 ways :-) \n",
      "Here are the ways: \n",
      "Final state  ('F_2nd_a', '', '#')\n",
      "Reached as follows:\n",
      "->  ('IF', 'aa', '#')\n",
      "->  ('F_1st_a', 'a', '#')\n",
      "->  ('F_2nd_a', '', '#') .\n"
     ]
    }
   ],
   "source": [
    "explore_pda('aa', Lif)"
   ]
  },
  {
   "cell_type": "markdown",
   "metadata": {},
   "source": [
    "* a bbb cccc (accept)"
   ]
  },
  {
   "cell_type": "code",
   "execution_count": 21,
   "metadata": {},
   "outputs": [
    {
     "name": "stdout",
     "output_type": "stream",
     "text": [
      "String abbbcccc accepted by your PDA in 1 ways :-) \n",
      "Here are the ways: \n",
      "Final state  ('F_norm_c', '', '#')\n",
      "Reached as follows:\n",
      "->  ('IF', 'abbbcccc', '#')\n",
      "->  ('F_1st_a', 'bbbcccc', '#')\n",
      "->  ('F_norm_b', 'bbbcccc', '#')\n",
      "->  ('F_norm_b', 'bbcccc', '#')\n",
      "->  ('F_norm_b', 'bcccc', '#')\n",
      "->  ('F_norm_b', 'cccc', '#')\n",
      "->  ('F_norm_c', 'cccc', '#')\n",
      "->  ('F_norm_c', 'ccc', '#')\n",
      "->  ('F_norm_c', 'cc', '#')\n",
      "->  ('F_norm_c', 'c', '#')\n",
      "->  ('F_norm_c', '', '#') .\n"
     ]
    }
   ],
   "source": [
    "explore_pda('abbbcccc', Lif)"
   ]
  },
  {
   "cell_type": "markdown",
   "metadata": {},
   "source": [
    "* aaa bb c   (accept)"
   ]
  },
  {
   "cell_type": "code",
   "execution_count": 22,
   "metadata": {},
   "outputs": [
    {
     "name": "stdout",
     "output_type": "stream",
     "text": [
      "String aaabbc accepted by your PDA in 1 ways :-) \n",
      "Here are the ways: \n",
      "Final state  ('F_norm_c', '', '#')\n",
      "Reached as follows:\n",
      "->  ('IF', 'aaabbc', '#')\n",
      "->  ('F_1st_a', 'aabbc', '#')\n",
      "->  ('F_2nd_a', 'abbc', '#')\n",
      "->  ('F_norm_a', 'bbc', '#')\n",
      "->  ('F_norm_b', 'bbc', '#')\n",
      "->  ('F_norm_b', 'bc', '#')\n",
      "->  ('F_norm_b', 'c', '#')\n",
      "->  ('F_norm_c', 'c', '#')\n",
      "->  ('F_norm_c', '', '#') .\n"
     ]
    }
   ],
   "source": [
    "explore_pda('aaabbc', Lif)"
   ]
  },
  {
   "cell_type": "markdown",
   "metadata": {},
   "source": [
    "* Epsilon    (accept, as there are zero a's)"
   ]
  },
  {
   "cell_type": "code",
   "execution_count": 23,
   "metadata": {},
   "outputs": [
    {
     "name": "stdout",
     "output_type": "stream",
     "text": [
      "String  accepted by your PDA in 3 ways :-) \n",
      "Here are the ways: \n",
      "Final state  ('IF', '', '#')\n",
      "Reached as follows:\n",
      "->  ('IF', '', '#') .\n",
      "Final state  ('F_norm_b', '', '#')\n",
      "Reached as follows:\n",
      "->  ('IF', '', '#')\n",
      "->  ('F_norm_b', '', '#') .\n",
      "Final state  ('F_norm_c', '', '#')\n",
      "Reached as follows:\n",
      "->  ('IF', '', '#')\n",
      "->  ('F_norm_b', '', '#')\n",
      "->  ('F_norm_c', '', '#') .\n"
     ]
    }
   ],
   "source": [
    "explore_pda('', Lif)"
   ]
  },
  {
   "cell_type": "markdown",
   "metadata": {},
   "source": [
    "* a bb cc    (accept, as there is no constraint to not match b's and c's if two a's)"
   ]
  },
  {
   "cell_type": "code",
   "execution_count": 24,
   "metadata": {},
   "outputs": [
    {
     "name": "stdout",
     "output_type": "stream",
     "text": [
      "String abbcc accepted by your PDA in 1 ways :-) \n",
      "Here are the ways: \n",
      "Final state  ('F_norm_c', '', '#')\n",
      "Reached as follows:\n",
      "->  ('IF', 'abbcc', '#')\n",
      "->  ('F_1st_a', 'bbcc', '#')\n",
      "->  ('F_norm_b', 'bbcc', '#')\n",
      "->  ('F_norm_b', 'bcc', '#')\n",
      "->  ('F_norm_b', 'cc', '#')\n",
      "->  ('F_norm_c', 'cc', '#')\n",
      "->  ('F_norm_c', 'c', '#')\n",
      "->  ('F_norm_c', '', '#') .\n"
     ]
    }
   ],
   "source": [
    "explore_pda('abbcc', Lif)"
   ]
  },
  {
   "cell_type": "markdown",
   "metadata": {},
   "source": [
    "* b c must accept too"
   ]
  },
  {
   "cell_type": "code",
   "execution_count": 25,
   "metadata": {},
   "outputs": [
    {
     "name": "stdout",
     "output_type": "stream",
     "text": [
      "String bc accepted by your PDA in 1 ways :-) \n",
      "Here are the ways: \n",
      "Final state  ('F_norm_c', '', '#')\n",
      "Reached as follows:\n",
      "->  ('IF', 'bc', '#')\n",
      "->  ('F_norm_b', 'bc', '#')\n",
      "->  ('F_norm_b', 'c', '#')\n",
      "->  ('F_norm_c', 'c', '#')\n",
      "->  ('F_norm_c', '', '#') .\n"
     ]
    }
   ],
   "source": [
    "explore_pda('bc', Lif)"
   ]
  },
  {
   "cell_type": "markdown",
   "metadata": {},
   "source": [
    "* c b        (reject)"
   ]
  },
  {
   "cell_type": "code",
   "execution_count": 26,
   "metadata": {},
   "outputs": [
    {
     "name": "stdout",
     "output_type": "stream",
     "text": [
      "String cb rejected by your PDA :-(\n",
      "Visited states are:\n",
      "{('F_norm_c', 'b', '#'), ('IF', 'cb', '#'), ('F_norm_c', 'cb', '#'), ('F_norm_b', 'cb', '#')}\n"
     ]
    }
   ],
   "source": [
    "explore_pda('cb', Lif)"
   ]
  },
  {
   "cell_type": "markdown",
   "metadata": {},
   "source": [
    "* aa bb cc a (reject)"
   ]
  },
  {
   "cell_type": "code",
   "execution_count": 27,
   "metadata": {},
   "outputs": [
    {
     "name": "stdout",
     "output_type": "stream",
     "text": [
      "String aabbcca rejected by your PDA :-(\n",
      "Visited states are:\n",
      "{('Count_c', 'ca', 'c#'), ('Count_c', 'a', '#'), ('F_count', 'a', '#'), ('F_2nd_a', 'bbcca', '#'), ('F_norm_c', 'abbcca', '#'), ('F_1st_a', 'abbcca', '#'), ('Count_b', 'cca', 'cc#'), ('IF', 'aabbcca', '#'), ('F_norm_b', 'abbcca', '#'), ('F_norm_b', 'aabbcca', '#'), ('F_norm_c', 'aabbcca', '#'), ('Count_b', 'bcca', 'c#')}\n"
     ]
    }
   ],
   "source": [
    "explore_pda('aabbcca', Lif)"
   ]
  },
  {
   "cell_type": "markdown",
   "metadata": {},
   "source": [
    "* a bb a     (reject)"
   ]
  },
  {
   "cell_type": "code",
   "execution_count": 28,
   "metadata": {},
   "outputs": [
    {
     "name": "stdout",
     "output_type": "stream",
     "text": [
      "String abba rejected by your PDA :-(\n",
      "Visited states are:\n",
      "{('F_norm_c', 'ba', '#'), ('F_norm_b', 'a', '#'), ('F_norm_c', 'bba', '#'), ('F_norm_c', 'a', '#'), ('F_norm_b', 'abba', '#'), ('F_norm_b', 'ba', '#'), ('F_1st_a', 'bba', '#'), ('IF', 'abba', '#'), ('F_norm_b', 'bba', '#'), ('F_norm_c', 'abba', '#')}\n"
     ]
    }
   ],
   "source": [
    "explore_pda('abba', Lif)"
   ]
  },
  {
   "cell_type": "markdown",
   "metadata": {},
   "source": [
    "* ccac       (reject)"
   ]
  },
  {
   "cell_type": "code",
   "execution_count": 29,
   "metadata": {},
   "outputs": [
    {
     "name": "stdout",
     "output_type": "stream",
     "text": [
      "String ccac rejected by your PDA :-(\n",
      "Visited states are:\n",
      "{('F_norm_c', 'ccac', '#'), ('F_norm_c', 'cac', '#'), ('IF', 'ccac', '#'), ('F_norm_b', 'ccac', '#'), ('F_norm_c', 'ac', '#')}\n"
     ]
    }
   ],
   "source": [
    "explore_pda('ccac', Lif)"
   ]
  },
  {
   "cell_type": "markdown",
   "metadata": {},
   "source": [
    "* abba       (reject)"
   ]
  },
  {
   "cell_type": "code",
   "execution_count": 30,
   "metadata": {},
   "outputs": [
    {
     "name": "stdout",
     "output_type": "stream",
     "text": [
      "String abba rejected by your PDA :-(\n",
      "Visited states are:\n",
      "{('F_norm_c', 'ba', '#'), ('F_norm_b', 'a', '#'), ('F_norm_c', 'bba', '#'), ('F_norm_c', 'a', '#'), ('F_norm_b', 'abba', '#'), ('F_norm_b', 'ba', '#'), ('F_1st_a', 'bba', '#'), ('IF', 'abba', '#'), ('F_norm_b', 'bba', '#'), ('F_norm_c', 'abba', '#')}\n"
     ]
    }
   ],
   "source": [
    "explore_pda('abba', Lif)"
   ]
  },
  {
   "cell_type": "markdown",
   "metadata": {},
   "source": [
    "* baac       (reject)"
   ]
  },
  {
   "cell_type": "code",
   "execution_count": 31,
   "metadata": {},
   "outputs": [
    {
     "name": "stdout",
     "output_type": "stream",
     "text": [
      "String baac rejected by your PDA :-(\n",
      "Visited states are:\n",
      "{('F_norm_b', 'baac', '#'), ('F_norm_c', 'baac', '#'), ('F_norm_b', 'aac', '#'), ('F_norm_c', 'aac', '#'), ('IF', 'baac', '#')}\n"
     ]
    }
   ],
   "source": [
    "explore_pda('baac', Lif)"
   ]
  },
  {
   "cell_type": "markdown",
   "metadata": {},
   "source": [
    "* ac         (accept), as there are no b's  "
   ]
  },
  {
   "cell_type": "code",
   "execution_count": 32,
   "metadata": {},
   "outputs": [
    {
     "name": "stdout",
     "output_type": "stream",
     "text": [
      "String ac accepted by your PDA in 1 ways :-) \n",
      "Here are the ways: \n",
      "Final state  ('F_norm_c', '', '#')\n",
      "Reached as follows:\n",
      "->  ('IF', 'ac', '#')\n",
      "->  ('F_1st_a', 'c', '#')\n",
      "->  ('F_norm_b', 'c', '#')\n",
      "->  ('F_norm_c', 'c', '#')\n",
      "->  ('F_norm_c', '', '#') .\n"
     ]
    }
   ],
   "source": [
    "explore_pda('ac', Lif)"
   ]
  },
  {
   "cell_type": "markdown",
   "metadata": {},
   "source": [
    "* acb (reject)"
   ]
  },
  {
   "cell_type": "code",
   "execution_count": 33,
   "metadata": {},
   "outputs": [
    {
     "name": "stdout",
     "output_type": "stream",
     "text": [
      "String acb rejected by your PDA :-(\n",
      "Visited states are:\n",
      "{('IF', 'acb', '#'), ('F_norm_b', 'cb', '#'), ('F_norm_c', 'b', '#'), ('F_1st_a', 'cb', '#'), ('F_norm_b', 'acb', '#'), ('F_norm_c', 'cb', '#'), ('F_norm_c', 'acb', '#')}\n"
     ]
    }
   ],
   "source": [
    "explore_pda('acb', Lif)"
   ]
  },
  {
   "cell_type": "markdown",
   "metadata": {},
   "source": [
    "# Now, some more of your tests"
   ]
  },
  {
   "cell_type": "markdown",
   "metadata": {},
   "source": [
    "aa bbb ccc (accept)\n",
    "\n",
    "aa bbbb cccc (accept)\n",
    "\n",
    "aa (accept)\n",
    "\n",
    "a bbb cccc (accept)\n",
    "\n",
    "aaa bb c (accept)\n",
    "\n",
    "Epsilon (accept, as there are zero a's)\n",
    "\n",
    "a bb cc (accept, as there is no constraint to not match b's and c's if two a's)\n",
    "\n",
    "c b (reject)\n",
    "\n",
    "aa bb cc a (reject)\n",
    "\n",
    "a bb a (reject)\n",
    "\n",
    "ccac (reject)\n",
    "\n",
    "abba (reject)\n",
    "\n",
    "baac (reject)\n",
    "\n",
    "ac (accept)"
   ]
  },
  {
   "cell_type": "code",
   "execution_count": 34,
   "metadata": {},
   "outputs": [
    {
     "name": "stdout",
     "output_type": "stream",
     "text": [
      "should accept:\n",
      "String ab accepted by your PDA in 2 ways :-) \n",
      "Here are the ways: \n",
      "Final state  ('F_norm_b', '', '#')\n",
      "Reached as follows:\n",
      "->  ('IF', 'ab', '#')\n",
      "->  ('F_1st_a', 'b', '#')\n",
      "->  ('F_norm_b', 'b', '#')\n",
      "->  ('F_norm_b', '', '#') .\n",
      "Final state  ('F_norm_c', '', '#')\n",
      "Reached as follows:\n",
      "->  ('IF', 'ab', '#')\n",
      "->  ('F_1st_a', 'b', '#')\n",
      "->  ('F_norm_b', 'b', '#')\n",
      "->  ('F_norm_b', '', '#')\n",
      "->  ('F_norm_c', '', '#') .\n"
     ]
    }
   ],
   "source": [
    "print('should accept:')\n",
    "explore_pda('ab', Lif) # one \"a\", one \"b\", and zero \"c\" (i,j,k >= 0 and i != 2)"
   ]
  },
  {
   "cell_type": "code",
   "execution_count": 35,
   "metadata": {},
   "outputs": [
    {
     "name": "stdout",
     "output_type": "stream",
     "text": [
      "should accept:\n",
      "String bc accepted by your PDA in 1 ways :-) \n",
      "Here are the ways: \n",
      "Final state  ('F_norm_c', '', '#')\n",
      "Reached as follows:\n",
      "->  ('IF', 'bc', '#')\n",
      "->  ('F_norm_b', 'bc', '#')\n",
      "->  ('F_norm_b', 'c', '#')\n",
      "->  ('F_norm_c', 'c', '#')\n",
      "->  ('F_norm_c', '', '#') .\n"
     ]
    }
   ],
   "source": [
    "print('should accept:')\n",
    "explore_pda('bc', Lif) # zero \"a\"s, one \"b\", and one \"c\" (i,j,k >= 0 and i != 2)"
   ]
  },
  {
   "cell_type": "code",
   "execution_count": 36,
   "metadata": {},
   "outputs": [
    {
     "name": "stdout",
     "output_type": "stream",
     "text": [
      "should accept:\n",
      "String c accepted by your PDA in 1 ways :-) \n",
      "Here are the ways: \n",
      "Final state  ('F_norm_c', '', '#')\n",
      "Reached as follows:\n",
      "->  ('IF', 'c', '#')\n",
      "->  ('F_norm_b', 'c', '#')\n",
      "->  ('F_norm_c', 'c', '#')\n",
      "->  ('F_norm_c', '', '#') .\n"
     ]
    }
   ],
   "source": [
    "print('should accept:')\n",
    "explore_pda('c', Lif) # zero \"a\"s, zero \"b\"s, and one \"c\" (i,j,k >= 0 and i != 2)"
   ]
  },
  {
   "cell_type": "code",
   "execution_count": 37,
   "metadata": {},
   "outputs": [
    {
     "name": "stdout",
     "output_type": "stream",
     "text": [
      "should reject:\n",
      "String aacb rejected by your PDA :-(\n",
      "Visited states are:\n",
      "{('F_norm_b', 'aacb', '#'), ('F_norm_c', 'aacb', '#'), ('F_2nd_a', 'cb', '#'), ('F_1st_a', 'acb', '#'), ('IF', 'aacb', '#'), ('F_norm_b', 'acb', '#'), ('F_norm_c', 'acb', '#')}\n"
     ]
    }
   ],
   "source": [
    "print('should reject:')\n",
    "explore_pda('aacb', Lif) # two \"a\"s, \"c\" coming before \"b\" (out of order)"
   ]
  },
  {
   "cell_type": "code",
   "execution_count": 38,
   "metadata": {},
   "outputs": [
    {
     "name": "stdout",
     "output_type": "stream",
     "text": [
      "should reject:\n",
      "String aab rejected by your PDA :-(\n",
      "Visited states are:\n",
      "{('IF', 'aab', '#'), ('F_norm_c', 'ab', '#'), ('F_norm_c', 'aab', '#'), ('F_norm_b', 'ab', '#'), ('F_norm_b', 'aab', '#'), ('Count_b', '', 'c#'), ('F_2nd_a', 'b', '#'), ('F_1st_a', 'ab', '#')}\n"
     ]
    }
   ],
   "source": [
    "print('should reject:')\n",
    "explore_pda('aab', Lif) # two \"a\"s, one \"b\", and zero \"c\"s (i == 2 but j(1) != k(0))"
   ]
  },
  {
   "cell_type": "code",
   "execution_count": 39,
   "metadata": {},
   "outputs": [
    {
     "name": "stdout",
     "output_type": "stream",
     "text": [
      "should reject:\n",
      "String aac rejected by your PDA :-(\n",
      "Visited states are:\n",
      "{('F_2nd_a', 'c', '#'), ('F_norm_b', 'ac', '#'), ('IF', 'aac', '#'), ('F_norm_b', 'aac', '#'), ('F_norm_c', 'aac', '#'), ('F_1st_a', 'ac', '#'), ('F_norm_c', 'ac', '#')}\n"
     ]
    }
   ],
   "source": [
    "print('should reject:')\n",
    "explore_pda('aac', Lif) # two \"a\"s, zero \"b\"s, and one \"c\" (i == 2 but j(0) != k(1))"
   ]
  },
  {
   "cell_type": "markdown",
   "metadata": {},
   "source": [
    "# END\n"
   ]
  }
 ],
 "metadata": {
  "kernelspec": {
   "display_name": "Python 3",
   "language": "python",
   "name": "python3"
  },
  "language_info": {
   "codemirror_mode": {
    "name": "ipython",
    "version": 3
   },
   "file_extension": ".py",
   "mimetype": "text/x-python",
   "name": "python",
   "nbconvert_exporter": "python",
   "pygments_lexer": "ipython3",
   "version": "3.8.5"
  },
  "toc": {
   "colors": {
    "hover_highlight": "#DAA520",
    "running_highlight": "#FF0000",
    "selected_highlight": "#FFD700"
   },
   "moveMenuLeft": true,
   "nav_menu": {
    "height": "121px",
    "width": "252px"
   },
   "navigate_menu": true,
   "number_sections": true,
   "sideBar": true,
   "threshold": 4,
   "toc_cell": false,
   "toc_section_display": "block",
   "toc_window_display": false,
   "widenNotebook": false
  },
  "widgets": {
   "state": {
    "430c92ee02b34ec1912bf03c8de1e6dc": {
     "views": [
      {
       "cell_index": 20
      }
     ]
    }
   },
   "version": "1.2.0"
  }
 },
 "nbformat": 4,
 "nbformat_minor": 2
}
