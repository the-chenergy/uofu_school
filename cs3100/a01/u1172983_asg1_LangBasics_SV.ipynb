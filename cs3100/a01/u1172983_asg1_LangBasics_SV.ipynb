{
  "nbformat": 4,
  "nbformat_minor": 0,
  "metadata": {
    "kernelspec": {
      "display_name": "Python 3",
      "language": "python",
      "name": "python3"
    },
    "language_info": {
      "codemirror_mode": {
        "name": "ipython",
        "version": 3
      },
      "file_extension": ".py",
      "mimetype": "text/x-python",
      "name": "python",
      "nbconvert_exporter": "python",
      "pygments_lexer": "ipython3",
      "version": "3.7.3"
    },
    "colab": {
      "name": "u0000000_asg1_LangBasics_SV.ipynb",
      "provenance": []
    }
  },
  "cells": [
    {
      "cell_type": "markdown",
      "metadata": {
        "id": "UERzyhwGPoH1",
        "colab_type": "text"
      },
      "source": [
        "# First let's import, then look for the assignment below"
      ]
    },
    {
      "cell_type": "code",
      "metadata": {
        "id": "HPpbff_jPoH3",
        "colab_type": "code",
        "colab": {}
      },
      "source": [
        "#~~~~~~~~~~~~~~~~~~~~~~~~~~~~~~~~~~~~~~~~~~~~~~~~~~~~~~~\n",
        "import sys\n",
        "\n",
        "# -- Detect if in Own Install or in Colab\n",
        "try:\n",
        "    import google.colab\n",
        "    OWN_INSTALL = False\n",
        "except:\n",
        "    OWN_INSTALL = True\n",
        "    \n",
        "if OWN_INSTALL:\n",
        "    \n",
        "  #---- Leave these definitions ON if running on laptop\n",
        "  #---- Else turn OFF by putting them between ''' ... '''\n",
        "\n",
        "  sys.path[0:0] = ['../../../../..',  '../../../../../3rdparty',  \n",
        "                   '../../../..',  '../../../../3rdparty',  \n",
        "                   '../../..',     '../../../3rdparty', \n",
        "                   '../..',        '../../3rdparty',\n",
        "                   '..',           '../3rdparty' ]\n",
        "\n",
        "else: # In colab\n",
        "  ! if [ ! -d Jove ]; then git clone https://github.com/ganeshutah/Jove Jove; fi\n",
        "  sys.path.append('./Jove')\n",
        "  sys.path.append('./Jove/jove')\n",
        "\n",
        "# -- common imports --\n",
        "from jove.LangDef   import *\n",
        "#~~~~~~~~~~~~~~~~~~~~~~~~~~~~~~~~~~~~~~~~~~~~~~~~~~~~~~~"
      ],
      "execution_count": null,
      "outputs": []
    },
    {
      "cell_type": "markdown",
      "metadata": {
        "id": "aqWQclcLPoH-",
        "colab_type": "text"
      },
      "source": [
        "# Assignment-1 Problem-2 on Language Basics\n",
        "\n",
        "## Graded by Shashank Vadlamani (SV)\n",
        "\n",
        "### BEFORE YOU SUBMIT THIS FILE, PLEASE RENAME THIS FILE BY REPLACING THE 0000000 IN THE FILE NAME WITH YOUR CORRECT UNID. KEEP THE \"u\" AT THE BEGINNING.\n",
        "\n",
        "\n",
        " <font size=\"4\"> \n",
        "\n",
        "This problem helps you review the basics of languages, symbols, strings, concatenation, etc. It presents the material in the form of puzzles.  \n",
        "    \n",
        "Tasks for you:\n",
        " \n",
        "</font>"
      ]
    },
    {
      "cell_type": "markdown",
      "metadata": {
        "id": "t3WE4PXJPoH_",
        "colab_type": "text"
      },
      "source": [
        "<font size=\"4\"> \n",
        "\n",
        " \n",
        "1. If there are two languages $L_1$ and $L_2$, their concatenation has smaller size than their cartesian product if the following condition is met:\n",
        "    \n",
        "    **Their intersection is at least of size 2 and contains $\\varepsilon$**\n",
        "    \n",
        "Your two tasks are described below.\n",
        "    \n",
        "</font>"
      ]
    },
    {
      "cell_type": "markdown",
      "metadata": {
        "id": "7wUeSr74PoIA",
        "colab_type": "text"
      },
      "source": [
        "# Space below for your arguments\n",
        "<font size=\"4\">\n",
        "\n",
        "\n",
        "</font>"
      ]
    },
    {
      "cell_type": "markdown",
      "metadata": {
        "id": "_gtFVOR7PoIB",
        "colab_type": "text"
      },
      "source": [
        "## Now present code that supports or refutes the claim."
      ]
    },
    {
      "cell_type": "markdown",
      "metadata": {
        "id": "135L-Gk5PoIC",
        "colab_type": "text"
      },
      "source": [
        "# Task-1: Define two languages to print \"cat and product have the same size\" below. L1 and L2 must both contain $\\varepsilon$."
      ]
    },
    {
      "cell_type": "code",
      "metadata": {
        "id": "wtYCkONvPoID",
        "colab_type": "code",
        "colab": {}
      },
      "source": [
        "L1 = {''}\n",
        "L2 = {'', 'a'}"
      ],
      "execution_count": null,
      "outputs": []
    },
    {
      "cell_type": "code",
      "metadata": {
        "id": "Oz5xvzV8PoIJ",
        "colab_type": "code",
        "colab": {
          "base_uri": "https://localhost:8080/",
          "height": 105
        },
        "outputId": "efbf5eae-b43c-49a8-bd23-078a951be2c0"
      },
      "source": [
        "print(\"L1 and L2 are\", L1, L2)\n",
        "\n",
        "# Perform their contatenation \n",
        "\n",
        "catL1L2 = lcat(L1,L2)\n",
        "lencatL1L2 = len(catL1L2)\n",
        "\n",
        "print(\"Cat of L1 and L2 is\", catL1L2, \" of size \", lencatL1L2)\n",
        "\n",
        "# Perform their intersection\n",
        "\n",
        "intL1L2 = lint(L1,L2)\n",
        "lenintL1L2 = len(intL1L2)\n",
        "\n",
        "print(\"Intersection of L1 and L2 is\", intL1L2, \" of size \", lenintL1L2)\n",
        "\n",
        "# Make a statement of what you observe\n",
        "\n",
        "prodL1L2 = { (x,y) for x in L1 for y in L2 }\n",
        "lenprodL1L2 = len(prodL1L2)\n",
        "\n",
        "print(\"Product of L1 and L2 is\", prodL1L2, \" of size \", lenprodL1L2)\n",
        "\n",
        "if (lenprodL1L2 != lencatL1L2):\n",
        "    print(\" cat and product differ in size \")\n",
        "else:\n",
        "    print(\" cat and product have the same size \")\n",
        "    \n",
        " "
      ],
      "execution_count": null,
      "outputs": [
        {
          "output_type": "stream",
          "text": [
            "L1 and L2 are {''} {'', 'a'}\n",
            "Cat of L1 and L2 is {'', 'a'}  of size  2\n",
            "Intersection of L1 and L2 is {''}  of size  1\n",
            "Product of L1 and L2 is {('', 'a'), ('', '')}  of size  2\n",
            " cat and product have the same size \n"
          ],
          "name": "stdout"
        }
      ]
    },
    {
      "cell_type": "markdown",
      "metadata": {
        "id": "i6n9ZyQHPoIO",
        "colab_type": "text"
      },
      "source": [
        "# Task-2: Define two languages to print \"cat and product differ in size\" below. L1 and L2 must both contain $\\varepsilon$."
      ]
    },
    {
      "cell_type": "code",
      "metadata": {
        "id": "v6mqowWLPoIP",
        "colab_type": "code",
        "colab": {}
      },
      "source": [
        "L1 = {'', 'a'}\n",
        "L2 = {'', 'a'}"
      ],
      "execution_count": null,
      "outputs": []
    },
    {
      "cell_type": "code",
      "metadata": {
        "id": "FD0CIFXsPoIV",
        "colab_type": "code",
        "colab": {
          "base_uri": "https://localhost:8080/",
          "height": 105
        },
        "outputId": "c6324fce-31a4-4b44-9ae4-904f2eb8f9c1"
      },
      "source": [
        "print(\"L1 and L2 are\", L1, L2)\n",
        "\n",
        "# Perform their contatenation \n",
        "\n",
        "catL1L2 = lcat(L1,L2)\n",
        "lencatL1L2 = len(catL1L2)\n",
        "\n",
        "print(\"Cat of L1 and L2 is\", catL1L2, \" of size \", lencatL1L2)\n",
        "\n",
        "# Perform their intersection\n",
        "\n",
        "intL1L2 = lint(L1,L2)\n",
        "lenintL1L2 = len(intL1L2)\n",
        "\n",
        "print(\"Intersection of L1 and L2 is\", intL1L2, \" of size \", lenintL1L2)\n",
        "\n",
        "# Make a statement of what you observe\n",
        "\n",
        "prodL1L2 = { (x,y) for x in L1 for y in L2 }\n",
        "lenprodL1L2 = len(prodL1L2)\n",
        "\n",
        "print(\"Product of L1 and L2 is\", prodL1L2, \" of size \", lenprodL1L2)\n",
        "\n",
        "if (lenprodL1L2 != lencatL1L2):\n",
        "    print(\" cat and product differ in size \")\n",
        "else:\n",
        "    print(\" cat and product have the same size \")\n",
        "    \n",
        " "
      ],
      "execution_count": null,
      "outputs": [
        {
          "output_type": "stream",
          "text": [
            "L1 and L2 are {'', 'a'} {'', 'a'}\n",
            "Cat of L1 and L2 is {'', 'aa', 'a'}  of size  3\n",
            "Intersection of L1 and L2 is {'', 'a'}  of size  2\n",
            "Product of L1 and L2 is {('', 'a'), ('', ''), ('a', ''), ('a', 'a')}  of size  4\n",
            " cat and product differ in size \n"
          ],
          "name": "stdout"
        }
      ]
    }
  ]
}