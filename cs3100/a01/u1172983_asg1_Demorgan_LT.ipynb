{
 "cells": [
  {
   "cell_type": "markdown",
   "metadata": {
    "colab_type": "text",
    "id": "jURUzSTOT7TJ"
   },
   "source": [
    "# First let's import, then look for the assignment below"
   ]
  },
  {
   "cell_type": "code",
   "execution_count": 1,
   "metadata": {
    "colab": {},
    "colab_type": "code",
    "id": "S2nferW1T7TL"
   },
   "outputs": [
    {
     "name": "stdout",
     "output_type": "stream",
     "text": [
      "You may use any of these help commands:\n",
      "help(lphi)\n",
      "help(lunit)\n",
      "help(lcat)\n",
      "help(lexp)\n",
      "help(lunion)\n",
      "help(lstar)\n",
      "help(srev)\n",
      "help(lrev)\n",
      "help(shomo)\n",
      "help(lhomo)\n",
      "help(powset)\n",
      "help(lint)\n",
      "help(lsymdiff)\n",
      "help(lminus)\n",
      "help(lissubset)\n",
      "help(lissuperset)\n",
      "help(lcomplem)\n",
      "help(product)\n",
      "help(nthnumeric)\n",
      "\n"
     ]
    }
   ],
   "source": [
    "#~~~~~~~~~~~~~~~~~~~~~~~~~~~~~~~~~~~~~~~~~~~~~~~~~~~~~~~\n",
    "import sys\n",
    "\n",
    "# -- Detect if in Own Install or in Colab\n",
    "try:\n",
    "    import google.colab\n",
    "    OWN_INSTALL = False\n",
    "except:\n",
    "    OWN_INSTALL = True\n",
    "    \n",
    "if OWN_INSTALL:\n",
    "    \n",
    "  #---- Leave these definitions ON if running on laptop\n",
    "  #---- Else turn OFF by putting them between ''' ... '''\n",
    "\n",
    "  sys.path[0:0] = ['../../../../..',  '../../../../../3rdparty',  \n",
    "                   '../../../..',  '../../../../3rdparty',  \n",
    "                   '../../..',     '../../../3rdparty', \n",
    "                   '../..',        '../../3rdparty',\n",
    "                   '..',           '../3rdparty' ]\n",
    "\n",
    "else: # In colab\n",
    "  ! if [ ! -d Jove ]; then git clone https://github.com/ganeshutah/Jove Jove; fi\n",
    "  sys.path.append('./Jove')\n",
    "  sys.path.append('./Jove/jove')\n",
    "\n",
    "# -- common imports --\n",
    "from jove.LangDef   import *\n",
    "#~~~~~~~~~~~~~~~~~~~~~~~~~~~~~~~~~~~~~~~~~~~~~~~~~~~~~~~"
   ]
  },
  {
   "cell_type": "markdown",
   "metadata": {
    "colab_type": "text",
    "id": "VwBhmg4CT7TY"
   },
   "source": [
    "# Assignment-1 Problem-4 on DeMorgan's Law graded by Leon Tran (LT)\n",
    "\n",
    " \n",
    "\n",
    "### BEFORE YOU SUBMIT THIS FILE, PLEASE RENAME THIS FILE BY REPLACING THE 0000000 IN THE FILE NAME WITH YOUR CORRECT UNID. KEEP THE \"u\" AT THE BEGINNING.\n",
    "\n",
    "\n",
    " <font size=\"4\"> \n",
    "\n",
    "Let's illustrate DeMorgan's Law using Jove.  \n",
    "    \n",
    "</font>"
   ]
  },
  {
   "cell_type": "markdown",
   "metadata": {
    "colab_type": "text",
    "id": "R2u9riZpT7Ta"
   },
   "source": [
    "# Define the universe $\\Sigma_4^*$ for the $\\Sigma$ given below, consulting Pages 28-29 of our book"
   ]
  },
  {
   "cell_type": "code",
   "execution_count": 2,
   "metadata": {
    "colab": {
     "base_uri": "https://localhost:8080/",
     "height": 1000
    },
    "colab_type": "code",
    "id": "6myfQRvbT7Tc",
    "outputId": "cf823ed5-4ed2-4ac2-849b-f2806e8c62ae"
   },
   "outputs": [
    {
     "name": "stdout",
     "output_type": "stream",
     "text": [
      "Help on function lstar in module jove.LangDef:\n",
      "\n",
      "lstar(L, n)\n",
      "    In : L (language : a set),\n",
      "            n (bound for lstar : a nat). \n",
      "       Out: L*_n (language : a set)\n",
      "    Example:\n",
      "    L = {'ab','bc'}\n",
      "    n = 2\n",
      "    lstar(L,2) -> {'abab', 'bcbc', 'ab', 'abbc', '', 'bc', 'bcab'}\n",
      "\n"
     ]
    },
    {
     "data": {
      "text/plain": [
       "{'',\n",
       " 'a',\n",
       " 'aa',\n",
       " 'aaa',\n",
       " 'aaaa',\n",
       " 'aaab',\n",
       " 'aaac',\n",
       " 'aab',\n",
       " 'aaba',\n",
       " 'aabb',\n",
       " 'aabc',\n",
       " 'aac',\n",
       " 'aaca',\n",
       " 'aacb',\n",
       " 'aacc',\n",
       " 'ab',\n",
       " 'aba',\n",
       " 'abaa',\n",
       " 'abab',\n",
       " 'abac',\n",
       " 'abb',\n",
       " 'abba',\n",
       " 'abbb',\n",
       " 'abbc',\n",
       " 'abc',\n",
       " 'abca',\n",
       " 'abcb',\n",
       " 'abcc',\n",
       " 'ac',\n",
       " 'aca',\n",
       " 'acaa',\n",
       " 'acab',\n",
       " 'acac',\n",
       " 'acb',\n",
       " 'acba',\n",
       " 'acbb',\n",
       " 'acbc',\n",
       " 'acc',\n",
       " 'acca',\n",
       " 'accb',\n",
       " 'accc',\n",
       " 'b',\n",
       " 'ba',\n",
       " 'baa',\n",
       " 'baaa',\n",
       " 'baab',\n",
       " 'baac',\n",
       " 'bab',\n",
       " 'baba',\n",
       " 'babb',\n",
       " 'babc',\n",
       " 'bac',\n",
       " 'baca',\n",
       " 'bacb',\n",
       " 'bacc',\n",
       " 'bb',\n",
       " 'bba',\n",
       " 'bbaa',\n",
       " 'bbab',\n",
       " 'bbac',\n",
       " 'bbb',\n",
       " 'bbba',\n",
       " 'bbbb',\n",
       " 'bbbc',\n",
       " 'bbc',\n",
       " 'bbca',\n",
       " 'bbcb',\n",
       " 'bbcc',\n",
       " 'bc',\n",
       " 'bca',\n",
       " 'bcaa',\n",
       " 'bcab',\n",
       " 'bcac',\n",
       " 'bcb',\n",
       " 'bcba',\n",
       " 'bcbb',\n",
       " 'bcbc',\n",
       " 'bcc',\n",
       " 'bcca',\n",
       " 'bccb',\n",
       " 'bccc',\n",
       " 'c',\n",
       " 'ca',\n",
       " 'caa',\n",
       " 'caaa',\n",
       " 'caab',\n",
       " 'caac',\n",
       " 'cab',\n",
       " 'caba',\n",
       " 'cabb',\n",
       " 'cabc',\n",
       " 'cac',\n",
       " 'caca',\n",
       " 'cacb',\n",
       " 'cacc',\n",
       " 'cb',\n",
       " 'cba',\n",
       " 'cbaa',\n",
       " 'cbab',\n",
       " 'cbac',\n",
       " 'cbb',\n",
       " 'cbba',\n",
       " 'cbbb',\n",
       " 'cbbc',\n",
       " 'cbc',\n",
       " 'cbca',\n",
       " 'cbcb',\n",
       " 'cbcc',\n",
       " 'cc',\n",
       " 'cca',\n",
       " 'ccaa',\n",
       " 'ccab',\n",
       " 'ccac',\n",
       " 'ccb',\n",
       " 'ccba',\n",
       " 'ccbb',\n",
       " 'ccbc',\n",
       " 'ccc',\n",
       " 'ccca',\n",
       " 'cccb',\n",
       " 'cccc'}"
      ]
     },
     "execution_count": 2,
     "metadata": {},
     "output_type": "execute_result"
    }
   ],
   "source": [
    "Sigma = {'a', 'b', 'c'}\n",
    "\n",
    "# since there are too many elements in the answer which could be too difficult to list without\n",
    "# missing any, i choosed to call the helper function `lstar()` instead, which takes in the\n",
    "# alphabet set and the bound of how many \"powers\" to generate in the output.\n",
    "Sigma_4_Star = lstar(Sigma, 4)\n",
    "\n",
    "Sigma_4_Star\n"
   ]
  },
  {
   "cell_type": "markdown",
   "metadata": {
    "colab_type": "text",
    "id": "ALJrzT-0T7Tl"
   },
   "source": [
    "# Illustrate DeMorgan's law with respect to these two sets:\n",
    "\n",
    "* $A = \\{a, \\varepsilon , bc\\}$\n",
    "\n",
    "* $B = \\{a, \\varepsilon, bba, ca\\}$\n",
    "\n",
    "## Specific instructions\n",
    "\n",
    "* Show, using Jove, that $\\overline{(A\\cup B)} = \\overline{A} \\cap \\overline{B}$. \n",
    "\n",
    "* Here, LHS = $\\overline{(A\\cup B)}$\n",
    "\n",
    "* And RHS = $\\overline{A} \\cap \\overline{B}$\n"
   ]
  },
  {
   "cell_type": "code",
   "execution_count": null,
   "metadata": {
    "colab": {
     "base_uri": "https://localhost:8080/",
     "height": 281
    },
    "colab_type": "code",
    "id": "fmFGtLfyT7Tn",
    "outputId": "9b2bee70-5701-4d86-8739-c0aae7060398"
   },
   "outputs": [
    {
     "name": "stdout",
     "output_type": "stream",
     "text": [
      "Help on function lcomplem in module jove.LangDef:\n",
      "\n",
      "lcomplem(L, sigma, n)\n",
      "    In : L (language : set of strings)\n",
      "         sigma (alphabet : set of strings)\n",
      "         n (finite limit for lstar : int)\n",
      "    Out : sigma*_n - L (language : set of strings)\n",
      "    Example:\n",
      "    L = {'0', '10', '010'}\n",
      "    sigma = {'0', '1'}\n",
      "    n = 3\n",
      "    lcomplem(L4,{'0','1'}, 3) -> \n",
      "    {'', '000', '101', '011', '00', '1', \n",
      "     '001', '110', '111', '100', '01', '11'}\n",
      "\n"
     ]
    }
   ],
   "source": [
    "help(lcomplem) # read and follow"
   ]
  },
  {
   "cell_type": "code",
   "execution_count": null,
   "metadata": {
    "colab": {},
    "colab_type": "code",
    "id": "Kih7MIu8T7Tw"
   },
   "outputs": [],
   "source": [
    "help(lunion) # read and follow"
   ]
  },
  {
   "cell_type": "code",
   "execution_count": null,
   "metadata": {
    "colab": {},
    "colab_type": "code",
    "id": "RHLkAmm6T7T2"
   },
   "outputs": [],
   "source": [
    "help(lint) # read and follow"
   ]
  },
  {
   "cell_type": "markdown",
   "metadata": {
    "colab_type": "text",
    "id": "T8dSwT9jT7T-"
   },
   "source": [
    "# OK, we are all set!"
   ]
  },
  {
   "cell_type": "code",
   "execution_count": null,
   "metadata": {
    "colab": {},
    "colab_type": "code",
    "id": "BS9lSDgmT7UB"
   },
   "outputs": [],
   "source": [
    "A = {'a', '' , 'bc'}\n",
    "\n",
    "B = {'a', '', 'bba', 'c'}"
   ]
  },
  {
   "cell_type": "code",
   "execution_count": null,
   "metadata": {
    "colab": {},
    "colab_type": "code",
    "id": "Y7KPcrHJT7UJ"
   },
   "outputs": [],
   "source": [
    "\n",
    "LHS = lcomplem(lunion(A, B), {'a', 'b', 'c'}, 3)\n",
    "\n",
    "RHS = lint(lcomplem(A, {'a', 'b', 'c'}, 3), lcomplem(B, {'a', 'b', 'c'}, 3))"
   ]
  },
  {
   "cell_type": "markdown",
   "metadata": {
    "colab_type": "text",
    "id": "e0pjtSSoT7UU"
   },
   "source": [
    "# Check DeMorgan's Law"
   ]
  },
  {
   "cell_type": "code",
   "execution_count": null,
   "metadata": {
    "colab": {
     "base_uri": "https://localhost:8080/",
     "height": 34
    },
    "colab_type": "code",
    "id": "HZhVxFo7T7UW",
    "outputId": "f1ef0b68-80ad-48c3-f1e3-944371a9cf6e"
   },
   "outputs": [
    {
     "data": {
      "text/plain": [
       "True"
      ]
     },
     "execution_count": 15,
     "metadata": {
      "tags": []
     },
     "output_type": "execute_result"
    }
   ],
   "source": [
    "# Now, perform LHS == RHS in Python and check if it is true\n",
    "\n",
    "LHS == RHS\n",
    "\n",
    "# Must print True"
   ]
  },
  {
   "cell_type": "markdown",
   "metadata": {
    "colab_type": "text",
    "id": "o3y8rlkDT7Uj"
   },
   "source": [
    "# END "
   ]
  }
 ],
 "metadata": {
  "colab": {
   "name": "u0000000_asg1_Demorgan_LT.ipynb",
   "provenance": []
  },
  "kernelspec": {
   "display_name": "Python 3",
   "language": "python",
   "name": "python3"
  },
  "language_info": {
   "codemirror_mode": {
    "name": "ipython",
    "version": 3
   },
   "file_extension": ".py",
   "mimetype": "text/x-python",
   "name": "python",
   "nbconvert_exporter": "python",
   "pygments_lexer": "ipython3",
   "version": "3.8.5"
  }
 },
 "nbformat": 4,
 "nbformat_minor": 1
}
