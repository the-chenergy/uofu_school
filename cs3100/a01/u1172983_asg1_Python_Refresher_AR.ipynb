{
  "nbformat": 4,
  "nbformat_minor": 0,
  "metadata": {
    "kernelspec": {
      "display_name": "Python 3",
      "language": "python",
      "name": "python3"
    },
    "language_info": {
      "codemirror_mode": {
        "name": "ipython",
        "version": 3
      },
      "file_extension": ".py",
      "mimetype": "text/x-python",
      "name": "python",
      "nbconvert_exporter": "python",
      "pygments_lexer": "ipython3",
      "version": "3.7.3"
    },
    "colab": {
      "name": "u0000000_asg1_Python_Refresher_AR.ipynb",
      "provenance": []
    }
  },
  "cells": [
    {
      "cell_type": "markdown",
      "metadata": {
        "id": "nsWKzE6uMb5b",
        "colab_type": "text"
      },
      "source": [
        "# First let's import, then look for the assignment below"
      ]
    },
    {
      "cell_type": "code",
      "metadata": {
        "id": "OGiQZliyMb5e",
        "colab_type": "code",
        "colab": {
          "base_uri": "https://localhost:8080/",
          "height": 510
        },
        "outputId": "13bc7937-e2e7-4eab-9be1-e20bde2f1ec4"
      },
      "source": [
        "#~~~~~~~~~~~~~~~~~~~~~~~~~~~~~~~~~~~~~~~~~~~~~~~~~~~~~~~\n",
        "import sys\n",
        "\n",
        "# -- Detect if in Own Install or in Colab\n",
        "try:\n",
        "    import google.colab\n",
        "    OWN_INSTALL = False\n",
        "except:\n",
        "    OWN_INSTALL = True\n",
        "    \n",
        "if OWN_INSTALL:\n",
        "    \n",
        "  #---- Leave these definitions ON if running on laptop\n",
        "  #---- Else turn OFF by putting them between ''' ... '''\n",
        "\n",
        "  sys.path[0:0] = ['../../../../..',  '../../../../../3rdparty',  \n",
        "                   '../../../..',  '../../../../3rdparty',  \n",
        "                   '../../..',     '../../../3rdparty', \n",
        "                   '../..',        '../../3rdparty',\n",
        "                   '..',           '../3rdparty' ]\n",
        "\n",
        "else: # In colab\n",
        "  ! if [ ! -d Jove ]; then git clone https://github.com/ganeshutah/Jove Jove; fi\n",
        "  sys.path.append('./Jove')\n",
        "  sys.path.append('./Jove/jove')\n",
        "\n",
        "# -- common imports --\n",
        "from jove.LangDef   import *\n",
        "#~~~~~~~~~~~~~~~~~~~~~~~~~~~~~~~~~~~~~~~~~~~~~~~~~~~~~~~"
      ],
      "execution_count": null,
      "outputs": [
        {
          "output_type": "stream",
          "text": [
            "Cloning into 'Jove'...\n",
            "remote: Enumerating objects: 298, done.\u001b[K\n",
            "remote: Counting objects: 100% (298/298), done.\u001b[K\n",
            "remote: Compressing objects: 100% (194/194), done.\u001b[K\n",
            "remote: Total 3563 (delta 185), reused 205 (delta 98), pack-reused 3265\u001b[K\n",
            "Receiving objects: 100% (3563/3563), 6.60 MiB | 24.48 MiB/s, done.\n",
            "Resolving deltas: 100% (2281/2281), done.\n",
            "You may use any of these help commands:\n",
            "help(lphi)\n",
            "help(lunit)\n",
            "help(lcat)\n",
            "help(lexp)\n",
            "help(lunion)\n",
            "help(lstar)\n",
            "help(srev)\n",
            "help(lrev)\n",
            "help(shomo)\n",
            "help(lhomo)\n",
            "help(powset)\n",
            "help(lint)\n",
            "help(lsymdiff)\n",
            "help(lminus)\n",
            "help(lissubset)\n",
            "help(lissuperset)\n",
            "help(lcomplem)\n",
            "help(product)\n",
            "help(nthnumeric)\n",
            "\n"
          ],
          "name": "stdout"
        }
      ]
    },
    {
      "cell_type": "markdown",
      "metadata": {
        "id": "r8YpbmzfMb5o",
        "colab_type": "text"
      },
      "source": [
        "# Assignment-1 Problem-1 on Python Basics  \n",
        "\n",
        "## Graded by Archit Rathore (AR)\n",
        "\n",
        "### BEFORE YOU SUBMIT THIS FILE, PLEASE RENAME THIS FILE BY REPLACING THE 0000000 IN THE FILE NAME WITH YOUR CORRECT UNID. KEEP THE \"u\" AT THE BEGINNING."
      ]
    },
    {
      "cell_type": "markdown",
      "metadata": {
        "id": "sPEjldYbMb5p",
        "colab_type": "text"
      },
      "source": [
        "## Define a regular language via Python's set builder (set comprehension) syntax\n",
        "\n",
        "<font size=\"4\"> \n",
        "    \n",
        "Recall from Chapter-1 that sets of strings of the form \"any number of $a$'s followed by any number of $b$'s followed by any number of $c$'s are regular languages.\n",
        "\n",
        "* Here, for instance, is a regular language\n",
        "    \n",
        "    $$ \\{ a^i b^j c^k \\;:\\; i,j,k \\ge 0 \\}$$\n",
        "  \n",
        "\n",
        "**Task for you**:\n",
        "\n",
        "* Define the above set in Python, but limiting $i,j,k$ to the range $0$ through $4$ (both inclusive).\n",
        "\n",
        "**IMPORTANT NOTE**: ALL finite sets are regular. Thus by truncating the set to a finite size, we always get a regular language. The purpose of truncation is ONLY to make sure that the printing stops. What we are really referring to as a regular language of interest is the mathematical language\n",
        "\n",
        "   $$ \\{ a^i b^j c^k \\;:\\; i,j,k \\ge 0 \\}$$\n",
        "    \n",
        "    \n",
        "</font>  "
      ]
    },
    {
      "cell_type": "code",
      "metadata": {
        "id": "fM2fIOh2Mb5q",
        "colab_type": "code",
        "colab": {
          "base_uri": "https://localhost:8080/",
          "height": 1000
        },
        "outputId": "c5abe0e1-6c00-45f9-8fd9-b52d37576637"
      },
      "source": [
        "# The above regular language truncated to a small size, below\n",
        "A_reg_language = { 'a'*i + 'b'*j + 'c'*k for i in range(5) for j in range(5) for k in range(5) }\n",
        "\n",
        "# Print its contents\n",
        "A_reg_language"
      ],
      "execution_count": null,
      "outputs": [
        {
          "output_type": "execute_result",
          "data": {
            "text/plain": [
              "{'',\n",
              " 'a',\n",
              " 'aa',\n",
              " 'aaa',\n",
              " 'aaaa',\n",
              " 'aaaab',\n",
              " 'aaaabb',\n",
              " 'aaaabbb',\n",
              " 'aaaabbbb',\n",
              " 'aaaabbbbc',\n",
              " 'aaaabbbbcc',\n",
              " 'aaaabbbbccc',\n",
              " 'aaaabbbbcccc',\n",
              " 'aaaabbbc',\n",
              " 'aaaabbbcc',\n",
              " 'aaaabbbccc',\n",
              " 'aaaabbbcccc',\n",
              " 'aaaabbc',\n",
              " 'aaaabbcc',\n",
              " 'aaaabbccc',\n",
              " 'aaaabbcccc',\n",
              " 'aaaabc',\n",
              " 'aaaabcc',\n",
              " 'aaaabccc',\n",
              " 'aaaabcccc',\n",
              " 'aaaac',\n",
              " 'aaaacc',\n",
              " 'aaaaccc',\n",
              " 'aaaacccc',\n",
              " 'aaab',\n",
              " 'aaabb',\n",
              " 'aaabbb',\n",
              " 'aaabbbb',\n",
              " 'aaabbbbc',\n",
              " 'aaabbbbcc',\n",
              " 'aaabbbbccc',\n",
              " 'aaabbbbcccc',\n",
              " 'aaabbbc',\n",
              " 'aaabbbcc',\n",
              " 'aaabbbccc',\n",
              " 'aaabbbcccc',\n",
              " 'aaabbc',\n",
              " 'aaabbcc',\n",
              " 'aaabbccc',\n",
              " 'aaabbcccc',\n",
              " 'aaabc',\n",
              " 'aaabcc',\n",
              " 'aaabccc',\n",
              " 'aaabcccc',\n",
              " 'aaac',\n",
              " 'aaacc',\n",
              " 'aaaccc',\n",
              " 'aaacccc',\n",
              " 'aab',\n",
              " 'aabb',\n",
              " 'aabbb',\n",
              " 'aabbbb',\n",
              " 'aabbbbc',\n",
              " 'aabbbbcc',\n",
              " 'aabbbbccc',\n",
              " 'aabbbbcccc',\n",
              " 'aabbbc',\n",
              " 'aabbbcc',\n",
              " 'aabbbccc',\n",
              " 'aabbbcccc',\n",
              " 'aabbc',\n",
              " 'aabbcc',\n",
              " 'aabbccc',\n",
              " 'aabbcccc',\n",
              " 'aabc',\n",
              " 'aabcc',\n",
              " 'aabccc',\n",
              " 'aabcccc',\n",
              " 'aac',\n",
              " 'aacc',\n",
              " 'aaccc',\n",
              " 'aacccc',\n",
              " 'ab',\n",
              " 'abb',\n",
              " 'abbb',\n",
              " 'abbbb',\n",
              " 'abbbbc',\n",
              " 'abbbbcc',\n",
              " 'abbbbccc',\n",
              " 'abbbbcccc',\n",
              " 'abbbc',\n",
              " 'abbbcc',\n",
              " 'abbbccc',\n",
              " 'abbbcccc',\n",
              " 'abbc',\n",
              " 'abbcc',\n",
              " 'abbccc',\n",
              " 'abbcccc',\n",
              " 'abc',\n",
              " 'abcc',\n",
              " 'abccc',\n",
              " 'abcccc',\n",
              " 'ac',\n",
              " 'acc',\n",
              " 'accc',\n",
              " 'acccc',\n",
              " 'b',\n",
              " 'bb',\n",
              " 'bbb',\n",
              " 'bbbb',\n",
              " 'bbbbc',\n",
              " 'bbbbcc',\n",
              " 'bbbbccc',\n",
              " 'bbbbcccc',\n",
              " 'bbbc',\n",
              " 'bbbcc',\n",
              " 'bbbccc',\n",
              " 'bbbcccc',\n",
              " 'bbc',\n",
              " 'bbcc',\n",
              " 'bbccc',\n",
              " 'bbcccc',\n",
              " 'bc',\n",
              " 'bcc',\n",
              " 'bccc',\n",
              " 'bcccc',\n",
              " 'c',\n",
              " 'cc',\n",
              " 'ccc',\n",
              " 'cccc'}"
            ]
          },
          "metadata": {
            "tags": []
          },
          "execution_count": 6
        }
      ]
    },
    {
      "cell_type": "markdown",
      "metadata": {
        "id": "jbfREDB9Mb59",
        "colab_type": "text"
      },
      "source": [
        "## Define a context-free language via Python's set builder (set comprehension) syntax\n",
        "\n",
        "<font size=\"4\"> \n",
        "    \n",
        "Recall from Chapter-1 that sets of strings of the form \"any number of $a$'s followed by the same number of $b$'s and $c$'s is context-free.\n",
        "    \n",
        "* Here, for instance, is a context-free language\n",
        "    \n",
        "    $$ \\{ a^i b^j c^j \\;:\\; i,j \\ge 0 \\}$$\n",
        "     \n",
        "\n",
        "**Task for you**:\n",
        "\n",
        "* Define the above set in Python, but limiting $i,j,k$ to the range $0$ through $4$.\n",
        "\n",
        "**IMPORTANT NOTE**: ALL finite sets are regular. Thus by truncating the set to a finite size, we always get a regular language. The purpose of truncation is ONLY to make sure that the printing stops. What we are really referring to as a **context-free language** of interest is the mathematical language\n",
        "\n",
        "   $$ \\{ a^i b^j c^j \\;:\\; i,j \\ge 0 \\}$$\n",
        "    \n",
        "    \n",
        "</font>  "
      ]
    },
    {
      "cell_type": "code",
      "metadata": {
        "id": "uZ_De1gDMb5-",
        "colab_type": "code",
        "colab": {
          "base_uri": "https://localhost:8080/",
          "height": 457
        },
        "outputId": "3ec0ddea-b8f6-4a24-9c6f-4957d8be11b1"
      },
      "source": [
        "# Your Python definition of a context-free language, below\n",
        "A_context_free_language = { 'a'*i + 'b'*j + 'c'*j for i in range(5) for j in range(5) }\n",
        "\n",
        "# Print its contents\n",
        "A_context_free_language "
      ],
      "execution_count": null,
      "outputs": [
        {
          "output_type": "execute_result",
          "data": {
            "text/plain": [
              "{'',\n",
              " 'a',\n",
              " 'aa',\n",
              " 'aaa',\n",
              " 'aaaa',\n",
              " 'aaaabbbbcccc',\n",
              " 'aaaabbbccc',\n",
              " 'aaaabbcc',\n",
              " 'aaaabc',\n",
              " 'aaabbbbcccc',\n",
              " 'aaabbbccc',\n",
              " 'aaabbcc',\n",
              " 'aaabc',\n",
              " 'aabbbbcccc',\n",
              " 'aabbbccc',\n",
              " 'aabbcc',\n",
              " 'aabc',\n",
              " 'abbbbcccc',\n",
              " 'abbbccc',\n",
              " 'abbcc',\n",
              " 'abc',\n",
              " 'bbbbcccc',\n",
              " 'bbbccc',\n",
              " 'bbcc',\n",
              " 'bc'}"
            ]
          },
          "metadata": {
            "tags": []
          },
          "execution_count": 7
        }
      ]
    },
    {
      "cell_type": "markdown",
      "metadata": {
        "id": "-szYNpd7Mb6D",
        "colab_type": "text"
      },
      "source": [
        "## Define another context-free language  \n",
        "\n",
        "<font size=\"4\"> \n",
        "    \n",
        "In Chapter 4, we will study the Pumping Lemma to argue that this language is not context-free:\n",
        "    $$L_{if} = \\{ a^i b^j c^k \\;:\\; {\\rm if}\\; (i=2)\\; {\\rm then}\\; (j=k) \\}$$\n",
        "    \n",
        "\n",
        "\n",
        "**Task for you**:\n",
        "\n",
        "* Define $L_{if}$ in Python, again limiting $i,j,k$ to be in $\\{0, \\ldots, 4\\}$.\n",
        "* List all the strings where the condition $(i=2)$ is met. How many such strings are there?\n",
        "    \n",
        "**IMPORTANT NOTE**: ALL finite sets are regular. Thus by truncating the set to a finite size, we always get a regular language. The purpose of truncation is ONLY to make sure that the printing stops. What we are really referring to as a **context-free language** of interest is the mathematical language\n",
        "\n",
        "   \n",
        "  $$L_{if} = \\{ a^i b^j c^k \\;:\\; {\\rm if}\\; (i=2)\\; {\\rm then}\\; (j=k) \\}$$\n",
        "    \n",
        "    \n",
        "</font>  "
      ]
    },
    {
      "cell_type": "code",
      "metadata": {
        "id": "OaHEds_AMb6E",
        "colab_type": "code",
        "colab": {
          "base_uri": "https://localhost:8080/",
          "height": 1000
        },
        "outputId": "5f1dcf2e-a6fd-4694-f43c-710c26bf4e26"
      },
      "source": [
        " \n",
        "# Your Python definition of the language Lif below\n",
        "Lif =  { 'a'*i + 'b'*j + 'c'*k for i in range(5) for j in range(5) for k in range(j if i==2 else 0, j+1 if i==2 else 5) }\n",
        "\n",
        "# print Lif\n",
        "\n",
        "Lif\n"
      ],
      "execution_count": null,
      "outputs": [
        {
          "output_type": "execute_result",
          "data": {
            "text/plain": [
              "{'',\n",
              " 'a',\n",
              " 'aa',\n",
              " 'aaa',\n",
              " 'aaaa',\n",
              " 'aaaab',\n",
              " 'aaaabb',\n",
              " 'aaaabbb',\n",
              " 'aaaabbbb',\n",
              " 'aaaabbbbc',\n",
              " 'aaaabbbbcc',\n",
              " 'aaaabbbbccc',\n",
              " 'aaaabbbbcccc',\n",
              " 'aaaabbbc',\n",
              " 'aaaabbbcc',\n",
              " 'aaaabbbccc',\n",
              " 'aaaabbbcccc',\n",
              " 'aaaabbc',\n",
              " 'aaaabbcc',\n",
              " 'aaaabbccc',\n",
              " 'aaaabbcccc',\n",
              " 'aaaabc',\n",
              " 'aaaabcc',\n",
              " 'aaaabccc',\n",
              " 'aaaabcccc',\n",
              " 'aaaac',\n",
              " 'aaaacc',\n",
              " 'aaaaccc',\n",
              " 'aaaacccc',\n",
              " 'aaab',\n",
              " 'aaabb',\n",
              " 'aaabbb',\n",
              " 'aaabbbb',\n",
              " 'aaabbbbc',\n",
              " 'aaabbbbcc',\n",
              " 'aaabbbbccc',\n",
              " 'aaabbbbcccc',\n",
              " 'aaabbbc',\n",
              " 'aaabbbcc',\n",
              " 'aaabbbccc',\n",
              " 'aaabbbcccc',\n",
              " 'aaabbc',\n",
              " 'aaabbcc',\n",
              " 'aaabbccc',\n",
              " 'aaabbcccc',\n",
              " 'aaabc',\n",
              " 'aaabcc',\n",
              " 'aaabccc',\n",
              " 'aaabcccc',\n",
              " 'aaac',\n",
              " 'aaacc',\n",
              " 'aaaccc',\n",
              " 'aaacccc',\n",
              " 'aabbbbcccc',\n",
              " 'aabbbccc',\n",
              " 'aabbcc',\n",
              " 'aabc',\n",
              " 'ab',\n",
              " 'abb',\n",
              " 'abbb',\n",
              " 'abbbb',\n",
              " 'abbbbc',\n",
              " 'abbbbcc',\n",
              " 'abbbbccc',\n",
              " 'abbbbcccc',\n",
              " 'abbbc',\n",
              " 'abbbcc',\n",
              " 'abbbccc',\n",
              " 'abbbcccc',\n",
              " 'abbc',\n",
              " 'abbcc',\n",
              " 'abbccc',\n",
              " 'abbcccc',\n",
              " 'abc',\n",
              " 'abcc',\n",
              " 'abccc',\n",
              " 'abcccc',\n",
              " 'ac',\n",
              " 'acc',\n",
              " 'accc',\n",
              " 'acccc',\n",
              " 'b',\n",
              " 'bb',\n",
              " 'bbb',\n",
              " 'bbbb',\n",
              " 'bbbbc',\n",
              " 'bbbbcc',\n",
              " 'bbbbccc',\n",
              " 'bbbbcccc',\n",
              " 'bbbc',\n",
              " 'bbbcc',\n",
              " 'bbbccc',\n",
              " 'bbbcccc',\n",
              " 'bbc',\n",
              " 'bbcc',\n",
              " 'bbccc',\n",
              " 'bbcccc',\n",
              " 'bc',\n",
              " 'bcc',\n",
              " 'bccc',\n",
              " 'bcccc',\n",
              " 'c',\n",
              " 'cc',\n",
              " 'ccc',\n",
              " 'cccc'}"
            ]
          },
          "metadata": {
            "tags": []
          },
          "execution_count": 8
        }
      ]
    },
    {
      "cell_type": "markdown",
      "metadata": {
        "id": "FMQJX-UYMb6J",
        "colab_type": "text"
      },
      "source": [
        "# Number of strings where (i=2) is met, and which are they?\n",
        "\n",
        "There are 5 strings where (i=2) is met\n",
        "\n",
        "# The strings where i = 2 is met are these:\n",
        "\n",
        "aa\n",
        "aabc\n",
        "aabbcc\n",
        "aabbbccc\n",
        "aabbbbcccc\n",
        " "
      ]
    },
    {
      "cell_type": "markdown",
      "metadata": {
        "id": "6NAIyA2nMb6K",
        "colab_type": "text"
      },
      "source": [
        "# END"
      ]
    }
  ]
}