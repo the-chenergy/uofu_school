{
 "cells": [
  {
   "cell_type": "markdown",
   "metadata": {},
   "source": [
    "# This exam consists of these notebook questions that add up to the notebook's points.\n",
    "\n",
    "# You must fill the GRADING CELLs below to be graded !!!\n",
    "\n",
    "-----------------\n",
    "## 1. A DFA design problem - 25% of the 75% alloted for notebooks.\n",
    "\n",
    "## 2. An NFA design problem - 20% of 75%\n",
    "\n",
    "## 3. Check that the DFA and NFA are language-equivalent - 5% of 75%\n",
    "\n",
    "## 4. The remaining 50% of the 75% is for the following:\n",
    "\n",
    "Three Mystery NFAs N1, N2, and N3 are given to you.\n",
    "\n",
    "\n",
    "## You must apply operations on N1, N2, N3 and discover the properties requested below.\n",
    "\n",
    "\n",
    "You are to find whether the languages of N1, N2 and N3 are totally ordered in some fashion with respect to language containment.\n",
    "\n",
    "That is, you are to find out the values of $x,y,z \\in \\{1,2,3\\}$ such that $x \\neq y \\neq z$, is it the case that\n",
    "$L(Nx) \\subseteq L(Ny) \\subseteq L(Nz)$ ?\n",
    "\n",
    "That is, what total ordering of N1, N2, and N3 substituted in the above, satisfies the equation? It need not be ordered 1 before 2 before 3. It is your task to find the right one.\n",
    "\n",
    "The Jove functions you are allowed to use are listed near the problem spec. below.\n",
    "\n",
    "#### 4.1 25% for pinning down the $L(Nx) \\subseteq L(Ny)$ order, showing all your work, and further,  if $L(Nx) \\subseteq L(Ny)$, you must emit a minimal DFA for $L(Ny) - L(Nx)$\n",
    "\n",
    "#### 4.2 25% for determining $L(Ny) \\subseteq L(Nz)$, showing all your work, and further, if $L(Ny) \\subseteq L(Nz)$, you must emit a minimal DFA for $L(Nz) - L(Ny)$\n",
    "\n",
    "### Note that just \"eyeballing\" the machines and writing their languages in English will only give you some small percentage of the points. You must apply commands to conclusively show that one NFA's language is contained in the other's via commands that truly reveal the fact. The emission of the minimal DFA is thus a required step in your arguments to earn full credits.\n",
    "\n",
    "# Useful facts\n",
    "\n",
    "* Remember from set theory that $A\\subseteq B$ if $A$ does not intersect the complement of $B$.\n",
    "\n",
    "* Remember that it is possible that $A \\subseteq B$ and $A\\subseteq C$ is possible without $B$ and $C$ having no particular ordering. \n",
    "\n",
    "* Please draw a Venn diagram to be sure of these facts and then be sure how many orderings to check!\n",
    "\n",
    "# Your answer for this question is:\n",
    "\n",
    "* Enough orderings checked\n",
    "\n",
    "* The desired conclusion clearly presented in a cell!\n",
    "\n",
    "\n",
    "--- \n",
    "\n",
    "## You must FULLY EXECUTE THIS STARTER NOTEBOOK with your solutions inserted, and submit it at the submission portal as a single IPYNB file."
   ]
  },
  {
   "cell_type": "code",
   "execution_count": 1,
   "metadata": {
    "run_control": {
     "frozen": false,
     "read_only": false
    },
    "scrolled": true
   },
   "outputs": [
    {
     "name": "stderr",
     "output_type": "stream",
     "text": [
      "! was unexpected at this time.\n"
     ]
    },
    {
     "name": "stdout",
     "output_type": "stream",
     "text": [
      "You may use any of these help commands:\n",
      "help(ResetStNum)\n",
      "help(NxtStateStr)\n",
      "\n",
      "You may use any of these help commands:\n",
      "help(md2mc)\n",
      ".. and if you want to dig more, then ..\n",
      "help(default_line_attr)\n",
      "help(length_ok_input_items)\n",
      "help(union_line_attr_list_fld)\n",
      "help(extend_rsltdict)\n",
      "help(form_delta)\n",
      "help(get_machine_components)\n",
      "\n",
      "You may use any of these help commands:\n",
      "help(mkp_dfa)\n",
      "help(mk_dfa)\n",
      "help(totalize_dfa)\n",
      "help(addtosigma_delta)\n",
      "help(step_dfa)\n",
      "help(run_dfa)\n",
      "help(accepts_dfa)\n",
      "help(comp_dfa)\n",
      "help(union_dfa)\n",
      "help(intersect_dfa)\n",
      "help(pruneUnreach)\n",
      "help(iso_dfa)\n",
      "help(langeq_dfa)\n",
      "help(same_status)\n",
      "help(h_langeq_dfa)\n",
      "help(fixptDist)\n",
      "help(min_dfa)\n",
      "help(pairFR)\n",
      "help(state_combos)\n",
      "help(sepFinNonFin)\n",
      "help(bash_eql_classes)\n",
      "help(listminus)\n",
      "help(bash_1)\n",
      "help(mk_rep_eqc)\n",
      "help(F_of)\n",
      "help(rep_of_s)\n",
      "help(q0_of)\n",
      "help(Delta_of)\n",
      "help(mk_state_eqc_name)\n",
      "\n",
      "You may use any of these help commands:\n",
      "help(mk_nfa)\n",
      "help(totalize_nfa)\n",
      "help(step_nfa)\n",
      "help(run_nfa)\n",
      "help(ec_step_nfa)\n",
      "help(Eclosure)\n",
      "help(Echelp)\n",
      "help(accepts_nfa)\n",
      "help(nfa2dfa)\n",
      "help(n2d)\n",
      "help(inSets)\n",
      "help(rev_dfa)\n",
      "help(min_dfa_brz)\n",
      "\n",
      "You may use any of these help commands:\n",
      "help(lphi)\n",
      "help(lunit)\n",
      "help(lcat)\n",
      "help(lexp)\n",
      "help(lunion)\n",
      "help(lstar)\n",
      "help(srev)\n",
      "help(lrev)\n",
      "help(shomo)\n",
      "help(lhomo)\n",
      "help(powset)\n",
      "help(lint)\n",
      "help(lsymdiff)\n",
      "help(lminus)\n",
      "help(lissubset)\n",
      "help(lissuperset)\n",
      "help(lcomplem)\n",
      "help(product)\n",
      "help(nthnumeric)\n",
      "\n",
      "You may use any of these help commands:\n",
      "help(re2nfa)\n",
      "\n"
     ]
    }
   ],
   "source": [
    "#~~~~~~~~~~~~~~~~~~~~~~~~~~~~~~~~~~~~~~~~~~~~~~~~~~~~~~~\n",
    "import sys\n",
    "\n",
    "# -- Detect if in Own Install or in Colab\n",
    "try:\n",
    "    import google.colab\n",
    "    OWN_INSTALL = False\n",
    "except:\n",
    "    OWN_INSTALL = True\n",
    "OWN_INSTALL = False\n",
    "if OWN_INSTALL:\n",
    "    \n",
    "  #---- Leave these definitions ON if running on laptop\n",
    "  #---- Else turn OFF by putting them between ''' ... '''\n",
    "\n",
    "  sys.path[0:0] = ['../../../../..',  '../../../../../3rdparty',  \n",
    "                   '../../../..',  '../../../../3rdparty',  \n",
    "                   '../../..',     '../../../3rdparty', \n",
    "                   '../..',        '../../3rdparty',\n",
    "                   '..',           '../3rdparty' ]\n",
    "\n",
    "else: # In colab\n",
    "  ! if [ ! -d Jove ]; then git clone https://github.com/ganeshutah/Jove Jove; fi\n",
    "  sys.path.append('./Jove')\n",
    "  sys.path.append('./Jove/jove')\n",
    "\n",
    "# -- common imports --\n",
    "from jove.DotBashers import *\n",
    "from jove.Def_md2mc  import *\n",
    "from jove.Def_DFA    import *\n",
    "from jove.Def_NFA    import *\n",
    "from jove.LangDef    import *  # for testing DFA actions\n",
    "from jove.Def_RE2NFA import *\n",
    "#~~~~~~~~~~~~~~~~~~~~~~~~~~~~~~~~~~~~~~~~~~~~~~~~~~~~~~~"
   ]
  },
  {
   "cell_type": "markdown",
   "metadata": {},
   "source": [
    "#  1. Design a DFA for the set of strings over alphabet $\\{a,b\\}$ where the strings end in baa"
   ]
  },
  {
   "cell_type": "markdown",
   "metadata": {},
   "source": [
    "### SOLUTION"
   ]
  },
  {
   "cell_type": "code",
   "execution_count": 2,
   "metadata": {},
   "outputs": [],
   "source": [
    "# A DFA for strings over a's and b's where it ends in baa\n",
    "\n",
    "Dbaa = md2mc('''DFA\n",
    "  I :a-> I\n",
    "  I :b-> S_b\n",
    "  \n",
    "  S_b :a-> S_ba\n",
    "  S_b :b-> S_b\n",
    "  \n",
    "  S_ba :a-> F\n",
    "  S_ba :b-> S_b\n",
    "  \n",
    "  F :a-> I\n",
    "  F :b-> S_b\n",
    "''')"
   ]
  },
  {
   "cell_type": "code",
   "execution_count": 3,
   "metadata": {},
   "outputs": [
    {
     "data": {
      "image/svg+xml": [
       "<?xml version=\"1.0\" encoding=\"UTF-8\" standalone=\"no\"?>\r\n",
       "<!DOCTYPE svg PUBLIC \"-//W3C//DTD SVG 1.1//EN\"\r\n",
       " \"http://www.w3.org/Graphics/SVG/1.1/DTD/svg11.dtd\">\r\n",
       "<!-- Generated by graphviz version 2.44.1 (20200629.0846)\r\n",
       " -->\r\n",
       "<!-- Pages: 1 -->\r\n",
       "<svg width=\"433pt\" height=\"149pt\"\r\n",
       " viewBox=\"0.00 0.00 432.79 148.90\" xmlns=\"http://www.w3.org/2000/svg\" xmlns:xlink=\"http://www.w3.org/1999/xlink\">\r\n",
       "<g id=\"graph0\" class=\"graph\" transform=\"scale(1 1) rotate(0) translate(4 144.9)\">\r\n",
       "<polygon fill=\"white\" stroke=\"transparent\" points=\"-4,4 -4,-144.9 428.79,-144.9 428.79,4 -4,4\"/>\r\n",
       "<!-- EMPTY -->\r\n",
       "<g id=\"node1\" class=\"node\">\r\n",
       "<title>EMPTY</title>\r\n",
       "</g>\r\n",
       "<!-- I -->\r\n",
       "<g id=\"node3\" class=\"node\">\r\n",
       "<title>I</title>\r\n",
       "<ellipse fill=\"none\" stroke=\"black\" cx=\"109\" cy=\"-18\" rx=\"18\" ry=\"18\"/>\r\n",
       "<text text-anchor=\"middle\" x=\"109\" y=\"-14.3\" font-family=\"Times New Roman,serif\" font-size=\"14.00\">I</text>\r\n",
       "</g>\r\n",
       "<!-- EMPTY&#45;&gt;I -->\r\n",
       "<g id=\"edge1\" class=\"edge\">\r\n",
       "<title>EMPTY&#45;&gt;I</title>\r\n",
       "<path fill=\"none\" stroke=\"black\" d=\"M54.19,-18C62.65,-18 72.05,-18 80.6,-18\"/>\r\n",
       "<polygon fill=\"black\" stroke=\"black\" points=\"80.83,-21.5 90.83,-18 80.83,-14.5 80.83,-21.5\"/>\r\n",
       "</g>\r\n",
       "<!-- S_b -->\r\n",
       "<g id=\"node2\" class=\"node\">\r\n",
       "<title>S_b</title>\r\n",
       "<ellipse fill=\"none\" stroke=\"black\" cx=\"201\" cy=\"-68\" rx=\"26\" ry=\"26\"/>\r\n",
       "<text text-anchor=\"middle\" x=\"201\" y=\"-64.3\" font-family=\"Times New Roman,serif\" font-size=\"14.00\">S_b</text>\r\n",
       "</g>\r\n",
       "<!-- S_b&#45;&gt;S_b -->\r\n",
       "<g id=\"edge5\" class=\"edge\">\r\n",
       "<title>S_b&#45;&gt;S_b</title>\r\n",
       "<path fill=\"none\" stroke=\"black\" d=\"M192.11,-92.43C191.38,-102.97 194.34,-112 201,-112 205.37,-112 208.14,-108.11 209.33,-102.46\"/>\r\n",
       "<polygon fill=\"black\" stroke=\"black\" points=\"212.83,-102.61 209.89,-92.43 205.84,-102.22 212.83,-102.61\"/>\r\n",
       "<text text-anchor=\"middle\" x=\"201\" y=\"-115.8\" font-family=\"Times New Roman,serif\" font-size=\"14.00\">b </text>\r\n",
       "</g>\r\n",
       "<!-- S_ba -->\r\n",
       "<g id=\"node4\" class=\"node\">\r\n",
       "<title>S_ba</title>\r\n",
       "<ellipse fill=\"none\" stroke=\"black\" cx=\"304.89\" cy=\"-111\" rx=\"29.8\" ry=\"29.8\"/>\r\n",
       "<text text-anchor=\"middle\" x=\"304.89\" y=\"-107.3\" font-family=\"Times New Roman,serif\" font-size=\"14.00\">S_ba</text>\r\n",
       "</g>\r\n",
       "<!-- S_b&#45;&gt;S_ba -->\r\n",
       "<g id=\"edge4\" class=\"edge\">\r\n",
       "<title>S_b&#45;&gt;S_ba</title>\r\n",
       "<path fill=\"none\" stroke=\"black\" d=\"M222.11,-83.76C229.05,-88.58 237.08,-93.53 245,-97 251.33,-99.78 258.31,-102.06 265.17,-103.9\"/>\r\n",
       "<polygon fill=\"black\" stroke=\"black\" points=\"264.52,-107.35 275.06,-106.31 266.17,-100.55 264.52,-107.35\"/>\r\n",
       "<text text-anchor=\"middle\" x=\"251\" y=\"-104.8\" font-family=\"Times New Roman,serif\" font-size=\"14.00\">a </text>\r\n",
       "</g>\r\n",
       "<!-- I&#45;&gt;S_b -->\r\n",
       "<g id=\"edge3\" class=\"edge\">\r\n",
       "<title>I&#45;&gt;S_b</title>\r\n",
       "<path fill=\"none\" stroke=\"black\" d=\"M125.27,-26.48C137.23,-33.13 154.26,-42.59 169.05,-50.8\"/>\r\n",
       "<polygon fill=\"black\" stroke=\"black\" points=\"167.45,-53.92 177.9,-55.72 170.85,-47.8 167.45,-53.92\"/>\r\n",
       "<text text-anchor=\"middle\" x=\"151\" y=\"-46.8\" font-family=\"Times New Roman,serif\" font-size=\"14.00\">b </text>\r\n",
       "</g>\r\n",
       "<!-- I&#45;&gt;I -->\r\n",
       "<g id=\"edge2\" class=\"edge\">\r\n",
       "<title>I&#45;&gt;I</title>\r\n",
       "<path fill=\"none\" stroke=\"black\" d=\"M102.62,-35.04C101.32,-44.86 103.45,-54 109,-54 112.47,-54 114.6,-50.43 115.4,-45.35\"/>\r\n",
       "<polygon fill=\"black\" stroke=\"black\" points=\"118.9,-45.03 115.38,-35.04 111.9,-45.04 118.9,-45.03\"/>\r\n",
       "<text text-anchor=\"middle\" x=\"109\" y=\"-57.8\" font-family=\"Times New Roman,serif\" font-size=\"14.00\">a </text>\r\n",
       "</g>\r\n",
       "<!-- S_ba&#45;&gt;S_b -->\r\n",
       "<g id=\"edge7\" class=\"edge\">\r\n",
       "<title>S_ba&#45;&gt;S_b</title>\r\n",
       "<path fill=\"none\" stroke=\"black\" d=\"M281.21,-92.08C273.88,-86.79 265.44,-81.54 257,-78 250.83,-75.42 243.99,-73.5 237.3,-72.08\"/>\r\n",
       "<polygon fill=\"black\" stroke=\"black\" points=\"237.48,-68.55 227.02,-70.23 236.24,-75.44 237.48,-68.55\"/>\r\n",
       "<text text-anchor=\"middle\" x=\"251\" y=\"-81.8\" font-family=\"Times New Roman,serif\" font-size=\"14.00\">b </text>\r\n",
       "</g>\r\n",
       "<!-- F -->\r\n",
       "<g id=\"node5\" class=\"node\">\r\n",
       "<title>F</title>\r\n",
       "<ellipse fill=\"none\" stroke=\"black\" cx=\"402.79\" cy=\"-48\" rx=\"18\" ry=\"18\"/>\r\n",
       "<ellipse fill=\"none\" stroke=\"black\" cx=\"402.79\" cy=\"-48\" rx=\"22\" ry=\"22\"/>\r\n",
       "<text text-anchor=\"middle\" x=\"402.79\" y=\"-44.3\" font-family=\"Times New Roman,serif\" font-size=\"14.00\">F</text>\r\n",
       "</g>\r\n",
       "<!-- S_ba&#45;&gt;F -->\r\n",
       "<g id=\"edge6\" class=\"edge\">\r\n",
       "<title>S_ba&#45;&gt;F</title>\r\n",
       "<path fill=\"none\" stroke=\"black\" d=\"M330.59,-94.78C344.25,-85.8 361.22,-74.65 375.17,-65.48\"/>\r\n",
       "<polygon fill=\"black\" stroke=\"black\" points=\"377.4,-68.21 383.84,-59.79 373.56,-62.36 377.4,-68.21\"/>\r\n",
       "<text text-anchor=\"middle\" x=\"357.79\" y=\"-82.8\" font-family=\"Times New Roman,serif\" font-size=\"14.00\">a </text>\r\n",
       "</g>\r\n",
       "<!-- F&#45;&gt;S_b -->\r\n",
       "<g id=\"edge9\" class=\"edge\">\r\n",
       "<title>F&#45;&gt;S_b</title>\r\n",
       "<path fill=\"none\" stroke=\"black\" d=\"M380.66,-48.99C355.45,-50.29 312.06,-52.9 275,-57 262.58,-58.37 249.04,-60.3 237.03,-62.15\"/>\r\n",
       "<polygon fill=\"black\" stroke=\"black\" points=\"236.27,-58.73 226.93,-63.75 237.36,-65.64 236.27,-58.73\"/>\r\n",
       "<text text-anchor=\"middle\" x=\"304.89\" y=\"-60.8\" font-family=\"Times New Roman,serif\" font-size=\"14.00\">b </text>\r\n",
       "</g>\r\n",
       "<!-- F&#45;&gt;I -->\r\n",
       "<g id=\"edge8\" class=\"edge\">\r\n",
       "<title>F&#45;&gt;I</title>\r\n",
       "<path fill=\"none\" stroke=\"black\" d=\"M380.57,-45.82C328.56,-40.47 194.77,-26.72 137.11,-20.79\"/>\r\n",
       "<polygon fill=\"black\" stroke=\"black\" points=\"137.25,-17.28 126.95,-19.74 136.54,-24.25 137.25,-17.28\"/>\r\n",
       "<text text-anchor=\"middle\" x=\"251\" y=\"-36.8\" font-family=\"Times New Roman,serif\" font-size=\"14.00\">a </text>\r\n",
       "</g>\r\n",
       "</g>\r\n",
       "</svg>\r\n"
      ],
      "text/plain": [
       "<graphviz.dot.Digraph at 0x5810cb8>"
      ]
     },
     "execution_count": 3,
     "metadata": {},
     "output_type": "execute_result"
    }
   ],
   "source": [
    "dotObj_dfa(Dbaa)"
   ]
  },
  {
   "cell_type": "markdown",
   "metadata": {},
   "source": [
    "# 2.  Design an NFA for the \"ends in baa\""
   ]
  },
  {
   "cell_type": "markdown",
   "metadata": {},
   "source": [
    "### SOLUTION"
   ]
  },
  {
   "cell_type": "code",
   "execution_count": 4,
   "metadata": {},
   "outputs": [],
   "source": [
    "Nbaa = md2mc('''NFA\n",
    "  I :a|b-> I\n",
    "  I :b-> S_b\n",
    "  \n",
    "  S_b :a-> S_ba\n",
    "  \n",
    "  S_ba :a-> F\n",
    "''')"
   ]
  },
  {
   "cell_type": "code",
   "execution_count": 5,
   "metadata": {},
   "outputs": [
    {
     "data": {
      "image/svg+xml": [
       "<?xml version=\"1.0\" encoding=\"UTF-8\" standalone=\"no\"?>\r\n",
       "<!DOCTYPE svg PUBLIC \"-//W3C//DTD SVG 1.1//EN\"\r\n",
       " \"http://www.w3.org/Graphics/SVG/1.1/DTD/svg11.dtd\">\r\n",
       "<!-- Generated by graphviz version 2.44.1 (20200629.0846)\r\n",
       " -->\r\n",
       "<!-- Pages: 1 -->\r\n",
       "<svg width=\"431pt\" height=\"122pt\"\r\n",
       " viewBox=\"0.00 0.00 430.79 121.90\" xmlns=\"http://www.w3.org/2000/svg\" xmlns:xlink=\"http://www.w3.org/1999/xlink\">\r\n",
       "<g id=\"graph0\" class=\"graph\" transform=\"scale(1 1) rotate(0) translate(4 117.9)\">\r\n",
       "<polygon fill=\"white\" stroke=\"transparent\" points=\"-4,4 -4,-117.9 426.79,-117.9 426.79,4 -4,4\"/>\r\n",
       "<!-- EMPTY -->\r\n",
       "<g id=\"node1\" class=\"node\">\r\n",
       "<title>EMPTY</title>\r\n",
       "</g>\r\n",
       "<!-- I -->\r\n",
       "<g id=\"node3\" class=\"node\">\r\n",
       "<title>I</title>\r\n",
       "<ellipse fill=\"none\" stroke=\"black\" cx=\"109\" cy=\"-29.9\" rx=\"18\" ry=\"18\"/>\r\n",
       "<text text-anchor=\"middle\" x=\"109\" y=\"-26.2\" font-family=\"Times New Roman,serif\" font-size=\"14.00\">I</text>\r\n",
       "</g>\r\n",
       "<!-- EMPTY&#45;&gt;I -->\r\n",
       "<g id=\"edge1\" class=\"edge\">\r\n",
       "<title>EMPTY&#45;&gt;I</title>\r\n",
       "<path fill=\"none\" stroke=\"black\" d=\"M54.19,-29.9C62.65,-29.9 72.05,-29.9 80.6,-29.9\"/>\r\n",
       "<polygon fill=\"black\" stroke=\"black\" points=\"80.83,-33.4 90.83,-29.9 80.83,-26.4 80.83,-33.4\"/>\r\n",
       "</g>\r\n",
       "<!-- S_b -->\r\n",
       "<g id=\"node2\" class=\"node\">\r\n",
       "<title>S_b</title>\r\n",
       "<ellipse fill=\"none\" stroke=\"black\" cx=\"201\" cy=\"-29.9\" rx=\"26\" ry=\"26\"/>\r\n",
       "<text text-anchor=\"middle\" x=\"201\" y=\"-26.2\" font-family=\"Times New Roman,serif\" font-size=\"14.00\">S_b</text>\r\n",
       "</g>\r\n",
       "<!-- S_ba -->\r\n",
       "<g id=\"node4\" class=\"node\">\r\n",
       "<title>S_ba</title>\r\n",
       "<ellipse fill=\"none\" stroke=\"black\" cx=\"302.89\" cy=\"-29.9\" rx=\"29.8\" ry=\"29.8\"/>\r\n",
       "<text text-anchor=\"middle\" x=\"302.89\" y=\"-26.2\" font-family=\"Times New Roman,serif\" font-size=\"14.00\">S_ba</text>\r\n",
       "</g>\r\n",
       "<!-- S_b&#45;&gt;S_ba -->\r\n",
       "<g id=\"edge5\" class=\"edge\">\r\n",
       "<title>S_b&#45;&gt;S_ba</title>\r\n",
       "<path fill=\"none\" stroke=\"black\" d=\"M227.21,-29.9C237.93,-29.9 250.7,-29.9 262.62,-29.9\"/>\r\n",
       "<polygon fill=\"black\" stroke=\"black\" points=\"262.8,-33.4 272.8,-29.9 262.8,-26.4 262.8,-33.4\"/>\r\n",
       "<text text-anchor=\"middle\" x=\"250\" y=\"-33.7\" font-family=\"Times New Roman,serif\" font-size=\"14.00\">a </text>\r\n",
       "</g>\r\n",
       "<!-- I&#45;&gt;S_b -->\r\n",
       "<g id=\"edge3\" class=\"edge\">\r\n",
       "<title>I&#45;&gt;S_b</title>\r\n",
       "<path fill=\"none\" stroke=\"black\" d=\"M127.35,-29.9C137.89,-29.9 151.72,-29.9 164.49,-29.9\"/>\r\n",
       "<polygon fill=\"black\" stroke=\"black\" points=\"164.87,-33.4 174.87,-29.9 164.87,-26.4 164.87,-33.4\"/>\r\n",
       "<text text-anchor=\"middle\" x=\"151\" y=\"-33.7\" font-family=\"Times New Roman,serif\" font-size=\"14.00\">b </text>\r\n",
       "</g>\r\n",
       "<!-- I&#45;&gt;I -->\r\n",
       "<g id=\"edge2\" class=\"edge\">\r\n",
       "<title>I&#45;&gt;I</title>\r\n",
       "<path fill=\"none\" stroke=\"black\" d=\"M105.76,-47.68C105.21,-57.21 106.29,-65.9 109,-65.9 110.65,-65.9 111.69,-62.67 112.13,-58\"/>\r\n",
       "<polygon fill=\"black\" stroke=\"black\" points=\"115.64,-57.71 112.24,-47.68 108.64,-57.64 115.64,-57.71\"/>\r\n",
       "<text text-anchor=\"middle\" x=\"109\" y=\"-69.7\" font-family=\"Times New Roman,serif\" font-size=\"14.00\">a </text>\r\n",
       "</g>\r\n",
       "<!-- I&#45;&gt;I -->\r\n",
       "<g id=\"edge4\" class=\"edge\">\r\n",
       "<title>I&#45;&gt;I</title>\r\n",
       "<path fill=\"none\" stroke=\"black\" d=\"M103.68,-47.32C100.65,-64.69 102.43,-83.9 109,-83.9 114.29,-83.9 116.47,-71.46 115.54,-57.55\"/>\r\n",
       "<polygon fill=\"black\" stroke=\"black\" points=\"118.98,-56.83 114.32,-47.32 112.03,-57.66 118.98,-56.83\"/>\r\n",
       "<text text-anchor=\"middle\" x=\"109\" y=\"-87.7\" font-family=\"Times New Roman,serif\" font-size=\"14.00\">b </text>\r\n",
       "</g>\r\n",
       "<!-- F -->\r\n",
       "<g id=\"node5\" class=\"node\">\r\n",
       "<title>F</title>\r\n",
       "<ellipse fill=\"none\" stroke=\"black\" cx=\"400.79\" cy=\"-29.9\" rx=\"18\" ry=\"18\"/>\r\n",
       "<ellipse fill=\"none\" stroke=\"black\" cx=\"400.79\" cy=\"-29.9\" rx=\"22\" ry=\"22\"/>\r\n",
       "<text text-anchor=\"middle\" x=\"400.79\" y=\"-26.2\" font-family=\"Times New Roman,serif\" font-size=\"14.00\">F</text>\r\n",
       "</g>\r\n",
       "<!-- S_ba&#45;&gt;F -->\r\n",
       "<g id=\"edge6\" class=\"edge\">\r\n",
       "<title>S_ba&#45;&gt;F</title>\r\n",
       "<path fill=\"none\" stroke=\"black\" d=\"M332.93,-29.9C344.24,-29.9 357.22,-29.9 368.72,-29.9\"/>\r\n",
       "<polygon fill=\"black\" stroke=\"black\" points=\"368.77,-33.4 378.77,-29.9 368.77,-26.4 368.77,-33.4\"/>\r\n",
       "<text text-anchor=\"middle\" x=\"355.79\" y=\"-33.7\" font-family=\"Times New Roman,serif\" font-size=\"14.00\">a </text>\r\n",
       "</g>\r\n",
       "</g>\r\n",
       "</svg>\r\n"
      ],
      "text/plain": [
       "<graphviz.dot.Digraph at 0x5810af0>"
      ]
     },
     "execution_count": 5,
     "metadata": {},
     "output_type": "execute_result"
    }
   ],
   "source": [
    "dotObj_nfa(Nbaa)"
   ]
  },
  {
   "cell_type": "markdown",
   "metadata": {},
   "source": [
    "# 3. Show that these designs agree using Jove automation\n",
    "\n",
    "## You are allowed to use only the following functions from Jove (not all may be necessary)\n",
    "\n",
    "* nfa2dfa\n",
    "\n",
    "* rev_dfa\n",
    "\n",
    "* iso_dfa\n",
    "\n",
    "* dotObj_dfa\n",
    "\n",
    "* dotObj_nfa\n",
    "\n",
    "## Note that using JUST these utilities, you can accomplish a lot of functions to compare DFAs! \n",
    "\n",
    "\n",
    "\n",
    "### So if you want to define simple Python functions of the following kind illustrated in comments below, feel free to introduce such a function, and then use my_utility_function in your code. Of course you have to uncomment the \"#\" in the illustration below. Here, f1, f2, f3 may be the above-listed functions. \n",
    "\n",
    "### These utility functions may not be needed in all the problems! Just one of the given functions may do!"
   ]
  },
  {
   "cell_type": "code",
   "execution_count": 6,
   "metadata": {},
   "outputs": [],
   "source": [
    "# This utility function returns the minimized version of some DFA `X`.\n",
    "def my_utility_function(X):\n",
    "    return nfa2dfa(rev_dfa(nfa2dfa(rev_dfa(X))))"
   ]
  },
  {
   "cell_type": "markdown",
   "metadata": {},
   "source": [
    "## Add as many code/markdown cells as you need."
   ]
  },
  {
   "cell_type": "markdown",
   "metadata": {},
   "source": [
    "### SOLUTION"
   ]
  },
  {
   "cell_type": "code",
   "execution_count": 7,
   "metadata": {},
   "outputs": [
    {
     "name": "stdout",
     "output_type": "stream",
     "text": [
      "True\n"
     ]
    }
   ],
   "source": [
    "# Prints `True` if the NFA from problem 2 and the DFA from problem 1\n",
    "#   represent the same language.\n",
    "print(iso_dfa(my_utility_function(nfa2dfa(Nbaa)),\n",
    "              my_utility_function(Dbaa)))"
   ]
  },
  {
   "cell_type": "markdown",
   "metadata": {},
   "source": [
    "# GRADING CELL\n",
    "\n",
    "##  I claim below that my solution is working as specified\n",
    "\n",
    "## This is how!\n",
    "\n",
    "* First of all, my utility function correctly minimizes any DFA because it uses the Brzozowski's Algorithm (reverse, determine, reverse, and determine).\n",
    "\n",
    "* Jove's library should correctly convert (determine) any NFA into a DFA, so by calling `nfa2dfa(Nbaa)`, we should get a DFA-equivalent of `Nbaa`.\n",
    "\n",
    "* Using my utility function which minimizes a DFA, we should get the minimized versions for both DFAs. Since it is proven that any two language-equivalent DFAs should be isomorphic after minimizing, by calling `iso_dfa()` and receiving a `True`, we've shown that the NFA from problem 2 is language-equivalent to the DFA from problem 1. $\\square$"
   ]
  },
  {
   "cell_type": "markdown",
   "metadata": {},
   "source": [
    "### I'll now write my utility function my_min_dfa for use in later questions"
   ]
  },
  {
   "cell_type": "code",
   "execution_count": 8,
   "metadata": {},
   "outputs": [],
   "source": [
    "def my_min_dfa(D):\n",
    "    return nfa2dfa(rev_dfa(nfa2dfa(rev_dfa(D))))"
   ]
  },
  {
   "cell_type": "markdown",
   "metadata": {},
   "source": [
    "# 4. This design was outsourced and the following NFA was supplied\n",
    "\n",
    "## You are to find out the containment order as above described\n",
    "\n",
    "## You can use the following functions + utility functions you can build out of these:\n",
    "\n",
    "* nfa2dfa\n",
    "\n",
    "* rev_dfa\n",
    "\n",
    "\n",
    " \n",
    "## Additionally, you may also use the following functions\n",
    "\n",
    "* iso_dfa\n",
    "\n",
    "* intersect_dfa\n",
    "\n",
    "* comp_dfa\n",
    "\n",
    "* dotObj_dfa\n",
    "\n",
    "* dotObj_nfa\n"
   ]
  },
  {
   "cell_type": "markdown",
   "metadata": {},
   "source": [
    "# The NFA given to you are below"
   ]
  },
  {
   "cell_type": "code",
   "execution_count": 9,
   "metadata": {},
   "outputs": [],
   "source": [
    "N1 =  {'Q': {'St1',\n",
    "  'St10',\n",
    "  'St11',\n",
    "  'St12',\n",
    "  'St13',\n",
    "  'St14',\n",
    "  'St15',\n",
    "  'St16',\n",
    "  'St2',\n",
    "  'St3',\n",
    "  'St4',\n",
    "  'St5',\n",
    "  'St6',\n",
    "  'St7',\n",
    "  'St8',\n",
    "  'St9'},\n",
    " 'Sigma': {'a', 'b'},\n",
    " 'Delta': {('St5', ''): {'St1', 'St3', 'St6'},\n",
    "  ('St1', 'a'): {'St2'},\n",
    "  ('St3', 'b'): {'St4'},\n",
    "  ('St4', ''): {'St5'},\n",
    "  ('St2', ''): {'St5'},\n",
    "  ('St6', 'b'): {'St7'},\n",
    "  ('St8', 'a'): {'St9'},\n",
    "  ('St7', ''): {'St8'},\n",
    "  ('St10', 'a'): {'St11'},\n",
    "  ('St9', ''): {'St10'},\n",
    "  ('St16', ''): {'St12', 'St14'},\n",
    "  ('St12', 'a'): {'St13'},\n",
    "  ('St14', 'b'): {'St15'},\n",
    "  ('St13', ''): {'St16'},\n",
    "  ('St15', ''): {'St16'},\n",
    "  ('St11', ''): {'St16'}},\n",
    " 'Q0': {'St5'},\n",
    " 'F': {'St16'}}"
   ]
  },
  {
   "cell_type": "code",
   "execution_count": 10,
   "metadata": {},
   "outputs": [],
   "source": [
    "N2 = {'Q': {'St1',\n",
    "  'St10',\n",
    "  'St11',\n",
    "  'St12',\n",
    "  'St13',\n",
    "  'St14',\n",
    "  'St2',\n",
    "  'St3',\n",
    "  'St4',\n",
    "  'St5',\n",
    "  'St6',\n",
    "  'St7',\n",
    "  'St8',\n",
    "  'St9'},\n",
    " 'Sigma': {'a', 'b'},\n",
    " 'Delta': {('St5', ''): {'St1', 'St3', 'St6'},\n",
    "  ('St1', 'a'): {'St2'},\n",
    "  ('St3', 'b'): {'St4'},\n",
    "  ('St4', ''): {'St5'},\n",
    "  ('St2', ''): {'St5'},\n",
    "  ('St6', 'b'): {'St7'},\n",
    "  ('St8', 'a'): {'St9'},\n",
    "  ('St7', ''): {'St8'},\n",
    "  ('St14', ''): {'St10', 'St12'},\n",
    "  ('St10', 'a'): {'St11'},\n",
    "  ('St12', 'b'): {'St13'},\n",
    "  ('St13', ''): {'St14'},\n",
    "  ('St11', ''): {'St14'},\n",
    "  ('St9', ''): {'St14'}},\n",
    " 'Q0': {'St5'},\n",
    " 'F': {'St14'}}"
   ]
  },
  {
   "cell_type": "code",
   "execution_count": 11,
   "metadata": {},
   "outputs": [],
   "source": [
    "N3 = {'Q': {'St1',\n",
    "  'St10',\n",
    "  'St11',\n",
    "  'St2',\n",
    "  'St3',\n",
    "  'St4',\n",
    "  'St5',\n",
    "  'St6',\n",
    "  'St7',\n",
    "  'St8',\n",
    "  'St9'},\n",
    " 'Sigma': {'a', 'b'},\n",
    " 'Delta': {('St5', ''): {'St1', 'St3', 'St6'},\n",
    "  ('St1', 'a'): {'St2'},\n",
    "  ('St3', 'b'): {'St4'},\n",
    "  ('St4', ''): {'St5'},\n",
    "  ('St2', ''): {'St5'},\n",
    "  ('St6', 'b'): {'St7'},\n",
    "  ('St8', 'a'): {'St9'},\n",
    "  ('St7', ''): {'St8'},\n",
    "  ('St10', 'a'): {'St11'},\n",
    "  ('St9', ''): {'St10'}},\n",
    " 'Q0': {'St5'},\n",
    " 'F': {'St11'}}"
   ]
  },
  {
   "cell_type": "markdown",
   "metadata": {},
   "source": [
    "# Find out the containment order:\n",
    "\n",
    "## $Nx \\subseteq Ny \\subseteq Nz$\n",
    "\n",
    "## for the above NFAs N1, N2, N3"
   ]
  },
  {
   "cell_type": "markdown",
   "metadata": {},
   "source": [
    "# Use as many code/markdown cells below as you wish"
   ]
  },
  {
   "cell_type": "markdown",
   "metadata": {},
   "source": [
    "## Establish as many required orderings below as you need to!\n"
   ]
  },
  {
   "cell_type": "code",
   "execution_count": 12,
   "metadata": {},
   "outputs": [
    {
     "name": "stdout",
     "output_type": "stream",
     "text": [
      "N1 ⊆ N2: True\n",
      "N2 ⊆ N1: False\n",
      "N2 ⊆ N3: False\n",
      "N3 ⊆ N2: True\n",
      "N1 ⊆ N3: False\n",
      "N3 ⊆ N1: True\n"
     ]
    }
   ],
   "source": [
    "# This utility function returns a DFA representing the language-difference\n",
    "#   between the languages represented by DFAs `A` and `B`. In other words,\n",
    "#   this function returns L_A - L_B, where L_A and L_B are the\n",
    "#   languages represented by the DFAs `A` and `B`, respectively.\n",
    "def my_util_func_2(A, B):\n",
    "    return intersect_dfa(A, comp_dfa(B))\n",
    "\n",
    "# This utility function returns whether some DFA `A` is contained in some\n",
    "#   other DFA `B`, i.e., A ⊆ B.\n",
    "def my_util_func_3(A, B):\n",
    "    return len(my_util_func_2(A, B)['F']) == 0\n",
    "\n",
    "# Here come the results!\n",
    "print(\"N1 ⊆ N2:\", my_util_func_3(nfa2dfa(N1), nfa2dfa(N2)))\n",
    "print(\"N2 ⊆ N1:\", my_util_func_3(nfa2dfa(N2), nfa2dfa(N1)))\n",
    "\n",
    "print(\"N2 ⊆ N3:\", my_util_func_3(nfa2dfa(N2), nfa2dfa(N3)))\n",
    "print(\"N3 ⊆ N2:\", my_util_func_3(nfa2dfa(N3), nfa2dfa(N2)))\n",
    "\n",
    "print(\"N1 ⊆ N3:\", my_util_func_3(nfa2dfa(N1), nfa2dfa(N3)))\n",
    "print(\"N3 ⊆ N1:\", my_util_func_3(nfa2dfa(N3), nfa2dfa(N1)))"
   ]
  },
  {
   "cell_type": "markdown",
   "metadata": {},
   "source": [
    "## Final answer: $\\boxed{N_3 \\subseteq N_1 \\subseteq N_2}$"
   ]
  },
  {
   "cell_type": "markdown",
   "metadata": {},
   "source": [
    "# GRADING CELL\n",
    "\n",
    "##  I claim below that my solution is working. \n",
    "\n",
    "## This is how :\n",
    "\n",
    "* I created a helper function called `my_util_func_2(A, B)`, which returns a DFA representing $L_A - L_B$, where $L_A$ and $L_B$ are the languages represented by the DFAs `A` and `B`, respectively. By definition of a set-difference, $L_A - L_B = L_A \\cap {L_B}'$, which is exactly what the helper function does.\n",
    "\n",
    "* I created a helper function called `my_util_func_3(A, B)`, which checks and returns whether $L_A$ is a subset of $L_B$, which then indicates whether the DFA `A` is contained in `B`. The way it works is that it checks if the DFA representing $L_A - L_B$ has a final state, because any DFA without a final state has an empty language. Therefore, if $L_A - L_B = \\emptyset$, we can say that the DFA `A` is contained in `B`.\n",
    "\n",
    "* Now, using these helper functions, I could check, one by one, the containment-relationship between any two states within $\\{N_1, N_2, N_3\\}$. Since the results were that $N_1 \\subseteq N_2$, $N_3 \\subseteq N_2$, and $N_3 \\subseteq N_1$, I concluded that $N_3 \\subseteq N_1 \\subseteq N_2$. $\\square$"
   ]
  }
 ],
 "metadata": {
  "kernelspec": {
   "display_name": "Python 3",
   "language": "python",
   "name": "python3"
  },
  "language_info": {
   "codemirror_mode": {
    "name": "ipython",
    "version": 3
   },
   "file_extension": ".py",
   "mimetype": "text/x-python",
   "name": "python",
   "nbconvert_exporter": "python",
   "pygments_lexer": "ipython3",
   "version": "3.8.5"
  },
  "toc": {
   "base_numbering": 1,
   "nav_menu": {
    "height": "318px",
    "width": "252px"
   },
   "number_sections": false,
   "sideBar": true,
   "skip_h1_title": false,
   "title_cell": "Table of Contents",
   "title_sidebar": "Contents",
   "toc_cell": false,
   "toc_position": {},
   "toc_section_display": "block",
   "toc_window_display": false
  }
 },
 "nbformat": 4,
 "nbformat_minor": 1
}
