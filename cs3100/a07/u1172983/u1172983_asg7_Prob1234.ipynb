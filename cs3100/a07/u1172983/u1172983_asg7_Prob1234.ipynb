{
 "cells": [
  {
   "cell_type": "markdown",
   "metadata": {},
   "source": [
    "# Asg-7 focuses on questions graded by the mentioned TAs\n",
    "\n",
    "# Full details are in the PDF file of Asg-7\n",
    "\n",
    "# This notebook only has space for your answers\n",
    "\n",
    " "
   ]
  },
  {
   "cell_type": "markdown",
   "metadata": {},
   "source": [
    "# ============="
   ]
  },
  {
   "attachments": {},
   "cell_type": "markdown",
   "metadata": {},
   "source": [
    "# AR (\"a few sentences\" typically is 3-4)\n",
    "\n",
    "# 1a: Answer by filling the prompts below\n",
    "\n",
    "<!--\n",
    "The original NFA accepted strings with the second-to-last character being a \"1\", meaning that the stack of its equivalent PDA only ever needs to store 2 characters, the last two characters in the string. When this NFA was now reversed, it accepts strings with the second (-to-first) character being a \"1\", and its PDA stack would have to hold all characters after the second character, since PDA has the left-most character on the top of its stack.\n",
    "-->\n",
    "\n",
    "* Prompt: RE\n",
    "  - ANSWER: `''+0+1+(0+1)*1(0+1)`\n",
    "* Prompt: Largest STKMAX below 9\n",
    "  - ANSWER: 8 was the largest stack size that failed.\n",
    "* Prompt: Type of linearity compared to that in ```pda_if_sndlast_then_1```\n",
    "  - ANSWER: The reversed CFG was left-linear while the original CFG was right-linear.\n",
    "* NOTE that bottom-up parsers love left-linearity; this PDA is really pursuing top-down parsing though!\n",
    "\n",
    " \n",
    "\n",
    "# 1b:\n",
    "\n",
    "* Prompt: What is the RE?\n",
    "  - ANSWER: `''+0+1+(0+1)1(0+1)*`\n",
    "* Prompt: Argue that the string is in that RE's language\n",
    "  - ANSWER: The string is in the form of \"0 or 1, 1, anything made from 0 and 1\".\n",
    "\n",
    " \n",
    "\n",
    "# 1c:\n",
    "\n",
    "* Prompt: Inherently ambiguous language's definition\n",
    "  - ANSWER: An inherently ambiguous language is a language that, for every possible PDA, there is more than one way to accept some of its strings.\n",
    "* Prompt: Why two parses for abc\n",
    "  - ANSWER: Because the string \"abc\" can either be interpreted as \"one 'a' followed by an equal number of 'b's and 'c's (1),\" or \"an equal number of 'a's and 'b's (1) followed by one 'c'.\"\n",
    "\n",
    "\n",
    " \n",
    "\n",
    "# 1d:\n",
    "\n",
    "* Prompt: aabbbccc has only one parse - why?\n",
    "  - ANSWER: Because the number of \"a\"s (2) does not equal the number of \"b\"s (1), we can only interpret this string as \"two 'a's followed by an equal number of 'b's and 'c's (3).\"\n"
   ]
  },
  {
   "cell_type": "markdown",
   "metadata": {},
   "source": [
    "# ============="
   ]
  },
  {
   "cell_type": "markdown",
   "metadata": {},
   "source": [
    "# SV\n",
    "\n",
    "# 2a: \n",
    "\n",
    "## (answer as per prompts)\n",
    "\n",
    "* Prompt: Comment-handling by lexer?\n",
    "  - ANSWER: Yes, the lexer handles the comments, and the comments never reach the parser.\n",
    "  \n",
    "\n",
    "# 2b:\n",
    "\n",
    "## (17 rules listed below, ignoring p_error) and their 1-sentence explanation. SOME ANSWERS left behind for you to serve as a guideline.\n",
    "\n",
    "\n",
    " * ANSWER: Rule-1  through Rule-17 are described below!\n",
    " \n",
    "```\n",
    "\n",
    "ANSWER: The rules are literally pulled out of the p_ functions, and presented below. \n",
    "The students must answer agains the rules below.\n",
    "\n",
    "\n",
    "def p_you_are_hosed(t):\n",
    "    '''md : error'''\n",
    "    Handles error\n",
    "    \n",
    "def p_dfa_md(t):\n",
    "    '''md : DFA lines'''\n",
    "    Processes DFA descriptions\n",
    "    \n",
    "def p_nfa_md(t):\n",
    "    '''md : NFA lines'''\n",
    "    Processes NFA descriptions\n",
    "\n",
    "def p_pda_md(t):\n",
    "    '''md : PDA lines'''\n",
    "    Processes PDA descriptions\n",
    "\n",
    "def p_tm_md(t):\n",
    "    '''md : TM lines'''\n",
    "    Processes TM descriptions\n",
    "\n",
    "#=================================================================\n",
    "# lines for all machine types\n",
    "    \n",
    "def p_lines1(t):\n",
    "    '''lines : one_line'''\n",
    "    Handles multiple lines as being one line. Used for all machine types\n",
    "\n",
    "def p_lines2(t):\n",
    "    '''lines : one_line lines'''\n",
    "    Handles multiple lines as being one line followed by multiple lines\n",
    "\n",
    "def p_one_line(t):\n",
    "    '''one_line : state COLON labels ARROW states'''\n",
    "    Handles one line as being a state followed by a colon followed by multiple labels followed by an arrow followed by multiple states (equivalent to a DFA- or NFA-step)\n",
    "\n",
    "def p_state(t):\n",
    "    '''state : ID'''\n",
    "    Handles a state as being an identifier\n",
    "\n",
    "def p_states1(t):\n",
    "    '''states : state'''\n",
    "    Handles multiple states as being one state\n",
    "\n",
    "def p_states2(t):\n",
    "    '''states : state COMMA states'''\n",
    "    Handles multiple states as being one state followed by multiple states\n",
    "\n",
    "def p_labels1(t):\n",
    "    '''labels : one_label'''\n",
    "    Handles multiple labels as being one label\n",
    "\n",
    "def p_labels2(t):\n",
    "    '''labels : one_label OR labels'''\n",
    "    Handles multiple labels as being either one label or multiple labels\n",
    "\n",
    "def p_one_label1(t):\n",
    "    '''one_label : ID_or_EPS_or_B'''\n",
    "    Handles a label as being an ID_or_EPS_or_B (equivalent to a DFA- or NFA-label)\n",
    "\n",
    "def p_ID_or_EPS_or_B(t):\n",
    "    '''ID_or_EPS_or_B : ID\n",
    "                      | EPS\n",
    "                      | BLANK'''\n",
    "    Handles an ID_or_EPS_or_B as being either an identifier, an epsilon, or a blank string.\n",
    "\n",
    "def p_one_label2(t):\n",
    "    '''one_label : ID_or_EPS_or_B COMMA ID_or_EPS_or_B SEMICOLON ID_or_EPS_or_B'''\n",
    "    Handles a label as being an ID_or_EPS_or_B followed by a comma followed by an ID_or_EPS_or_B followed by a semicolon followed by an ID_or_EPS_or_B (equivalent to a PDA-step)\n",
    "\n",
    "def p_one_label3(t):\n",
    "    '''one_label : ID_or_EPS_or_B SEMICOLON ID_or_EPS_or_B COMMA ID_or_EPS_or_B'''\n",
    "    Handles a label as being an ID_or_EPS_or_B followed by a semicolon followed by an ID_or_EPS_or_B followed by a comma followed by an ID_or_EPS_or_B (equivalent to a TM-step)\n",
    "\n",
    "```\n",
    "\n",
    " \n",
    "\n",
    " "
   ]
  },
  {
   "cell_type": "markdown",
   "metadata": {},
   "source": [
    "# ============="
   ]
  },
  {
   "cell_type": "markdown",
   "metadata": {},
   "source": [
    "# LT\n",
    "\n",
    "## The first expression evaluation's result + parsing details: follow prompts\n",
    "\n",
    "* Prompt: Expression result\n",
    "  - \n",
    "* Prompt: Tokenization\n",
    "  - ANSWER: ``` added .... token ```\n",
    "* Precedence for SUCC\n",
    "  - ANSWER: ``` one phrase ```\n",
    "* Associativity for SUCC\n",
    "  - ANSWER: ``` one phrase ```\n",
    "* Semantics\n",
    "  - ANSWER: ```one sentence ```\n",
    "\n",
    "## The test_strings and their results below\n",
    "\n",
    "```\n",
    "\n",
    "test_strings = ['2+3', '2+!-3', '3 + 3 * -!!3 + !3 * !!!-3', 'x=3', 'y=4', 'z=x+y', 'z', 'z=x+!y', 'z']\n",
    "\n",
    "** ANSWER OUTPUT AND REASON FOR EACH PRINTOUT **\n",
    "\n",
    "```"
   ]
  },
  {
   "cell_type": "markdown",
   "metadata": {},
   "source": [
    "# ============="
   ]
  },
  {
   "cell_type": "markdown",
   "metadata": {},
   "source": [
    "# XL (Partly filled answers below)\n",
    "\n",
    "## Question 4a\n",
    "\n",
    "* Prompt: How did ```c* & !b``` get parsed?\n",
    "  - ANSWER: ! has higher precedence, and so binds to \"b\"\n",
    "* Nullability rules from Section 10.2.2 of the book used to conclude the nullability status. You could use phrases such as ```nullability of RE1 & RE2 is true if ..., nullability of !R is true if ...```, etc.\n",
    "  - ANSWER:\n",
    "    - Rule for Conjunction : both must be nullable\n",
    "    - ...OTHER REASONS...\n",
    "\n",
    "## Question 4b\n",
    "* Prompt: How did ```c* & b*``` get parsed?\n",
    "  - ANSWER:  ...ANSWER...\n",
    "* Nullability rules from Section 10.2.2 of the book used to conclude the nullability status. You could use phrases such as ```nullability of RE1 & RE2 is true if ..., nullability of !R is true if ...```, etc.\n",
    "  - ANSWER:\n",
    "    - ...ANSWER...\n",
    "\n",
    "## Question 4c\n",
    "* Prompt: Why did ```(a+bc+def+bd)*``` match ```bc```? Remember that an RE ```R``` matches a string ```w``` if the derivative of R via w is nullable. You will be mentioning the applicable derivative rules from Figure 10.2.  You can obtain derivatives for whole strings and summations at-once using Rule-1 multiple times. For instance, to derive (ab+cd) on string ab, just state that ```using Rules 7 and 1, we can derive an Epsilon.```\n",
    "  - ANSWER: \n",
    "    - We have to first obtain the derivative of (a+bc+def+bd)\n",
    "    - ... EXPLANATIONS ...\n",
    "    - Hence ```(a+bc+def+bd)*``` matches ```bc```\n",
    "\n"
   ]
  },
  {
   "cell_type": "markdown",
   "metadata": {},
   "source": [
    "# END\n"
   ]
  },
  {
   "cell_type": "code",
   "execution_count": null,
   "metadata": {},
   "outputs": [],
   "source": []
  }
 ],
 "metadata": {
  "kernelspec": {
   "display_name": "Python 3",
   "language": "python",
   "name": "python3"
  },
  "language_info": {
   "codemirror_mode": {
    "name": "ipython",
    "version": 3
   },
   "file_extension": ".py",
   "mimetype": "text/x-python",
   "name": "python",
   "nbconvert_exporter": "python",
   "pygments_lexer": "ipython3",
   "version": "3.8.5"
  },
  "toc": {
   "colors": {
    "hover_highlight": "#DAA520",
    "running_highlight": "#FF0000",
    "selected_highlight": "#FFD700"
   },
   "moveMenuLeft": true,
   "nav_menu": {
    "height": "121px",
    "width": "252px"
   },
   "navigate_menu": true,
   "number_sections": true,
   "sideBar": true,
   "threshold": 4,
   "toc_cell": false,
   "toc_section_display": "block",
   "toc_window_display": false,
   "widenNotebook": false
  },
  "widgets": {
   "state": {
    "430c92ee02b34ec1912bf03c8de1e6dc": {
     "views": [
      {
       "cell_index": 20
      }
     ]
    }
   },
   "version": "1.2.0"
  }
 },
 "nbformat": 4,
 "nbformat_minor": 2
}
