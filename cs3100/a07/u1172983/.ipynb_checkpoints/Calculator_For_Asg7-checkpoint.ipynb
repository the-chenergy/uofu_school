{
 "cells": [
  {
   "cell_type": "markdown",
   "metadata": {
    "run_control": {
     "frozen": false,
     "read_only": false
    }
   },
   "source": [
    "# Asg-7 Starter\n",
    "\n",
    "## Add the successor operator \n",
    "## Examples:\n",
    "\n",
    "* !3 = 4\n",
    "* !!3 = 5\n",
    "* 3 + 3 * !!!3 = 21\n",
    "* 3 * !!3 + !!3 * !!!3 = 48\n",
    "\n",
    "### In general, !expression obtains the successor of the expression\n",
    " \n",
    "### You should generate a token \"SUCC\" corresponding to \"!\"\n",
    "\n",
    "### Then modify p_expression_succ\n",
    "\n",
    "### For your convenience, I've provided comments on where to add the changes\n",
    "\n",
    "### (since you all don't know Python)\n",
    "\n",
    "# Look for <== below !!\n",
    "\n",
    "\n",
    "* Build your own calculator\n",
    "  - The code is adapted slightly from https://www.dabeaz.com/ply/example.html\n",
    "\n",
    "  - further seal knowledge of lexers (RE based) and parsers (CFG based) in your minds "
   ]
  },
  {
   "cell_type": "code",
   "execution_count": 1,
   "metadata": {
    "run_control": {
     "frozen": false,
     "read_only": false
    }
   },
   "outputs": [],
   "source": [
    "import sys\n",
    "\n",
    "# -- Detect if in Own Install or in Colab\n",
    "try:\n",
    "    import google.colab\n",
    "    OWN_INSTALL = False\n",
    "except:\n",
    "    OWN_INSTALL = True\n",
    "\n",
    "if OWN_INSTALL:\n",
    "  #---- Leave these definitions ON if running on laptop\n",
    "  #---- Else turn OFF by putting them between ''' ... '''\n",
    "    sys.path[0:0] = ['../../../../..',  '../../../../../3rdparty',  \n",
    "                   '../../../..',  '../../../../3rdparty',  \n",
    "                   '../../..',     '../../../3rdparty', \n",
    "                   '../..',        '../../3rdparty',\n",
    "                   '..',           '../3rdparty' ]\n",
    "else: # In colab  \n",
    "    ! if [ ! -d Jove ]; then git clone https://github.com/ganeshutah/Jove Jove; fi    \n",
    "    sys.path.append('./Jove')\n",
    "    sys.path.append('./Jove/jove')\n",
    "\n",
    "# -- common imports --\n",
    "from jove.lex import lex\n",
    "from jove.yacc import yacc"
   ]
  },
  {
   "cell_type": "code",
   "execution_count": 2,
   "metadata": {
    "run_control": {
     "frozen": false,
     "read_only": false
    }
   },
   "outputs": [
    {
     "name": "stderr",
     "output_type": "stream",
     "text": [
      "Generating LALR tables\n"
     ]
    },
    {
     "name": "stdout",
     "output_type": "stream",
     "text": [
      "calc > 2\n",
      "2\n",
      "calc > !!2\n",
      "Illegal character '!'\n",
      "Illegal character '!'\n",
      "2\n",
      "calc > 2 * -3\n",
      "-6\n",
      "calc > 2 * !!-6\n",
      "Illegal character '!'\n",
      "Illegal character '!'\n",
      "-12\n",
      "calc > END\n"
     ]
    }
   ],
   "source": [
    "tokens = (\n",
    "    'NAME','NUMBER',\n",
    "    'PLUS','MINUS','TIMES','DIVIDE','EQUALS',\n",
    "    'LPAREN','RPAREN'                          # <== ADD the token 'SUCC'\n",
    "    )\n",
    "\n",
    "# Tokens\n",
    "\n",
    "t_PLUS    = r'\\+'\n",
    "t_MINUS   = r'-'\n",
    "t_TIMES   = r'\\*'\n",
    "t_DIVIDE  = r'/'\n",
    "t_EQUALS  = r'='\n",
    "t_LPAREN  = r'\\('\n",
    "t_RPAREN  = r'\\)'\n",
    "t_NAME    = r'[a-zA-Z_][a-zA-Z0-9_]*'\n",
    "#t_SUCC    =                                # <== FIX this defn to generate token 'SUCC'\n",
    "\n",
    "def t_NUMBER(t):\n",
    "    r'\\d+'\n",
    "    try:\n",
    "        t.value = int(t.value)\n",
    "    except ValueError:\n",
    "        print(\"Integer value too large %d\", t.value)\n",
    "        t.value = 0\n",
    "    return t\n",
    "\n",
    "# Ignored characters\n",
    "t_ignore = \" \\t\"\n",
    "\n",
    "def t_newline(t):\n",
    "    r'\\n+'\n",
    "    t.lexer.lineno += t.value.count(\"\\n\")\n",
    "    \n",
    "def t_error(t):\n",
    "    print(\"Illegal character '%s'\" % t.value[0])\n",
    "    t.lexer.skip(1)\n",
    "    \n",
    "\n",
    "# Parsing rules\n",
    "\n",
    "precedence = (\n",
    "    ('left','PLUS','MINUS'),\n",
    "    ('left','TIMES','DIVIDE'),\n",
    "    ('right','UMINUS' ), \n",
    "    #---                         <== add SUCC here with \"right\" for associativity\n",
    "    )\n",
    "\n",
    "# dictionary of names\n",
    "names = { }\n",
    "\n",
    "def p_statement_assign(t):\n",
    "    'statement : NAME EQUALS expression'\n",
    "    names[t[1]] = t[3]\n",
    "\n",
    "def p_statement_expr(t):\n",
    "    'statement : expression'\n",
    "    print(t[1])\n",
    "\n",
    "def p_expression_binop(t):\n",
    "    '''expression : expression PLUS expression\n",
    "                  | expression MINUS expression\n",
    "                  | expression TIMES expression\n",
    "                  | expression DIVIDE expression'''\n",
    "    if t[2] == '+'  : t[0] = t[1] + t[3]\n",
    "    elif t[2] == '-': t[0] = t[1] - t[3]\n",
    "    elif t[2] == '*': t[0] = t[1] * t[3]\n",
    "    elif t[2] == '/': t[0] = t[1] / t[3]\n",
    "\n",
    "def p_expression_uminus(t):\n",
    "    'expression : MINUS expression %prec UMINUS'\n",
    "    t[0] = -t[2]\n",
    "    \n",
    "    #  def p_expression_succ(t): <=== DEFINE this function properly\n",
    "    #                     <===== WRITE a suitable grammar rule to handle SUCC\n",
    "    #                     <===== WRITE a suitable semantic action for SUCC\n",
    "\n",
    "def p_expression_group(t):\n",
    "    'expression : LPAREN expression RPAREN'\n",
    "    t[0] = t[2]\n",
    "\n",
    "def p_expression_number(t):\n",
    "    'expression : NUMBER'\n",
    "    t[0] = t[1]\n",
    "\n",
    "def p_expression_name(t):\n",
    "    'expression : NAME'\n",
    "    try:\n",
    "        t[0] = names[t[1]]\n",
    "    except LookupError:\n",
    "        print(\"Undefined name '%s'\" % t[1])\n",
    "        t[0] = 0\n",
    "\n",
    "def p_error(t):\n",
    "    print(\"Syntax error at '%s'\" % t.value)\n",
    " \n",
    "calclexer = lex()\n",
    "calcparser = yacc()\n",
    "\n",
    "while True:\n",
    "    try:\n",
    "        s = input('calc > ')   # Use raw_input on Python 2\n",
    "    except EOFError:\n",
    "        break\n",
    "    if (s=='END'):\n",
    "        break\n",
    "    calcparser.parse(s, lexer=calclexer)"
   ]
  },
  {
   "cell_type": "markdown",
   "metadata": {
    "run_control": {
     "frozen": false,
     "read_only": false
    }
   },
   "source": [
    "## Your output must resemble the above."
   ]
  },
  {
   "cell_type": "code",
   "execution_count": 3,
   "metadata": {},
   "outputs": [],
   "source": [
    "test_strings = ['2+3', '2+!-3', '3 + 3 * -!!3 + !!3 * !!!-3', 'x=3', 'y=4', 'z=x+y', 'z', 'z=x+!y', 'z']"
   ]
  },
  {
   "cell_type": "code",
   "execution_count": 4,
   "metadata": {},
   "outputs": [
    {
     "name": "stdout",
     "output_type": "stream",
     "text": [
      "5\n",
      "Illegal character '!'\n",
      "5\n",
      "Illegal character '!'\n",
      "Illegal character '!'\n",
      "Illegal character '!'\n",
      "Illegal character '!'\n",
      "Illegal character '!'\n",
      "Illegal character '!'\n",
      "Illegal character '!'\n",
      "21\n",
      "7\n",
      "Illegal character '!'\n",
      "7\n"
     ]
    }
   ],
   "source": [
    "for s in test_strings:\n",
    "    calcparser.parse(s, lexer=calclexer)"
   ]
  },
  {
   "cell_type": "code",
   "execution_count": null,
   "metadata": {},
   "outputs": [],
   "source": []
  },
  {
   "cell_type": "code",
   "execution_count": null,
   "metadata": {},
   "outputs": [],
   "source": []
  }
 ],
 "metadata": {
  "kernelspec": {
   "display_name": "Python 3",
   "language": "python",
   "name": "python3"
  },
  "language_info": {
   "codemirror_mode": {
    "name": "ipython",
    "version": 3
   },
   "file_extension": ".py",
   "mimetype": "text/x-python",
   "name": "python",
   "nbconvert_exporter": "python",
   "pygments_lexer": "ipython3",
   "version": "3.8.5"
  },
  "toc": {
   "colors": {
    "hover_highlight": "#DAA520",
    "running_highlight": "#FF0000",
    "selected_highlight": "#FFD700"
   },
   "moveMenuLeft": true,
   "nav_menu": {
    "height": "318px",
    "width": "252px"
   },
   "navigate_menu": true,
   "number_sections": true,
   "sideBar": true,
   "threshold": 4,
   "toc_cell": false,
   "toc_section_display": "block",
   "toc_window_display": false,
   "widenNotebook": false
  }
 },
 "nbformat": 4,
 "nbformat_minor": 1
}
