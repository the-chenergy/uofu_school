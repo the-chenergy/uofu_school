{
 "cells": [
  {
   "cell_type": "markdown",
   "metadata": {
    "run_control": {
     "frozen": false,
     "read_only": false
    }
   },
   "source": [
    "# Asg-7 Starter\n",
    "\n",
    "## Add the successor operator \n",
    "## Examples:\n",
    "\n",
    "* !3 = 4\n",
    "* !!3 = 5\n",
    "* 3 + 3 * !!!3 = 21\n",
    "* 3 * !!3 + !!3 * !!!3 = 48\n",
    "\n",
    "### In general, !expression obtains the successor of the expression\n",
    " \n",
    "### You should generate a token \"SUCC\" corresponding to \"!\"\n",
    "\n",
    "### Then modify p_expression_succ\n",
    "\n",
    "### For your convenience, I've provided comments on where to add the changes\n",
    "\n",
    "### (since you all don't know Python)\n",
    "\n",
    "# Look for <== below !!\n",
    "\n",
    "\n",
    "* Build your own calculator\n",
    "  - The code is adapted slightly from https://www.dabeaz.com/ply/example.html\n",
    "\n",
    "  - further seal knowledge of lexers (RE based) and parsers (CFG based) in your minds "
   ]
  },
  {
   "cell_type": "code",
   "execution_count": null,
   "metadata": {
    "run_control": {
     "frozen": false,
     "read_only": false
    }
   },
   "outputs": [],
   "source": [
    "import sys\n",
    "\n",
    "# -- Detect if in Own Install or in Colab\n",
    "try:\n",
    "    import google.colab\n",
    "    OWN_INSTALL = False\n",
    "except:\n",
    "    OWN_INSTALL = True\n",
    "\n",
    "if OWN_INSTALL:\n",
    "  #---- Leave these definitions ON if running on laptop\n",
    "  #---- Else turn OFF by putting them between ''' ... '''\n",
    "    sys.path[0:0] = ['../../../../..',  '../../../../../3rdparty',  \n",
    "                   '../../../..',  '../../../../3rdparty',  \n",
    "                   '../../..',     '../../../3rdparty', \n",
    "                   '../..',        '../../3rdparty',\n",
    "                   '..',           '../3rdparty' ]\n",
    "else: # In colab  \n",
    "    ! if [ ! -d Jove ]; then git clone https://github.com/ganeshutah/Jove Jove; fi    \n",
    "    sys.path.append('./Jove')\n",
    "    sys.path.append('./Jove/jove')\n",
    "\n",
    "# -- common imports --\n",
    "from jove.lex import lex\n",
    "from jove.yacc import yacc"
   ]
  },
  {
   "cell_type": "code",
   "execution_count": 2,
   "metadata": {
    "run_control": {
     "frozen": false,
     "read_only": false
    }
   },
   "outputs": [
    {
     "name": "stdout",
     "output_type": "stream",
     "text": [
      "calc > 3 * !!3 + !!3 * !!!3\n",
      "45\n"
     ]
    },
    {
     "ename": "KeyboardInterrupt",
     "evalue": "Interrupted by user",
     "output_type": "error",
     "traceback": [
      "\u001b[1;31m---------------------------------------------------------------------------\u001b[0m",
      "\u001b[1;31mKeyboardInterrupt\u001b[0m                         Traceback (most recent call last)",
      "\u001b[1;32m<ipython-input-2-ab39ac0adc2f>\u001b[0m in \u001b[0;36m<module>\u001b[1;34m\u001b[0m\n\u001b[0;32m    104\u001b[0m \u001b[1;32mwhile\u001b[0m \u001b[1;32mTrue\u001b[0m\u001b[1;33m:\u001b[0m\u001b[1;33m\u001b[0m\u001b[1;33m\u001b[0m\u001b[0m\n\u001b[0;32m    105\u001b[0m     \u001b[1;32mtry\u001b[0m\u001b[1;33m:\u001b[0m\u001b[1;33m\u001b[0m\u001b[1;33m\u001b[0m\u001b[0m\n\u001b[1;32m--> 106\u001b[1;33m         \u001b[0ms\u001b[0m \u001b[1;33m=\u001b[0m \u001b[0minput\u001b[0m\u001b[1;33m(\u001b[0m\u001b[1;34m'calc > '\u001b[0m\u001b[1;33m)\u001b[0m   \u001b[1;31m# Use raw_input on Python 2\u001b[0m\u001b[1;33m\u001b[0m\u001b[1;33m\u001b[0m\u001b[0m\n\u001b[0m\u001b[0;32m    107\u001b[0m     \u001b[1;32mexcept\u001b[0m \u001b[0mEOFError\u001b[0m\u001b[1;33m:\u001b[0m\u001b[1;33m\u001b[0m\u001b[1;33m\u001b[0m\u001b[0m\n\u001b[0;32m    108\u001b[0m         \u001b[1;32mbreak\u001b[0m\u001b[1;33m\u001b[0m\u001b[1;33m\u001b[0m\u001b[0m\n",
      "\u001b[1;32mc:\\users\\null\\appdata\\local\\programs\\python\\python38-32\\lib\\site-packages\\ipykernel\\kernelbase.py\u001b[0m in \u001b[0;36mraw_input\u001b[1;34m(self, prompt)\u001b[0m\n\u001b[0;32m    858\u001b[0m                 \u001b[1;34m\"raw_input was called, but this frontend does not support input requests.\"\u001b[0m\u001b[1;33m\u001b[0m\u001b[1;33m\u001b[0m\u001b[0m\n\u001b[0;32m    859\u001b[0m             )\n\u001b[1;32m--> 860\u001b[1;33m         return self._input_request(str(prompt),\n\u001b[0m\u001b[0;32m    861\u001b[0m             \u001b[0mself\u001b[0m\u001b[1;33m.\u001b[0m\u001b[0m_parent_ident\u001b[0m\u001b[1;33m,\u001b[0m\u001b[1;33m\u001b[0m\u001b[1;33m\u001b[0m\u001b[0m\n\u001b[0;32m    862\u001b[0m             \u001b[0mself\u001b[0m\u001b[1;33m.\u001b[0m\u001b[0m_parent_header\u001b[0m\u001b[1;33m,\u001b[0m\u001b[1;33m\u001b[0m\u001b[1;33m\u001b[0m\u001b[0m\n",
      "\u001b[1;32mc:\\users\\null\\appdata\\local\\programs\\python\\python38-32\\lib\\site-packages\\ipykernel\\kernelbase.py\u001b[0m in \u001b[0;36m_input_request\u001b[1;34m(self, prompt, ident, parent, password)\u001b[0m\n\u001b[0;32m    902\u001b[0m             \u001b[1;32mexcept\u001b[0m \u001b[0mKeyboardInterrupt\u001b[0m\u001b[1;33m:\u001b[0m\u001b[1;33m\u001b[0m\u001b[1;33m\u001b[0m\u001b[0m\n\u001b[0;32m    903\u001b[0m                 \u001b[1;31m# re-raise KeyboardInterrupt, to truncate traceback\u001b[0m\u001b[1;33m\u001b[0m\u001b[1;33m\u001b[0m\u001b[1;33m\u001b[0m\u001b[0m\n\u001b[1;32m--> 904\u001b[1;33m                 \u001b[1;32mraise\u001b[0m \u001b[0mKeyboardInterrupt\u001b[0m\u001b[1;33m(\u001b[0m\u001b[1;34m\"Interrupted by user\"\u001b[0m\u001b[1;33m)\u001b[0m \u001b[1;32mfrom\u001b[0m \u001b[1;32mNone\u001b[0m\u001b[1;33m\u001b[0m\u001b[1;33m\u001b[0m\u001b[0m\n\u001b[0m\u001b[0;32m    905\u001b[0m             \u001b[1;32mexcept\u001b[0m \u001b[0mException\u001b[0m \u001b[1;32mas\u001b[0m \u001b[0me\u001b[0m\u001b[1;33m:\u001b[0m\u001b[1;33m\u001b[0m\u001b[1;33m\u001b[0m\u001b[0m\n\u001b[0;32m    906\u001b[0m                 \u001b[0mself\u001b[0m\u001b[1;33m.\u001b[0m\u001b[0mlog\u001b[0m\u001b[1;33m.\u001b[0m\u001b[0mwarning\u001b[0m\u001b[1;33m(\u001b[0m\u001b[1;34m\"Invalid Message:\"\u001b[0m\u001b[1;33m,\u001b[0m \u001b[0mexc_info\u001b[0m\u001b[1;33m=\u001b[0m\u001b[1;32mTrue\u001b[0m\u001b[1;33m)\u001b[0m\u001b[1;33m\u001b[0m\u001b[1;33m\u001b[0m\u001b[0m\n",
      "\u001b[1;31mKeyboardInterrupt\u001b[0m: Interrupted by user"
     ]
    }
   ],
   "source": [
    "tokens = (\n",
    "    'NAME','NUMBER',\n",
    "    'PLUS','MINUS','TIMES','DIVIDE','EQUALS',\n",
    "    'LPAREN','RPAREN',\n",
    "    'SUCC', # <== ADD the token 'SUCC'\n",
    "    )\n",
    "\n",
    "# Tokens\n",
    "\n",
    "t_PLUS    = r'\\+'\n",
    "t_MINUS   = r'-'\n",
    "t_TIMES   = r'\\*'\n",
    "t_DIVIDE  = r'/'\n",
    "t_EQUALS  = r'='\n",
    "t_LPAREN  = r'\\('\n",
    "t_RPAREN  = r'\\)'\n",
    "t_NAME    = r'[a-zA-Z_][a-zA-Z0-9_]*'\n",
    "t_SUCC    = r'\\!' # <== FIX this defn to generate token 'SUCC'\n",
    "\n",
    "def t_NUMBER(t):\n",
    "    r'\\d+'\n",
    "    try:\n",
    "        t.value = int(t.value)\n",
    "    except ValueError:\n",
    "        print(\"Integer value too large %d\", t.value)\n",
    "        t.value = 0\n",
    "    return t\n",
    "\n",
    "# Ignored characters\n",
    "t_ignore = \" \\t\"\n",
    "\n",
    "def t_newline(t):\n",
    "    r'\\n+'\n",
    "    t.lexer.lineno += t.value.count(\"\\n\")\n",
    "    \n",
    "def t_error(t):\n",
    "    print(\"Illegal character '%s'\" % t.value[0])\n",
    "    t.lexer.skip(1)\n",
    "    \n",
    "\n",
    "# Parsing rules\n",
    "\n",
    "precedence = (\n",
    "    ('left','PLUS','MINUS'),\n",
    "    ('left','TIMES','DIVIDE'),\n",
    "    ('right','UMINUS' ), \n",
    "    ('right', 'SUCC'), # <== add SUCC here with \"right\" for associativity\n",
    "    )\n",
    "\n",
    "# dictionary of names\n",
    "names = { }\n",
    "\n",
    "def p_statement_assign(t):\n",
    "    'statement : NAME EQUALS expression'\n",
    "    names[t[1]] = t[3]\n",
    "\n",
    "def p_statement_expr(t):\n",
    "    'statement : expression'\n",
    "    print(t[1])\n",
    "\n",
    "def p_expression_binop(t):\n",
    "    '''expression : expression PLUS expression\n",
    "                  | expression MINUS expression\n",
    "                  | expression TIMES expression\n",
    "                  | expression DIVIDE expression'''\n",
    "    if t[2] == '+'  : t[0] = t[1] + t[3]\n",
    "    elif t[2] == '-': t[0] = t[1] - t[3]\n",
    "    elif t[2] == '*': t[0] = t[1] * t[3]\n",
    "    elif t[2] == '/': t[0] = t[1] / t[3]\n",
    "\n",
    "def p_expression_uminus(t):\n",
    "    'expression : MINUS expression %prec UMINUS'\n",
    "    t[0] = -t[2]\n",
    "\n",
    "#  def p_expression_succ(t): <=== DEFINE this function properly\n",
    "#                     <===== WRITE a suitable grammar rule to handle SUCC\n",
    "#                     <===== WRITE a suitable semantic action for SUCC\n",
    "def p_expression_succ(t):\n",
    "    'expression : SUCC expression'\n",
    "    t[0] = 1 + t[2]\n",
    "\n",
    "def p_expression_group(t):\n",
    "    'expression : LPAREN expression RPAREN'\n",
    "    t[0] = t[2]\n",
    "\n",
    "def p_expression_number(t):\n",
    "    'expression : NUMBER'\n",
    "    t[0] = t[1]\n",
    "\n",
    "def p_expression_name(t):\n",
    "    'expression : NAME'\n",
    "    try:\n",
    "        t[0] = names[t[1]]\n",
    "    except LookupError:\n",
    "        print(\"Undefined name '%s'\" % t[1])\n",
    "        t[0] = 0\n",
    "\n",
    "def p_error(t):\n",
    "    print(\"Syntax error at '%s'\" % t.value)\n",
    " \n",
    "calclexer = lex()\n",
    "calcparser = yacc()\n",
    "\n",
    "while True:\n",
    "    try:\n",
    "        s = input('calc > ')   # Use raw_input on Python 2\n",
    "    except EOFError:\n",
    "        break\n",
    "    if (s=='END'):\n",
    "        break\n",
    "    calcparser.parse(s, lexer=calclexer)"
   ]
  },
  {
   "cell_type": "markdown",
   "metadata": {
    "run_control": {
     "frozen": false,
     "read_only": false
    }
   },
   "source": [
    "## Your output must resemble the above."
   ]
  },
  {
   "cell_type": "code",
   "execution_count": 3,
   "metadata": {},
   "outputs": [],
   "source": [
    "test_strings = ['2+3', '2+!-3', '3 + 3 * -!!3 + !!3 * !!!-3', 'x=3', 'y=4', 'z=x+y', 'z', 'z=x+!y', 'z']"
   ]
  },
  {
   "cell_type": "code",
   "execution_count": 6,
   "metadata": {},
   "outputs": [
    {
     "name": "stdout",
     "output_type": "stream",
     "text": [
      "5\n",
      "0\n",
      "-12\n",
      "7\n",
      "8\n"
     ]
    }
   ],
   "source": [
    "for s in test_strings:\n",
    "    calcparser.parse(s, lexer=calclexer)"
   ]
  },
  {
   "cell_type": "code",
   "execution_count": null,
   "metadata": {},
   "outputs": [],
   "source": []
  },
  {
   "cell_type": "code",
   "execution_count": null,
   "metadata": {},
   "outputs": [],
   "source": []
  }
 ],
 "metadata": {
  "kernelspec": {
   "display_name": "Python 3",
   "language": "python",
   "name": "python3"
  },
  "language_info": {
   "codemirror_mode": {
    "name": "ipython",
    "version": 3
   },
   "file_extension": ".py",
   "mimetype": "text/x-python",
   "name": "python",
   "nbconvert_exporter": "python",
   "pygments_lexer": "ipython3",
   "version": "3.8.5"
  },
  "toc": {
   "colors": {
    "hover_highlight": "#DAA520",
    "running_highlight": "#FF0000",
    "selected_highlight": "#FFD700"
   },
   "moveMenuLeft": true,
   "nav_menu": {
    "height": "318px",
    "width": "252px"
   },
   "navigate_menu": true,
   "number_sections": true,
   "sideBar": true,
   "threshold": 4,
   "toc_cell": false,
   "toc_section_display": "block",
   "toc_window_display": false,
   "widenNotebook": false
  }
 },
 "nbformat": 4,
 "nbformat_minor": 1
}
