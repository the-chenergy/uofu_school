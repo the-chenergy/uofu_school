{
 "cells": [
  {
   "cell_type": "markdown",
   "metadata": {
    "run_control": {
     "frozen": false,
     "read_only": false
    }
   },
   "source": [
    " # This notebook will cover \n",
    " \n",
    " ## 1) Linear grammars, illustrated by defining a fresh NFA and converting it into a CFG, and simulating it via a PDA\n",
    " \n",
    " ## 2) Ambiguity and inherent ambiguity, again illustrated via a PDA that encodes such a language\n",
    " \n",
    " # These exercises will be featured in the Quiz-7"
   ]
  },
  {
   "cell_type": "code",
   "execution_count": 1,
   "metadata": {
    "run_control": {
     "frozen": false,
     "read_only": false
    }
   },
   "outputs": [
    {
     "name": "stdout",
     "output_type": "stream",
     "text": [
      "You may use any of these help commands:\n",
      "help(ResetStNum)\n",
      "help(NxtStateStr)\n",
      "\n",
      "You may use any of these help commands:\n",
      "help(mkp_dfa)\n",
      "help(mk_dfa)\n",
      "help(totalize_dfa)\n",
      "help(addtosigma_delta)\n",
      "help(step_dfa)\n",
      "help(run_dfa)\n",
      "help(accepts_dfa)\n",
      "help(comp_dfa)\n",
      "help(union_dfa)\n",
      "help(intersect_dfa)\n",
      "help(pruneUnreach)\n",
      "help(iso_dfa)\n",
      "help(langeq_dfa)\n",
      "help(same_status)\n",
      "help(h_langeq_dfa)\n",
      "help(fixptDist)\n",
      "help(min_dfa)\n",
      "help(pairFR)\n",
      "help(state_combos)\n",
      "help(sepFinNonFin)\n",
      "help(bash_eql_classes)\n",
      "help(listminus)\n",
      "help(bash_1)\n",
      "help(mk_rep_eqc)\n",
      "help(F_of)\n",
      "help(rep_of_s)\n",
      "help(q0_of)\n",
      "help(Delta_of)\n",
      "help(mk_state_eqc_name)\n",
      "\n",
      "You may use any of these help commands:\n",
      "help(mk_nfa)\n",
      "help(totalize_nfa)\n",
      "help(step_nfa)\n",
      "help(run_nfa)\n",
      "help(ec_step_nfa)\n",
      "help(Eclosure)\n",
      "help(Echelp)\n",
      "help(accepts_nfa)\n",
      "help(nfa2dfa)\n",
      "help(n2d)\n",
      "help(inSets)\n",
      "help(rev_dfa)\n",
      "help(min_dfa_brz)\n",
      "\n",
      "You may use any of these help commands:\n",
      "help(re2nfa)\n",
      "\n",
      "You may use any of these help commands:\n",
      "help(md2mc)\n",
      ".. and if you want to dig more, then ..\n",
      "help(default_line_attr)\n",
      "help(length_ok_input_items)\n",
      "help(union_line_attr_list_fld)\n",
      "help(extend_rsltdict)\n",
      "help(form_delta)\n",
      "help(get_machine_components)\n",
      "\n",
      "You may use any of these help commands:\n",
      "help(explore_pda)\n",
      "help(run_pda)\n",
      "help(classify_l_id_path)\n",
      "help(h_run_pda)\n",
      "help(interpret_w_eps)\n",
      "help(step_pda)\n",
      "help(suvivor_id)\n",
      "help(term_id)\n",
      "help(final_id)\n",
      "help(cvt_str_to_sym)\n",
      "help(is_surv_id)\n",
      "help(subsumed)\n",
      "help(is_term_id)\n",
      "help(is_final_id)\n",
      "\n"
     ]
    }
   ],
   "source": [
    "#~~~~~~~~~~~~~~~~~~~~~~~~~~~~~~~~~~~~~~~~~~~~~~~~~~~~~~~\n",
    "import sys\n",
    "\n",
    "# -- Detect if in Own Install or in Colab\n",
    "try:\n",
    "    import google.colab\n",
    "    OWN_INSTALL = False\n",
    "except:\n",
    "    OWN_INSTALL = True\n",
    "    \n",
    "if OWN_INSTALL:\n",
    "    \n",
    "  #---- Leave these definitions ON if running on laptop\n",
    "  #---- Else turn OFF by putting them between ''' ... '''\n",
    "\n",
    "  sys.path[0:0] = ['../../../../..',  '../../../../../3rdparty',  \n",
    "                   '../../../..',  '../../../../3rdparty',  \n",
    "                   '../../..',     '../../../3rdparty', \n",
    "                   '../..',        '../../3rdparty',\n",
    "                   '..',           '../3rdparty' ]\n",
    "\n",
    "else: # In colab\n",
    "  ! if [ ! -d Jove ]; then git clone https://github.com/ganeshutah/Jove Jove; fi\n",
    "  sys.path.append('./Jove')\n",
    "  sys.path.append('./Jove/jove')\n",
    "\n",
    "# -- common imports --\n",
    "\n",
    "from jove.SystemImports import *\n",
    "from jove.DotBashers    import *\n",
    "\n",
    "from jove.Def_NFA       import *\n",
    "from jove.Def_DFA       import *\n",
    "from jove.Def_RE2NFA    import *\n",
    "\n",
    "from jove.Def_md2mc     import *\n",
    "from jove.Def_PDA       import *\n",
    "from jove.AnimatePDA    import *\n",
    "#~~~~~~~~~~~~~~~~~~~~~~~~~~~~~~~~~~~~~~~~~~~~~~~~~~~~~~~"
   ]
  },
  {
   "cell_type": "markdown",
   "metadata": {},
   "source": [
    "# A CFG with purely right-linear productions is equivalent to an NFA\n",
    "\n",
    "### Let us illustrate this by converting an NFA to a CFG that has a linear grammar. To make things more interesting, we pick a slight variant of a language seen before: ``IF there is a second-last position THEN that must be a 1``\n",
    "\n",
    "## For practice, I'll let you write a compact RE for it below; I'll just provide the NFA"
   ]
  },
  {
   "cell_type": "code",
   "execution_count": 2,
   "metadata": {},
   "outputs": [
    {
     "name": "stderr",
     "output_type": "stream",
     "text": [
      "Generating LALR tables\n"
     ]
    },
    {
     "data": {
      "image/svg+xml": [
       "<?xml version=\"1.0\" encoding=\"UTF-8\" standalone=\"no\"?>\r\n",
       "<!DOCTYPE svg PUBLIC \"-//W3C//DTD SVG 1.1//EN\"\r\n",
       " \"http://www.w3.org/Graphics/SVG/1.1/DTD/svg11.dtd\">\r\n",
       "<!-- Generated by graphviz version 2.44.1 (20200629.0846)\r\n",
       " -->\r\n",
       "<!-- Pages: 1 -->\r\n",
       "<svg width=\"434pt\" height=\"160pt\"\r\n",
       " viewBox=\"0.00 0.00 434.49 159.80\" xmlns=\"http://www.w3.org/2000/svg\" xmlns:xlink=\"http://www.w3.org/1999/xlink\">\r\n",
       "<g id=\"graph0\" class=\"graph\" transform=\"scale(1 1) rotate(0) translate(4 155.8)\">\r\n",
       "<polygon fill=\"white\" stroke=\"transparent\" points=\"-4,4 -4,-155.8 430.49,-155.8 430.49,4 -4,4\"/>\r\n",
       "<!-- EMPTY -->\r\n",
       "<g id=\"node1\" class=\"node\">\r\n",
       "<title>EMPTY</title>\r\n",
       "</g>\r\n",
       "<!-- IF -->\r\n",
       "<g id=\"node4\" class=\"node\">\r\n",
       "<title>IF</title>\r\n",
       "<ellipse fill=\"none\" stroke=\"black\" cx=\"113.85\" cy=\"-50.8\" rx=\"18.72\" ry=\"18.72\"/>\r\n",
       "<ellipse fill=\"none\" stroke=\"black\" cx=\"113.85\" cy=\"-50.8\" rx=\"22.7\" ry=\"22.7\"/>\r\n",
       "<text text-anchor=\"middle\" x=\"113.85\" y=\"-47.1\" font-family=\"Times New Roman,serif\" font-size=\"14.00\">IF</text>\r\n",
       "</g>\r\n",
       "<!-- EMPTY&#45;&gt;IF -->\r\n",
       "<g id=\"edge1\" class=\"edge\">\r\n",
       "<title>EMPTY&#45;&gt;IF</title>\r\n",
       "<path fill=\"none\" stroke=\"black\" d=\"M54.38,-50.8C62.68,-50.8 71.94,-50.8 80.6,-50.8\"/>\r\n",
       "<polygon fill=\"black\" stroke=\"black\" points=\"80.76,-54.3 90.76,-50.8 80.76,-47.3 80.76,-54.3\"/>\r\n",
       "</g>\r\n",
       "<!-- T -->\r\n",
       "<g id=\"node2\" class=\"node\">\r\n",
       "<title>T</title>\r\n",
       "<ellipse fill=\"none\" stroke=\"black\" cx=\"212.49\" cy=\"-85.8\" rx=\"18\" ry=\"18\"/>\r\n",
       "<text text-anchor=\"middle\" x=\"212.49\" y=\"-82.1\" font-family=\"Times New Roman,serif\" font-size=\"14.00\">T</text>\r\n",
       "</g>\r\n",
       "<!-- T&#45;&gt;T -->\r\n",
       "<g id=\"edge5\" class=\"edge\">\r\n",
       "<title>T&#45;&gt;T</title>\r\n",
       "<path fill=\"none\" stroke=\"black\" d=\"M204.13,-102.09C202.11,-112.19 204.9,-121.8 212.49,-121.8 217.36,-121.8 220.25,-117.85 221.17,-112.36\"/>\r\n",
       "<polygon fill=\"black\" stroke=\"black\" points=\"224.66,-111.98 220.86,-102.09 217.67,-112.19 224.66,-111.98\"/>\r\n",
       "<text text-anchor=\"middle\" x=\"212.49\" y=\"-140.6\" font-family=\"Times New Roman,serif\" font-size=\"14.00\">0 </text>\r\n",
       "<text text-anchor=\"middle\" x=\"212.49\" y=\"-125.6\" font-family=\"Times New Roman,serif\" font-size=\"14.00\"> 1 </text>\r\n",
       "</g>\r\n",
       "<!-- T1 -->\r\n",
       "<g id=\"node3\" class=\"node\">\r\n",
       "<title>T1</title>\r\n",
       "<ellipse fill=\"none\" stroke=\"black\" cx=\"305.09\" cy=\"-85.8\" rx=\"20.6\" ry=\"20.6\"/>\r\n",
       "<text text-anchor=\"middle\" x=\"305.09\" y=\"-82.1\" font-family=\"Times New Roman,serif\" font-size=\"14.00\">T1</text>\r\n",
       "</g>\r\n",
       "<!-- T&#45;&gt;T1 -->\r\n",
       "<g id=\"edge4\" class=\"edge\">\r\n",
       "<title>T&#45;&gt;T1</title>\r\n",
       "<path fill=\"none\" stroke=\"black\" d=\"M230.54,-85.8C242.83,-85.8 259.74,-85.8 274.25,-85.8\"/>\r\n",
       "<polygon fill=\"black\" stroke=\"black\" points=\"274.29,-89.3 284.29,-85.8 274.29,-82.3 274.29,-89.3\"/>\r\n",
       "<text text-anchor=\"middle\" x=\"260.79\" y=\"-89.6\" font-family=\"Times New Roman,serif\" font-size=\"14.00\">1 </text>\r\n",
       "</g>\r\n",
       "<!-- F2 -->\r\n",
       "<g id=\"node5\" class=\"node\">\r\n",
       "<title>F2</title>\r\n",
       "<ellipse fill=\"none\" stroke=\"black\" cx=\"401.69\" cy=\"-85.8\" rx=\"20.63\" ry=\"20.63\"/>\r\n",
       "<ellipse fill=\"none\" stroke=\"black\" cx=\"401.69\" cy=\"-85.8\" rx=\"24.6\" ry=\"24.6\"/>\r\n",
       "<text text-anchor=\"middle\" x=\"401.69\" y=\"-82.1\" font-family=\"Times New Roman,serif\" font-size=\"14.00\">F2</text>\r\n",
       "</g>\r\n",
       "<!-- T1&#45;&gt;F2 -->\r\n",
       "<g id=\"edge6\" class=\"edge\">\r\n",
       "<title>T1&#45;&gt;F2</title>\r\n",
       "<path fill=\"none\" stroke=\"black\" d=\"M326.15,-85.8C337.79,-85.8 352.77,-85.8 366.24,-85.8\"/>\r\n",
       "<polygon fill=\"black\" stroke=\"black\" points=\"366.63,-89.3 376.63,-85.8 366.63,-82.3 366.63,-89.3\"/>\r\n",
       "<text text-anchor=\"middle\" x=\"351.39\" y=\"-104.6\" font-family=\"Times New Roman,serif\" font-size=\"14.00\">1 </text>\r\n",
       "<text text-anchor=\"middle\" x=\"351.39\" y=\"-89.6\" font-family=\"Times New Roman,serif\" font-size=\"14.00\"> 0 </text>\r\n",
       "</g>\r\n",
       "<!-- IF&#45;&gt;T -->\r\n",
       "<g id=\"edge3\" class=\"edge\">\r\n",
       "<title>IF&#45;&gt;T</title>\r\n",
       "<path fill=\"none\" stroke=\"black\" d=\"M135.82,-58.39C150.48,-63.7 170.16,-70.83 185.77,-76.48\"/>\r\n",
       "<polygon fill=\"black\" stroke=\"black\" points=\"184.76,-79.84 195.35,-79.95 187.14,-73.26 184.76,-79.84\"/>\r\n",
       "<text text-anchor=\"middle\" x=\"162.2\" y=\"-74.6\" font-family=\"Times New Roman,serif\" font-size=\"14.00\">&#39;&#39; </text>\r\n",
       "</g>\r\n",
       "<!-- F1 -->\r\n",
       "<g id=\"node6\" class=\"node\">\r\n",
       "<title>F1</title>\r\n",
       "<ellipse fill=\"none\" stroke=\"black\" cx=\"212.49\" cy=\"-24.8\" rx=\"20.63\" ry=\"20.63\"/>\r\n",
       "<ellipse fill=\"none\" stroke=\"black\" cx=\"212.49\" cy=\"-24.8\" rx=\"24.6\" ry=\"24.6\"/>\r\n",
       "<text text-anchor=\"middle\" x=\"212.49\" y=\"-21.1\" font-family=\"Times New Roman,serif\" font-size=\"14.00\">F1</text>\r\n",
       "</g>\r\n",
       "<!-- IF&#45;&gt;F1 -->\r\n",
       "<g id=\"edge2\" class=\"edge\">\r\n",
       "<title>IF&#45;&gt;F1</title>\r\n",
       "<path fill=\"none\" stroke=\"black\" d=\"M133.65,-38.93C140.09,-35.4 147.5,-31.92 154.7,-29.8 161.94,-27.66 169.92,-26.36 177.54,-25.58\"/>\r\n",
       "<polygon fill=\"black\" stroke=\"black\" points=\"177.91,-29.06 187.62,-24.81 177.38,-22.08 177.91,-29.06\"/>\r\n",
       "<text text-anchor=\"middle\" x=\"162.2\" y=\"-48.6\" font-family=\"Times New Roman,serif\" font-size=\"14.00\">1 </text>\r\n",
       "<text text-anchor=\"middle\" x=\"162.2\" y=\"-33.6\" font-family=\"Times New Roman,serif\" font-size=\"14.00\"> 0 </text>\r\n",
       "</g>\r\n",
       "</g>\r\n",
       "</svg>\r\n"
      ],
      "text/plain": [
       "<graphviz.dot.Digraph at 0x5a3faf0>"
      ]
     },
     "execution_count": 2,
     "metadata": {},
     "output_type": "execute_result"
    }
   ],
   "source": [
    "nfa_if_sndlast_then_1 = md2mc('''\n",
    "NFA\n",
    "!! Read the name of the NFA as\n",
    "!! \"IF there is a second-last position THEN that must be a 1\"\n",
    " \n",
    "IF : 0|1    -> F1\n",
    "IF : ''     -> T\n",
    "T  : 1      -> T1\n",
    "T  : 0|1    -> T\n",
    "T1 : 0|1    -> F2\n",
    "''')\n",
    "\n",
    "dotObj_nfa(nfa_if_sndlast_then_1, FuseEdges=True)"
   ]
  },
  {
   "cell_type": "code",
   "execution_count": 3,
   "metadata": {},
   "outputs": [
    {
     "data": {
      "image/svg+xml": [
       "<?xml version=\"1.0\" encoding=\"UTF-8\" standalone=\"no\"?>\r\n",
       "<!DOCTYPE svg PUBLIC \"-//W3C//DTD SVG 1.1//EN\"\r\n",
       " \"http://www.w3.org/Graphics/SVG/1.1/DTD/svg11.dtd\">\r\n",
       "<!-- Generated by graphviz version 2.44.1 (20200629.0846)\r\n",
       " -->\r\n",
       "<!-- Pages: 1 -->\r\n",
       "<svg width=\"478pt\" height=\"243pt\"\r\n",
       " viewBox=\"0.00 0.00 477.88 242.90\" xmlns=\"http://www.w3.org/2000/svg\" xmlns:xlink=\"http://www.w3.org/1999/xlink\">\r\n",
       "<g id=\"graph0\" class=\"graph\" transform=\"scale(1 1) rotate(0) translate(4 238.9)\">\r\n",
       "<polygon fill=\"white\" stroke=\"transparent\" points=\"-4,4 -4,-238.9 473.88,-238.9 473.88,4 -4,4\"/>\r\n",
       "<!-- EMPTY -->\r\n",
       "<g id=\"node1\" class=\"node\">\r\n",
       "<title>EMPTY</title>\r\n",
       "</g>\r\n",
       "<!-- IF_T -->\r\n",
       "<g id=\"node4\" class=\"node\">\r\n",
       "<title>IF_T</title>\r\n",
       "<ellipse fill=\"none\" stroke=\"black\" cx=\"124.9\" cy=\"-168\" rx=\"29.81\" ry=\"29.81\"/>\r\n",
       "<ellipse fill=\"none\" stroke=\"black\" cx=\"124.9\" cy=\"-168\" rx=\"33.8\" ry=\"33.8\"/>\r\n",
       "<text text-anchor=\"middle\" x=\"124.9\" y=\"-164.3\" font-family=\"Times New Roman,serif\" font-size=\"14.00\">IF_T</text>\r\n",
       "</g>\r\n",
       "<!-- EMPTY&#45;&gt;IF_T -->\r\n",
       "<g id=\"edge1\" class=\"edge\">\r\n",
       "<title>EMPTY&#45;&gt;IF_T</title>\r\n",
       "<path fill=\"none\" stroke=\"black\" d=\"M54.2,-168C62.42,-168 71.73,-168 80.79,-168\"/>\r\n",
       "<polygon fill=\"black\" stroke=\"black\" points=\"80.86,-171.5 90.86,-168 80.86,-164.5 80.86,-171.5\"/>\r\n",
       "</g>\r\n",
       "<!-- T_T1 -->\r\n",
       "<g id=\"node2\" class=\"node\">\r\n",
       "<title>T_T1</title>\r\n",
       "<ellipse fill=\"none\" stroke=\"black\" cx=\"438.04\" cy=\"-130\" rx=\"31.7\" ry=\"31.7\"/>\r\n",
       "<text text-anchor=\"middle\" x=\"438.04\" y=\"-126.3\" font-family=\"Times New Roman,serif\" font-size=\"14.00\">T_T1</text>\r\n",
       "</g>\r\n",
       "<!-- T_T1&#45;&gt;IF_T -->\r\n",
       "<g id=\"edge9\" class=\"edge\">\r\n",
       "<title>T_T1&#45;&gt;IF_T</title>\r\n",
       "<path fill=\"none\" stroke=\"black\" d=\"M406.82,-136.86C400.66,-138.24 394.22,-139.68 388.19,-141 338.47,-151.93 326.76,-159.13 276.19,-165 240.25,-169.17 199.15,-169.7 169.03,-169.32\"/>\r\n",
       "<polygon fill=\"black\" stroke=\"black\" points=\"168.91,-165.81 158.86,-169.14 168.8,-172.81 168.91,-165.81\"/>\r\n",
       "<text text-anchor=\"middle\" x=\"299.69\" y=\"-165.8\" font-family=\"Times New Roman,serif\" font-size=\"14.00\">1 </text>\r\n",
       "</g>\r\n",
       "<!-- F2_T -->\r\n",
       "<g id=\"node5\" class=\"node\">\r\n",
       "<title>F2_T</title>\r\n",
       "<ellipse fill=\"none\" stroke=\"black\" cx=\"240.99\" cy=\"-121\" rx=\"31.37\" ry=\"31.37\"/>\r\n",
       "<ellipse fill=\"none\" stroke=\"black\" cx=\"240.99\" cy=\"-121\" rx=\"35.4\" ry=\"35.4\"/>\r\n",
       "<text text-anchor=\"middle\" x=\"240.99\" y=\"-117.3\" font-family=\"Times New Roman,serif\" font-size=\"14.00\">F2_T</text>\r\n",
       "</g>\r\n",
       "<!-- T_T1&#45;&gt;F2_T -->\r\n",
       "<g id=\"edge8\" class=\"edge\">\r\n",
       "<title>T_T1&#45;&gt;F2_T</title>\r\n",
       "<path fill=\"none\" stroke=\"black\" d=\"M408.35,-118.43C393.87,-113.2 375.88,-107.61 359.19,-105 334.56,-101.14 306.93,-104.54 284.69,-109.18\"/>\r\n",
       "<polygon fill=\"black\" stroke=\"black\" points=\"283.87,-105.78 274.88,-111.38 285.4,-112.61 283.87,-105.78\"/>\r\n",
       "<text text-anchor=\"middle\" x=\"341.19\" y=\"-108.8\" font-family=\"Times New Roman,serif\" font-size=\"14.00\">0 </text>\r\n",
       "</g>\r\n",
       "<!-- T -->\r\n",
       "<g id=\"node3\" class=\"node\">\r\n",
       "<title>T</title>\r\n",
       "<ellipse fill=\"none\" stroke=\"black\" cx=\"341.19\" cy=\"-18\" rx=\"18\" ry=\"18\"/>\r\n",
       "<text text-anchor=\"middle\" x=\"341.19\" y=\"-14.3\" font-family=\"Times New Roman,serif\" font-size=\"14.00\">T</text>\r\n",
       "</g>\r\n",
       "<!-- T&#45;&gt;T_T1 -->\r\n",
       "<g id=\"edge7\" class=\"edge\">\r\n",
       "<title>T&#45;&gt;T_T1</title>\r\n",
       "<path fill=\"none\" stroke=\"black\" d=\"M353.44,-31.29C367.34,-47.7 391.44,-76.16 410.2,-98.32\"/>\r\n",
       "<polygon fill=\"black\" stroke=\"black\" points=\"407.71,-100.79 416.85,-106.16 413.06,-96.27 407.71,-100.79\"/>\r\n",
       "<text text-anchor=\"middle\" x=\"382.69\" y=\"-74.8\" font-family=\"Times New Roman,serif\" font-size=\"14.00\">1 </text>\r\n",
       "</g>\r\n",
       "<!-- T&#45;&gt;T -->\r\n",
       "<g id=\"edge6\" class=\"edge\">\r\n",
       "<title>T&#45;&gt;T</title>\r\n",
       "<path fill=\"none\" stroke=\"black\" d=\"M334.16,-34.66C332.6,-44.63 334.94,-54 341.19,-54 345.19,-54 347.59,-50.15 348.39,-44.77\"/>\r\n",
       "<polygon fill=\"black\" stroke=\"black\" points=\"351.89,-44.6 348.22,-34.66 344.89,-44.72 351.89,-44.6\"/>\r\n",
       "<text text-anchor=\"middle\" x=\"341.19\" y=\"-57.8\" font-family=\"Times New Roman,serif\" font-size=\"14.00\">0 </text>\r\n",
       "</g>\r\n",
       "<!-- IF_T&#45;&gt;IF_T -->\r\n",
       "<g id=\"edge3\" class=\"edge\">\r\n",
       "<title>IF_T&#45;&gt;IF_T</title>\r\n",
       "<path fill=\"none\" stroke=\"black\" d=\"M115.15,-200.69C115.2,-211.38 118.45,-219.9 124.9,-219.9 129.13,-219.9 131.98,-216.23 133.46,-210.69\"/>\r\n",
       "<polygon fill=\"black\" stroke=\"black\" points=\"136.94,-211.03 134.65,-200.69 129.99,-210.21 136.94,-211.03\"/>\r\n",
       "<text text-anchor=\"middle\" x=\"124.9\" y=\"-223.7\" font-family=\"Times New Roman,serif\" font-size=\"14.00\">1 </text>\r\n",
       "</g>\r\n",
       "<!-- IF_T&#45;&gt;F2_T -->\r\n",
       "<g id=\"edge2\" class=\"edge\">\r\n",
       "<title>IF_T&#45;&gt;F2_T</title>\r\n",
       "<path fill=\"none\" stroke=\"black\" d=\"M156.47,-155.4C169.45,-150.06 184.78,-143.74 198.74,-137.99\"/>\r\n",
       "<polygon fill=\"black\" stroke=\"black\" points=\"200.22,-141.17 208.14,-134.12 197.56,-134.7 200.22,-141.17\"/>\r\n",
       "<text text-anchor=\"middle\" x=\"182.29\" y=\"-148.8\" font-family=\"Times New Roman,serif\" font-size=\"14.00\">0 </text>\r\n",
       "</g>\r\n",
       "<!-- F2_T&#45;&gt;T_T1 -->\r\n",
       "<g id=\"edge5\" class=\"edge\">\r\n",
       "<title>F2_T&#45;&gt;T_T1</title>\r\n",
       "<path fill=\"none\" stroke=\"black\" d=\"M276.41,-122.59C309.86,-124.13 360.65,-126.48 396.14,-128.11\"/>\r\n",
       "<polygon fill=\"black\" stroke=\"black\" points=\"396.02,-131.61 406.17,-128.58 396.34,-124.62 396.02,-131.61\"/>\r\n",
       "<text text-anchor=\"middle\" x=\"341.19\" y=\"-129.8\" font-family=\"Times New Roman,serif\" font-size=\"14.00\">1 </text>\r\n",
       "</g>\r\n",
       "<!-- F2_T&#45;&gt;T -->\r\n",
       "<g id=\"edge4\" class=\"edge\">\r\n",
       "<title>F2_T&#45;&gt;T</title>\r\n",
       "<path fill=\"none\" stroke=\"black\" d=\"M266.01,-95.8C282.9,-78.09 305.19,-54.71 320.91,-38.22\"/>\r\n",
       "<polygon fill=\"black\" stroke=\"black\" points=\"323.68,-40.39 328.05,-30.73 318.62,-35.56 323.68,-40.39\"/>\r\n",
       "<text text-anchor=\"middle\" x=\"299.69\" y=\"-67.8\" font-family=\"Times New Roman,serif\" font-size=\"14.00\">0 </text>\r\n",
       "</g>\r\n",
       "</g>\r\n",
       "</svg>\r\n"
      ],
      "text/plain": [
       "<graphviz.dot.Digraph at 0x5f9ec58>"
      ]
     },
     "execution_count": 3,
     "metadata": {},
     "output_type": "execute_result"
    }
   ],
   "source": [
    "dfa_if_sndlast_then_1 = min_dfa(nfa2dfa(nfa_if_sndlast_then_1))\n",
    "dotObj_dfa(dfa_if_sndlast_then_1, FuseEdges=True)"
   ]
  },
  {
   "cell_type": "markdown",
   "metadata": {},
   "source": [
    " # Write an RE and make sure that agrees!\n",
    " \n",
    " # **GIVEN TO YOU FOR EXTRA PRACTICE WRITING RE**\n",
    " \n",
    " ## Will be a quiz question"
   ]
  },
  {
   "cell_type": "code",
   "execution_count": 4,
   "metadata": {},
   "outputs": [
    {
     "name": "stderr",
     "output_type": "stream",
     "text": [
      "Generating LALR tables\n"
     ]
    },
    {
     "data": {
      "image/svg+xml": [
       "<?xml version=\"1.0\" encoding=\"UTF-8\" standalone=\"no\"?>\r\n",
       "<!DOCTYPE svg PUBLIC \"-//W3C//DTD SVG 1.1//EN\"\r\n",
       " \"http://www.w3.org/Graphics/SVG/1.1/DTD/svg11.dtd\">\r\n",
       "<!-- Generated by graphviz version 2.44.1 (20200629.0846)\r\n",
       " -->\r\n",
       "<!-- Pages: 1 -->\r\n",
       "<svg width=\"438pt\" height=\"249pt\"\r\n",
       " viewBox=\"0.00 0.00 437.98 249.50\" xmlns=\"http://www.w3.org/2000/svg\" xmlns:xlink=\"http://www.w3.org/1999/xlink\">\r\n",
       "<g id=\"graph0\" class=\"graph\" transform=\"scale(1 1) rotate(0) translate(4 245.5)\">\r\n",
       "<polygon fill=\"white\" stroke=\"transparent\" points=\"-4,4 -4,-245.5 433.98,-245.5 433.98,4 -4,4\"/>\r\n",
       "<!-- EMPTY -->\r\n",
       "<g id=\"node1\" class=\"node\">\r\n",
       "<title>EMPTY</title>\r\n",
       "</g>\r\n",
       "<!-- St1 -->\r\n",
       "<g id=\"node4\" class=\"node\">\r\n",
       "<title>St1</title>\r\n",
       "<ellipse fill=\"none\" stroke=\"black\" cx=\"117.75\" cy=\"-181.75\" rx=\"22.96\" ry=\"22.96\"/>\r\n",
       "<ellipse fill=\"none\" stroke=\"black\" cx=\"117.75\" cy=\"-181.75\" rx=\"27\" ry=\"27\"/>\r\n",
       "<text text-anchor=\"middle\" x=\"117.75\" y=\"-178.05\" font-family=\"Times New Roman,serif\" font-size=\"14.00\">St1</text>\r\n",
       "</g>\r\n",
       "<!-- EMPTY&#45;&gt;St1 -->\r\n",
       "<g id=\"edge1\" class=\"edge\">\r\n",
       "<title>EMPTY&#45;&gt;St1</title>\r\n",
       "<path fill=\"none\" stroke=\"black\" d=\"M54.15,-181.75C62.45,-181.75 71.79,-181.75 80.67,-181.75\"/>\r\n",
       "<polygon fill=\"black\" stroke=\"black\" points=\"80.79,-185.25 90.79,-181.75 80.79,-178.25 80.79,-185.25\"/>\r\n",
       "</g>\r\n",
       "<!-- St6 -->\r\n",
       "<g id=\"node2\" class=\"node\">\r\n",
       "<title>St6</title>\r\n",
       "<ellipse fill=\"none\" stroke=\"black\" cx=\"314.74\" cy=\"-22.75\" rx=\"23\" ry=\"23\"/>\r\n",
       "<text text-anchor=\"middle\" x=\"314.74\" y=\"-19.05\" font-family=\"Times New Roman,serif\" font-size=\"14.00\">St6</text>\r\n",
       "</g>\r\n",
       "<!-- St6&#45;&gt;St6 -->\r\n",
       "<g id=\"edge9\" class=\"edge\">\r\n",
       "<title>St6&#45;&gt;St6</title>\r\n",
       "<path fill=\"none\" stroke=\"black\" d=\"M306.33,-44.13C305.29,-54.42 308.09,-63.5 314.74,-63.5 319,-63.5 321.68,-59.77 322.79,-54.39\"/>\r\n",
       "<polygon fill=\"black\" stroke=\"black\" points=\"326.29,-54.25 323.15,-44.13 319.3,-54 326.29,-54.25\"/>\r\n",
       "<text text-anchor=\"middle\" x=\"314.74\" y=\"-67.3\" font-family=\"Times New Roman,serif\" font-size=\"14.00\">0 </text>\r\n",
       "</g>\r\n",
       "<!-- St3 -->\r\n",
       "<g id=\"node3\" class=\"node\">\r\n",
       "<title>St3</title>\r\n",
       "<ellipse fill=\"none\" stroke=\"black\" cx=\"407.24\" cy=\"-139.75\" rx=\"23\" ry=\"23\"/>\r\n",
       "<text text-anchor=\"middle\" x=\"407.24\" y=\"-136.05\" font-family=\"Times New Roman,serif\" font-size=\"14.00\">St3</text>\r\n",
       "</g>\r\n",
       "<!-- St6&#45;&gt;St3 -->\r\n",
       "<g id=\"edge8\" class=\"edge\">\r\n",
       "<title>St6&#45;&gt;St3</title>\r\n",
       "<path fill=\"none\" stroke=\"black\" d=\"M329.95,-39.97C340.24,-52.54 354.4,-70.06 366.49,-85.75 373.38,-94.69 380.75,-104.61 387.26,-113.48\"/>\r\n",
       "<polygon fill=\"black\" stroke=\"black\" points=\"384.46,-115.59 393.18,-121.6 390.11,-111.46 384.46,-115.59\"/>\r\n",
       "<text text-anchor=\"middle\" x=\"360.99\" y=\"-89.55\" font-family=\"Times New Roman,serif\" font-size=\"14.00\">1 </text>\r\n",
       "</g>\r\n",
       "<!-- St3&#45;&gt;St1 -->\r\n",
       "<g id=\"edge6\" class=\"edge\">\r\n",
       "<title>St3&#45;&gt;St1</title>\r\n",
       "<path fill=\"none\" stroke=\"black\" d=\"M385.36,-147.21C379.32,-149.19 372.69,-151.21 366.49,-152.75 353.79,-155.9 350.41,-155.73 337.49,-157.75 264.89,-169.11 246.72,-172.65 173.5,-178.75 167.48,-179.25 161.08,-179.69 154.87,-180.06\"/>\r\n",
       "<polygon fill=\"black\" stroke=\"black\" points=\"154.46,-176.58 144.67,-180.63 154.85,-183.57 154.46,-176.58\"/>\r\n",
       "<text text-anchor=\"middle\" x=\"268.49\" y=\"-172.55\" font-family=\"Times New Roman,serif\" font-size=\"14.00\">1 </text>\r\n",
       "</g>\r\n",
       "<!-- St5 -->\r\n",
       "<g id=\"node5\" class=\"node\">\r\n",
       "<title>St5</title>\r\n",
       "<ellipse fill=\"none\" stroke=\"black\" cx=\"218.24\" cy=\"-134.75\" rx=\"22.96\" ry=\"22.96\"/>\r\n",
       "<ellipse fill=\"none\" stroke=\"black\" cx=\"218.24\" cy=\"-134.75\" rx=\"27\" ry=\"27\"/>\r\n",
       "<text text-anchor=\"middle\" x=\"218.24\" y=\"-131.05\" font-family=\"Times New Roman,serif\" font-size=\"14.00\">St5</text>\r\n",
       "</g>\r\n",
       "<!-- St3&#45;&gt;St5 -->\r\n",
       "<g id=\"edge7\" class=\"edge\">\r\n",
       "<title>St3&#45;&gt;St5</title>\r\n",
       "<path fill=\"none\" stroke=\"black\" d=\"M385.85,-131.78C372.36,-126.94 354.15,-121.24 337.49,-118.75 309.47,-114.56 277.64,-119.42 254.07,-124.84\"/>\r\n",
       "<polygon fill=\"black\" stroke=\"black\" points=\"253.07,-121.49 244.19,-127.27 254.73,-128.29 253.07,-121.49\"/>\r\n",
       "<text text-anchor=\"middle\" x=\"314.74\" y=\"-122.55\" font-family=\"Times New Roman,serif\" font-size=\"14.00\">0 </text>\r\n",
       "</g>\r\n",
       "<!-- St1&#45;&gt;St1 -->\r\n",
       "<g id=\"edge2\" class=\"edge\">\r\n",
       "<title>St1&#45;&gt;St1</title>\r\n",
       "<path fill=\"none\" stroke=\"black\" d=\"M109.55,-207.5C109.09,-217.83 111.82,-226.5 117.75,-226.5 121.55,-226.5 124.03,-222.94 125.21,-217.67\"/>\r\n",
       "<polygon fill=\"black\" stroke=\"black\" points=\"128.71,-217.73 125.95,-207.5 121.73,-217.22 128.71,-217.73\"/>\r\n",
       "<text text-anchor=\"middle\" x=\"117.75\" y=\"-230.3\" font-family=\"Times New Roman,serif\" font-size=\"14.00\">1 </text>\r\n",
       "</g>\r\n",
       "<!-- St1&#45;&gt;St5 -->\r\n",
       "<g id=\"edge3\" class=\"edge\">\r\n",
       "<title>St1&#45;&gt;St5</title>\r\n",
       "<path fill=\"none\" stroke=\"black\" d=\"M142.09,-170.61C154.75,-164.57 170.61,-157 184.5,-150.37\"/>\r\n",
       "<polygon fill=\"black\" stroke=\"black\" points=\"186.21,-153.43 193.73,-145.97 183.2,-147.12 186.21,-153.43\"/>\r\n",
       "<text text-anchor=\"middle\" x=\"168\" y=\"-163.55\" font-family=\"Times New Roman,serif\" font-size=\"14.00\">0 </text>\r\n",
       "</g>\r\n",
       "<!-- St5&#45;&gt;St6 -->\r\n",
       "<g id=\"edge5\" class=\"edge\">\r\n",
       "<title>St5&#45;&gt;St6</title>\r\n",
       "<path fill=\"none\" stroke=\"black\" d=\"M236.14,-114.72C252,-95.92 275.78,-67.74 292.83,-47.53\"/>\r\n",
       "<polygon fill=\"black\" stroke=\"black\" points=\"295.69,-49.57 299.46,-39.67 290.34,-45.06 295.69,-49.57\"/>\r\n",
       "<text text-anchor=\"middle\" x=\"268.49\" y=\"-86.55\" font-family=\"Times New Roman,serif\" font-size=\"14.00\">0 </text>\r\n",
       "</g>\r\n",
       "<!-- St5&#45;&gt;St3 -->\r\n",
       "<g id=\"edge4\" class=\"edge\">\r\n",
       "<title>St5&#45;&gt;St3</title>\r\n",
       "<path fill=\"none\" stroke=\"black\" d=\"M245.24,-135.44C278.95,-136.34 337.71,-137.92 374.15,-138.89\"/>\r\n",
       "<polygon fill=\"black\" stroke=\"black\" points=\"374.15,-142.39 384.24,-139.16 374.34,-135.39 374.15,-142.39\"/>\r\n",
       "<text text-anchor=\"middle\" x=\"314.74\" y=\"-142.55\" font-family=\"Times New Roman,serif\" font-size=\"14.00\">1 </text>\r\n",
       "</g>\r\n",
       "</g>\r\n",
       "</svg>\r\n"
      ],
      "text/plain": [
       "<graphviz.dot.Digraph at 0x5a3fee0>"
      ]
     },
     "execution_count": 4,
     "metadata": {},
     "output_type": "execute_result"
    }
   ],
   "source": [
    "# Let's be absolutely sure we got the right DFA\n",
    "\n",
    "RE_for_this_nfa = \"''+0+1+(0+1)*1(0+1)\"   # <<====== WRITE THIS RE !!!!\n",
    "\n",
    "dfaRE_if_sndlast_then_1 = min_dfa(nfa2dfa(re2nfa(RE_for_this_nfa)))\n",
    "dotObj_dfa(dfaRE_if_sndlast_then_1, FuseEdges=True)"
   ]
  },
  {
   "cell_type": "code",
   "execution_count": 5,
   "metadata": {},
   "outputs": [
    {
     "data": {
      "text/plain": [
       "True"
      ]
     },
     "execution_count": 5,
     "metadata": {},
     "output_type": "execute_result"
    }
   ],
   "source": [
    "iso_dfa(dfa_if_sndlast_then_1, dfaRE_if_sndlast_then_1)"
   ]
  },
  {
   "cell_type": "code",
   "execution_count": 33,
   "metadata": {},
   "outputs": [
    {
     "name": "stderr",
     "output_type": "stream",
     "text": [
      "Generating LALR tables\n"
     ]
    },
    {
     "data": {
      "text/plain": [
       "True"
      ]
     },
     "execution_count": 33,
     "metadata": {},
     "output_type": "execute_result"
    }
   ],
   "source": [
    "RE_for_rev_of_this_nfa = \"''+0+1+(0+1)1(0+1)*\"\n",
    "\n",
    "dfaRE_if_sndlast_then_1_rev = min_dfa(nfa2dfa(re2nfa(RE_for_rev_of_this_nfa)))\n",
    "iso_dfa(dfaRE_if_sndlast_then_1_rev, nfa2dfa(rev_dfa(nfa2dfa(nfa_if_sndlast_then_1))))"
   ]
  },
  {
   "cell_type": "markdown",
   "metadata": {},
   "source": [
    "## Repeat the NFA to be \"closer\" to the CFG/PDA"
   ]
  },
  {
   "cell_type": "code",
   "execution_count": 6,
   "metadata": {},
   "outputs": [
    {
     "data": {
      "image/svg+xml": [
       "<?xml version=\"1.0\" encoding=\"UTF-8\" standalone=\"no\"?>\r\n",
       "<!DOCTYPE svg PUBLIC \"-//W3C//DTD SVG 1.1//EN\"\r\n",
       " \"http://www.w3.org/Graphics/SVG/1.1/DTD/svg11.dtd\">\r\n",
       "<!-- Generated by graphviz version 2.44.1 (20200629.0846)\r\n",
       " -->\r\n",
       "<!-- Pages: 1 -->\r\n",
       "<svg width=\"434pt\" height=\"160pt\"\r\n",
       " viewBox=\"0.00 0.00 434.49 159.80\" xmlns=\"http://www.w3.org/2000/svg\" xmlns:xlink=\"http://www.w3.org/1999/xlink\">\r\n",
       "<g id=\"graph0\" class=\"graph\" transform=\"scale(1 1) rotate(0) translate(4 155.8)\">\r\n",
       "<polygon fill=\"white\" stroke=\"transparent\" points=\"-4,4 -4,-155.8 430.49,-155.8 430.49,4 -4,4\"/>\r\n",
       "<!-- EMPTY -->\r\n",
       "<g id=\"node1\" class=\"node\">\r\n",
       "<title>EMPTY</title>\r\n",
       "</g>\r\n",
       "<!-- IF -->\r\n",
       "<g id=\"node4\" class=\"node\">\r\n",
       "<title>IF</title>\r\n",
       "<ellipse fill=\"none\" stroke=\"black\" cx=\"113.85\" cy=\"-50.8\" rx=\"18.72\" ry=\"18.72\"/>\r\n",
       "<ellipse fill=\"none\" stroke=\"black\" cx=\"113.85\" cy=\"-50.8\" rx=\"22.7\" ry=\"22.7\"/>\r\n",
       "<text text-anchor=\"middle\" x=\"113.85\" y=\"-47.1\" font-family=\"Times New Roman,serif\" font-size=\"14.00\">IF</text>\r\n",
       "</g>\r\n",
       "<!-- EMPTY&#45;&gt;IF -->\r\n",
       "<g id=\"edge1\" class=\"edge\">\r\n",
       "<title>EMPTY&#45;&gt;IF</title>\r\n",
       "<path fill=\"none\" stroke=\"black\" d=\"M54.38,-50.8C62.68,-50.8 71.94,-50.8 80.6,-50.8\"/>\r\n",
       "<polygon fill=\"black\" stroke=\"black\" points=\"80.76,-54.3 90.76,-50.8 80.76,-47.3 80.76,-54.3\"/>\r\n",
       "</g>\r\n",
       "<!-- T -->\r\n",
       "<g id=\"node2\" class=\"node\">\r\n",
       "<title>T</title>\r\n",
       "<ellipse fill=\"none\" stroke=\"black\" cx=\"212.49\" cy=\"-85.8\" rx=\"18\" ry=\"18\"/>\r\n",
       "<text text-anchor=\"middle\" x=\"212.49\" y=\"-82.1\" font-family=\"Times New Roman,serif\" font-size=\"14.00\">T</text>\r\n",
       "</g>\r\n",
       "<!-- T&#45;&gt;T -->\r\n",
       "<g id=\"edge5\" class=\"edge\">\r\n",
       "<title>T&#45;&gt;T</title>\r\n",
       "<path fill=\"none\" stroke=\"black\" d=\"M204.13,-102.09C202.11,-112.19 204.9,-121.8 212.49,-121.8 217.36,-121.8 220.25,-117.85 221.17,-112.36\"/>\r\n",
       "<polygon fill=\"black\" stroke=\"black\" points=\"224.66,-111.98 220.86,-102.09 217.67,-112.19 224.66,-111.98\"/>\r\n",
       "<text text-anchor=\"middle\" x=\"212.49\" y=\"-140.6\" font-family=\"Times New Roman,serif\" font-size=\"14.00\">0 </text>\r\n",
       "<text text-anchor=\"middle\" x=\"212.49\" y=\"-125.6\" font-family=\"Times New Roman,serif\" font-size=\"14.00\"> 1 </text>\r\n",
       "</g>\r\n",
       "<!-- T1 -->\r\n",
       "<g id=\"node3\" class=\"node\">\r\n",
       "<title>T1</title>\r\n",
       "<ellipse fill=\"none\" stroke=\"black\" cx=\"305.09\" cy=\"-85.8\" rx=\"20.6\" ry=\"20.6\"/>\r\n",
       "<text text-anchor=\"middle\" x=\"305.09\" y=\"-82.1\" font-family=\"Times New Roman,serif\" font-size=\"14.00\">T1</text>\r\n",
       "</g>\r\n",
       "<!-- T&#45;&gt;T1 -->\r\n",
       "<g id=\"edge4\" class=\"edge\">\r\n",
       "<title>T&#45;&gt;T1</title>\r\n",
       "<path fill=\"none\" stroke=\"black\" d=\"M230.54,-85.8C242.83,-85.8 259.74,-85.8 274.25,-85.8\"/>\r\n",
       "<polygon fill=\"black\" stroke=\"black\" points=\"274.29,-89.3 284.29,-85.8 274.29,-82.3 274.29,-89.3\"/>\r\n",
       "<text text-anchor=\"middle\" x=\"260.79\" y=\"-89.6\" font-family=\"Times New Roman,serif\" font-size=\"14.00\">1 </text>\r\n",
       "</g>\r\n",
       "<!-- F2 -->\r\n",
       "<g id=\"node5\" class=\"node\">\r\n",
       "<title>F2</title>\r\n",
       "<ellipse fill=\"none\" stroke=\"black\" cx=\"401.69\" cy=\"-85.8\" rx=\"20.63\" ry=\"20.63\"/>\r\n",
       "<ellipse fill=\"none\" stroke=\"black\" cx=\"401.69\" cy=\"-85.8\" rx=\"24.6\" ry=\"24.6\"/>\r\n",
       "<text text-anchor=\"middle\" x=\"401.69\" y=\"-82.1\" font-family=\"Times New Roman,serif\" font-size=\"14.00\">F2</text>\r\n",
       "</g>\r\n",
       "<!-- T1&#45;&gt;F2 -->\r\n",
       "<g id=\"edge6\" class=\"edge\">\r\n",
       "<title>T1&#45;&gt;F2</title>\r\n",
       "<path fill=\"none\" stroke=\"black\" d=\"M326.15,-85.8C337.79,-85.8 352.77,-85.8 366.24,-85.8\"/>\r\n",
       "<polygon fill=\"black\" stroke=\"black\" points=\"366.63,-89.3 376.63,-85.8 366.63,-82.3 366.63,-89.3\"/>\r\n",
       "<text text-anchor=\"middle\" x=\"351.39\" y=\"-104.6\" font-family=\"Times New Roman,serif\" font-size=\"14.00\">1 </text>\r\n",
       "<text text-anchor=\"middle\" x=\"351.39\" y=\"-89.6\" font-family=\"Times New Roman,serif\" font-size=\"14.00\"> 0 </text>\r\n",
       "</g>\r\n",
       "<!-- IF&#45;&gt;T -->\r\n",
       "<g id=\"edge3\" class=\"edge\">\r\n",
       "<title>IF&#45;&gt;T</title>\r\n",
       "<path fill=\"none\" stroke=\"black\" d=\"M135.82,-58.39C150.48,-63.7 170.16,-70.83 185.77,-76.48\"/>\r\n",
       "<polygon fill=\"black\" stroke=\"black\" points=\"184.76,-79.84 195.35,-79.95 187.14,-73.26 184.76,-79.84\"/>\r\n",
       "<text text-anchor=\"middle\" x=\"162.2\" y=\"-74.6\" font-family=\"Times New Roman,serif\" font-size=\"14.00\">&#39;&#39; </text>\r\n",
       "</g>\r\n",
       "<!-- F1 -->\r\n",
       "<g id=\"node6\" class=\"node\">\r\n",
       "<title>F1</title>\r\n",
       "<ellipse fill=\"none\" stroke=\"black\" cx=\"212.49\" cy=\"-24.8\" rx=\"20.63\" ry=\"20.63\"/>\r\n",
       "<ellipse fill=\"none\" stroke=\"black\" cx=\"212.49\" cy=\"-24.8\" rx=\"24.6\" ry=\"24.6\"/>\r\n",
       "<text text-anchor=\"middle\" x=\"212.49\" y=\"-21.1\" font-family=\"Times New Roman,serif\" font-size=\"14.00\">F1</text>\r\n",
       "</g>\r\n",
       "<!-- IF&#45;&gt;F1 -->\r\n",
       "<g id=\"edge2\" class=\"edge\">\r\n",
       "<title>IF&#45;&gt;F1</title>\r\n",
       "<path fill=\"none\" stroke=\"black\" d=\"M133.65,-38.93C140.09,-35.4 147.5,-31.92 154.7,-29.8 161.94,-27.66 169.92,-26.36 177.54,-25.58\"/>\r\n",
       "<polygon fill=\"black\" stroke=\"black\" points=\"177.91,-29.06 187.62,-24.81 177.38,-22.08 177.91,-29.06\"/>\r\n",
       "<text text-anchor=\"middle\" x=\"162.2\" y=\"-48.6\" font-family=\"Times New Roman,serif\" font-size=\"14.00\">1 </text>\r\n",
       "<text text-anchor=\"middle\" x=\"162.2\" y=\"-33.6\" font-family=\"Times New Roman,serif\" font-size=\"14.00\"> 0 </text>\r\n",
       "</g>\r\n",
       "</g>\r\n",
       "</svg>\r\n"
      ],
      "text/plain": [
       "<graphviz.dot.Digraph at 0x5f9ed30>"
      ]
     },
     "execution_count": 6,
     "metadata": {},
     "output_type": "execute_result"
    }
   ],
   "source": [
    "nfa_if_sndlast_then_1 = md2mc('''\n",
    "NFA\n",
    "!! Read the name of the NFA as\n",
    "!! \"IF there is a second-last position THEN that must be a 1\"\n",
    "\n",
    "IF : 0|1    -> F1\n",
    "IF : ''     -> T\n",
    "T  : 1      -> T1\n",
    "T  : 0|1    -> T\n",
    "T1 : 0|1    -> F2\n",
    "''')\n",
    " \n",
    "dotObj_nfa(nfa_if_sndlast_then_1, FuseEdges=True)"
   ]
  },
  {
   "cell_type": "markdown",
   "metadata": {},
   "source": [
    "# Let's obtain a CFG directly from nfa_if_sndlast_then_1 and render as a PDA"
   ]
  },
  {
   "cell_type": "code",
   "execution_count": 7,
   "metadata": {},
   "outputs": [
    {
     "data": {
      "image/svg+xml": [
       "<?xml version=\"1.0\" encoding=\"UTF-8\" standalone=\"no\"?>\r\n",
       "<!DOCTYPE svg PUBLIC \"-//W3C//DTD SVG 1.1//EN\"\r\n",
       " \"http://www.w3.org/Graphics/SVG/1.1/DTD/svg11.dtd\">\r\n",
       "<!-- Generated by graphviz version 2.44.1 (20200629.0846)\r\n",
       " -->\r\n",
       "<!-- Pages: 1 -->\r\n",
       "<svg width=\"535pt\" height=\"262pt\"\r\n",
       " viewBox=\"0.00 0.00 535.00 262.50\" xmlns=\"http://www.w3.org/2000/svg\" xmlns:xlink=\"http://www.w3.org/1999/xlink\">\r\n",
       "<g id=\"graph0\" class=\"graph\" transform=\"scale(1 1) rotate(0) translate(4 258.5)\">\r\n",
       "<polygon fill=\"white\" stroke=\"transparent\" points=\"-4,4 -4,-258.5 531,-258.5 531,4 -4,4\"/>\r\n",
       "<!-- EMPTY -->\r\n",
       "<g id=\"node1\" class=\"node\">\r\n",
       "<title>EMPTY</title>\r\n",
       "</g>\r\n",
       "<!-- I -->\r\n",
       "<g id=\"node2\" class=\"node\">\r\n",
       "<title>I</title>\r\n",
       "<ellipse fill=\"none\" stroke=\"black\" cx=\"109\" cy=\"-22\" rx=\"18\" ry=\"18\"/>\r\n",
       "<text text-anchor=\"middle\" x=\"109\" y=\"-18.3\" font-family=\"Times New Roman,serif\" font-size=\"14.00\">I</text>\r\n",
       "</g>\r\n",
       "<!-- EMPTY&#45;&gt;I -->\r\n",
       "<g id=\"edge1\" class=\"edge\">\r\n",
       "<title>EMPTY&#45;&gt;I</title>\r\n",
       "<path fill=\"none\" stroke=\"black\" d=\"M54.19,-22C62.65,-22 72.05,-22 80.6,-22\"/>\r\n",
       "<polygon fill=\"black\" stroke=\"black\" points=\"80.83,-25.5 90.83,-22 80.83,-18.5 80.83,-25.5\"/>\r\n",
       "</g>\r\n",
       "<!-- W -->\r\n",
       "<g id=\"node3\" class=\"node\">\r\n",
       "<title>W</title>\r\n",
       "<ellipse fill=\"none\" stroke=\"black\" cx=\"309.5\" cy=\"-22\" rx=\"19.5\" ry=\"19.5\"/>\r\n",
       "<text text-anchor=\"middle\" x=\"309.5\" y=\"-18.3\" font-family=\"Times New Roman,serif\" font-size=\"14.00\">W</text>\r\n",
       "</g>\r\n",
       "<!-- I&#45;&gt;W -->\r\n",
       "<g id=\"edge2\" class=\"edge\">\r\n",
       "<title>I&#45;&gt;W</title>\r\n",
       "<path fill=\"none\" stroke=\"black\" d=\"M127.27,-22C161.46,-22 238.06,-22 279.9,-22\"/>\r\n",
       "<polygon fill=\"black\" stroke=\"black\" points=\"279.98,-25.5 289.98,-22 279.98,-18.5 279.98,-25.5\"/>\r\n",
       "<text text-anchor=\"middle\" x=\"169.5\" y=\"-25.8\" font-family=\"Times New Roman,serif\" font-size=\"14.00\">&#39;&#39;, # ; S#</text>\r\n",
       "</g>\r\n",
       "<!-- W&#45;&gt;W -->\r\n",
       "<g id=\"edge4\" class=\"edge\">\r\n",
       "<title>W&#45;&gt;W</title>\r\n",
       "<path fill=\"none\" stroke=\"black\" d=\"M292.32,-31.6C277.6,-44.24 283.33,-59.5 309.5,-59.5 330.36,-59.5 338.23,-49.81 333.12,-39.48\"/>\r\n",
       "<polygon fill=\"black\" stroke=\"black\" points=\"335.72,-37.13 326.68,-31.6 330.3,-41.56 335.72,-37.13\"/>\r\n",
       "<text text-anchor=\"middle\" x=\"309.5\" y=\"-243.3\" font-family=\"Times New Roman,serif\" font-size=\"14.00\">&#39;&#39;, T ; 1U </text>\r\n",
       "<text text-anchor=\"middle\" x=\"309.5\" y=\"-228.3\" font-family=\"Times New Roman,serif\" font-size=\"14.00\"> 0, 0 ; &#39;&#39; </text>\r\n",
       "<text text-anchor=\"middle\" x=\"309.5\" y=\"-213.3\" font-family=\"Times New Roman,serif\" font-size=\"14.00\"> 1, 1 ; &#39;&#39; </text>\r\n",
       "<text text-anchor=\"middle\" x=\"309.5\" y=\"-198.3\" font-family=\"Times New Roman,serif\" font-size=\"14.00\"> &#39;&#39;, U ; 0G </text>\r\n",
       "<text text-anchor=\"middle\" x=\"309.5\" y=\"-183.3\" font-family=\"Times New Roman,serif\" font-size=\"14.00\"> &#39;&#39;, S ; &#39;&#39; </text>\r\n",
       "<text text-anchor=\"middle\" x=\"309.5\" y=\"-168.3\" font-family=\"Times New Roman,serif\" font-size=\"14.00\"> &#39;&#39;, S ; 0F </text>\r\n",
       "<text text-anchor=\"middle\" x=\"309.5\" y=\"-153.3\" font-family=\"Times New Roman,serif\" font-size=\"14.00\"> &#39;&#39;, F ; &#39;&#39; </text>\r\n",
       "<text text-anchor=\"middle\" x=\"309.5\" y=\"-138.3\" font-family=\"Times New Roman,serif\" font-size=\"14.00\"> &#39;&#39;, G ; &#39;&#39; </text>\r\n",
       "<text text-anchor=\"middle\" x=\"309.5\" y=\"-123.3\" font-family=\"Times New Roman,serif\" font-size=\"14.00\"> &#39;&#39;, S ; T </text>\r\n",
       "<text text-anchor=\"middle\" x=\"309.5\" y=\"-108.3\" font-family=\"Times New Roman,serif\" font-size=\"14.00\"> &#39;&#39;, U ; 1G </text>\r\n",
       "<text text-anchor=\"middle\" x=\"309.5\" y=\"-93.3\" font-family=\"Times New Roman,serif\" font-size=\"14.00\"> &#39;&#39;, T ; 1T </text>\r\n",
       "<text text-anchor=\"middle\" x=\"309.5\" y=\"-78.3\" font-family=\"Times New Roman,serif\" font-size=\"14.00\"> &#39;&#39;, T ; 0T </text>\r\n",
       "<text text-anchor=\"middle\" x=\"309.5\" y=\"-63.3\" font-family=\"Times New Roman,serif\" font-size=\"14.00\"> &#39;&#39;, S ; 1F</text>\r\n",
       "</g>\r\n",
       "<!-- F -->\r\n",
       "<g id=\"node4\" class=\"node\">\r\n",
       "<title>F</title>\r\n",
       "<ellipse fill=\"none\" stroke=\"black\" cx=\"505\" cy=\"-22\" rx=\"18\" ry=\"18\"/>\r\n",
       "<ellipse fill=\"none\" stroke=\"black\" cx=\"505\" cy=\"-22\" rx=\"22\" ry=\"22\"/>\r\n",
       "<text text-anchor=\"middle\" x=\"505\" y=\"-18.3\" font-family=\"Times New Roman,serif\" font-size=\"14.00\">F</text>\r\n",
       "</g>\r\n",
       "<!-- W&#45;&gt;F -->\r\n",
       "<g id=\"edge3\" class=\"edge\">\r\n",
       "<title>W&#45;&gt;F</title>\r\n",
       "<path fill=\"none\" stroke=\"black\" d=\"M329.05,-22C362.22,-22 432.02,-22 472.72,-22\"/>\r\n",
       "<polygon fill=\"black\" stroke=\"black\" points=\"472.88,-25.5 482.88,-22 472.88,-18.5 472.88,-25.5\"/>\r\n",
       "<text text-anchor=\"middle\" x=\"445\" y=\"-25.8\" font-family=\"Times New Roman,serif\" font-size=\"14.00\">&#39;&#39;, # ; #</text>\r\n",
       "</g>\r\n",
       "</g>\r\n",
       "</svg>\r\n"
      ],
      "text/plain": [
       "<graphviz.dot.Digraph at 0x5f9ea00>"
      ]
     },
     "execution_count": 7,
     "metadata": {},
     "output_type": "execute_result"
    }
   ],
   "source": [
    "pda_if_sndlast_then_1 = md2mc('''\n",
    "PDA\n",
    "\n",
    "!! WE NOW DERIVE THE LINEAR GRAMMAR\n",
    "!! ============================================================================\n",
    "!! First we will convert directly, by taking NFA states to be nonterminal names\n",
    "!! Then we will convert it over to one-letter nonterminals \n",
    "\n",
    "!! IF -> ''           -- because \"IF\" is an initial and final\n",
    "!! IF -> 1 F1 | 0 F1  -- because IF jumps to F1 upon 0 or 1\n",
    "!! F1 -> ''           -- because F1 is also a final\n",
    "\n",
    "!! IF ->  T           -- because of IF jumping to T upon ''\n",
    "!! T  -> 0 T | 1 T    -- because of T's self-loop\n",
    "\n",
    "!! T  -> 1 T1         -- because of T's transition to T1\n",
    "\n",
    "!! T1 -> 0 F2 | 1 F2  -- because of T1's transitions\n",
    "\n",
    "!! F2 -> ''           -- because F2 is final\n",
    "\n",
    "!! =============================================================================\n",
    "\n",
    "!! REMEMBER THAT JOVE's grammar simulation via PDA needs one-letter non-terminals\n",
    "!! IF => S ; F1 => F ; F2 -> G ; T => T ; T1 => U\n",
    "!! So we apply these renamings to obtain the grammar below:\n",
    "\n",
    "!! S -> ''            \n",
    "!! S -> 1 F | 0 F    \n",
    "!! F -> ''            \n",
    "\n",
    "!! S ->  T          \n",
    "!! T  -> 0 T | 1 T     \n",
    "\n",
    "!! T  -> 1 U\n",
    "\n",
    "!! U -> 0 G | 1 G   \n",
    "\n",
    "!! G -> ''            \n",
    " \n",
    "!! =============================================================================\n",
    "!! Now a PDA based on the above\n",
    "\n",
    "!!-- standard transitions!\n",
    "I : '',#; S# -> W\n",
    "W : '',#; #  -> F\n",
    "!!-- Sigma-based transitions\n",
    "W : 0,0; '' -> W\n",
    "W : 1,1; '' -> W\n",
    "\n",
    "!!==== Now, CFG rules translated below to PDA rules, one by one ====\n",
    "\n",
    "!! S -> ''  \n",
    "W : '',S; '' -> W\n",
    "\n",
    "!! S -> 1 F \n",
    "W : '',S ; 1F -> W\n",
    "\n",
    "!! S -> 0 F\n",
    "W : '',S ; 0F -> W\n",
    "\n",
    "!! F -> ''         \n",
    "W : '',F; '' -> W\n",
    "\n",
    "!! S  -> T      \n",
    "W : '',S; T  -> W\n",
    "\n",
    "!! T  -> 0 T   \n",
    "W : '',T; 0T -> W\n",
    "\n",
    "!! T  -> 1 T\n",
    "W : '',T; 1T -> W\n",
    "\n",
    "!! T  -> 1 U\n",
    "W : '',T; 1U -> W\n",
    "\n",
    "!! U -> 0 G \n",
    "W : '',U; 0G -> W\n",
    "\n",
    "!! U -> 1 G   \n",
    "W : '',U; 1G -> W\n",
    "\n",
    "!! G -> ''  \n",
    "W : '',G; '' -> W\n",
    " \n",
    "\n",
    "''')\n",
    "\n",
    "dotObj_pda(pda_if_sndlast_then_1, FuseEdges=True)"
   ]
  },
  {
   "cell_type": "code",
   "execution_count": 8,
   "metadata": {},
   "outputs": [
    {
     "name": "stdout",
     "output_type": "stream",
     "text": [
      "Help on function explore_pda in module jove.Def_PDA:\n",
      "\n",
      "explore_pda(inp, P, acceptance='ACCEPT_F', STKMAX=6, chatty=False)\n",
      "    A handy routine to print the result of run_pda plus making \n",
      "    future extensions to explore run-results.\n",
      "\n"
     ]
    }
   ],
   "source": [
    "help(explore_pda)"
   ]
  },
  {
   "cell_type": "code",
   "execution_count": 9,
   "metadata": {},
   "outputs": [
    {
     "name": "stdout",
     "output_type": "stream",
     "text": [
      "String  accepted by your PDA in 1 ways :-) \n",
      "Here are the ways: \n",
      "Final state  ('F', '', '#')\n",
      "Reached as follows:\n",
      "->  ('I', '', '#')\n",
      "->  ('W', '', 'S#')\n",
      "->  ('W', '', '#')\n",
      "->  ('F', '', '#') .\n"
     ]
    }
   ],
   "source": [
    "explore_pda('', pda_if_sndlast_then_1)"
   ]
  },
  {
   "cell_type": "code",
   "execution_count": 10,
   "metadata": {},
   "outputs": [
    {
     "name": "stdout",
     "output_type": "stream",
     "text": [
      "String 0 accepted by your PDA in 1 ways :-) \n",
      "Here are the ways: \n",
      "Final state  ('F', '', '#')\n",
      "Reached as follows:\n",
      "->  ('I', '0', '#')\n",
      "->  ('W', '0', 'S#')\n",
      "->  ('W', '0', '0F#')\n",
      "->  ('W', '', 'F#')\n",
      "->  ('W', '', '#')\n",
      "->  ('F', '', '#') .\n"
     ]
    }
   ],
   "source": [
    "explore_pda('0', pda_if_sndlast_then_1)"
   ]
  },
  {
   "cell_type": "code",
   "execution_count": 11,
   "metadata": {},
   "outputs": [
    {
     "name": "stdout",
     "output_type": "stream",
     "text": [
      "String 1 accepted by your PDA in 1 ways :-) \n",
      "Here are the ways: \n",
      "Final state  ('F', '', '#')\n",
      "Reached as follows:\n",
      "->  ('I', '1', '#')\n",
      "->  ('W', '1', 'S#')\n",
      "->  ('W', '1', '1F#')\n",
      "->  ('W', '', 'F#')\n",
      "->  ('W', '', '#')\n",
      "->  ('F', '', '#') .\n"
     ]
    }
   ],
   "source": [
    "explore_pda('1', pda_if_sndlast_then_1)"
   ]
  },
  {
   "cell_type": "code",
   "execution_count": 12,
   "metadata": {},
   "outputs": [
    {
     "name": "stdout",
     "output_type": "stream",
     "text": [
      "String 10 accepted by your PDA in 1 ways :-) \n",
      "Here are the ways: \n",
      "Final state  ('F', '', '#')\n",
      "Reached as follows:\n",
      "->  ('I', '10', '#')\n",
      "->  ('W', '10', 'S#')\n",
      "->  ('W', '10', 'T#')\n",
      "->  ('W', '10', '1U#')\n",
      "->  ('W', '0', 'U#')\n",
      "->  ('W', '0', '0G#')\n",
      "->  ('W', '', 'G#')\n",
      "->  ('W', '', '#')\n",
      "->  ('F', '', '#') .\n"
     ]
    }
   ],
   "source": [
    "explore_pda('10', pda_if_sndlast_then_1)"
   ]
  },
  {
   "cell_type": "code",
   "execution_count": 13,
   "metadata": {},
   "outputs": [
    {
     "name": "stdout",
     "output_type": "stream",
     "text": [
      "String 01 rejected by your PDA :-(\n",
      "Visited states are:\n",
      "{('W', '1', 'T#'), ('W', '01', '0F#'), ('W', '', '0T#'), ('F', '1', '#'), ('W', '01', 'S#'), ('W', '01', '#'), ('W', '', '1U#'), ('W', '1', 'F#'), ('W', '1', '0T#'), ('W', '01', 'T#'), ('W', '01', '1T#'), ('W', '01', '0T#'), ('W', '01', '1F#'), ('F', '01', '#'), ('W', '1', '1U#'), ('I', '01', '#'), ('W', '01', '1U#'), ('W', '1', '#'), ('W', '', '1T#'), ('W', '', 'U#'), ('W', '1', '1T#'), ('W', '', '0G#'), ('W', '', 'T#'), ('W', '', '1G#')}\n"
     ]
    }
   ],
   "source": [
    "explore_pda('01', pda_if_sndlast_then_1)"
   ]
  },
  {
   "cell_type": "code",
   "execution_count": null,
   "metadata": {},
   "outputs": [],
   "source": []
  },
  {
   "cell_type": "code",
   "execution_count": 14,
   "metadata": {},
   "outputs": [
    {
     "name": "stdout",
     "output_type": "stream",
     "text": [
      "String 1001010 accepted by your PDA in 1 ways :-) \n",
      "Here are the ways: \n",
      "Final state  ('F', '', '#')\n",
      "Reached as follows:\n",
      "->  ('I', '1001010', '#')\n",
      "->  ('W', '1001010', 'S#')\n",
      "->  ('W', '1001010', 'T#')\n",
      "->  ('W', '1001010', '1T#')\n",
      "->  ('W', '001010', 'T#')\n",
      "->  ('W', '001010', '0T#')\n",
      "->  ('W', '01010', 'T#')\n",
      "->  ('W', '01010', '0T#')\n",
      "->  ('W', '1010', 'T#')\n",
      "->  ('W', '1010', '1T#')\n",
      "->  ('W', '010', 'T#')\n",
      "->  ('W', '010', '0T#')\n",
      "->  ('W', '10', 'T#')\n",
      "->  ('W', '10', '1U#')\n",
      "->  ('W', '0', 'U#')\n",
      "->  ('W', '0', '0G#')\n",
      "->  ('W', '', 'G#')\n",
      "->  ('W', '', '#')\n",
      "->  ('F', '', '#') .\n"
     ]
    }
   ],
   "source": [
    "explore_pda('1001010', pda_if_sndlast_then_1)"
   ]
  },
  {
   "cell_type": "code",
   "execution_count": 15,
   "metadata": {},
   "outputs": [
    {
     "name": "stdout",
     "output_type": "stream",
     "text": [
      "String 100100 rejected by your PDA :-(\n",
      "Visited states are:\n",
      "{('W', '0', '#'), ('W', '100100', '0F#'), ('W', '00', '1G#'), ('W', '', '0T#'), ('W', '0100', 'G#'), ('W', '100', 'T#'), ('W', '0', 'G#'), ('W', '100100', '#'), ('W', '', '1U#'), ('W', '00100', '#'), ('W', '100', '0T#'), ('W', '0', 'T#'), ('W', '0100', '1T#'), ('W', '100100', '1F#'), ('W', '0', '0T#'), ('W', '0', '1U#'), ('W', '100100', '1U#'), ('W', '00100', 'F#'), ('W', '', '1T#'), ('W', '00100', '1U#'), ('W', '00', '0G#'), ('W', '00', 'T#'), ('F', '0100', '#'), ('I', '100100', '#'), ('W', '100', '1T#'), ('W', '100100', 'S#'), ('W', '00', '0T#'), ('W', '0', '1T#'), ('W', '00', 'U#'), ('W', '100100', 'T#'), ('W', '0100', '#'), ('W', '00', '1U#'), ('W', '100100', '1T#'), ('W', '00100', '0G#'), ('W', '00100', 'T#'), ('W', '100100', '0T#'), ('W', '00100', '1T#'), ('W', '00100', '0T#'), ('W', '00100', 'U#'), ('W', '0100', 'T#'), ('W', '00100', '1G#'), ('W', '100', '1U#'), ('W', '0100', '0T#'), ('F', '0', '#'), ('W', '0100', '1U#'), ('F', '100100', '#'), ('W', '00', '1T#'), ('W', '', 'T#'), ('F', '00100', '#')}\n"
     ]
    }
   ],
   "source": [
    "explore_pda('100100', pda_if_sndlast_then_1)"
   ]
  },
  {
   "cell_type": "code",
   "execution_count": 16,
   "metadata": {},
   "outputs": [
    {
     "data": {
      "application/vnd.jupyter.widget-view+json": {
       "model_id": "18588d870ddf457f97834086561b3000",
       "version_major": 2,
       "version_minor": 0
      },
      "text/plain": [
       "VBox(children=(HBox(children=(Text(value='', description='Input:', layout=Layout(width='500px'), placeholder='…"
      ]
     },
     "metadata": {},
     "output_type": "display_data"
    },
    {
     "data": {
      "text/html": [
       "<link rel=\"stylesheet\" href=\"//stackpath.bootstrapcdn.com/font-awesome/4.7.0/css/font-awesome.min.css\"/>"
      ],
      "text/plain": [
       "<IPython.core.display.HTML object>"
      ]
     },
     "metadata": {},
     "output_type": "display_data"
    }
   ],
   "source": [
    "AnimatePDA(pda_if_sndlast_then_1, FuseEdges=True)\n",
    "display(HTML('<link rel=\"stylesheet\" href=\"//stackpath.bootstrapcdn.com/font-awesome/4.7.0/css/font-awesome.min.css\"/>'))"
   ]
  },
  {
   "cell_type": "markdown",
   "metadata": {},
   "source": [
    "# Reverse the CFG to obtain a purely left-linear grammar\n",
    "## Then express the CFG as a PDA"
   ]
  },
  {
   "cell_type": "code",
   "execution_count": 17,
   "metadata": {},
   "outputs": [
    {
     "data": {
      "image/svg+xml": [
       "<?xml version=\"1.0\" encoding=\"UTF-8\" standalone=\"no\"?>\r\n",
       "<!DOCTYPE svg PUBLIC \"-//W3C//DTD SVG 1.1//EN\"\r\n",
       " \"http://www.w3.org/Graphics/SVG/1.1/DTD/svg11.dtd\">\r\n",
       "<!-- Generated by graphviz version 2.44.1 (20200629.0846)\r\n",
       " -->\r\n",
       "<!-- Pages: 1 -->\r\n",
       "<svg width=\"535pt\" height=\"262pt\"\r\n",
       " viewBox=\"0.00 0.00 535.00 262.50\" xmlns=\"http://www.w3.org/2000/svg\" xmlns:xlink=\"http://www.w3.org/1999/xlink\">\r\n",
       "<g id=\"graph0\" class=\"graph\" transform=\"scale(1 1) rotate(0) translate(4 258.5)\">\r\n",
       "<polygon fill=\"white\" stroke=\"transparent\" points=\"-4,4 -4,-258.5 531,-258.5 531,4 -4,4\"/>\r\n",
       "<!-- EMPTY -->\r\n",
       "<g id=\"node1\" class=\"node\">\r\n",
       "<title>EMPTY</title>\r\n",
       "</g>\r\n",
       "<!-- I -->\r\n",
       "<g id=\"node2\" class=\"node\">\r\n",
       "<title>I</title>\r\n",
       "<ellipse fill=\"none\" stroke=\"black\" cx=\"109\" cy=\"-22\" rx=\"18\" ry=\"18\"/>\r\n",
       "<text text-anchor=\"middle\" x=\"109\" y=\"-18.3\" font-family=\"Times New Roman,serif\" font-size=\"14.00\">I</text>\r\n",
       "</g>\r\n",
       "<!-- EMPTY&#45;&gt;I -->\r\n",
       "<g id=\"edge1\" class=\"edge\">\r\n",
       "<title>EMPTY&#45;&gt;I</title>\r\n",
       "<path fill=\"none\" stroke=\"black\" d=\"M54.19,-22C62.65,-22 72.05,-22 80.6,-22\"/>\r\n",
       "<polygon fill=\"black\" stroke=\"black\" points=\"80.83,-25.5 90.83,-22 80.83,-18.5 80.83,-25.5\"/>\r\n",
       "</g>\r\n",
       "<!-- W -->\r\n",
       "<g id=\"node3\" class=\"node\">\r\n",
       "<title>W</title>\r\n",
       "<ellipse fill=\"none\" stroke=\"black\" cx=\"309.5\" cy=\"-22\" rx=\"19.5\" ry=\"19.5\"/>\r\n",
       "<text text-anchor=\"middle\" x=\"309.5\" y=\"-18.3\" font-family=\"Times New Roman,serif\" font-size=\"14.00\">W</text>\r\n",
       "</g>\r\n",
       "<!-- I&#45;&gt;W -->\r\n",
       "<g id=\"edge2\" class=\"edge\">\r\n",
       "<title>I&#45;&gt;W</title>\r\n",
       "<path fill=\"none\" stroke=\"black\" d=\"M127.27,-22C161.46,-22 238.06,-22 279.9,-22\"/>\r\n",
       "<polygon fill=\"black\" stroke=\"black\" points=\"279.98,-25.5 289.98,-22 279.98,-18.5 279.98,-25.5\"/>\r\n",
       "<text text-anchor=\"middle\" x=\"169.5\" y=\"-25.8\" font-family=\"Times New Roman,serif\" font-size=\"14.00\">&#39;&#39;, # ; S#</text>\r\n",
       "</g>\r\n",
       "<!-- W&#45;&gt;W -->\r\n",
       "<g id=\"edge4\" class=\"edge\">\r\n",
       "<title>W&#45;&gt;W</title>\r\n",
       "<path fill=\"none\" stroke=\"black\" d=\"M292.32,-31.6C277.6,-44.24 283.33,-59.5 309.5,-59.5 330.36,-59.5 338.23,-49.81 333.12,-39.48\"/>\r\n",
       "<polygon fill=\"black\" stroke=\"black\" points=\"335.72,-37.13 326.68,-31.6 330.3,-41.56 335.72,-37.13\"/>\r\n",
       "<text text-anchor=\"middle\" x=\"309.5\" y=\"-243.3\" font-family=\"Times New Roman,serif\" font-size=\"14.00\">0, 0 ; &#39;&#39; </text>\r\n",
       "<text text-anchor=\"middle\" x=\"309.5\" y=\"-228.3\" font-family=\"Times New Roman,serif\" font-size=\"14.00\"> 1, 1 ; &#39;&#39; </text>\r\n",
       "<text text-anchor=\"middle\" x=\"309.5\" y=\"-213.3\" font-family=\"Times New Roman,serif\" font-size=\"14.00\"> &#39;&#39;, U ; G1 </text>\r\n",
       "<text text-anchor=\"middle\" x=\"309.5\" y=\"-198.3\" font-family=\"Times New Roman,serif\" font-size=\"14.00\"> &#39;&#39;, S ; &#39;&#39; </text>\r\n",
       "<text text-anchor=\"middle\" x=\"309.5\" y=\"-183.3\" font-family=\"Times New Roman,serif\" font-size=\"14.00\"> &#39;&#39;, U ; G0 </text>\r\n",
       "<text text-anchor=\"middle\" x=\"309.5\" y=\"-168.3\" font-family=\"Times New Roman,serif\" font-size=\"14.00\"> &#39;&#39;, T ; T0 </text>\r\n",
       "<text text-anchor=\"middle\" x=\"309.5\" y=\"-153.3\" font-family=\"Times New Roman,serif\" font-size=\"14.00\"> &#39;&#39;, S ; F1 </text>\r\n",
       "<text text-anchor=\"middle\" x=\"309.5\" y=\"-138.3\" font-family=\"Times New Roman,serif\" font-size=\"14.00\"> &#39;&#39;, F ; &#39;&#39; </text>\r\n",
       "<text text-anchor=\"middle\" x=\"309.5\" y=\"-123.3\" font-family=\"Times New Roman,serif\" font-size=\"14.00\"> &#39;&#39;, G ; &#39;&#39; </text>\r\n",
       "<text text-anchor=\"middle\" x=\"309.5\" y=\"-108.3\" font-family=\"Times New Roman,serif\" font-size=\"14.00\"> &#39;&#39;, S ; T </text>\r\n",
       "<text text-anchor=\"middle\" x=\"309.5\" y=\"-93.3\" font-family=\"Times New Roman,serif\" font-size=\"14.00\"> &#39;&#39;, T ; T1 </text>\r\n",
       "<text text-anchor=\"middle\" x=\"309.5\" y=\"-78.3\" font-family=\"Times New Roman,serif\" font-size=\"14.00\"> &#39;&#39;, T ; U1 </text>\r\n",
       "<text text-anchor=\"middle\" x=\"309.5\" y=\"-63.3\" font-family=\"Times New Roman,serif\" font-size=\"14.00\"> &#39;&#39;, S ; F0</text>\r\n",
       "</g>\r\n",
       "<!-- F -->\r\n",
       "<g id=\"node4\" class=\"node\">\r\n",
       "<title>F</title>\r\n",
       "<ellipse fill=\"none\" stroke=\"black\" cx=\"505\" cy=\"-22\" rx=\"18\" ry=\"18\"/>\r\n",
       "<ellipse fill=\"none\" stroke=\"black\" cx=\"505\" cy=\"-22\" rx=\"22\" ry=\"22\"/>\r\n",
       "<text text-anchor=\"middle\" x=\"505\" y=\"-18.3\" font-family=\"Times New Roman,serif\" font-size=\"14.00\">F</text>\r\n",
       "</g>\r\n",
       "<!-- W&#45;&gt;F -->\r\n",
       "<g id=\"edge3\" class=\"edge\">\r\n",
       "<title>W&#45;&gt;F</title>\r\n",
       "<path fill=\"none\" stroke=\"black\" d=\"M329.05,-22C362.22,-22 432.02,-22 472.72,-22\"/>\r\n",
       "<polygon fill=\"black\" stroke=\"black\" points=\"472.88,-25.5 482.88,-22 472.88,-18.5 472.88,-25.5\"/>\r\n",
       "<text text-anchor=\"middle\" x=\"445\" y=\"-25.8\" font-family=\"Times New Roman,serif\" font-size=\"14.00\">&#39;&#39;, # ; #</text>\r\n",
       "</g>\r\n",
       "</g>\r\n",
       "</svg>\r\n"
      ],
      "text/plain": [
       "<graphviz.dot.Digraph at 0x5ffdbb0>"
      ]
     },
     "execution_count": 17,
     "metadata": {},
     "output_type": "execute_result"
    }
   ],
   "source": [
    "pda_rev = md2mc('''\n",
    "\n",
    "PDA     \n",
    "\n",
    "!! =============================================================================\n",
    "!! We will reverse production-by-production, keeping the same name for the nonterminals!\n",
    "\n",
    "I : '',#; S# -> W\n",
    "W : '',#; #  -> F\n",
    "\n",
    "!!-- Sigma-based transitions\n",
    "W : 0,0; '' -> W\n",
    "W : 1,1; '' -> W\n",
    "\n",
    "!!==== Now, CFG rules for reversed productions ====\n",
    "\n",
    "!! S -> ''  \n",
    "W : '',S; '' -> W\n",
    "\n",
    "!! S -> 1 F ===REVERSED===> S -> F 1\n",
    "W : '',S ; F1 -> W\n",
    "\n",
    "!! S -> 0 F ===REVERSED===> S -> F 0\n",
    "W : '',S ; F0 -> W\n",
    "\n",
    "!! F -> '' ===REVERSED===> F -> ''        \n",
    "W : '',F; '' -> W\n",
    "\n",
    "!! S  -> T ===REVERSED===> S -> T   \n",
    "W : '',S; T  -> W\n",
    "\n",
    "!! T  -> 0 T ===REVERSED===> T -> T 0  \n",
    "W : '',T; T0 -> W\n",
    " \n",
    "!! T  -> 1 T ===REVERSED===> T -> T 1\n",
    "W : '',T; T1 -> W\n",
    "\n",
    "!! T  -> 1 U ===REVERSED===> T -> U 1\n",
    "W : '',T; U1 -> W\n",
    "\n",
    "!! U -> 0 G ===REVERSED===> U -> G 0\n",
    "W : '',U; G0 -> W\n",
    "\n",
    "!! U -> 1 G ===REVERSED===> U -> G 1   \n",
    "W : '',U; G1 -> W\n",
    "\n",
    "!! G -> ''  ===REVERSED===> G -> ''\n",
    "W : '',G; '' -> W\n",
    " \n",
    "\n",
    "''')\n",
    "\n",
    "dotObj_pda(pda_rev, FuseEdges=True)"
   ]
  },
  {
   "cell_type": "code",
   "execution_count": 18,
   "metadata": {},
   "outputs": [
    {
     "name": "stdout",
     "output_type": "stream",
     "text": [
      "String  accepted by your PDA in 1 ways :-) \n",
      "Here are the ways: \n",
      "Final state  ('F', '', '#')\n",
      "Reached as follows:\n",
      "->  ('I', '', '#')\n",
      "->  ('W', '', 'S#')\n",
      "->  ('W', '', '#')\n",
      "->  ('F', '', '#') .\n"
     ]
    }
   ],
   "source": [
    "explore_pda('', pda_rev)"
   ]
  },
  {
   "cell_type": "code",
   "execution_count": 19,
   "metadata": {},
   "outputs": [
    {
     "name": "stdout",
     "output_type": "stream",
     "text": [
      "String 0 accepted by your PDA in 1 ways :-) \n",
      "Here are the ways: \n",
      "Final state  ('F', '', '#')\n",
      "Reached as follows:\n",
      "->  ('I', '0', '#')\n",
      "->  ('W', '0', 'S#')\n",
      "->  ('W', '0', 'F0#')\n",
      "->  ('W', '0', '0#')\n",
      "->  ('W', '', '#')\n",
      "->  ('F', '', '#') .\n"
     ]
    }
   ],
   "source": [
    "explore_pda('0', pda_rev)"
   ]
  },
  {
   "cell_type": "code",
   "execution_count": 20,
   "metadata": {},
   "outputs": [
    {
     "name": "stdout",
     "output_type": "stream",
     "text": [
      "String 1 accepted by your PDA in 1 ways :-) \n",
      "Here are the ways: \n",
      "Final state  ('F', '', '#')\n",
      "Reached as follows:\n",
      "->  ('I', '1', '#')\n",
      "->  ('W', '1', 'S#')\n",
      "->  ('W', '1', 'F1#')\n",
      "->  ('W', '1', '1#')\n",
      "->  ('W', '', '#')\n",
      "->  ('F', '', '#') .\n"
     ]
    }
   ],
   "source": [
    "explore_pda('1', pda_rev)"
   ]
  },
  {
   "cell_type": "markdown",
   "metadata": {},
   "source": [
    "# Reversed PDA works but needs STKMAX = 9"
   ]
  },
  {
   "cell_type": "code",
   "execution_count": 29,
   "metadata": {
    "scrolled": true
   },
   "outputs": [
    {
     "name": "stdout",
     "output_type": "stream",
     "text": [
      "String 0101001 accepted by your PDA in 1 ways :-) \n",
      "Here are the ways: \n",
      "Final state  ('F', '', '#')\n",
      "Reached as follows:\n",
      "->  ('I', '0101001', '#')\n",
      "->  ('W', '0101001', 'S#')\n",
      "->  ('W', '0101001', 'T#')\n",
      "->  ('W', '0101001', 'T1#')\n",
      "->  ('W', '0101001', 'T01#')\n",
      "->  ('W', '0101001', 'T001#')\n",
      "->  ('W', '0101001', 'T1001#')\n",
      "->  ('W', '0101001', 'T01001#')\n",
      "->  ('W', '0101001', 'U101001#')\n",
      "->  ('W', '0101001', 'G0101001#')\n",
      "->  ('W', '0101001', '0101001#')\n",
      "->  ('W', '101001', '101001#')\n",
      "->  ('W', '01001', '01001#')\n",
      "->  ('W', '1001', '1001#')\n",
      "->  ('W', '001', '001#')\n",
      "->  ('W', '01', '01#')\n",
      "->  ('W', '1', '1#')\n",
      "->  ('W', '', '#')\n",
      "->  ('F', '', '#') .\n"
     ]
    }
   ],
   "source": [
    "# REVERSE THIS TEST:  explore_pda('1001010', pda_if_sndlast_then_1)\n",
    "\n",
    "explore_pda('0101001', pda_rev, STKMAX=9)"
   ]
  },
  {
   "cell_type": "markdown",
   "metadata": {},
   "source": [
    "# Rejects up to stack depth of 12"
   ]
  },
  {
   "cell_type": "code",
   "execution_count": 22,
   "metadata": {},
   "outputs": [
    {
     "name": "stdout",
     "output_type": "stream",
     "text": [
      "String 0001001 rejected by your PDA :-(\n",
      "Visited states are:\n",
      "{('W', '0001001', 'G1101010001#'), ('W', '0001001', 'T1000100101#'), ('W', '0001001', 'T0110010101#'), ('W', '0001001', 'G011111010#'), ('W', '0001001', '1110110#'), ('W', '0001001', 'G0101110#'), ('W', '0001001', 'T0001000000#'), ('W', '001001', '110110001#'), ('W', '0001001', 'U111011101#'), ('W', '0001001', 'T0100101001#'), ('W', '0001001', '01010100#'), ('W', '0001001', '0111011011#'), ('W', '0001001', 'T1101101000#'), ('W', '0001001', '01111000#'), ('W', '0001001', 'U100010#'), ('W', '0001001', 'G01111110#'), ('W', '0001001', 'G1101110011#'), ('W', '0001001', 'G0110100101#'), ('W', '0001001', 'T011010111#'), ('W', '0001001', 'T0111110101#'), ('W', '001001', '110001#'), ('W', '0001001', 'G1111001#'), ('W', '0001001', '111110100#'), ('W', '0001001', 'U11001#'), ('W', '0001001', 'T011100#'), ('W', '0001001', '0110010000#'), ('W', '0001001', 'G1101000100#'), ('W', '0001001', 'T111101#'), ('W', '0001001', 'U110010011#'), ('W', '0001001', 'T0110011001#'), ('W', '0001001', '0110100101#'), ('W', '0001001', 'G1100101#'), ('W', '0001001', 'U111100010#'), ('W', '0001001', 'U10111011#'), ('W', '0001001', 'U11010011#'), ('W', '0001001', 'G1110101101#'), ('W', '001001', '11101010#'), ('W', '0001001', 'T00101#'), ('W', '0001001', 'T0110010100#'), ('W', '0001001', 'T1100110000#'), ('W', '001001', '1100000#'), ('W', '0001001', 'G11011011#'), ('W', '0001001', 'G1101000101#'), ('W', '0001001', 'T0011001001#'), ('W', '0001001', 'G11101#'), ('W', '0001001', 'T111100010#'), ('W', '0001001', '111000010#'), ('W', '0001001', '111100000#'), ('W', '0001001', 'T101000100#'), ('W', '0001001', '110100001#'), ('W', '0001001', 'T011111010#'), ('W', '0001001', '010010001#'), ('W', '001001', '100011000#'), ('W', '0001001', '0111011010#'), ('W', '0001001', 'T011110110#'), ('W', '0001001', 'T111011001#'), ('W', '0001001', '011010100#'), ('W', '0001001', '11011011#'), ('W', '0001001', '11101100#'), ('W', '001001', '10101001#'), ('W', '0001001', 'T101100101#'), ('W', '0001001', 'G011010010#'), ('W', '0001001', 'G0100111110#'), ('W', '0001001', 'T0010101100#'), ('W', '0001001', 'G1111011001#'), ('W', '0001001', 'U1000110011#'), ('W', '0001001', 'T1101001100#'), ('W', '0001001', '0111010111#'), ('W', '0001001', 'G11000010#'), ('W', '0001001', 'U111011111#'), ('W', '0001001', 'G01101110#'), ('W', '0001001', 'G1100110011#'), ('W', '0001001', 'T01000#'), ('W', '0001001', 'U1100101101#'), ('W', '0001001', 'U1001000101#'), ('W', '0001001', '1111100111#'), ('W', '001001', '11110101#'), ('W', '0001001', 'G010101000#'), ('W', '0001001', 'U11100010#'), ('W', '0001001', 'U10010101#'), ('W', '0001001', 'T10111110#'), ('W', '0001001', '1101101110#'), ('W', '0001001', 'U11101001#'), ('W', '0001001', 'U1100111110#'), ('W', '0001001', '0101011011#'), ('W', '0001001', 'T0111010001#'), ('W', '0001001', 'T1101010111#'), ('W', '0001001', 'G1111100101#'), ('W', '0001001', '1111010100#'), ('W', '0001001', '111011100#'), ('W', '0001001', '11000011#'), ('W', '0001001', 'G0101110111#'), ('W', '0001001', 'T0110010110#'), ('W', '0001001', '11101011#'), ('W', '0001001', 'U1110111010#'), ('W', '0001001', 'T0000011100#'), ('W', '0001001', 'G010111010#'), ('W', '0001001', 'T011111101#'), ('W', '0001001', 'G110010100#'), ('W', '001001', '101101111#'), ('W', '0001001', 'T110001111#'), ('W', '0001001', 'T1100001000#'), ('W', '0001001', 'T0010010100#'), ('W', '001001', '101100#'), ('W', '0001001', 'G110001101#'), ('W', '0001001', 'T1111011011#'), ('W', '0001001', 'U1010100011#'), ('W', '0001001', '01101#'), ('W', '001001', '111001#'), ('W', '0001001', 'T10010011#'), ('W', '0001001', 'T0111000000#'), ('W', '0001001', 'U1101101110#'), ('W', '0001001', 'T01101110#'), ('W', '0001001', 'U1000100010#'), ('W', '0001001', 'T0011100001#'), ('W', '0001001', 'T0000000000#'), ('W', '0001001', 'U101111010#'), ('W', '0001001', '1100101000#'), ('W', '0001001', '0111111111#'), ('W', '0001001', 'T010100011#'), ('W', '0001001', 'T10100100#'), ('W', '001001', '101110001#'), ('W', '0001001', 'T0101011101#'), ('W', '0001001', 'T011001011#'), ('W', '0001001', 'T0100000000#'), ('W', '0001001', 'G11110101#'), ('W', '0001001', '011000101#'), ('W', '0001001', '111111000#'), ('W', '0001001', 'T10000111#'), ('W', '0001001', '1110100000#'), ('W', '0001001', 'T110101011#'), ('W', '0001001', 'T111111001#'), ('W', '0001001', 'T1011010111#'), ('W', '001001', '1101010#'), ('W', '0001001', 'G0110001001#'), ('W', '0001001', 'T111110001#'), ('W', '0001001', 'U110000101#'), ('W', '0001001', 'T0100011011#'), ('W', '0001001', 'G0111000011#'), ('W', '0001001', 'T1110010#'), ('W', '0001001', 'T1010111#'), ('W', '0001001', 'U101000010#'), ('W', '0001001', 'T111001000#'), ('W', '0001001', '1101010110#'), ('W', '0001001', '011111000#'), ('W', '0001001', 'G11011110#'), ('W', '0001001', 'T01111101#'), ('W', '0001001', '110011011#'), ('W', '0001001', 'T100010000#'), ('W', '0001001', 'G111100010#'), ('W', '001001', '111011110#'), ('W', '0001001', 'U101110010#'), ('W', '0001001', '1111110110#'), ('W', '0001001', 'G011111000#'), ('W', '0001001', '1101100011#'), ('W', '0001001', '010100100#'), ('W', '0001001', '011100#'), ('W', '0001001', 'T1111101111#'), ('W', '0001001', 'T1011001000#'), ('W', '0001001', '010111100#'), ('W', '0001001', 'T0100101010#'), ('W', '001001', '110000100#'), ('W', '0001001', 'T0010011010#'), ('W', '0001001', 'G1111010111#'), ('W', '0001001', 'T111011100#'), ('W', '0001001', '1111111110#'), ('W', '0001001', 'T011010#'), ('W', '0001001', 'U100001010#'), ('W', '0001001', 'T110101010#'), ('W', '0001001', 'T0010101001#'), ('W', '001001', '1000000#'), ('W', '0001001', 'G1111111111#'), ('W', '0001001', 'T0011000001#'), ('W', '0001001', 'T1100000#'), ('W', '0001001', 'U1011001110#'), ('W', '0001001', 'G0101110000#'), ('W', '0001001', '010111000#'), ('W', '0001001', 'U1011010000#'), ('W', '0001001', 'U1001100#'), ('W', '0001001', 'U10111000#'), ('W', '0001001', 'T100010101#'), ('W', '001001', '111100011#'), ('W', '0001001', 'U1111101110#'), ('W', '0001001', '11010011#'), ('W', '0001001', 'U1111110110#'), ('W', '0001001', 'G011000111#'), ('W', '0001001', 'U11001011#'), ('W', '0001001', 'T0001110010#'), ('W', '0001001', 'T1110110011#'), ('W', '0001001', 'T0101111011#'), ('W', '0001001', 'T101011#'), ('W', '0001001', 'U1100100011#'), ('W', '0001001', 'G0100000#'), ('W', '0001001', 'T11001111#'), ('W', '0001001', 'T0000100000#'), ('W', '0001001', 'G0111100111#'), ('W', '0001001', 'T110010110#'), ('W', '0001001', '1100010000#'), ('W', '0001001', 'T111110101#'), ('W', '0001001', 'T1010010#'), ('W', '0001001', '1101#'), ('W', '0001001', 'T00110110#'), ('W', '0001001', 'U1110110101#'), ('W', '0001001', 'T1010011110#'), ('W', '0001001', '1100010101#'), ('W', '0001001', 'U110001111#'), ('W', '0001001', 'G010000101#'), ('W', '0001001', '011011100#'), ('W', '0001001', 'U1011111001#'), ('W', '0001001', '0111001101#'), ('W', '0001001', 'T1101111111#'), ('W', '0001001', '0110001100#'), ('W', '0001001', 'T0000010110#'), ('W', '0001001', 'T1001101010#'), ('W', '0001001', 'G1111111#'), ('W', '0001001', 'U10101110#'), ('W', '0001001', 'G0100010100#'), ('W', '0001001', '011000#'), ('W', '0001001', '010101010#'), ('W', '0001001', 'T1110#'), ('W', '0001001', 'T10100011#'), ('W', '0001001', '01010010#'), ('W', '0001001', 'U110100111#'), ('W', '0001001', 'U1001001101#'), ('W', '0001001', '1111101011#'), ('W', '001001', '110#'), ('W', '0001001', '0101000011#'), ('W', '0001001', 'G1111010001#'), ('W', '001001', '10010100#'), ('W', '0001001', 'T1010011010#'), ('W', '0001001', 'G010001110#'), ('W', '0001001', 'G1101101100#'), ('W', '0001001', 'G11001111#'), ('W', '0001001', 'G110000101#'), ('W', '0001001', 'T1110101011#'), ('W', '001001', '110100110#'), ('W', '0001001', 'T0101011111#'), ('W', '0001001', 'U1011011110#'), ('W', '0001001', 'U10110011#'), ('W', '0001001', 'T1010111111#'), ('W', '0001001', 'U1001101001#'), ('W', '0001001', 'U1000000010#'), ('W', '0001001', 'G1111110010#'), ('W', '0001001', 'G1101000#'), ('W', '0001001', 'T101110110#'), ('W', '0001001', 'T1110011000#'), ('W', '0001001', 'G1100101011#'), ('W', '001001', '10001001#'), ('W', '0001001', 'G0101010110#'), ('W', '0001001', 'G0101011110#'), ('W', '0001001', 'T11110110#'), ('W', '0001001', 'G1100011#'), ('W', '0001001', 'T1110000#'), ('W', '0001001', '110100#'), ('W', '0001001', 'U1100000100#'), ('W', '001001', '11001000#'), ('W', '0001001', 'T1101100101#'), ('W', '0001001', 'U100000000#'), ('W', '0001001', 'T1100000111#'), ('W', '0001001', 'G110000100#'), ('W', '0001001', 'G011111100#'), ('W', '0001001', 'G1100001#'), ('W', '0001001', 'G1111010000#'), ('W', '0001001', 'T0111011101#'), ('W', '0001001', 'G1111101110#'), ('W', '0001001', 'U101000110#'), ('W', '0001001', 'T011111011#'), ('W', '0001001', 'U1101010010#'), ('W', '0001001', '0111010011#'), ('W', '001001', '11110110#'), ('W', '0001001', 'U1001001010#'), ('W', '0001001', 'T100111110#'), ('W', '0001001', '0111100001#'), ('W', '0001001', 'U1000000001#'), ('W', '0001001', '0100101100#'), ('W', '0001001', 'T01100000#'), ('W', '0001001', 'G0111110011#'), ('W', '0001001', 'G1101100111#'), ('W', '0001001', '01011101#'), ('W', '001001', '1100110#'), ('W', '0001001', 'T0010111001#'), ('W', '0001001', 'T1001011111#'), ('W', '0001001', 'T011110000#'), ('W', '0001001', '0100100100#'), ('W', '0001001', 'U1011000011#'), ('W', '0001001', 'U111111#'), ('W', '001001', '10000111#'), ('W', '0001001', 'T000011110#'), ('W', '001001', '100101010#'), ('W', '0001001', 'U101000111#'), ('W', '001001', '100111010#'), ('W', '0001001', '1100#'), ('W', '001001', '111111111#'), ('W', '001001', '10111011#'), ('W', '0001001', 'T1101110000#'), ('W', '0001001', '111000001#'), ('W', '0001001', '0111001100#'), ('W', '0001001', 'U10010000#'), ('W', '0001001', 'T1111010001#'), ('W', '0001001', '1100011010#'), ('W', '0001001', 'G111101011#'), ('W', '0001001', 'T1001110100#'), ('W', '0001001', 'U10100000#'), ('W', '001001', '110110010#'), ('W', '001001', '1011100#'), ('W', '001001', '100011010#'), ('W', '0001001', 'G1100011111#'), ('W', '0001001', 'G11010111#'), ('W', '0001001', 'G01101111#'), ('W', '0001001', 'T1101100#'), ('W', '001001', '100001110#'), ('W', '0001001', 'T000100001#'), ('W', '0001001', '0110000011#'), ('W', '0001001', 'T0101001#'), ('W', '0001001', 'T11001010#'), ('W', '0001001', '1101001001#'), ('W', '001001', '110010001#'), ('W', '0001001', '11100#'), ('W', '0001001', '111111001#'), ('W', '0001001', 'G1101110101#'), ('W', '0001001', '0101111101#'), ('W', '0001001', '0101101100#'), ('W', '0001001', 'T011101#'), ('W', '0001001', 'T1101000000#'), ('W', '0001001', 'U1011111000#'), ('W', '0001001', 'T1101101#'), ('W', '0001001', 'T1011111001#'), ('W', '0001001', 'T0011100101#'), ('W', '0001001', '111001011#'), ('W', '0001001', 'T0010011100#'), ('W', '0001001', 'U1001111110#'), ('W', '0001001', 'T0110110000#'), ('W', '0001001', 'T0001000111#'), ('W', '0001001', 'T1100001010#'), ('W', '0001001', 'U110011011#'), ('W', '0001001', 'T111001111#'), ('W', '0001001', 'T110010101#'), ('W', '0001001', 'T00011111#'), ('W', '0001001', 'T1100100101#'), ('W', '0001001', 'T010100#'), ('W', '0001001', 'G0110110100#'), ('W', '0001001', '010110101#'), ('W', '0001001', 'T0101110010#'), ('W', '0001001', '11100001#'), ('W', '0001001', 'G11000100#'), ('W', '0001001', 'U1101001110#'), ('W', '0001001', 'T011100001#'), ('W', '001001', '11001100#'), ('W', '0001001', 'T0100011010#'), ('W', '0001001', '0111111001#'), ('W', '0001001', 'T0101001101#'), ('W', '0001001', 'U1011011011#'), ('W', '0001001', '111110011#'), ('W', '0001001', 'U1101100#'), ('W', '0001001', 'T0000111001#'), ('W', '0001001', 'T1100110#'), ('W', '0001001', 'T011101111#'), ('W', '0001001', 'T0111101011#'), ('W', '0001001', '111000110#'), ('W', '0001001', 'T0101000101#'), ('W', '0001001', '1100000111#'), ('W', '0001001', 'U111011000#'), ('W', '0001001', 'T111110000#'), ('W', '0001001', 'U100001100#'), ('W', '0001001', '1111010110#'), ('W', '0001001', 'T10110111#'), ('W', '0001001', 'U100111010#'), ('W', '0001001', 'U11111110#'), ('W', '0001001', 'T1010010110#'), ('W', '0001001', 'U1000001001#'), ('W', '0001001', '0100111000#'), ('W', '0001001', 'U1000111010#'), ('W', '0001001', 'T110110000#'), ('W', '0001001', 'G1101001001#'), ('W', '0001001', 'U1000001000#'), ('W', '0001001', 'T0101101010#'), ('W', '0001001', '0111001000#'), ('W', '0001001', 'T1111100010#'), ('W', '0001001', '01111100#'), ('W', '0001001', 'G11110#'), ('W', '0001001', '1110011100#'), ('W', '0001001', 'G0100100110#'), ('W', '0001001', '01100001#'), ('W', '0001001', 'T001000110#'), ('W', '0001001', 'G0101011101#'), ('W', '0001001', '11100010#'), ('W', '0001001', '110101001#'), ('W', '0001001', 'U111010000#'), ('W', '0001001', 'G1101011001#'), ('W', '0001001', '01010011#'), ('W', '0001001', 'G1100011010#'), ('W', '0001001', '1100001100#'), ('W', '0001001', 'T00000101#'), ('W', '0001001', 'T1111101000#'), ('W', '0001001', 'T000111101#'), ('W', '0001001', '0110000101#'), ('W', '0001001', '011011011#'), ('W', '0001001', 'G1101101001#'), ('W', '0001001', 'U1000001#'), ('W', '001001', '11011111#'), ('W', '0001001', 'T1100011100#'), ('W', '0001001', 'T0001111000#'), ('W', '0001001', 'U10001110#'), ('W', '0001001', '0100011001#'), ('W', '0001001', 'G0101110001#'), ('W', '0001001', 'G110110100#'), ('W', '0001001', '110101111#'), ('W', '0001001', 'T100110110#'), ('W', '0001001', 'T0101111001#'), ('W', '0001001', 'T1111101110#'), ('W', '0001001', 'G0100110010#'), ('W', '0001001', 'U1101110110#'), ('W', '0001001', '110110101#'), ('W', '0001001', 'T000010011#'), ('W', '0001001', 'U1100001011#'), ('W', '0001001', 'U1100000000#'), ('W', '0001001', 'U1110000010#'), ('W', '0001001', '011011101#'), ('W', '0001001', 'U11101010#'), ('W', '001001', '111001101#'), ('W', '0001001', 'T0010000000#'), ('W', '0001001', 'U1000110101#'), ('W', '0001001', 'U1110011011#'), ('W', '0001001', 'T10111011#'), ('W', '0001001', 'G01110111#'), ('W', '0001001', 'G1100000101#'), ('W', '0001001', 'T0010111111#'), ('W', '0001001', '1110011#'), ('W', '0001001', 'T1011011010#'), ('W', '0001001', 'U1011010111#'), ('W', '0001001', 'T100101101#'), ('W', '0001001', 'U1001001110#'), ('W', '0001001', 'T1011110011#'), ('W', '0001001', '0111111011#'), ('W', '0001001', 'T0011101111#'), ('W', '0001001', 'U1000001100#'), ('W', '0001001', 'T1010110001#'), ('W', '001001', '111101100#'), ('W', '0001001', 'G11101110#'), ('W', '001001', '1110000#'), ('W', '0001001', 'T00001000#'), ('W', '0001001', 'U111001#'), ('W', '0001001', 'U1101011000#'), ('W', '0001001', 'G11100#'), ('W', '0001001', 'G1101000001#'), ('W', '0001001', 'G0100101101#'), ('W', '001001', '101100001#'), ('W', '0001001', 'G0111100101#'), ('W', '0001001', 'T000001000#'), ('W', '0001001', 'G0110100100#'), ('W', '0001001', 'T1100100100#'), ('W', '0001001', '0100110000#'), ('W', '0001001', '1111110111#'), ('W', '0001001', 'T010011010#'), ('W', '0001001', 'G1111011110#'), ('W', '0001001', '01110000#'), ('W', '0001001', 'T0110111111#'), ('W', '001001', '111110101#'), ('W', '0001001', 'T01011111#'), ('W', '0001001', 'T0000101001#'), ('W', '0001001', 'G111011111#'), ('W', '0001001', 'T110010#'), ('W', '0001001', 'T11110010#'), ('W', '0001001', 'U100110010#'), ('W', '0001001', 'G0100011011#'), ('W', '0001001', '1100111001#'), ('W', '001001', '111110100#'), ('W', '0001001', 'T00011100#'), ('W', '0001001', 'T1110111101#'), ('W', '0001001', 'U10011001#'), ('W', '0001001', 'T0011010100#'), ('W', '0001001', 'T1011110000#'), ('W', '0001001', 'T111010001#'), ('W', '0001001', 'T0001001111#'), ('W', '0001001', 'G010011011#'), ('W', '0001001', 'T0000010111#'), ('W', '001001', '1100101#'), ('W', '0001001', 'G010010111#'), ('W', '0001001', 'U1001000#'), ('W', '0001001', 'G0110100010#'), ('W', '0001001', '11000101#'), ('W', '001001', '1011101#'), ('W', '0001001', 'T1101110110#'), ('W', '0001001', 'U1110110#'), ('W', '0001001', 'T0111000001#'), ('W', '0001001', 'G1101011100#'), ('W', '0001001', 'T0001011011#'), ('W', '0001001', 'U1100101011#'), ('W', '0001001', 'U110011000#'), ('W', '0001001', 'U1011#'), ('W', '001001', '111000010#'), ('W', '001001', '111100000#'), ('W', '0001001', 'T1011001011#'), ('W', '001001', '111000#'), ('W', '0001001', 'U1010011100#'), ('W', '0001001', 'T0110011101#'), ('W', '0001001', 'T1000111001#'), ('W', '0001001', 'U10101011#'), ('W', '0001001', 'U1011001111#'), ('W', '001001', '11011011#'), ('W', '0001001', 'T11110000#'), ('W', '001001', '11101100#'), ('W', '0001001', 'T01010001#'), ('W', '0001001', 'U1110001101#'), ('W', '001001', '1011011#'), ('W', '0001001', 'T0010000001#'), ('W', '001001', '1010000#'), ('W', '0001001', 'T1000000100#'), ('W', '0001001', '010010010#'), ('W', '0001001', 'T101111110#'), ('W', '0001001', 'G1110100111#'), ('W', '0001001', 'G0100100100#'), ('W', '0001001', 'T0001001110#'), ('W', '0001001', 'T110001010#'), ('W', '0001001', 'T1110111001#'), ('W', '001001', '1110101#'), ('W', '0001001', 'G11000000#'), ('W', '0001001', 'G0100001001#'), ('W', '0001001', 'G1101100000#'), ('W', '0001001', 'G1110011001#'), ('W', '0001001', 'T1111010101#'), ('W', '0001001', 'T0101000111#'), ('W', '0001001', 'T0111001111#'), ('W', '0001001', 'T1101110001#'), ('W', '0001001', 'T000010101#'), ('W', '0001001', 'T0111100#'), ('W', '0001001', 'T1101111011#'), ('W', '0001001', 'U100111110#'), ('W', '0001001', 'T00110100#'), ('W', '0001001', 'T0100001#'), ('W', '0001001', 'G11110111#'), ('W', '0001001', 'U1111010011#'), ('W', '0001001', 'T1001100000#'), ('W', '0001001', 'G01100110#'), ('W', '0001001', '0101111100#'), ('W', '0001001', 'U11100101#'), ('W', '001001', '100000001#'), ('W', '0001001', '111110010#'), ('W', '0001001', '110101000#'), ('W', '0001001', '1100111101#'), ('W', '0001001', 'G1110011111#'), ('W', '0001001', 'U101101100#'), ('W', '0001001', 'U10101#'), ('W', '0001001', 'G1110000111#'), ('W', '0001001', 'T000010110#'), ('W', '0001001', 'T111111#'), ('W', '0001001', '0100000000#'), ('W', '0001001', 'U101000000#'), ('W', '0001001', 'U1011011#'), ('W', '0001001', '1110000100#'), ('W', '0001001', 'T0100001011#'), ('W', '0001001', 'G1111101101#'), ('W', '0001001', 'T010111#'), ('W', '0001001', 'T110110111#'), ('W', '0001001', 'G0100111#'), ('W', '0001001', '1100110110#'), ('W', '0001001', 'U1100101010#'), ('W', '0001001', 'U11000111#'), ('W', '0001001', '110111110#'), ('W', '001001', '111110110#'), ('W', '0001001', 'U1101110001#'), ('W', '0001001', 'T0100100011#'), ('W', '0001001', 'T110110011#'), ('W', '0001001', '1101001100#'), ('W', '0001001', 'T0111000100#'), ('W', '0001001', 'T001000000#'), ('W', '0001001', 'U1000010101#'), ('W', '001001', '10000001#'), ('W', '0001001', 'T0010111010#'), ('W', '0001001', '0100110#'), ('W', '0001001', '0101001000#'), ('W', '0001001', '01000000#'), ('W', '0001001', 'T011001010#'), ('W', '0001001', 'U1100001100#'), ('W', '0001001', 'T10110010#'), ('W', '001001', '111011100#'), ('W', '001001', '11000011#'), ('W', '0001001', '11001001#'), ('W', '0001001', '1101100000#'), ('W', '0001001', 'U1011100001#'), ('W', '0001001', 'G110110011#'), ('W', '0001001', '1100010010#'), ('W', '0001001', 'U111001011#'), ('W', '0001001', 'G011111111#'), ('W', '0001001', '0101010010#'), ('W', '0001001', 'T0111001100#'), ('W', '0001001', 'U1011010#'), ('W', '0001001', 'G110100#'), ('W', '0001001', '11100101#'), ('W', '0001001', 'T1010101000#'), ('W', '0001001', 'T1111001101#'), ('W', '0001001', 'G11100100#'), ('W', '0001001', 'G110110101#'), ('W', '0001001', 'G1111001010#'), ('W', '0001001', 'T01000011#'), ('W', '0001001', 'U110010#'), ('W', '0001001', 'T0111#'), ('W', '0001001', 'G1111111010#'), ('W', '001001', '1010001#'), ('W', '0001001', '1111100100#'), ('W', '0001001', '0111111000#'), ('W', '0001001', 'T1111111110#'), ('W', '0001001', 'T101010100#'), ('W', '0001001', 'T1101010011#'), ('W', '0001001', 'T101110001#'), ('W', '0001001', 'T0010010101#'), ('W', '0001001', 'T1100110011#'), ('W', '0001001', 'T0000100#'), ('W', '0001001', '0111110010#'), ('W', '0001001', 'T1010011111#'), ('W', '0001001', '011111001#'), ('W', '0001001', 'T011110011#'), ('W', '0001001', '11111010#'), ('W', '0001001', '1101101001#'), ('W', '0001001', 'T0110000000#'), ('W', '0001001', 'T0000010#'), ('W', '0001001', 'U1111000000#'), ('W', '0001001', 'U11000#'), ('W', '0001001', 'T0111000#'), ('W', '0001001', 'T11100011#'), ('W', '0001001', 'G0110000101#'), ('W', '0001001', 'T0100101100#'), ('W', '001001', '111111000#'), ('W', '0001001', 'T010100100#'), ('W', '0001001', 'T10011101#'), ('W', '0001001', 'U1010110001#'), ('W', '0001001', 'U110110011#'), ('W', '0001001', 'U1001101101#'), ('W', '0001001', 'T01100110#'), ('W', '0001001', 'T0110000001#'), ('W', '0001001', 'U1110111100#'), ('W', '001001', '100111110#'), ('W', '001001', '101111011#'), ('W', '001001', '101111110#'), ('W', '0001001', 'U110101#'), ('W', '0001001', '1110#'), ('W', '0001001', 'T1100111100#'), ('W', '0001001', 'T000100#'), ('W', '0001001', 'T1100110010#'), ('W', '0001001', 'T1011110100#'), ('W', '001001', '100100011#'), ('W', '0001001', 'T011011111#'), ('W', '0001001', '110100100#'), ('W', '001001', '111011111#'), ('W', '0001001', 'T1011101101#'), ('W', '0001001', 'T1101100011#'), ('W', '0001001', 'G0101101000#'), ('W', '0001001', 'U1110111001#'), ('W', '0001001', 'T0110110011#'), ('W', '0001001', '11100110#'), ('W', '0001001', 'G0100111100#'), ('W', '0001001', '1100001010#'), ('W', '0001001', 'U1110110111#'), ('W', '001001', '110011011#'), ('W', '0001001', 'T00111101#'), ('W', '0001001', 'U11110#'), ('W', '0001001', 'T00101001#'), ('W', '0001001', 'G011110010#'), ('W', '0001001', 'U1001001#'), ('W', '0001001', 'U101101001#'), ('W', '0001001', 'G01111100#'), ('W', '0001001', 'G11000110#'), ('W', '0001001', '0111011101#'), ('W', '0001001', 'U1000111011#'), ('W', '0001001', 'G01110101#'), ('W', '0001001', 'T111111000#'), ('W', '001001', '11111111#'), ('W', '0001001', 'U1100011100#'), ('W', '0001001', 'T010110110#'), ('W', '0001001', 'G11111000#'), ('W', '0001001', '0110101101#'), ('W', '0001001', 'T1111100101#'), ('W', '0001001', 'T0111011110#'), ('W', '0001001', '1111011010#'), ('W', '0001001', 'T1110100#'), ('W', '0001001', 'T1101001#'), ('W', '0001001', 'T0111010#'), ('W', '0001001', 'T1001010111#'), ('W', '0001001', 'U1011010001#'), ('W', '001001', '11010011#'), ('W', '0001001', 'T110001001#'), ('W', '0001001', 'T01110001#'), ('W', '0001001', 'T110000100#'), ('W', '0001001', 'T0011111110#'), ('W', '0001001', 'T01011100#'), ('W', '0001001', '010000011#'), ('W', '0001001', 'G1100110111#'), ('W', '0001001', 'T000110110#'), ('W', '0001001', 'T100110111#'), ('W', '0001001', 'G111110101#'), ('W', '0001001', 'T100101000#'), ('W', '0001001', 'T0101011#'), ('W', '0001001', '0110100000#'), ('W', '0001001', 'U100001110#'), ('W', '0001001', 'T001110#'), ('W', '0001001', 'G110101011#'), ('W', '0001001', '0111010001#'), ('W', '0001001', 'U110101111#'), ('W', '0001001', 'U11000010#'), ('W', '0001001', 'T1110110110#'), ('W', '0001001', 'T1101100000#'), ('W', '001001', '1101#'), ('W', '0001001', 'T1001001100#'), ('W', '0001001', 'U110111100#'), ('W', '0001001', 'G1100010011#'), ('W', '0001001', 'U110100#'), ('W', '0001001', 'U101010011#'), ('W', '0001001', '11110100#'), ('W', '0001001', 'T0111000011#'), ('W', '0001001', 'G11100000#'), ('W', '0001001', '111001001#'), ('W', '0001001', 'T001100001#'), ('W', '0001001', 'U1111101010#'), ('W', '0001001', 'T010101#'), ('W', '0001001', '0111000011#'), ('W', '0001001', 'T10001001#'), ('W', '0001001', 'G0101101101#'), ('W', '0001001', 'U100101011#'), ('W', '0001001', 'U100011111#'), ('W', '0001001', 'G111010001#'), ('W', '0001001', 'T1111000011#'), ('W', '0001001', 'T1101111100#'), ('W', '0001001', '0101001011#'), ('W', '0001001', 'G0101010000#'), ('W', '0001001', 'U1110001010#'), ('W', '0001001', 'G1101010000#'), ('W', '0001001', 'G11100110#'), ('W', '0001001', 'T1110111111#'), ('W', '0001001', 'T1100111011#'), ('W', '0001001', '11000100#'), ('W', '0001001', 'T1110100001#'), ('W', '0001001', 'U1111011011#'), ('W', '0001001', 'T1001011000#'), ('W', '0001001', 'U1001001000#'), ('W', '001001', '110101011#'), ('W', '0001001', 'U1000110#'), ('W', '0001001', 'T1001101101#'), ('W', '0001001', 'G111001110#'), ('W', '0001001', 'T1011000001#'), ('W', '0001001', 'T010110100#'), ('W', '0001001', 'T1011101110#'), ('W', '0001001', 'T00000110#'), ('W', '0001001', 'T1110100101#'), ('W', '0001001', '010010110#'), ('W', '0001001', 'G01010011#'), ('W', '0001001', 'G1101111001#'), ('W', '0001001', 'T011111110#'), ('W', '0001001', 'U1011001#'), ('W', '0001001', '01010111#'), ('W', '0001001', 'T110100100#'), ('W', '001001', '101101010#'), ('W', '0001001', 'T0100111101#'), ('W', '0001001', 'G0111111001#'), ('W', '0001001', 'T0111001000#'), ('W', '0001001', 'G0110111100#'), ('W', '0001001', 'T0011010101#'), ('W', '0001001', 'T101110101#'), ('W', '0001001', 'U11101110#'), ('W', '0001001', '0111000111#'), ('W', '0001001', 'T1010100000#'), ('W', '0001001', '1110110101#'), ('W', '0001001', 'G0100011000#'), ('W', '001001', '110100#'), ('W', '0001001', 'G0111000101#'), ('W', '0001001', 'T1010010100#'), ('W', '0001001', 'G110011000#'), ('W', '0001001', '1110001000#'), ('W', '0001001', 'T0101110#'), ('W', '0001001', 'T1110010011#'), ('W', '0001001', 'G111101#'), ('W', '0001001', 'G0110001111#'), ('W', '0001001', 'G1111100#'), ('W', '001001', '11111101#'), ('W', '0001001', 'U101101011#'), ('W', '0001001', 'G110010010#'), ('W', '0001001', 'T0010010010#'), ('W', '0001001', 'U1001010100#'), ('W', '0001001', 'U110001011#'), ('W', '0001001', '0101011101#'), ('W', '0001001', 'G1100111010#'), ('W', '0001001', 'T1000010101#'), ('W', '001001', '100111011#'), ('W', '0001001', 'T000001110#'), ('W', '0001001', 'T010001110#'), ('W', '0001001', 'U1011011111#'), ('W', '0001001', 'U1110101101#'), ('W', '0001001', 'U11001101#'), ('W', '0001001', '0101001001#'), ('W', '0001001', 'G1101100010#'), ('W', '0001001', 'T0000010011#'), ('W', '0001001', 'U11110101#'), ('W', '0001001', 'T0101111111#'), ('W', '0001001', 'T00100010#'), ('W', '0001001', 'U1011011100#'), ('W', '0001001', 'U1101011011#'), ('W', '001001', '101111111#'), ('W', '0001001', 'G010000011#'), ('W', '0001001', 'T1111011100#'), ('W', '0001001', 'T10010000#'), ('W', '0001001', 'T10000110#'), ('W', '001001', '10000101#'), ('W', '0001001', 'U10110100#'), ('W', '0001001', 'G0100100001#'), ('W', '0001001', 'T0001010100#'), ('W', '0001001', '11000110#'), ('W', '001001', '1100#'), ('W', '0001001', '110011111#'), ('W', '0001001', 'G0111110101#'), ('W', '0001001', 'T0010010011#'), ('W', '001001', '100111100#'), ('W', '0001001', '0#'), ('W', '0001001', 'G11011111#'), ('W', '0001001', 'U100100#'), ('W', '0001001', '11110#'), ('W', '0001001', 'T10101000#'), ('W', '001001', '100000#'), ('W', '0001001', 'T10011011#'), ('W', '0001001', '111101110#'), ('W', '0001001', 'T0111110#'), ('W', '0001001', '1100101111#'), ('W', '0001001', 'T1101001101#'), ('W', '0001001', '010110111#'), ('W', '0001001', 'T0110111011#'), ('W', '0001001', 'T1000100111#'), ('W', '0001001', 'G0110000100#'), ('W', '0001001', 'G1110110#'), ('W', '0001001', 'G01001101#'), ('W', '0001001', 'T1010101110#'), ('W', '0001001', 'T0100000100#'), ('W', '0001001', 'G1111011111#'), ('W', '0001001', 'G010010110#'), ('W', '0001001', 'G0111001000#'), ('W', '0001001', 'U110001101#'), ('W', '0001001', 'G1110100100#'), ('W', '0001001', '1100000001#'), ('W', '0001001', 'G011001000#'), ('W', '0001001', 'G0110010100#'), ('W', '0001001', 'G1111100110#'), ('W', '0001001', 'T1100011110#'), ('W', '0001001', 'G111010#'), ('W', '0001001', 'U110110111#'), ('W', '0001001', 'U1110010110#'), ('W', '001001', '11100#'), ('W', '0001001', 'T1001100010#'), ('W', '0001001', '0110110100#'), ('W', '0001001', '11010010#'), ('W', '0001001', 'U11001100#'), ('W', '0001001', 'T110011100#'), ('W', '0001001', 'G1111100001#'), ('W', '0001001', 'T0101100100#'), ('W', '0001001', 'T010001000#'), ('W', '0001001', 'T110100111#'), ('W', '001001', '101010100#'), ('W', '001001', '111001011#'), ('W', '0001001', 'G1100000110#'), ('W', '0001001', 'T0101111110#'), ('W', '0001001', 'T010011111#'), ('W', '0001001', 'G11001101#'), ('W', '0001001', '011010001#'), ('W', '0001001', 'T00001010#'), ('W', '0001001', 'U101111#'), ('W', '0001001', 'G1110111010#'), ('W', '0001001', 'U1011111110#'), ('W', '0001001', 'T111110111#'), ('W', '0001001', 'T0011110010#'), ('W', '0001001', '110001001#'), ('W', '0001001', 'U1101001100#'), ('W', '0001001', '110010101#'), ('W', '0001001', '1110010111#'), ('W', '0001001', 'G010101011#'), ('W', '0001001', 'T110111101#'), ('W', '001001', '11100001#'), ('W', '0001001', 'T1100010010#'), ('W', '0001001', 'U100110100#'), ('W', '001001', '1001011#'), ('W', '0001001', 'G0100110001#'), ('W', '0001001', 'T101101010#'), ('W', '0001001', '110101100#'), ('W', '0001001', '1111001110#'), ('W', '0001001', 'T111011011#'), ('W', '0001001', 'G1110011110#'), ('W', '0001001', '1100010111#'), ('W', '0001001', 'U11110001#'), ('W', '0001001', '1111000#'), ('W', '0001001', '1111110#'), ('W', '0001001', '0110101100#'), ('W', '0001001', 'T0110000110#'), ('W', '0001001', '1110101111#'), ('W', '0001001', 'U1110000#'), ('W', '0001001', 'G11001000#'), ('W', '0001001', 'U111000000#'), ('W', '001001', '111110011#'), ('W', '0001001', 'G0100000000#'), ('W', '0001001', 'G0101000100#'), ('W', '0001001', 'G1110110010#'), ('W', '0001001', 'U1010110110#'), ('W', '0001001', 'U1100100#'), ('W', '0001001', 'G0101000101#'), ('W', '0001001', 'T0011110000#'), ('W', '0001001', '1110100100#'), ('W', '0001001', 'G010111#'), ('W', '0001001', '0101100101#'), ('W', '0001001', 'U100100101#'), ('W', '0001001', '0111100110#'), ('W', '0001001', 'G11000101#'), ('W', '0001001', 'G010000000#'), ('W', '0001001', '0101111#'), ('W', '001001', '100000100#'), ('W', '0001001', 'U110000111#'), ('W', '0001001', 'U1100100000#'), ('W', '0001001', 'U11011100#'), ('W', '0001001', 'G0110100111#'), ('W', '0001001', 'T10111100#'), ('W', '0001001', '1100110000#'), ('W', '0001001', 'T0001100000#'), ('W', '0001001', 'U1100011101#'), ('W', '0001001', 'T1111001100#'), ('W', '0001001', '0101000101#'), ('W', '0001001', 'T0100111000#'), ('W', '0001001', '010100#'), ('W', '001001', '11100010#'), ('W', '001001', '110101001#'), ('W', '0001001', '0100111101#'), ('W', '0001001', 'G0110000111#'), ('W', '0001001', 'U110011010#'), ('W', '0001001', 'T100101111#'), ('W', '0001001', 'T1110001001#'), ('W', '0001001', 'U1111001101#'), ('W', '0001001', 'U1110110011#'), ('W', '0001001', 'U1010011010#'), ('W', '0001001', '1101001111#'), ('W', '001001', '101100011#'), ('W', '0001001', 'G010101#'), ('W', '0001001', 'U10111100#'), ('W', '0001001', 'T0011000111#'), ('W', '0001001', 'U100111000#'), ('W', '0001001', 'T110111111#'), ('W', '0001001', 'T101011100#'), ('W', '001001', '110101111#'), ('W', '0001001', '0100111010#'), ('W', '0001001', 'G1110100011#'), ('W', '0001001', 'G110110110#'), ('W', '0001001', '1111111000#'), ('W', '0001001', 'G010101111#'), ('W', '0001001', 'T1010000011#'), ('W', '0001001', 'U101000101#'), ('W', '0001001', 'T1000111010#'), ('W', '001001', '110110101#'), ('W', '0001001', 'G11111110#'), ('W', '0001001', 'T0110100#'), ('W', '001001', '100010110#'), ('W', '0001001', '111100100#'), ('W', '0001001', 'T111001#'), ('W', '0001001', 'G0111#'), ('W', '0001001', '01110111#'), ('W', '0001001', 'G0110011010#'), ('W', '0001001', '010111010#'), ('W', '0001001', 'T011010011#'), ('W', '0001001', 'U1011101101#'), ('W', '0001001', 'U111000010#'), ('W', '0001001', 'T1101000111#'), ('W', '0001001', 'U100100111#'), ('W', '0001001', 'G1111000001#'), ('W', '001001', '10111101#'), ('W', '0001001', '110111#'), ('W', '0001001', 'G0111101001#'), ('W', '0001001', 'G0101011001#'), ('W', '0001001', 'T0010110010#'), ('W', '0001001', 'T000000000#'), ('W', '0001001', 'T100001100#'), ('W', '0001001', '1101011010#'), ('W', '0001001', 'G11101000#'), ('W', '0001001', 'T0010001010#'), ('W', '0001001', '0111010010#'), ('W', '0001001', 'T11000#'), ('W', '0001001', 'G01001000#'), ('W', '0001001', 'G1101111010#'), ('W', '0001001', 'G11001100#'), ('W', '0001001', 'U1101001011#'), ('W', '0001001', 'T0010001001#'), ('W', '0001001', 'T11011#'), ('W', '0001001', '1100101001#'), ('W', '0001001', '010101110#'), ('W', '001001', '1100001#'), ('W', '0001001', '01100000#'), ('W', '0001001', 'T1011001010#'), ('W', '0001001', 'T0001111011#'), ('W', '001001', '101000001#'), ('W', '0001001', 'T0000110011#'), ('W', '0001001', '010011100#'), ('W', '0001001', '011100011#'), ('W', '0001001', 'T1110000000#'), ('W', '0001001', 'T111010011#'), ('W', '0001001', 'G0101001000#'), ('W', '001001', '10101111#'), ('W', '0001001', 'U101011101#'), ('W', '0001001', 'T1000101111#'), ('W', '0001001', 'T010110001#'), ('W', '0001001', '0101001#'), ('W', '0001001', 'T1000010111#'), ('W', '0001001', 'U100101111#'), ('W', '0001001', 'T01101011#'), ('W', '0001001', '1111000111#'), ('W', '0001001', '01011000#'), ('W', '0001001', 'G11000001#'), ('W', '0001001', 'U1001010000#'), ('W', '0001001', 'T0000001110#'), ('W', '0001001', 'G111010111#'), ('W', '0001001', '111110111#'), ('W', '0001001', 'U1010111000#'), ('W', '001001', '11000101#'), ('W', '0001001', 'T1101111110#'), ('W', '0001001', 'G01011100#'), ('W', '0001001', 'U1100111001#'), ('W', '0001001', 'G11100101#'), ('W', '0001001', 'T111000101#'), ('W', '0001001', 'T1110111#'), ('W', '0001001', 'U110110110#'), ('W', '0001001', 'U101001011#'), ('W', '0001001', '110101010#'), ('W', '0001001', 'U1101101000#'), ('W', '0001001', '1100001110#'), ('W', '0001001', '1#'), ('W', '0001001', '1110000000#'), ('W', '0001001', 'T1010110100#'), ('W', '0001001', 'T1111111000#'), ('W', '0001001', 'T0111001101#'), ('W', '0001001', 'G0110010#'), ('W', '0001001', '1101101010#'), ('W', '0001001', 'G011001111#'), ('W', '0001001', '0110011011#'), ('W', '0001001', 'T1100010001#'), ('W', '0001001', 'U1110100001#'), ('W', '0001001', 'U1100011001#'), ('W', '0001001', 'U1100011#'), ('W', '0001001', 'G0110110000#'), ('W', '0001001', 'T110000#'), ('W', '0001001', '0100101101#'), ('W', '001001', '100001000#'), ('W', '0001001', 'T1010001100#'), ('W', '0001001', 'U1000100001#'), ('W', '0001001', 'G0100110100#'), ('W', '0001001', 'U1001011100#'), ('W', '0001001', 'T0111000110#'), ('W', '0001001', 'T00011000#'), ('W', '0001001', 'U101001000#'), ('W', '0001001', '01010#'), ('W', '0001001', 'T1101110101#'), ('W', '0001001', '0111101100#'), ('W', '0001001', 'G010000110#'), ('W', '0001001', 'T1100010011#'), ('W', '0001001', 'U1110101100#'), ('W', '0001001', 'G1110101010#'), ('W', '0001001', 'T10110011#'), ('W', '0001001', 'U1101000110#'), ('W', '0001001', 'T01111111#'), ('W', '0001001', 'G0100111011#'), ('W', '0001001', 'T100101110#'), ('W', '0001001', 'T10101010#'), ('W', '0001001', 'G011000001#'), ('W', '0001001', 'T11110011#'), ('W', '0001001', '0110111100#'), ('W', '0001001', '0100010101#'), ('W', '0001001', 'G11000011#'), ('W', '0001001', '0101#'), ('W', '001001', '101010011#'), ('W', '0001001', 'U100101#'), ('W', '0001001', 'T001001001#'), ('W', '0001001', 'G0111101011#'), ('W', '0001001', '01001100#'), ('W', '0001001', '1110011010#'), ('W', '0001001', 'U1011100100#'), ('W', '0001001', 'T0111011000#'), ('W', '0001001', 'G1101110000#'), ('W', '0001001', 'T1000010011#'), ('W', '0001001', 'T10110100#'), ('W', '0001001', 'T01011011#'), ('W', '0001001', 'U1011110#'), ('W', '0001001', 'T1111111010#'), ('W', '0001001', 'T1110000101#'), ('W', '0001001', 'G011010100#'), ('W', '0001001', '110111001#'), ('W', '0001001', 'T101000010#'), ('W', '0001001', '01000101#'), ('W', '0001001', '11110010#'), ('W', '001001', '1000010#'), ('W', '0001001', 'T1111011110#'), ('W', '0001001', '1101110000#'), ('W', '001001', '11100101#'), ('W', '0001001', 'T1011101100#'), ('W', '0001001', 'T1001000010#'), ('W', '001001', '101100101#'), ('W', '0001001', 'T1001110000#'), ('W', '0001001', 'T100111101#'), ('W', '0001001', 'T110001100#'), ('W', '0001001', 'T00101100#'), ('W', '0001001', '0110010#'), ('W', '0001001', 'T1101011011#'), ('W', '0001001', '0111000010#'), ('W', '0001001', 'T000010#'), ('W', '0001001', 'G1101010101#'), ('W', '001001', '1001010#'), ('W', '001001', '11111010#'), ('W', '0001001', '0101000110#'), ('W', '0001001', 'T10100111#'), ('W', '0001001', 'T1000110010#'), ('W', '0001001', 'T0101000110#'), ('W', '0001001', 'T0111010011#'), ('W', '0001001', 'T0001100111#'), ('W', '0001001', '1101110001#'), ('W', '0001001', '0111111#'), ('W', '0001001', 'T0100011#'), ('W', '0001001', '111100111#'), ('W', '0001001', 'T1000010100#'), ('W', '0001001', 'T1010001011#'), ('W', '0001001', 'G111000100#'), ('W', '0001001', 'G0110110#'), ('W', '0001001', 'T101011101#'), ('W', '0001001', 'T1010100111#'), ('W', '0001001', 'G11001011#'), ('W', '0001001', 'T1110011#'), ('W', '0001001', 'T1010000100#'), ('W', '0001001', '01110010#'), ('W', '0001001', 'G0100101010#'), ('W', '0001001', '1110001001#'), ('W', '001001', '1010011#'), ('W', '0001001', 'T0101000001#'), ('W', '0001001', 'U100111011#'), ('W', '0001001', 'T1000000111#'), ('W', '001001', '10111110#'), ('W', '0001001', '1100111000#'), ('W', '001001', '110100100#'), ('W', '0001001', 'G1100111111#'), ('W', '001001', '101000011#'), ('W', '0001001', '1111010111#'), ('W', '001001', '11100110#'), ('W', '0001001', 'T11001000#'), ('W', '0001001', 'U10011101#'), ('W', '0001001', 'T0001010101#'), ('W', '0001001', '1100100#'), ('W', '0001001', 'G01110010#'), ('W', '0001001', '1100001000#'), ('W', '0001001', '0100111100#'), ('W', '0001001', 'T0000111000#'), ('W', '0001001', 'G1101010100#'), ('W', '0001001', 'T0101001001#'), ('W', '0001001', 'G1110010010#'), ('W', '0001001', 'U1110001111#'), ('W', '0001001', 'U101011010#'), ('W', '0001001', 'T001110011#'), ('W', '001001', '100110001#'), ('W', '0001001', 'G01010100#'), ('W', '001001', '1000111#'), ('W', '0001001', 'T0001010000#'), ('W', '0001001', 'U1111000100#'), ('W', '0001001', 'T1101101001#'), ('W', '0001001', 'T001101000#'), ('W', '0001001', 'T001101011#'), ('W', '0001001', '1100010100#'), ('W', '0001001', 'G110001000#'), ('W', '0001001', 'T1010110011#'), ('W', '0001001', 'G0100101110#'), ('W', '0001001', 'T0110000101#'), ('W', '0001001', '1101010000#'), ('W', '0001001', 'T1001011100#'), ('W', '001001', '10101100#'), ('W', '0001001', '0111011000#'), ('W', '0001001', 'T000011000#'), ('W', '0001001', 'T1001101110#'), ('W', '0001001', '110000#'), ('W', '0001001', 'T0010011001#'), ('W', '0001001', 'T0010000011#'), ('W', '0001001', 'T1010101011#'), ('W', '0001001', '0100110100#'), ('W', '0001001', '01110110#'), ('W', '0001001', 'U110110100#'), ('W', '0001001', 'T0011001101#'), ('W', '001001', '1010#'), ('W', '0001001', '0110000001#'), ('W', '0001001', 'T000010000#'), ('W', '0001001', '011100000#'), ('W', '001001', '101111001#'), ('W', '0001001', 'G111111001#'), ('W', '0001001', 'T01010000#'), ('W', '0001001', '011010011#'), ('W', '0001001', 'G0101101001#'), ('W', '0001001', 'T1110101001#'), ('W', '0001001', 'T1010010011#'), ('W', '0001001', '1110110000#'), ('W', '0001001', 'T00101101#'), ('W', '0001001', 'T1011110111#'), ('W', '0001001', 'T010011100#'), ('W', '0001001', '1110111110#'), ('W', '0001001', 'T100011001#'), ('W', '0001001', '010010101#'), ('W', '0001001', 'U1011110010#'), ('W', '0001001', '010001111#'), ('W', '0001001', 'T000100101#'), ('W', '0001001', 'T1101000010#'), ('W', '001001', '111001001#'), ('W', '0001001', 'G011111110#'), ('W', '0001001', '110011100#'), ('W', '0001001', '0111010100#'), ('W', '0001001', 'T1110011011#'), ('W', '0001001', 'T0001001#'), ('W', '0001001', '0100001100#'), ('W', '0001001', 'G1111100100#'), ('W', '001001', '1001110#'), ('W', '0001001', 'G0101111110#'), ('W', '0001001', 'U11100011#'), ('W', '0001001', 'T11000111#'), ('W', '0001001', '1100100000#'), ('W', '0001001', 'U1111111#'), ('W', '0001001', 'G110010111#'), ('W', '0001001', 'G0101000011#'), ('W', '0001001', 'G1101111110#'), ('W', '0001001', 'T101111101#'), ('W', '0001001', '0110110101#'), ('W', '0001001', 'T0100000001#'), ('W', '001001', '11000100#'), ('W', '0001001', 'U1111110101#'), ('W', '0001001', 'G111111100#'), ('W', '0001001', 'U101111110#'), ('W', '0001001', 'G010110111#'), ('W', '0001001', 'T00110001#'), ('W', '0001001', 'G011101000#'), ('W', '0001001', '0101101111#'), ('W', '0001001', '0100010111#'), ('W', '0001001', 'T0011#'), ('W', '0001001', '0110010111#'), ('W', '0001001', 'U1111001011#'), ('W', '0001001', '01111010#'), ('W', '001001', '100011111#'), ('W', '0001001', 'U1000000011#'), ('W', '001001', '10101010#'), ('W', '0001001', 'T111000010#'), ('W', '0001001', 'T000111#'), ('W', '0001001', '1110000110#'), ('W', '0001001', 'T0111111001#'), ('W', '0001001', 'T0101010000#'), ('W', '0001001', 'U100001#'), ('W', '0001001', 'T100110100#'), ('W', '0001001', 'U110111010#'), ('W', '0001001', 'T10000000#'), ('W', '0001001', 'T10111101#'), ('W', '0001001', 'G0101101110#'), ('W', '0001001', 'T0100100100#'), ('W', '0001001', 'T0111111000#'), ('W', '0001001', 'U1111001110#'), ('W', '0001001', 'T1101011101#'), ('W', '0001001', 'G0110101#'), ('W', '0001001', 'T0101010011#'), ('W', '0001001', 'G011110000#'), ('W', '001001', '101#'), ('W', '0001001', '01100010#'), ('W', '0001001', 'U1111101000#'), ('W', '0001001', 'G1111100010#'), ('W', '0001001', 'T011111000#'), ('W', '0001001', 'U10101101#'), ('W', '0001001', 'U1111000010#'), ('W', '001001', '101110010#'), ('W', '0001001', 'U11110010#'), ('W', '0001001', 'T0111001011#'), ('W', '0001001', 'T001101#'), ('W', '0001001', 'U11101#'), ('W', '0001001', 'T011101110#'), ('W', '0001001', 'U101100111#'), ('W', '0001001', 'G111100001#'), ('W', '0001001', 'G1101111100#'), ('W', '0001001', 'G1110101111#'), ('W', '0001001', 'T0011010010#'), ('W', '001001', '101111000#'), ('W', '0001001', 'T10101011#'), ('W', '0001001', 'T01001#'), ('W', '0001001', '11010000#'), ('W', '0001001', '1101111001#'), ('W', '0001001', 'U1111100100#'), ('W', '0001001', 'T0000011010#'), ('W', '0001001', 'T001011110#'), ('W', '0001001', '0101110110#'), ('W', '0001001', 'U1001111000#'), ('W', '0001001', 'T01110110#'), ('W', '0001001', 'U100010111#'), ('W', '001001', '11000110#'), ('W', '0001001', 'G0111010000#'), ('W', '001001', '110011111#'), ('W', '0001001', 'T1000001001#'), ('W', '0001001', '0110010001#'), ('W', '0001001', 'U1111100111#'), ('W', '0001001', 'T1110110001#'), ('W', '0001001', 'T001110111#'), ('W', '0001001', '0100110001#'), ('W', '0001001', 'U111101100#'), ('W', '0001001', 'U100001111#'), ('W', '0001001', 'G0111000110#'), ('W', '0001001', 'G011100111#'), ('W', '0001001', '110111111#'), ('W', '001001', '111101110#'), ('W', '001001', '101110101#'), ('W', '0001001', 'U10001101#'), ('W', '0001001', 'T101010000#'), ('W', '0001001', 'G0110100011#'), ('W', '0001001', 'T0110101111#'), ('W', '0001001', '01100#'), ('W', '0001001', '010111110#'), ('W', '0001001', 'U1111100#'), ('W', '0001001', 'T1111000000#'), ('W', '0001001', '01011011#'), ('W', '0001001', 'U1010110#'), ('W', '0001001', 'G0100010011#'), ('W', '0001001', 'G0110110001#'), ('W', '0001001', 'G01011101#'), ('W', '0001001', 'T110000110#'), ('W', '0001001', 'T0111100010#'), ('W', '0001001', '1101011011#'), ('W', '0001001', 'U101100000#'), ('W', '0001001', 'T1011100101#'), ('W', '0001001', '0111101011#'), ('W', '0001001', 'G0110010011#'), ('W', '0001001', 'T10000100#'), ('W', '0001001', 'G111100#'), ('W', '0001001', 'G1111011101#'), ('W', '0001001', 'U11001001#'), ('W', '0001001', 'U1110100#'), ('W', '0001001', 'U1011000001#'), ('W', '0001001', 'U1010010110#'), ('W', '0001001', 'T100111000#'), ('W', '0001001', 'T1101001111#'), ('W', '0001001', 'U110010000#'), ('W', '0001001', 'T000110101#'), ('W', '0001001', 'T101111111#'), ('W', '001001', '100001010#'), ('W', '0001001', 'G1101011#'), ('W', '0001001', 'G1110001011#'), ('W', '001001', '11010010#'), ('W', '0001001', '0111010#'), ('W', '0001001', 'T0010101010#'), ('W', '0001001', 'U111110001#'), ('W', '0001001', 'G0111110001#'), ('W', '0001001', 'G1111001001#'), ('W', '0001001', 'T01011000#'), ('W', '0001001', 'U1010001#'), ('W', '0001001', 'T0011000010#'), ('W', '0001001', 'U1011100010#'), ('W', '0001001', 'T1010000110#'), ('W', '0001001', 'T010000010#'), ('W', '0001001', 'G1110110100#'), ('W', '0001001', 'G1111110100#'), ('W', '0001001', 'T1001100111#'), ('W', '0001001', 'T010001010#'), ('W', '0001001', '01010001#'), ('W', '0001001', '1101111011#'), ('W', '0001001', 'G0100111001#'), ('W', '001001', '110001001#'), ('W', '0001001', 'G0101100111#'), ('W', '001001', '110010101#'), ('W', '0001001', 'G010001001#'), ('W', '0001001', 'G111101101#'), ('W', '0001001', 'U1111101#'), ('W', '0001001', '0110101000#'), ('W', '001001', '10101#'), ('W', '0001001', 'U1100111101#'), ('W', '0001001', 'T01#'), ('W', '001001', '1000011#'), ('W', '0001001', 'T0110100001#'), ('W', '0001001', 'G0110011001#'), ('W', '0001001', 'T1111001001#'), ('W', '0001001', 'T0111101010#'), ('W', '0001001', 'G0110111110#'), ('W', '0001001', 'T11000000#'), ('W', '0001001', 'T0010001100#'), ('W', '0001001', 'T0010110001#'), ('W', '0001001', '1100100101#'), ('W', '001001', '1111000#'), ('W', '0001001', '0111110111#'), ('W', '0001001', 'T1000111011#'), ('W', '0001001', 'T100000100#'), ('W', '0001001', '011101000#'), ('W', '001001', '10011000#'), ('W', '0001001', 'U1110101010#'), ('W', '0001001', 'T1010100101#'), ('W', '0001001', 'T0110010000#'), ('W', '0001001', 'T1101000001#'), ('W', '0001001', 'G01000110#'), ('W', '0001001', 'T1011100110#'), ('W', '0001001', 'T101100000#'), ('W', '0001001', 'G110010#'), ('W', '0001001', 'G1101001#'), ('W', '0001001', 'T1101111010#'), ('W', '0001001', 'T1101000100#'), ('W', '0001001', '11101111#'), ('W', '0001001', 'T1010010001#'), ('W', '0001001', 'G110011001#'), ('W', '0001001', 'T1110001011#'), ('W', '0001001', '0100011111#'), ('W', '0001001', '11000#'), ('W', '0001001', 'T1100111010#'), ('W', '0001001', 'T1100110100#'), ('W', '0001001', '1100010#'), ('W', '0001001', '0100111111#'), ('W', '0001001', 'G110001010#'), ('W', '0001001', 'T1111110001#'), ('W', '0001001', '0110100011#'), ('W', '0001001', 'T1100001001#'), ('W', '0001001', '0100010100#'), ('W', '0001001', 'U1100000101#'), ('W', '0001001', 'G0111100100#'), ('W', '0001001', 'T010011000#'), ('W', '0001001', '110100111#'), ('W', '0001001', 'T001101111#'), ('W', '0001001', 'T1101011100#'), ('W', '0001001', 'T1101100010#'), ('W', '0001001', 'U1111010110#'), ('W', '0001001', 'T100111111#'), ('W', '0001001', '1101000101#'), ('W', '0001001', 'T000011#'), ('W', '0001001', 'T010111110#'), ('W', '0001001', 'T1111011001#'), ('W', '0001001', 'U111110111#'), ('W', '0001001', 'T0000101#'), ('W', '0001001', 'U1110111111#'), ('W', '0001001', 'U11111100#'), ('W', '0001001', 'U1010101101#'), ('W', '0001001', 'G011101001#'), ('W', '0001001', '010001010#'), ('W', '0001001', '1110011000#'), ('W', '0001001', 'U110011#'), ('W', '0001001', '0101100110#'), ('W', '0001001', '1111110101#'), ('W', '0001001', 'U101000#'), ('W', '0001001', '110011101#'), ('W', '0001001', 'U1101010100#'), ('W', '0001001', '1101111#'), ('W', '0001001', 'T111001010#'), ('W', '0001001', 'T111010#'), ('W', '0001001', '0100011011#'), ('W', '0001001', '1111101010#'), ('W', '001001', '110101110#'), ('W', '0001001', 'U100110111#'), ('W', '0001001', 'T001100010#'), ('W', '0001001', 'U1100110101#'), ('W', '0001001', 'T111111110#'), ('W', '0001001', '111110001#'), ('W', '0001001', 'T10001100#'), ('W', '0001001', 'G0110111#'), ('W', '0001001', '1110111101#'), ('W', '001001', '10010001#'), ('W', '0001001', 'G1100101001#'), ('W', '0001001', 'U110110001#'), ('W', '0001001', 'T0100000011#'), ('W', '0001001', '1101011#'), ('W', '0001001', 'T1100101#'), ('W', '0001001', 'U1011000110#'), ('W', '0001001', 'T1010001010#'), ('W', '0001001', 'G11001010#'), ('W', '0001001', 'U1110010101#'), ('W', '0001001', 'U1011011000#'), ('W', '0001001', 'T10101111#'), ('W', '0001001', '0110011001#'), ('W', '0001001', 'U10000111#'), ('W', '0001001', 'G1101001100#'), ('W', '0001001', '11111011#'), ('W', '0001001', 'T0111110111#'), ('W', '0001001', '11001111#'), ('W', '0001001', 'T0011100011#'), ('W', '0001001', 'U11110100#'), ('W', '0001001', 'T0010101#'), ('W', '0001001', 'U1110100010#'), ('W', '0001001', 'G1100100010#'), ('W', '0001001', 'G1100001000#'), ('W', '0001001', 'U1010101011#'), ('W', '0001001', 'T000101110#'), ('W', '0001001', 'T1111101#'), ('W', '0001001', 'T0111010010#'), ('W', '0001001', 'U1000111100#'), ('W', '0001001', 'T111001100#'), ('W', '0001001', 'T100110000#'), ('W', '0001001', 'T0000110#'), ('W', '001001', '100011011#'), ('W', '0001001', 'U111001010#'), ('W', '0001001', 'G110011101#'), ('W', '0001001', 'U1111111011#'), ('W', '0001001', '01110011#'), ('W', '0001001', 'U1000111000#'), ('W', '0001001', 'T1001001011#'), ('W', '001001', '111110111#'), ('W', '0001001', '11111001#'), ('W', '0001001', 'G110011110#'), ('W', '0001001', 'U1100011111#'), ('W', '0001001', 'T1110010110#'), ('W', '0001001', 'T001001000#'), ('W', '0001001', 'T000001011#'), ('W', '0001001', '1111110001#'), ('W', '0001001', 'T00100#'), ('W', '0001001', 'U101110000#'), ('W', '0001001', 'G11000111#'), ('W', '0001001', 'G0101100010#'), ('W', '001001', '111#'), ('W', '001001', '1#'), ('W', '0001001', 'T011010010#'), ('W', '0001001', 'U11000110#'), ('W', '0001001', 'U1100010111#'), ('W', '0001001', 'T110010010#'), ('W', '0001001', 'T0011111010#'), ('W', '0001001', '011011110#'), ('W', '0001001', '0101011001#'), ('W', '0001001', '011101111#'), ('F', '001001', '#'), ('W', '0001001', 'T1111101100#'), ('W', '0001001', 'T100010011#'), ('W', '0001001', 'T1001010011#'), ('W', '0001001', 'U1110011100#'), ('W', '0001001', 'T011000111#'), ('W', '0001001', 'T1111010#'), ('W', '0001001', '011110#'), ('W', '0001001', 'T0011001100#'), ('W', '0001001', 'T0001100011#'), ('W', '0001001', 'U1010010000#'), ('W', '0001001', 'U1100101#'), ('W', '0001001', '01001#'), ('W', '0001001', 'U1101000010#'), ('W', '0001001', 'G010011101#'), ('W', '0001001', 'T0101111#'), ('W', '0001001', 'U1101111111#'), ('W', '0001001', 'T0111000010#'), ('W', '0001001', 'G1101111111#'), ('W', '0001001', 'G1101110010#'), ('W', '0001001', 'G1100011110#'), ('W', '0001001', 'G010001011#'), ('W', '0001001', 'T01110100#'), ('W', '0001001', 'T1001111#'), ('W', '0001001', 'G0101100100#'), ('W', '001001', '101111#'), ('W', '001001', '111111#'), ('W', '0001001', 'T0011100000#'), ('W', '001001', '101111100#'), ('W', '0001001', 'G1101101011#'), ('W', '0001001', 'G1101000110#'), ('W', '0001001', '110111000#'), ('W', '0001001', 'U111111011#'), ('W', '0001001', 'U11100001#'), ('W', '0001001', 'G010011000#'), ('W', '001001', '100010011#'), ('W', '0001001', 'U111000011#'), ('W', '0001001', 'G0111101#'), ('W', '0001001', 'U1111000001#'), ('W', '0001001', '010010011#'), ('W', '0001001', 'T1100110101#'), ('W', '0001001', '1111010010#'), ('W', '001001', '111011001#'), ('W', '0001001', 'T1010#'), ('W', '0001001', '1110011011#'), ('W', '0001001', 'G1101001101#'), ('W', '0001001', 'T011111001#'), ('W', '0001001', 'T00011110#'), ('W', '0001001', 'G1111010#'), ('W', '0001001', 'U101111000#'), ('W', '0001001', 'T110110110#'), ('W', '0001001', '0101001010#'), ('W', '0001001', 'G1101001000#'), ('W', '0001001', '1101000010#'), ('W', '0001001', 'U1110110000#'), ('W', '0001001', 'U10000001#'), ('W', '0001001', 'T10010111#'), ('W', '0001001', 'T110001101#'), ('W', '0001001', 'T1100110110#'), ('W', '0001001', '110010100#'), ('W', '0001001', 'T1101000101#'), ('W', '0001001', '011001101#'), ('W', '0001001', 'T1011101000#'), ('W', '0001001', '111100#'), ('W', '0001001', 'T11111100#'), ('W', '0001001', 'G1111001100#'), ('W', '0001001', 'T0000110110#'), ('W', '0001001', '11011110#'), ('W', '0001001', 'U10100111#'), ('W', '0001001', 'T1000#'), ('W', '001001', '110111001#'), ('W', '0001001', 'T111110#'), ('W', '0001001', 'T011100101#'), ('W', '0001001', 'G0100001010#'), ('W', '001001', '11110010#'), ('W', '0001001', 'T0111111010#'), ('W', '0001001', 'T10010001#'), ('W', '0001001', 'T0101100101#'), ('W', '0001001', 'T110110001#'), ('W', '0001001', 'G1100111110#'), ('W', '0001001', 'U110100100#'), ('W', '0001001', 'G1100100111#'), ('W', '0001001', 'T0001011101#'), ('W', '0001001', '0100011110#'), ('W', '001001', '10111111#'), ('W', '001001', '11111110#'), ('W', '0001001', 'T1101000110#'), ('W', '0001001', 'T0010111110#'), ('W', '0001001', '0101101101#'), ('W', '0001001', '1111111011#'), ('W', '0001001', 'G0100110111#'), ('W', '001001', '10110011#'), ('W', '0001001', 'T0001110#'), ('W', '0001001', 'G0111111010#'), ('W', '0001001', 'T111001101#'), ('W', '0001001', 'G1111011000#'), ('W', '001001', '100100001#'), ('W', '0001001', '0111111110#'), ('W', '0001001', 'T010111000#'), ('W', '0001001', 'U1010011000#'), ('W', '0001001', 'G0100110#'), ('W', '001001', '111100111#'), ('W', '0001001', 'U101110110#'), ('W', '0001001', 'T11010110#'), ('W', '0001001', '0101100100#'), ('W', '0001001', 'U110000011#'), ('W', '0001001', 'G0100100010#'), ('W', '0001001', 'T101110100#'), ('W', '0001001', 'T00100011#'), ('W', '0001001', '0111011001#'), ('W', '0001001', 'G1111111101#'), ('W', '0001001', 'T100000011#'), ('W', '0001001', 'G110000001#'), ('W', '0001001', 'T001101001#'), ('W', '0001001', '0101110010#'), ('W', '0001001', 'T0001010#'), ('W', '0001001', 'T100101#'), ('W', '0001001', 'U1000001010#'), ('W', '0001001', 'T110100011#'), ('W', '001001', '100010000#'), ('W', '001001', '101110110#'), ('W', '001001', '100010101#'), ('W', '0001001', 'G01101001#'), ('W', '0001001', '0100101010#'), ('W', '0001001', 'T000100011#'), ('W', '0001001', 'T11010000#'), ('W', '0001001', 'G010000001#'), ('W', '0001001', 'T1000100010#'), ('W', '0001001', '0100010000#'), ('W', '0001001', 'T000000011#'), ('W', '0001001', 'U1100000010#'), ('W', '0001001', 'U10101100#'), ('W', '0001001', '011001011#'), ('W', '0001001', '1100001111#'), ('W', '0001001', 'T0000101000#'), ('W', '0001001', '1100011#'), ('W', '0001001', 'G01110110#'), ('W', '0001001', 'U1100010011#'), ('W', '0001001', 'G1101101000#'), ('W', '0001001', 'G011011100#'), ('W', '0001001', 'T0100111#'), ('W', '0001001', 'T00000100#'), ('W', '0001001', 'T000111110#'), ('W', '0001001', 'G0111101000#'), ('W', '0001001', '0100101000#'), ('W', '0001001', 'T0001110101#'), ('W', '0001001', 'U1110#'), ('W', '0001001', '01101010#'), ('W', '0001001', 'T000000#'), ('W', '0001001', 'U1010001011#'), ('W', '001001', '111001110#'), ('W', '0001001', 'G1100001010#'), ('W', '001001', '110000#'), ('W', '0001001', 'T010100110#'), ('W', '001001', '100101000#'), ('W', '0001001', 'T11#'), ('W', '0001001', 'G011000010#'), ('W', '0001001', 'U1000100000#'), ('W', '0001001', 'G1100001110#'), ('W', '0001001', 'U1001011101#'), ('W', '0001001', 'T1000010001#'), ('W', '0001001', 'G1111110011#'), ('W', '0001001', 'T001011001#'), ('W', '0001001', '0110#'), ('W', '0001001', 'G1100111100#'), ('W', '0001001', '0101010#'), ('W', '0001001', '1111011110#'), ('W', '001001', '1001101#'), ('W', '0001001', '011101110#'), ('W', '0001001', 'U111111100#'), ('W', '0001001', 'T010100111#'), ('W', '001001', '1111001#'), ('W', '0001001', 'T0010101101#'), ('W', '0001001', 'T10001110#'), ('W', '001001', '110011100#'), ('W', '0001001', 'G1101110111#'), ('W', '0001001', '111100001#'), ('W', '0001001', 'T0100#'), ('W', '0001001', '110100101#'), ('W', '0001001', 'U100100100#'), ('W', '0001001', '110110110#'), ('W', '0001001', 'T1111110000#'), ('W', '0001001', 'T1010111100#'), ('W', '0001001', 'T0101101101#'), ('W', '0001001', 'U1011011101#'), ('W', '0001001', 'T0010000111#'), ('W', '0001001', 'T0010010111#'), ('W', '0001001', 'U1110000100#'), ('W', '0001001', 'G010011#'), ('W', '0001001', 'T1000110001#'), ('W', '0001001', 'G1110111101#'), ('W', '001001', '10010000#'), ('W', '0001001', 'G0111001010#'), ('W', '0001001', 'T01100111#'), ('W', '0001001', 'T110110100#'), ('W', '0001001', 'T0010100000#'), ('W', '0001001', 'G1111000000#'), ('W', '0001001', '010001000#'), ('W', '0001001', 'T001100100#'), ('W', '0001001', 'T0110110001#'), ('W', '0001001', 'T1001011#'), ('W', '0001001', 'T10001011#'), ('W', '0001001', 'G0111000100#'), ('W', '0001001', '011101011#'), ('W', '0001001', 'T0110101000#'), ('W', '0001001', 'G11111111#'), ('W', '0001001', 'U1001100101#'), ('W', '0001001', '011000100#'), ('W', '0001001', '1111000100#'), ('W', '0001001', 'G011011101#'), ('W', '0001001', 'T0101000#'), ('W', '0001001', 'T0100111010#'), ('W', '0001001', 'G010100101#'), ('W', '0001001', 'T01110000#'), ('W', '001001', '1001#'), ('W', '0001001', 'G1111110110#'), ('W', '0001001', 'T1000101101#'), ('W', '0001001', 'T0011110110#'), ('W', '0001001', 'T0100111100#'), ('W', '0001001', 'U101100100#'), ('W', '0001001', 'U101001111#'), ('W', '0001001', '0100110110#'), ('W', '0001001', 'T0010100101#'), ('W', '0001001', 'U1010110011#'), ('W', '001001', '10100110#'), ('W', '0001001', 'G1100010010#'), ('W', '0001001', '011001001#'), ('W', '0001001', '1100011111#'), ('W', '0001001', 'T010000111#'), ('W', '0001001', 'T0100100010#'), ('W', '0001001', 'T0111010101#'), ('W', '0001001', 'T1010011011#'), ('W', '0001001', 'G111010000#'), ('W', '0001001', 'T111010111#'), ('W', '001001', '10010111#'), ('W', '0001001', 'G1100110110#'), ('W', '0001001', 'G0110001101#'), ('W', '0001001', '0110010100#'), ('W', '0001001', 'T0100011001#'), ('W', '0001001', 'G0101011011#'), ('W', '0001001', '111000100#'), ('W', '0001001', 'U1010001010#'), ('W', '0001001', 'U11101011#'), ('W', '0001001', 'T1101110#'), ('W', '0001001', 'U1110100011#'), ('W', '0001001', 'U1000100110#'), ('W', '0001001', 'T10000101#'), ('W', '0001001', 'T100011011#'), ('W', '0001001', 'G110101001#'), ('W', '0001001', 'G0111101111#'), ('W', '0001001', 'T0100110010#'), ('W', '0001001', 'T0110110110#'), ('W', '0001001', 'G010000#'), ('W', '0001001', 'T01000101#'), ('W', '001001', '10010#'), ('W', '0001001', 'T001001100#'), ('W', '0001001', 'G010010101#'), ('W', '0001001', '1100100110#'), ('W', '0001001', '11001#'), ('W', '0001001', 'T0010001110#'), ('W', '0001001', 'T110010011#'), ('W', '0001001', 'T001100111#'), ('W', '0001001', 'G010101100#'), ('W', '0001001', 'T00111011#'), ('W', '0001001', 'G01000#'), ('W', '0001001', 'T00110111#'), ('W', '0001001', 'G1101010#'), ('W', '0001001', 'T0100000101#'), ('W', '001001', '111110000#'), ('W', '0001001', 'G0101111#'), ('W', '0001001', 'T1010111001#'), ('W', '0001001', '1111000101#'), ('W', '0001001', 'T0001111#'), ('W', '001001', '101100100#'), ('W', '0001001', 'T011101011#'), ('W', '0001001', '010011010#'), ('W', '0001001', 'T1000001100#'), ('W', '0001001', '1110001#'), ('W', '0001001', 'G01010111#'), ('W', '0001001', 'T1011010001#'), ('W', '0001001', 'G0111011111#'), ('W', '0001001', 'T110000101#'), ('W', '0001001', 'G011010101#'), ('W', '0001001', 'U100111111#'), ('W', '0001001', 'G111011001#'), ('W', '0001001', 'U111000101#'), ('W', '0001001', 'T111100#'), ('W', '0001001', 'T1100001100#'), ('W', '0001001', 'T00101000#'), ('W', '001001', '10010101#'), ('W', '0001001', 'T0011100#'), ('W', '0001001', 'G111110#'), ('W', '0001001', '010100001#'), ('W', '0001001', '0100010011#'), ('W', '0001001', 'T0100100000#'), ('W', '0001001', 'U1000100100#'), ('W', '0001001', '11001101#'), ('W', '0001001', 'U1100111011#'), ('W', '0001001', 'T0111111110#'), ('W', '0001001', 'T0101000011#'), ('W', '0001001', 'G0100000101#'), ('W', '001001', '111011101#'), ('W', '001001', '101011001#'), ('W', '001001', '110010000#'), ('W', '0001001', 'U101110011#'), ('W', '0001001', 'U101010101#'), ('W', '0001001', '11#'), ('W', '0001001', 'U111000111#'), ('W', '0001001', '010001001#'), ('W', '0001001', 'G0101111001#'), ('W', '0001001', 'G0101101111#'), ('W', '001001', '100100111#'), ('W', '0001001', '0111110110#'), ('W', '0001001', '01011110#'), ('W', '0001001', 'U1010001110#'), ('W', '0001001', 'T0010011011#'), ('W', '0001001', 'T11110100#'), ('W', '0001001', 'T0100010000#'), ('W', '0001001', 'T001111110#'), ('W', '0001001', 'T001000111#'), ('W', '0001001', '111010#'), ('W', '0001001', 'T1010101101#'), ('W', '0001001', 'G011110100#'), ('W', '0001001', 'U111000001#'), ('W', '0001001', '1100110010#'), ('W', '0001001', 'U111010#'), ('W', '0001001', '1110001111#'), ('W', '0001001', '111001100#'), ('W', '0001001', 'T0011010000#'), ('W', '0001001', 'G11010011#'), ('W', '0001001', '11101000#'), ('W', '0001001', 'T11100010#'), ('W', '0001001', 'G0100100#'), ('W', '0001001', '1110100110#'), ('W', '0001001', 'G01000011#'), ('W', '0001001', 'U111101110#'), ('W', '0001001', 'T1010001#'), ('W', '0001001', 'G0101000010#'), ('W', '0001001', 'G0110111011#'), ('W', '0001001', 'T001010010#'), ('W', '001001', '10000#'), ('W', '0001001', '0100011000#'), ('W', '0001001', 'U1110010111#'), ('W', '0001001', 'G1111010110#'), ('W', '0001001', 'T0111110010#'), ('W', '0001001', 'G011011010#'), ('W', '0001001', 'T0000000001#'), ('W', '0001001', '110101101#'), ('W', '0001001', '1110101010#'), ('W', '001001', '101110011#'), ('W', '0001001', 'T0101011001#'), ('W', '0001001', 'G011000011#'), ('W', '0001001', 'T0011011001#'), ('W', '0001001', '0110100010#'), ('W', '0001001', 'T001010000#'), ('W', '0001001', '0110111010#'), ('W', '0001001', 'U100110#'), ('W', '0001001', 'T1110001111#'), ('W', '0001001', 'G1101000000#'), ('W', '0001001', 'U100101010#'), ('W', '0001001', '0110000#'), ('W', '001001', '11101111#'), ('W', '0001001', '1110111011#'), ('W', '0001001', 'U101011110#'), ('W', '0001001', 'U101111111#'), ('W', '001001', '11000#'), ('W', '0001001', '0101000111#'), ('W', '0001001', 'U111011001#'), ('W', '001001', '10110000#'), ('W', '0001001', 'T010110011#'), ('W', '0001001', 'G0111010001#'), ('W', '0001001', 'T1010101111#'), ('W', '0001001', 'U100011010#'), ('W', '0001001', 'T0011110111#'), ('W', '0001001', 'U1101110#'), ('W', '0001001', 'T000000010#'), ('W', '0001001', 'T001111010#'), ('W', '0001001', 'T11111001#'), ('W', '0001001', 'T011011001#'), ('W', '0001001', 'U11110011#'), ('W', '0001001', '1111010011#'), ('W', '0001001', 'T01011#'), ('W', '0001001', 'T0110000#'), ('W', '0001001', 'T1110001100#'), ('W', '0001001', 'U1100111#'), ('W', '0001001', '011100111#'), ('W', '0001001', 'T0010100#'), ('W', '0001001', 'T101101000#'), ('W', '0001001', '010101000#'), ('W', '0001001', 'U1101011111#'), ('W', '0001001', 'T111000110#'), ('W', '0001001', '110000000#'), ('W', '0001001', 'T1001000011#'), ('W', '0001001', 'U10010111#'), ('W', '0001001', 'T0101#'), ('W', '0001001', 'G0110101000#'), ('W', '0001001', 'T10011100#'), ('W', '0001001', 'T0101111100#'), ('W', '0001001', 'T000000100#'), ('W', '0001001', 'T1001101111#'), ('W', '0001001', 'T1011100#'), ('W', '0001001', '111010001#'), ('W', '001001', '11001110#'), ('W', '001001', '101000110#'), ('W', '0001001', 'G0100001000#'), ('W', '0001001', 'U1110011000#'), ('W', '0001001', 'G1100100110#'), ('W', '0001001', 'T1110011110#'), ('W', '001001', '110011101#'), ('W', '0001001', '1110000001#'), ('W', '001001', '1101111#'), ('W', '0001001', 'T01000000#'), ('W', '0001001', 'U101001001#'), ('W', '0001001', '0110011110#'), ('W', '0001001', 'G11111010#'), ('W', '0001001', 'U1010111001#'), ('W', '0001001', 'T0010011111#'), ('W', '0001001', 'U11010000#'), ('W', '0001001', 'T1000101011#'), ('W', '001001', '100111#'), ('W', '001001', '111110001#'), ('W', '0001001', '110011110#'), ('W', '0001001', 'U1100110001#'), ('W', '0001001', '1111000010#'), ('W', '0001001', 'U1100100110#'), ('W', '0001001', 'U1011010101#'), ('W', '0001001', 'T0001011111#'), ('W', '0001001', 'T010111001#'), ('W', '0001001', 'G111111011#'), ('W', '0001001', 'G011110101#'), ('W', '0001001', 'T0110100111#'), ('W', '0001001', 'T1010000010#'), ('W', '0001001', '010110110#'), ('W', '0001001', '111010101#'), ('W', '0001001', 'U110010100#'), ('W', '0001001', 'T101001#'), ('W', '0001001', 'U10001010#'), ('W', '0001001', 'G110100000#'), ('W', '0001001', '011111101#'), ('W', '0001001', 'T00000000#'), ('W', '0001001', '0101000001#'), ('W', '0001001', 'T1010110#'), ('W', '0001001', 'U101011#'), ('W', '0001001', '011001111#'), ('W', '0001001', 'T011000100#'), ('W', '0001001', 'U11000101#'), ('W', '0001001', 'U1010101010#'), ('W', '0001001', 'U1101000111#'), ('W', '0001001', 'T0111011010#'), ('W', '0001001', 'U10010#'), ('W', '001001', '101001110#'), ('W', '0001001', 'U1101100111#'), ('W', '0001001', '11011101#'), ('W', '0001001', 'T00010011#'), ('W', '0001001', 'T0011100100#'), ('W', '0001001', 'U1000101111#'), ('W', '001001', '111101111#'), ('W', '0001001', 'T011011#'), ('W', '0001001', 'T0010001101#'), ('W', '001001', '10100101#'), ('W', '0001001', 'T0101110111#'), ('W', '0001001', 'T1100101010#'), ('W', '0001001', 'T0101010#'), ('W', '0001001', 'G110010001#'), ('W', '0001001', 'G110100101#'), ('W', '0001001', 'T0101011100#'), ('W', '0001001', '0101010011#'), ('W', '0001001', 'U1001010011#'), ('W', '0001001', 'T101001010#'), ('W', '0001001', 'U1100001111#'), ('W', '0001001', 'G0100000001#'), ('W', '0001001', 'G0110010111#'), ('W', '0001001', '010000110#'), ('W', '0001001', '0101010000#'), ('W', '0001001', 'T0011001110#'), ('W', '001001', '11111001#'), ('W', '0001001', '0110100#'), ('W', '0001001', '011110001#'), ('W', '0001001', 'G1100101110#'), ('W', '0001001', 'U1#'), ('W', '0001001', 'G0111110#'), ('W', '0001001', '010001011#'), ('W', '0001001', 'G0100010#'), ('W', '0001001', 'T00001100#'), ('W', '0001001', 'T1110101000#'), ('W', '0001001', 'G111011#'), ('W', '0001001', '1100000000#'), ('W', '0001001', 'G11010010#'), ('W', '0001001', 'U1011111010#'), ('W', '0001001', '1101100101#'), ('W', '0001001', 'U1110011#'), ('W', '0001001', 'T0001101100#'), ('W', '0001001', 'G011001101#'), ('W', '001001', '101100000#'), ('W', '0001001', 'G0101011#'), ('W', '0001001', 'T1011000101#'), ('W', '0001001', 'T0111001010#'), ('W', '0001001', 'U1010000100#'), ('W', '0001001', 'T110010100#'), ('W', '0001001', 'G0101110101#'), ('W', '0001001', 'T11100100#'), ('W', '001001', '10010110#'), ('W', '0001001', '010100110#'), ('W', '0001001', 'G1100010111#'), ('W', '0001001', '111010100#'), ('W', '0001001', 'U1001111111#'), ('W', '0001001', '0111010000#'), ('W', '0001001', '11011100#'), ('W', '0001001', 'T1001011110#'), ('W', '0001001', 'T0011111001#'), ('W', '0001001', 'U11000011#'), ('W', '001001', '111010111#'), ('W', '001001', '10100100#'), ('W', '0001001', 'G1111100011#'), ('W', '001001', '10011#'), ('W', '0001001', 'T1110000010#'), ('W', '0001001', '1110110110#'), ('W', '0001001', 'T0101110110#'), ('W', '0001001', 'T01100001#'), ('W', '0001001', 'U11011#'), ('W', '0001001', '0110011101#'), ('W', '0001001', 'U101010#'), ('W', '0001001', 'T000010001#'), ('W', '0001001', 'U1010000011#'), ('W', '0001001', '1111010000#'), ('W', '0001001', 'T000101011#'), ('W', '0001001', 'T111010101#'), ('W', '0001001', 'T010100101#'), ('W', '001001', '11111#'), ('W', '0001001', 'U10110110#'), ('W', '0001001', 'T001000001#'), ('W', '0001001', 'G01100#'), ('W', '0001001', 'U1100011000#'), ('W', '0001001', 'G0100111111#'), ('W', '001001', '110000111#'), ('W', '0001001', 'G110111100#'), ('W', '0001001', 'U10000011#'), ('W', '0001001', 'U101101110#'), ('W', '0001001', 'T1001100100#'), ('W', '0001001', 'G110010000#'), ('W', '0001001', '010000101#'), ('W', '0001001', 'T011100111#'), ('W', '0001001', 'T1101110010#'), ('W', '0001001', 'T110000010#'), ('W', '0001001', 'T10100#'), ('W', '0001001', 'T001011010#'), ('W', '0001001', 'T11000001#'), ('W', '0001001', 'T0100110110#'), ('W', '0001001', 'T1100111110#'), ('W', '0001001', 'G0100101001#'), ('W', '0001001', 'G01110001#'), ('W', '0001001', 'U100010000#'), ('W', '0001001', 'G011100001#'), ('W', '0001001', 'U1101111010#'), ('W', '0001001', 'G011010000#'), ('W', '0001001', 'G110000#'), ('W', '001001', '111100#'), ('W', '0001001', 'U1111101100#'), ('W', '0001001', 'T0011101110#'), ('W', '0001001', 'G111111000#'), ('W', '0001001', 'T1001010101#'), ('W', '001001', '11000111#'), ('W', '0001001', 'T1010001001#'), ('W', '0001001', '0100101011#'), ('W', '0001001', 'U11000100#'), ('W', '0001001', 'T0110010011#'), ('W', '0001001', 'T1110010100#'), ('W', '0001001', 'G1101111101#'), ('W', '0001001', 'U1001101111#'), ('W', '0001001', 'U1000111#'), ('W', '0001001', 'T0110001010#'), ('W', '0001001', 'T00101110#'), ('W', '0001001', 'T000000001#'), ('W', '0001001', 'T100#'), ('W', '0001001', 'T101010010#'), ('W', '0001001', 'U1010000110#'), ('W', '0001001', 'T0000101100#'), ('W', '0001001', 'T10111111#'), ('W', '001001', '10000010#'), ('W', '0001001', '1101001011#'), ('W', '0001001', 'G0101010010#'), ('W', '0001001', 'G011011001#'), ('W', '001001', '100001101#'), ('W', '0001001', 'U1100011011#'), ('W', '0001001', 'U1010000000#'), ('W', '0001001', 'T0110001111#'), ('W', '0001001', '110001110#'), ('W', '0001001', 'T010010111#'), ('W', '0001001', 'T0010111100#'), ('W', '0001001', 'T001100110#'), ('W', '0001001', '1110111111#'), ('W', '0001001', 'T1110101101#'), ('W', '0001001', 'U1001111011#'), ('W', '0001001', 'T01001000#'), ('W', '0001001', 'U1011001000#'), ('W', '0001001', 'G0100011111#'), ('W', '0001001', '011110101#'), ('W', '0001001', 'G01100001#'), ('W', '0001001', 'G1100110#'), ('W', '0001001', 'G11101010#'), ('W', '0001001', 'U1111010100#'), ('W', '0001001', 'G1110111110#'), ('W', '0001001', 'T1111010100#'), ('W', '0001001', 'T110011110#'), ('W', '0001001', 'G011101010#'), ('W', '0001001', '0100101001#'), ('W', '0001001', '11101001#'), ('W', '0001001', '1110001011#'), ('W', '0001001', 'T0111010110#'), ('W', '0001001', 'T1001010001#'), ('W', '0001001', 'G111001011#'), ('W', '001001', '100110#'), ('W', '0001001', 'G011111011#'), ('W', '0001001', 'T00100110#'), ('W', '0001001', 'T0011011010#'), ('W', '0001001', 'G010010000#'), ('W', '0001001', 'G1110#'), ('W', '001001', '111000101#'), ('W', '0001001', '1110111001#'), ('W', '0001001', '110010010#'), ('W', '0001001', 'T101000#'), ('W', '0001001', 'T111#'), ('W', '001001', '1001111#'), ('W', '0001001', 'T10011010#'), ('W', '001001', '10100000#'), ('W', '0001001', 'G0111100011#'), ('W', '0001001', 'G111111010#'), ('W', '0001001', '0101000000#'), ('W', '0001001', 'T111000100#'), ('W', '0001001', 'T00010#'), ('W', '0001001', 'T1010101001#'), ('W', '0001001', '1110010000#'), ('W', '0001001', 'T011111111#'), ('W', '0001001', 'G111101000#'), ('W', '0001001', 'U1110101000#'), ('W', '0001001', 'G0101010#'), ('W', '0001001', '1101010100#'), ('W', '0001001', 'U1010110111#'), ('W', '001001', '110101#'), ('W', '0001001', 'U1000010#'), ('W', '0001001', 'G111100000#'), ('W', '0001001', 'U1101110000#'), ('W', '0001001', 'U1000010011#'), ('W', '0001001', 'U1010100001#'), ('W', '0001001', '11000001#'), ('W', '0001001', '0111110001#'), ('W', '0001001', 'U1101100011#'), ('W', '0001001', 'U11010#'), ('W', '0001001', '1111011111#'), ('W', '0001001', 'T0100010011#'), ('W', '001001', '10101110#'), ('W', '0001001', '11101110#'), ('W', '0001001', '1111001100#'), ('W', '0001001', 'T0110111001#'), ('W', '0001001', 'U1001110011#'), ('W', '0001001', 'G0111111101#'), ('W', '0001001', 'T111101000#'), ('W', '0001001', 'U1110010010#'), ('W', '0001001', 'T111100000#'), ('W', '0001001', 'G0101101#'), ('W', '001001', '1000001#'), ('W', '0001001', 'T101010110#'), ('W', '0001001', 'G11011100#'), ('W', '001001', '111100001#'), ('W', '0001001', 'U110101000#'), ('W', '001001', '110100101#'), ('W', '0001001', 'T1100001#'), ('W', '0001001', 'U111000#'), ('W', '0001001', 'T1010110000#'), ('W', '0001001', 'U1100010#'), ('W', '0001001', '1101011101#'), ('W', '0001001', 'T1000000001#'), ('W', '0001001', 'T1010111110#'), ('W', '0001001', 'T1001011010#'), ('W', '0001001', 'T00100000#'), ('W', '0001001', '111101001#'), ('W', '001001', '11110011#'), ('W', '0001001', 'T0010000#'), ('W', '0001001', '1110010#'), ('W', '0001001', 'U1001010#'), ('W', '0001001', 'T01101#'), ('W', '0001001', 'U1001000110#'), ('W', '0001001', '110001111#'), ('W', '001001', '11010111#'), ('W', '0001001', 'G0101011100#'), ('W', '0001001', 'T0111000111#'), ('W', '0001001', 'T1111001010#'), ('W', '0001001', '0111110#'), ('W', '0001001', 'T00101010#'), ('W', '0001001', '01100110#'), ('W', '0001001', '1101100#'), ('W', '0001001', 'G111#'), ('W', '0001001', 'G010000111#'), ('W', '0001001', '1111101101#'), ('W', '0001001', 'T1100011101#'), ('W', '0001001', 'U11001111#'), ('W', '0001001', 'G110110#'), ('W', '0001001', 'U1111111111#'), ('W', '0001001', 'T1100001011#'), ('W', '0001001', 'G1101100100#'), ('W', '0001001', 'T00011#'), ('W', '0001001', 'U1000010000#'), ('W', '0001001', 'T011010101#'), ('W', '0001001', 'G1110110101#'), ('W', '0001001', 'T0000100100#'), ('W', '0001001', 'T00011101#'), ('W', '0001001', 'U111101010#'), ('W', '0001001', 'T0100010100#'), ('W', '0001001', 'T1110000110#'), ('W', '001001', '10111000#'), ('W', '0001001', 'U1101001#'), ('W', '0001001', '111011011#'), ('W', '001001', '110001100#'), ('W', '001001', '111000100#'), ('W', '0001001', '0110101011#'), ('W', '0001001', 'G1110010001#'), ('W', '0001001', 'U1101011001#'), ('W', '0001001', 'G011110111#'), ('W', '0001001', 'G0100101111#'), ('W', '0001001', '0111000000#'), ('W', '0001001', 'T0111001110#'), ('W', '0001001', '010011000#'), ('W', '0001001', 'T011000010#'), ('W', '0001001', 'T100001011#'), ('W', '0001001', 'G0110111001#'), ('W', '0001001', 'U101010111#'), ('W', '001001', '11001#'), ('W', '001001', '101010010#'), ('W', '0001001', 'U1010101110#'), ('W', '0001001', 'T1100011010#'), ('W', '0001001', 'U1101011110#'), ('W', '0001001', 'U1111111000#'), ('W', '0001001', 'T0100011100#'), ('W', '0001001', 'T1000001010#'), ('W', '0001001', 'T1000100110#'), ('W', '0001001', 'U1100111100#'), ('W', '0001001', 'U10001001#'), ('W', '0001001', 'T1010000001#'), ('W', '0001001', 'T0011001111#'), ('W', '0001001', 'U1010011110#'), ('W', '0001001', 'G1101101#'), ('W', '0001001', 'T0000100011#'), ('W', '0001001', '0101011000#'), ('W', '0001001', 'U1111111110#'), ('W', '0001001', 'G1110110000#'), ('W', '0001001', 'T111101100#'), ('W', '0001001', 'U1000010111#'), ('W', '0001001', 'U111011#'), ('W', '001001', '1110001#'), ('W', '0001001', 'T1000011#'), ('W', '0001001', '11100100#'), ('W', '0001001', 'T01010#'), ('W', '0001001', 'U1101111000#'), ('W', '0001001', 'T1000011010#'), ('W', '0001001', 'T01100010#'), ('W', '0001001', 'T000001#'), ('W', '0001001', 'T0000111100#'), ('W', '0001001', '0110001111#'), ('W', '0001001', 'T0001110001#'), ('W', '0001001', 'G0110000001#'), ('W', '0001001', 'U1010010010#'), ('W', '0001001', 'T0000111011#'), ('W', '0001001', 'T11000100#'), ('W', '0001001', 'T1000000011#'), ('W', '0001001', 'G0110010010#'), ('W', '0001001', 'T01001001#'), ('W', '0001001', 'T010010011#'), ('W', '0001001', '0100111011#'), ('W', '0001001', 'U1111110010#'), ('W', '0001001', 'T1001000001#'), ('W', '0001001', 'G0110110111#'), ('W', '0001001', '011001110#'), ('W', '001001', '11001101#'), ('W', '001001', '100100100#'), ('W', '0001001', 'T0110101101#'), ('W', '0001001', 'U110000000#'), ('W', '0001001', 'T10001101#'), ('W', '0001001', 'T1001111110#'), ('W', '0001001', 'T0100101111#'), ('W', '0001001', 'T1111000#'), ('W', '0001001', 'U10110010#'), ('W', '0001001', 'T011011010#'), ('W', '0001001', 'G01101#'), ('W', '0001001', 'T1111111011#'), ('W', '001001', '10001#'), ('W', '0001001', 'U101011100#'), ('W', '0001001', 'U1001110101#'), ('W', '0001001', 'T0111111101#'), ('W', '0001001', 'T00010111#'), ('W', '0001001', 'T1110110100#'), ('W', '0001001', 'T1011100011#'), ('W', '0001001', 'G011001100#'), ('W', '0001001', 'T01111110#'), ('W', '0001001', '01001111#'), ('W', '0001001', 'T1000111100#'), ('W', '0001001', 'T0001001101#'), ('W', '0001001', '11001011#'), ('W', '0001001', 'U1000011101#'), ('W', '001001', '10110#'), ('W', '0001001', 'T1001110111#'), ('W', '0001001', 'G111100101#'), ('W', '0001001', '1100100011#'), ('W', '0001001', 'T1011#'), ('W', '001001', '10100010#'), ('W', '001001', '111010#'), ('W', '0001001', 'G011101011#'), ('W', '0001001', 'U1000101100#'), ('W', '001001', '10110010#'), ('W', '0001001', 'U111100011#'), ('W', '0001001', 'T101101001#'), ('W', '001001', '101101110#'), ('W', '0001001', '1111001000#'), ('W', '001001', '111001100#'), ('W', '0001001', 'T111010110#'), ('W', '0001001', 'T100000001#'), ('W', '0001001', 'G110001111#'), ('W', '0001001', 'U1110111110#'), ('W', '0001001', 'T11010#'), ('W', '001001', '110001000#'), ('W', '0001001', 'T101101100#'), ('W', '001001', '11101000#'), ('W', '0001001', 'T1001000111#'), ('W', '0001001', 'T001001110#'), ('W', '0001001', '01011010#'), ('W', '0001001', 'T10010110#'), ('W', '0001001', 'T01101100#'), ('W', '001001', '1011010#'), ('W', '0001001', 'T0000000111#'), ('W', '0001001', '11011001#'), ('W', '0001001', 'T1001100101#'), ('W', '0001001', 'U111100101#'), ('W', '0001001', 'U101110100#'), ('W', '0001001', 'U101001110#'), ('W', '0001001', '110110001#'), ('W', '0001001', 'T000000101#'), ('W', '0001001', 'T0011101010#'), ('W', '0001001', 'T0101011000#'), ('W', '0001001', 'G1111000101#'), ('W', '0001001', 'T0100110001#'), ('W', '0001001', 'T101011001#'), ('W', '0001001', 'U1111001010#'), ('W', '0001001', 'U101111011#'), ('W', '0001001', '110001#'), ('W', '001001', '110101101#'), ('W', '0001001', '0110000111#'), ('W', '0001001', 'U1110111011#'), ('W', '0001001', 'T0010010001#'), ('W', '0001001', 'T1111010010#'), ('W', '0001001', '0101101000#'), ('W', '0001001', 'U11100100#'), ('W', '0001001', '011000111#'), ('W', '0001001', 'T1100100011#'), ('W', '0001001', 'T10101100#'), ('W', '0001001', 'T1000110000#'), ('W', '0001001', 'T1000111000#'), ('W', '0001001', 'U1011100000#'), ('W', '0001001', 'G0100000011#'), ('W', '0001001', 'T011110101#'), ('W', '0001001', '11101010#'), ('W', '0001001', 'T1011000000#'), ('W', '0001001', 'T00110011#'), ('W', '0001001', 'T110111001#'), ('W', '0001001', '1111000001#'), ('W', '0001001', '011110000#'), ('W', '0001001', 'U1110110110#'), ('W', '0001001', 'G0100000100#'), ('W', '0001001', 'U100110101#'), ('W', '0001001', 'U11100110#'), ('W', '0001001', 'T1011000#'), ('W', '0001001', '0110101001#'), ('W', '0001001', '1101101100#'), ('W', '0001001', 'T100101010#'), ('W', '0001001', 'T0011110100#'), ('W', '0001001', '01#'), ('W', '0001001', 'G011100011#'), ('W', '001001', '110000000#'), ('W', '0001001', 'G010001#'), ('W', '0001001', 'U100#'), ('W', '0001001', 'T00100100#'), ('W', '0001001', 'T111110011#'), ('W', '0001001', 'T101111010#'), ('W', '0001001', 'U10100011#'), ('W', '0001001', 'T0111111011#'), ('W', '0001001', '1101000110#'), ('W', '0001001', 'T010010110#'), ('W', '0001001', '0111100111#'), ('W', '0001001', 'G111001100#'), ('W', '0001001', '1100001011#'), ('W', '0001001', 'U110110#'), ('W', '0001001', '1110111000#'), ('W', '0001001', '111100101#'), ('W', '0001001', 'T11111010#'), ('W', '0001001', '1110001110#'), ('W', '0001001', 'U1000101010#'), ('W', '0001001', 'G01110100#'), ('W', '0001001', 'U1010#'), ('W', '0001001', 'T1000100000#'), ('W', '0001001', 'G1100000100#'), ('W', '0001001', 'U110000010#'), ('W', '0001001', 'T0111101#'), ('W', '0001001', 'T1111110111#'), ('W', '0001001', 'G1100#'), ('W', '0001001', 'G1100001001#'), ('W', '001001', '111010101#'), ('W', '0001001', 'T101101011#'), ('W', '0001001', 'U110001#'), ('W', '001001', '100111000#'), ('W', '0001001', '0100111#'), ('W', '0001001', 'U1100010110#'), ('W', '0001001', '0111011110#'), ('W', '0001001', '1100010110#'), ('W', '0001001', '11100011#'), ('W', '0001001', '1110001100#'), ('W', '0001001', '1100010001#'), ('W', '001001', '101100110#'), ('W', '0001001', 'U1101111001#'), ('W', '0001001', 'T100011#'), ('W', '0001001', 'T10011110#'), ('W', '0001001', 'T1011100001#'), ('W', '0001001', 'T0000010101#'), ('W', '0001001', 'U1011110011#'), ('W', '0001001', 'T1010011001#'), ('W', '001001', '11011101#'), ('W', '0001001', 'G111000001#'), ('W', '0001001', '1101000111#'), ('W', '001001', '1001000#'), ('W', '0001001', 'T110000000#'), ('W', '0001001', 'U1001110010#'), ('W', '0001001', 'G0101001011#'), ('W', '0001001', 'G110101000#'), ('W', '0001001', 'G1110001110#'), ('W', '0001001', 'G110100110#'), ('W', '0001001', 'T1111111#'), ('W', '001001', '11010100#'), ('W', '0001001', 'T111100101#'), ('W', '0001001', '111001111#'), ('W', '0001001', '01010101#'), ('W', '001001', '110000001#'), ('W', '0001001', 'T01111100#'), ('W', '0001001', '0111001011#'), ('W', '0001001', 'T010011#'), ('W', '001001', '1011000#'), ('W', '0001001', 'U10011100#'), ('W', '0001001', 'T1011111000#'), ('W', '0001001', 'U1100110011#'), ('W', '0001001', 'T011110001#'), ('W', '0001001', 'T1101011010#'), ('W', '0001001', 'U101100#'), ('W', '001001', '111111100#'), ('W', '0001001', 'T1100010#'), ('W', '0001001', 'G1110011000#'), ('W', '0001001', '11111000#'), ('W', '0001001', 'G1111101011#'), ('W', '0001001', 'U100000110#'), ('W', '0001001', '11010#'), ('W', '0001001', 'T0110011100#'), ('W', '0001001', 'T0000111111#'), ('W', '0001001', 'U101111100#'), ('W', '0001001', 'G11011010#'), ('W', '0001001', 'U101110101#'), ('W', '001001', '101111010#'), ('W', '0001001', 'T101001101#'), ('W', '0001001', 'U1111011001#'), ('W', '0001001', 'U1111101101#'), ('W', '0001001', 'G1110001010#'), ('W', '0001001', 'G1110111011#'), ('W', '0001001', 'U110011111#'), ('W', '0001001', 'G1100010001#'), ('W', '0001001', 'G0111011110#'), ('W', '0001001', '0101111000#'), ('W', '0001001', 'G0101000000#'), ('W', '0001001', 'T110100001#'), ('W', '001001', '100010111#'), ('W', '0001001', 'T0101100001#'), ('W', '0001001', '1100101110#'), ('W', '0001001', 'G0111111011#'), ('W', '0001001', 'U100010010#'), ('W', '0001001', 'T1101010010#'), ('W', '0001001', 'U10011111#'), ('W', '0001001', 'T1001100110#'), ('W', '0001001', 'T1101100111#'), ('W', '0001001', 'G0111000000#'), ('W', '0001001', 'U1111011#'), ('W', '0001001', 'T1000000000#'), ('W', '0001001', 'U1101111101#'), ('W', '0001001', 'T0111100100#'), ('W', '001001', '100011#'), ('W', '0001001', 'T1001101000#'), ('W', '0001001', 'G0110101011#'), ('W', '0001001', 'T0000001#'), ('W', '001001', '101011110#'), ('W', '0001001', 'G010111100#'), ('W', '0001001', 'T0110100000#'), ('W', '0001001', 'T0000011110#'), ('W', '0001001', 'U1111101011#'), ('W', '0001001', 'G111101010#'), ('W', '0001001', 'U110101001#'), ('W', '0001001', 'G0100001111#'), ('W', '0001001', '0110000000#'), ('W', '0001001', '0111110100#'), ('W', '0001001', 'G0100010110#'), ('W', '0001001', 'T1111001000#'), ('W', '0001001', 'U1001011000#'), ('W', '0001001', 'T110000111#'), ('W', '0001001', 'U1111101001#'), ('W', '0001001', '011111010#'), ('W', '0001001', 'U100001001#'), ('W', '0001001', 'G01111001#'), ('W', '0001001', 'U101101000#'), ('W', '0001001', 'T110101101#'), ('W', '0001001', '1100100001#'), ('W', '0001001', 'U111111111#'), ('W', '0001001', 'U101100001#'), ('W', '0001001', 'T00100101#'), ('W', '0001001', 'T011110010#'), ('W', '001001', '100110000#'), ('W', '0001001', 'T1001100011#'), ('W', '0001001', '110000100#'), ('W', '0001001', 'T11010111#'), ('W', '0001001', 'G010111110#'), ('W', '0001001', '1101011111#'), ('W', '0001001', 'T10011000#'), ('W', '0001001', 'T0100011111#'), ('W', '0001001', 'T0001111111#'), ('W', '0001001', 'T010010101#'), ('W', '0001001', '01111101#'), ('W', '0001001', 'U11101111#'), ('W', '0001001', 'T01100011#'), ('W', '0001001', '111111011#'), ('W', '0001001', 'G010010010#'), ('W', '0001001', 'G0101110110#'), ('W', '0001001', 'U110100011#'), ('W', '0001001', 'U111001000#'), ('W', '0001001', 'T00000111#'), ('W', '0001001', '010110011#'), ('W', '0001001', '1101101#'), ('W', '0001001', 'G1111101001#'), ('W', '001001', '111000111#'), ('W', '0001001', 'G110100100#'), ('W', '0001001', '111100011#'), ('W', '0001001', 'U1011011010#'), ('W', '0001001', 'T100000000#'), ('W', '0001001', 'G011000110#'), ('W', '0001001', '01001000#'), ('W', '001001', '101110100#'), ('W', '0001001', 'U110000110#'), ('W', '0001001', 'T1001001111#'), ('W', '0001001', 'G1111111011#'), ('W', '0001001', 'U1000000100#'), ('W', '0001001', '1100111111#'), ('W', '0001001', 'T100001000#'), ('W', '0001001', 'U1100100100#'), ('W', '0001001', 'U1011111101#'), ('W', '0001001', 'U101101#'), ('W', '0001001', 'T1101110111#'), ('W', '0001001', 'U10000010#'), ('W', '0001001', 'U1011100111#'), ('W', '0001001', 'G01#'), ('W', '0001001', 'U110111110#'), ('W', '0001001', 'T100011010#'), ('W', '0001001', '0110011111#'), ('W', '0001001', 'U1001010101#'), ('W', '0001001', '1100011101#'), ('W', '0001001', 'U100100001#'), ('W', '0001001', 'U1100101100#'), ('W', '0001001', 'T101100110#'), ('W', '0001001', 'G0101101100#'), ('W', '0001001', 'G111000111#'), ('W', '0001001', 'G111101110#'), ('W', '0001001', 'T11100001#'), ('W', '0001001', 'T0000111#'), ('W', '0001001', '110110#'), ('W', '0001001', 'G1111100000#'), ('W', '0001001', 'T11001100#'), ('W', '0001001', 'T0101010100#'), ('W', '001001', '110001110#'), ('W', '0001001', 'U1001000001#'), ('W', '0001001', 'T1111100011#'), ('W', '0001001', '0101001111#'), ('W', '0001001', 'G01100101#'), ('W', '0001001', 'T011000#'), ('W', '0001001', '01101001#'), ('W', '0001001', 'U10000#'), ('W', '0001001', 'U10001#'), ('W', '001001', '1101001#'), ('W', '0001001', 'T1011111101#'), ('W', '001001', '11110001#'), ('W', '0001001', 'U100101000#'), ('W', '0001001', 'T1101001001#'), ('W', '0001001', 'T0001011#'), ('W', '0001001', 'T010011001#'), ('W', '0001001', 'G0101001001#'), ('W', '0001001', 'U111001111#'), ('W', '0001001', 'G11100001#'), ('W', '0001001', '1110010101#'), ('W', '0001001', 'T0001011001#'), ('W', '001001', '10101101#'), ('W', '0001001', 'T00100001#'), ('W', '0001001', 'U10100001#'), ('W', '0001001', 'T0011110011#'), ('W', '0001001', 'T1010100100#'), ('W', '0001001', 'U110000#'), ('W', '0001001', '11111100#'), ('W', '001001', '100100000#'), ('W', '0001001', 'T10100000#'), ('W', '0001001', 'T00001001#'), ('W', '001001', '11101001#'), ('W', '0001001', 'U1011101010#'), ('W', '0001001', 'T1010111011#'), ('W', '0001001', 'T11000110#'), ('W', '001001', '100000010#'), ('W', '0001001', 'G1100110000#'), ('W', '0001001', 'T0111101100#'), ('W', '0001001', 'U1100011010#'), ('W', '0001001', 'T110100110#'), ('W', '0001001', '011000011#'), ('W', '0001001', 'G1110000011#'), ('W', '0001001', 'U111111001#'), ('W', '0001001', 'T100110010#'), ('W', '0001001', 'U1101110010#'), ('W', '0001001', 'T0100101101#'), ('W', '0001001', 'U1001010110#'), ('W', '0001001', 'G0110101010#'), ('W', '0001001', '110010111#'), ('W', '0001001', 'U1101010001#'), ('W', '0001001', 'U1101001101#'), ('W', '0001001', '110110111#'), ('W', '0001001', 'T0010110111#'), ('W', '0001001', '0100000101#'), ('W', '001001', '100010010#'), ('W', '0001001', 'T1010110101#'), ('W', '001001', '10000110#'), ('W', '0001001', 'T001000101#'), ('W', '001001', '101001#'), ('W', '0001001', 'T000001001#'), ('W', '0001001', 'T011010100#'), ('W', '0001001', 'U11111101#'), ('W', '0001001', 'G0101010100#'), ('W', '0001001', 'T010101111#'), ('W', '0001001', 'T11010101#'), ('W', '0001001', '0100011101#'), ('W', '0001001', 'U1111010#'), ('W', '0001001', 'T0100001010#'), ('W', '0001001', '1101011000#'), ('W', '0001001', 'T1100001101#'), ('W', '0001001', 'U1010001111#'), ('W', '0001001', '011110111#'), ('W', '0001001', 'U1110001011#'), ('W', '0001001', 'T1111110010#'), ('W', '0001001', '11011010#'), ('W', '0001001', 'T1011110101#'), ('W', '0001001', '110110011#'), ('W', '0001001', 'T1100110001#'), ('W', '0001001', 'U100000#'), ('W', '0001001', 'T0111101110#'), ('W', '0001001', '011011001#'), ('W', '0001001', 'G1100111000#'), ('W', '0001001', 'T1000110111#'), ('W', '0001001', 'G110010110#'), ('W', '0001001', 'U1101111011#'), ('W', '0001001', 'T1011100111#'), ('W', '0001001', 'G1111001011#'), ('W', '001001', '110110000#'), ('W', '0001001', 'T0100000#'), ('W', '0001001', 'T1101101101#'), ('W', '0001001', '111101010#'), ('W', '0001001', 'G011011000#'), ('W', '001001', '111111101#'), ('W', '0001001', 'T1101011001#'), ('W', '0001001', 'T101010101#'), ('W', '0001001', 'T0110111#'), ('W', '0001001', 'T1100010101#'), ('W', '0001001', 'T0011111#'), ('W', '0001001', 'U1111111101#'), ('W', '0001001', 'T01101111#'), ('W', '001001', '1110010#'), ('W', '0001001', 'T0101111000#'), ('W', '0001001', 'T0101101011#'), ('W', '0001001', '0101110101#'), ('W', '0001001', 'T100011101#'), ('W', '0001001', '0100111110#'), ('W', '0001001', '1100011001#'), ('W', '0001001', 'U1101010111#'), ('W', '0001001', 'G110011111#'), ('W', '0001001', '110010001#'), ('W', '0001001', 'T101111#'), ('W', '001001', '1101100#'), ('W', '0001001', 'G01101011#'), ('W', '0001001', '111100010#'), ('W', '0001001', 'U100000010#'), ('W', '0001001', '110010011#'), ('W', '0001001', 'T001111101#'), ('W', '0001001', 'T1000110100#'), ('W', '0001001', 'T100010111#'), ('W', '0001001', 'T0100010110#'), ('W', '0001001', 'T11011110#'), ('W', '0001001', 'T0111010000#'), ('W', '0001001', 'G1100000000#'), ('W', '0001001', 'U1101011010#'), ('W', '0001001', 'T001011100#'), ('W', '0001001', 'T100010001#'), ('W', '0001001', 'T0011111111#'), ('W', '0001001', 'G1110110001#'), ('W', '0001001', 'G010011111#'), ('W', '0001001', '1101010011#'), ('W', '0001001', 'T0011110101#'), ('W', '0001001', 'U1000001101#'), ('W', '0001001', 'G0101010101#'), ('W', '001001', '111011011#'), ('W', '0001001', '0111101#'), ('W', '0001001', 'T0001010111#'), ('W', '0001001', 'U1010011011#'), ('W', '0001001', 'G110001001#'), ('W', '0001001', 'T0100101110#'), ('W', '0001001', 'U1101011101#'), ('W', '0001001', 'T000110100#'), ('W', '0001001', 'T101001100#'), ('W', '0001001', 'T0110#'), ('W', '0001001', 'U111101101#'), ('W', '0001001', 'T1110111011#'), ('W', '0001001', 'G010011110#'), ('W', '0001001', 'T001111111#'), ('W', '0001001', 'U1011111#'), ('W', '0001001', 'T011001110#'), ('W', '0001001', '01101000#'), ('W', '0001001', '0110110#'), ('W', '0001001', 'T0110001001#'), ('W', '0001001', 'T1011011111#'), ('W', '0001001', 'T0001101101#'), ('W', '0001001', 'T0111011011#'), ('W', '0001001', 'T1000100011#'), ('W', '0001001', 'G0111100#'), ('W', '0001001', 'T1110000111#'), ('W', '0001001', 'U1011101110#'), ('W', '0001001', 'T1011111#'), ('W', '0001001', '0110001011#'), ('W', '0001001', 'G1100110101#'), ('W', '0001001', 'T1100000100#'), ('W', '0001001', 'T0111100101#'), ('W', '0001001', 'T1000001#'), ('W', '0001001', 'G1101001010#'), ('W', '0001001', 'U1011001101#'), ('W', '0001001', 'T111011#'), ('W', '0001001', 'T0110100100#'), ('W', '0001001', '0101110011#'), ('W', '0001001', 'G1110011010#'), ('W', '0001001', 'G1101100001#'), ('W', '0001001', 'T100101100#'), ('W', '001001', '110000110#'), ('W', '0001001', 'T0101001111#'), ('W', '0001001', 'G1110111100#'), ('W', '0001001', 'U100110011#'), ('W', '0001001', 'G0101011111#'), ('W', '0001001', 'T0110100011#'), ('W', '0001001', 'T110001110#'), ('W', '001001', '101001101#'), ('W', '0001001', 'T011110100#'), ('W', '0001001', 'U110101010#'), ('W', '0001001', 'T1101100110#'), ('W', '0001001', 'T1001010110#'), ('W', '0001001', 'T1101011#'), ('W', '0001001', 'U1001011111#'), ('W', '0001001', 'T1011111100#'), ('W', '0001001', 'T0000010001#'), ('W', '0001001', 'U1010110000#'), ('W', '0001001', 'T010000110#'), ('W', '0001001', '11010101#'), ('W', '0001001', 'U10100101#'), ('W', '0001001', 'T0100100110#'), ('W', '0001001', '1110000011#'), ('W', '0001001', 'U100001011#'), ('W', '001001', '10011110#'), ('W', '0001001', 'T11100110#'), ('W', '0001001', 'T110101000#'), ('W', '0001001', 'G0110011110#'), ('W', '0001001', 'U11010111#'), ('W', '0001001', 'T1011010110#'), ('W', '0001001', '111001101#'), ('W', '0001001', 'T010000000#'), ('W', '0001001', 'U110010111#'), ('W', '001001', '11001011#'), ('W', '0001001', 'G011000000#'), ('W', '0001001', '1110010011#'), ('W', '0001001', 'T11101110#'), ('W', '0001001', 'T101110000#'), ('W', '0001001', 'U1100000110#'), ('W', '0001001', 'T0101011110#'), ('W', '0001001', 'G010110001#'), ('W', '0001001', 'T1111101001#'), ('W', '0001001', 'G010010100#'), ('W', '0001001', 'U1110010100#'), ('W', '0001001', 'U110100110#'), ('W', '0001001', '1110000#'), ('W', '0001001', 'T0101100110#'), ('W', '0001001', 'G1111011#'), ('W', '0001001', 'T001000100#'), ('W', '0001001', '0111100011#'), ('W', '0001001', 'U1110110001#'), ('W', '0001001', '0101010110#'), ('W', '0001001', 'T0110111101#'), ('W', '0001001', 'G0111001111#'), ('W', '0001001', 'T0111000101#'), ('W', '0001001', 'U11010010#'), ('W', '0001001', 'T01110111#'), ('W', '0001001', 'T101001000#'), ('W', '0001001', 'U1100010101#'), ('W', '0001001', 'T0011001000#'), ('W', '0001001', 'G0110011#'), ('W', '0001001', 'U1101000101#'), ('W', '0001001', 'U1101011100#'), ('W', '0001001', 'T1011100000#'), ('W', '0001001', 'T1111001110#'), ('W', '0001001', '111110101#'), ('W', '0001001', 'T1001111001#'), ('W', '0001001', 'G010001111#'), ('W', '0001001', '111010011#'), ('W', '001001', '1111010#'), ('W', '0001001', 'G1110101110#'), ('W', '0001001', 'T101000001#'), ('W', '0001001', 'T11101000#'), ('W', '0001001', '110111101#'), ('W', '0001001', 'G01010000#'), ('W', '0001001', 'G110110000#'), ('W', '0001001', 'T101110111#'), ('W', '0001001', 'U1111001000#'), ('W', '0001001', 'T100100000#'), ('W', '001001', '100010100#'), ('W', '0001001', 'T001011011#'), ('W', '0001001', 'T11111#'), ('W', '0001001', 'T00010010#'), ('W', '0001001', '1101100001#'), ('W', '0001001', 'T0000110100#'), ('W', '0001001', 'U1001110110#'), ('W', '0001001', '1100000010#'), ('W', '0001001', '111010110#'), ('W', '0001001', 'G0110011111#'), ('W', '0001001', 'G010110011#'), ('W', '0001001', 'T1111111101#'), ('W', '0001001', 'T1111000010#'), ('W', '0001001', 'U10011011#'), ('W', '0001001', 'T1000011110#'), ('W', '0001001', '1100101#'), ('W', '0001001', 'T0101000100#'), ('W', '0001001', 'G011001011#'), ('W', '0001001', '010010100#'), ('W', '0001001', 'U10110111#'), ('W', '0001001', 'U1110011110#'), ('W', '0001001', 'G010001010#'), ('W', '0001001', 'T10100010#'), ('W', '0001001', '01001010#'), ('W', '0001001', 'T00111010#'), ('W', '0001001', 'T1101011110#'), ('W', '0001001', 'U1101001010#'), ('W', '0001001', 'G011011111#'), ('W', '0001001', '0100#'), ('W', '0001001', 'U11100000#'), ('W', '001001', '110111010#'), ('W', '0001001', '111000#'), ('W', '0001001', 'G0111010111#'), ('W', '0001001', 'G01110000#'), ('W', '0001001', 'T11100111#'), ('W', '0001001', 'U101100110#'), ('W', '0001001', 'G11001110#'), ('W', '0001001', '0110101010#'), ('W', '0001001', 'G0110100110#'), ('W', '0001001', '1101110100#'), ('W', '0001001', 'T1110000011#'), ('W', '0001001', 'G0101011010#'), ('W', '0001001', 'T100100111#'), ('W', '0001001', 'G0100011010#'), ('W', '0001001', 'U100110000#'), ('W', '0001001', 'G0100010000#'), ('W', '0001001', 'G01011111#'), ('W', '0001001', 'U1010010101#'), ('W', '0001001', 'T0011010011#'), ('W', '001001', '10100001#'), ('W', '0001001', 'T0010100111#'), ('W', '0001001', 'G0111101101#'), ('W', '0001001', 'T0000000011#'), ('W', '0001001', 'T0111101001#'), ('W', '001001', '111100101#'), ('W', '0001001', '1101011100#'), ('W', '0001001', '1110101#'), ('W', '0001001', 'T0010001000#'), ('W', '0001001', 'G0110000#'), ('W', '0001001', '111111110#'), ('W', '0001001', 'T1110010001#'), ('W', '0001001', 'T010111101#'), ('W', '0001001', 'G111001101#'), ('W', '0001001', 'T100011110#'), ('W', '0001001', 'G0101001010#'), ('W', '0001001', '01111#'), ('I', '0001001', '#'), ('W', '0001001', 'T1110010010#'), ('W', '0001001', 'T001000011#'), ('W', '0001001', '1111011001#'), ('W', '0001001', 'T0001000101#'), ('W', '0001001', 'U1111110111#'), ('W', '0001001', 'G011#'), ('W', '001001', '11100011#'), ('W', '0001001', '01011100#'), ('W', '0001001', 'T11101#'), ('W', '0001001', 'G0111110000#'), ('W', '0001001', 'T0001011110#'), ('W', '0001001', 'G0110111000#'), ('W', '0001001', 'T010001011#'), ('W', '0001001', 'G11111101#'), ('W', '0001001', 'T0101111101#'), ('W', '0001001', '0111100#'), ('W', '0001001', 'G11101111#'), ('W', '0001001', 'T1110100000#'), ('W', '0001001', 'U1001000011#'), ('W', '0001001', '010011111#'), ('W', '0001001', 'T0001011100#'), ('W', '0001001', 'U110011101#'), ('W', '0001001', 'U111011110#'), ('W', '0001001', '111100110#'), ('W', '0001001', 'G011100101#'), ('W', '0001001', '111110110#'), ('W', '0001001', 'G010110110#'), ('W', '0001001', 'G111111#'), ('W', '0001001', '010101#'), ('W', '0001001', '010100101#'), ('W', '0001001', 'T001000010#'), ('W', '0001001', 'G0110110011#'), ('W', '001001', '111001111#'), ('W', '0001001', '010101011#'), ('W', '0001001', '011101001#'), ('W', '0001001', '1111010001#'), ('W', '0001001', '0101110#'), ('W', '0001001', 'U1010100101#'), ('W', '001001', '10100011#'), ('W', '0001001', '1101101101#'), ('W', '0001001', 'U111110#'), ('W', '0001001', 'U1001001001#'), ('W', '0001001', 'G010010011#'), ('W', '0001001', 'T100101011#'), ('W', '0001001', 'G0100010001#'), ('W', '0001001', 'T0110011111#'), ('W', '001001', '1010010#'), ('W', '0001001', 'G11100010#'), ('W', '0001001', 'U1000110010#'), ('W', '001001', '11111000#'), ('W', '0001001', '0100101110#'), ('W', '0001001', 'T10011111#'), ('W', '0001001', 'G011010011#'), ('W', '0001001', 'U1111100001#'), ('W', '0001001', 'G111111111#'), ('W', '001001', '11010#'), ('W', '0001001', 'G0111100110#'), ('W', '0001001', '1111011101#'), ('W', '0001001', 'T10#'), ('W', '0001001', 'T01010100#'), ('W', '0001001', '010100000#'), ('W', '0001001', 'U1011111011#'), ('W', '0001001', '0111010110#'), ('W', '001001', '101000100#'), ('W', '0001001', 'T1010001101#'), ('W', '0001001', 'G01111000#'), ('W', '0001001', 'G011000100#'), ('W', '0001001', 'T0010110#'), ('W', '0001001', '1111111001#'), ('W', '0001001', 'T1011011101#'), ('W', '0001001', 'T1100111#'), ('W', '0001001', 'G010000100#'), ('W', '0001001', 'G11010110#'), ('W', '0001001', 'T00001110#'), ('W', '0001001', 'T1100101101#'), ('W', '0001001', '1110110010#'), ('W', '0001001', '1110001010#'), ('W', '0001001', 'T000010010#'), ('W', '0001001', '01001101#'), ('W', '0001001', 'T1011010010#'), ('W', '0001001', 'T1001110001#'), ('W', '0001001', 'G010100110#'), ('W', '0001001', 'G01001011#'), ('W', '0001001', 'T0011010001#'), ('W', '0001001', 'T10001#'), ('W', '0001001', 'T1011001110#'), ('W', '0001001', '111011111#'), ('W', '0001001', 'U11000000#'), ('W', '0001001', 'T01111#'), ('W', '0001001', '0111010101#'), ('W', '0001001', 'T1101010110#'), ('W', '0001001', 'T1010000000#'), ('W', '0001001', '011001010#'), ('W', '0001001', 'U100101110#'), ('W', '0001001', '1100000101#'), ('W', '0001001', 'U1101100010#'), ('W', '0001001', 'T0100100101#'), ('W', '0001001', 'U1010001001#'), ('W', '001001', '111011#'), ('W', '0001001', 'G1100101101#'), ('W', '0001001', 'U1001010111#'), ('W', '0001001', 'G01000100#'), ('W', '0001001', 'G011111001#'), ('W', '0001001', 'U1010111011#'), ('W', '0001001', 'T01011101#'), ('W', '001001', '110110100#'), ('W', '0001001', 'G0110010001#'), ('W', '0001001', 'T1110110111#'), ('W', '0001001', 'U1111100000#'), ('W', '0001001', 'G1100000111#'), ('W', '0001001', '11111111#'), ('W', '0001001', 'U1000011011#'), ('W', '0001001', 'U10100100#'), ('W', '001001', '111111011#'), ('W', '0001001', 'G011100000#'), ('W', '0001001', 'T1100100#'), ('W', '0001001', 'U1100010001#'), ('W', '0001001', '010111111#'), ('W', '001001', '1101101#'), ('W', '0001001', 'U1001101#'), ('W', '0001001', 'U1010111#'), ('W', '0001001', 'G0100001#'), ('W', '0001001', 'G0111110010#'), ('W', '0001001', '11110000#'), ('W', '0001001', 'G1111111000#'), ('W', '001001', '11110111#'), ('W', '0001001', 'T01101101#'), ('W', '0001001', 'T110111000#'), ('W', '0001001', '11100000#'), ('W', '0001001', 'U100000001#'), ('W', '0001001', 'U100010101#'), ('W', '0001001', 'T1011110110#'), ('W', '0001001', 'U100101100#'), ('W', '001001', '10001110#'), ('W', '0001001', 'U1110001110#'), ('W', '0001001', 'T111000111#'), ('W', '0001001', 'G11010101#'), ('W', '0001001', '1101101111#'), ('W', '0001001', 'T1001101001#'), ('W', '0001001', 'U1100001000#'), ('W', '0001001', 'G111000000#'), ('W', '0001001', '1111111010#'), ('W', '0001001', 'T00101111#'), ('W', '0001001', 'T000001010#'), ('W', '0001001', 'U1011101#'), ('W', '0001001', 'T1010011101#'), ('W', '001001', '1000#'), ('W', '0001001', '010011101#'), ('W', '0001001', 'G010001101#'), ('W', '0001001', 'U1011101111#'), ('W', '0001001', 'G0100101000#'), ('W', '0001001', 'G010000010#'), ('W', '0001001', 'T0000001000#'), ('W', '0001001', 'G1111110101#'), ('W', '0001001', 'T0111100011#'), ('W', '0001001', '011011111#'), ('W', '0001001', 'T11010100#'), ('W', '001001', '110110#'), ('W', '0001001', 'G1110010000#'), ('W', '0001001', 'T10111001#'), ('W', '0001001', 'U111#'), ('W', '001001', '110111011#'), ('W', '0001001', 'T11101111#'), ('W', '0001001', '01100011#'), ('W', '0001001', 'U1000010110#'), ('W', '0001001', 'G111011100#'), ('W', '0001001', 'T0001110000#'), ('W', '001001', '100101100#'), ('W', '0001001', 'U100000100#'), ('W', '0001001', 'U1011111111#'), ('W', '0001001', '110101011#'), ('W', '0001001', 'U111100111#'), ('W', '0001001', 'T0010000110#'), ('W', '0001001', 'U10111110#'), ('W', '0001001', 'T010000101#'), ('W', '0001001', 'U1110000110#'), ('W', '0001001', '1101011001#'), ('W', '0001001', 'T01011010#'), ('W', '0001001', 'T11100101#'), ('W', '0001001', '1111011011#'), ('W', '0001001', '0110000010#'), ('W', '0001001', 'G111000101#'), ('W', '0001001', 'T001100011#'), ('W', '001001', '11111100#'), ('W', '0001001', 'G11010000#'), ('W', '0001001', '0100001110#'), ('W', '0001001', 'U10001011#'), ('W', '0001001', 'T0110000010#'), ('W', '0001001', 'G010111000#'), ('W', '0001001', 'G11111#'), ('W', '0001001', '010000001#'), ('W', '0001001', 'G01011010#'), ('W', '0001001', 'T000110010#'), ('W', '0001001', 'U1011111100#'), ('W', '0001001', 'T110100#'), ('W', '0001001', 'T1010011000#'), ('W', '0001001', '1111110011#'), ('W', '001001', '111000000#'), ('W', '0001001', 'T1001010100#'), ('W', '001001', '110010111#'), ('W', '001001', '110110111#'), ('W', '0001001', '010000100#'), ('W', '0001001', 'T0111011111#'), ('W', '0001001', '11111101#'), ('W', '0001001', '0110111111#'), ('W', '0001001', '1100111011#'), ('W', '0001001', '0101011100#'), ('W', '0001001', 'T00010000#'), ('W', '0001001', 'T000011100#'), ('W', '0001001', '0110111#'), ('W', '0001001', 'U1001110100#'), ('W', '0001001', 'G110000111#'), ('W', '0001001', 'G110111110#'), ('W', '0001001', 'G11011001#'), ('W', '0001001', 'U1101101010#'), ('W', '0001001', 'T110000001#'), ('W', '0001001', 'T0110010001#'), ('W', '0001001', 'T100110011#'), ('W', '0001001', 'G01101101#'), ('W', '0001001', 'T1000011100#'), ('W', '001001', '101001111#'), ('W', '001001', '11011010#'), ('W', '001001', '110110011#'), ('W', '0001001', '1100110100#'), ('W', '0001001', 'T101000101#'), ('W', '0001001', '0100111001#'), ('W', '0001001', 'G1100001111#'), ('W', '0001001', 'G1110010110#'), ('W', '001001', '101001011#'), ('W', '0001001', '1101111111#'), ('W', '0001001', 'U11101101#'), ('W', '0001001', '111001010#'), ('W', '0001001', 'T1111100111#'), ('W', '0001001', 'T00010101#'), ('W', '0001001', 'T010101000#'), ('W', '0001001', '1100011011#'), ('W', '0001001', 'T1000010010#'), ('W', '0001001', 'G1111000111#'), ('W', '0001001', 'T1001001101#'), ('W', '001001', '111101010#'), ('W', '0001001', 'T0101111010#'), ('W', '0001001', 'U101000011#'), ('W', '0001001', '011100001#'), ('W', '0001001', 'G110110001#'), ('W', '0001001', 'G0111001#'), ('W', '0001001', 'U1010100110#'), ('W', '0001001', 'G0110101110#'), ('W', '0001001', '0110010110#'), ('W', '0001001', 'T000100111#'), ('W', '0001001', 'G0110101111#'), ('W', '0001001', 'T1110110000#'), ('W', '0001001', 'G0101111011#'), ('W', '0001001', '0111111010#'), ('W', '0001001', 'T1110110010#'), ('W', '0001001', 'T101011110#'), ('W', '0001001', 'U1010111110#'), ('W', '0001001', '011100110#'), ('W', '0001001', '1111001010#'), ('W', '0001001', 'U101110001#'), ('W', '0001001', '0110011010#'), ('W', '0001001', '1101010111#'), ('W', '001001', '110001010#'), ('W', '0001001', 'T0100110000#'), ('W', '0001001', 'G11101001#'), ('W', '0001001', '11000010#'), ('W', '0001001', '1100101011#'), ('W', '0001001', 'G1101100110#'), ('W', '0001001', 'T1101001110#'), ('W', '0001001', '1110101000#'), ('W', '0001001', 'T0011011111#'), ('W', '0001001', 'G1110111000#'), ('W', '0001001', 'G1110111#'), ('W', '001001', '111110#'), ('W', '0001001', '1110000111#'), ('W', '001001', '111100010#'), ('W', '0001001', 'U100111101#'), ('W', '0001001', 'T111011111#'), ('W', '0001001', 'T0011010110#'), ('W', '0001001', '11010001#'), ('W', '001001', '110010011#'), ('W', '0001001', '010000111#'), ('W', '0001001', '1111001011#'), ('W', '0001001', 'T1111110011#'), ('W', '0001001', 'U1001100110#'), ('W', '0001001', 'T110111010#'), ('W', '0001001', 'U1011001011#'), ('W', '0001001', 'T0110010#'), ('W', '0001001', 'G11110100#'), ('W', '0001001', 'G0110011101#'), ('W', '0001001', 'U100110110#'), ('W', '0001001', '0101000#'), ('W', '0001001', 'T0110000100#'), ('W', '0001001', 'U1101111#'), ('W', '0001001', 'T0011101011#'), ('W', '001001', '100000110#'), ('W', '0001001', '1111100001#'), ('W', '0001001', 'T111011110#'), ('W', '0001001', 'T11000101#'), ('W', '0001001', 'T000110001#'), ('W', '0001001', 'T111100001#'), ('W', '0001001', 'T01110#'), ('W', '0001001', 'T101100011#'), ('W', '0001001', '011000001#'), ('W', '0001001', 'G011101101#'), ('W', '001001', '100100010#'), ('W', '0001001', 'T10011001#'), ('W', '0001001', 'U1101001000#'), ('W', '0001001', 'G1111111001#'), ('W', '0001001', '1101001110#'), ('W', '0001001', 'T0000110101#'), ('W', '0001001', 'T100111001#'), ('W', '0001001', '0110111000#'), ('W', '0001001', 'U1111110011#'), ('W', '0001001', 'U1101101#'), ('W', '0001001', '0101110111#'), ('W', '0001001', 'G0111110111#'), ('W', '0001001', 'U10110101#'), ('W', '0001001', 'G010001100#'), ('W', '0001001', 'U110010010#'), ('W', '0001001', 'U1001000000#'), ('W', '0001001', '010010#'), ('W', '0001001', '01001011#'), ('W', '0001001', 'U1110010000#'), ('W', '0001001', 'T011010001#'), ('W', '0001001', 'T111011010#'), ('W', '0001001', 'G010111111#'), ('W', '0001001', 'G1111110111#'), ('W', '0001001', 'T011101000#'), ('W', '0001001', 'G11110010#'), ('W', '001001', '10110110#'), ('W', '0001001', 'T1111001111#'), ('W', '0001001', 'T0110110101#'), ('W', '0001001', 'G111010110#'), ('W', '0001001', 'G0100010101#'), ('W', '0001001', 'T001010100#'), ('W', '0001001', 'T1010001000#'), ('W', '0001001', 'T0001100001#'), ('W', '0001001', 'G0100011100#'), ('W', '0001001', 'T0010110100#'), ('W', '0001001', 'U1100001#'), ('W', '0001001', 'U111111101#'), ('W', '0001001', '011100101#'), ('W', '0001001', 'U111010110#'), ('W', '0001001', 'T1011001001#'), ('W', '0001001', 'T0001101011#'), ('W', '001001', '11010101#'), ('W', '0001001', 'T0111110000#'), ('W', '0001001', 'T111110110#'), ('W', '0001001', 'T1010101#'), ('W', '0001001', 'U1100001101#'), ('W', '0001001', 'U1001011010#'), ('W', '0001001', 'T1011100100#'), ('W', '0001001', 'G01011001#'), ('W', '0001001', 'U110010001#'), ('W', '001001', '1011111#'), ('W', '0001001', 'T1111111111#'), ('W', '001001', '100110010#'), ('W', '001001', '11011#'), ('W', '0001001', 'T1110111000#'), ('W', '0001001', 'T0011111011#'), ('W', '0001001', 'U1000101#'), ('W', '0001001', '010100010#'), ('W', '0001001', 'G111010010#'), ('W', '0001001', 'T1110001110#'), ('W', '0001001', 'T1110101#'), ('W', '0001001', 'U1010101111#'), ('W', '0001001', '1111010101#'), ('W', '0001001', 'U1001110001#'), ('W', '0001001', 'T110010111#'), ('W', '0001001', 'G0101#'), ('W', '0001001', 'T1010000111#'), ('W', '0001001', '0110001001#'), ('W', '0001001', 'T0111011001#'), ('W', '0001001', '0111001110#'), ('W', '0001001', '11001010#'), ('W', '0001001', 'T001001#'), ('W', '001001', '101011111#'), ('W', '0001001', 'T11110#'), ('W', '0001001', 'T0000001101#'), ('W', '0001001', 'U101#'), ('W', '001001', '110011010#'), ('W', '0001001', '1110100001#'), ('W', '001001', '1110110#'), ('W', '0001001', 'T0001000#'), ('W', '0001001', 'T0101110011#'), ('W', '0001001', 'U101110#'), ('W', '0001001', '1100001#'), ('W', '001001', '111010011#'), ('W', '0001001', 'U1111001001#'), ('W', '0001001', 'T0101101#'), ('W', '001001', '110111101#'), ('W', '0001001', '1111000000#'), ('W', '0001001', 'U1010010111#'), ('W', '0001001', 'G1101011000#'), ('W', '0001001', '110001101#'), ('W', '0001001', 'T011001100#'), ('W', '001001', '10111010#'), ('W', '0001001', 'T001010110#'), ('W', '0001001', 'T010001100#'), ('W', '001001', '111010110#'), ('W', '0001001', 'U110101110#'), ('W', '001001', '101010110#'), ('W', '0001001', 'U1010100000#'), ('W', '0001001', 'G0111010100#'), ('W', '0001001', 'T111101111#'), ('W', '0001001', 'T10001010#'), ('W', '0001001', '0111#'), ('W', '0001001', '110100000#'), ('W', '0001001', '010101111#'), ('W', '0001001', '0101011010#'), ('W', '0001001', 'G0111101110#'), ('W', '0001001', 'T111001110#'), ('W', '0001001', 'G110001100#'), ('W', '0001001', 'U1101100110#'), ('W', '001001', '100011100#'), ('W', '0001001', 'U101001101#'), ('W', '0001001', 'T1100#'), ('W', '0001001', 'T1010100011#'), ('W', '001001', '100001#'), ('W', '0001001', 'T100110001#'), ('W', '0001001', 'T1111101101#'), ('W', '0001001', 'U1101000100#'), ('W', '0001001', 'U1101110100#'), ('W', '0001001', '111010010#'), ('W', '0001001', 'T1110110101#'), ('W', '001001', '110100001#'), ('W', '0001001', 'G111100011#'), ('W', '0001001', 'G1101101101#'), ('W', '0001001', 'T101001001#'), ('W', '0001001', 'T01100100#'), ('W', '0001001', 'G0110001#'), ('W', '0001001', 'G1100011001#'), ('W', '001001', '100#'), ('W', '0001001', 'T11100#'), ('W', '0001001', 'T111101101#'), ('W', '0001001', 'T0000101111#'), ('W', '0001001', 'G01001100#'), ('W', '0001001', '0101101001#'), ('W', '0001001', 'T0111110001#'), ('W', '0001001', 'U1010010011#'), ('W', '0001001', 'G010110010#'), ('W', '0001001', '0110111001#'), ('W', '0001001', 'T0001100010#'), ('W', '0001001', 'T1101100100#'), ('W', '0001001', '0110100100#'), ('W', '0001001', 'U1001#'), ('W', '001001', '10110101#'), ('W', '0001001', 'G1111000110#'), ('W', '0001001', 'U1000110111#'), ('W', '0001001', 'G1110010101#'), ('W', '0001001', 'T01010111#'), ('W', '0001001', 'U1000110100#'), ('W', '0001001', 'U111111010#'), ('W', '0001001', 'T110110010#'), ('W', '0001001', 'T1011101001#'), ('W', '001001', '1000100#'), ('W', '0001001', 'U1001011001#'), ('W', '0001001', 'T1000101000#'), ('W', '001001', '111111110#'), ('W', '0001001', 'G01100000#'), ('W', '0001001', 'T0101100011#'), ('W', '0001001', 'T1001000110#'), ('W', '0001001', 'T001110000#'), ('W', '0001001', 'U100011110#'), ('W', '0001001', 'U1001011011#'), ('W', '0001001', 'G011110011#'), ('W', '0001001', 'G111010101#'), ('W', '0001001', '1101111010#'), ('W', '0001001', 'T00111000#'), ('W', '0001001', 'G0100100000#'), ('W', '0001001', 'T10101001#'), ('W', '0001001', 'T0010010110#'), ('W', '0001001', 'G1111000011#'), ('W', '0001001', 'U100010100#'), ('W', '0001001', 'U1010100#'), ('W', '0001001', '010010111#'), ('W', '0001001', 'T100001010#'), ('W', '0001001', 'G1110000001#'), ('W', '0001001', 'U1010101#'), ('W', '0001001', 'U1011110100#'), ('W', '0001001', 'T010000011#'), ('W', '0001001', 'U1010011111#'), ('W', '0001001', 'G1111011100#'), ('W', '0001001', 'T00001111#'), ('W', '0001001', 'T1010100001#'), ('W', '0001001', 'T1101111101#'), ('W', '001001', '111100110#'), ('W', '0001001', 'T0110110010#'), ('W', '0001001', 'T0101101100#'), ('W', '0001001', 'T100100101#'), ('W', '0001001', 'G11100011#'), ('W', '0001001', 'G011110#'), ('W', '0001001', 'G110100111#'), ('W', '0001001', 'G1100001100#'), ('W', '0001001', 'T0010110000#'), ('W', '0001001', '0101111010#'), ('W', '0001001', 'G0111001101#'), ('W', '0001001', '0110010101#'), ('W', '0001001', '0110011#'), ('W', '0001001', 'U1001000100#'), ('W', '0001001', 'T1001110101#'), ('W', '0001001', 'T001011#'), ('W', '0001001', '1110010110#'), ('W', '0001001', 'T1111000100#'), ('W', '0001001', 'T0100111110#'), ('W', '0001001', 'U111101#'), ('W', '0001001', 'T01100101#'), ('W', '0001001', 'T0001111110#'), ('W', '001001', '11101011#'), ('W', '0001001', 'U11011110#'), ('W', '0001001', 'G1100111001#'), ('W', '0001001', '0111100010#'), ('W', '0001001', 'T0101101111#'), ('W', '0001001', 'U10010001#'), ('W', '0001001', 'G010110000#'), ('W', '0001001', 'T0101101001#'), ('W', '0001001', '0101010100#'), ('W', '0001001', 'T0000001100#'), ('W', '0001001', 'G111110001#'), ('W', '0001001', 'U11011101#'), ('W', '0001001', 'T0100001101#'), ('W', '0001001', 'U11010100#'), ('W', '0001001', 'U1011100110#'), ('W', '0001001', 'G1110000010#'), ('W', '0001001', 'U111111110#'), ('W', '001001', '101110000#'), ('W', '0001001', 'T011001#'), ('W', '0001001', '1110010010#'), ('W', '0001001', 'G1111001111#'), ('W', '0001001', 'U10100#'), ('W', '001001', '101110111#'), ('W', '0001001', 'T10110000#'), ('W', '0001001', 'T100100011#'), ('W', '0001001', 'T1110111110#'), ('W', '0001001', '0111101001#'), ('W', '0001001', 'T010101001#'), ('W', '0001001', 'U1100110#'), ('W', '0001001', 'T1010011100#'), ('W', '0001001', 'T0100110100#'), ('W', '0001001', 'G111000110#'), ('W', '0001001', '010001110#'), ('W', '0001001', 'G1110101000#'), ('W', '0001001', 'T000011001#'), ('W', '001001', '100101111#'), ('W', '0001001', 'T0110101100#'), ('W', '0001001', 'U101001#'), ('W', '0001001', 'U1101110011#'), ('W', '0001001', 'G0101111101#'), ('W', '0001001', 'T11000011#'), ('W', '0001001', '1111111100#'), ('W', '0001001', 'T0001111001#'), ('W', '0001001', '1111111101#'), ('W', '0001001', 'T01101000#'), ('W', '0001001', '1111101110#'), ('W', '0001001', 'T1000110011#'), ('W', '0001001', 'G0101001110#'), ('W', '0001001', 'T010100001#'), ('W', '0001001', '1101110010#'), ('W', '0001001', 'T0010111101#'), ('W', '0001001', 'T1011110#'), ('W', '0001001', 'T10111000#'), ('W', '0001001', 'U100010011#'), ('W', '0001001', 'T010010000#'), ('W', '0001001', 'T1001000100#'), ('W', '0001001', 'U11011010#'), ('W', '0001001', 'T1111111100#'), ('W', '0001001', 'T001101110#'), ('W', '0001001', 'T0110001#'), ('W', '0001001', '1100011000#'), ('W', '001001', '101100111#'), ('W', '0001001', 'U1000110001#'), ('W', '0001001', '1101001010#'), ('W', '0001001', 'T100010010#'), ('W', '0001001', '1101110101#'), ('W', '0001001', 'T1000000010#'), ('W', '0001001', 'T000011011#'), ('W', '0001001', 'U1111111010#'), ('W', '0001001', '1110110011#'), ('W', '0001001', '01111011#'), ('W', '0001001', 'T010010#'), ('W', '0001001', 'T111001001#'), ('W', '0001001', 'U110000001#'), ('W', '0001001', 'T11011010#'), ('W', '0001001', 'G110101#'), ('W', '0001001', 'T000011010#'), ('W', '0001001', 'T0000010010#'), ('W', '0001001', 'U10001111#'), ('W', '0001001', 'G110000000#'), ('W', '0001001', 'U1011110001#'), ('W', '0001001', '0100001010#'), ('W', '0001001', '0110111110#'), ('W', '001001', '11110000#'), ('W', '0001001', 'T1111110101#'), ('W', '0001001', 'T011011100#'), ('W', '0001001', 'T1111#'), ('W', '001001', '11100000#'), ('W', '0001001', 'G1111010100#'), ('W', '0001001', 'T1110100010#'), ('W', '001001', '10111100#'), ('W', '0001001', '011001#'), ('W', '0001001', 'G0101010111#'), ('W', '0001001', 'T1001101#'), ('W', '0001001', 'G0100011#'), ('W', '0001001', 'T000001101#'), ('W', '0001001', '1111011#'), ('W', '0001001', 'U1101010#'), ('W', '0001001', 'T0011010111#'), ('W', '0001001', '11000000#'), ('W', '0001001', 'U11100#'), ('W', '0001001', 'T1011101111#'), ('W', '0001001', 'T1100011111#'), ('W', '0001001', 'T1010001110#'), ('W', '0001001', 'T01110011#'), ('W', '0001001', '1110000101#'), ('W', '0001001', 'T0111100110#'), ('W', '0001001', '111101#'), ('W', '0001001', 'T000101101#'), ('W', '0001001', 'U101010000#'), ('W', '0001001', 'T1011110010#'), ('W', '0001001', 'G011001001#'), ('W', '0001001', 'G110001110#'), ('W', '0001001', 'T011000110#'), ('W', '0001001', 'U111110011#'), ('W', '001001', '10110100#'), ('W', '0001001', 'G11111001#'), ('W', '0001001', 'T0110100110#'), ('W', '0001001', 'F0#'), ('W', '0001001', 'T00#'), ('W', '0001001', 'T0101000000#'), ('W', '0001001', 'T111100110#'), ('W', '0001001', 'T111111011#'), ('W', '0001001', '0101111110#'), ('W', '0001001', 'T011100000#'), ('W', '0001001', 'U1011110110#'), ('W', '0001001', '1110011001#'), ('W', '0001001', 'G110000010#'), ('W', '0001001', 'T0000#'), ('W', '001001', '100010#'), ('W', '0001001', 'T0010000101#'), ('W', '001001', '10000011#'), ('W', '0001001', 'T101100#'), ('W', '0001001', 'G01000000#'), ('W', '0001001', 'G1110100001#'), ('W', '0001001', 'T011011101#'), ('W', '001001', '1001001#'), ('W', '0001001', 'T0000110000#'), ('W', '0001001', 'T00100111#'), ('W', '0001001', 'T0111101101#'), ('W', '0001001', 'T0111111100#'), ('W', '0001001', 'U1101000001#'), ('W', '0001001', '010001100#'), ('W', '0001001', 'T0101001000#'), ('W', '001001', '1011#'), ('W', '0001001', 'T0110011#'), ('W', '001001', '100101001#'), ('W', '0001001', 'G111010100#'), ('W', '0001001', 'U1010000010#'), ('W', '0001001', 'U100101001#'), ('W', '0001001', 'T0110111010#'), ('W', '0001001', 'T010101101#'), ('W', '0001001', 'T00000#'), ('W', '0001001', 'G0111100010#'), ('W', '0001001', 'G010010#'), ('W', '0001001', 'U1101001001#'), ('W', '0001001', 'U1111011100#'), ('W', '0001001', 'G110111001#'), ('W', '0001001', '01101100#'), ('W', '0001001', 'U1111010111#'), ('W', '0001001', '1111000110#'), ('W', '0001001', 'T0011001011#'), ('W', '0001001', 'G110110010#'), ('W', '0001001', 'U1011101100#'), ('W', '0001001', 'G01011110#'), ('W', '0001001', 'U1101101001#'), ('W', '0001001', 'T1111101010#'), ('W', '0001001', 'G01101010#'), ('W', '0001001', 'T0111011#'), ('W', '0001001', 'G0101101010#'), ('W', '0001001', 'T0011100111#'), ('W', '001001', '101001100#'), ('W', '0001001', '1110100011#'), ('W', '0001001', 'U1000001111#'), ('W', '0001001', '0111000100#'), ('W', '0001001', 'T000110#'), ('W', '0001001', 'T0101100#'), ('W', '0001001', 'G0110100#'), ('W', '0001001', 'T00111100#'), ('W', '0001001', '011010#'), ('W', '0001001', 'U100110001#'), ('W', '0001001', 'G011111#'), ('W', '0001001', 'U1101#'), ('W', '0001001', 'T100111100#'), ('W', '0001001', 'T0010011000#'), ('W', '0001001', 'G1101001011#'), ('W', '0001001', 'T00010100#'), ('W', '001001', '101000111#'), ('W', '0001001', 'T0110010010#'), ('W', '0001001', 'U10#'), ('W', '0001001', 'T10101#'), ('W', '0001001', 'G0110011011#'), ('W', '0001001', 'T00111001#'), ('W', '0001001', 'G010100000#'), ('W', '0001001', 'G111101100#'), ('W', '001001', '111001010#'), ('W', '0001001', 'T111101010#'), ('W', '0001001', 'T1110100100#'), ('W', '0001001', 'U101000100#'), ('W', '0001001', 'U10010010#'), ('W', '0001001', 'G1111101#'), ('W', '0001001', 'G111110011#'), ('W', '0001001', 'T#'), ('W', '0001001', 'T011111100#'), ('W', '0001001', 'T0100000010#'), ('W', '0001001', 'T0000111110#'), ('W', '0001001', 'T0001010001#'), ('W', '001001', '111000001#'), ('W', '0001001', 'T1001001010#'), ('W', '0001001', 'T01100#'), ('W', '0001001', 'U101111001#'), ('W', '0001001', 'U1100010010#'), ('W', '0001001', 'T0001101010#'), ('W', '0001001', 'T1001111011#'), ('W', '0001001', 'G1100010100#'), ('W', '0001001', '01011#'), ('W', '0001001', 'U1111100110#'), ('W', '0001001', 'T000101001#'), ('W', '0001001', '0110100110#'), ('W', '0001001', 'T010000100#'), ('W', '0001001', 'T0000011111#'), ('W', '0001001', 'U1111000111#'), ('W', '0001001', 'U111001101#'), ('W', '0001001', 'U1001010010#'), ('W', '0001001', 'T1100100110#'), ('W', '0001001', 'U1110011101#'), ('W', '0001001', 'G1111101010#'), ('W', '001001', '11000010#'), ('W', '0001001', '1110110001#'), ('W', '0001001', 'T01111000#'), ('W', '0001001', 'T0000101010#'), ('W', '0001001', '0110001101#'), ('W', '0001001', 'U1111110#'), ('W', '0001001', '0100001000#'), ('W', '0001001', 'G011110110#'), ('W', '0001001', 'T100011000#'), ('W', '001001', '111111001#'), ('W', '0001001', 'G010110101#'), ('W', '0001001', 'U111110010#'), ('W', '0001001', 'G0110111010#'), ('W', '0001001', 'T110011000#'), ('W', '0001001', 'T01101010#'), ('W', '001001', '11010001#'), ('W', '0001001', '1111111111#'), ('W', '0001001', 'T0101110000#'), ('W', '0001001', 'G1100111101#'), ('W', '0001001', 'U1101000011#'), ('W', '0001001', '0110001010#'), ('W', '0001001', 'T001001010#'), ('W', '0001001', 'G011001010#'), ('W', '0001001', 'U1100110100#'), ('W', '0001001', 'U110011100#'), ('W', '0001001', 'G010001000#'), ('W', '0001001', 'T001111001#'), ('W', '0001001', 'U110100001#'), ('W', '0001001', 'U1011000101#'), ('W', '0001001', 'G1111000100#'), ('W', '0001001', 'G0111011101#'), ('W', '0001001', 'G0111111#'), ('W', '0001001', 'G010101101#'), ('W', '0001001', 'T0110011011#'), ('W', '0001001', '011010111#'), ('W', '0001001', 'U1010011#'), ('W', '0001001', 'T1001110011#'), ('W', '0001001', '111000011#'), ('W', '0001001', '1110101101#'), ('W', '0001001', 'T010000#'), ('W', '0001001', 'T0110110100#'), ('W', '0001001', 'T1111011000#'), ('W', '0001001', 'U1000010001#'), ('W', '0001001', 'G01001001#'), ('W', '0001001', 'U10000101#'), ('W', '0001001', 'U1011001010#'), ('W', '0001001', 'T1110101110#'), ('W', '001001', '111000110#'), ('W', '0001001', 'T0110101#'), ('W', '0001001', '1111110000#'), ('W', '0001001', 'T011000001#'), ('W', '0001001', 'T01111010#'), ('W', '0001001', 'T010#'), ('W', '0001001', 'T110100000#'), ('W', '0001001', 'G0100010111#'), ('W', '0001001', 'T0000001011#'), ('W', '0001001', 'T11111111#'), ('W', '0001001', 'G1101010110#'), ('W', '0001001', 'T1101001011#'), ('W', '0001001', 'G1100101000#'), ('W', '0001001', 'T110101001#'), ('W', '0001001', 'U1011100011#'), ('W', '0001001', 'T0110010111#'), ('W', '0001001', 'T100100010#'), ('W', '0001001', 'U1111010000#'), ('W', '0001001', 'G1110000100#'), ('W', '0001001', 'U1001111#'), ('W', '0001001', 'U1101101101#'), ('W', '001001', '101011100#'), ('W', '0001001', 'U1110111101#'), ('W', '0001001', 'T100001001#'), ('W', '0001001', 'T011100010#'), ('W', '0001001', 'T1111010000#'), ('W', '0001001', 'T101011010#'), ('W', '001001', '10010010#'), ('W', '0001001', 'G01000111#'), ('W', '001001', '1011110#'), ('W', '0001001', 'T100011100#'), ('W', '001001', '100100110#'), ('W', '0001001', 'G110110111#'), ('W', '0001001', 'T0010111#'), ('W', '0001001', 'U11011000#'), ('W', '0001001', 'T1010110110#'), ('W', '0001001', 'T111000000#'), ('W', '0001001', 'T111010100#'), ('W', '0001001', 'T00101011#'), ('W', '0001001', 'T1000110101#'), ('W', '0001001', 'T101111000#'), ('W', '0001001', 'T11011111#'), ('W', '0001001', '0111011111#'), ('W', '0001001', 'T110001000#'), ('W', '0001001', 'T0100010101#'), ('W', '0001001', 'U1011010010#'), ('W', '0001001', 'U10000000#'), ('W', '0001001', 'G0100001100#'), ('W', '0001001', 'G010100001#'), ('W', '0001001', 'U1000000101#'), ('W', '0001001', 'U1110101111#'), ('W', '0001001', 'U1100110111#'), ('W', '0001001', 'U1000111001#'), ('W', '0001001', 'T001111011#'), ('W', '0001001', '0101001110#'), ('W', '0001001', 'T0110101001#'), ('W', '0001001', 'U1010100010#'), ('W', '0001001', 'T011001101#'), ('W', '0001001', '110101110#'), ('W', '0001001', 'T01001101#'), ('W', '0001001', 'G0110101100#'), ('W', '0001001', 'T101110#'), ('W', '0001001', 'T1010111000#'), ('W', '001001', '1110011#'), ('W', '0001001', 'T0010110110#'), ('W', '0001001', 'T101000000#'), ('W', '0001001', 'T000100100#'), ('W', '0001001', '1100110001#'), ('W', '0001001', 'T0010111011#'), ('W', '0001001', '1100001001#'), ('W', '0001001', '0111110011#'), ('W', '0001001', 'U101011111#'), ('W', '0001001', 'G0110101001#'), ('W', '0001001', 'U1100#'), ('W', '0001001', '010100111#'), ('W', '0001001', 'T010111100#'), ('W', '001001', '11001010#'), ('W', '0001001', 'T0100010001#'), ('W', '0001001', '010110000#'), ('W', '0001001', 'T001111100#'), ('W', '0001001', 'T001001011#'), ('W', '0001001', 'U10000110#'), ('W', '001001', '100110111#'), ('W', '0001001', 'T0010001111#'), ('W', '0001001', 'U1111011000#'), ('W', '0001001', 'U1101101011#'), ('W', '0001001', 'U1111001111#'), ('W', '0001001', 'U1000111101#'), ('W', '0001001', 'G110011100#'), ('W', '0001001', 'T0100100001#'), ('W', '0001001', 'T000#'), ('W', '0001001', 'U1100101000#'), ('W', '0001001', 'T1100010110#'), ('W', '0001001', 'T101010011#'), ('W', '0001001', 'T0110011110#'), ('W', '0001001', '010110001#'), ('W', '0001001', 'G11101101#'), ('W', '0001001', 'U101011000#'), ('W', '0001001', 'G0101111010#'), ('W', '0001001', '0111001010#'), ('W', '0001001', 'T0000100110#'), ('W', '0001001', 'U1110111#'), ('W', '0001001', 'T1101011000#'), ('W', '0001001', '1100111#'), ('W', '001001', '110001101#'), ('W', '0001001', 'T001110110#'), ('W', '0001001', 'U110011001#'), ('W', '0001001', 'T0000111010#'), ('W', '0001001', 'U1011000#'), ('W', '0001001', 'T0100011110#'), ('W', '0001001', 'T0011101101#'), ('W', '0001001', 'G1111010101#'), ('W', '0001001', 'U1100001110#'), ('W', '0001001', 'T0111101000#'), ('W', '0001001', '01101110#'), ('W', '0001001', 'G0111010#'), ('W', '0001001', 'U1001000111#'), ('W', '001001', '110100000#'), ('W', '0001001', 'G1111001110#'), ('W', '0001001', '1110100111#'), ('W', '0001001', 'T1000011101#'), ('W', '0001001', 'G0101000111#'), ('W', '0001001', 'U1000011#'), ('W', '0001001', '1111111#'), ('W', '0001001', 'U101100010#'), ('W', '0001001', '0110000110#'), ('W', '0001001', 'U1110010001#'), ('W', '0001001', 'U1010110010#'), ('W', '0001001', 'T01011110#'), ('W', '0001001', 'T01110101#'), ('W', '0001001', 'T1100000101#'), ('W', '0001001', 'T1111011010#'), ('W', '0001001', 'T111111100#'), ('W', '0001001', 'U11#'), ('W', '0001001', '111#'), ('W', '0001001', 'G01000010#'), ('W', '0001001', 'T1010010111#'), ('W', '001001', '111010010#'), ('W', '0001001', 'U1001111001#'), ('W', '0001001', '011110110#'), ('W', '0001001', 'T010101011#'), ('W', '0001001', 'G1100111011#'), ('W', '0001001', 'G111001000#'), ('W', '0001001', 'T101111100#'), ('F', '0001001', '#'), ('W', '0001001', 'G01100111#'), ('W', '0001001', '0100000001#'), ('W', '0001001', 'T0110000111#'), ('W', '0001001', 'U111000100#'), ('W', '0001001', '1111101111#'), ('W', '0001001', 'T0101101110#'), ('W', '0001001', '1110101011#'), ('W', '0001001', 'U1111000#'), ('W', '0001001', '01000110#'), ('W', '0001001', 'G110101111#'), ('W', '0001001', 'U100100110#'), ('W', '0001001', 'U110111101#'), ('W', '0001001', 'U110101011#'), ('W', '0001001', '1111000011#'), ('W', '0001001', '01100111#'), ('W', '0001001', 'T0000011000#'), ('W', '0001001', 'T10100101#'), ('W', '0001001', 'T0001010010#'), ('W', '0001001', '0100000010#'), ('W', '0001001', 'G1100011011#'), ('W', '0001001', '01101111#'), ('W', '0001001', 'T0111011100#'), ('W', '0001001', 'U101000001#'), ('W', '001001', '111110010#'), ('W', '0001001', '111111#'), ('W', '0001001', '0110011000#'), ('W', '0001001', 'T10110110#'), ('W', '001001', '110101000#'), ('W', '0001001', 'T111100111#'), ('W', '0001001', '011100100#'), ('W', '0001001', '110000101#'), ('W', '0001001', 'G111110111#'), ('W', '0001001', 'T10110#'), ('W', '0001001', 'U100000111#'), ('W', '0001001', 'T1111100#'), ('W', '0001001', 'T110000011#'), ('W', '0001001', '111011001#'), ('W', '0001001', 'G0110010000#'), ('W', '0001001', 'G111011101#'), ('W', '001001', '100110101#'), ('W', '0001001', 'T1110100011#'), ('W', '0001001', 'G0110010101#'), ('W', '0001001', 'G010100111#'), ('W', '001001', '101101100#'), ('W', '0001001', 'T0000000101#'), ('W', '0001001', 'T1011101011#'), ('W', '0001001', '0101110000#'), ('W', '0001001', 'T110111100#'), ('W', '001001', '100010001#'), ('W', '0001001', 'U1011101001#'), ('W', '001001', '110111110#'), ('W', '0001001', 'G11110011#'), ('W', '0001001', 'U101001010#'), ('W', '0001001', 'T0010010#'), ('W', '0001001', 'U110001000#'), ('W', '0001001', 'U1011001001#'), ('W', '0001001', 'G0111010010#'), ('W', '0001001', 'T000111001#'), ('W', '0001001', 'U1010110100#'), ('W', '0001001', 'T0011111101#'), ('W', '0001001', 'G0100101011#'), ('W', '001001', '11001001#'), ('W', '0001001', 'U1110000111#'), ('W', '0001001', 'T110101110#'), ('W', '0001001', 'U11001000#'), ('W', '0001001', 'U111010100#'), ('W', '0001001', 'G1110010100#'), ('W', '0001001', 'G0101001100#'), ('W', '0001001', 'U1000011000#'), ('W', '0001001', 'G1101101111#'), ('W', '0001001', 'U1100100101#'), ('W', '0001001', '11111110#'), ('W', '0001001', 'T101100010#'), ('W', '0001001', 'U11111001#'), ('W', '0001001', '0101011#'), ('W', '0001001', 'G11#'), ('W', '0001001', '1101101011#'), ('W', '0001001', 'U11011111#'), ('W', '0001001', '1101110011#'), ('W', '0001001', 'G0110101101#'), ('W', '0001001', '11010110#'), ('W', '0001001', '1101000001#'), ('W', '0001001', 'T000100010#'), ('W', '0001001', 'U1111000011#'), ('W', '0001001', 'T0010101011#'), ('W', '0001001', 'G0110111111#'), ('W', '0001001', 'G1110100000#'), ('W', '0001001', '1100111010#'), ('W', '0001001', 'T0001111101#'), ('W', '0001001', '0111110000#'), ('W', '0001001', 'T1110000001#'), ('W', '0001001', 'T1001001#'), ('W', '0001001', 'T00111#'), ('W', '0001001', 'U1001001111#'), ('W', '0001001', 'U1100000001#'), ('W', '001001', '1110#'), ('W', '0001001', '0111000110#'), ('W', '0001001', 'U11001110#'), ('W', '0001001', 'T0000100001#'), ('W', '0001001', 'U1100000#'), ('W', '0001001', '01101101#'), ('W', '0001001', '0111000101#'), ('W', '0001001', 'U1010100100#'), ('W', '0001001', 'T1100010100#'), ('W', '0001001', 'G110001011#'), ('W', '0001001', 'U110111000#'), ('W', '0001001', 'T001011111#'), ('W', '0001001', 'T011101100#'), ('W', '0001001', '0100001#'), ('W', '0001001', '0101111011#'), ('W', '0001001', '110100011#'), ('W', '0001001', '011110100#'), ('W', '0001001', 'T1110001101#'), ('W', '0001001', 'T100110#'), ('W', '0001001', 'T0111001001#'), ('W', '0001001', 'T1011001111#'), ('W', '0001001', 'T110011010#'), ('W', '0001001', 'T0011011000#'), ('W', '0001001', 'U10010110#'), ('W', '0001001', 'T101101111#'), ('W', '0001001', '1100000100#'), ('W', '0001001', 'G1100110010#'), ('W', '0001001', 'G010100100#'), ('W', '0001001', 'T001010001#'), ('W', '0001001', 'T1011100010#'), ('W', '0001001', 'G1111111100#'), ('W', '0001001', 'T0010100010#'), ('W', '0001001', '111001110#'), ('W', '0001001', 'T0011011#'), ('W', '0001001', 'T010111011#'), ('W', '0001001', 'T0101010101#'), ('W', '0001001', 'T110001011#'), ('W', '0001001', 'G1110001001#'), ('W', '0001001', 'U101100011#'), ('W', '0001001', 'U11011001#'), ('W', '0001001', 'T1001111010#'), ('W', '0001001', 'G0100100111#'), ('W', '0001001', '0101011111#'), ('W', '0001001', 'U1111100011#'), ('W', '0001001', '011110010#'), ('W', '0001001', '0111101110#'), ('W', '0001001', 'G0111111111#'), ('W', '0001001', 'U1100010100#'), ('W', '0001001', 'T1110000100#'), ('W', '0001001', 'U1010000111#'), ('W', '0001001', 'T1100111111#'), ('W', '0001001', 'U1110101001#'), ('W', '0001001', 'U1010100111#'), ('W', '0001001', 'T1010000101#'), ('W', '0001001', 'U1110011010#'), ('W', '0001001', 'T11011000#'), ('W', '0001001', 'T000110000#'), ('W', '0001001', 'T0011100110#'), ('W', '0001001', 'U1100110000#'), ('W', '0001001', 'T1011011000#'), ('W', '0001001', 'T0111111111#'), ('W', '001001', '1111011#'), ('W', '0001001', 'T0001100100#'), ('W', '001001', '11000000#'), ('W', '001001', '101000#'), ('W', '0001001', '1111001#'), ('W', '0001001', 'T0100111001#'), ('W', '0001001', 'U1001101011#'), ('W', '0001001', 'U1011101000#'), ('W', '0001001', 'U111110101#'), ('W', '0001001', 'U10000100#'), ('W', '001001', '11110100#'), ('W', '0001001', '0110101110#'), ('W', '0001001', '0110100111#'), ('W', '0001001', 'U100001101#'), ('W', '0001001', 'U1111000101#'), ('W', '0001001', 'G1101100#'), ('W', '001001', '111101#'), ('W', '0001001', 'U101010110#'), ('W', '0001001', 'T0000101101#'), ('W', '0001001', 'T101100001#'), ('W', '0001001', 'G111100111#'), ('W', '0001001', '0111001111#'), ('W', '0001001', '01100101#'), ('W', '0001001', 'G110#'), ('W', '0001001', 'T00000010#'), ('W', '0001001', 'T111010000#'), ('W', '0001001', '0100010001#'), ('W', '0001001', 'T0100111011#'), ('W', '0001001', 'T010111111#'), ('W', '0001001', 'T0111101111#'), ('W', '0001001', 'G010101001#'), ('W', '0001001', 'G111011011#'), ('W', '0001001', '0101100001#'), ('W', '0001001', '011101100#'), ('W', '0001001', 'U1011000010#'), ('W', '0001001', '011000000#'), ('W', '0001001', 'U1000101001#'), ('W', '0001001', 'G1101#'), ('W', '0001001', 'T0011001#'), ('W', '0001001', 'T000000111#'), ('W', '0001001', 'U1110110100#'), ('W', '0001001', '0100110010#'), ('W', '0001001', 'G01001010#'), ('W', '0001001', 'U1100100001#'), ('W', '0001001', 'T1010010000#'), ('W', '0001001', 'T0110001110#'), ('W', '0001001', 'T100000101#'), ('W', '0001001', 'T01010010#'), ('W', '0001001', 'G0100000111#'), ('W', '0001001', 'U10011110#'), ('W', '0001001', 'T1001100#'), ('W', '0001001', 'T110011#'), ('W', '0001001', 'G01010001#'), ('W', '0001001', 'G0110110110#'), ('W', '0001001', '011011#'), ('W', '0001001', 'G1100000010#'), ('W', '0001001', 'U1001100100#'), ('W', '001001', '100001011#'), ('W', '001001', '1010100#'), ('W', '0001001', 'T1011111111#'), ('W', '0001001', 'T0001101#'), ('W', '0001001', 'U111110000#'), ('W', '001001', '101000000#'), ('W', '0001001', 'T1011011110#'), ('W', '0001001', '0100110101#'), ('W', '0001001', '01110001#'), ('W', '0001001', 'T110011001#'), ('W', '001001', '100011101#'), ('W', '0001001', 'T1110011001#'), ('W', '0001001', '01000111#'), ('W', '0001001', '0101100011#'), ('W', '0001001', 'G0100#'), ('W', '0001001', 'G010110#'), ('W', '0001001', '1101100111#'), ('W', '0001001', 'T1001001000#'), ('W', '0001001', 'U100011000#'), ('W', '0001001', 'U1010101001#'), ('W', '0001001', 'T111110100#'), ('W', '0001001', 'T1000100100#'), ('W', '0001001', 'U1011100101#'), ('W', '0001001', 'T1100111000#'), ('W', '0001001', '0100010#'), ('W', '0001001', 'G010101010#'), ('W', '001001', '101001001#'), ('W', '0001001', 'T001101100#'), ('W', '0001001', 'T0000000110#'), ('W', '0001001', 'T0000011#'), ('W', '0001001', 'T011000000#'), ('W', '0001001', 'U111101011#'), ('W', '0001001', 'T001101010#'), ('W', '0001001', '0100100111#'), ('W', '0001001', '111101101#'), ('W', '001001', '1010110#'), ('W', '0001001', 'T1010110111#'), ('W', '0001001', 'T0011000110#'), ('W', '0001001', 'G110101010#'), ('W', '0001001', 'T0010#'), ('W', '0001001', 'T0011110001#'), ('W', '0001001', 'G0101000#'), ('W', '0001001', '010110100#'), ('W', '0001001', 'T1010000#'), ('W', '0001001', 'T1100001110#'), ('W', '0001001', 'T000010111#'), ('W', '0001001', 'T0000001111#'), ('W', '0001001', 'T001010111#'), ('W', '0001001', '111110000#'), ('W', '0001001', '111011000#'), ('W', '0001001', 'G0101001111#'), ('W', '0001001', 'T01101001#'), ('W', '0001001', 'G1101011110#'), ('W', '0001001', 'G010011100#'), ('W', '0001001', 'U100111100#'), ('W', '001001', '11110#'), ('W', '0001001', 'U1101000000#'), ('W', '0001001', '1101100110#'), ('W', '0001001', 'U1101101100#'), ('W', '0001001', 'U1111101111#'), ('W', '0001001', 'G0101000001#'), ('W', '0001001', 'U1101100000#'), ('W', '0001001', 'U11111011#'), ('W', '0001001', 'T0011111100#'), ('W', '0001001', 'U1111000110#'), ('W', '0001001', 'T01110010#'), ('W', '0001001', 'T0011010#'), ('W', '0001001', '01010000#'), ('W', '001001', '101010001#'), ('W', '0001001', '110100010#'), ('W', '0001001', 'T0010011101#'), ('W', '0001001', 'U10011010#'), ('W', '001001', '101011000#'), ('W', '0001001', 'G111000#'), ('W', '0001001', 'T001111000#'), ('W', '0001001', 'T0000011001#'), ('W', '0001001', '0101111111#'), ('W', '0001001', 'T011101101#'), ('W', '0001001', 'T011101001#'), ('W', '0001001', 'G01011000#'), ('W', '0001001', '111011101#'), ('W', '0001001', 'G010011001#'), ('W', '0001001', '1100000011#'), ('W', '0001001', 'U1111010101#'), ('W', '0001001', 'G11110110#'), ('W', '0001001', 'G0110001000#'), ('W', '0001001', '1101110#'), ('W', '0001001', 'T11100000#'), ('W', '0001001', '110010000#'), ('W', '0001001', 'T0100100111#'), ('W', '0001001', 'T110100101#'), ('W', '0001001', 'U111010010#'), ('W', '0001001', 'T100011111#'), ('W', '0001001', 'U111100110#'), ('W', '0001001', 'T101010001#'), ('W', '0001001', 'T0110001000#'), ('W', '001001', '100110011#'), ('W', '0001001', 'U1101010101#'), ('W', '0001001', 'G1101001110#'), ('W', '0001001', 'T001100101#'), ('W', '0001001', '0110101#'), ('W', '0001001', 'U111100001#'), ('W', '001001', '100011110#'), ('W', '0001001', 'U1101111110#'), ('W', '0001001', 'T1111001#'), ('W', '0001001', 'T0110001100#'), ('W', '0001001', '0100001111#'), ('W', '0001001', 'G011100#'), ('W', '0001001', 'T0110111000#'), ('W', '0001001', '0101110100#'), ('W', '0001001', 'G1101011011#'), ('W', '0001001', 'T1000011011#'), ('W', '0001001', 'U11111000#'), ('W', '0001001', 'T0001000001#'), ('W', '0001001', 'U110110000#'), ('W', '001001', '111000011#'), ('W', '0001001', 'G1101000011#'), ('W', '0001001', 'T101111001#'), ('W', '0001001', 'U10111111#'), ('W', '0001001', 'T100001101#'), ('W', '001001', '110101100#'), ('W', '0001001', '1101000011#'), ('W', '001001', '1111110#'), ('W', '0001001', 'U10110001#'), ('W', '0001001', 'T101011111#'), ('W', '0001001', 'T1000011111#'), ('W', '0001001', 'T1000000#'), ('W', '0001001', 'G0111110100#'), ('W', '0001001', 'T0001001011#'), ('W', '0001001', 'T0110011010#'), ('W', '0001001', 'T1000001000#'), ('W', '0001001', 'G1110101100#'), ('W', '0001001', '01000#'), ('W', '0001001', 'U110011110#'), ('W', '0001001', 'T100000110#'), ('W', '0001001', 'U1010001100#'), ('W', '0001001', '0111101000#'), ('W', '0001001', 'T011110#'), ('W', '0001001', 'T0001100101#'), ('W', '0001001', 'T1101101011#'), ('W', '0001001', 'T0001010110#'), ('W', '0001001', '110011001#'), ('W', '0001001', 'T010011011#'), ('W', '0001001', 'T010110#'), ('W', '0001001', 'T000011101#'), ('W', '0001001', 'U110101101#'), ('W', '0001001', 'T0001011010#'), ('W', '0001001', '0111100000#'), ('W', '0001001', 'T101110011#'), ('W', '0001001', 'T0110000011#'), ('W', '0001001', '1111110100#'), ('W', '0001001', 'T1111001011#'), ('W', '0001001', 'U1110100111#'), ('W', '0001001', 'T0101001011#'), ('W', '0001001', 'U1110110010#'), ('W', '0001001', 'U11110111#'), ('W', '0001001', 'G0111101100#'), ('W', '0001001', 'G1110110011#'), ('W', '0001001', 'T0010001#'), ('W', '0001001', 'G110000110#'), ('W', '0001001', 'U1000011001#'), ('W', '0001001', '0101001100#'), ('W', '0001001', 'U1110010#'), ('W', '0001001', 'T0100110101#'), ('W', '0001001', '0100100011#'), ('W', '0001001', 'T1110100110#'), ('W', '0001001', '111101000#'), ('W', '0001001', '1110100101#'), ('W', '001001', '111100100#'), ('W', '0001001', '1110010001#'), ('W', '0001001', 'T010110010#'), ('W', '0001001', '11001110#'), ('W', '0001001', 'T1101#'), ('W', '0001001', 'T1010111101#'), ('W', '0001001', 'U11001010#'), ('W', '0001001', 'T01001011#'), ('W', '0001001', '010#'), ('W', '0001001', 'T00011010#'), ('W', '0001001', 'G1100110100#'), ('W', '0001001', '010110#'), ('W', '0001001', '011100010#'), ('W', '0001001', 'T00110101#'), ('W', '0001001', 'T1111110100#'), ('W', '001001', '110111#'), ('W', '0001001', 'T0101010001#'), ('W', '0001001', '1101100100#'), ('W', '0001001', 'T010110000#'), ('W', '0001001', '0100011010#'), ('W', '0001001', '1111011000#'), ('W', '0001001', 'T111000011#'), ('W', '0001001', 'U1010001000#'), ('W', '0001001', '11011000#'), ('W', '0001001', 'T11101010#'), ('W', '0001001', 'G0110001110#'), ('W', '0001001', 'T0010100011#'), ('W', '0001001', 'G0111010101#'), ('W', '0001001', 'T01001110#'), ('W', '0001001', 'T00001#'), ('W', '0001001', 'G0100001101#'), ('W', '0001001', '010001101#'), ('W', '0001001', 'T1010111010#'), ('W', '0001001', 'T1011111011#'), ('W', '0001001', '0110000100#'), ('W', '001001', '100000111#'), ('W', '0001001', 'U1011000000#'), ('W', '0001001', 'U1010101000#'), ('W', '0001001', 'T0101001110#'), ('W', '0001001', '111101111#'), ('W', '0001001', 'T0000000100#'), ('W', '0001001', 'U100010110#'), ('W', '0001001', 'T0110011000#'), ('W', '0001001', '011111#'), ('W', '0001001', '#'), ('W', '001001', '1100111#'), ('W', '0001001', 'T1001010000#'), ('W', '0001001', 'T1100111101#'), ('W', '0001001', 'U111010011#'), ('W', '0001001', 'G111011000#'), ('W', '0001001', 'U1010111111#'), ('W', '0001001', '0100001101#'), ('W', '0001001', 'T010111010#'), ('W', '0001001', 'T0001001000#'), ('W', '0001001', '1110110100#'), ('W', '0001001', 'U1101110111#'), ('W', '0001001', 'G01000101#'), ('W', '0001001', 'U10101111#'), ('W', '0001001', 'T1111100100#'), ('W', '0001001', 'T1111000111#'), ('W', '0001001', 'T101100100#'), ('W', '0001001', 'U1100110010#'), ('W', '0001001', '0101010111#'), ('W', '0001001', 'U110111011#'), ('W', '0001001', 'U1111001#'), ('W', '0001001', 'T1100010000#'), ('W', '001001', '1111111#'), ('W', '0001001', 'T001011101#'), ('W', '0001001', '11101101#'), ('W', '0001001', '010111011#'), ('W', '0001001', '011010110#'), ('W', '001001', '110101010#'), ('W', '0001001', 'T110101111#'), ('W', '0001001', 'T1110001#'), ('W', '0001001', 'T111000#'), ('W', '0001001', 'U1110101110#'), ('W', '0001001', 'G111110100#'), ('W', '0001001', 'T0011101000#'), ('W', '0001001', 'G111011010#'), ('W', '0001001', 'T1011111110#'), ('W', '0001001', '01110100#'), ('W', '0001001', 'U1010110101#'), ('W', '0001001', 'G01010010#'), ('W', '0001001', 'T0011011110#'), ('W', '0001001', 'G111111110#'), ('W', '0001001', 'G1111101111#'), ('W', '0001001', 'T1000101#'), ('W', '0001001', 'U1000100111#'), ('W', '0001001', 'T1110101010#'), ('W', '0001001', 'T011011000#'), ('W', '0001001', 'U100100010#'), ('W', '0001001', 'T101001111#'), ('W', '0001001', '01111001#'), ('W', '0001001', 'T0000010100#'), ('W', '0001001', 'G110011#'), ('W', '0001001', 'T101#'), ('W', '0001001', '1101000000#'), ('W', '0001001', 'U1000011100#'), ('W', '0001001', '111010111#'), ('W', '0001001', 'T0000111101#'), ('W', '0001001', 'G110101110#'), ('W', '0001001', 'T0000010000#'), ('W', '0001001', '0101010001#'), ('W', '0001001', 'G0111011001#'), ('W', '0001001', 'G1100011000#'), ('W', '0001001', 'G010100011#'), ('W', '0001001', 'U1011010100#'), ('W', '0001001', 'T1100111001#'), ('W', '0001001', 'T0110110#'), ('W', '0001001', 'T01011001#'), ('W', '0001001', '11111#'), ('W', '0001001', 'U110#'), ('W', '0001001', 'G0110#'), ('W', '0001001', 'U111100000#'), ('W', '0001001', '110011#'), ('W', '001001', '110000101#'), ('W', '0001001', '0111001001#'), ('W', '0001001', 'G11010100#'), ('W', '001001', '10011010#'), ('W', '001001', '10011011#'), ('W', '0001001', 'G110111011#'), ('W', '0001001', 'U10101010#'), ('W', '0001001', 'T01000100#'), ('W', '0001001', 'T0001101000#'), ('W', '0001001', '110000111#'), ('W', '0001001', 'T111100100#'), ('W', '0001001', 'T11001110#'), ('W', '0001001', 'T100110101#'), ('W', '0001001', 'G1100100#'), ('W', '0001001', 'T0001110100#'), ('W', '0001001', 'T1000001110#'), ('W', '0001001', '0110101111#'), ('W', '0001001', 'T1000101110#'), ('W', '0001001', 'T1011111010#'), ('W', '0001001', 'U111000110#'), ('W', '0001001', 'G011011#'), ('W', '0001001', 'T0110111100#'), ('W', '0001001', 'T0011000#'), ('W', '0001001', 'T1000001111#'), ('W', '0001001', '010000#'), ('W', '0001001', '010101100#'), ('W', '0001001', 'T0110001101#'), ('W', '0001001', '1100010011#'), ('W', '0001001', 'T0100010#'), ('W', '0001001', 'G1110011#'), ('W', '001001', '101000010#'), ('W', '0001001', 'T101011000#'), ('W', '0001001', 'T00110#'), ('W', '0001001', '01101011#'), ('W', '0001001', 'T100000#'), ('W', '0001001', 'U10010011#'), ('W', '0001001', 'G11011#'), ('W', '0001001', 'U1001011#'), ('W', '001001', '10011001#'), ('W', '0001001', 'T10010010#'), ('W', '0001001', '1111001111#'), ('W', '0001001', 'T1100011000#'), ('W', '0001001', 'G111011110#'), ('W', '0001001', 'T100100100#'), ('W', '0001001', 'U111110100#'), ('W', '0001001', '11000111#'), ('W', '0001001', '110010110#'), ('W', '0001001', '011101#'), ('W', '001001', '10011101#'), ('W', '0001001', 'T001000#'), ('W', '0001001', 'G01111#'), ('W', '001001', '100101110#'), ('W', '0001001', 'G011010001#'), ('W', '0001001', 'U1001101000#'), ('W', '0001001', 'T11111110#'), ('W', '0001001', 'T1011110001#'), ('W', '0001001', 'U1010000101#'), ('W', '0001001', 'T10000011#'), ('W', '0001001', 'T0111111#'), ('W', '0001001', 'U1011000100#'), ('W', '0001001', 'U111010001#'), ('W', '0001001', 'U1001101100#'), ('W', '0001001', 'G0111111110#'), ('W', '0001001', '0101101110#'), ('W', '0001001', 'T1111101011#'), ('W', '001001', '11010110#'), ('W', '0001001', 'T001001101#'), ('W', '001001', '100111101#'), ('W', '0001001', 'U1000010010#'), ('W', '0001001', '1100110011#'), ('W', '0001001', 'T1101101110#'), ('W', '0001001', 'G0100011001#'), ('W', '0001001', 'U1001101110#'), ('W', '0001001', '0101000100#'), ('W', '0001001', 'T111011101#'), ('W', '0001001', 'T1011000110#'), ('W', '0001001', 'U1011000111#'), ('W', '0001001', 'G110011010#'), ('W', '0001001', 'T0001101111#'), ('W', '0001001', 'T0000101011#'), ('W', '0001001', '1111011100#'), ('W', '001001', '10001100#'), ('W', '0001001', '0101101011#'), ('W', '0001001', 'T1111010011#'), ('W', '0001001', 'T0110111110#'), ('W', '0001001', '0110010010#'), ('W', '0001001', '011111100#'), ('W', '0001001', 'G1100010101#'), ('W', '001001', '10000000#'), ('W', '0001001', 'G0111000111#'), ('W', '0001001', 'T1100100001#'), ('W', '0001001', 'U110111001#'), ('W', '0001001', '0100100#'), ('W', '0001001', 'G111110000#'), ('W', '0001001', 'G0100110011#'), ('W', '001001', '101011011#'), ('W', '0001001', 'T0000100010#'), ('W', '0001001', 'G011010110#'), ('W', '0001001', 'G1100010000#'), ('W', '0001001', 'T011000011#'), ('W', '001001', '1100100#'), ('W', '0001001', 'G110111000#'), ('W', '0001001', 'T1000101001#'), ('W', '001001', '110100011#'), ('W', '0001001', 'T011100100#'), ('W', '0001001', '1111101100#'), ('W', '0001001', 'U110001010#'), ('W', '0001001', 'T10001111#'), ('W', '0001001', 'G0111010110#'), ('W', '001001', '10110111#'), ('W', '0001001', 'T0110100101#'), ('W', '0001001', 'G010101110#'), ('W', '0001001', '1100100010#'), ('W', '0001001', 'G0100111010#'), ('W', '0001001', 'G1110101011#'), ('W', '0001001', 'T1001111101#'), ('W', '0001001', '0100000111#'), ('W', '0001001', '110001011#'), ('W', '0001001', '1110111#'), ('W', '0001001', 'T11111000#'), ('W', '0001001', 'U1001100001#'), ('W', '0001001', '1110000010#'), ('W', '0001001', 'T1101001000#'), ('W', '0001001', '0100100010#'), ('W', '0001001', '1100101010#'), ('W', '0001001', 'U111010101#'), ('W', '0001001', 'G0110000010#'), ('W', '0001001', '111000101#'), ('W', '001001', '10111001#'), ('W', '0001001', 'T0011110#'), ('W', '0001001', '01000100#'), ('W', '0001001', 'T011#'), ('W', '0001001', 'U1010000001#'), ('W', '0001001', 'U10101000#'), ('W', '0001001', 'G11100111#'), ('W', '0001001', 'T111111111#'), ('W', '0001001', 'T101000111#'), ('W', '0001001', '010010000#'), ('W', '0001001', '110101#'), ('W', '0001001', 'T010110111#'), ('W', '0001001', 'T1000001011#'), ('W', '0001001', 'T1101010101#'), ('W', '0001001', 'T01000110#'), ('W', '0001001', 'T1110101100#'), ('W', '0001001', 'G1101010010#'), ('W', '0001001', 'U1000101110#'), ('W', '0001001', 'U1001001100#'), ('W', '0001001', 'T1111110#'), ('W', '0001001', 'U1000100011#'), ('W', '0001001', 'G110011011#'), ('W', '0001001', 'U1001110111#'), ('W', '0001001', 'U111110110#'), ('W', '0001001', 'G1110010#'), ('W', '0001001', 'T11010001#'), ('W', '0001001', 'G01110#'), ('W', '0001001', 'U1001111010#'), ('W', '001001', '101011#'), ('W', '0001001', 'G0101011000#'), ('W', '0001001', 'U11011011#'), ('W', '0001001', 'U10010100#'), ('W', '0001001', 'T1101011111#'), ('W', '001001', '100111111#'), ('W', '0001001', 'G1110001000#'), ('W', '0001001', '01010110#'), ('W', '0001001', 'T1001111000#'), ('W', '0001001', 'U10101001#'), ('W', '0001001', 'G1100100011#'), ('W', '0001001', 'U1110011001#'), ('W', '0001001', 'T010101110#'), ('W', '0001001', '0100101#'), ('W', '0001001', 'T100010100#'), ('W', '0001001', '11110011#'), ('W', '0001001', 'T010001001#'), ('W', '0001001', 'T0111100000#'), ('W', '0001001', 'T010010100#'), ('W', '001001', '101010000#'), ('W', '0001001', 'U1001100000#'), ('W', '0001001', 'U1000101101#'), ('W', '0001001', '11010111#'), ('W', '0001001', 'G111000011#'), ('W', '0001001', '0101011110#'), ('W', '0001001', '1101100010#'), ('W', '001001', '101101011#'), ('W', '0001001', 'T1100100111#'), ('W', '0001001', 'G1111101100#'), ('W', '0001001', 'T1111000110#'), ('W', '0001001', 'U1000011010#'), ('W', '0001001', 'T1011010011#'), ('W', '0001001', 'T101101101#'), ('W', '0001001', 'G0111111000#'), ('W', '0001001', 'G1110011100#'), ('W', '0001001', 'U100111001#'), ('W', '001001', '10010011#'), ('W', '0001001', 'U111001001#'), ('W', '0001001', 'T1100000110#'), ('W', '0001001', 'T100000111#'), ('W', '0001001', 'T0011011101#'), ('W', '0001001', 'G0101001101#'), ('W', '0001001', 'U1010111010#'), ('W', '0001001', 'G111100110#'), ('W', '001001', '100101101#'), ('W', '0001001', 'G0101100110#'), ('W', '0001001', 'T00000001#'), ('W', '0001001', 'G1101100101#'), ('W', '0001001', '110001100#'), ('W', '0001001', 'G1101111000#'), ('W', '0001001', 'T01001111#'), ('W', '0001001', 'G110000011#'), ('W', '0001001', 'G110010011#'), ('W', '0001001', 'G0101100001#'), ('W', '0001001', 'G0111001011#'), ('W', '0001001', 'T1001111111#'), ('W', '0001001', 'T100010#'), ('W', '0001001', 'T1011011100#'), ('W', '0001001', 'G110100010#'), ('W', '001001', '101101000#'), ('W', '0001001', 'U1111100101#'), ('W', '0001001', 'U1011101011#'), ('W', '001001', '100101011#'), ('W', '0001001', 'U1000001110#'), ('W', '001001', '100001001#'), ('W', '001001', '111101101#'), ('W', '0001001', 'U1101101111#'), ('W', '0001001', 'G010100010#'), ('W', '0001001', 'T1110011101#'), ('W', '0001001', 'T0011000000#'), ('W', '0001001', '0111100100#'), ('W', '0001001', 'T111100011#'), ('W', '001001', '11010000#'), ('W', '0001001', 'T0010100100#'), ('W', '001001', '111011000#'), ('W', '0001001', 'T011001000#'), ('W', '0001001', 'T1000111#'), ('W', '0001001', 'T100010110#'), ('W', '0001001', 'G1110100010#'), ('W', '0001001', 'T101000110#'), ('W', '001001', '100111001#'), ('W', '0001001', 'T0111110100#'), ('W', '0001001', 'T1111100110#'), ('W', '0001001', '0110110001#'), ('W', '0001001', 'T1100100010#'), ('W', '0001001', 'T1100100000#'), ('W', '0001001', 'T1111110110#'), ('W', '0001001', '1110101001#'), ('W', '0001001', 'T1111010111#'), ('W', '0001001', 'G1111110#'), ('W', '0001001', '0101001101#'), ('W', '0001001', 'U100111#'), ('W', '0001001', '010011#'), ('W', '0001001', '1101111110#'), ('W', '001001', '110111111#'), ('W', '0001001', 'U110100000#'), ('W', '0001001', 'U1111110001#'), ('W', '0001001', 'G0110011000#'), ('W', '0001001', 'U1100111010#'), ('W', '0001001', 'U1010001101#'), ('W', '0001001', '0110111101#'), ('W', '0001001', 'G11110000#'), ('W', '0001001', 'T1011000011#'), ('W', '001001', '100000011#'), ('W', '0001001', 'T1011010101#'), ('W', '0001001', 'G1111#'), ('W', '0001001', 'G11010001#'), ('W', '0001001', 'T1001111100#'), ('W', '0001001', 'T010110101#'), ('W', '0001001', 'U11010001#'), ('W', '0001001', 'T0100000111#'), ('W', '0001001', 'U111011011#'), ('W', '0001001', '1100100100#'), ('W', '0001001', 'G01110011#'), ('W', '0001001', 'T11110001#'), ('W', '001001', '110100010#'), ('W', '0001001', 'T001100000#'), ('W', '0001001', 'T1101000011#'), ('W', '0001001', 'T0000100111#'), ('W', '0001001', '111111010#'), ('W', '0001001', 'U1100010000#'), ('W', '0001001', 'U100010001#'), ('W', '0001001', 'G11110001#'), ('W', '001001', '10001101#'), ('W', '0001001', 'T100111#'), ('W', '0001001', 'T0001000011#'), ('W', '001001', '1101110#'), ('W', '0001001', 'G01001111#'), ('W', '0001001', '0100011#'), ('W', '0001001', '1110101110#'), ('W', '0001001', 'G11101011#'), ('W', '0001001', 'U110111111#'), ('W', '0001001', 'T01000010#'), ('W', '0001001', 'T10010#'), ('W', '0001001', 'T011011011#'), ('W', '0001001', 'U1111001100#'), ('W', '0001001', 'U1010111100#'), ('W', '0001001', 'T1101100001#'), ('W', '0001001', 'U1100101001#'), ('W', '0001001', 'G0111100000#'), ('W', '0001001', 'G110111010#'), ('W', '0001001', 'G1101000111#'), ('W', '0001001', '0110100001#'), ('W', '0001001', 'T0101100010#'), ('W', '0001001', '110001000#'), ('W', '0001001', 'U1000011111#'), ('W', '0001001', 'U1110100000#'), ('W', '0001001', '1111100#'), ('W', '0001001', 'G111001#'), ('W', '0001001', 'G1101010011#'), ('W', '0001001', 'T0001110011#'), ('W', '0001001', '010011110#'), ('W', '0001001', 'T1101010#'), ('W', '0001001', '0110110110#'), ('W', '0001001', '0110110011#'), ('W', '0001001', 'G1110011011#'), ('W', '0001001', 'T0000101110#'), ('W', '0001001', 'T0011101100#'), ('W', '0001001', 'T1101010000#'), ('W', '0001001', 'T10000#'), ('W', '0001001', 'U1101011#'), ('W', '0001001', 'G01111011#'), ('W', '0001001', '11101#'), ('W', '0001001', '11110101#'), ('W', '0001001', 'G110111101#'), ('W', '0001001', '0110001110#'), ('W', '0001001', 'T0101010010#'), ('W', '0001001', 'T11110101#'), ('W', '0001001', 'G1101110110#'), ('W', '0001001', 'T1001000#'), ('W', '0001001', '0110010011#'), ('W', '0001001', 'T01111011#'), ('W', '0001001', 'T0001110110#'), ('W', '0001001', 'G1110001#'), ('W', '0001001', 'U110001100#'), ('W', '0001001', 'T1011010000#'), ('W', '0001001', 'T0010110101#'), ('W', '0001001', 'T1011000010#'), ('W', '0001001', 'T001010011#'), ('W', '001001', '110011001#'), ('W', '001001', '101101#'), ('W', '001001', '1100010#'), ('W', '0001001', 'G0111001110#'), ('W', '0001001', 'T1111011#'), ('W', '0001001', 'G0111001001#'), ('W', '0001001', 'U100011011#'), ('W', '0001001', '1111001001#'), ('W', '0001001', 'U1101001111#'), ('W', '0001001', 'T0100001001#'), ('W', '0001001', '01011001#'), ('W', '0001001', 'G01011011#'), ('W', '001001', '110100111#'), ('W', '0001001', 'T1001001001#'), ('W', '0001001', '010100011#'), ('W', '0001001', 'T101110010#'), ('W', '0001001', 'G111101001#'), ('W', '0001001', 'T101011011#'), ('W', '0001001', 'T000000110#'), ('W', '0001001', 'G0110011100#'), ('W', '0001001', 'U1000001011#'), ('W', '0001001', '0111000#'), ('W', '0001001', 'G0110000110#'), ('W', '0001001', 'U10111010#'), ('W', '0001001', 'U1001010001#'), ('W', '0001001', 'T000101100#'), ('W', '0001001', '0101101#'), ('W', '0001001', '1100110111#'), ('W', '0001001', 'G110111#'), ('W', '0001001', 'G1111011011#'), ('W', '001001', '10001010#'), ('W', '0001001', 'T00001011#'), ('W', '001001', '111101000#'), ('W', '0001001', 'T0010101110#'), ('W', '0001001', '01110#'), ('W', '0001001', 'U101011011#'), ('W', '0001001', 'T110011111#'), ('W', '0001001', 'T1110111010#'), ('W', '001001', '101011101#'), ('W', '0001001', 'T0001001010#'), ('W', '0001001', '010101001#'), ('W', '0001001', 'T0010001011#'), ('W', '0001001', 'T00111110#'), ('W', '0001001', 'T0010111000#'), ('W', '0001001', 'T111000001#'), ('W', '0001001', 'U111111000#'), ('W', '0001001', 'G0111000010#'), ('W', '0001001', 'T0100010010#'), ('W', '0001001', 'G0101010011#'), ('W', '0001001', 'T001011000#'), ('W', '0001001', 'T11111101#'), ('W', '0001001', 'T0100000110#'), ('W', '001001', '100001100#'), ('W', '0001001', 'T001#'), ('W', '0001001', 'T1000101100#'), ('W', '0001001', 'U1101010011#'), ('W', '0001001', 'T1001101100#'), ('W', '0001001', '11100111#'), ('W', '0001001', 'U11111010#'), ('W', '0001001', 'T11101001#'), ('W', '0001001', '0100101111#'), ('W', '0001001', 'T1001001110#'), ('W', '001001', '11011000#'), ('W', '0001001', '0101100111#'), ('W', '001001', '1101011#'), ('W', '0001001', 'G1110101#'), ('W', '0001001', 'G0111111100#'), ('W', '0001001', 'G1110010011#'), ('W', '0001001', '010110010#'), ('W', '0001001', 'T010001101#'), ('W', '001001', '11111011#'), ('W', '001001', '101011010#'), ('W', '0001001', 'T00011011#'), ('W', '0001001', 'T0011000011#'), ('W', '0001001', 'G1100011100#'), ('W', '0001001', 'G1100000011#'), ('W', '0001001', 'T0111010111#'), ('W', '001001', '11001111#'), ('W', '0001001', 'T1001011001#'), ('W', '0001001', '110000011#'), ('W', '0001001', 'T1101000#'), ('W', '0001001', 'G1111101000#'), ('W', '0001001', 'G0100000010#'), ('W', '0001001', '1101010001#'), ('W', '0001001', 'G1101110001#'), ('W', '0001001', '1111100011#'), ('W', '0001001', 'U1000#'), ('W', '001001', '#'), ('W', '001001', '1011001#'), ('W', '0001001', '11010100#'), ('W', '0001001', 'G1111110001#'), ('W', '0001001', 'G0101000110#'), ('W', '0001001', 'U101010001#'), ('W', '0001001', '110000001#'), ('W', '0001001', 'T111010010#'), ('W', '001001', '100000101#'), ('W', '0001001', 'T011100110#'), ('W', '0001001', 'T01111001#'), ('W', '0001001', 'G0101100#'), ('W', '0001001', 'G0100011101#'), ('W', '0001001', 'U1110100100#'), ('W', '0001001', 'U1100100010#'), ('W', '0001001', 'U101001100#'), ('W', '0001001', 'U11111111#'), ('W', '0001001', 'U10110000#'), ('W', '0001001', 'T100111011#'), ('W', '0001001', '111111100#'), ('W', '0001001', 'U1110111000#'), ('W', '0001001', 'U1011100#'), ('W', '0001001', 'U1110100110#'), ('W', '0001001', 'T0101100111#'), ('W', '001001', '11101101#'), ('W', '0001001', 'U1110000011#'), ('W', '0001001', 'T111110010#'), ('W', '0001001', 'T100100110#'), ('W', '0001001', '0101000010#'), ('W', '0001001', 'T10100110#'), ('W', '0001001', 'U1110000001#'), ('W', '0001001', 'U1111010010#'), ('W', '0001001', 'T00000011#'), ('W', '0001001', 'U101110111#'), ('W', '0001001', 'U100000101#'), ('W', '001001', '100110100#'), ('W', '0001001', '1110111100#'), ('W', '0001001', 'T1111000001#'), ('W', '0001001', 'T1111100001#'), ('W', '0001001', 'G0110110010#'), ('W', '0001001', '110111100#'), ('W', '0001001', 'G111110110#'), ('W', '0001001', 'U1110001#'), ('W', '001001', '101010101#'), ('W', '0001001', 'T100001110#'), ('W', '0001001', '110010#'), ('W', '0001001', 'T1100011001#'), ('W', '0001001', 'T1101010100#'), ('W', '0001001', 'G1110110110#'), ('W', '0001001', 'T1111011101#'), ('W', '0001001', 'U111011010#'), ('W', '0001001', 'T111111101#'), ('W', '0001001', '010000000#'), ('W', '0001001', '1100001101#'), ('W', '0001001', 'T001010#'), ('W', '0001001', 'G011011110#'), ('W', '0001001', 'U10011000#'), ('W', '0001001', 'T1110100111#'), ('W', '0001001', 'T0001100#'), ('W', '0001001', 'T011110111#'), ('W', '0001001', 'T1010001111#'), ('W', '0001001', 'G010100#'), ('W', '0001001', '010101101#'), ('W', '0001001', 'G01100010#'), ('W', '0001001', 'G1110100101#'), ('W', '0001001', 'U1100111000#'), ('W', '0001001', 'U1010010100#'), ('W', '0001001', 'G0100111101#'), ('W', '0001001', 'U1110011111#'), ('W', '0001001', 'U1010101100#'), ('W', '0001001', 'T11011001#'), ('W', '0001001', 'T11011100#'), ('W', '001001', '100100101#'), ('W', '0001001', 'G0101111000#'), ('W', '0001001', 'U1100101111#'), ('W', '0001001', 'G0100100011#'), ('W', '0001001', '0100010110#'), ('W', '001001', '110111000#'), ('W', '0001001', 'G1101110#'), ('W', '0001001', 'U1100110110#'), ('W', '0001001', 'G1101111#'), ('W', '001001', '110011#'), ('W', '0001001', 'T10111010#'), ('W', '0001001', 'U1000000111#'), ('W', '0001001', 'T000100110#'), ('W', '0001001', '1101011110#'), ('W', '0001001', 'T0011000101#'), ('W', '0001001', 'U100100000#'), ('W', '0001001', 'T1100101111#'), ('W', '0001001', 'T0011001010#'), ('W', '0001001', 'U111010111#'), ('W', '0001001', 'T1001011101#'), ('W', '0001001', 'T0010100001#'), ('W', '0001001', '1110100#'), ('W', '0001001', 'T0100011000#'), ('W', '0001001', 'T01010011#'), ('W', '0001001', 'U1111011111#'), ('W', '0001001', 'T11001101#'), ('W', '0001001', 'G1101101010#'), ('W', '0001001', 'G0100001110#'), ('W', '0001001', 'U1111110100#'), ('W', '0001001', 'U1110101011#'), ('W', '001001', '10#'), ('W', '0001001', 'U110100101#'), ('W', '0001001', 'G110001#'), ('W', '0001001', 'T10110101#'), ('W', '001001', '110010100#'), ('W', '0001001', 'U10100110#'), ('W', '0001001', 'G011101110#'), ('W', '0001001', '1101000#'), ('W', '0001001', 'U10111#'), ('W', '0001001', 'T1101010001#'), ('W', '0001001', 'T1001000000#'), ('W', '0001001', 'T0100001110#'), ('W', '0001001', '111011010#'), ('W', '0001001', 'G111010011#'), ('W', '0001001', '1101001101#'), ('W', '0001001', 'T100111010#'), ('W', '001001', '11011110#'), ('W', '0001001', 'T0100011101#'), ('W', '0001001', '111000111#'), ('W', '0001001', '1111101001#'), ('W', '001001', '10111#'), ('W', '0001001', 'T0111110110#'), ('W', '0001001', 'T0101110001#'), ('W', '0001001', 'T1110001010#'), ('W', '001001', '110010110#'), ('W', '0001001', 'U101011001#'), ('W', '0001001', 'G0111011#'), ('W', '0001001', 'T1110101111#'), ('W', '0001001', '111010000#'), ('W', '0001001', 'G0100011110#'), ('W', '001001', '101110#'), ('W', '0001001', 'U1111111001#'), ('W', '0001001', 'T0100010111#'), ('W', '0001001', 'T0100111111#'), ('W', '0001001', 'T1011000111#'), ('W', '001001', '101101001#'), ('W', '0001001', 'G01101100#'), ('W', '0001001', 'G1101111011#'), ('W', '001001', '100000000#'), ('W', '0001001', '1110011111#'), ('W', '0001001', 'U1111111100#'), ('W', '0001001', 'G0100101#'), ('W', '0001001', 'G0110000011#'), ('W', '0001001', 'T1011011011#'), ('W', '0001001', '01110101#'), ('W', '0001001', 'G0111000#'), ('W', '0001001', 'T11011101#'), ('W', '0001001', 'T0110101110#'), ('W', '0001001', 'U11010101#'), ('W', '0001001', 'G1110111001#'), ('W', '0001001', 'G0110000000#'), ('W', '0001001', '0111111100#'), ('W', '0001001', '0100010010#'), ('W', '0001001', 'U1101000#'), ('W', '0001001', 'U1000111111#'), ('W', '0001001', 'T101010#'), ('W', '0001001', 'T1010010101#'), ('W', '0001001', 'T1100101000#'), ('W', '0001001', 'T001110101#'), ('W', '0001001', '111001000#'), ('W', '0001001', '0110111011#'), ('W', '001001', '100101#'), ('W', '0001001', '0100001001#'), ('W', '0001001', 'G010110100#'), ('W', '0001001', 'T10000010#'), ('W', '0001001', 'U110010110#'), ('W', '0001001', '1101001#'), ('W', '0001001', 'T1100000011#'), ('W', '0001001', 'G011110001#'), ('W', '0001001', '11110001#'), ('W', '0001001', '01001001#'), ('W', '0001001', 'G0111010011#'), ('W', '0001001', 'T1100101110#'), ('W', '0001001', 'G0111011000#'), ('W', '0001001', '110011000#'), ('W', '001001', '1100011#'), ('W', '0001001', 'U101101101#'), ('W', '0001001', 'U1111011010#'), ('W', '0001001', 'T1001010010#'), ('W', '0001001', 'T0111100001#'), ('W', '0001001', 'U1010011001#'), ('W', '0001001', 'G11001#'), ('W', '001001', '1110111#'), ('W', '0001001', 'T1011101#'), ('W', '001001', '110001011#'), ('W', '0001001', 'G1100110001#'), ('W', '0001001', 'T10100001#'), ('W', '0001001', 'T0100001000#'), ('W', '0001001', 'G1110000#'), ('W', '0001001', 'G110100001#'), ('W', '0001001', 'U1000101011#'), ('W', '0001001', '111101011#'), ('W', '001001', '10100111#'), ('W', '0001001', 'T0011011011#'), ('W', '0001001', '011011000#'), ('W', '0001001', 'T101100111#'), ('W', '0001001', '0100110111#'), ('W', '0001001', 'T1100110111#'), ('W', '0001001', '110000010#'), ('W', '0001001', 'U110101100#'), ('W', '0001001', 'T1011011#'), ('W', '0001001', '011010010#'), ('W', '0001001', 'G0111011010#'), ('W', '0001001', 'T11010010#'), ('W', '0001001', 'U1110010011#'), ('W', '0001001', 'G11011000#'), ('W', '0001001', 'T0001000100#'), ('W', '0001001', 'T1001#'), ('W', '0001001', 'G011001110#'), ('W', '0001001', 'G1101010111#'), ('W', '0001001', '1111101#'), ('W', '0001001', '0111101111#'), ('W', '0001001', 'T010101100#'), ('W', '0001001', 'T10010100#'), ('W', '0001001', 'T1001000101#'), ('W', '0001001', '0111111101#'), ('W', '0001001', 'U1011010110#'), ('W', '0001001', '010000010#'), ('W', '0001001', 'T11110111#'), ('W', '0001001', 'T1110011010#'), ('W', '0001001', '1111#'), ('W', '0001001', '1110011101#'), ('W', '0001001', '0101100010#'), ('W', '0001001', 'T0100110011#'), ('W', '0001001', 'U1101010110#'), ('W', '0001001', 'T0000011101#'), ('W', '001001', '101100010#'), ('W', '0001001', 'T00010110#'), ('W', '0001001', 'U111101111#'), ('W', '0001001', 'T0000110010#'), ('W', '0001001', 'T110#'), ('W', '0001001', 'T1000100001#'), ('W', '0001001', '0100000#'), ('W', '0001001', '0100000011#'), ('W', '0001001', 'T0011100010#'), ('W', '0001001', 'T001111#'), ('W', '0001001', 'U11010110#'), ('W', '0001001', 'G111001111#'), ('W', '0001001', '110110000#'), ('W', '001001', '110110110#'), ('W', '0001001', '01100100#'), ('W', '0001001', 'T11101100#'), ('W', '0001001', '0100000110#'), ('W', '0001001', 'U1001101010#'), ('W', '0001001', 'T1111000101#'), ('W', '0001001', '1110101100#'), ('W', '0001001', '111111101#'), ('W', '0001001', 'G1111010010#'), ('W', '001001', '101010#'), ('W', '0001001', 'T1000111110#'), ('W', '0001001', 'T010010001#'), ('W', '0001001', 'T1011000100#'), ('W', '0001001', 'T0000110111#'), ('W', '0001001', 'T011001001#'), ('W', '0001001', 'T1110001000#'), ('W', '0001001', 'T1001010#'), ('W', '0001001', '1100100111#'), ('W', '0001001', 'T1000010000#'), ('W', '001001', '1001100#'), ('W', '0001001', 'T100100001#'), ('W', '0001001', 'G110100011#'), ('W', '0001001', 'G010011010#'), ('W', '0001001', 'T0001100110#'), ('W', '0001001', 'U1001111100#'), ('W', '0001001', 'T1010010010#'), ('W', '0001001', 'T011010000#'), ('W', '0001001', 'T001101101#'), ('W', '0001001', 'U1001011110#'), ('W', '0001001', '0100011100#'), ('W', '0001001', '0111001#'), ('W', '0001001', 'U11101100#'), ('W', '0001001', 'G1110001111#'), ('W', '0001001', 'U100011#'), ('W', '0001001', 'T1000011000#'), ('W', '0001001', 'T0011000100#'), ('W', '0001001', 'U1001110#'), ('W', '0001001', 'T010010010#'), ('W', '0001001', 'G0101111100#'), ('W', '0001001', 'G0101101011#'), ('W', '0001001', 'G111101111#'), ('W', '001001', '1000101#'), ('W', '0001001', 'T01010110#'), ('W', '0001001', 'G0110100000#'), ('W', '0001001', 'U110110101#'), ('W', '0001001', '1100101101#'), ('W', '0001001', '0110011100#'), ('W', '0001001', 'G0111110110#'), ('W', '0001001', 'G01000001#'), ('W', '0001001', 'U1000101000#'), ('W', '0001001', '0100100001#'), ('W', '0001001', '0111101101#'), ('W', '0001001', 'T1011101010#'), ('W', '0001001', '0111101010#'), ('W', '0001001', 'T0100100#'), ('W', '0001001', 'U100011100#'), ('W', '0001001', 'T0001101110#'), ('W', '0001001', 'G0110001010#'), ('W', '0001001', 'G01100011#'), ('W', '0001001', 'T0#'), ('W', '0001001', 'T1010100010#'), ('W', '0001001', '0111100101#'), ('W', '0001001', '0100001011#'), ('W', '0001001', 'G1111001101#'), ('W', '0001001', 'T00110000#'), ('W', '0001001', 'T010011110#'), ('W', '0001001', 'T00111111#'), ('W', '0001001', 'G11010#'), ('W', '0001001', 'T1110011111#'), ('W', '0001001', 'U10110#'), ('W', '001001', '10000100#'), ('W', '0001001', 'T000111100#'), ('W', '0001001', 'T110011101#'), ('W', '0001001', 'T1101110011#'), ('W', '001001', '101000101#'), ('W', '0001001', 'T0101010111#'), ('W', '001001', '101111101#'), ('W', '0001001', '01000001#'), ('W', '0001001', 'G1100100101#'), ('W', '0001001', 'U1000000#'), ('W', '001001', '10011111#'), ('W', '0001001', '1111110010#'), ('W', '0001001', 'G011011011#'), ('W', '0001001', 'U110001110#'), ('W', '0001001', 'T1000000101#'), ('W', '0001001', 'T11011011#'), ('W', '0001001', 'T0101001100#'), ('W', '0001001', 'G1100001101#'), ('W', '0001001', '0100100110#'), ('W', '0001001', 'G11101100#'), ('W', '0001001', '1100011110#'), ('W', '0001001', 'T0001111010#'), ('W', '0001001', 'T11001001#'), ('W', '0001001', 'G01111101#'), ('W', '0001001', 'T1110010101#'), ('W', '0001001', 'T1010101100#'), ('W', '0001001', 'U1101100100#'), ('W', '0001001', 'U1100000011#'), ('W', '0001001', 'S#'), ('W', '0001001', '110000110#'), ('W', '0001001', 'U1000011110#'), ('W', '0001001', 'U1111#'), ('W', '0001001', 'T1010100#'), ('W', '0001001', 'T1#'), ('W', '0001001', 'T0010101111#'), ('W', '0001001', 'T10101110#'), ('W', '0001001', '0111011#'), ('W', '0001001', 'G110101100#'), ('W', '0001001', 'G111001010#'), ('W', '0001001', 'U1110101#'), ('W', '001001', '111111010#'), ('W', '0001001', 'T0100001100#'), ('W', '0001001', 'G1100010110#'), ('W', '0001001', 'G0100110000#'), ('W', '0001001', '010011011#'), ('W', '0001001', 'G0111011011#'), ('W', '0001001', 'U1001001011#'), ('W', '0001001', '0110110111#'), ('W', '0001001', 'T1110110#'), ('W', '0001001', 'G0100101100#'), ('W', '001001', '11#'), ('W', '0001001', 'T11001#'), ('W', '0001001', 'T11000010#'), ('W', '001001', '101001000#'), ('W', '0001001', 'T011011110#'), ('W', '0001001', 'G111000010#'), ('W', '0001001', '1101001000#'), ('W', '0001001', 'T1001101011#'), ('W', '0001001', 'U100011101#'), ('W', '0001001', 'G0100001011#'), ('W', '001001', '10100#'), ('W', '0001001', 'T1111011111#'), ('W', '0001001', 'G0101110011#'), ('W', '0001001', 'U1101111100#'), ('W', '0001001', 'G111111101#'), ('W', '0001001', 'T0110100010#'), ('W', '0001001', 'G0101110100#'), ('W', '0001001', 'T1101101111#'), ('W', '0001001', 'G1100010#'), ('W', '0001001', 'T0111100111#'), ('W', '0001001', 'T100001111#'), ('W', '0001001', 'T010001111#'), ('W', '001001', '1111100#'), ('W', '0001001', 'T1100011011#'), ('W', '0001001', 'G11111011#'), ('W', '0001001', '1101110110#'), ('W', '0001001', '1110110111#'), ('W', '0001001', 'G111100100#'), ('W', '0001001', '1101010010#'), ('W', '001001', '1010111#'), ('W', '0001001', 'T011001111#'), ('W', '0001001', 'G0101100011#'), ('W', '0001001', 'U101100101#'), ('W', '0001001', 'T111101110#'), ('W', '0001001', 'T10000001#'), ('W', '0001001', 'G110111111#'), ('W', '0001001', '1110100010#'), ('W', '0001001', 'G0110001011#'), ('W', '0001001', 'T0100110111#'), ('W', '0001001', 'T1100000000#'), ('W', '0001001', 'T110011011#'), ('W', '0001001', '1111010#'), ('W', '0001001', 'T0010000100#'), ('W', '0001001', 'T1101110100#'), ('W', '0001001', '011010101#'), ('W', '0001001', 'U100101101#'), ('W', '0001001', 'U1100000111#'), ('W', '001001', '11101#'), ('W', '0001001', '1100110101#'), ('W', '0001001', 'G0101111111#'), ('W', '0001001', 'T0010010000#'), ('W', '0001001', 'T0001101001#'), ('W', '0001001', '011001000#'), ('W', '0001001', 'U1100011110#'), ('W', '0001001', '011000110#'), ('W', '0001001', '1100101100#'), ('W', '0001001', 'T1000000110#'), ('W', '0001001', 'T0011101#'), ('W', '0001001', 'T000101#'), ('W', '0001001', 'U1110000000#'), ('W', '0001001', 'T110100010#'), ('W', '0001001', 'U11000001#'), ('W', '0001001', 'U111100#'), ('W', '0001001', 'U110111#'), ('W', '001001', '10001011#'), ('W', '0001001', 'G011100110#'), ('W', '0001001', '01111111#'), ('W', '0001001', '1101110111#'), ('W', '0001001', 'T1100101100#'), ('W', '0001001', 'T110010001#'), ('W', '0001001', 'G1111110000#'), ('W', '0001001', 'U1000000110#'), ('W', '0001001', '1100000#'), ('W', '0001001', 'G1110000101#'), ('W', '0001001', 'G11001001#'), ('W', '0001001', '1101111100#'), ('W', '0001001', 'U11111#'), ('W', '0001001', 'T1001100001#'), ('W', '0001001', '110111010#'), ('W', '0001001', 'T001110010#'), ('W', '0001001', 'G1101110100#'), ('W', '0001001', 'T0000100101#'), ('W', '0001001', 'G01011#'), ('W', '0001001', 'U1100101110#'), ('W', '0001001', 'T1100001111#'), ('W', '0001001', 'U1000111110#'), ('W', '0001001', 'T0101001010#'), ('W', '001001', '10101000#'), ('W', '0001001', 'G11011101#'), ('W', '0001001', '1101000100#'), ('W', '0001001', 'U10001000#'), ('W', '0001001', 'G0111101010#'), ('W', '0001001', 'T1000111111#'), ('W', '0001001', 'U1011011001#'), ('W', '0001001', '01000010#'), ('W', '001001', '111010001#'), ('W', '0001001', 'T0110101010#'), ('W', '0001001', '1100111110#'), ('W', '0001001', 'U101101010#'), ('W', '0001001', 'T1101101010#'), ('W', '0001001', 'U1010011101#'), ('W', '0001001', '1110001101#'), ('W', '0001001', 'U1011001100#'), ('W', '0001001', 'G0111011100#'), ('W', '0001001', 'U110100010#'), ('W', '0001001', 'T1101111001#'), ('W', '0001001', 'T110111110#'), ('W', '0001001', 'T1000111101#'), ('W', '0001001', 'T101001110#'), ('W', '0001001', '0101100#'), ('W', '0001001', '011010000#'), ('W', '0001001', 'U1011010011#'), ('W', '0001001', 'U1110001100#'), ('W', '0001001', 'T1000110110#'), ('W', '0001001', 'G1110100110#'), ('W', '001001', '110011110#'), ('W', '0001001', 'U111011100#'), ('W', '0001001', 'T111101011#'), ('W', '001001', '100110110#'), ('W', '0001001', 'T110111011#'), ('W', '0001001', 'T000001100#'), ('W', '0001001', 'G010111011#'), ('W', '0001001', 'G0100010010#'), ('W', '0001001', 'T000111000#'), ('W', '001001', '11100111#'), ('W', '0001001', 'T101001011#'), ('W', '0001001', 'T0010011#'), ('W', '0001001', 'T000111111#'), ('W', '0001001', '0110110010#'), ('W', '0001001', 'T1110011100#'), ('W', '0001001', 'U1011110000#'), ('W', '0001001', 'G1100001011#'), ('W', '0001001', 'G1101101110#'), ('W', '0001001', '010111#'), ('W', '0001001', 'T000011111#'), ('W', '0001001', '0111000001#'), ('W', '001001', '110000011#'), ('W', '0001001', 'G111001001#'), ('W', '001001', '100011001#'), ('W', '0001001', '1101010101#'), ('W', '0001001', 'U1011110101#'), ('W', '0001001', 'U110001001#'), ('W', '0001001', 'G010010001#'), ('W', '0001001', 'T1111100000#'), ('W', '0001001', 'G1111010011#'), ('W', '0001001', 'T1101101100#'), ('W', '0001001', 'T0011011100#'), ('W', '0001001', 'G01001110#'), ('W', '0001001', 'G0100000110#'), ('W', '0001001', 'T1011001#'), ('W', '0001001', 'T0010101000#'), ('W', '0001001', 'T010001#'), ('W', '0001001', 'G1110001100#'), ('W', '0001001', 'G011010#'), ('W', '0001001', 'T0000011011#'), ('W', '0001001', 'G01010101#'), ('W', '0001001', 'G1100000#'), ('W', '0001001', 'G1100000001#'), ('W', '0001001', 'G11000#'), ('W', '0001001', '0101110001#'), ('W', '0001001', 'T111001011#'), ('W', '0001001', 'G1110100#'), ('W', '0001001', 'T0001#'), ('W', '0001001', 'T1001011011#'), ('W', '0001001', 'T0001000010#'), ('W', '0001001', 'T0110001011#'), ('W', '0001001', '1100000110#'), ('W', '001001', '101010111#'), ('W', '0001001', 'T1000100#'), ('W', '0001001', 'T100001#'), ('W', '0001001', 'U1110000101#'), ('W', '0001001', 'G0100100101#'), ('W', '0001001', 'T11010011#'), ('W', '001001', '10110001#'), ('W', '0001001', '111001#'), ('W', '0001001', 'T1000110#'), ('W', '0001001', 'T0001000110#'), ('W', '0001001', 'G010111101#'), ('W', '0001001', 'T0010000010#'), ('W', '0001001', 'G011100100#'), ('W', '0001001', 'T110101100#'), ('W', '001001', '110111100#'), ('W', '0001001', '1101101000#'), ('W', '0001001', 'G0110001100#'), ('W', '0001001', 'T1011001100#'), ('W', '001001', '110010#'), ('W', '0001001', 'U111100100#'), ('W', '0001001', 'G1101011101#'), ('W', '0001001', '1111001101#'), ('W', '0001001', 'T0000110001#'), ('W', '0001001', 'G1110001101#'), ('W', '0001001', 'U1101100101#'), ('W', '0001001', '1111101000#'), ('W', '0001001', 'U10100010#'), ('W', '001001', '111010100#'), ('W', '0001001', 'T101101110#'), ('W', '001001', '11011100#'), ('W', '0001001', 'T1001110010#'), ('W', '0001001', '1101010#'), ('W', '0001001', 'T0100101#'), ('W', '0001001', 'T110010000#'), ('W', '0001001', 'U1011110111#'), ('W', '0001001', 'G1101100011#'), ('W', '0001001', 'G0111001100#'), ('W', '0001001', 'T101000011#'), ('W', '0001001', 'U100000011#'), ('W', '0001001', 'T10110001#'), ('W', '0001001', '011#'), ('W', '0001001', '0111110101#'), ('W', '0001001', 'U10111001#'), ('W', '0001001', 'G011001#'), ('W', '0001001', '010011001#'), ('W', '0001001', 'T10011#'), ('W', '0001001', '011111110#'), ('W', '0001001', 'T00011001#'), ('W', '0001001', 'T0011111000#'), ('W', '0001001', 'G1100101100#'), ('W', '0001001', 'T11001011#'), ('W', '0001001', 'T0110101011#'), ('W', '001001', '101001010#'), ('W', '0001001', 'T101111011#'), ('W', '0001001', '111011110#'), ('W', '0001001', 'T0100101000#'), ('W', '0001001', '0101010101#'), ('W', '0001001', '111011#'), ('W', '0001001', 'U10111101#'), ('W', '0001001', 'T0001001001#'), ('W', '0001001', 'T1011011001#'), ('W', '0001001', 'T0001111100#'), ('W', '0001001', '01011111#'), ('W', '0001001', 'T000100000#'), ('W', '0001001', 'G1111000010#'), ('W', '0001001', 'G11111100#'), ('W', '0001001', '110110100#'), ('W', '0001001', 'T011111#'), ('W', '001001', '1110100#'), ('W', '001001', '10011100#'), ('W', '001001', '10001000#'), ('W', '0001001', 'T1000010#'), ('W', '0001001', 'G1110011101#'), ('W', '0001001', 'G0101100000#'), ('W', '0001001', '011001100#'), ('W', '0001001', 'T1100000001#'), ('W', '0001001', 'T000101010#'), ('W', '0001001', '1101111000#'), ('W', '0001001', 'G1111100111#'), ('W', '0001001', 'G010111001#'), ('W', '0001001', 'G1111001000#'), ('W', '0001001', 'T000101111#'), ('W', '0001001', 'T1011010100#'), ('W', '001001', '1101000#'), ('W', '0001001', 'T1001110#'), ('W', '001001', '111011010#'), ('W', '0001001', '0110110000#'), ('W', '0001001', 'G1100100000#'), ('W', '001001', '10001111#'), ('W', '0001001', 'T1101001010#'), ('W', '0001001', 'T0111001#'), ('W', '0001001', '0100100000#'), ('W', '0001001', 'U1111010001#'), ('W', '0001001', '0100100101#'), ('W', '0001001', '11110111#'), ('W', '0001001', '1111100101#'), ('W', '0001001', 'T0000000010#'), ('W', '0001001', 'T1101111000#'), ('W', '0001001', 'U1111100010#'), ('W', '001001', '111010000#'), ('W', '0001001', 'G1111011010#'), ('W', '0001001', 'G1111111110#'), ('W', '0001001', '010001#'), ('W', '0001001', 'U1100001001#'), ('W', '0001001', 'U1010111101#'), ('W', '0001001', 'G1110000000#'), ('W', '0001001', 'T0001011000#'), ('W', '0001001', 'T100000010#'), ('W', '0001001', 'T011000101#'), ('W', '0001001', 'G01001#'), ('W', '0001001', 'U101010100#'), ('W', '0001001', 'T001001111#'), ('W', '0001001', '0101100000#'), ('W', '0001001', 'U1010000#'), ('W', '0001001', 'T101010111#'), ('W', '0001001', 'T000111011#'), ('W', '0001001', '1110011110#'), ('W', '0001001', 'U1000100#'), ('W', '0001001', 'T000110111#'), ('W', '0001001', 'T010100000#'), ('W', '0001001', 'G011010111#'), ('W', '0001001', 'U111101000#'), ('W', '0001001', 'T1101111#'), ('W', '0001001', 'T100101001#'), ('W', '0001001', 'T10010101#'), ('W', '0001001', 'G0100110110#'), ('W', '0001001', 'U1100100111#'), ('W', '0001001', 'T1110010000#'), ('W', '0001001', 'G01101000#'), ('W', '0001001', 'G1111000#'), ('W', '0001001', 'U1001100010#'), ('W', '0001001', '1111100010#'), ('W', '0001001', 'U1001000010#'), ('W', '0001001', '110111011#'), ('W', '0001001', 'G0100111000#'), ('W', '001001', '111001000#'), ('W', '0001001', 'T0101110100#'), ('W', '0001001', 'U1100111111#'), ('W', '0001001', 'T1110010111#'), ('W', '0001001', 'G1101000010#'), ('W', '0001001', 'G1101011111#'), ('W', '0001001', 'T001100#'), ('W', '0001001', 'T0000000#'), ('W', '0001001', '110#'), ('W', '0001001', 'T010101010#'), ('W', '001001', '101101101#'), ('W', '001001', '100100#'), ('W', '0001001', 'T1100011#'), ('W', '0001001', '1111100110#'), ('W', '0001001', 'U11101000#'), ('W', '001001', '110011000#'), ('W', '0001001', 'G010#'), ('W', '0001001', '110100110#'), ('W', '0001001', '011110011#'), ('W', '0001001', 'T01010101#'), ('W', '0001001', 'T0100001111#'), ('W', '0001001', 'U1110100101#'), ('W', '0001001', 'U110000100#'), ('W', '0001001', 'T00010001#'), ('W', '0001001', 'T0101011010#'), ('W', '0001001', '0101101010#'), ('W', '0001001', 'T1011001101#'), ('W', '0001001', 'U1000010100#'), ('W', '0001001', 'G011000101#'), ('W', '0001001', 'T010011101#'), ('W', '001001', '110010010#'), ('W', '0001001', 'U1110001000#'), ('W', '001001', '111101011#'), ('W', '0001001', '011101101#'), ('W', '0001001', '010111001#'), ('W', '0001001', 'U1010010#'), ('W', '0001001', '111000000#'), ('W', '0001001', '11001000#'), ('W', '0001001', '1100111100#'), ('W', '0001001', 'T00110010#'), ('W', '001001', '110000010#'), ('W', '0001001', 'G111110010#'), ('W', '0001001', 'G0101110010#'), ('W', '0001001', 'T000101000#'), ('W', '0001001', 'T000001111#'), ('W', '0001001', 'U111101001#'), ('W', '0001001', 'U1111011101#'), ('W', '0001001', 'U100100011#'), ('W', '001001', '1111101#'), ('W', '0001001', 'T0001010011#'), ('W', '0001001', '11110110#'), ('W', '0001001', 'U101111101#'), ('W', '0001001', '011011010#'), ('W', '0001001', 'G1110111111#'), ('W', '0001001', 'T0010011110#'), ('W', '001001', '11000001#'), ('W', '0001001', 'U10011#'), ('W', '0001001', 'T0101010110#'), ('W', '0001001', 'G1100100100#'), ('W', '001001', '1111#'), ('W', '0001001', '010111101#'), ('W', '001001', '11101110#'), ('W', '0001001', 'T0101011011#'), ('W', '001001', '10101011#'), ('W', '001001', '100001111#'), ('W', '0001001', 'T100100#'), ('W', '0001001', 'U1000110000#'), ('W', '0001001', 'U10001100#'), ('W', '0001001', 'T1100101011#'), ('W', '0001001', '1100110#'), ('W', '0001001', 'T011100011#'), ('W', '0001001', 'G01111111#'), ('W', '0001001', '011111011#'), ('W', '0001001', 'G1110101001#'), ('W', '0001001', 'U1111110000#'), ('W', '0001001', 'U11100111#'), ('W', '0001001', '01111110#'), ('W', '0001001', '111111111#'), ('W', '0001001', 'G1100101111#'), ('W', '0001001', 'T000111010#'), ('W', '0001001', 'T1100000010#'), ('W', '0001001', 'T1110111100#'), ('W', '0001001', 'G011100010#'), ('W', '0001001', 'T11101011#'), ('W', '0001001', 'U101010010#'), ('W', '0001001', 'U110010101#'), ('W', '0001001', '0100000100#'), ('W', '0001001', 'T0110110111#'), ('W', '0001001', 'T0001110111#'), ('W', '001001', '111101001#'), ('W', '0001001', 'U100011001#'), ('W', '0001001', 'T000110011#'), ('W', '0001001', 'G0110010110#'), ('W', '0001001', 'G1110010111#'), ('W', '0001001', 'T0101110101#'), ('W', '0001001', '110110010#'), ('W', '001001', '110001111#'), ('W', '0001001', '110001010#'), ('W', '0001001', 'U1000110110#'), ('W', '0001001', 'T111011000#'), ('W', '0001001', 'T0011101001#'), ('W', '0001001', 'T1010110010#'), ('W', '0001001', 'G011101#'), ('W', '0001001', 'G1101001111#'), ('W', '0001001', 'T1010101010#'), ('W', '0001001', 'T10001000#'), ('W', '0001001', 'U100001000#'), ('W', '0001001', '011101010#'), ('W', '0001001', 'G1110110111#'), ('W', '0001001', '111110#'), ('W', '0001001', '011111111#'), ('W', '0001001', 'G1100100001#'), ('W', '0001001', 'U1000000000#'), ('W', '0001001', 'T011010110#'), ('W', '0001001', 'G0101100101#'), ('W', '0001001', 'T110110#'), ('W', '0001001', 'T1100010111#'), ('W', '0001001', 'T011101010#'), ('W', '0001001', 'U1101110101#'), ('W', '0001001', 'T1000010110#'), ('W', '0001001', 'G01100100#'), ('W', '0001001', 'T01001100#'), ('W', '0001001', '01001110#'), ('W', '0001001', 'U1101100001#'), ('W', '001001', '1010101#'), ('W', '0001001', 'G110010101#'), ('W', '0001001', 'G1101011010#'), ('W', '0001001', 'G110101101#'), ('W', '0001001', 'T110110101#'), ('W', '0001001', 'G0110110101#'), ('W', '0001001', 'G0110111101#'), ('W', '0001001', 'U1101010000#'), ('W', '0001001', 'G01010#'), ('W', '0001001', '0101111001#'), ('W', '0001001', '11001100#'), ('W', '0001001', 'T01001010#'), ('W', '0001001', 'U1010010001#'), ('W', '0001001', 'T010000001#'), ('W', '0001001', 'G1110000110#'), ('W', '001001', '1000110#'), ('W', '0001001', 'U110110010#'), ('W', '0001001', 'G011101100#'), ('W', '0001001', 'T001110001#'), ('W', '0001001', 'T0010100110#'), ('W', '0001001', 'G011101111#'), ('W', '0001001', 'T11111011#'), ('W', '0001001', 'T0001001100#'), ('W', '0001001', 'U1110001001#'), ('W', '0001001', 'U1001100111#'), ('W', '0001001', 'T0101000010#'), ('W', '0001001', 'T0010110011#'), ('W', '0001001', 'G01111010#'), ('W', '0001001', 'G011000#'), ('W', '0001001', 'T001010101#'), ('W', '0001001', 'G0111100001#'), ('W', '0001001', 'U1001110000#'), ('W', '0001001', '1110010100#'), ('W', '0001001', 'T1111111001#'), ('W', '0001001', 'T11101101#'), ('W', '0001001', 'T0000001010#'), ('W', '0001001', 'T0100101011#'), ('W', '0001001', 'U1100001010#'), ('W', '0001001', 'G01010110#'), ('W', '0001001', 'U1111011110#'), ('W', '0001001', 'T00001101#'), ('W', '0001001', 'T010100010#'), ('W', '0001001', 'T0101101000#'), ('W', '001001', '11100100#'), ('W', '0001001', 'T0101100000#'), ('W', '0001001', 'U111001110#'), ('W', '0001001', 'T0100110#'), ('W', '0001001', 'U101101111#'), ('W', '0001001', 'T000010100#'), ('W', '0001001', 'U1001111101#'), ('W', '0001001', '0110001#'), ('W', '0001001', 'T1000011001#'), ('W', '0001001', 'U111001100#'), ('W', '0001001', 'T1100101001#'), ('W', '0001001', 'T10101101#'), ('W', '0001001', 'T1000001101#'), ('W', '0001001', 'T101101#'), ('W', '0001001', '11011111#'), ('W', '0001001', 'T001110100#'), ('W', '0001001', 'G0110100001#'), ('W', '0001001', '0110001000#'), ('W', '0001001', 'G0111000001#'), ('W', '0001001', '1101111101#'), ('W', '0001001', 'G0100110101#'), ('W', '0001001', 'U1001100011#'), ('W', '0001001', 'T110001#'), ('W', '0001001', 'T10111#'), ('W', '0001001', 'T0111110011#'), ('W', '0001001', '0111011100#'), ('W', '0001001', '0100110011#'), ('W', '0001001', 'T111101001#'), ('W', '0001001', '011000010#'), ('W', '0001001', 'T1010100110#'), ('W', '0001001', 'U11110110#'), ('W', '0001001', 'T1011010#'), ('W', '0001001', '11011#'), ('W', '0001001', 'G0101001#'), ('W', '0001001', 'G1100101010#'), ('W', '0001001', '1100011100#'), ('W', '0001001', '1111100000#'), ('W', '0001001', 'T1010011#'), ('W', '0001001', 'T0111010100#'), ('W', '0001001', 'T110101#'), ('W', '0001001', 'T111111010#'), ('W', '0001001', 'T1001110110#'), ('W', '0001001', '01000011#'), ('W', '0001001', 'T0000001001#'), ('W', '0001001', 'F1#'), ('W', '0001001', 'G011111101#'), ('W', '0001001', '1110111010#'), ('W', '0001001', '111101100#'), ('W', '0001001', 'T01000111#'), ('W', '0001001', 'G0101010001#'), ('W', '0001001', 'G1100111#'), ('W', '0001001', 'G1100011101#'), ('W', '0001001', 'T1000101010#'), ('W', '0001001', 'T110111#'), ('W', '0001001', 'T1111010110#'), ('W', '0001001', 'T01000001#'), ('W', '0001001', 'U11110000#'), ('W', '0001001', '110011010#'), ('W', '0001001', 'U1000100101#'), ('W', '001001', '11011001#')}\n"
     ]
    }
   ],
   "source": [
    "# REVERSE THIS TEST:  explore_pda('1001000', pda_if_sndlast_then_1)\n",
    "\n",
    "explore_pda('0001001', pda_rev, STKMAX=12)"
   ]
  },
  {
   "cell_type": "code",
   "execution_count": 23,
   "metadata": {},
   "outputs": [
    {
     "data": {
      "application/vnd.jupyter.widget-view+json": {
       "model_id": "38662248da3b498e915351dddc7d778e",
       "version_major": 2,
       "version_minor": 0
      },
      "text/plain": [
       "VBox(children=(HBox(children=(Text(value='', description='Input:', layout=Layout(width='500px'), placeholder='…"
      ]
     },
     "metadata": {},
     "output_type": "display_data"
    },
    {
     "data": {
      "text/html": [
       "<link rel=\"stylesheet\" href=\"//stackpath.bootstrapcdn.com/font-awesome/4.7.0/css/font-awesome.min.css\"/>"
      ],
      "text/plain": [
       "<IPython.core.display.HTML object>"
      ]
     },
     "metadata": {},
     "output_type": "display_data"
    }
   ],
   "source": [
    "AnimatePDA(pda_rev, FuseEdges=True)\n",
    "display(HTML('<link rel=\"stylesheet\" href=\"//stackpath.bootstrapcdn.com/font-awesome/4.7.0/css/font-awesome.min.css\"/>'))"
   ]
  },
  {
   "cell_type": "markdown",
   "metadata": {},
   "source": [
    "# Now for an inherently ambiguous language\n",
    "\n",
    "## $\\{ a^i b^j c^k \\; : \\; (i=j)\\; \\vee \\; (j=k) \\}$\n",
    "\n",
    "## No CFG can avoid ambiguity! \n",
    "\n",
    "## Let's try a CFG just for illustration\n"
   ]
  },
  {
   "cell_type": "code",
   "execution_count": 24,
   "metadata": {
    "run_control": {
     "frozen": false,
     "read_only": false
    }
   },
   "outputs": [
    {
     "data": {
      "image/svg+xml": [
       "<?xml version=\"1.0\" encoding=\"UTF-8\" standalone=\"no\"?>\r\n",
       "<!DOCTYPE svg PUBLIC \"-//W3C//DTD SVG 1.1//EN\"\r\n",
       " \"http://www.w3.org/Graphics/SVG/1.1/DTD/svg11.dtd\">\r\n",
       "<!-- Generated by graphviz version 2.44.1 (20200629.0846)\r\n",
       " -->\r\n",
       "<!-- Pages: 1 -->\r\n",
       "<svg width=\"535pt\" height=\"262pt\"\r\n",
       " viewBox=\"0.00 0.00 535.00 262.50\" xmlns=\"http://www.w3.org/2000/svg\" xmlns:xlink=\"http://www.w3.org/1999/xlink\">\r\n",
       "<g id=\"graph0\" class=\"graph\" transform=\"scale(1 1) rotate(0) translate(4 258.5)\">\r\n",
       "<polygon fill=\"white\" stroke=\"transparent\" points=\"-4,4 -4,-258.5 531,-258.5 531,4 -4,4\"/>\r\n",
       "<!-- EMPTY -->\r\n",
       "<g id=\"node1\" class=\"node\">\r\n",
       "<title>EMPTY</title>\r\n",
       "</g>\r\n",
       "<!-- I -->\r\n",
       "<g id=\"node3\" class=\"node\">\r\n",
       "<title>I</title>\r\n",
       "<ellipse fill=\"none\" stroke=\"black\" cx=\"109\" cy=\"-22\" rx=\"18\" ry=\"18\"/>\r\n",
       "<text text-anchor=\"middle\" x=\"109\" y=\"-18.3\" font-family=\"Times New Roman,serif\" font-size=\"14.00\">I</text>\r\n",
       "</g>\r\n",
       "<!-- EMPTY&#45;&gt;I -->\r\n",
       "<g id=\"edge1\" class=\"edge\">\r\n",
       "<title>EMPTY&#45;&gt;I</title>\r\n",
       "<path fill=\"none\" stroke=\"black\" d=\"M54.19,-22C62.65,-22 72.05,-22 80.6,-22\"/>\r\n",
       "<polygon fill=\"black\" stroke=\"black\" points=\"80.83,-25.5 90.83,-22 80.83,-18.5 80.83,-25.5\"/>\r\n",
       "</g>\r\n",
       "<!-- W -->\r\n",
       "<g id=\"node2\" class=\"node\">\r\n",
       "<title>W</title>\r\n",
       "<ellipse fill=\"none\" stroke=\"black\" cx=\"309.5\" cy=\"-22\" rx=\"19.5\" ry=\"19.5\"/>\r\n",
       "<text text-anchor=\"middle\" x=\"309.5\" y=\"-18.3\" font-family=\"Times New Roman,serif\" font-size=\"14.00\">W</text>\r\n",
       "</g>\r\n",
       "<!-- W&#45;&gt;W -->\r\n",
       "<g id=\"edge2\" class=\"edge\">\r\n",
       "<title>W&#45;&gt;W</title>\r\n",
       "<path fill=\"none\" stroke=\"black\" d=\"M292.32,-31.6C277.6,-44.24 283.33,-59.5 309.5,-59.5 330.36,-59.5 338.23,-49.81 333.12,-39.48\"/>\r\n",
       "<polygon fill=\"black\" stroke=\"black\" points=\"335.72,-37.13 326.68,-31.6 330.3,-41.56 335.72,-37.13\"/>\r\n",
       "<text text-anchor=\"middle\" x=\"309.5\" y=\"-243.3\" font-family=\"Times New Roman,serif\" font-size=\"14.00\">&#39;&#39;, M ; aMb </text>\r\n",
       "<text text-anchor=\"middle\" x=\"309.5\" y=\"-228.3\" font-family=\"Times New Roman,serif\" font-size=\"14.00\"> b, b ; &#39;&#39; </text>\r\n",
       "<text text-anchor=\"middle\" x=\"309.5\" y=\"-213.3\" font-family=\"Times New Roman,serif\" font-size=\"14.00\"> &#39;&#39;, A ; aA </text>\r\n",
       "<text text-anchor=\"middle\" x=\"309.5\" y=\"-198.3\" font-family=\"Times New Roman,serif\" font-size=\"14.00\"> &#39;&#39;, C ; cC </text>\r\n",
       "<text text-anchor=\"middle\" x=\"309.5\" y=\"-183.3\" font-family=\"Times New Roman,serif\" font-size=\"14.00\"> &#39;&#39;, M ; &#39;&#39; </text>\r\n",
       "<text text-anchor=\"middle\" x=\"309.5\" y=\"-168.3\" font-family=\"Times New Roman,serif\" font-size=\"14.00\"> &#39;&#39;, N ; &#39;&#39; </text>\r\n",
       "<text text-anchor=\"middle\" x=\"309.5\" y=\"-153.3\" font-family=\"Times New Roman,serif\" font-size=\"14.00\"> &#39;&#39;, S ; AN </text>\r\n",
       "<text text-anchor=\"middle\" x=\"309.5\" y=\"-138.3\" font-family=\"Times New Roman,serif\" font-size=\"14.00\"> &#39;&#39;, N ; bNc </text>\r\n",
       "<text text-anchor=\"middle\" x=\"309.5\" y=\"-123.3\" font-family=\"Times New Roman,serif\" font-size=\"14.00\"> &#39;&#39;, A ; &#39;&#39; </text>\r\n",
       "<text text-anchor=\"middle\" x=\"309.5\" y=\"-108.3\" font-family=\"Times New Roman,serif\" font-size=\"14.00\"> &#39;&#39;, S ; MC </text>\r\n",
       "<text text-anchor=\"middle\" x=\"309.5\" y=\"-93.3\" font-family=\"Times New Roman,serif\" font-size=\"14.00\"> a, a ; &#39;&#39; </text>\r\n",
       "<text text-anchor=\"middle\" x=\"309.5\" y=\"-78.3\" font-family=\"Times New Roman,serif\" font-size=\"14.00\"> &#39;&#39;, C ; &#39;&#39; </text>\r\n",
       "<text text-anchor=\"middle\" x=\"309.5\" y=\"-63.3\" font-family=\"Times New Roman,serif\" font-size=\"14.00\"> c, c ; &#39;&#39;</text>\r\n",
       "</g>\r\n",
       "<!-- F -->\r\n",
       "<g id=\"node4\" class=\"node\">\r\n",
       "<title>F</title>\r\n",
       "<ellipse fill=\"none\" stroke=\"black\" cx=\"505\" cy=\"-22\" rx=\"18\" ry=\"18\"/>\r\n",
       "<ellipse fill=\"none\" stroke=\"black\" cx=\"505\" cy=\"-22\" rx=\"22\" ry=\"22\"/>\r\n",
       "<text text-anchor=\"middle\" x=\"505\" y=\"-18.3\" font-family=\"Times New Roman,serif\" font-size=\"14.00\">F</text>\r\n",
       "</g>\r\n",
       "<!-- W&#45;&gt;F -->\r\n",
       "<g id=\"edge4\" class=\"edge\">\r\n",
       "<title>W&#45;&gt;F</title>\r\n",
       "<path fill=\"none\" stroke=\"black\" d=\"M329.05,-22C362.22,-22 432.02,-22 472.72,-22\"/>\r\n",
       "<polygon fill=\"black\" stroke=\"black\" points=\"472.88,-25.5 482.88,-22 472.88,-18.5 472.88,-25.5\"/>\r\n",
       "<text text-anchor=\"middle\" x=\"445\" y=\"-25.8\" font-family=\"Times New Roman,serif\" font-size=\"14.00\">&#39;&#39;, # ; #</text>\r\n",
       "</g>\r\n",
       "<!-- I&#45;&gt;W -->\r\n",
       "<g id=\"edge3\" class=\"edge\">\r\n",
       "<title>I&#45;&gt;W</title>\r\n",
       "<path fill=\"none\" stroke=\"black\" d=\"M127.27,-22C161.46,-22 238.06,-22 279.9,-22\"/>\r\n",
       "<polygon fill=\"black\" stroke=\"black\" points=\"279.98,-25.5 289.98,-22 279.98,-18.5 279.98,-25.5\"/>\r\n",
       "<text text-anchor=\"middle\" x=\"169.5\" y=\"-25.8\" font-family=\"Times New Roman,serif\" font-size=\"14.00\">&#39;&#39;, # ; S#</text>\r\n",
       "</g>\r\n",
       "</g>\r\n",
       "</svg>\r\n"
      ],
      "text/plain": [
       "<graphviz.dot.Digraph at 0x5a3f6e8>"
      ]
     },
     "execution_count": 24,
     "metadata": {},
     "output_type": "execute_result"
    }
   ],
   "source": [
    "pda_inh_amb = md2mc('''PDA\n",
    "\n",
    "!!---\n",
    "!! \n",
    "!!   where M is \"match a/b\" and N is \"match b/c\"\n",
    "!!   and C means any number of Cs, and A means any number of As\n",
    "!!\n",
    "!! S -> M C |  A N    \n",
    "!!\n",
    "!! M -> a M b | ''\n",
    "!! C -> c C   | ''\n",
    "\n",
    "!! N -> b N c | ''\n",
    "!! A -> a A   | ''\n",
    "!!\n",
    "!!---\n",
    "\n",
    "!!-- Transitions for the CFG rules\n",
    "\n",
    "\n",
    "!! S -> M C |  A N \n",
    "\n",
    "W : '',S; MC -> W\n",
    "W : '',S; AN -> W\n",
    "\n",
    "\n",
    "!! M -> a M b | ''\n",
    "W : '',M; aMb -> W\n",
    "W : '',M; ''  -> W\n",
    "\n",
    "\n",
    "!! C -> c C   | ''\n",
    "W : '',C; cC  -> W\n",
    "W : '',C; ''  -> W\n",
    "\n",
    "!! N -> b N C | ''\n",
    "W : '',N; bNc -> W\n",
    "W : '',N; ''  -> W\n",
    "\n",
    "!! A -> a A   | ''\n",
    "W : '',A; aA  -> W\n",
    "W : '',A; ''  -> W\n",
    "\n",
    "\n",
    "!!-- Standard transitions for CFG 2 PDA\n",
    "I : '',#; S# -> W\n",
    "W : '',#; #  -> F\n",
    "\n",
    "!!-- Transitions for Sigma\n",
    "W : a,a; '' -> W\n",
    "W : b,b; '' -> W\n",
    "W : c,c; '' -> W\n",
    "\n",
    " \n",
    "\n",
    "\n",
    "''')\n",
    "\n",
    "DO_pda_inh_amb = dotObj_pda(pda_inh_amb, FuseEdges=True)\n",
    "DO_pda_inh_amb"
   ]
  },
  {
   "cell_type": "code",
   "execution_count": 25,
   "metadata": {},
   "outputs": [
    {
     "name": "stdout",
     "output_type": "stream",
     "text": [
      "String abc accepted by your PDA in 2 ways :-) \n",
      "Here are the ways: \n",
      "Final state  ('F', '', '#')\n",
      "Reached as follows:\n",
      "->  ('I', 'abc', '#')\n",
      "->  ('W', 'abc', 'S#')\n",
      "->  ('W', 'abc', 'AN#')\n",
      "->  ('W', 'abc', 'aAN#')\n",
      "->  ('W', 'bc', 'AN#')\n",
      "->  ('W', 'bc', 'N#')\n",
      "->  ('W', 'bc', 'bNc#')\n",
      "->  ('W', 'c', 'Nc#')\n",
      "->  ('W', 'c', 'c#')\n",
      "->  ('W', '', '#')\n",
      "->  ('F', '', '#') .\n",
      "Final state  ('F', '', '#')\n",
      "Reached as follows:\n",
      "->  ('I', 'abc', '#')\n",
      "->  ('W', 'abc', 'S#')\n",
      "->  ('W', 'abc', 'MC#')\n",
      "->  ('W', 'abc', 'aMbC#')\n",
      "->  ('W', 'bc', 'MbC#')\n",
      "->  ('W', 'bc', 'bC#')\n",
      "->  ('W', 'c', 'C#')\n",
      "->  ('W', 'c', 'cC#')\n",
      "->  ('W', '', 'C#')\n",
      "->  ('W', '', '#')\n",
      "->  ('F', '', '#') .\n"
     ]
    }
   ],
   "source": [
    "explore_pda('abc', pda_inh_amb)"
   ]
  },
  {
   "cell_type": "code",
   "execution_count": 26,
   "metadata": {},
   "outputs": [
    {
     "data": {
      "application/vnd.jupyter.widget-view+json": {
       "model_id": "041d370230524abbb029c4bd5fdbe14e",
       "version_major": 2,
       "version_minor": 0
      },
      "text/plain": [
       "VBox(children=(HBox(children=(Text(value='', description='Input:', layout=Layout(width='500px'), placeholder='…"
      ]
     },
     "metadata": {},
     "output_type": "display_data"
    },
    {
     "data": {
      "text/html": [
       "<link rel=\"stylesheet\" href=\"//stackpath.bootstrapcdn.com/font-awesome/4.7.0/css/font-awesome.min.css\"/>"
      ],
      "text/plain": [
       "<IPython.core.display.HTML object>"
      ]
     },
     "metadata": {},
     "output_type": "display_data"
    }
   ],
   "source": [
    "AnimatePDA(pda_inh_amb, FuseEdges=True)\n",
    "display(HTML('<link rel=\"stylesheet\" href=\"//stackpath.bootstrapcdn.com/font-awesome/4.7.0/css/font-awesome.min.css\"/>'))"
   ]
  },
  {
   "cell_type": "markdown",
   "metadata": {},
   "source": [
    "# A chatty parser for PDA will parse pda_inh_amb now !!"
   ]
  },
  {
   "cell_type": "code",
   "execution_count": 27,
   "metadata": {},
   "outputs": [
    {
     "ename": "ModuleNotFoundError",
     "evalue": "No module named 'lex'",
     "output_type": "error",
     "traceback": [
      "\u001b[1;31m---------------------------------------------------------------------------\u001b[0m",
      "\u001b[1;31mModuleNotFoundError\u001b[0m                       Traceback (most recent call last)",
      "\u001b[1;32m<ipython-input-27-3e670fb28d82>\u001b[0m in \u001b[0;36m<module>\u001b[1;34m\u001b[0m\n\u001b[1;32m----> 1\u001b[1;33m \u001b[1;32mfrom\u001b[0m \u001b[0mjove\u001b[0m\u001b[1;33m.\u001b[0m\u001b[0mDef_md2mc_chatty\u001b[0m     \u001b[1;32mimport\u001b[0m \u001b[1;33m*\u001b[0m\u001b[1;33m\u001b[0m\u001b[1;33m\u001b[0m\u001b[0m\n\u001b[0m",
      "\u001b[1;32mc:\\users\\null\\appdata\\local\\programs\\python\\python38-32\\lib\\site-packages\\jove\\Def_md2mc_chatty.py\u001b[0m in \u001b[0;36m<module>\u001b[1;34m\u001b[0m\n\u001b[0;32m     49\u001b[0m \u001b[1;31m# In[1]:\u001b[0m\u001b[1;33m\u001b[0m\u001b[1;33m\u001b[0m\u001b[1;33m\u001b[0m\u001b[0m\n\u001b[0;32m     50\u001b[0m \u001b[1;33m\u001b[0m\u001b[0m\n\u001b[1;32m---> 51\u001b[1;33m \u001b[1;32mfrom\u001b[0m \u001b[0mlex\u001b[0m \u001b[1;32mimport\u001b[0m \u001b[0mlex\u001b[0m\u001b[1;33m\u001b[0m\u001b[1;33m\u001b[0m\u001b[0m\n\u001b[0m\u001b[0;32m     52\u001b[0m \u001b[1;32mfrom\u001b[0m \u001b[0myacc\u001b[0m \u001b[1;32mimport\u001b[0m \u001b[0myacc\u001b[0m\u001b[1;33m\u001b[0m\u001b[1;33m\u001b[0m\u001b[0m\n\u001b[0;32m     53\u001b[0m \u001b[1;33m\u001b[0m\u001b[0m\n",
      "\u001b[1;31mModuleNotFoundError\u001b[0m: No module named 'lex'"
     ]
    }
   ],
   "source": [
    "from jove.Def_md2mc_chatty     import *"
   ]
  },
  {
   "cell_type": "code",
   "execution_count": null,
   "metadata": {},
   "outputs": [],
   "source": [
    "pda_inh_amb = md2mc('''PDA\n",
    "\n",
    "!!---\n",
    "!! \n",
    "!!   where M is \"match a/b\" and N is \"match b/c\"\n",
    "!!   and C means any number of Cs, and A means any number of As\n",
    "!!\n",
    "!! S -> M C |  A N    \n",
    "!!\n",
    "!! M -> a M b | ''\n",
    "!! C -> c C   | ''\n",
    "\n",
    "!! N -> b N c | ''\n",
    "!! A -> a A   | ''\n",
    "!!\n",
    "!!---\n",
    "\n",
    "!!-- Transitions for the CFG rules\n",
    "\n",
    "\n",
    "!! S -> M C |  A N \n",
    "\n",
    "W : '',S; MC -> W\n",
    "W : '',S; AN -> W\n",
    "\n",
    "\n",
    "!! M -> a M b | ''\n",
    "W : '',M; aMb -> W\n",
    "W : '',M; ''  -> W\n",
    "\n",
    "\n",
    "!! C -> c C   | ''\n",
    "W : '',C; cC  -> W\n",
    "W : '',C; ''  -> W\n",
    "\n",
    "!! N -> b N C | ''\n",
    "W : '',N; bNc -> W\n",
    "W : '',N; ''  -> W\n",
    "\n",
    "!! A -> a A   | ''\n",
    "W : '',A; aA  -> W\n",
    "W : '',A; ''  -> W\n",
    "\n",
    "\n",
    "!!-- Standard transitions for CFG 2 PDA\n",
    "I : '',#; S# -> W\n",
    "W : '',#; #  -> F\n",
    "\n",
    "!!-- Transitions for Sigma\n",
    "W : a,a; '' -> W\n",
    "W : b,b; '' -> W\n",
    "W : c,c; '' -> W\n",
    "\n",
    " \n",
    "\n",
    "\n",
    "''')\n",
    "\n",
    "DO_pda_inh_amb = dotObj_pda(pda_inh_amb, FuseEdges=True)\n",
    "DO_pda_inh_amb"
   ]
  },
  {
   "cell_type": "code",
   "execution_count": null,
   "metadata": {},
   "outputs": [],
   "source": []
  }
 ],
 "metadata": {
  "kernelspec": {
   "display_name": "Python 3",
   "language": "python",
   "name": "python3"
  },
  "language_info": {
   "codemirror_mode": {
    "name": "ipython",
    "version": 3
   },
   "file_extension": ".py",
   "mimetype": "text/x-python",
   "name": "python",
   "nbconvert_exporter": "python",
   "pygments_lexer": "ipython3",
   "version": "3.8.5"
  },
  "toc": {
   "colors": {
    "hover_highlight": "#DAA520",
    "running_highlight": "#FF0000",
    "selected_highlight": "#FFD700"
   },
   "moveMenuLeft": true,
   "nav_menu": {
    "height": "318px",
    "width": "252px"
   },
   "navigate_menu": true,
   "number_sections": true,
   "sideBar": true,
   "threshold": 4,
   "toc_cell": false,
   "toc_section_display": "block",
   "toc_window_display": false,
   "widenNotebook": false
  }
 },
 "nbformat": 4,
 "nbformat_minor": 1
}
