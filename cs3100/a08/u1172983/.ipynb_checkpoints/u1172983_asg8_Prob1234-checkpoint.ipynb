{
 "cells": [
  {
   "cell_type": "markdown",
   "metadata": {},
   "source": [
    "# Asg-8 focuses on questions graded by the mentioned TAs\n",
    "\n",
    "# Full details are in the PDF file of Asg-8\n",
    "\n",
    "# This notebook only has space for your answers\n",
    "\n",
    " "
   ]
  },
  {
   "cell_type": "markdown",
   "metadata": {},
   "source": [
    "# ============="
   ]
  },
  {
   "cell_type": "markdown",
   "metadata": {},
   "source": [
    "# SV\n",
    "\n",
    "# 1a: \n",
    "## Draw the parse-tree separately, call it u1234567_asg8_PT.pdf, and include it in your ZIP\n",
    "\n",
    "* Done.\n",
    "\n",
    "# 1b:\n",
    "\n",
    "* The production rules implies that the grammar will only ever accept strings that either have an odd length (\"OddLen\") or an even length (\"EvenLenXO\"). Furthermore:\n",
    "  * If the string has an odd length, then it'd just get accepted by this grammar;\n",
    "  * However, if the string has an even length, one must be able to divide it into two non-empty pieces, with exactly one of the pieces having \"0\" in the middle and one having \"1\" in the middle (\"GrowXMiddle GrowOMiddle | GrowOMiddle GrowXMiddle\").\n",
    "* The input string \"0101\" has an even length, so it must satisfy the second requirement above.\n",
    "* There are two ways to divide the string \"0101\" into two non-empty pieces: \"0\"+\"101\", and \"010\"+\"1\". None of them fit the above requirement:\n",
    "  * The former fails because \"0\" and \"101\" both have \"0\" in the middle; and\n",
    "  * The latter fails because \"010\" and \"1\" both have \"1\" in the middle. Neither of these has exactly one \"0\" and one \"1\" being the middle.\n",
    "* Since the requirement isn't met, the string \"0101\" will be rejected by the grammar, and therefore, it won't have a parse-tree. $\\square$\n",
    "\n",
    " \n",
    " "
   ]
  },
  {
   "cell_type": "markdown",
   "metadata": {},
   "source": [
    "# ============="
   ]
  },
  {
   "cell_type": "markdown",
   "metadata": {},
   "source": [
    "# LT\n",
    "\n",
    "     \n",
    "* This proof is flawed because it only considered the case where the strings $v$ and $y$ both fall into the portion of zeros.\n",
    "  * Even though by letting the string $vxy$ fall into the portion of zeros would satisfy the condition that $|vxy| \\le N$, it's not the only way to divide the original string into five pieces and still satisfy the above condition.\n",
    "  * For example, we can let $v$ be the last zero and $y$ be the first one in the original string. Pumping $v$ and $y$ at the same time would still produce a string that's in the language, but the proof did not consider this possibility. (The proof would fail upon considering this possibility.)\n",
    "* Following the above idea, we can create a context-free grammar for this language:\n",
    "  * S $\\rightarrow$ 0S1 | $\\varepsilon$\n"
   ]
  },
  {
   "cell_type": "markdown",
   "metadata": {},
   "source": [
    "# ============="
   ]
  },
  {
   "cell_type": "markdown",
   "metadata": {},
   "source": [
    "# XL\n",
    "\n",
    "\n",
    "* Let $L_\\text{int} = L_\\text{eq01Not2} \\cap L_\\text{eqNot012}$.\n",
    "* Any string $s \\in L_\\text{int}$ must satisfy both $s \\in L_\\text{eq01Not2}$ and $s \\in L_\\text{eqNot012}$.\n",
    "  * This means that $s = 0^m1^m2^n$ and $s = 0^j1^k2^k$ for some $m, n, j, k \\ge 0$.\n",
    "  * In other words, $s$ contains the same number of \"0\"s and \"1\"s, and $s$ contains the same number of \"1\"s and \"2\"s, meaning that $s$ contains the same number of \"0\"s, \"1\"s, and \"2\"s.\n",
    "  * Therefore, we can rewrite the defition of $L_\\text{int}$ as $L_\\text{int} = \\{0^n1^n2^n\\ |\\ n \\ge 0\\}$.\n",
    "* Suppose that the language $L_\\text{int}$ is context-free.\n",
    "  * This would mean that $L_\\text{int}$ has some pumping length $p > 0$.\n",
    "* Let $t = 0^p1^p2^p$.\n",
    "  * Clearly, $|t| > p$ because $|t| = |0^p1^p2^p| = p+p+p = 3p > p$.\n",
    "  * Also, $t \\in L_\\text{int}$ because $t$ has the same number of \"0\"s, \"1\"s, and \"2\"s ($p$ of each).\n",
    "* Let some split $t = uvxyz$ be given, where $|vy| > 0$ and $|vxy| \\le p$. \n",
    "  * Since $|vy| > 0$, at least one of $v$ and $y$ must be non-empty.\n",
    "* Consider the string $t' = uv^2xy^2z = uvvxyyz$. At least one of the following cases about the split must be true:\n",
    "  * Case 1: $v$ contains only one type of symbols, and $y$ contains only one type of symbols.\n",
    "    * Since $v$ and $y$ both contain only one type of symbols, it's not possible to repeat $v$ and $y$ while keeping the same numbers of three different types of symbols (0, 1, and 2).\n",
    "    * Since $t' = uvvxyyz$ doesn't have the same number of \"0\"s, \"1\"s, and \"2\"s, $t' \\notin L_\\text{int}$.\n",
    "  * Case 2: $v$ is empty, and $y$ contains only one type of symbols.\n",
    "    * $v$ is empty, so $vv$ is empty.\n",
    "    * Since $y$ contains only one type of symbols, it's not possible to only repeat $y$ and keep the same numbers of three different types of symbols (0, 1, and 2).\n",
    "    * Since $t' = uvvxyyz$ doesn't have the same number of \"0\"s, \"1\"s, and \"2\"s, $t' \\notin L_\\text{int}$.\n",
    "  * Case 3: $v$ contains only one type of symbols, and $y$ is empty.\n",
    "    * $y$ is empty, so $yy$ is empty.\n",
    "    * Since $v$ contains only one type of symbols, it's not possible to only repeat $v$ and keep the same numbers of three different types of symbols (0, 1, and 2).\n",
    "    * Since $t' = uvvxyyz$ doesn't have the same number of \"0\"s, \"1\"s, and \"2\"s, $t' \\notin L_\\text{int}$.\n",
    "  * Case 4: $v$ contains more than one type of symbols.\n",
    "    * Since $v$ contains a mixture of symbols, in the string $vv$, it's not possible to have the symbols of the same type come before any symbol of another type.\n",
    "    * Since $t' = uvvxyyz$ doesn't have its \"0\"s, \"1\"s, and \"2\"s coming in this exact order, $t' \\notin L_\\text{int}$.\n",
    "  * Case 5: $y$ contains more than one type of symbols.\n",
    "    * Since $y$ contains a mixture of symbols, in the string $yy$, it's not possible to have the symbols of the same type come before any symbol of another type.\n",
    "    * Since $t' = uvvxyyz$ doesn't have its \"0\"s, \"1\"s, and \"2\"s coming in this exact order, $t' \\notin L_\\text{int}$.\n",
    "* Since $t' \\notin L_\\text{int}$ regardless of the split, the Pumping Lemma fails for the language $L_\\text{int}$, which contradicts with $L_\\text{int}$ being context-free. Therefore, $L_\\text{int}$ in not context-free. $\\square$"
   ]
  },
  {
   "cell_type": "markdown",
   "metadata": {},
   "source": [
    "# ============="
   ]
  },
  {
   "cell_type": "markdown",
   "metadata": {},
   "source": [
    "# AR\n",
    "\n",
    "### (a)\n",
    "* Fuel consumed: 7.\n",
    "  * Started off with 10 units of fuel\n",
    "  * Accepted with 3 units of fuel left\n",
    "\n",
    "### (b)\n",
    "* Fuel consumed: 37.\n",
    "  * Started off with 100 units of fuel\n",
    "  * Accepted with 63 units of fuel left\n",
    "* Acceptance was done by going to the only final state \"Fq6\".\n",
    "\n",
    "### (c)\n",
    "* Starting off with 100 units of fuel, when there are 87 units of fuel left, we're on the state of \"q2\" and have a \"1\" under the tape head. The state \"q2\" doesn't have a state to go upon reading a \"1\" from the tape, so the token \"falls off\" and the machine halts, resulting in a rejection immediately.\n",
    "\n",
    "### (d)\n",
    "* Fuel consumed: 40.\n",
    "  * Started off with 100 units of fuel\n",
    "  * Accepted with 60 units of fuel left\n",
    "* Acceptance was done by going to the one of the two final states, \"Fq13\".\n",
    "\n",
    "### (e)\n",
    "* Starting off with 100 units of fuel, when there are 79 units of fuel left, we're on the state of \"q4\" and have a \"Y\" under the tape head. The state \"q4\" doesn't have a state to go upon reading a \"Y\" from the tape, so the token \"falls off\" and the machine halts, resulting in a rejection immediately."
   ]
  },
  {
   "cell_type": "markdown",
   "metadata": {},
   "source": [
    "# END\n"
   ]
  }
 ],
 "metadata": {
  "kernelspec": {
   "display_name": "Python 3",
   "language": "python",
   "name": "python3"
  },
  "language_info": {
   "codemirror_mode": {
    "name": "ipython",
    "version": 3
   },
   "file_extension": ".py",
   "mimetype": "text/x-python",
   "name": "python",
   "nbconvert_exporter": "python",
   "pygments_lexer": "ipython3",
   "version": "3.8.5"
  },
  "toc": {
   "colors": {
    "hover_highlight": "#DAA520",
    "running_highlight": "#FF0000",
    "selected_highlight": "#FFD700"
   },
   "moveMenuLeft": true,
   "nav_menu": {
    "height": "121px",
    "width": "252px"
   },
   "navigate_menu": true,
   "number_sections": true,
   "sideBar": true,
   "threshold": 4,
   "toc_cell": false,
   "toc_section_display": "block",
   "toc_window_display": false,
   "widenNotebook": false
  },
  "widgets": {
   "state": {
    "430c92ee02b34ec1912bf03c8de1e6dc": {
     "views": [
      {
       "cell_index": 20
      }
     ]
    }
   },
   "version": "1.2.0"
  }
 },
 "nbformat": 4,
 "nbformat_minor": 2
}
