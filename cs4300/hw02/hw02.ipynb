{
 "metadata": {
  "language_info": {
   "codemirror_mode": {
    "name": "ipython",
    "version": 3
   },
   "file_extension": ".py",
   "mimetype": "text/x-python",
   "name": "python",
   "nbconvert_exporter": "python",
   "pygments_lexer": "ipython3",
   "version": "3.7.9-final"
  },
  "orig_nbformat": 2,
  "kernelspec": {
   "name": "python3",
   "display_name": "Python 3",
   "language": "python"
  }
 },
 "nbformat": 4,
 "nbformat_minor": 2,
 "cells": [
  {
   "source": [
    "$\\text{}$\n",
    "\n",
    "$$\\LARGE\\text{Homework 2: CSPs and Games}$$\n",
    "\n",
    "$$\\large\\text{Qianlang Chen}$$\n",
    "\n",
    "$$\\text{CS 4300 Spring 2021}$$\n",
    "\n",
    "$\\text{}$"
   ],
   "cell_type": "markdown",
   "metadata": {}
  },
  {
   "source": [
    "# Problem 1\n",
    "\n",
    "## Part 1.1\n",
    "\n",
    "We can assign each variable the domain $\\{2, 3, 5, 7\\}$ and let 2 represent the first semester, 3 represent the second semester, and so on.\n",
    "\n",
    "## Part 1.2\n",
    "\n",
    "$$\n",
    "\\begin{aligned}\n",
    "  C &< D\\\\\n",
    "  A &< E\\\\\n",
    "  C &< E\\\\\n",
    "  B &< F\\\\\n",
    "  D &< F\\\\\n",
    "  E &< F\\\\\n",
    "  ABCDEF \\bmod 2^3 &> 0\\\\\n",
    "  ABCDEF \\bmod 3^3 &> 0\\\\\n",
    "  ABCDEF \\bmod 5^3 &> 0\\\\\n",
    "  ABCDEF \\bmod 7^3 &> 0\n",
    "\\end{aligned}\n",
    "$$\n",
    "\n",
    "## Part 1.3\n",
    "\n",
    "Each semester can have more than one classes, meaning it'd be more difficult to design domains and constraints for such variables (at least not as simple as what we could do in *Part 1.2*)."
   ],
   "cell_type": "markdown",
   "metadata": {}
  },
  {
   "source": [
    "$\\pagebreak$\n",
    "\n",
    "# Problem 2\n",
    "\n",
    "## Part 2.1\n",
    "\n",
    "18\n",
    "\n",
    "## Part 2.2\n",
    "\n",
    "$a \\rightarrow e \\rightarrow f$\n",
    "\n",
    "## Part 2.3\n",
    "\n",
    "$i, n, q, r$"
   ],
   "cell_type": "markdown",
   "metadata": {}
  },
  {
   "source": [
    "$\\pagebreak$\n",
    "\n",
    "# Problem 3\n",
    "\n",
    "## Part 3.1\n",
    "\n",
    "Assuming that both players aim to maximize their own rewards (instead of minimize the opponent's reward),\n",
    "\n",
    "* If Bob plays first, he should make the class \"Hard\".\n",
    "\n",
    "* If Alice plays first, she should be \"Hard Working\".\n",
    "\n",
    "## Part 3.2\n",
    "\n",
    "Instead of having only one evaluation for a game state, we must have multiple evaluations from different players' perspectives.\n",
    "\n",
    "## Part 3.3\n",
    "\n",
    "Assuming that tie-breaking is done arbitrarily,\n",
    "\n",
    "![](res/q3-3.png)\n",
    "\n",
    "## Part 3.4\n",
    "\n",
    "![](res/q3-4.png)"
   ],
   "cell_type": "markdown",
   "metadata": {}
  }
 ]
}