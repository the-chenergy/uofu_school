{
 "metadata": {
  "language_info": {
   "codemirror_mode": {
    "name": "ipython",
    "version": 3
   },
   "file_extension": ".py",
   "mimetype": "text/x-python",
   "name": "python",
   "nbconvert_exporter": "python",
   "pygments_lexer": "ipython3",
   "version": "3.7.9-final"
  },
  "orig_nbformat": 2,
  "kernelspec": {
   "name": "python3",
   "display_name": "Python 3",
   "language": "python"
  }
 },
 "nbformat": 4,
 "nbformat_minor": 2,
 "cells": [
  {
   "source": [
    "$\\text{}$\n",
    "\n",
    "$$\\LARGE\\text{Homework 1: Search}$$\n",
    "\n",
    "$$\\large\\text{Qianlang Chen}$$\n",
    "\n",
    "$$\\text{CS 4300 Spring 2021}$$\n",
    "\n",
    "$\\text{}$"
   ],
   "cell_type": "markdown",
   "metadata": {}
  },
  {
   "source": [
    "# Problem 1\n",
    "\n",
    "## Part 1.1\n",
    "\n",
    "States expanded: $S, A, G$\n",
    "\n",
    "Path returned: $S \\rightarrow A \\rightarrow G$\n",
    "\n",
    "## Part 1.2\n",
    "\n",
    "States expanded: $S, A, B, G$\n",
    "\n",
    "Path returned: $S \\rightarrow A \\rightarrow G$\n",
    "\n",
    "## Part 1.3\n",
    "\n",
    "States expanded: $S, B, A, D, C, G$\n",
    "\n",
    "Path returned: $S \\rightarrow B \\rightarrow C \\rightarrow G$\n",
    "\n",
    "## Part 1.4\n",
    "\n",
    "States expanded: $S, B, A, D, G$\n",
    "\n",
    "Path returned: $S \\rightarrow B \\rightarrow D \\rightarrow G$\n",
    "\n",
    "## Part 1.5\n",
    "\n",
    "States expanded: $S, A, B, C, G$\n",
    "\n",
    "Path returned: $S \\rightarrow B \\rightarrow C \\rightarrow G$"
   ],
   "cell_type": "markdown",
   "metadata": {}
  },
  {
   "source": [
    "$\\pagebreak$\n",
    "\n",
    "# Problem 2\n",
    "\n",
    "## Part 2.1\n",
    "\n",
    "A state needs to include two numbers:\n",
    "\n",
    "* The remaining number of squares ($n$), and\n",
    "\n",
    "* The current velocity ($v$).\n",
    "\n",
    "The value of $n$ determines whether Alice has reached the goal, the bottom square, and the value of $v$ determines both the valid actions at a state and Alice's next sqaure.\n",
    "\n",
    "Assuming there are $T$ squares in total, the start state for this problem is $(n = T, v = 0)$, while the goal state is $(n = 0, v = 0)$.\n",
    "\n",
    "## Part 2.2\n",
    "\n",
    "The state $(n = T - 1, v = 2)$ is unreachable because Alice can only accelerate up to one unit in any action, meaning that she can't be one square away from the top and have a velocity of 2.\n",
    "\n",
    "## Part 2.3\n",
    "\n",
    "Yes. Since the goal state has a velocity of zero, the current velocity ($v$) never overestimates the number of remaining actions, that is, Alice always needs to decelerate at least $v$ times to get down to $v = 0$, meeting one of the requirements of the goal state."
   ],
   "cell_type": "markdown",
   "metadata": {}
  },
  {
   "source": [
    "$\\pagebreak$\n",
    "\n",
    "# Problem 3\n",
    "\n",
    "## Part 3.1\n",
    "\n",
    "No because Jessie would prefer to be driving close near a city at all times since it's easier to find treatment when he's closer to a city in an emergency. In other words, driving 1 hour without passing any city is no better for Jessie than driving 2 hours and passing a city every 10 minutes.\n",
    "\n",
    "## Part 3.2\n",
    "\n",
    "We can define that entering a city is worth traveling 50 miles. The new cost function would be the distance travelled so far minus 50 times the number of cities entered. It gives more weight to shorter edges (closer cities) since it's nicer for Jessie to pass through many short edges than one very long edge.\n",
    "\n",
    "## Part 3.3\n",
    "\n",
    "The optimal path under this cost function is $A \\rightarrow C \\rightarrow D \\rightarrow E \\rightarrow B$.\n",
    "\n",
    "## Part 3.4\n",
    "\n",
    "None of these algorithms would work optimally under this cost function. A Uniform-Cost Search works for this particular graph, but it would fail to execute when there exists a cycle of cities all less than 50 miles apart (negative cycles). Same goes for a Greedy Search. Finally, it's hard to find a good heuristic for an A* Algorithm in this case--Manhattan and Euclidian distances are the opposite of what Jessie needs.\n",
    "\n",
    "## Part 3.5\n",
    "\n",
    "Finding the optimal path in city-drives, especially during busy hours. It's far more complicated than simply finding the shortest path (traffic, speed limits, difficult turns, etc.)."
   ],
   "cell_type": "markdown",
   "metadata": {}
  }
 ]
}