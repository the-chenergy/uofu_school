{
 "cells": [
  {
   "cell_type": "markdown",
   "metadata": {},
   "source": [
    "$$\\LARGE\\text{Homework 2}$$\n",
    "$$\\\\[-1.5em]$$\n",
    "$$\\large\\text{Qianlang Chen}$$\n",
    "$$\\\\[-1.5em]$$\n",
    "$$\\text{CS 5530 Spring 2022}$$\n"
   ]
  },
  {
   "cell_type": "markdown",
   "metadata": {},
   "source": [
    "# Part 1\n",
    "\n",
    "## Diagram 1\n",
    "\n",
    "<!--\n",
    "\n",
    "  * Run 'jntl g'\n",
    "  * Open the .tex file\n",
    "  * Paste below code under '\\subsection{Diagram 1}\\label{diagram-1}}'\n",
    "\n",
    "\\begin{center}\n",
    "  \\includegraphics[width=0.417\\textwidth]{diagrams/1_1.png}\n",
    "\\end{center}\n",
    "\n",
    "\\hypertarget{diagram-2}{%\n",
    "\\subsection{Diagram 2}\\label{diagram-2}}\n",
    "\n",
    "\\begin{center}\n",
    "  \\includegraphics[width=0.667\\textwidth]{diagrams/1_2.png}\n",
    "\\end{center}\n",
    "\n",
    "\\hypertarget{diagram-3}{%\n",
    "\\subsection{Diagram 3}\\label{diagram-3}}\n",
    "\n",
    "\\begin{center}\n",
    "  \\includegraphics[width=0.667\\textwidth]{diagrams/1_3.png}\n",
    "\\end{center}\n",
    "\n",
    "-->\n"
   ]
  },
  {
   "cell_type": "markdown",
   "metadata": {},
   "source": [
    "$\\pagebreak$\n",
    "\n",
    "# Part 2\n",
    "\n",
    "## Diagram 2"
   ]
  },
  {
   "cell_type": "code",
   "execution_count": null,
   "metadata": {},
   "outputs": [],
   "source": [
    "CREATE TABLE Persons(\n",
    "  ssn INT,\n",
    "  name VARCHAR(255),\n",
    "  PRIMARY KEY (ssn)\n",
    ");\n",
    "\n",
    "CREATE TABLE Attends(\n",
    "  ssn INT,\n",
    "  roomNum INT,\n",
    "  startTime INT,\n",
    "  PRIMARY KEY (ssn, roomNum, startTime),\n",
    "  FOREIGN KEY (ssn) REFERENCES Persons(ssn),\n",
    "  FOREIGN KEY (roomNum, startTime)\n",
    "    REFERENCES Meetings(roomNum, startTime)\n",
    ");\n",
    "\n",
    "CREATE TABLE Meetings(\n",
    "  roomNum INT,\n",
    "  startTime INT,\n",
    "  agenda INT,\n",
    "  PRIMARY KEY (roomNum, startTime),\n",
    "  FOREIGN KEY (roomNum) REFERENCES Rooms(roomNum)\n",
    ");\n",
    "\n",
    "CREATE TABLE Rooms(\n",
    "  roomNum INT,\n",
    "  capacity INT,\n",
    "  dID INT NOT NULL,\n",
    "  PRIMARY KEY (roomNum)\n",
    ");\n",
    "\n",
    "CREATE TABLE Departments(\n",
    "  dID INT,\n",
    "  name INT,\n",
    "  PRIMARY KEY (dID)\n",
    ");"
   ]
  },
  {
   "cell_type": "markdown",
   "metadata": {},
   "source": [
    "$\\pagebreak$\n",
    "\n",
    "# Diagram 3"
   ]
  },
  {
   "cell_type": "code",
   "execution_count": null,
   "metadata": {},
   "outputs": [],
   "source": [
    "CREATE TABLE Players(\n",
    "  name VARCHAR(255),\n",
    "  rating FLOAT,\n",
    "  PRIMARY KEY (name)\n",
    ");\n",
    "\n",
    "CREATE TABLE Events(\n",
    "  name VARCHAR(255),\n",
    "  site VARCHAR(255),\n",
    "  date DATE,\n",
    "  PRIMARY KEY (name, site, date)\n",
    ");\n",
    "\n",
    "CREATE TABLE Games(\n",
    "  eventName VARCHAR(255),\n",
    "  site VARCHAR(255),\n",
    "  date DATE,\n",
    "  round INT,\n",
    "  whiteName VARCHAR(255),\n",
    "  blackName VARCHAR(255),\n",
    "  PRIMARY KEY (eventName, site, date, round, whiteName, blackName),\n",
    "  FOREIGN KEY (eventName, site, date)\n",
    "    REFERENCES Events(name, site, date),\n",
    "  FOREIGN KEY (whiteName) REFERENCES Players(name),\n",
    "  FOREIGN KEY (blackName) REFERENCES Players(name)\n",
    ");"
   ]
  }
 ],
 "metadata": {
  "interpreter": {
   "hash": "b3ba2566441a7c06988d0923437866b63cedc61552a5af99d1f4fb67d367b25f"
  },
  "kernelspec": {
   "display_name": "Python 3.7.4 64-bit ('base': conda)",
   "language": "python",
   "name": "python3"
  },
  "language_info": {
   "name": "python",
   "version": "3.7.4"
  },
  "orig_nbformat": 4
 },
 "nbformat": 4,
 "nbformat_minor": 2
}
