{
 "metadata": {
  "language_info": {
   "codemirror_mode": {
    "name": "ipython",
    "version": 3
   },
   "file_extension": ".py",
   "mimetype": "text/x-python",
   "name": "python",
   "nbconvert_exporter": "python",
   "pygments_lexer": "ipython3",
   "version": 3
  },
  "orig_nbformat": 2
 },
 "nbformat": 4,
 "nbformat_minor": 2,
 "cells": [
  {
   "source": [
    "$\\text{}$\n",
    "\n",
    "$$\\LARGE\\text{Homework: Deriving Rotational Inertias}$$\n",
    "\n",
    "$$\\large\\text{Qianlang Chen (u1172983)}$$\n",
    "\n",
    "$$\\text{Physics 2210 Spring 2021}$$\n",
    "\n",
    "$\\text{}$"
   ],
   "cell_type": "markdown",
   "metadata": {}
  },
  {
   "source": [
    "# Problem 2\n",
    "\n",
    "Divide up the rod so that each segment is a single point on the rod (with negligible thickness). Each segment has mass $(\\frac{M}{L}dx)$ and rotational inertia $(x^2\\frac{M}{L}dx)$. The total rotational inertia of the rod is\n",
    "\n",
    "$$\n",
    "\\begin{aligned}\n",
    "  I &= \\int_0^L x^2 \\left(\\frac{M}{L}\\ dx\\right)\\\\\n",
    "    &= \\frac{M}{L} \\left[\\frac{x^3}{3}\\right]_0^L\\\\\n",
    "    &= \\frac{M}{L} \\left(\\frac{L^3}{3}\\right)\\\\\n",
    "    &= \\boxed{\\frac{ML^2}{3}}\n",
    "\\end{aligned}\n",
    "$$"
   ],
   "cell_type": "markdown",
   "metadata": {}
  },
  {
   "source": [
    "$\\pagebreak$\n",
    "\n",
    "# Problem 4\n",
    "\n",
    "Divide up the hoop so that each segment is a single point on the hoop (with negligible thickness). Each segment has mass $(\\frac{M}{2\\pi}d\\theta)$ and therefore has rotational inertia $((R\\sin\\theta)^2\\frac{M}{2\\pi}d\\theta)$. The total rotational inertia of the hoop is\n",
    "\n",
    "$$\n",
    "\\begin{aligned}\n",
    "  I &= \\int_0^{2\\pi}(R\\sin\\theta)^2 \\left(\\frac{M}{2\\pi}\\ d\\theta\\right)\\\\\n",
    "    &= \\frac{MR^2}{2\\pi}\\int_0^{2\\pi}\\sin^2\\theta\\ d\\theta\\\\\n",
    "    &= \\frac{MR^2}{2\\pi}\\int_0^{2\\pi}\\frac{1 - \\cos(2\\theta)}{2}\\ d\\theta\\\\\n",
    "    &= \\frac{MR^2}{2\\pi}\\left[\\frac{\\theta}{2} + \\sin(2\\theta)\\right]_0^{2\\pi}\\\\\n",
    "    &= \\frac{MR^2}{2\\pi}(\\pi)\\\\\n",
    "    &= \\boxed{\\frac{MR^2}{2}}\n",
    "\\end{aligned}\n",
    "$$"
   ],
   "cell_type": "markdown",
   "metadata": {}
  },
  {
   "source": [
    "$\\pagebreak$\n",
    "\n",
    "# Problem 6\n",
    "\n",
    "Divide up the disk so that each segment is a thin hoop with some radius $r$ from the center of the disk. Each segment has mass\n",
    "\n",
    "$$dm = \\frac{M}{A}dA = \\frac{M}{\\pi R^2}2\\pi r\\ dr = \\frac{2M}{R^2}r\\ dr$$\n",
    "\n",
    "According to the results from *Problem 4*, each segment has rotational inertia\n",
    "\n",
    "$$dI = \\frac{1}{2}r^2dm = \\frac{1}{2}r^2\\left(\\frac{2M}{R^2}r\\ dr\\right) = \\frac{M}{R^2}r^3dr$$\n",
    "\n",
    "Therefore, the total rotational inertia of the disk is\n",
    "\n",
    "$$\n",
    "\\begin{aligned}\n",
    "  I &= \\int_0^R \\frac{M}{R}r^3dr\\\\\n",
    "    &= \\frac{M}{R^2}\\left[\\frac{r^4}{4}\\right]_0^R\\\\\n",
    "    &= \\frac{M}{R^2}\\left(\\frac{R^4}{4}\\right)\\\\\n",
    "    &= \\boxed{\\frac{MR^2}{4}}\n",
    "\\end{aligned}\n",
    "$$"
   ],
   "cell_type": "markdown",
   "metadata": {}
  },
  {
   "source": [
    "$\\pagebreak$\n",
    "\n",
    "# Problem 10\n",
    "\n",
    "Divide up the slab so that each segment is a thin rod with length $L$ some distance $x$ to the right of the center. Each segment has mass\n",
    "\n",
    "$$dm = \\frac{M}{A}dA = \\frac{M}{WL}L\\ dx = \\frac{M}{W}dx$$\n",
    "\n",
    "By the Parallel Axis Theorem and according to the results from *Problem 2*, each segment has rotational inertia\n",
    "\n",
    "$$dI = \\frac{1}{12}L^2dm + x^2dm = \\left(x^2 + \\frac{L^2}{12}\\right)dm = \\left(x^2 + \\frac{L^2}{12}\\right)\\left(\\frac{M}{W}dx\\right)$$\n",
    "\n",
    "Therefore, the total rotational inertia of the slab is\n",
    "\n",
    "$$\n",
    "\\begin{aligned}\n",
    "  I &= \\int_{-\\frac{W}{2}}^{\\frac{W}{2}}\\left(x^2 + \\frac{L^2}{12}\\right)\\left(\\frac{M}{W}dx\\right)\\\\\n",
    "    &= \\frac{M}{W}\\left[\\frac{x^3}{3} + \\frac{L^2x}{12}\\right]_{-\\frac{W}{2}}^{\\frac{W}{2}}\\\\\n",
    "    &= \\frac{M}{W}\\left(\\frac{W^3}{12} + \\frac{WL^2}{12}\\right)\\\\\n",
    "    &= \\boxed{\\frac{M\\ (W^2 + L^2)}{12}}\n",
    "\\end{aligned}\n",
    "$$"
   ],
   "cell_type": "markdown",
   "metadata": {}
  }
 ]
}