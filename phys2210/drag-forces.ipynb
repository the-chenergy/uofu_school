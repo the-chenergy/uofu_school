{
 "metadata": {
  "language_info": {
   "codemirror_mode": {
    "name": "ipython",
    "version": 3
   },
   "file_extension": ".py",
   "mimetype": "text/x-python",
   "name": "python",
   "nbconvert_exporter": "python",
   "pygments_lexer": "ipython3",
   "version": 3
  },
  "orig_nbformat": 2
 },
 "nbformat": 4,
 "nbformat_minor": 2,
 "cells": [
  {
   "source": [
    "$\\text{}$\n",
    "\n",
    "$$\\LARGE\\text{Homework: Drag Forces}$$\n",
    "\n",
    "$$\\large\\text{Qianlang Chen (u1172983)}$$\n",
    "\n",
    "$$\\text{Physics 2210 Spring 2021}$$\n",
    "\n",
    "$\\text{}$"
   ],
   "cell_type": "markdown",
   "metadata": {}
  },
  {
   "source": [
    "# Problem 2\n",
    "\n",
    "Assuming the mass of the ball is $m$.\n",
    "\n",
    "## Part (a)\n",
    "\n",
    "$$\n",
    "\\begin{aligned}\n",
    "  F_{\\text{net}x} &= -F_{\\text{drag}x}\\\\\n",
    "  m\\left(\\frac{\\text{d}v_x}{\\text{d}t}\\right) &= -kv_x\\\\\n",
    "  \\frac{1}{v_x}\\ \\text{d}v_x &= -\\frac{k}{m}\\ \\text{d}t\\\\\n",
    "  \\int\\frac{1}{v_x}\\ \\text{d}v_x &= \\int-\\frac{k}{m}\\ \\text{d}t\\\\\n",
    "  \\ln v_x - \\ln v_{0x} &= -\\frac{kt}{m}\\\\\n",
    "  \\frac{v_x}{v_{0x}} &= \\exp\\left(\\frac{kt}{m}\\right)\\\\\n",
    "  v_x &= \\boxed{v_{0x}\\exp\\left(\\frac{kt}{m}\\right)}\n",
    "\\end{aligned}\n",
    "$$\n",
    "\n",
    "## Part (b)\n",
    "\n",
    "$$\n",
    "\\begin{aligned}\n",
    "  F_{\\text{net}y} &= F_g - F_{\\text{drag}y}\\\\\n",
    "  m\\left(\\frac{\\text{d}v_y}{\\text{d}t}\\right) &= mg - kv_y\\\\\n",
    "  \\frac{\\text{d}v_y}{\\text{d}t} &= g - \\frac{kv_y}{m}\\\\\n",
    "  \\text{d}v_y &= -\\frac{k}{m}\\left(-\\frac{mg}{k} + v_y\\right)\\ \\text{d}t\\\\\n",
    "  \\frac{1}{v_y - mg/k}\\ \\text{d}v_y &= -\\frac{k}{m}\\ \\text{d}t\\\\\n",
    "  \\int\\frac{1}{v_y - mg/k}\\ \\text{d}v_y &= \\int-\\frac{k}{m}\\ \\text{d}t\\\\\n",
    "  \\ln\\left(v_y - \\frac{mg}{k}\\right) - \\ln\\left(v_{0y} - \\frac{mg}{k}\\right) &= -\\frac{kt}{m}\\\\\n",
    "  \\left(v_y - \\frac{mg}{k}\\right) / \\left(v_{0y} - \\frac{mg}{k}\\right) &= \\exp\\left(-\\frac{kt}{m}\\right)\\\\\n",
    "  v_y &= \\boxed{\\frac{mg}{k} + \\left(v_{0y} - \\frac{mg}{k}\\right)\\exp\\left(-\\frac{kt}{m}\\right)}\n",
    "\\end{aligned}\n",
    "$$"
   ],
   "cell_type": "markdown",
   "metadata": {}
  },
  {
   "source": [
    "$\\pagebreak$\n",
    "\n",
    "# Problem 4\n",
    "\n",
    "## Part (b)\n",
    "\n",
    "$$\n",
    "\\begin{aligned}\n",
    "  F_\\text{net} &= -F_\\text{drag}\\\\\n",
    "  m\\left(\\frac{\\text{d}v}{\\text{d}t}\\right) &= -\\frac{k}{m}\\ \\text{d}t\\\\\n",
    "  \\frac{1}{\\sqrt{v}}\\ \\text{d}v &= -\\frac{k}{m}\\ \\text{d}t\\\\\n",
    "  \\int\\frac{1}{\\sqrt{v}}\\ \\text{d}v &= \\int-\\frac{k}{m}\\ \\text{d}t\\\\\n",
    "  2\\sqrt{v} - 2\\sqrt{v_0} &= -\\frac{kt}{m}\\\\\n",
    "  v &= \\boxed{\\left(\\sqrt{v_0} - \\frac{kt}{2m}\\right)^2}\n",
    "\\end{aligned}\n",
    "$$"
   ],
   "cell_type": "markdown",
   "metadata": {}
  }
 ]
}