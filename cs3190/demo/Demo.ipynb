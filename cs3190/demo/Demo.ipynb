{
 "cells": [
  {
   "cell_type": "code",
   "execution_count": null,
   "metadata": {},
   "outputs": [],
   "source": [
    "# HW 3"
   ]
  },
  {
   "cell_type": "code",
   "execution_count": 1,
   "metadata": {},
   "outputs": [],
   "source": [
    "import numpy\n",
    "import matplotlib\n",
    "from matplotlib import pyplot"
   ]
  },
  {
   "cell_type": "code",
   "execution_count": 2,
   "metadata": {},
   "outputs": [],
   "source": [
    "def f2(alpha):\n",
    "    x, y = alpha[0], alpha[1]\n",
    "    return (1 - (y - 4))**2 + 35 * ((x + 6) - (y - 4)**2)**2\n",
    "\n",
    "\n",
    "def grad_f2(alpha):\n",
    "    x, y = alpha[0], alpha[1]\n",
    "    return numpy.array([\n",
    "        70*x - 70*(y - 4)**2 + 420,\n",
    "        2*y - 140*(y - 4)*(x - (y - 4)**2 + 6) - 10,\n",
    "    ])\n",
    "\n",
    "\n",
    "# define a helper function that creates the contour lines\n",
    "def create_contour_lines(values, f, offset_x, offset_y):\n",
    "    min_x = min(values[:,0]) - offset_x\n",
    "    max_x = max(values[:,0]) + offset_x\n",
    "    min_y = min(values[:,1]) - offset_y\n",
    "    max_y = max(values[:,1]) + offset_y\n",
    "    x, y = numpy.meshgrid(numpy.linspace(min_x, max_x, 1729),\n",
    "                          numpy.linspace(min_y, max_y, 1729))\n",
    "    z = f(numpy.array([x, y]))\n",
    "    pyplot.contour(x, y, z)"
   ]
  },
  {
   "cell_type": "code",
   "execution_count": null,
   "metadata": {},
   "outputs": [],
   "source": [
    "wa_min = numpy.array([-5, 5])\n",
    "print(f2(wa_min))\n",
    "print(grad_f2(wa_min))\n",
    "\n",
    "alpha = numpy.array([0, 2])\n",
    "print(f2(alpha))\n",
    "print(grad_f2(alpha))"
   ]
  },
  {
   "cell_type": "code",
   "execution_count": 4,
   "metadata": {},
   "outputs": [],
   "source": [
    "# define the gradient descent algorithm\n",
    "def grad_descent(num_iter, alpha, gamma, grad):\n",
    "    values = numpy.zeros([num_iter, len(alpha)])\n",
    "    values[0,:] = alpha\n",
    "    for i in range(1, num_iter):\n",
    "        alpha = alpha - gamma * grad(alpha)\n",
    "        values[i,:] = alpha\n",
    "    \n",
    "    return values\n",
    "\n",
    "\n",
    "# define a variant of the gradient descent algorithm which uses the\n",
    "#   backtracking line search technique, with shrinking rate \"beta\" and\n",
    "#   initial learning rate \"gamma\"\n",
    "def grad_descent_w_bt_line_search(num_iter, alpha, beta, gamma, f,\n",
    "                                  grad_f):\n",
    "    values = numpy.zeros([num_iter, len(alpha)])\n",
    "    values[0,:] = alpha\n",
    "    gamma_0 = gamma\n",
    "    for i in range(1, num_iter):\n",
    "        gamma = gamma_0\n",
    "        next_alpha = alpha - gamma * grad_f(alpha)\n",
    "        # backtracking: shrink learning rate (gamma) if our next step\n",
    "        #   is going to be too big\n",
    "        while (f(next_alpha) > f(alpha) - gamma / 2\n",
    "               * numpy.linalg.norm(grad_f(alpha))**2):\n",
    "            gamma *= beta\n",
    "            next_alpha = alpha - gamma * grad_f(alpha)\n",
    "        \n",
    "        alpha = next_alpha\n",
    "        values[i,:] = alpha\n",
    "    \n",
    "    return values"
   ]
  },
  {
   "cell_type": "code",
   "execution_count": null,
   "metadata": {},
   "outputs": [],
   "source": [
    "alpha = numpy.array([0, 2])\n",
    "print(grad_f2(alpha))\n",
    "values = grad_descent(1, alpha, .002202364, grad_f2)\n",
    "print(values[-1,:], f2(values[-1,:]))\n",
    "values = grad_descent_w_bt_line_search(1, alpha, .999, .002202364, f2, grad_f2)\n",
    "print(values[-1,:], f2(values[-1,:]))\n",
    "values = grad_descent_w_bt_line_search(100, alpha, .916, 1, f2, grad_f2)\n",
    "print(values[-1,:], f2(values[-1,:]))\n",
    "\n",
    "create_contour_lines(values, f2, .005, .04)\n",
    "pyplot.plot(values[:,0], values[:,1], \"r-\")\n",
    "pyplot.plot(values[:,0], values[:,1], \"bo\")"
   ]
  },
  {
   "cell_type": "code",
   "execution_count": 9,
   "metadata": {},
   "outputs": [
    {
     "name": "stderr",
     "output_type": "stream",
     "text": [
      "<ipython-input-2-dd3f0141724a>:3: RuntimeWarning: overflow encountered in long_scalars\n",
      "  return (1 - (y - 4))**2 + 35 * ((x + 6) - (y - 4)**2)**2\n"
     ]
    },
    {
     "ename": "KeyboardInterrupt",
     "evalue": "",
     "output_type": "error",
     "traceback": [
      "\u001b[1;31m---------------------------------------------------------------------------\u001b[0m",
      "\u001b[1;31mKeyboardInterrupt\u001b[0m                         Traceback (most recent call last)",
      "\u001b[1;32m<ipython-input-9-032d7264196d>\u001b[0m in \u001b[0;36m<module>\u001b[1;34m\u001b[0m\n\u001b[0;32m      5\u001b[0m \u001b[1;33m\u001b[0m\u001b[0m\n\u001b[0;32m      6\u001b[0m \u001b[1;32mfor\u001b[0m \u001b[0mbeta\u001b[0m \u001b[1;32min\u001b[0m \u001b[0mnumpy\u001b[0m\u001b[1;33m.\u001b[0m\u001b[0mlinspace\u001b[0m\u001b[1;33m(\u001b[0m\u001b[1;36m.9\u001b[0m\u001b[1;33m,\u001b[0m \u001b[1;36m.92\u001b[0m\u001b[1;33m,\u001b[0m \u001b[1;36m10\u001b[0m\u001b[1;33m)\u001b[0m\u001b[1;33m:\u001b[0m\u001b[1;33m\u001b[0m\u001b[1;33m\u001b[0m\u001b[0m\n\u001b[1;32m----> 7\u001b[1;33m     values = grad_descent_w_bt_line_search(100, alpha, beta, 1, f2,\n\u001b[0m\u001b[0;32m      8\u001b[0m                                            grad_f2)\n\u001b[0;32m      9\u001b[0m     \u001b[0mcost\u001b[0m \u001b[1;33m=\u001b[0m \u001b[0mf2\u001b[0m\u001b[1;33m(\u001b[0m\u001b[0mvalues\u001b[0m\u001b[1;33m[\u001b[0m\u001b[1;33m-\u001b[0m\u001b[1;36m1\u001b[0m\u001b[1;33m,\u001b[0m\u001b[1;33m:\u001b[0m\u001b[1;33m]\u001b[0m\u001b[1;33m)\u001b[0m\u001b[1;33m\u001b[0m\u001b[1;33m\u001b[0m\u001b[0m\n",
      "\u001b[1;32m<ipython-input-4-757469bc87aa>\u001b[0m in \u001b[0;36mgrad_descent_w_bt_line_search\u001b[1;34m(num_iter, alpha, beta, gamma, f, grad_f)\u001b[0m\n\u001b[0;32m     24\u001b[0m         \u001b[1;31m#   is going to be too big\u001b[0m\u001b[1;33m\u001b[0m\u001b[1;33m\u001b[0m\u001b[1;33m\u001b[0m\u001b[0m\n\u001b[0;32m     25\u001b[0m         while (f(next_alpha) > f(alpha) - gamma / 2\n\u001b[1;32m---> 26\u001b[1;33m                * numpy.linalg.norm(grad_f(alpha))**2):\n\u001b[0m\u001b[0;32m     27\u001b[0m             \u001b[0mgamma\u001b[0m \u001b[1;33m*=\u001b[0m \u001b[0mbeta\u001b[0m\u001b[1;33m\u001b[0m\u001b[1;33m\u001b[0m\u001b[0m\n\u001b[0;32m     28\u001b[0m             \u001b[0mnext_alpha\u001b[0m \u001b[1;33m=\u001b[0m \u001b[0malpha\u001b[0m \u001b[1;33m-\u001b[0m \u001b[0mgamma\u001b[0m \u001b[1;33m*\u001b[0m \u001b[0mgrad_f\u001b[0m\u001b[1;33m(\u001b[0m\u001b[0malpha\u001b[0m\u001b[1;33m)\u001b[0m\u001b[1;33m\u001b[0m\u001b[1;33m\u001b[0m\u001b[0m\n",
      "\u001b[1;32m<__array_function__ internals>\u001b[0m in \u001b[0;36mnorm\u001b[1;34m(*args, **kwargs)\u001b[0m\n",
      "\u001b[1;32mc:\\users\\null\\appdata\\local\\programs\\python\\python38-32\\lib\\site-packages\\numpy\\linalg\\linalg.py\u001b[0m in \u001b[0;36mnorm\u001b[1;34m(x, ord, axis, keepdims)\u001b[0m\n\u001b[0;32m   2528\u001b[0m                 \u001b[0msqnorm\u001b[0m \u001b[1;33m=\u001b[0m \u001b[0mdot\u001b[0m\u001b[1;33m(\u001b[0m\u001b[0mx\u001b[0m\u001b[1;33m.\u001b[0m\u001b[0mreal\u001b[0m\u001b[1;33m,\u001b[0m \u001b[0mx\u001b[0m\u001b[1;33m.\u001b[0m\u001b[0mreal\u001b[0m\u001b[1;33m)\u001b[0m \u001b[1;33m+\u001b[0m \u001b[0mdot\u001b[0m\u001b[1;33m(\u001b[0m\u001b[0mx\u001b[0m\u001b[1;33m.\u001b[0m\u001b[0mimag\u001b[0m\u001b[1;33m,\u001b[0m \u001b[0mx\u001b[0m\u001b[1;33m.\u001b[0m\u001b[0mimag\u001b[0m\u001b[1;33m)\u001b[0m\u001b[1;33m\u001b[0m\u001b[1;33m\u001b[0m\u001b[0m\n\u001b[0;32m   2529\u001b[0m             \u001b[1;32melse\u001b[0m\u001b[1;33m:\u001b[0m\u001b[1;33m\u001b[0m\u001b[1;33m\u001b[0m\u001b[0m\n\u001b[1;32m-> 2530\u001b[1;33m                 \u001b[0msqnorm\u001b[0m \u001b[1;33m=\u001b[0m \u001b[0mdot\u001b[0m\u001b[1;33m(\u001b[0m\u001b[0mx\u001b[0m\u001b[1;33m,\u001b[0m \u001b[0mx\u001b[0m\u001b[1;33m)\u001b[0m\u001b[1;33m\u001b[0m\u001b[1;33m\u001b[0m\u001b[0m\n\u001b[0m\u001b[0;32m   2531\u001b[0m             \u001b[0mret\u001b[0m \u001b[1;33m=\u001b[0m \u001b[0msqrt\u001b[0m\u001b[1;33m(\u001b[0m\u001b[0msqnorm\u001b[0m\u001b[1;33m)\u001b[0m\u001b[1;33m\u001b[0m\u001b[1;33m\u001b[0m\u001b[0m\n\u001b[0;32m   2532\u001b[0m             \u001b[1;32mif\u001b[0m \u001b[0mkeepdims\u001b[0m\u001b[1;33m:\u001b[0m\u001b[1;33m\u001b[0m\u001b[1;33m\u001b[0m\u001b[0m\n",
      "\u001b[1;32m<__array_function__ internals>\u001b[0m in \u001b[0;36mdot\u001b[1;34m(*args, **kwargs)\u001b[0m\n",
      "\u001b[1;31mKeyboardInterrupt\u001b[0m: "
     ]
    }
   ],
   "source": [
    "# find the best value to use for beta (the shrinking factor) by finding\n",
    "#   the beta that gives the lowest function value after 100 iterations\n",
    "alpha = numpy.array([0, 2])\n",
    "lowest_cost = numpy.infty\n",
    "\n",
    "for beta in numpy.linspace(.9, .92, 10):\n",
    "    values = grad_descent_w_bt_line_search(100, alpha, beta, 1, f2,\n",
    "                                           grad_f2)\n",
    "    cost = f2(values[-1,:])\n",
    "    if cost < lowest_cost:\n",
    "        lowest_cost = cost\n",
    "        best_beta = beta\n",
    "\n",
    "# best_beta and best_gamma now contains the best values to use\n",
    "print(best_beta, lowest_cost)"
   ]
  },
  {
   "cell_type": "code",
   "execution_count": 14,
   "metadata": {},
   "outputs": [
    {
     "name": "stderr",
     "output_type": "stream",
     "text": [
      "<ipython-input-2-dd3f0141724a>:3: RuntimeWarning: overflow encountered in long_scalars\n",
      "  return (1 - (y - 4))**2 + 35 * ((x + 6) - (y - 4)**2)**2\n"
     ]
    },
    {
     "name": "stdout",
     "output_type": "stream",
     "text": [
      "Alpha value after 100 iterations: [-5.11295825  4.94229777]\n",
      "\"Cost\" of the above alpha value: 0.003356857287640444\n"
     ]
    },
    {
     "data": {
      "text/plain": [
       "[<matplotlib.lines.Line2D at 0x12203e8>]"
      ]
     },
     "execution_count": 14,
     "metadata": {},
     "output_type": "execute_result"
    },
    {
     "data": {
      "image/png": "[encoded data removed]",
      "text/plain": [
       "<Figure size 432x288 with 1 Axes>"
      ]
     },
     "metadata": {
      "needs_background": "light"
     },
     "output_type": "display_data"
    }
   ],
   "source": [
    "# display and plot the results\n",
    "values = grad_descent_w_bt_line_search(100, alpha, 0.92,\n",
    "                                       1, f2, grad_f2)\n",
    "final_value = values[-1,:]\n",
    "print(f\"Alpha value after 100 iterations: {final_value}\\n\"\n",
    "      f\"\\\"Cost\\\" of the above alpha value: {f2(final_value)}\")\n",
    "\n",
    "create_contour_lines(values, f2, .005, .04)\n",
    "pyplot.plot(values[:,0], values[:,1], \"r-\")\n",
    "pyplot.plot(values[:,0], values[:,1], \"bo\")"
   ]
  },
  {
   "cell_type": "code",
   "execution_count": null,
   "metadata": {},
   "outputs": [],
   "source": []
  },
  {
   "cell_type": "code",
   "execution_count": null,
   "metadata": {},
   "outputs": [],
   "source": []
  },
  {
   "cell_type": "code",
   "execution_count": null,
   "metadata": {},
   "outputs": [],
   "source": []
  },
  {
   "cell_type": "code",
   "execution_count": null,
   "metadata": {},
   "outputs": [],
   "source": [
    "# HW 1"
   ]
  },
  {
   "cell_type": "code",
   "execution_count": null,
   "metadata": {},
   "outputs": [],
   "source": [
    "import numpy as np\n",
    "from scipy.stats import rayleigh\n",
    "import matplotlib.pyplot as plt"
   ]
  },
  {
   "cell_type": "code",
   "execution_count": null,
   "metadata": {
    "scrolled": true
   },
   "outputs": [],
   "source": [
    "help(np.linspace)"
   ]
  },
  {
   "cell_type": "code",
   "execution_count": null,
   "metadata": {},
   "outputs": [],
   "source": [
    "x = np.linspace(-2, 4, 1729) # create 1729 data points evenly distr within [-2, 4]\n",
    "print(len(x))\n",
    "print(x)"
   ]
  },
  {
   "cell_type": "code",
   "execution_count": null,
   "metadata": {
    "scrolled": true
   },
   "outputs": [],
   "source": [
    "help(rayleigh.pdf)\n",
    "help(rayleigh.cdf)"
   ]
  },
  {
   "cell_type": "code",
   "execution_count": null,
   "metadata": {},
   "outputs": [],
   "source": [
    "pdf_x = rayleigh.pdf(x)\n",
    "cdf_x = rayleigh.cdf(x)"
   ]
  },
  {
   "cell_type": "code",
   "execution_count": null,
   "metadata": {
    "scrolled": true
   },
   "outputs": [],
   "source": [
    "help(plt.plot)\n",
    "help(plt.figure)"
   ]
  },
  {
   "cell_type": "code",
   "execution_count": null,
   "metadata": {},
   "outputs": [],
   "source": [
    "plt.figure()\n",
    "plt.title(\"Rayleigh PDF of [-2, 4]\")\n",
    "plt.plot(pdf_x)\n",
    "plt.figure()\n",
    "plt.title(\"Rayleigh CDF of [-2, 4]\")\n",
    "plt.plot(cdf_x)"
   ]
  },
  {
   "cell_type": "code",
   "execution_count": null,
   "metadata": {},
   "outputs": [],
   "source": []
  }
 ],
 "metadata": {
  "kernelspec": {
   "display_name": "Python 3",
   "language": "python",
   "name": "python3"
  },
  "language_info": {
   "codemirror_mode": {
    "name": "ipython",
    "version": 3
   },
   "file_extension": ".py",
   "mimetype": "text/x-python",
   "name": "python",
   "nbconvert_exporter": "python",
   "pygments_lexer": "ipython3",
   "version": "3.8.5"
  }
 },
 "nbformat": 4,
 "nbformat_minor": 4
}
