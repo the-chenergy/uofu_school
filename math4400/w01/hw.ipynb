{
 "cells": [
  {
   "cell_type": "markdown",
   "metadata": {},
   "source": [
    "$$\\LARGE\\text{Week 1 Homework}$$\n",
    "$$\\\\[-1.5em]$$\n",
    "$$\\large\\text{Qianlang Chen}$$\n",
    "$$\\\\[-1.5em]$$\n",
    "$$\\text{Math 4400 Spring 2022}$$\n",
    "$\\text{}$"
   ]
  },
  {
   "cell_type": "markdown",
   "metadata": {},
   "source": [
    "# Exercise 1\n",
    "\n",
    "First, create a list of integers from 2 to 100 (as we know 1 is not prime):\n",
    "$$2, 3, 4, 5, 6, 7, 8, 9, 10, 11, 12, 13, 14, 15, 16, 17, 18, 19, 20,\\\\[-1.25em]$$\n",
    "$$21, 22, 23, 24, 25, 26, 27, 28, 29, 30, 31, 32, 33, 34, 35, 36, 37, 38, 39, 40,\\\\[-.75em]$$\n",
    "$$41, 42, 43, 44, 45, 46, 47, 48, 49, 50, 51, 52, 53, 54, 55, 56, 57, 58, 59, 60,\\\\[-.75em]$$\n",
    "$$61, 62, 63, 64, 65, 66, 67, 68, 69, 70, 71, 72, 73, 74, 75, 76, 77, 78, 79, 80,\\\\[-.75em]$$\n",
    "$$81, 82, 83, 84, 85, 86, 87, 88, 89, 90, 91, 92, 93, 94, 95, 96, 97, 98, 99, 100$$\n",
    "\n",
    "Circle the first non-circled number from the list as our next prime, then cross out all multiples of that number:\n",
    "$$\n",
    "\\boxed{2}, 3, {\\color{lightgray}\\cancel{4},}\\ 5, {\\color{lightgray}\\cancel{6},}\\ 7, {\\color{lightgray}\\cancel{8},}\\ 9, {\\color{lightgray}\\cancel{10},}\\ 11, {\\color{lightgray}\\cancel{12},}\\ 13, {\\color{lightgray}\\cancel{14},}\\ 15, {\\color{lightgray}\\cancel{16},}\\ 17, {\\color{lightgray}\\cancel{18},}\\ 19, {\\color{lightgray}\\cancel{20},}\\\\[-.75em]\n",
    "$$\n",
    "$$\n",
    "21, {\\color{lightgray}\\cancel{22},}\\ 23, {\\color{lightgray}\\cancel{24},}\\ 25, {\\color{lightgray}\\cancel{26},}\\ 27, {\\color{lightgray}\\cancel{28},}\\ 29, {\\color{lightgray}\\cancel{30},}\\ 31, {\\color{lightgray}\\cancel{32},}\\ 33, {\\color{lightgray}\\cancel{34},}\\ 35, {\\color{lightgray}\\cancel{36},}\\ 37, {\\color{lightgray}\\cancel{38},}\\ 39, {\\color{lightgray}\\cancel{40},}\\\\[-.75em]\n",
    "$$\n",
    "$$\n",
    "41, {\\color{lightgray}\\cancel{42},}\\ 43, {\\color{lightgray}\\cancel{44},}\\ 45, {\\color{lightgray}\\cancel{46},}\\ 47, {\\color{lightgray}\\cancel{48},}\\ 49, {\\color{lightgray}\\cancel{50},}\\ 51, {\\color{lightgray}\\cancel{52},}\\ 53, {\\color{lightgray}\\cancel{54},}\\ 55, {\\color{lightgray}\\cancel{56},}\\ 57, {\\color{lightgray}\\cancel{58},}\\ 59, {\\color{lightgray}\\cancel{60},}\\\\[-.75em]\n",
    "$$\n",
    "$$\n",
    "61, {\\color{lightgray}\\cancel{62},}\\ 63, {\\color{lightgray}\\cancel{64},}\\ 65, {\\color{lightgray}\\cancel{66},}\\ 67, {\\color{lightgray}\\cancel{68},}\\ 69, {\\color{lightgray}\\cancel{70},}\\ 71, {\\color{lightgray}\\cancel{72},}\\ 73, {\\color{lightgray}\\cancel{74},}\\ 75, {\\color{lightgray}\\cancel{76},}\\ 77, {\\color{lightgray}\\cancel{78},}\\ 79, {\\color{lightgray}\\cancel{80},}\\\\[-.75em]\n",
    "$$\n",
    "$$\n",
    "81, {\\color{lightgray}\\cancel{82},}\\ 83, {\\color{lightgray}\\cancel{84},}\\ 85, {\\color{lightgray}\\cancel{86},}\\ 87, {\\color{lightgray}\\cancel{88},}\\ 89, {\\color{lightgray}\\cancel{90},}\\ 91, {\\color{lightgray}\\cancel{92},}\\ 93, {\\color{lightgray}\\cancel{94},}\\ 95, {\\color{lightgray}\\cancel{96},}\\ 97, {\\color{lightgray}\\cancel{98},}\\ 99, {\\color{lightgray}\\cancel{100}}\n",
    "$$\n",
    "\n",
    "Repeat this process:\n",
    "$$\n",
    "\\boxed{2}, \\boxed{3}, {\\color{lightgray}\\cancel{4},}\\ 5, {\\color{lightgray}\\cancel{6},}\\ 7, {\\color{lightgray}\\cancel{8},}\\ {\\color{lightgray}\\cancel{9},}\\ {\\color{lightgray}\\cancel{10},}\\ 11, {\\color{lightgray}\\cancel{12},}\\ 13, {\\color{lightgray}\\cancel{14},}\\ {\\color{lightgray}\\cancel{15},}\\ {\\color{lightgray}\\cancel{16},}\\ 17, {\\color{lightgray}\\cancel{18},}\\ 19, {\\color{lightgray}\\cancel{20},}\\\\[-1.25em]\n",
    "$$\n",
    "$$\n",
    "{\\color{lightgray}\\cancel{21},}\\ {\\color{lightgray}\\cancel{22},}\\ 23, {\\color{lightgray}\\cancel{24},}\\ 25, {\\color{lightgray}\\cancel{26},}\\ {\\color{lightgray}\\cancel{27},}\\ {\\color{lightgray}\\cancel{28},}\\ 29, {\\color{lightgray}\\cancel{30},}\\ 31, {\\color{lightgray}\\cancel{32},}\\ {\\color{lightgray}\\cancel{33},}\\ {\\color{lightgray}\\cancel{34},}\\ 35, {\\color{lightgray}\\cancel{36},}\\ 37, {\\color{lightgray}\\cancel{38},}\\ {\\color{lightgray}\\cancel{39},}\\ {\\color{lightgray}\\cancel{40},}\\\\[-.75em]\n",
    "$$\n",
    "$$\n",
    "41, {\\color{lightgray}\\cancel{42},}\\ 43, {\\color{lightgray}\\cancel{44},}\\ {\\color{lightgray}\\cancel{45},}\\ {\\color{lightgray}\\cancel{46},}\\ 47, {\\color{lightgray}\\cancel{48},}\\ 49, {\\color{lightgray}\\cancel{50},}\\ {\\color{lightgray}\\cancel{51},}\\ {\\color{lightgray}\\cancel{52},}\\ 53, {\\color{lightgray}\\cancel{54},}\\ 55, {\\color{lightgray}\\cancel{56},}\\ {\\color{lightgray}\\cancel{57},}\\ {\\color{lightgray}\\cancel{58},}\\ 59, {\\color{lightgray}\\cancel{60},}\\\\[-.75em]\n",
    "$$\n",
    "$$\n",
    "61, {\\color{lightgray}\\cancel{62},}\\ {\\color{lightgray}\\cancel{63},}\\ {\\color{lightgray}\\cancel{64},}\\ 65, {\\color{lightgray}\\cancel{66},}\\ 67, {\\color{lightgray}\\cancel{68},}\\ {\\color{lightgray}\\cancel{69},}\\ {\\color{lightgray}\\cancel{70},}\\ 71, {\\color{lightgray}\\cancel{72},}\\ 73, {\\color{lightgray}\\cancel{74},}\\ {\\color{lightgray}\\cancel{75},}\\ {\\color{lightgray}\\cancel{76},}\\ 77, {\\color{lightgray}\\cancel{78},}\\ 79, {\\color{lightgray}\\cancel{80},}\\\\[-.75em]\n",
    "$$\n",
    "$$\n",
    "{\\color{lightgray}\\cancel{81},}\\ {\\color{lightgray}\\cancel{82},}\\ 83, {\\color{lightgray}\\cancel{84},}\\ 85, {\\color{lightgray}\\cancel{86},}\\ {\\color{lightgray}\\cancel{87},}\\ {\\color{lightgray}\\cancel{88},}\\ 89, {\\color{lightgray}\\cancel{90},}\\ 91, {\\color{lightgray}\\cancel{92},}\\ {\\color{lightgray}\\cancel{93},}\\ {\\color{lightgray}\\cancel{94},}\\ 95, {\\color{lightgray}\\cancel{96},}\\ 97, {\\color{lightgray}\\cancel{98},}\\ {\\color{lightgray}\\cancel{99},}\\ {\\color{lightgray}\\cancel{100}}\n",
    "$$\n",
    "\n",
    "$\\pagebreak$\n",
    "\n",
    "...Until all numbers in the list are either circled or crossed out:\n",
    "$$\n",
    "\\boxed{2}, \\boxed{3}, {\\color{lightgray}\\cancel{4},}\\ \\boxed{5}, {\\color{lightgray}\\cancel{6},}\\ \\boxed{7}, {\\color{lightgray}\\cancel{8},}\\ {\\color{lightgray}\\cancel{9},}\\ {\\color{lightgray}\\cancel{10},}\\ \\boxed{11}, {\\color{lightgray}\\cancel{12},}\\ \\boxed{13}, {\\color{lightgray}\\cancel{14},}\\ {\\color{lightgray}\\cancel{15},}\\ {\\color{lightgray}\\cancel{16},}\\ \\boxed{17}, {\\color{lightgray}\\cancel{18},}\\ \\boxed{19}, {\\color{lightgray}\\cancel{20},}\\\\[-1.25em]\n",
    "$$\n",
    "$$\n",
    "{\\color{lightgray}\\cancel{21},}\\ {\\color{lightgray}\\cancel{22},}\\ \\boxed{23}, {\\color{lightgray}\\cancel{24},}\\ {\\color{lightgray}\\cancel{25},}\\ {\\color{lightgray}\\cancel{26},}\\ {\\color{lightgray}\\cancel{27},}\\ {\\color{lightgray}\\cancel{28},}\\ \\boxed{29}, {\\color{lightgray}\\cancel{30},}\\ \\boxed{31}, {\\color{lightgray}\\cancel{32},}\\ {\\color{lightgray}\\cancel{33},}\\ {\\color{lightgray}\\cancel{34},}\\ {\\color{lightgray}\\cancel{35},}\\ {\\color{lightgray}\\cancel{36},}\\ \\boxed{37}, {\\color{lightgray}\\cancel{38},}\\ {\\color{lightgray}\\cancel{39},}\\ {\\color{lightgray}\\cancel{40},}\\\\[-.75em]\n",
    "$$\n",
    "$$\n",
    "\\boxed{41}, {\\color{lightgray}\\cancel{42},}\\ \\boxed{43}, {\\color{lightgray}\\cancel{44},}\\ {\\color{lightgray}\\cancel{45},}\\ {\\color{lightgray}\\cancel{46},}\\ \\boxed{47}, {\\color{lightgray}\\cancel{48},}\\ {\\color{lightgray}\\cancel{49},}\\ {\\color{lightgray}\\cancel{50},}\\ {\\color{lightgray}\\cancel{51},}\\ {\\color{lightgray}\\cancel{52},}\\ \\boxed{53}, {\\color{lightgray}\\cancel{54},}\\ {\\color{lightgray}\\cancel{55},}\\ {\\color{lightgray}\\cancel{56},}\\ {\\color{lightgray}\\cancel{57},}\\ {\\color{lightgray}\\cancel{58},}\\ \\boxed{59}, {\\color{lightgray}\\cancel{60},}\\\\[-.75em]\n",
    "$$\n",
    "$$\n",
    "\\boxed{61}, {\\color{lightgray}\\cancel{62},}\\ {\\color{lightgray}\\cancel{63},}\\ {\\color{lightgray}\\cancel{64},}\\ {\\color{lightgray}\\cancel{65},}\\ {\\color{lightgray}\\cancel{66},}\\ \\boxed{67}, {\\color{lightgray}\\cancel{68},}\\ {\\color{lightgray}\\cancel{69},}\\ {\\color{lightgray}\\cancel{70},}\\ \\boxed{71}, {\\color{lightgray}\\cancel{72},}\\ \\boxed{73}, {\\color{lightgray}\\cancel{74},}\\ {\\color{lightgray}\\cancel{75},}\\ {\\color{lightgray}\\cancel{76},}\\ {\\color{lightgray}\\cancel{77},}\\ {\\color{lightgray}\\cancel{78},}\\ \\boxed{79}, {\\color{lightgray}\\cancel{80},}\\\\[-.75em]\n",
    "$$\n",
    "$$\n",
    "{\\color{lightgray}\\cancel{81},}\\ {\\color{lightgray}\\cancel{82},}\\ \\boxed{83}, {\\color{lightgray}\\cancel{84},}\\ {\\color{lightgray}\\cancel{85},}\\ {\\color{lightgray}\\cancel{86},}\\ {\\color{lightgray}\\cancel{87},}\\ {\\color{lightgray}\\cancel{88},}\\ \\boxed{89}, {\\color{lightgray}\\cancel{90},}\\ {\\color{lightgray}\\cancel{91},}\\ {\\color{lightgray}\\cancel{92},}\\ {\\color{lightgray}\\cancel{93},}\\ {\\color{lightgray}\\cancel{94},}\\ {\\color{lightgray}\\cancel{95},}\\ {\\color{lightgray}\\cancel{96},}\\ \\boxed{97}, {\\color{lightgray}\\cancel{98},}\\ {\\color{lightgray}\\cancel{99},}\\ {\\color{lightgray}\\cancel{100}}\n",
    "$$\n",
    "\n",
    "Now, the circled numbers above are the primes between 1 and 100:\n",
    "$$2, 3, 5, 7, 11, 13, 17, 19, 23, 29, 31, 37, 41, 43, 47, 53, 59, 61, 67, 71, 73, 79, 83, 89, 97$$"
   ]
  },
  {
   "cell_type": "code",
   "execution_count": 1,
   "metadata": {
    "tags": [
     "remove_cell"
    ]
   },
   "outputs": [
    {
     "name": "stdout",
     "output_type": "stream",
     "text": [
      "\\boxed{2}, \\boxed{3}, {\\color{lightgray}\\sout{4},}\\ \\boxed{5}, {\\color{lightgray}\\sout{6},}\\ \\boxed{7}, {\\color{lightgray}\\sout{8},}\\ {\\color{lightgray}\\sout{9},}\\ {\\color{lightgray}\\sout{10},}\\ \\boxed{11}, {\\color{lightgray}\\sout{12},}\\ \\boxed{13}, {\\color{lightgray}\\sout{14},}\\ {\\color{lightgray}\\sout{15},}\\ {\\color{lightgray}\\sout{16},}\\ \\boxed{17}, {\\color{lightgray}\\sout{18},}\\ \\boxed{19}, {\\color{lightgray}\\sout{20},}\\ \\\\\n",
      "{\\color{lightgray}\\sout{21},}\\ {\\color{lightgray}\\sout{22},}\\ \\boxed{23}, {\\color{lightgray}\\sout{24},}\\ {\\color{lightgray}\\sout{25},}\\ {\\color{lightgray}\\sout{26},}\\ {\\color{lightgray}\\sout{27},}\\ {\\color{lightgray}\\sout{28},}\\ \\boxed{29}, {\\color{lightgray}\\sout{30},}\\ \\boxed{31}, {\\color{lightgray}\\sout{32},}\\ {\\color{lightgray}\\sout{33},}\\ {\\color{lightgray}\\sout{34},}\\ {\\color{lightgray}\\sout{35},}\\ {\\color{lightgray}\\sout{36},}\\ \\boxed{37}, {\\color{lightgray}\\sout{38},}\\ {\\color{lightgray}\\sout{39},}\\ {\\color{lightgray}\\sout{40},}\\ \\\\\n",
      "\\boxed{41}, {\\color{lightgray}\\sout{42},}\\ \\boxed{43}, {\\color{lightgray}\\sout{44},}\\ {\\color{lightgray}\\sout{45},}\\ {\\color{lightgray}\\sout{46},}\\ \\boxed{47}, {\\color{lightgray}\\sout{48},}\\ {\\color{lightgray}\\sout{49},}\\ {\\color{lightgray}\\sout{50},}\\ {\\color{lightgray}\\sout{51},}\\ {\\color{lightgray}\\sout{52},}\\ \\boxed{53}, {\\color{lightgray}\\sout{54},}\\ {\\color{lightgray}\\sout{55},}\\ {\\color{lightgray}\\sout{56},}\\ {\\color{lightgray}\\sout{57},}\\ {\\color{lightgray}\\sout{58},}\\ \\boxed{59}, {\\color{lightgray}\\sout{60},}\\ \\\\\n",
      "\\boxed{61}, {\\color{lightgray}\\sout{62},}\\ {\\color{lightgray}\\sout{63},}\\ {\\color{lightgray}\\sout{64},}\\ {\\color{lightgray}\\sout{65},}\\ {\\color{lightgray}\\sout{66},}\\ \\boxed{67}, {\\color{lightgray}\\sout{68},}\\ {\\color{lightgray}\\sout{69},}\\ {\\color{lightgray}\\sout{70},}\\ \\boxed{71}, {\\color{lightgray}\\sout{72},}\\ \\boxed{73}, {\\color{lightgray}\\sout{74},}\\ {\\color{lightgray}\\sout{75},}\\ {\\color{lightgray}\\sout{76},}\\ {\\color{lightgray}\\sout{77},}\\ {\\color{lightgray}\\sout{78},}\\ \\boxed{79}, {\\color{lightgray}\\sout{80},}\\ \\\\\n",
      "{\\color{lightgray}\\sout{81},}\\ {\\color{lightgray}\\sout{82},}\\ \\boxed{83}, {\\color{lightgray}\\sout{84},}\\ {\\color{lightgray}\\sout{85},}\\ {\\color{lightgray}\\sout{86},}\\ {\\color{lightgray}\\sout{87},}\\ {\\color{lightgray}\\sout{88},}\\ \\boxed{89}, {\\color{lightgray}\\sout{90},}\\ {\\color{lightgray}\\sout{91},}\\ {\\color{lightgray}\\sout{92},}\\ {\\color{lightgray}\\sout{93},}\\ {\\color{lightgray}\\sout{94},}\\ {\\color{lightgray}\\sout{95},}\\ {\\color{lightgray}\\sout{96},}\\ \\boxed{97}, {\\color{lightgray}\\sout{98},}\\ {\\color{lightgray}\\sout{99},}\\ {\\color{lightgray}\\sout{100},}\\ \\\\\n"
     ]
    }
   ],
   "source": [
    "for i in range(2,101):\n",
    "    # if i in [2]:\n",
    "    if i in [2,3,5,7,11,13,17,19,23,29,31,37,41,43,47]:\n",
    "        # print(i,', ',sep='',end='')\n",
    "        print('\\\\boxed{',i,'}, ',sep='',end='')\n",
    "    elif any(i%x==0 for x in [2,3,5,7,11,13,17,19,23,29,31,37,41,43,47]):\n",
    "        # continue\n",
    "        print('{\\\\color{lightgray}\\\\sout{',i,'},}\\\\ ',sep='',end='')\n",
    "    else:\n",
    "        # print(i,', ',sep='',end='')\n",
    "        print('\\\\boxed{',i,'}, ',sep='',end='')\n",
    "    if i%20==0:\n",
    "        print('\\\\\\\\')"
   ]
  },
  {
   "cell_type": "markdown",
   "metadata": {},
   "source": [
    "$\\pagebreak$\n",
    "\n",
    "# Exercise 2\n",
    "\n",
    "Suppose $\\sqrt{2}$ is rational and $\\sqrt{2} = \\dfrac{a}{b}$, where $a, b \\in \\mathbb{Z}^+$.\n",
    "\n",
    "By rearranging, we have $a^2 = 2b^2$.\n",
    "\n",
    "Factorize $a$ so that $a = p_1^{k_1}\\ p_2^{k_2} \\cdots p_n^{k_n}$. It follows that $a^2 = p_1^{2k_1}\\ p_2^{2k_2} \\cdots p_n^{2k_n}$, meaning that the prime factorization of $a^2$ must have an even number of 2s (or any other prime) in it.\n",
    "\n",
    "By similar logic, the prime factorization of $b^2$ must also have an even number of 2s in it.\n",
    "\n",
    "However, we said that $a^2 = 2 \\cdot b^2$, meaning that the prime factorization of $a^2$ must now have an odd number of 2s in it, which is a contradiction. Therefore, $\\sqrt{2}$ cannot be rational."
   ]
  }
 ],
 "metadata": {
  "interpreter": {
   "hash": "b3ba2566441a7c06988d0923437866b63cedc61552a5af99d1f4fb67d367b25f"
  },
  "kernelspec": {
   "display_name": "Python 3.7.4 64-bit ('base': conda)",
   "language": "python",
   "name": "python3"
  },
  "language_info": {
   "codemirror_mode": {
    "name": "ipython",
    "version": 3
   },
   "file_extension": ".py",
   "mimetype": "text/x-python",
   "name": "python",
   "nbconvert_exporter": "python",
   "pygments_lexer": "ipython3",
   "version": "3.7.4"
  },
  "orig_nbformat": 4
 },
 "nbformat": 4,
 "nbformat_minor": 2
}
