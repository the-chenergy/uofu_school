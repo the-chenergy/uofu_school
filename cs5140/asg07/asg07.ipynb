{
 "metadata": {
  "language_info": {
   "codemirror_mode": {
    "name": "ipython",
    "version": 3
   },
   "file_extension": ".py",
   "mimetype": "text/x-python",
   "name": "python",
   "nbconvert_exporter": "python",
   "pygments_lexer": "ipython3",
   "version": "3.7.4"
  },
  "orig_nbformat": 2,
  "kernelspec": {
   "name": "python374jvsc74a57bd0b3ba2566441a7c06988d0923437866b63cedc61552a5af99d1f4fb67d367b25f",
   "display_name": "Python 3.7.4 64-bit ('base': conda)"
  }
 },
 "nbformat": 4,
 "nbformat_minor": 2,
 "cells": [
  {
   "source": [
    "$\\text{}$\n",
    "\n",
    "$$\\LARGE\\text{Assignment: Dimensionality Reduction}$$\n",
    "\n",
    "$$\\large\\text{Qianlang Chen (u1172983)}$$\n",
    "\n",
    "$$\\text{CS 5140 Spring 2021}$$\n",
    "\n",
    "$\\text{}$"
   ],
   "cell_type": "markdown",
   "metadata": {}
  },
  {
   "cell_type": "code",
   "execution_count": 1,
   "metadata": {},
   "outputs": [
    {
     "output_type": "stream",
     "name": "stdout",
     "text": [
      "(3500, 20)\n"
     ]
    }
   ],
   "source": [
    "import numpy\n",
    "\n",
    "A = numpy.loadtxt('./data/A.csv', delimiter=',')\n",
    "print(A.shape)"
   ]
  },
  {
   "source": [
    "# Problem 1\n",
    "\n",
    "## Part A"
   ],
   "cell_type": "markdown",
   "metadata": {}
  },
  {
   "cell_type": "code",
   "execution_count": 2,
   "metadata": {},
   "outputs": [
    {
     "output_type": "stream",
     "name": "stdout",
     "text": [
      "k = 1: 100.00246446709691\nk = 2: 92.11139537014573\nk = 3: 87.43842799887248\nk = 4: 70.84270143876726\nk = 5: 58.89263665883072\nk = 6: 57.77458152758134\nk = 7: 25.86135552441823\nk = 8: 24.871609868369216\nk = 9: 24.395000417106157\nk = 10: 22.997273663616927\n"
     ]
    }
   ],
   "source": [
    "from scipy import linalg\n",
    "\n",
    "U, S, Vt = linalg.svd(A)\n",
    "S = numpy.identity(len(S)) * S\n",
    "\n",
    "def Ak(k):\n",
    "    Uk = U[:,:k]\n",
    "    Sk = S[:k,:k]\n",
    "    Vtk = Vt[:k,:]\n",
    "    return Uk @ Sk @ Vtk\n",
    "\n",
    "K = tuple(range(1, 11))\n",
    "for k in K:\n",
    "    print(f'k = {k}: {linalg.norm(A - Ak(k), 2)}')"
   ]
  },
  {
   "source": [
    "## Part B"
   ],
   "cell_type": "markdown",
   "metadata": {}
  },
  {
   "cell_type": "code",
   "execution_count": 3,
   "metadata": {},
   "outputs": [
    {
     "output_type": "stream",
     "name": "stdout",
     "text": [
      "10\n"
     ]
    }
   ],
   "source": [
    "norm_A = linalg.norm(A, 2)\n",
    "\n",
    "K = tuple(range(1, 21))\n",
    "for k in K:\n",
    "    if linalg.norm(A - Ak(k), 2) < .2 * norm_A:\n",
    "        print(k)\n",
    "        break"
   ]
  },
  {
   "source": [
    "## Part C"
   ],
   "cell_type": "markdown",
   "metadata": {}
  },
  {
   "cell_type": "code",
   "execution_count": 17,
   "metadata": {},
   "outputs": [
    {
     "output_type": "display_data",
     "data": {
      "text/plain": "<Figure size 432x288 with 1 Axes>",
      "image/png": "[encoded data removed]"
     },
     "metadata": {
      "needs_background": "light"
     }
    }
   ],
   "source": [
    "from matplotlib import pyplot\n",
    "from sklearn import decomposition\n",
    "\n",
    "A2 = decomposition.PCA(2).fit_transform(A)\n",
    "_ = pyplot.scatter(A2[:, 0], A2[:, 1])\n",
    "pyplot.show()"
   ]
  },
  {
   "source": [
    "I applied the PCA method from the lecture that found a subspace $B$ minimizing $\\textsf{SSE}(A, B)$. The algorithm first centered the data points and then performed SVD. I made use of an existing implementation for this method from SciKit-Learn (https://scikit-learn.org/stable/modules/generated/sklearn.decomposition.PCA.html)."
   ],
   "cell_type": "markdown",
   "metadata": {}
  },
  {
   "source": [
    "$\\pagebreak$\n",
    "\n",
    "# Problem 2\n",
    "\n",
    "## Part A\n",
    "\n",
    "* How large does $l$ need to be for the above error to be at most $||A||_F^2 / 20$?"
   ],
   "cell_type": "markdown",
   "metadata": {}
  },
  {
   "cell_type": "code",
   "execution_count": 5,
   "metadata": {},
   "outputs": [
    {
     "output_type": "stream",
     "name": "stdout",
     "text": [
      "7\n"
     ]
    }
   ],
   "source": [
    "from lib import FD\n",
    "\n",
    "def find_min_l(A, err_bound):\n",
    "    n, d = A.shape\n",
    "    for l in range(1, n // 2):\n",
    "        B = FD.freq_dir(A, l)\n",
    "        err = linalg.norm(A.T @ A - B.T @ B)\n",
    "        if err <= err_bound:\n",
    "            return l, err\n",
    "\n",
    "l, err = find_min_l(A, linalg.norm(A)**2 / 20)\n",
    "print(l)"
   ]
  },
  {
   "source": [
    "* How does this compare to the theoretical bound (e.g. for $k = 0$)?"
   ],
   "cell_type": "markdown",
   "metadata": {}
  },
  {
   "cell_type": "code",
   "execution_count": 6,
   "metadata": {},
   "outputs": [
    {
     "output_type": "stream",
     "name": "stdout",
     "text": [
      "||Ax||^2 - ||Bx||^2:\t\t\t\t2467.226247591852\n||A - Ak||_F^2 / (l - k) [with l = 7, k = 0]:\t8075.627550160504\n"
     ]
    }
   ],
   "source": [
    "k = 0\n",
    "print(f'||Ax||^2 - ||Bx||^2:\\t\\t\\t\\t{err}')\n",
    "print(f'||A - Ak||_F^2 / (l - k) [with l = {l}, k = {k}]:'\n",
    "      f'\\t{linalg.norm(A - Ak(k))**2 / (l - k)}')"
   ]
  },
  {
   "source": [
    "* How large does $l$ need to be for the above error to be at most $||A - A_k||_F^2 / 20$ (for $k = 2$)?"
   ],
   "cell_type": "markdown",
   "metadata": {}
  },
  {
   "source": [
    "k = 2\n",
    "l, err = find_min_l(A, linalg.norm(A - Ak(k))**2 / 20)\n",
    "print(l)"
   ],
   "cell_type": "code",
   "metadata": {},
   "execution_count": 14,
   "outputs": [
    {
     "output_type": "stream",
     "name": "stdout",
     "text": [
      "9\n"
     ]
    }
   ]
  },
  {
   "source": [
    "<!-- $\\pagebreak$ -->\n",
    "\n",
    "# Appendix\n",
    "\n",
    "### `lib/FD.py`"
   ],
   "cell_type": "markdown",
   "metadata": {}
  },
  {
   "cell_type": "code",
   "execution_count": 15,
   "metadata": {},
   "outputs": [],
   "source": [
    "import numpy\n",
    "from scipy import linalg\n",
    "\n",
    "def freq_dir(A, l):\n",
    "    n, d = A.shape\n",
    "    B = numpy.zeros((2 * l, d))\n",
    "    zero_index = 0\n",
    "    for i in range(n):\n",
    "        B[zero_index] = A[i]\n",
    "        zero_index += 1\n",
    "        if zero_index == 2 * l: # full\n",
    "            U, S, Vt = linalg.svd(B)\n",
    "            delta = S[-1]**2\n",
    "            S_prime = numpy.zeros((2 * l, d))\n",
    "            numpy.fill_diagonal(S_prime,\n",
    "                                [(sigma**2 - delta)**.5 for sigma in S])\n",
    "            B = S_prime @ Vt\n",
    "            for zero_index in range(2 * l):\n",
    "                if not B[zero_index].any(): break # the first empty row\n",
    "    return B"
   ]
  }
 ]
}