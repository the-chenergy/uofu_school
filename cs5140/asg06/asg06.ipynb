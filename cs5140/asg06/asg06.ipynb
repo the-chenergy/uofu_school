{
 "metadata": {
  "language_info": {
   "codemirror_mode": {
    "name": "ipython",
    "version": 3
   },
   "file_extension": ".py",
   "mimetype": "text/x-python",
   "name": "python",
   "nbconvert_exporter": "python",
   "pygments_lexer": "ipython3",
   "version": "3.7.4-final"
  },
  "orig_nbformat": 2,
  "kernelspec": {
   "name": "python3",
   "display_name": "Python 3",
   "language": "python"
  }
 },
 "nbformat": 4,
 "nbformat_minor": 2,
 "cells": [
  {
   "source": [
    "$\\text{}$\n",
    "\n",
    "$$\\LARGE\\text{Assignment: Regression}$$\n",
    "\n",
    "$$\\large\\text{Qianlang Chen (u1172983)}$$\n",
    "\n",
    "$$\\text{CS 5140 Spring 2021}$$\n",
    "\n",
    "$\\text{}$"
   ],
   "cell_type": "markdown",
   "metadata": {}
  },
  {
   "cell_type": "code",
   "execution_count": 1,
   "metadata": {},
   "outputs": [
    {
     "output_type": "stream",
     "name": "stdout",
     "text": [
      "(100, 50) (100,) (50, 20) (50,)\n"
     ]
    }
   ],
   "source": [
    "import numpy\n",
    "\n",
    "X = numpy.loadtxt('./data/X.csv', delimiter=',')\n",
    "y = numpy.loadtxt('./data/y.csv', delimiter=',')\n",
    "M = numpy.loadtxt('./data/M.csv', delimiter=',')\n",
    "W = numpy.loadtxt('./data/W.csv', delimiter=',')\n",
    "print(X.shape, y.shape, M.shape, W.shape)"
   ]
  },
  {
   "source": [
    "# Problem 1\n",
    "\n",
    "## Part A"
   ],
   "cell_type": "markdown",
   "metadata": {}
  },
  {
   "cell_type": "code",
   "execution_count": 2,
   "metadata": {},
   "outputs": [],
   "source": [
    "from numpy import linalg\n",
    "\n",
    "def least_squares(X, y): return linalg.inv(X.T @ X) @ X.T @ y.T\n",
    "\n",
    "def ridge(X, y, s):\n",
    "    return (linalg.inv(X.T @ X + s * numpy.identity(X.shape[1]))\n",
    "            @ X.T @ y.T)\n",
    "\n",
    "def sse(X, y, alpha): return linalg.norm(y.T - X @ alpha, 2)"
   ]
  },
  {
   "source": [
    "#### Using Least Squares:"
   ],
   "cell_type": "markdown",
   "metadata": {}
  },
  {
   "cell_type": "code",
   "execution_count": 3,
   "metadata": {},
   "outputs": [
    {
     "output_type": "stream",
     "name": "stdout",
     "text": [
      "Error: 3.452257117069318\n"
     ]
    }
   ],
   "source": [
    "alpha = least_squares(X, y)\n",
    "print(f'Error: {sse(X, y, alpha)}')"
   ]
  },
  {
   "source": [
    "#### Using Ridge Regression:"
   ],
   "cell_type": "markdown",
   "metadata": {}
  },
  {
   "cell_type": "code",
   "execution_count": 4,
   "metadata": {},
   "outputs": [
    {
     "output_type": "stream",
     "name": "stdout",
     "text": [
      "Error with s = 0.1: 3.697108163766999\nError with s = 0.3: 3.9003300572591115\nError with s = 0.7: 4.198778810955157\nError with s = 0.9: 4.327017561622948\nError with s = 1.1: 4.445519765867784\nError with s = 1.3: 4.555758705764217\nError with s = 1.5: 4.658819389955557\n"
     ]
    }
   ],
   "source": [
    "S = [.1, .3, .7, .9, 1.1, 1.3, 1.5]\n",
    "for s in S:\n",
    "    alpha = ridge(X, y, s)\n",
    "    print(f'Error with s = {s}: {sse(X, y, alpha)}')"
   ]
  },
  {
   "source": [
    "## Part B"
   ],
   "cell_type": "markdown",
   "metadata": {}
  },
  {
   "cell_type": "code",
   "execution_count": 6,
   "metadata": {},
   "outputs": [],
   "source": [
    "def cross_validate(X_learn, y_learn, X_test, y_test, regression, *args):\n",
    "    alpha = regression(X_learn, y_learn, *args)\n",
    "    return sse(X_test, y_test, alpha)\n",
    "\n",
    "X1, X1_r = X[:75, :], X[75:, :]\n",
    "y1, y1_r = y[:75], y[75:]\n",
    "X2, X2_r = X[25:, :], X[:25, :]\n",
    "y2, y2_r = y[25:], y[:25]\n",
    "X3, X3_r = (numpy.vstack((X[:50, :], X[75:, :])), X[50:75, :])\n",
    "y3, y3_r = (numpy.concatenate((y[:50], y[75:])), y[50:75])\n",
    "X4, X4_r = (numpy.vstack((X[:25, :], X[50:, :])), X[25:50, :])\n",
    "y4, y4_r = (numpy.concatenate((y[:25], y[50:])), y[25:50])"
   ]
  },
  {
   "source": [
    "#### Using Least Squares:"
   ],
   "cell_type": "markdown",
   "metadata": {}
  },
  {
   "cell_type": "code",
   "execution_count": 7,
   "metadata": {},
   "outputs": [
    {
     "output_type": "stream",
     "name": "stdout",
     "text": [
      "Error of (X1, y1): 4.574549134311085\nError of (X2, y2): 3.953705254240132\nError of (X3, y3): 4.239879523801711\nError of (X4, y4): 3.9381553312790407\n"
     ]
    }
   ],
   "source": [
    "print('Error of (X1, y1):'\n",
    "      f' {cross_validate(X1, y1, X1_r, y1_r, least_squares)}')\n",
    "print('Error of (X2, y2):'\n",
    "      f' {cross_validate(X2, y2, X2_r, y2_r, least_squares)}')\n",
    "print('Error of (X3, y3):'\n",
    "      f' {cross_validate(X3, y3, X3_r, y3_r, least_squares)}')\n",
    "print('Error of (X4, y4):'\n",
    "      f' {cross_validate(X4, y4, X4_r, y4_r, least_squares)}')"
   ]
  },
  {
   "source": [
    "#### Using Ridge Regression:"
   ],
   "cell_type": "markdown",
   "metadata": {}
  },
  {
   "cell_type": "code",
   "execution_count": 10,
   "metadata": {},
   "outputs": [
    {
     "output_type": "stream",
     "name": "stdout",
     "text": [
      "With s = 0.1:\n    Error of (X1, y1): 2.9032557648579354\n    Error of (X2, y2): 2.435781393405244\n    Error of (X3, y3): 2.4562579841221472\n    Error of (X4, y4): 2.6224416883243347\n    Average error: 2.604434207677415\n\nWith s = 0.3:\n    Error of (X1, y1): 2.812360286833187\n    Error of (X2, y2): 2.4362818335730734\n    Error of (X3, y3): 2.3902049265642913\n    Error of (X4, y4): 2.3506279951743188\n    Average error: 2.497368760536218\n\nWith s = 0.7:\n    Error of (X1, y1): 2.871140069262489\n    Error of (X2, y2): 2.6205294719938363\n    Error of (X3, y3): 2.399715705029355\n    Error of (X4, y4): 2.295868919335064\n    Average error: 2.546813541405186\n\nWith s = 0.9:\n    Error of (X1, y1): 2.918800501686161\n    Error of (X2, y2): 2.7029498819203344\n    Error of (X3, y3): 2.417625648786458\n    Error of (X4, y4): 2.3251598957110566\n    Average error: 2.5911339820260024\n\nWith s = 1.1:\n    Error of (X1, y1): 2.966809395453503\n    Error of (X2, y2): 2.77732331042384\n    Error of (X3, y3): 2.438798749191682\n    Error of (X4, y4): 2.3660843057969854\n    Average error: 2.6372539402165023\n\nWith s = 1.3:\n    Error of (X1, y1): 3.0131279773121937\n    Error of (X2, y2): 2.844756655775371\n    Error of (X3, y3): 2.4616191724047525\n    Error of (X4, y4): 2.41237064332693\n    Average error: 2.682968612204812\n\nWith s = 1.5:\n    Error of (X1, y1): 3.057072486774334\n    Error of (X2, y2): 2.9062788229288645\n    Error of (X3, y3): 2.485140097765302\n    Error of (X4, y4): 2.4608297993422954\n    Average error: 2.727330301702699\n\n"
     ]
    }
   ],
   "source": [
    "for s in S:\n",
    "    print(f'With s = {s}:')\n",
    "    errors = [cross_validate(X1, y1, X1_r, y1_r, ridge, s),\n",
    "              cross_validate(X2, y2, X2_r, y2_r, ridge, s),\n",
    "              cross_validate(X3, y3, X3_r, y3_r, ridge, s),\n",
    "              cross_validate(X4, y4, X4_r, y4_r, ridge, s)]\n",
    "    print(f'    Error of (X1, y1): {errors[0]}')\n",
    "    print(f'    Error of (X2, y2): {errors[1]}')\n",
    "    print(f'    Error of (X3, y3): {errors[2]}')\n",
    "    print(f'    Error of (X4, y4): {errors[3]}')\n",
    "    print(f'    Average error: {sum(errors) / 4}')\n",
    "    print('')"
   ]
  },
  {
   "source": [
    "## Part C\n",
    "\n",
    "It looks like Ridge Regression with $s = 0.3$ worked the best out of these options (2.497 average error across the four splits).\n",
    "\n",
    "## Part D"
   ],
   "cell_type": "markdown",
   "metadata": {}
  },
  {
   "source": [
    "splits = [(X1, y1, X1_r, y1_r), (X2, y2, X2_r, y2_r),\n",
    "          (X3, y3, X3_r, y3_r), (X4, y4, X4_r, y4_r)]\n",
    "for i, split in enumerate(splits):\n",
    "    sum_errors = (cross_validate(*split, least_squares)**2\n",
    "                  / len(split[3]))\n",
    "    for s in S:\n",
    "        sum_errors += (cross_validate(*split, ridge, s)**2\n",
    "                       / len(split[3]))\n",
    "    print(f'Average error of (X{i + 1}, y{i + 1}):'\n",
    "          f' {sum_errors / (1 + len(S))}')"
   ],
   "cell_type": "code",
   "metadata": {},
   "execution_count": 21,
   "outputs": [
    {
     "output_type": "stream",
     "name": "stdout",
     "text": [
      "Average error of (X1, y1): 0.40627098126668415\nAverage error of (X2, y2): 0.3296300999101577\nAverage error of (X3, y3): 0.297548200445271\nAverage error of (X4, y4): 0.2803133639664369\n"
     ]
    }
   ]
  },
  {
   "source": [
    "The above four train/test splits are all 75/25 splits, but all those 75 items and 25 items are consecutive items from the original data array. Since there might be bias going on in the ordering of the items in the original data array (like if the data of people from the same region are grouped together), this might introduce bias to our models and ultimately influence our choice of $s$.\n",
    "\n",
    "## Part E\n",
    "\n",
    "We must assume that the ordering of the items in the original data array does not matter; otherwise, we should draw random items instead of consecutive items from the data array when doing our train/test splits in order to overcome this problem."
   ],
   "cell_type": "markdown",
   "metadata": {}
  }
 ]
}