{
 "metadata": {
  "language_info": {
   "codemirror_mode": {
    "name": "ipython",
    "version": 3
   },
   "file_extension": ".py",
   "mimetype": "text/x-python",
   "name": "python",
   "nbconvert_exporter": "python",
   "pygments_lexer": "ipython3",
   "version": "3.7.4-final"
  },
  "orig_nbformat": 2,
  "kernelspec": {
   "name": "python3",
   "display_name": "Python 3",
   "language": "python"
  }
 },
 "nbformat": 4,
 "nbformat_minor": 2,
 "cells": [
  {
   "source": [
    "$\\text{}$\n",
    "\n",
    "$$\\LARGE\\text{Assignment: Regression}$$\n",
    "\n",
    "$$\\large\\text{Qianlang Chen (u1172983)}$$\n",
    "\n",
    "$$\\text{CS 5140 Spring 2021}$$\n",
    "\n",
    "$\\text{}$"
   ],
   "cell_type": "markdown",
   "metadata": {}
  },
  {
   "cell_type": "code",
   "execution_count": 35,
   "metadata": {},
   "outputs": [
    {
     "output_type": "stream",
     "name": "stdout",
     "text": [
      "(100, 51) (100,) (50, 20) (50,)\n"
     ]
    }
   ],
   "source": [
    "import numpy\n",
    "\n",
    "X = numpy.loadtxt('./data/X.csv', delimiter=',')\n",
    "X = numpy.insert(X, 0, 1, 1) # bias column\n",
    "y = numpy.loadtxt('./data/y.csv', delimiter=',')\n",
    "M = numpy.loadtxt('./data/M.csv', delimiter=',')\n",
    "W = numpy.loadtxt('./data/W.csv', delimiter=',')\n",
    "print(X.shape, y.shape, M.shape, W.shape)"
   ]
  },
  {
   "source": [
    "# Problem 1\n",
    "\n",
    "## Part A"
   ],
   "cell_type": "markdown",
   "metadata": {}
  },
  {
   "cell_type": "code",
   "execution_count": 19,
   "metadata": {},
   "outputs": [],
   "source": [
    "from numpy import linalg\n",
    "\n",
    "def least_squares(X, y): return linalg.inv(X.T @ X) @ X.T @ y.T\n",
    "\n",
    "def ridge(X, y, s):\n",
    "    return (linalg.inv(X.T @ X + s * numpy.identity(X.shape[1]))\n",
    "            @ X.T @ y.T)\n",
    "\n",
    "def sse(X, y, alpha): return linalg.norm(y.T - X @ alpha, 2)"
   ]
  },
  {
   "source": [
    "#### Using Least Squares:"
   ],
   "cell_type": "markdown",
   "metadata": {}
  },
  {
   "cell_type": "code",
   "execution_count": 20,
   "metadata": {},
   "outputs": [
    {
     "output_type": "stream",
     "name": "stdout",
     "text": [
      "Error: 3.4048156890344536\n"
     ]
    }
   ],
   "source": [
    "alpha = least_squares(X, y)\n",
    "print(f'Error: {sse(X, y, alpha)}')"
   ]
  },
  {
   "source": [
    "#### Using Ridge Regression:"
   ],
   "cell_type": "markdown",
   "metadata": {}
  },
  {
   "cell_type": "code",
   "execution_count": 22,
   "metadata": {},
   "outputs": [
    {
     "output_type": "stream",
     "name": "stdout",
     "text": [
      "Error with s = 0.1: 3.6791753582507223\nError with s = 0.3: 3.8911188767606615\nError with s = 0.7: 4.195034819548265\nError with s = 0.9: 4.324427630424707\nError with s = 1.1: 4.4437451387072455\nError with s = 1.3: 4.5546145230060135\nError with s = 1.5: 4.658189475920739\n"
     ]
    }
   ],
   "source": [
    "S = [.1, .3, .7, .9, 1.1, 1.3, 1.5]\n",
    "for s in S:\n",
    "    alpha = ridge(X, y, s)\n",
    "    print(f'Error with s = {s}: {sse(X, y, alpha)}')"
   ]
  },
  {
   "source": [
    "## Part B"
   ],
   "cell_type": "markdown",
   "metadata": {}
  },
  {
   "cell_type": "code",
   "execution_count": 23,
   "metadata": {},
   "outputs": [],
   "source": [
    "def cross_validate(X_learn, y_learn, X_test, y_test, regression, *args):\n",
    "    alpha = regression(X_learn, y_learn, *args)\n",
    "    return sse(X_test, y_test, alpha)\n",
    "\n",
    "X1, X1_r = X[:75, :], X[75:, :]\n",
    "y1, y1_r = y[:75], y[75:]\n",
    "X2, X2_r = X[25:, :], X[:25, :]\n",
    "y2, y2_r = y[25:], y[:25]\n",
    "X3, X3_r = (numpy.vstack((X[:50, :], X[75:, :])), X[50:75, :])\n",
    "y3, y3_r = (numpy.concatenate((y[:50], y[75:])), y[50:75])\n",
    "X4, X4_r = (numpy.vstack((X[:25, :], X[50:, :])), X[25:50, :])\n",
    "y4, y4_r = (numpy.concatenate((y[:25], y[50:])), y[25:50])"
   ]
  },
  {
   "source": [
    "#### Using Least Squares:"
   ],
   "cell_type": "markdown",
   "metadata": {}
  },
  {
   "cell_type": "code",
   "execution_count": 25,
   "metadata": {},
   "outputs": [
    {
     "output_type": "stream",
     "name": "stdout",
     "text": [
      "Error of (X1, y1): 4.392775779197778\nError of (X2, y2): 3.890628108757094\nError of (X3, y3): 4.720398268070038\nError of (X4, y4): 3.9928547236443577\n"
     ]
    }
   ],
   "source": [
    "print('Error of (X1, y1):'\n",
    "      f' {cross_validate(X1, y1, X1_r, y1_r, least_squares)}')\n",
    "print('Error of (X2, y2):'\n",
    "      f' {cross_validate(X2, y2, X2_r, y2_r, least_squares)}')\n",
    "print('Error of (X3, y3):'\n",
    "      f' {cross_validate(X3, y3, X3_r, y3_r, least_squares)}')\n",
    "print('Error of (X4, y4):'\n",
    "      f' {cross_validate(X4, y4, X4_r, y4_r, least_squares)}')"
   ]
  },
  {
   "source": [
    "#### Using Ridge Regression:"
   ],
   "cell_type": "markdown",
   "metadata": {}
  },
  {
   "cell_type": "code",
   "execution_count": 26,
   "metadata": {},
   "outputs": [
    {
     "output_type": "stream",
     "name": "stdout",
     "text": [
      "With s = 0.1:\n    Error of (X1, y1): 2.9000624224225615\n    Error of (X2, y2): 2.493745256464902\n    Error of (X3, y3): 2.4792813042683335\n    Error of (X4, y4): 2.625256751154926\n    Average error: 2.6245864335776807\n\nWith s = 0.3:\n    Error of (X1, y1): 2.8136316065046736\n    Error of (X2, y2): 2.5221424744252476\n    Error of (X3, y3): 2.4031595700892763\n    Error of (X4, y4): 2.3551174550365452\n    Average error: 2.5235127765139356\n\nWith s = 0.7:\n    Error of (X1, y1): 2.8975928884921665\n    Error of (X2, y2): 2.7235132577998176\n    Error of (X3, y3): 2.4160840494727975\n    Error of (X4, y4): 2.2935422285125395\n    Average error: 2.58268310606933\n\nWith s = 0.9:\n    Error of (X1, y1): 2.9508290919838958\n    Error of (X2, y2): 2.809243893764796\n    Error of (X3, y3): 2.4363274010665723\n    Error of (X4, y4): 2.3216825487186394\n    Average error: 2.6295207338834756\n\nWith s = 1.1:\n    Error of (X1, y1): 3.0016856215061782\n    Error of (X2, y2): 2.8853852851914032\n    Error of (X3, y3): 2.459779255858018\n    Error of (X4, y4): 2.362213424088662\n    Average error: 2.677265896661065\n\nWith s = 1.3:\n    Error of (X1, y1): 3.04917198231318\n    Error of (X2, y2): 2.9536260732791892\n    Error of (X3, y3): 2.4847443379924483\n    Error of (X4, y4): 2.408480564274436\n    Average error: 2.7240057394648134\n\nWith s = 1.5:\n    Error of (X1, y1): 3.0932472496061285\n    Error of (X2, y2): 3.015333368465654\n    Error of (X3, y3): 2.510243429133295\n    Error of (X4, y4): 2.4570836242035345\n    Average error: 2.768976917852153\n\n"
     ]
    }
   ],
   "source": [
    "for s in S:\n",
    "    print(f'With s = {s}:')\n",
    "    errors = [cross_validate(X1, y1, X1_r, y1_r, ridge, s),\n",
    "              cross_validate(X2, y2, X2_r, y2_r, ridge, s),\n",
    "              cross_validate(X3, y3, X3_r, y3_r, ridge, s),\n",
    "              cross_validate(X4, y4, X4_r, y4_r, ridge, s)]\n",
    "    print(f'    Error of (X1, y1): {errors[0]}')\n",
    "    print(f'    Error of (X2, y2): {errors[1]}')\n",
    "    print(f'    Error of (X3, y3): {errors[2]}')\n",
    "    print(f'    Error of (X4, y4): {errors[3]}')\n",
    "    print(f'    Average error: {sum(errors) / 4}')\n",
    "    print('')"
   ]
  },
  {
   "source": [
    "## Part C\n",
    "\n",
    "It looks like Ridge Regression with $s = 0.3$ worked the best out of these options (2.523 average error across the four splits).\n",
    "\n",
    "## Part D\n",
    "\n",
    "<!-- Try not to rant...-->\n",
    "(Note: the assignment instruction was unclear on whether I should average the test errors from *Part B* or the squared errors -- the errors from *Part B* squared. Nor was it clear on whether to report the average errors separately for each Ridge's $s$-value or combine them. So, I reported all the average errors under different interpretations.)\n"
   ],
   "cell_type": "markdown",
   "metadata": {}
  },
  {
   "source": [
    "splits = [(X1, y1, X1_r, y1_r), (X2, y2, X2_r, y2_r),\n",
    "          (X3, y3, X3_r, y3_r), (X4, y4, X4_r, y4_r)]\n",
    "for i, split in enumerate(splits):\n",
    "    n_test = len(split[3])\n",
    "    print(f'Average error of (X{i + 1}, y{i + 1}):')\n",
    "    err = cross_validate(*split, least_squares)\n",
    "    print(f'    Least Squares: {err / n_test}\\n'\n",
    "          f'    Least Squares (SSE): {err**2 / n_test}')\n",
    "    sum_errs = sum_sse = 0\n",
    "    for s in S:\n",
    "        err = cross_validate(*split, ridge, s)\n",
    "        sum_errs += err\n",
    "        sum_sse += err**2\n",
    "        print(f'    Ridge with s = {s}: {err / n_test}\\n'\n",
    "              f'    Ridge with s = {s} (SSE): {err**2 / n_test}')\n",
    "    print(f'    Ridge average: {sum_errs / len(S) / n_test}\\n'\n",
    "          f'    Ridge average (SSE): {sum_sse / len(S) / n_test}')\n",
    "    print('')"
   ],
   "cell_type": "code",
   "metadata": {},
   "execution_count": 34,
   "outputs": [
    {
     "output_type": "stream",
     "name": "stdout",
     "text": [
      "Average error of (X1, y1):\n    Least Squares: 0.17571103116791112\n    Least Squares (SSE): 0.7718591618522658)\n    Ridge with s = 0.1: 0.11600249689690247\n    Ridge with s = 0.1 (SSE): 0.33641448215789665\n    Ridge with s = 0.3: 0.11254526426018695\n    Ridge with s = 0.3 (SSE): 0.3166609126848828\n    Ridge with s = 0.7: 0.11590371553968666\n    Ridge with s = 0.7 (SSE): 0.3358417818976151\n    Ridge with s = 0.9: 0.11803316367935583\n    Ridge with s = 0.9 (SSE): 0.34829569320394005\n    Ridge with s = 1.1: 0.12006742486024713\n    Ridge with s = 1.1 (SSE): 0.36040466281427724\n    Ridge with s = 1.3: 0.1219668792925272\n    Ridge with s = 1.3 (SSE): 0.37189799110894756\n    Ridge with s = 1.5: 0.12372988998424514\n    Ridge with s = 1.5 (SSE): 0.3827271418878352\n    Ridge average: 0.11832126207330734\n    Ridge average (SSE): 0.3503203808221992\n\nAverage error of (X2, y2):\n    Least Squares: 0.15562512435028375\n    Least Squares (SSE): 0.6054794832260321)\n    Ridge with s = 0.1: 0.09974981025859607\n    Ridge with s = 0.1 (SSE): 0.24875061616564798\n    Ridge with s = 0.3: 0.1008856989770099\n    Ridge with s = 0.3 (SSE): 0.25444810645199645\n    Ridge with s = 0.7: 0.1089405303119927\n    Ridge with s = 0.7 (SSE): 0.296700978616455\n    Ridge with s = 0.9: 0.11236975575059184\n    Ridge with s = 0.9 (SSE): 0.31567405018619166\n    Ridge with s = 1.1: 0.11541541140765613\n    Ridge with s = 1.1 (SSE): 0.33301792975996297\n    Ridge with s = 1.3: 0.11814504293116757\n    Ridge with s = 1.3 (SSE): 0.34895627923018574\n    Ridge with s = 1.5: 0.12061333473862616\n    Ridge with s = 1.5 (SSE): 0.3636894129192971\n    Ridge average: 0.1108742263393772\n    Ridge average (SSE): 0.3087481961899624\n\nAverage error of (X3, y3):\n    Least Squares: 0.1888159307228015\n    Least Squares (SSE): 0.8912863923679444)\n    Ridge with s = 0.1: 0.09917125217073335\n    Ridge with s = 0.1 (SSE): 0.24587343142777954\n    Ridge with s = 0.3: 0.09612638280357105\n    Ridge with s = 0.3 (SSE): 0.23100703677246698\n    Ridge with s = 0.7: 0.09664336197891191\n    Ridge with s = 0.7 (SSE): 0.23349848536467488\n    Ridge with s = 0.9: 0.09745309604266289\n    Ridge with s = 0.9 (SSE): 0.23742764820751194\n    Ridge with s = 1.1: 0.09839117023432072\n    Ridge with s = 1.1 (SSE): 0.24202055950197698\n    Ridge with s = 1.3: 0.09938977351969794\n    Ridge with s = 1.3 (SSE): 0.24695817700742123\n    Ridge with s = 1.5: 0.1004097371653318\n    Ridge with s = 1.5 (SSE): 0.2520528829402754\n    Ridge average: 0.09822639627360426\n    Ridge average (SSE): 0.24126260303172956\n\nAverage error of (X4, y4):\n    Least Squares: 0.1597141889457743\n    Least Squares (SSE): 0.6377155537651624)\n    Ridge with s = 0.1: 0.10501027004619705\n    Ridge with s = 0.1 (SSE): 0.2756789203793807\n    Ridge with s = 0.3: 0.09420469820146181\n    Ridge with s = 0.3 (SSE): 0.22186312908071254\n    Ridge with s = 0.7: 0.09174168914050158\n    Ridge with s = 0.7 (SSE): 0.21041343815881064\n    Ridge with s = 0.9: 0.09286730194874558\n    Ridge with s = 0.9 (SSE): 0.2156083942809871\n    Ridge with s = 1.1: 0.09448853696354648\n    Ridge with s = 1.1 (SSE): 0.22320209043778724\n    Ridge with s = 1.3: 0.09633922257097743\n    Ridge with s = 1.3 (SSE): 0.23203114513950823\n    Ridge with s = 1.5: 0.09828334496814138\n    Ridge with s = 1.5 (SSE): 0.24149039745316705\n    Ridge average: 0.09613358054851019\n    Ridge average (SSE): 0.23146964499005054\n\n"
     ]
    }
   ]
  },
  {
   "source": [
    "The above four train/test splits are all 75/25 splits, but all those 75 items and 25 items are consecutive items from the original data array. Since there might be bias going on in the ordering of the items in the original data array (like if the data of people from the same region are grouped together), this might introduce bias to our models and ultimately influence our choice of $s$.\n",
    "\n",
    "## Part E\n",
    "\n",
    "We must assume that the ordering of the items in the original data array does not matter; otherwise, we should draw random items instead of consecutive items from the data array when doing our train/test splits in order to overcome this problem."
   ],
   "cell_type": "markdown",
   "metadata": {}
  }
 ]
}