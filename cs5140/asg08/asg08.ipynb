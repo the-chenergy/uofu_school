{
 "metadata": {
  "language_info": {
   "codemirror_mode": {
    "name": "ipython",
    "version": 3
   },
   "file_extension": ".py",
   "mimetype": "text/x-python",
   "name": "python",
   "nbconvert_exporter": "python",
   "pygments_lexer": "ipython3",
   "version": "3.7.4"
  },
  "orig_nbformat": 2,
  "kernelspec": {
   "name": "python374jvsc74a57bd0b3ba2566441a7c06988d0923437866b63cedc61552a5af99d1f4fb67d367b25f",
   "display_name": "Python 3.7.4 64-bit (conda)"
  }
 },
 "nbformat": 4,
 "nbformat_minor": 2,
 "cells": [
  {
   "source": [
    "$\\text{}$\n",
    "\n",
    "$$\\LARGE\\text{Assignment: Graphs}$$\n",
    "\n",
    "$$\\large\\text{Qianlang Chen (u1172983)}$$\n",
    "\n",
    "$$\\text{CS 5140 Spring 2021}$$\n",
    "\n",
    "$\\text{}$"
   ],
   "cell_type": "markdown",
   "metadata": {}
  },
  {
   "source": [
    "# Problem 1"
   ],
   "cell_type": "markdown",
   "metadata": {}
  },
  {
   "cell_type": "code",
   "execution_count": 134,
   "metadata": {},
   "outputs": [],
   "source": [
    "import numpy\n",
    "from numpy import random\n",
    "from scipy import linalg\n",
    "\n",
    "M = numpy.loadtxt('./data/M.csv', delimiter=',')\n",
    "n = M.shape[0]\n",
    "\n",
    "def normalize(A): return A / linalg.norm(A, 1)\n",
    "\n",
    "def matrix_power(M, t, q0):\n",
    "    Mi = M\n",
    "    for _ in range(t - 1): Mi = Mi @ M\n",
    "    return Mi @ q0\n",
    "\n",
    "def state_propagation(M, t, q0):\n",
    "    qi = q0\n",
    "    for _ in range(t): qi = M @ qi\n",
    "    return qi\n",
    "\n",
    "def random_walk(M, t0, t, q0):\n",
    "    random.seed(0)\n",
    "    i = q0.argmax() # index of the entry with a one\n",
    "    for _ in range(t0):\n",
    "        i = random.choice(range(len(q0)), p=normalize(M[:, i]))\n",
    "    qs = numpy.zeros(len(q0)) # q-star\n",
    "    for _ in range(t):\n",
    "        i = random.choice(range(len(q0)), p=normalize(M[:, i]))\n",
    "        qs[i] += 1\n",
    "    return normalize(qs)\n",
    "\n",
    "def eigen_analysis(M):\n",
    "    eigvalues, eigvectors = linalg.eig(M)\n",
    "    return abs(normalize(eigvectors[:, 0]))"
   ]
  },
  {
   "source": [
    "$\\pagebreak$\n",
    "\n",
    "## Part A"
   ],
   "cell_type": "markdown",
   "metadata": {}
  },
  {
   "cell_type": "code",
   "execution_count": 139,
   "metadata": {},
   "outputs": [
    {
     "output_type": "stream",
     "name": "stdout",
     "text": [
      "Matrix Power:\n[0.0483 0.0176 0.0414 0.0666 0.0586 0.1465 0.2350 0.0590 0.0562 0.2708]\n\nState Propagation:\n[0.0483 0.0176 0.0414 0.0666 0.0586 0.1465 0.2350 0.0590 0.0562 0.2708]\n\nRandom Walk:\n[0.0430 0.0146 0.0449 0.0718 0.0576 0.1455 0.2344 0.0557 0.0527 0.2798]\n\nEigen Analysis:\n[0.0483 0.0176 0.0414 0.0666 0.0586 0.1465 0.2350 0.0590 0.0562 0.2708]\n"
     ]
    }
   ],
   "source": [
    "t = 2048\n",
    "t0 = 100\n",
    "q0 = numpy.array([1] + [0] * (n - 1)) # q0 = [1, 0, ...]\n",
    "numpy.set_printoptions(formatter={'float': '{:.4f}'.format})\n",
    "print('Matrix Power:')\n",
    "print(matrix_power(M, t, q0))\n",
    "print('\\nState Propagation:')\n",
    "print(state_propagation(M, t, q0))\n",
    "print('\\nRandom Walk:')\n",
    "print(random_walk(M, t0, t, q0))\n",
    "print('\\nEigen Analysis:')\n",
    "print(eigen_analysis(M))"
   ]
  },
  {
   "source": [
    "$\\pagebreak$\n",
    "\n",
    "## Part B"
   ],
   "cell_type": "markdown",
   "metadata": {}
  },
  {
   "cell_type": "code",
   "execution_count": 140,
   "metadata": {},
   "outputs": [
    {
     "output_type": "stream",
     "name": "stdout",
     "text": [
      "t = 69 worked best for Matrix Power:\n",
      "[0.0483 0.0176 0.0414 0.0666 0.0586 0.1465 0.2350 0.0590 0.0562 0.2708]\n",
      "\n",
      "t = 71 worked best for State Propagation:\n",
      "[0.0483 0.0176 0.0414 0.0666 0.0586 0.1465 0.2350 0.0590 0.0562 0.2708]\n"
     ]
    }
   ],
   "source": [
    "def find_closest(technique, M, t_range, q0, target_ans):\n",
    "    min_err = float('inf')\n",
    "    for t in t_range:\n",
    "        ans = technique(M, t, q0)\n",
    "        err = linalg.norm(ans - target_ans)\n",
    "        if err < min_err:\n",
    "            min_err = err\n",
    "            best_t = t\n",
    "            best_ans = ans\n",
    "    return best_t, best_ans\n",
    "\n",
    "q0 = numpy.array([1] + [0] * (n - 1)) # q0 = [1, 0, ...]\n",
    "t = 2048\n",
    "matrix_power_ans = matrix_power(M, t, q0)\n",
    "state_propagation_ans = state_propagation(M, t, q0)\n",
    "\n",
    "q0 = numpy.array([.1] * n) # q0 = [.1, .1, ...]\n",
    "best_t, best_ans = find_closest(matrix_power, M, range(2049), q0,\n",
    "                                matrix_power_ans)\n",
    "print(f't = {best_t:,} worked best for Matrix Power:')\n",
    "print(best_ans)\n",
    "\n",
    "best_t, best_ans = find_closest(state_propagation, M, range(2049), q0,\n",
    "                                state_propagation_ans)\n",
    "print(f'\\nt = {best_t:,} worked best for State Propagation:')\n",
    "print(best_ans)"
   ]
  },
  {
   "source": [
    "$\\pagebreak$\n",
    "\n",
    "## Part C\n",
    "\n",
    "### Matrix Power\n",
    "\n",
    "* **Pro:** it only has to perform $O(\\log t)$ matrix multiplications, which is useful when $M$ is small, or when we have multiple queries of start state ($q_0$) because we can pre-calculate $M^t$ only once.\n",
    "\n",
    "* **Con:** matrix multiplication takes $O(n^3)$ for an $n \\times n$ matrix, which makes it a bad option when $n > t$. In that case, one should use State Propagation instead, which has $O(n^2 \\cdot t)$ running time.\n",
    "\n",
    "### State Propagation\n",
    "\n",
    "* **Pro:** multiplying a matrix by a vector takes $O(n^2)$, which makes it a good option when $n$ is small.\n",
    "\n",
    "* **Con:** if we had many queries of start state ($q_0$), we would have no other option but to run this algorithm many times. When the number of queries is big ($> n$), we should consider using Matrix Power to compute $M^t$ and cache it.\n",
    "\n",
    "### Random Walk\n",
    "\n",
    "* **Pro:** taking a step (generating a random next step) only takes $O(n)$, which makes it very efficient when the matrix is big.\n",
    "\n",
    "* **Con:** it only supports start states with a one in one entry and zeros in the rest. When we have start states not in that scheme, we should use Matrix Power or State Propagation instead, and the choice between the two depends on $n$ and $t$.\n",
    "\n",
    "### Eigen-Analysis\n",
    "\n",
    "* **Pro:** it directly calculates the theoretical value for $q*$ (when $M$ is ergodic), which makes it the best choice when we want to know $q*$ precisely.\n",
    "\n",
    "* **Con:** `linalg.eig` runs in $O(n^3)$. When the matrix is big, we should consider using State Propagation to get an approximation for $q*$ with less running time."
   ],
   "cell_type": "markdown",
   "metadata": {}
  },
  {
   "source": [
    "$\\pagebreak$\n",
    "\n",
    "## Part D"
   ],
   "cell_type": "markdown",
   "metadata": {}
  },
  {
   "cell_type": "code",
   "execution_count": 131,
   "metadata": {},
   "outputs": [
    {
     "output_type": "stream",
     "name": "stdout",
     "text": [
      "M**6:\n[[0.0372 0.0486 0.0462 0.0477 0.0472 0.0481 0.0437 0.0429 0.0513 0.0557]\n [0.0110 0.0131 0.0122 0.0206 0.0129 0.0213 0.0132 0.0169 0.0204 0.0215]\n [0.0347 0.0365 0.0338 0.0449 0.0353 0.0448 0.0370 0.0396 0.0442 0.0462]\n [0.0703 0.0625 0.0690 0.0571 0.0649 0.0631 0.0776 0.0532 0.0556 0.0662]\n [0.0651 0.0579 0.0507 0.0673 0.0494 0.0568 0.0566 0.0684 0.0647 0.0578]\n [0.1537 0.1543 0.1555 0.1567 0.1472 0.1367 0.1439 0.1649 0.1519 0.1431]\n [0.2514 0.2547 0.2434 0.2448 0.2567 0.2370 0.2301 0.2572 0.2381 0.2201]\n [0.0426 0.0496 0.0574 0.0545 0.0508 0.0588 0.0573 0.0467 0.0590 0.0700]\n [0.0562 0.0500 0.0611 0.0411 0.0547 0.0549 0.0665 0.0413 0.0481 0.0564]\n [0.2778 0.2729 0.2708 0.2654 0.2809 0.2785 0.2740 0.2689 0.2665 0.2629]]\nAll entries > 0: True\n\nM**7:\n[[0.0460 0.0474 0.0446 0.0514 0.0469 0.0506 0.0452 0.0495 0.0503 0.0497]\n [0.0195 0.0174 0.0152 0.0202 0.0148 0.0170 0.0170 0.0205 0.0194 0.0173]\n [0.0427 0.0404 0.0393 0.0441 0.0376 0.0405 0.0407 0.0445 0.0435 0.0416]\n [0.0592 0.0602 0.0687 0.0594 0.0620 0.0650 0.0696 0.0564 0.0640 0.0719]\n [0.0615 0.0617 0.0622 0.0627 0.0589 0.0547 0.0576 0.0660 0.0608 0.0572]\n [0.1480 0.1565 0.1494 0.1510 0.1567 0.1473 0.1413 0.1543 0.1499 0.1435]\n [0.2451 0.2433 0.2389 0.2347 0.2486 0.2396 0.2357 0.2415 0.2333 0.2251]\n [0.0540 0.0558 0.0536 0.0610 0.0531 0.0595 0.0566 0.0568 0.0613 0.0636]\n [0.0494 0.0498 0.0563 0.0501 0.0514 0.0547 0.0597 0.0446 0.0518 0.0615]\n [0.2747 0.2675 0.2718 0.2655 0.2701 0.2711 0.2766 0.2660 0.2658 0.2684]]\nAll entries > 0: True\n"
     ]
    }
   ],
   "source": [
    "# Compute M**t for t = {6, 7}\n",
    "Mi = M\n",
    "for _ in range(5): Mi = Mi @ M\n",
    "print('M**6:')\n",
    "print(Mi)\n",
    "print('All entries > 0:', all(all(x) for x in Mi))\n",
    "Mi = Mi @ M\n",
    "print('\\nM**7:')\n",
    "print(Mi)\n",
    "print('All entries > 0:', all(all(x) for x in Mi))"
   ]
  },
  {
   "source": [
    "According to [*this document* (https://www.cs.princeton.edu/courses/archive/fall05/cos521/markov.pdf)](https://www.cs.princeton.edu/courses/archive/fall05/cos521/markov.pdf), a Markov Chain is ergodic if its transition matrix $M$ satisfies two conditions, connectivity and aperiodicity. Now, our matrix $M$ satisfies both conditions because\n",
    "\n",
    "* It is connected: $M^t(i, j) > 0\\ \\forall i, j\\text{ when }t = 6$, and\n",
    "\n",
    "* It is aperiodic: $\\gcd\\{t : M^t(i, j) > 0\\ \\forall j\\} = 1\\ \\forall i$ because all entries in $M^6$ and $M^7$ are positive as well as 6 and 7 are coprimes.\n",
    "\n",
    "Therefore, the Markov Chain represented by $M$ is ergodic."
   ],
   "cell_type": "markdown",
   "metadata": {}
  },
  {
   "source": [
    "$\\pagebreak$\n",
    "\n",
    "## Part E"
   ],
   "cell_type": "markdown",
   "metadata": {}
  },
  {
   "cell_type": "code",
   "execution_count": 136,
   "metadata": {},
   "outputs": [
    {
     "output_type": "stream",
     "name": "stdout",
     "text": [
      "Node 0 cannot be reached from node 5 in one step\nNode 1 cannot be reached from node 5 in one step\nNode 2 can be reached from node 5 in one step with probability 10.0%\nNode 3 can be reached from node 5 in one step with probability 10.0%\nNode 4 can be reached from node 5 in one step with probability 40.0%\nNode 5 cannot be reached from node 5 in one step\nNode 6 cannot be reached from node 5 in one step\nNode 7 cannot be reached from node 5 in one step\nNode 8 cannot be reached from node 5 in one step\nNode 9 can be reached from node 5 in one step with probability 40.0%\n"
     ]
    }
   ],
   "source": [
    "for i in range(n):\n",
    "    if M[i, 5]:\n",
    "        print(f'Node {i} can be reached from node 5 in one step with'\n",
    "              f' probability {M[i, 5]:.1%}')\n",
    "    else:\n",
    "        print(f'Node {i} cannot be reached from node 5 in one step')"
   ]
  }
 ]
}